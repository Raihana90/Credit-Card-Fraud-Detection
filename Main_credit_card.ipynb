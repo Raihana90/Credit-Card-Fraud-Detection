{
 "cells": [
  {
   "cell_type": "markdown",
   "metadata": {},
   "source": [
    "# About the dataset"
   ]
  },
  {
   "cell_type": "code",
   "execution_count": 1,
   "metadata": {},
   "outputs": [],
   "source": [
    "import pandas as pd\n",
    "import numpy as np\n",
    "import seaborn as sns\n",
    "import matplotlib.pyplot as plt\n",
    "sns.set_style(\"whitegrid\")"
   ]
  },
  {
   "cell_type": "code",
   "execution_count": 2,
   "metadata": {},
   "outputs": [
    {
     "name": "stdout",
     "output_type": "stream",
     "text": [
      "There are 284807 observations in the data set.\n",
      "The columns are Index(['Time', 'V1', 'V2', 'V3', 'V4', 'V5', 'V6', 'V7', 'V8', 'V9', 'V10',\n",
      "       'V11', 'V12', 'V13', 'V14', 'V15', 'V16', 'V17', 'V18', 'V19', 'V20',\n",
      "       'V21', 'V22', 'V23', 'V24', 'V25', 'V26', 'V27', 'V28', 'Amount',\n",
      "       'Class'],\n",
      "      dtype='object')\n"
     ]
    }
   ],
   "source": [
    "#read the database\n",
    "df=pd.read_csv(\"creditcard.csv\")\n",
    "#information about the database\n",
    "print(\"There are\", len(df), \"observations in the data set.\")\n",
    "print(\"The columns are\", df.columns)\n"
   ]
  },
  {
   "cell_type": "code",
   "execution_count": 3,
   "metadata": {},
   "outputs": [
    {
     "data": {
      "text/html": [
       "<div>\n",
       "<style scoped>\n",
       "    .dataframe tbody tr th:only-of-type {\n",
       "        vertical-align: middle;\n",
       "    }\n",
       "\n",
       "    .dataframe tbody tr th {\n",
       "        vertical-align: top;\n",
       "    }\n",
       "\n",
       "    .dataframe thead th {\n",
       "        text-align: right;\n",
       "    }\n",
       "</style>\n",
       "<table border=\"1\" class=\"dataframe\">\n",
       "  <thead>\n",
       "    <tr style=\"text-align: right;\">\n",
       "      <th></th>\n",
       "      <th>Time</th>\n",
       "      <th>V1</th>\n",
       "      <th>V2</th>\n",
       "      <th>V3</th>\n",
       "      <th>V4</th>\n",
       "      <th>V5</th>\n",
       "      <th>V6</th>\n",
       "      <th>V7</th>\n",
       "      <th>V8</th>\n",
       "      <th>V9</th>\n",
       "      <th>...</th>\n",
       "      <th>V21</th>\n",
       "      <th>V22</th>\n",
       "      <th>V23</th>\n",
       "      <th>V24</th>\n",
       "      <th>V25</th>\n",
       "      <th>V26</th>\n",
       "      <th>V27</th>\n",
       "      <th>V28</th>\n",
       "      <th>Amount</th>\n",
       "      <th>Class</th>\n",
       "    </tr>\n",
       "  </thead>\n",
       "  <tbody>\n",
       "    <tr>\n",
       "      <th>0</th>\n",
       "      <td>0.0</td>\n",
       "      <td>-1.359807</td>\n",
       "      <td>-0.072781</td>\n",
       "      <td>2.536347</td>\n",
       "      <td>1.378155</td>\n",
       "      <td>-0.338321</td>\n",
       "      <td>0.462388</td>\n",
       "      <td>0.239599</td>\n",
       "      <td>0.098698</td>\n",
       "      <td>0.363787</td>\n",
       "      <td>...</td>\n",
       "      <td>-0.018307</td>\n",
       "      <td>0.277838</td>\n",
       "      <td>-0.110474</td>\n",
       "      <td>0.066928</td>\n",
       "      <td>0.128539</td>\n",
       "      <td>-0.189115</td>\n",
       "      <td>0.133558</td>\n",
       "      <td>-0.021053</td>\n",
       "      <td>149.62</td>\n",
       "      <td>0</td>\n",
       "    </tr>\n",
       "    <tr>\n",
       "      <th>1</th>\n",
       "      <td>0.0</td>\n",
       "      <td>1.191857</td>\n",
       "      <td>0.266151</td>\n",
       "      <td>0.166480</td>\n",
       "      <td>0.448154</td>\n",
       "      <td>0.060018</td>\n",
       "      <td>-0.082361</td>\n",
       "      <td>-0.078803</td>\n",
       "      <td>0.085102</td>\n",
       "      <td>-0.255425</td>\n",
       "      <td>...</td>\n",
       "      <td>-0.225775</td>\n",
       "      <td>-0.638672</td>\n",
       "      <td>0.101288</td>\n",
       "      <td>-0.339846</td>\n",
       "      <td>0.167170</td>\n",
       "      <td>0.125895</td>\n",
       "      <td>-0.008983</td>\n",
       "      <td>0.014724</td>\n",
       "      <td>2.69</td>\n",
       "      <td>0</td>\n",
       "    </tr>\n",
       "    <tr>\n",
       "      <th>2</th>\n",
       "      <td>1.0</td>\n",
       "      <td>-1.358354</td>\n",
       "      <td>-1.340163</td>\n",
       "      <td>1.773209</td>\n",
       "      <td>0.379780</td>\n",
       "      <td>-0.503198</td>\n",
       "      <td>1.800499</td>\n",
       "      <td>0.791461</td>\n",
       "      <td>0.247676</td>\n",
       "      <td>-1.514654</td>\n",
       "      <td>...</td>\n",
       "      <td>0.247998</td>\n",
       "      <td>0.771679</td>\n",
       "      <td>0.909412</td>\n",
       "      <td>-0.689281</td>\n",
       "      <td>-0.327642</td>\n",
       "      <td>-0.139097</td>\n",
       "      <td>-0.055353</td>\n",
       "      <td>-0.059752</td>\n",
       "      <td>378.66</td>\n",
       "      <td>0</td>\n",
       "    </tr>\n",
       "    <tr>\n",
       "      <th>3</th>\n",
       "      <td>1.0</td>\n",
       "      <td>-0.966272</td>\n",
       "      <td>-0.185226</td>\n",
       "      <td>1.792993</td>\n",
       "      <td>-0.863291</td>\n",
       "      <td>-0.010309</td>\n",
       "      <td>1.247203</td>\n",
       "      <td>0.237609</td>\n",
       "      <td>0.377436</td>\n",
       "      <td>-1.387024</td>\n",
       "      <td>...</td>\n",
       "      <td>-0.108300</td>\n",
       "      <td>0.005274</td>\n",
       "      <td>-0.190321</td>\n",
       "      <td>-1.175575</td>\n",
       "      <td>0.647376</td>\n",
       "      <td>-0.221929</td>\n",
       "      <td>0.062723</td>\n",
       "      <td>0.061458</td>\n",
       "      <td>123.50</td>\n",
       "      <td>0</td>\n",
       "    </tr>\n",
       "    <tr>\n",
       "      <th>4</th>\n",
       "      <td>2.0</td>\n",
       "      <td>-1.158233</td>\n",
       "      <td>0.877737</td>\n",
       "      <td>1.548718</td>\n",
       "      <td>0.403034</td>\n",
       "      <td>-0.407193</td>\n",
       "      <td>0.095921</td>\n",
       "      <td>0.592941</td>\n",
       "      <td>-0.270533</td>\n",
       "      <td>0.817739</td>\n",
       "      <td>...</td>\n",
       "      <td>-0.009431</td>\n",
       "      <td>0.798278</td>\n",
       "      <td>-0.137458</td>\n",
       "      <td>0.141267</td>\n",
       "      <td>-0.206010</td>\n",
       "      <td>0.502292</td>\n",
       "      <td>0.219422</td>\n",
       "      <td>0.215153</td>\n",
       "      <td>69.99</td>\n",
       "      <td>0</td>\n",
       "    </tr>\n",
       "  </tbody>\n",
       "</table>\n",
       "<p>5 rows × 31 columns</p>\n",
       "</div>"
      ],
      "text/plain": [
       "   Time        V1        V2        V3        V4        V5        V6        V7  \\\n",
       "0   0.0 -1.359807 -0.072781  2.536347  1.378155 -0.338321  0.462388  0.239599   \n",
       "1   0.0  1.191857  0.266151  0.166480  0.448154  0.060018 -0.082361 -0.078803   \n",
       "2   1.0 -1.358354 -1.340163  1.773209  0.379780 -0.503198  1.800499  0.791461   \n",
       "3   1.0 -0.966272 -0.185226  1.792993 -0.863291 -0.010309  1.247203  0.237609   \n",
       "4   2.0 -1.158233  0.877737  1.548718  0.403034 -0.407193  0.095921  0.592941   \n",
       "\n",
       "         V8        V9  ...       V21       V22       V23       V24       V25  \\\n",
       "0  0.098698  0.363787  ... -0.018307  0.277838 -0.110474  0.066928  0.128539   \n",
       "1  0.085102 -0.255425  ... -0.225775 -0.638672  0.101288 -0.339846  0.167170   \n",
       "2  0.247676 -1.514654  ...  0.247998  0.771679  0.909412 -0.689281 -0.327642   \n",
       "3  0.377436 -1.387024  ... -0.108300  0.005274 -0.190321 -1.175575  0.647376   \n",
       "4 -0.270533  0.817739  ... -0.009431  0.798278 -0.137458  0.141267 -0.206010   \n",
       "\n",
       "        V26       V27       V28  Amount  Class  \n",
       "0 -0.189115  0.133558 -0.021053  149.62      0  \n",
       "1  0.125895 -0.008983  0.014724    2.69      0  \n",
       "2 -0.139097 -0.055353 -0.059752  378.66      0  \n",
       "3 -0.221929  0.062723  0.061458  123.50      0  \n",
       "4  0.502292  0.219422  0.215153   69.99      0  \n",
       "\n",
       "[5 rows x 31 columns]"
      ]
     },
     "execution_count": 3,
     "metadata": {},
     "output_type": "execute_result"
    }
   ],
   "source": [
    "df.head()"
   ]
  },
  {
   "cell_type": "code",
   "execution_count": 4,
   "metadata": {},
   "outputs": [
    {
     "data": {
      "text/plain": [
       "Time      float64\n",
       "V1        float64\n",
       "V2        float64\n",
       "V3        float64\n",
       "V4        float64\n",
       "V5        float64\n",
       "V6        float64\n",
       "V7        float64\n",
       "V8        float64\n",
       "V9        float64\n",
       "V10       float64\n",
       "V11       float64\n",
       "V12       float64\n",
       "V13       float64\n",
       "V14       float64\n",
       "V15       float64\n",
       "V16       float64\n",
       "V17       float64\n",
       "V18       float64\n",
       "V19       float64\n",
       "V20       float64\n",
       "V21       float64\n",
       "V22       float64\n",
       "V23       float64\n",
       "V24       float64\n",
       "V25       float64\n",
       "V26       float64\n",
       "V27       float64\n",
       "V28       float64\n",
       "Amount    float64\n",
       "Class       int64\n",
       "dtype: object"
      ]
     },
     "execution_count": 4,
     "metadata": {},
     "output_type": "execute_result"
    }
   ],
   "source": [
    "#the type of each column\n",
    "df.dtypes"
   ]
  },
  {
   "cell_type": "code",
   "execution_count": 5,
   "metadata": {},
   "outputs": [
    {
     "data": {
      "text/plain": [
       "(284807, 31)"
      ]
     },
     "execution_count": 5,
     "metadata": {},
     "output_type": "execute_result"
    }
   ],
   "source": [
    "#the shape of the database\n",
    "df.shape"
   ]
  },
  {
   "cell_type": "code",
   "execution_count": 6,
   "metadata": {},
   "outputs": [
    {
     "data": {
      "text/html": [
       "<div>\n",
       "<style scoped>\n",
       "    .dataframe tbody tr th:only-of-type {\n",
       "        vertical-align: middle;\n",
       "    }\n",
       "\n",
       "    .dataframe tbody tr th {\n",
       "        vertical-align: top;\n",
       "    }\n",
       "\n",
       "    .dataframe thead th {\n",
       "        text-align: right;\n",
       "    }\n",
       "</style>\n",
       "<table border=\"1\" class=\"dataframe\">\n",
       "  <thead>\n",
       "    <tr style=\"text-align: right;\">\n",
       "      <th></th>\n",
       "      <th>Time</th>\n",
       "      <th>V1</th>\n",
       "      <th>V2</th>\n",
       "      <th>V3</th>\n",
       "      <th>V4</th>\n",
       "      <th>V5</th>\n",
       "      <th>V6</th>\n",
       "      <th>V7</th>\n",
       "      <th>V8</th>\n",
       "      <th>V9</th>\n",
       "      <th>...</th>\n",
       "      <th>V21</th>\n",
       "      <th>V22</th>\n",
       "      <th>V23</th>\n",
       "      <th>V24</th>\n",
       "      <th>V25</th>\n",
       "      <th>V26</th>\n",
       "      <th>V27</th>\n",
       "      <th>V28</th>\n",
       "      <th>Amount</th>\n",
       "      <th>Class</th>\n",
       "    </tr>\n",
       "  </thead>\n",
       "  <tbody>\n",
       "    <tr>\n",
       "      <th>count</th>\n",
       "      <td>284807.000000</td>\n",
       "      <td>2.848070e+05</td>\n",
       "      <td>2.848070e+05</td>\n",
       "      <td>2.848070e+05</td>\n",
       "      <td>2.848070e+05</td>\n",
       "      <td>2.848070e+05</td>\n",
       "      <td>2.848070e+05</td>\n",
       "      <td>2.848070e+05</td>\n",
       "      <td>2.848070e+05</td>\n",
       "      <td>2.848070e+05</td>\n",
       "      <td>...</td>\n",
       "      <td>2.848070e+05</td>\n",
       "      <td>2.848070e+05</td>\n",
       "      <td>2.848070e+05</td>\n",
       "      <td>2.848070e+05</td>\n",
       "      <td>2.848070e+05</td>\n",
       "      <td>2.848070e+05</td>\n",
       "      <td>2.848070e+05</td>\n",
       "      <td>2.848070e+05</td>\n",
       "      <td>284807.000000</td>\n",
       "      <td>284807.000000</td>\n",
       "    </tr>\n",
       "    <tr>\n",
       "      <th>mean</th>\n",
       "      <td>94813.859575</td>\n",
       "      <td>3.919560e-15</td>\n",
       "      <td>5.688174e-16</td>\n",
       "      <td>-8.769071e-15</td>\n",
       "      <td>2.782312e-15</td>\n",
       "      <td>-1.552563e-15</td>\n",
       "      <td>2.010663e-15</td>\n",
       "      <td>-1.694249e-15</td>\n",
       "      <td>-1.927028e-16</td>\n",
       "      <td>-3.137024e-15</td>\n",
       "      <td>...</td>\n",
       "      <td>1.537294e-16</td>\n",
       "      <td>7.959909e-16</td>\n",
       "      <td>5.367590e-16</td>\n",
       "      <td>4.458112e-15</td>\n",
       "      <td>1.453003e-15</td>\n",
       "      <td>1.699104e-15</td>\n",
       "      <td>-3.660161e-16</td>\n",
       "      <td>-1.206049e-16</td>\n",
       "      <td>88.349619</td>\n",
       "      <td>0.001727</td>\n",
       "    </tr>\n",
       "    <tr>\n",
       "      <th>std</th>\n",
       "      <td>47488.145955</td>\n",
       "      <td>1.958696e+00</td>\n",
       "      <td>1.651309e+00</td>\n",
       "      <td>1.516255e+00</td>\n",
       "      <td>1.415869e+00</td>\n",
       "      <td>1.380247e+00</td>\n",
       "      <td>1.332271e+00</td>\n",
       "      <td>1.237094e+00</td>\n",
       "      <td>1.194353e+00</td>\n",
       "      <td>1.098632e+00</td>\n",
       "      <td>...</td>\n",
       "      <td>7.345240e-01</td>\n",
       "      <td>7.257016e-01</td>\n",
       "      <td>6.244603e-01</td>\n",
       "      <td>6.056471e-01</td>\n",
       "      <td>5.212781e-01</td>\n",
       "      <td>4.822270e-01</td>\n",
       "      <td>4.036325e-01</td>\n",
       "      <td>3.300833e-01</td>\n",
       "      <td>250.120109</td>\n",
       "      <td>0.041527</td>\n",
       "    </tr>\n",
       "    <tr>\n",
       "      <th>min</th>\n",
       "      <td>0.000000</td>\n",
       "      <td>-5.640751e+01</td>\n",
       "      <td>-7.271573e+01</td>\n",
       "      <td>-4.832559e+01</td>\n",
       "      <td>-5.683171e+00</td>\n",
       "      <td>-1.137433e+02</td>\n",
       "      <td>-2.616051e+01</td>\n",
       "      <td>-4.355724e+01</td>\n",
       "      <td>-7.321672e+01</td>\n",
       "      <td>-1.343407e+01</td>\n",
       "      <td>...</td>\n",
       "      <td>-3.483038e+01</td>\n",
       "      <td>-1.093314e+01</td>\n",
       "      <td>-4.480774e+01</td>\n",
       "      <td>-2.836627e+00</td>\n",
       "      <td>-1.029540e+01</td>\n",
       "      <td>-2.604551e+00</td>\n",
       "      <td>-2.256568e+01</td>\n",
       "      <td>-1.543008e+01</td>\n",
       "      <td>0.000000</td>\n",
       "      <td>0.000000</td>\n",
       "    </tr>\n",
       "    <tr>\n",
       "      <th>25%</th>\n",
       "      <td>54201.500000</td>\n",
       "      <td>-9.203734e-01</td>\n",
       "      <td>-5.985499e-01</td>\n",
       "      <td>-8.903648e-01</td>\n",
       "      <td>-8.486401e-01</td>\n",
       "      <td>-6.915971e-01</td>\n",
       "      <td>-7.682956e-01</td>\n",
       "      <td>-5.540759e-01</td>\n",
       "      <td>-2.086297e-01</td>\n",
       "      <td>-6.430976e-01</td>\n",
       "      <td>...</td>\n",
       "      <td>-2.283949e-01</td>\n",
       "      <td>-5.423504e-01</td>\n",
       "      <td>-1.618463e-01</td>\n",
       "      <td>-3.545861e-01</td>\n",
       "      <td>-3.171451e-01</td>\n",
       "      <td>-3.269839e-01</td>\n",
       "      <td>-7.083953e-02</td>\n",
       "      <td>-5.295979e-02</td>\n",
       "      <td>5.600000</td>\n",
       "      <td>0.000000</td>\n",
       "    </tr>\n",
       "    <tr>\n",
       "      <th>50%</th>\n",
       "      <td>84692.000000</td>\n",
       "      <td>1.810880e-02</td>\n",
       "      <td>6.548556e-02</td>\n",
       "      <td>1.798463e-01</td>\n",
       "      <td>-1.984653e-02</td>\n",
       "      <td>-5.433583e-02</td>\n",
       "      <td>-2.741871e-01</td>\n",
       "      <td>4.010308e-02</td>\n",
       "      <td>2.235804e-02</td>\n",
       "      <td>-5.142873e-02</td>\n",
       "      <td>...</td>\n",
       "      <td>-2.945017e-02</td>\n",
       "      <td>6.781943e-03</td>\n",
       "      <td>-1.119293e-02</td>\n",
       "      <td>4.097606e-02</td>\n",
       "      <td>1.659350e-02</td>\n",
       "      <td>-5.213911e-02</td>\n",
       "      <td>1.342146e-03</td>\n",
       "      <td>1.124383e-02</td>\n",
       "      <td>22.000000</td>\n",
       "      <td>0.000000</td>\n",
       "    </tr>\n",
       "    <tr>\n",
       "      <th>75%</th>\n",
       "      <td>139320.500000</td>\n",
       "      <td>1.315642e+00</td>\n",
       "      <td>8.037239e-01</td>\n",
       "      <td>1.027196e+00</td>\n",
       "      <td>7.433413e-01</td>\n",
       "      <td>6.119264e-01</td>\n",
       "      <td>3.985649e-01</td>\n",
       "      <td>5.704361e-01</td>\n",
       "      <td>3.273459e-01</td>\n",
       "      <td>5.971390e-01</td>\n",
       "      <td>...</td>\n",
       "      <td>1.863772e-01</td>\n",
       "      <td>5.285536e-01</td>\n",
       "      <td>1.476421e-01</td>\n",
       "      <td>4.395266e-01</td>\n",
       "      <td>3.507156e-01</td>\n",
       "      <td>2.409522e-01</td>\n",
       "      <td>9.104512e-02</td>\n",
       "      <td>7.827995e-02</td>\n",
       "      <td>77.165000</td>\n",
       "      <td>0.000000</td>\n",
       "    </tr>\n",
       "    <tr>\n",
       "      <th>max</th>\n",
       "      <td>172792.000000</td>\n",
       "      <td>2.454930e+00</td>\n",
       "      <td>2.205773e+01</td>\n",
       "      <td>9.382558e+00</td>\n",
       "      <td>1.687534e+01</td>\n",
       "      <td>3.480167e+01</td>\n",
       "      <td>7.330163e+01</td>\n",
       "      <td>1.205895e+02</td>\n",
       "      <td>2.000721e+01</td>\n",
       "      <td>1.559499e+01</td>\n",
       "      <td>...</td>\n",
       "      <td>2.720284e+01</td>\n",
       "      <td>1.050309e+01</td>\n",
       "      <td>2.252841e+01</td>\n",
       "      <td>4.584549e+00</td>\n",
       "      <td>7.519589e+00</td>\n",
       "      <td>3.517346e+00</td>\n",
       "      <td>3.161220e+01</td>\n",
       "      <td>3.384781e+01</td>\n",
       "      <td>25691.160000</td>\n",
       "      <td>1.000000</td>\n",
       "    </tr>\n",
       "  </tbody>\n",
       "</table>\n",
       "<p>8 rows × 31 columns</p>\n",
       "</div>"
      ],
      "text/plain": [
       "                Time            V1            V2            V3            V4  \\\n",
       "count  284807.000000  2.848070e+05  2.848070e+05  2.848070e+05  2.848070e+05   \n",
       "mean    94813.859575  3.919560e-15  5.688174e-16 -8.769071e-15  2.782312e-15   \n",
       "std     47488.145955  1.958696e+00  1.651309e+00  1.516255e+00  1.415869e+00   \n",
       "min         0.000000 -5.640751e+01 -7.271573e+01 -4.832559e+01 -5.683171e+00   \n",
       "25%     54201.500000 -9.203734e-01 -5.985499e-01 -8.903648e-01 -8.486401e-01   \n",
       "50%     84692.000000  1.810880e-02  6.548556e-02  1.798463e-01 -1.984653e-02   \n",
       "75%    139320.500000  1.315642e+00  8.037239e-01  1.027196e+00  7.433413e-01   \n",
       "max    172792.000000  2.454930e+00  2.205773e+01  9.382558e+00  1.687534e+01   \n",
       "\n",
       "                 V5            V6            V7            V8            V9  \\\n",
       "count  2.848070e+05  2.848070e+05  2.848070e+05  2.848070e+05  2.848070e+05   \n",
       "mean  -1.552563e-15  2.010663e-15 -1.694249e-15 -1.927028e-16 -3.137024e-15   \n",
       "std    1.380247e+00  1.332271e+00  1.237094e+00  1.194353e+00  1.098632e+00   \n",
       "min   -1.137433e+02 -2.616051e+01 -4.355724e+01 -7.321672e+01 -1.343407e+01   \n",
       "25%   -6.915971e-01 -7.682956e-01 -5.540759e-01 -2.086297e-01 -6.430976e-01   \n",
       "50%   -5.433583e-02 -2.741871e-01  4.010308e-02  2.235804e-02 -5.142873e-02   \n",
       "75%    6.119264e-01  3.985649e-01  5.704361e-01  3.273459e-01  5.971390e-01   \n",
       "max    3.480167e+01  7.330163e+01  1.205895e+02  2.000721e+01  1.559499e+01   \n",
       "\n",
       "       ...           V21           V22           V23           V24  \\\n",
       "count  ...  2.848070e+05  2.848070e+05  2.848070e+05  2.848070e+05   \n",
       "mean   ...  1.537294e-16  7.959909e-16  5.367590e-16  4.458112e-15   \n",
       "std    ...  7.345240e-01  7.257016e-01  6.244603e-01  6.056471e-01   \n",
       "min    ... -3.483038e+01 -1.093314e+01 -4.480774e+01 -2.836627e+00   \n",
       "25%    ... -2.283949e-01 -5.423504e-01 -1.618463e-01 -3.545861e-01   \n",
       "50%    ... -2.945017e-02  6.781943e-03 -1.119293e-02  4.097606e-02   \n",
       "75%    ...  1.863772e-01  5.285536e-01  1.476421e-01  4.395266e-01   \n",
       "max    ...  2.720284e+01  1.050309e+01  2.252841e+01  4.584549e+00   \n",
       "\n",
       "                V25           V26           V27           V28         Amount  \\\n",
       "count  2.848070e+05  2.848070e+05  2.848070e+05  2.848070e+05  284807.000000   \n",
       "mean   1.453003e-15  1.699104e-15 -3.660161e-16 -1.206049e-16      88.349619   \n",
       "std    5.212781e-01  4.822270e-01  4.036325e-01  3.300833e-01     250.120109   \n",
       "min   -1.029540e+01 -2.604551e+00 -2.256568e+01 -1.543008e+01       0.000000   \n",
       "25%   -3.171451e-01 -3.269839e-01 -7.083953e-02 -5.295979e-02       5.600000   \n",
       "50%    1.659350e-02 -5.213911e-02  1.342146e-03  1.124383e-02      22.000000   \n",
       "75%    3.507156e-01  2.409522e-01  9.104512e-02  7.827995e-02      77.165000   \n",
       "max    7.519589e+00  3.517346e+00  3.161220e+01  3.384781e+01   25691.160000   \n",
       "\n",
       "               Class  \n",
       "count  284807.000000  \n",
       "mean        0.001727  \n",
       "std         0.041527  \n",
       "min         0.000000  \n",
       "25%         0.000000  \n",
       "50%         0.000000  \n",
       "75%         0.000000  \n",
       "max         1.000000  \n",
       "\n",
       "[8 rows x 31 columns]"
      ]
     },
     "execution_count": 6,
     "metadata": {},
     "output_type": "execute_result"
    }
   ],
   "source": [
    "#Information of the database\n",
    "df.describe()"
   ]
  },
  {
   "cell_type": "code",
   "execution_count": 7,
   "metadata": {},
   "outputs": [
    {
     "data": {
      "text/plain": [
       "False"
      ]
     },
     "execution_count": 7,
     "metadata": {},
     "output_type": "execute_result"
    }
   ],
   "source": [
    "#Check if there a null value in the database\n",
    "df.isnull().values.any()"
   ]
  },
  {
   "cell_type": "markdown",
   "metadata": {},
   "source": [
    "# Data visualization "
   ]
  },
  {
   "cell_type": "code",
   "execution_count": 8,
   "metadata": {},
   "outputs": [
    {
     "data": {
      "text/plain": [
       "0    284315\n",
       "1       492\n",
       "Name: Class, dtype: int64"
      ]
     },
     "execution_count": 8,
     "metadata": {},
     "output_type": "execute_result"
    }
   ],
   "source": [
    "#check how many classes that we have and what is the value of each class.\n",
    "df[\"Class\"].value_counts()"
   ]
  },
  {
   "cell_type": "code",
   "execution_count": 9,
   "metadata": {},
   "outputs": [
    {
     "data": {
      "text/plain": [
       "Text(0, 0.5, 'Frequency')"
      ]
     },
     "execution_count": 9,
     "metadata": {},
     "output_type": "execute_result"
    },
    {
     "data": {
      "image/png": "[encoded data removed]",
      "text/plain": [
       "<Figure size 648x576 with 1 Axes>"
      ]
     },
     "metadata": {},
     "output_type": "display_data"
    }
   ],
   "source": [
    "#plot the classes\n",
    "plt.figure(figsize = (9,8))\n",
    "df[\"Class\"].value_counts().plot(kind='bar')\n",
    "plt.title(\"Transaction Class Distribution\")\n",
    "\n",
    "plt.xticks(range(2),  [\"Normal\", \"Fraud\"])\n",
    "\n",
    "plt.xlabel(\"Class\")\n",
    "\n",
    "plt.ylabel(\"Frequency\")"
   ]
  },
  {
   "cell_type": "code",
   "execution_count": 10,
   "metadata": {},
   "outputs": [
    {
     "data": {
      "text/plain": [
       "<seaborn.axisgrid.FacetGrid at 0x126083850>"
      ]
     },
     "execution_count": 10,
     "metadata": {},
     "output_type": "execute_result"
    },
    {
     "data": {
      "image/png": "[encoded data removed]",
      "text/plain": [
       "<Figure size 401.625x360 with 1 Axes>"
      ]
     },
     "metadata": {},
     "output_type": "display_data"
    }
   ],
   "source": [
    "#plot \n",
    "sns.relplot(x='Amount', y='Time', hue='Class', data=df)\n"
   ]
  },
  {
   "cell_type": "code",
   "execution_count": 11,
   "metadata": {},
   "outputs": [
    {
     "data": {
      "image/png": "[encoded data removed]",
      "text/plain": [
       "<Figure size 576x576 with 1 Axes>"
      ]
     },
     "metadata": {},
     "output_type": "display_data"
    }
   ],
   "source": [
    "#plot amount according to class\n",
    "#There are two classes 0 and 1\n",
    "plt.figure(figsize = (8,8))\n",
    "\n",
    "\n",
    "plt.scatter(df.Amount, df.Class, marker='+',color='red')\n",
    "\n",
    "\n",
    "plt.xlabel(\"Amount\", fontsize =16)\n",
    "\n",
    "\n",
    "plt.ylabel(\"Class\", fontsize = 16)\n",
    "\n",
    "\n",
    "plt.show()"
   ]
  },
  {
   "cell_type": "markdown",
   "metadata": {},
   "source": [
    "# Models"
   ]
  },
  {
   "cell_type": "markdown",
   "metadata": {},
   "source": [
    "#### Now, we use the training set to build an accurate model. Then use the test set to report the accuracy of the model. We use the following algorithms:\n",
    "\n",
    "-Logistic Regression.\n",
    "\n",
    "-Support Vector Machine.\n",
    "\n",
    "-Random Forest.\n",
    "\n",
    "-Artificial Neural network.\n",
    "\n"
   ]
  },
  {
   "cell_type": "markdown",
   "metadata": {},
   "source": [
    "# Logistic Regression"
   ]
  },
  {
   "cell_type": "code",
   "execution_count": 12,
   "metadata": {},
   "outputs": [],
   "source": [
    "## First import the package\n",
    "from sklearn.model_selection import train_test_split"
   ]
  },
  {
   "cell_type": "code",
   "execution_count": 13,
   "metadata": {},
   "outputs": [],
   "source": [
    "###Separate features\n",
    "X_LR=df.iloc[:,:-1]\n",
    "y_LR=df.iloc[:,-1]\n"
   ]
  },
  {
   "cell_type": "code",
   "execution_count": 14,
   "metadata": {},
   "outputs": [],
   "source": [
    "## Now split the data\n",
    "## Have 20% for testing\n",
    "## Set 40 as the random state\n",
    "## and stratify the split\n",
    "X_train_LR, X_test_LR, y_train_LR, y_test_LR=train_test_split(X_LR,y_LR,\n",
    "                                                  test_size=.2,\n",
    "                                                  random_state=40,\n",
    "                                                  shuffle=True,\n",
    "                                                  stratify=y_LR)"
   ]
  },
  {
   "cell_type": "code",
   "execution_count": 15,
   "metadata": {},
   "outputs": [],
   "source": [
    "#Use a pipeline with StandardScaler and LogisticRegression\n",
    "from sklearn.linear_model import LogisticRegression\n",
    "from sklearn.preprocessing import StandardScaler\n",
    "from sklearn.pipeline import Pipeline\n",
    "pipe_LR = Pipeline([('preprocess',StandardScaler()),\n",
    "                ('Lreg',LogisticRegression())])\n",
    "\n",
    "\n"
   ]
  },
  {
   "cell_type": "code",
   "execution_count": 16,
   "metadata": {},
   "outputs": [
    {
     "data": {
      "text/plain": [
       "Pipeline(steps=[('preprocess', StandardScaler()),\n",
       "                ('Lreg', LogisticRegression())])"
      ]
     },
     "execution_count": 16,
     "metadata": {},
     "output_type": "execute_result"
    }
   ],
   "source": [
    "## Fit the model here\n",
    "pipe_LR.fit(X_train_LR,y_train_LR)"
   ]
  },
  {
   "cell_type": "code",
   "execution_count": 17,
   "metadata": {},
   "outputs": [
    {
     "name": "stdout",
     "output_type": "stream",
     "text": [
      "[0 0 0 ... 0 0 0]\n",
      "0.7448680351906158\n",
      "0.8819444444444444\n",
      "0.6446700507614214\n",
      "0.99923632293884\n"
     ]
    }
   ],
   "source": [
    "## get the predictions X_train\n",
    "y_pred_train_LR=pipe_LR.predict(X_train_LR)\n",
    "print(y_pred_train_LR)\n",
    "# now we can get the evaluation score for training data\n",
    "from sklearn.metrics import accuracy_score\n",
    "from sklearn.metrics import precision_score\n",
    "from sklearn.metrics import recall_score\n",
    "from sklearn.metrics import f1_score\n",
    "\n",
    "precision_score_LR_train=precision_score(y_train_LR,y_pred_train_LR)\n",
    "recall_score_LR_train=recall_score(y_train_LR,y_pred_train_LR)\n",
    "f1_score_LR_train=f1_score(y_train_LR,y_pred_train_LR)\n",
    "accuracy_score_LR_train=accuracy_score(y_train_LR,y_pred_train_LR)\n",
    "\n",
    "\n",
    "print(f1_score_LR_train)\n",
    "print(precision_score_LR_train)\n",
    "print(recall_score_LR_train)\n",
    "print(accuracy_score_LR_train)\n",
    "\n",
    "\n",
    "\n"
   ]
  },
  {
   "cell_type": "code",
   "execution_count": 18,
   "metadata": {},
   "outputs": [
    {
     "name": "stdout",
     "output_type": "stream",
     "text": [
      "[[9.99720769e-01 2.79230799e-04]\n",
      " [9.99489230e-01 5.10770122e-04]\n",
      " [9.99956019e-01 4.39805563e-05]\n",
      " ...\n",
      " [9.99759254e-01 2.40745586e-04]\n",
      " [9.99910876e-01 8.91239720e-05]\n",
      " [9.98644453e-01 1.35554728e-03]]\n"
     ]
    }
   ],
   "source": [
    "#predict the probabilities\n",
    "y_pred_prob_LR=pipe_LR.predict_proba(X_train_LR)\n",
    "print(y_pred_prob_LR)\n",
    "\n"
   ]
  },
  {
   "cell_type": "code",
   "execution_count": 19,
   "metadata": {},
   "outputs": [
    {
     "data": {
      "text/plain": [
       "(array([0.        , 0.        , 0.        , ..., 0.99919543, 0.99920422,\n",
       "        1.        ]),\n",
       " array([0.        , 0.00253807, 0.00761421, ..., 1.        , 1.        ,\n",
       "        1.        ]),\n",
       " array([2.00000000e+00, 1.00000000e+00, 1.00000000e+00, ...,\n",
       "        1.68082593e-10, 1.61854618e-10, 5.40513592e-13]))"
      ]
     },
     "execution_count": 19,
     "metadata": {},
     "output_type": "execute_result"
    }
   ],
   "source": [
    "#now we can get the ROC\n",
    "from sklearn.metrics import roc_curve\n",
    "\n",
    "roc_curve(y_train_LR,y_pred_prob_LR[:,1])"
   ]
  },
  {
   "cell_type": "code",
   "execution_count": 20,
   "metadata": {},
   "outputs": [],
   "source": [
    "#we get the fpr,tpr,cutoffs\n",
    "fpr_LR,tpr_LR,cutoffs_LR = roc_curve(y_train_LR,y_pred_prob_LR[:,1])"
   ]
  },
  {
   "cell_type": "code",
   "execution_count": 21,
   "metadata": {},
   "outputs": [
    {
     "name": "stdout",
     "output_type": "stream",
     "text": [
      "0.98006714091842\n"
     ]
    }
   ],
   "source": [
    "#now we can get the AUC\n",
    "from sklearn.metrics import roc_auc_score\n",
    "auc_lR=roc_auc_score(y_train_LR,y_pred_prob_LR[:,1])\n",
    "print(auc_lR)"
   ]
  },
  {
   "cell_type": "code",
   "execution_count": 22,
   "metadata": {},
   "outputs": [
    {
     "data": {
      "image/png": "[encoded data removed]",
      "text/plain": [
       "<Figure size 864x576 with 1 Axes>"
      ]
     },
     "metadata": {},
     "output_type": "display_data"
    }
   ],
   "source": [
    "#plot ROC with AUC\n",
    "plt.figure(figsize=(12,8))\n",
    "\n",
    "plt.plot(fpr_LR,tpr_LR,label='AUC LR= '+str(np.around(auc_lR,4)))\n",
    "\n",
    "\n",
    "\n",
    "plt.xlabel(\"False Positive Rate\",fontsize=16)\n",
    "plt.ylabel(\"True Positive Rate\",fontsize=16)\n",
    "\n",
    "plt.title(\"ROC Curve\", fontsize=18)\n",
    "plt.xticks(fontsize=12)\n",
    "plt.yticks(fontsize=12)\n",
    "plt.legend(loc='best')\n",
    "plt.show()"
   ]
  },
  {
   "cell_type": "code",
   "execution_count": 23,
   "metadata": {},
   "outputs": [
    {
     "name": "stdout",
     "output_type": "stream",
     "text": [
      "[0 0 0 ... 0 0 0]\n",
      "[[9.99907058e-01 9.29416966e-05]\n",
      " [9.99976085e-01 2.39152281e-05]\n",
      " [9.99899860e-01 1.00139794e-04]\n",
      " ...\n",
      " [9.99937682e-01 6.23177502e-05]\n",
      " [9.99840614e-01 1.59386277e-04]\n",
      " [9.99718330e-01 2.81669581e-04]]\n"
     ]
    }
   ],
   "source": [
    "## get the predictions X_test\n",
    "y_pred_test_LR=pipe_LR.predict(X_test_LR)\n",
    "print(y_pred_test_LR)\n",
    "\n",
    "## get the predictions of the probabilities of X_test\n",
    "y_pred_prob_test_LR=pipe_LR.predict_proba(X_test_LR)\n",
    "print(y_pred_prob_test_LR)\n"
   ]
  },
  {
   "cell_type": "code",
   "execution_count": 24,
   "metadata": {},
   "outputs": [
    {
     "data": {
      "text/plain": [
       "<matplotlib.legend.Legend at 0x127a9aeb0>"
      ]
     },
     "execution_count": 24,
     "metadata": {},
     "output_type": "execute_result"
    },
    {
     "data": {
      "image/png": "[encoded data removed]",
      "text/plain": [
       "<Figure size 864x576 with 1 Axes>"
      ]
     },
     "metadata": {},
     "output_type": "display_data"
    }
   ],
   "source": [
    "from sklearn.metrics import precision_recall_curve, average_precision_score, auc\n",
    "# calculate precision-recall curve\n",
    "precision_LR, recall_LR, thresholds_LR = precision_recall_curve(y_test_LR, y_pred_prob_test_LR[:,1])\n",
    "\n",
    "\n",
    "\n",
    "\n",
    "PRauc_LR= auc(recall_LR, precision_LR)\n",
    "#plot precision-recall curve\n",
    "plt.figure(figsize=(12,8))\n",
    "plt.plot(precision_LR, recall_LR, label='AUC LR= '+str(np.around(PRauc_LR,4)))\n",
    "\n",
    "plt.xlabel('Precision', fontsize = 14)\n",
    "plt.ylabel('Recall', fontsize = 14)\n",
    "plt.title('Precision-Recall Curve', fontsize = 18)\n",
    "plt.legend(loc = 'best')\n",
    "#find default threshold\n",
    "#close_default = np.argmin(np.abs(thresholds_pr - 0.5))\n",
    "#ax1.plot(precision[close_default], recall[close_default], 'o', markersize = 8)\n",
    "        \n",
    "\n",
    "    \n",
    "    \n",
    "    "
   ]
  },
  {
   "cell_type": "code",
   "execution_count": 25,
   "metadata": {},
   "outputs": [
    {
     "name": "stdout",
     "output_type": "stream",
     "text": [
      "[[56856     8]\n",
      " [   47    51]]\n"
     ]
    }
   ],
   "source": [
    "# now we can get the confusion matrix\n",
    "from sklearn.metrics import confusion_matrix\n",
    "print(confusion_matrix(y_test_LR,y_pred_test_LR))"
   ]
  },
  {
   "cell_type": "code",
   "execution_count": 26,
   "metadata": {},
   "outputs": [
    {
     "name": "stdout",
     "output_type": "stream",
     "text": [
      "0.6496815286624203\n",
      "0.864406779661017\n",
      "0.5204081632653061\n",
      "0.9990344440153085\n"
     ]
    }
   ],
   "source": [
    "# now we can get the precision score, recall score and f1 score\n",
    "from sklearn.metrics import precision_score\n",
    "from sklearn.metrics import recall_score\n",
    "from sklearn.metrics import f1_score\n",
    "precision_score_LR=precision_score(y_test_LR,y_pred_test_LR)\n",
    "recall_score_LR=recall_score(y_test_LR,y_pred_test_LR)\n",
    "f1_score_LR=f1_score(y_test_LR,y_pred_test_LR)\n",
    "accuracy_score_LR=accuracy_score(y_test_LR,y_pred_test_LR)\n",
    "print(f1_score_LR)\n",
    "print(precision_score_LR)\n",
    "print(recall_score_LR)\n",
    "print(accuracy_score_LR)"
   ]
  },
  {
   "cell_type": "code",
   "execution_count": 27,
   "metadata": {},
   "outputs": [
    {
     "name": "stdout",
     "output_type": "stream",
     "text": [
      "              precision    recall  f1-score   support\n",
      "\n",
      "           0       1.00      1.00      1.00     56864\n",
      "           1       0.86      0.52      0.65        98\n",
      "\n",
      "    accuracy                           1.00     56962\n",
      "   macro avg       0.93      0.76      0.82     56962\n",
      "weighted avg       1.00      1.00      1.00     56962\n",
      "\n"
     ]
    }
   ],
   "source": [
    "# now we can get the classification_report to know the precision, the recall, the f1-score, the support\n",
    "from sklearn.metrics import classification_report\n",
    "print(classification_report(y_test_LR,y_pred_test_LR))"
   ]
  },
  {
   "cell_type": "markdown",
   "metadata": {},
   "source": [
    "# Artificial Neural Network "
   ]
  },
  {
   "cell_type": "code",
   "execution_count": 28,
   "metadata": {},
   "outputs": [],
   "source": [
    "import tensorflow as tf\n",
    "from tensorflow import keras\n",
    "from tensorflow.keras import layers\n",
    "\n",
    "# Keras. \n",
    "\n",
    "from keras import models\n",
    "from keras import layers\n",
    "from keras import optimizers\n",
    "from keras import losses\n",
    "from keras import metrics\n",
    "\n",
    "from keras.metrics import binary_crossentropy\n",
    "\n",
    "\n",
    "\n",
    "\n",
    "## Define categorical funcion. This prepares entries for tensor analysis. \n",
    "\n",
    "def to_categorical(y):\n",
    "    return tf.keras.utils.to_categorical(y)\n"
   ]
  },
  {
   "cell_type": "code",
   "execution_count": 29,
   "metadata": {},
   "outputs": [],
   "source": [
    "# Pickout the valid transactions.\n",
    "\n",
    "valid_transactions = df.loc[df['Class'] == 0.0]\n",
    "fraudulent_transactions = df.drop(valid_transactions.index)"
   ]
  },
  {
   "cell_type": "code",
   "execution_count": 30,
   "metadata": {},
   "outputs": [
    {
     "data": {
      "text/html": [
       "<div>\n",
       "<style scoped>\n",
       "    .dataframe tbody tr th:only-of-type {\n",
       "        vertical-align: middle;\n",
       "    }\n",
       "\n",
       "    .dataframe tbody tr th {\n",
       "        vertical-align: top;\n",
       "    }\n",
       "\n",
       "    .dataframe thead th {\n",
       "        text-align: right;\n",
       "    }\n",
       "</style>\n",
       "<table border=\"1\" class=\"dataframe\">\n",
       "  <thead>\n",
       "    <tr style=\"text-align: right;\">\n",
       "      <th></th>\n",
       "      <th>Time</th>\n",
       "      <th>V1</th>\n",
       "      <th>V2</th>\n",
       "      <th>V3</th>\n",
       "      <th>V4</th>\n",
       "      <th>V5</th>\n",
       "      <th>V6</th>\n",
       "      <th>V7</th>\n",
       "      <th>V8</th>\n",
       "      <th>V9</th>\n",
       "      <th>...</th>\n",
       "      <th>V21</th>\n",
       "      <th>V22</th>\n",
       "      <th>V23</th>\n",
       "      <th>V24</th>\n",
       "      <th>V25</th>\n",
       "      <th>V26</th>\n",
       "      <th>V27</th>\n",
       "      <th>V28</th>\n",
       "      <th>Amount</th>\n",
       "      <th>Class</th>\n",
       "    </tr>\n",
       "  </thead>\n",
       "  <tbody>\n",
       "    <tr>\n",
       "      <th>42756</th>\n",
       "      <td>41233.0</td>\n",
       "      <td>-10.645800</td>\n",
       "      <td>5.918307</td>\n",
       "      <td>-11.671043</td>\n",
       "      <td>8.807369</td>\n",
       "      <td>-7.975501</td>\n",
       "      <td>-3.586806</td>\n",
       "      <td>-13.616797</td>\n",
       "      <td>6.428169</td>\n",
       "      <td>-7.368451</td>\n",
       "      <td>...</td>\n",
       "      <td>2.571970</td>\n",
       "      <td>0.206809</td>\n",
       "      <td>-1.667801</td>\n",
       "      <td>0.558419</td>\n",
       "      <td>-0.027898</td>\n",
       "      <td>0.354254</td>\n",
       "      <td>0.273329</td>\n",
       "      <td>-0.152908</td>\n",
       "      <td>0.0</td>\n",
       "      <td>1</td>\n",
       "    </tr>\n",
       "    <tr>\n",
       "      <th>67328</th>\n",
       "      <td>52475.0</td>\n",
       "      <td>-0.845990</td>\n",
       "      <td>0.871729</td>\n",
       "      <td>-0.409942</td>\n",
       "      <td>-1.750897</td>\n",
       "      <td>2.183947</td>\n",
       "      <td>3.297340</td>\n",
       "      <td>-0.191912</td>\n",
       "      <td>1.378423</td>\n",
       "      <td>-0.288344</td>\n",
       "      <td>...</td>\n",
       "      <td>-0.204713</td>\n",
       "      <td>-0.700417</td>\n",
       "      <td>-0.072271</td>\n",
       "      <td>1.019809</td>\n",
       "      <td>-0.036693</td>\n",
       "      <td>0.310689</td>\n",
       "      <td>0.178423</td>\n",
       "      <td>0.111049</td>\n",
       "      <td>1.0</td>\n",
       "      <td>0</td>\n",
       "    </tr>\n",
       "    <tr>\n",
       "      <th>111690</th>\n",
       "      <td>72327.0</td>\n",
       "      <td>-4.198735</td>\n",
       "      <td>0.194121</td>\n",
       "      <td>-3.917586</td>\n",
       "      <td>3.920748</td>\n",
       "      <td>-1.875486</td>\n",
       "      <td>-2.118933</td>\n",
       "      <td>-3.614445</td>\n",
       "      <td>1.687884</td>\n",
       "      <td>-2.189871</td>\n",
       "      <td>...</td>\n",
       "      <td>0.801312</td>\n",
       "      <td>-0.183001</td>\n",
       "      <td>-0.440387</td>\n",
       "      <td>0.292539</td>\n",
       "      <td>-0.144967</td>\n",
       "      <td>-0.251744</td>\n",
       "      <td>1.249414</td>\n",
       "      <td>-0.131525</td>\n",
       "      <td>238.9</td>\n",
       "      <td>1</td>\n",
       "    </tr>\n",
       "    <tr>\n",
       "      <th>44770</th>\n",
       "      <td>42077.0</td>\n",
       "      <td>1.248176</td>\n",
       "      <td>-0.440004</td>\n",
       "      <td>0.692491</td>\n",
       "      <td>0.770534</td>\n",
       "      <td>-0.889401</td>\n",
       "      <td>0.062798</td>\n",
       "      <td>-0.609255</td>\n",
       "      <td>0.082526</td>\n",
       "      <td>-0.449707</td>\n",
       "      <td>...</td>\n",
       "      <td>-0.417631</td>\n",
       "      <td>-0.481747</td>\n",
       "      <td>0.011523</td>\n",
       "      <td>0.047903</td>\n",
       "      <td>0.503131</td>\n",
       "      <td>-0.266622</td>\n",
       "      <td>0.078857</td>\n",
       "      <td>0.024534</td>\n",
       "      <td>12.0</td>\n",
       "      <td>0</td>\n",
       "    </tr>\n",
       "    <tr>\n",
       "      <th>242138</th>\n",
       "      <td>151358.0</td>\n",
       "      <td>2.329298</td>\n",
       "      <td>-1.377722</td>\n",
       "      <td>-0.970346</td>\n",
       "      <td>-1.620858</td>\n",
       "      <td>-1.146113</td>\n",
       "      <td>-0.537416</td>\n",
       "      <td>-1.145965</td>\n",
       "      <td>-0.223089</td>\n",
       "      <td>-1.094738</td>\n",
       "      <td>...</td>\n",
       "      <td>-0.201314</td>\n",
       "      <td>-0.033190</td>\n",
       "      <td>0.153938</td>\n",
       "      <td>-0.725947</td>\n",
       "      <td>-0.142449</td>\n",
       "      <td>-0.134940</td>\n",
       "      <td>0.021796</td>\n",
       "      <td>-0.052560</td>\n",
       "      <td>19.6</td>\n",
       "      <td>0</td>\n",
       "    </tr>\n",
       "  </tbody>\n",
       "</table>\n",
       "<p>5 rows × 31 columns</p>\n",
       "</div>"
      ],
      "text/plain": [
       "            Time         V1        V2         V3        V4        V5  \\\n",
       "42756    41233.0 -10.645800  5.918307 -11.671043  8.807369 -7.975501   \n",
       "67328    52475.0  -0.845990  0.871729  -0.409942 -1.750897  2.183947   \n",
       "111690   72327.0  -4.198735  0.194121  -3.917586  3.920748 -1.875486   \n",
       "44770    42077.0   1.248176 -0.440004   0.692491  0.770534 -0.889401   \n",
       "242138  151358.0   2.329298 -1.377722  -0.970346 -1.620858 -1.146113   \n",
       "\n",
       "              V6         V7        V8        V9  ...       V21       V22  \\\n",
       "42756  -3.586806 -13.616797  6.428169 -7.368451  ...  2.571970  0.206809   \n",
       "67328   3.297340  -0.191912  1.378423 -0.288344  ... -0.204713 -0.700417   \n",
       "111690 -2.118933  -3.614445  1.687884 -2.189871  ...  0.801312 -0.183001   \n",
       "44770   0.062798  -0.609255  0.082526 -0.449707  ... -0.417631 -0.481747   \n",
       "242138 -0.537416  -1.145965 -0.223089 -1.094738  ... -0.201314 -0.033190   \n",
       "\n",
       "             V23       V24       V25       V26       V27       V28  Amount  \\\n",
       "42756  -1.667801  0.558419 -0.027898  0.354254  0.273329 -0.152908     0.0   \n",
       "67328  -0.072271  1.019809 -0.036693  0.310689  0.178423  0.111049     1.0   \n",
       "111690 -0.440387  0.292539 -0.144967 -0.251744  1.249414 -0.131525   238.9   \n",
       "44770   0.011523  0.047903  0.503131 -0.266622  0.078857  0.024534    12.0   \n",
       "242138  0.153938 -0.725947 -0.142449 -0.134940  0.021796 -0.052560    19.6   \n",
       "\n",
       "        Class  \n",
       "42756       1  \n",
       "67328       0  \n",
       "111690      1  \n",
       "44770       0  \n",
       "242138      0  \n",
       "\n",
       "[5 rows x 31 columns]"
      ]
     },
     "execution_count": 30,
     "metadata": {},
     "output_type": "execute_result"
    }
   ],
   "source": [
    "# Create a more balanced data set. This training set will have a 50 / 50 split of valid and fraudulent transactions.\n",
    "# I'll randomly sample 492 valid transactions and then add on the remaining 492 invalid transactions for a total of \n",
    "# 984. \n",
    "\n",
    "valid_sample = valid_transactions.sample(492)\n",
    "\n",
    "# Shuffle the data \n",
    "\n",
    "sample_data_df = pd.concat([valid_sample, fraudulent_transactions]).sample(frac = 1, random_state = 42)\n",
    "\n",
    "sample_data_df.head()"
   ]
  },
  {
   "cell_type": "code",
   "execution_count": 31,
   "metadata": {},
   "outputs": [],
   "source": [
    "# Scale the data. Must run the previous block before this one to avoid error.\n",
    "\n",
    "from sklearn.preprocessing import StandardScaler, RobustScaler\n",
    "\n",
    "std_scaler = StandardScaler()\n",
    "rob_scaler = RobustScaler()\n",
    "\n",
    "sample_data_df['scaled_amount'] = rob_scaler.fit_transform(sample_data_df['Amount'].values.reshape(-1,1))\n",
    "sample_data_df['scaled_time'] = rob_scaler.fit_transform(sample_data_df['Time'].values.reshape(-1,1))\n",
    "\n",
    "sample_data_df.drop(['Time','Amount'], axis=1, inplace=True)"
   ]
  },
  {
   "cell_type": "code",
   "execution_count": 32,
   "metadata": {},
   "outputs": [
    {
     "data": {
      "text/html": [
       "<div>\n",
       "<style scoped>\n",
       "    .dataframe tbody tr th:only-of-type {\n",
       "        vertical-align: middle;\n",
       "    }\n",
       "\n",
       "    .dataframe tbody tr th {\n",
       "        vertical-align: top;\n",
       "    }\n",
       "\n",
       "    .dataframe thead th {\n",
       "        text-align: right;\n",
       "    }\n",
       "</style>\n",
       "<table border=\"1\" class=\"dataframe\">\n",
       "  <thead>\n",
       "    <tr style=\"text-align: right;\">\n",
       "      <th></th>\n",
       "      <th>scaled_amount</th>\n",
       "      <th>scaled_time</th>\n",
       "      <th>V1</th>\n",
       "      <th>V2</th>\n",
       "      <th>V3</th>\n",
       "      <th>V4</th>\n",
       "      <th>V5</th>\n",
       "      <th>V6</th>\n",
       "      <th>V7</th>\n",
       "      <th>V8</th>\n",
       "      <th>...</th>\n",
       "      <th>V20</th>\n",
       "      <th>V21</th>\n",
       "      <th>V22</th>\n",
       "      <th>V23</th>\n",
       "      <th>V24</th>\n",
       "      <th>V25</th>\n",
       "      <th>V26</th>\n",
       "      <th>V27</th>\n",
       "      <th>V28</th>\n",
       "      <th>Class</th>\n",
       "    </tr>\n",
       "  </thead>\n",
       "  <tbody>\n",
       "    <tr>\n",
       "      <th>42756</th>\n",
       "      <td>-0.192806</td>\n",
       "      <td>-0.459821</td>\n",
       "      <td>-10.645800</td>\n",
       "      <td>5.918307</td>\n",
       "      <td>-11.671043</td>\n",
       "      <td>8.807369</td>\n",
       "      <td>-7.975501</td>\n",
       "      <td>-3.586806</td>\n",
       "      <td>-13.616797</td>\n",
       "      <td>6.428169</td>\n",
       "      <td>...</td>\n",
       "      <td>-0.046170</td>\n",
       "      <td>2.571970</td>\n",
       "      <td>0.206809</td>\n",
       "      <td>-1.667801</td>\n",
       "      <td>0.558419</td>\n",
       "      <td>-0.027898</td>\n",
       "      <td>0.354254</td>\n",
       "      <td>0.273329</td>\n",
       "      <td>-0.152908</td>\n",
       "      <td>1</td>\n",
       "    </tr>\n",
       "    <tr>\n",
       "      <th>67328</th>\n",
       "      <td>-0.182675</td>\n",
       "      <td>-0.336208</td>\n",
       "      <td>-0.845990</td>\n",
       "      <td>0.871729</td>\n",
       "      <td>-0.409942</td>\n",
       "      <td>-1.750897</td>\n",
       "      <td>2.183947</td>\n",
       "      <td>3.297340</td>\n",
       "      <td>-0.191912</td>\n",
       "      <td>1.378423</td>\n",
       "      <td>...</td>\n",
       "      <td>0.024941</td>\n",
       "      <td>-0.204713</td>\n",
       "      <td>-0.700417</td>\n",
       "      <td>-0.072271</td>\n",
       "      <td>1.019809</td>\n",
       "      <td>-0.036693</td>\n",
       "      <td>0.310689</td>\n",
       "      <td>0.178423</td>\n",
       "      <td>0.111049</td>\n",
       "      <td>0</td>\n",
       "    </tr>\n",
       "    <tr>\n",
       "      <th>111690</th>\n",
       "      <td>2.227660</td>\n",
       "      <td>-0.117923</td>\n",
       "      <td>-4.198735</td>\n",
       "      <td>0.194121</td>\n",
       "      <td>-3.917586</td>\n",
       "      <td>3.920748</td>\n",
       "      <td>-1.875486</td>\n",
       "      <td>-2.118933</td>\n",
       "      <td>-3.614445</td>\n",
       "      <td>1.687884</td>\n",
       "      <td>...</td>\n",
       "      <td>1.003350</td>\n",
       "      <td>0.801312</td>\n",
       "      <td>-0.183001</td>\n",
       "      <td>-0.440387</td>\n",
       "      <td>0.292539</td>\n",
       "      <td>-0.144967</td>\n",
       "      <td>-0.251744</td>\n",
       "      <td>1.249414</td>\n",
       "      <td>-0.131525</td>\n",
       "      <td>1</td>\n",
       "    </tr>\n",
       "    <tr>\n",
       "      <th>44770</th>\n",
       "      <td>-0.071226</td>\n",
       "      <td>-0.450540</td>\n",
       "      <td>1.248176</td>\n",
       "      <td>-0.440004</td>\n",
       "      <td>0.692491</td>\n",
       "      <td>0.770534</td>\n",
       "      <td>-0.889401</td>\n",
       "      <td>0.062798</td>\n",
       "      <td>-0.609255</td>\n",
       "      <td>0.082526</td>\n",
       "      <td>...</td>\n",
       "      <td>-0.616351</td>\n",
       "      <td>-0.417631</td>\n",
       "      <td>-0.481747</td>\n",
       "      <td>0.011523</td>\n",
       "      <td>0.047903</td>\n",
       "      <td>0.503131</td>\n",
       "      <td>-0.266622</td>\n",
       "      <td>0.078857</td>\n",
       "      <td>0.024534</td>\n",
       "      <td>0</td>\n",
       "    </tr>\n",
       "    <tr>\n",
       "      <th>242138</th>\n",
       "      <td>0.005775</td>\n",
       "      <td>0.751073</td>\n",
       "      <td>2.329298</td>\n",
       "      <td>-1.377722</td>\n",
       "      <td>-0.970346</td>\n",
       "      <td>-1.620858</td>\n",
       "      <td>-1.146113</td>\n",
       "      <td>-0.537416</td>\n",
       "      <td>-1.145965</td>\n",
       "      <td>-0.223089</td>\n",
       "      <td>...</td>\n",
       "      <td>-0.386658</td>\n",
       "      <td>-0.201314</td>\n",
       "      <td>-0.033190</td>\n",
       "      <td>0.153938</td>\n",
       "      <td>-0.725947</td>\n",
       "      <td>-0.142449</td>\n",
       "      <td>-0.134940</td>\n",
       "      <td>0.021796</td>\n",
       "      <td>-0.052560</td>\n",
       "      <td>0</td>\n",
       "    </tr>\n",
       "  </tbody>\n",
       "</table>\n",
       "<p>5 rows × 31 columns</p>\n",
       "</div>"
      ],
      "text/plain": [
       "        scaled_amount  scaled_time         V1        V2         V3        V4  \\\n",
       "42756       -0.192806    -0.459821 -10.645800  5.918307 -11.671043  8.807369   \n",
       "67328       -0.182675    -0.336208  -0.845990  0.871729  -0.409942 -1.750897   \n",
       "111690       2.227660    -0.117923  -4.198735  0.194121  -3.917586  3.920748   \n",
       "44770       -0.071226    -0.450540   1.248176 -0.440004   0.692491  0.770534   \n",
       "242138       0.005775     0.751073   2.329298 -1.377722  -0.970346 -1.620858   \n",
       "\n",
       "              V5        V6         V7        V8  ...       V20       V21  \\\n",
       "42756  -7.975501 -3.586806 -13.616797  6.428169  ... -0.046170  2.571970   \n",
       "67328   2.183947  3.297340  -0.191912  1.378423  ...  0.024941 -0.204713   \n",
       "111690 -1.875486 -2.118933  -3.614445  1.687884  ...  1.003350  0.801312   \n",
       "44770  -0.889401  0.062798  -0.609255  0.082526  ... -0.616351 -0.417631   \n",
       "242138 -1.146113 -0.537416  -1.145965 -0.223089  ... -0.386658 -0.201314   \n",
       "\n",
       "             V22       V23       V24       V25       V26       V27       V28  \\\n",
       "42756   0.206809 -1.667801  0.558419 -0.027898  0.354254  0.273329 -0.152908   \n",
       "67328  -0.700417 -0.072271  1.019809 -0.036693  0.310689  0.178423  0.111049   \n",
       "111690 -0.183001 -0.440387  0.292539 -0.144967 -0.251744  1.249414 -0.131525   \n",
       "44770  -0.481747  0.011523  0.047903  0.503131 -0.266622  0.078857  0.024534   \n",
       "242138 -0.033190  0.153938 -0.725947 -0.142449 -0.134940  0.021796 -0.052560   \n",
       "\n",
       "        Class  \n",
       "42756       1  \n",
       "67328       0  \n",
       "111690      1  \n",
       "44770       0  \n",
       "242138      0  \n",
       "\n",
       "[5 rows x 31 columns]"
      ]
     },
     "execution_count": 32,
     "metadata": {},
     "output_type": "execute_result"
    }
   ],
   "source": [
    "#  Add them back in \n",
    "\n",
    "scaled_amount = sample_data_df['scaled_amount']\n",
    "scaled_time = sample_data_df['scaled_time']\n",
    "\n",
    "sample_data_df.drop(['scaled_amount', 'scaled_time'], axis=1, inplace=True)\n",
    "sample_data_df.insert(0, 'scaled_amount', scaled_amount)\n",
    "sample_data_df.insert(1, 'scaled_time', scaled_time)\n",
    "\n",
    "# Now the amount and time are scaled.\n",
    "\n",
    "sample_data_df.head()"
   ]
  },
  {
   "cell_type": "code",
   "execution_count": 33,
   "metadata": {},
   "outputs": [],
   "source": [
    "# Set aside training/test data. \n",
    "\n",
    "sample_data_train = sample_data_df.sample(frac = .80, random_state = 440)\n",
    "sample_data_test = sample_data_df.drop(sample_data_train.index)"
   ]
  },
  {
   "cell_type": "code",
   "execution_count": 34,
   "metadata": {},
   "outputs": [],
   "source": [
    "\n",
    "# The training data: here I'm defining X_train to be a numpy array \n",
    "# consisting of the entries in sample_data_train minus the 'Class' column.\n",
    "# y_train is of course the 'Class' column.\n",
    "\n",
    "X_train = np.array(sample_data_train.iloc[:, :-1])\n",
    "y_train = np.array(sample_data_train.iloc[:, -1])\n",
    "\n",
    "X_train = X_train.reshape(-1, 30)\n",
    "y_train = y_train.reshape(-1, 1)\n",
    "\n",
    "# And the test data:\n",
    "\n",
    "X_test = np.array(sample_data_test.iloc[:, :-1])\n",
    "y_test = np.array(sample_data_test.iloc[:, -1])\n",
    "\n",
    "X_test = X_test.reshape(-1, 30)\n",
    "y_test = y_test.reshape(-1, 1)\n"
   ]
  },
  {
   "cell_type": "code",
   "execution_count": 35,
   "metadata": {},
   "outputs": [
    {
     "name": "stdout",
     "output_type": "stream",
     "text": [
      "(629, 30) <class 'numpy.ndarray'>\n",
      "(629, 1) <class 'numpy.ndarray'>\n",
      "(158, 30) <class 'numpy.ndarray'>\n",
      "(158, 1) <class 'numpy.ndarray'>\n",
      "\n",
      "\n",
      "\n",
      "(629, 2) <class 'numpy.ndarray'>\n",
      "(158, 2) <class 'numpy.ndarray'>\n"
     ]
    }
   ],
   "source": [
    "# Further split the training data into train_train/validation. \n",
    "\n",
    "from sklearn.model_selection import train_test_split\n",
    "\n",
    "X_train_train,X_val,y_train_train,y_val = train_test_split(X_train, y_train,\n",
    "                                                          test_size=.2,\n",
    "                                                          shuffle=True,\n",
    "                                                          stratify=y_train,\n",
    "                                                          random_state=440)\n",
    "\n",
    "# Check out the shape of the data. \n",
    "\n",
    "print(np.shape(X_train_train), type(X_train_train))\n",
    "print(np.shape(y_train_train), type(y_train_train))\n",
    "print(np.shape(X_val), type(X_val))\n",
    "print(np.shape(y_val), type(y_val))\n",
    "print('\\n\\n')\n",
    "print(np.shape(to_categorical(y_train_train)), type(to_categorical(y_train_train)))\n",
    "print(np.shape(to_categorical(y_val)), type(to_categorical(y_val)))"
   ]
  },
  {
   "cell_type": "code",
   "execution_count": 36,
   "metadata": {},
   "outputs": [],
   "source": [
    "## Empty model\n",
    "model = models.Sequential()"
   ]
  },
  {
   "cell_type": "code",
   "execution_count": 37,
   "metadata": {},
   "outputs": [],
   "source": [
    "## Make the layers. ONLY RUN THIS ONCE. Make sure the input_shape matches the number of features.\n",
    "\n",
    "model.add(layers.Dense(30, activation='relu', input_shape=(30,)))\n",
    "\n",
    "model.add(layers.Dense(32, activation='relu'))\n",
    "\n",
    "model.add(layers.Dense(2, activation='softmax'))"
   ]
  },
  {
   "cell_type": "code",
   "execution_count": 38,
   "metadata": {},
   "outputs": [
    {
     "name": "stdout",
     "output_type": "stream",
     "text": [
      "Model: \"sequential\"\n",
      "_________________________________________________________________\n",
      "Layer (type)                 Output Shape              Param #   \n",
      "=================================================================\n",
      "dense (Dense)                (None, 30)                930       \n",
      "_________________________________________________________________\n",
      "dense_1 (Dense)              (None, 32)                992       \n",
      "_________________________________________________________________\n",
      "dense_2 (Dense)              (None, 2)                 66        \n",
      "=================================================================\n",
      "Total params: 1,988\n",
      "Trainable params: 1,988\n",
      "Non-trainable params: 0\n",
      "_________________________________________________________________\n"
     ]
    }
   ],
   "source": [
    "# Gives a model summary\n",
    "\n",
    "model.summary()"
   ]
  },
  {
   "cell_type": "code",
   "execution_count": 39,
   "metadata": {},
   "outputs": [],
   "source": [
    "# Here we compile the model. We use binary cross-entropy. \n",
    "\n",
    "model.compile(optimizer='Adam',\n",
    "                  loss='sparse_categorical_crossentropy',\n",
    "                  metrics=['accuracy'])"
   ]
  },
  {
   "cell_type": "code",
   "execution_count": 40,
   "metadata": {},
   "outputs": [
    {
     "name": "stdout",
     "output_type": "stream",
     "text": [
      "Epoch 1/100\n",
      "26/26 [==============================] - 16s 23ms/step - loss: 0.5264 - accuracy: 0.6030 - val_loss: 0.3401 - val_accuracy: 0.8671\n",
      "Epoch 2/100\n",
      "26/26 [==============================] - 0s 2ms/step - loss: 0.3166 - accuracy: 0.9291 - val_loss: 0.2607 - val_accuracy: 0.9367\n",
      "Epoch 3/100\n",
      "26/26 [==============================] - 0s 6ms/step - loss: 0.2361 - accuracy: 0.9363 - val_loss: 0.2226 - val_accuracy: 0.9367\n",
      "Epoch 4/100\n",
      "26/26 [==============================] - 0s 2ms/step - loss: 0.1856 - accuracy: 0.9535 - val_loss: 0.2011 - val_accuracy: 0.9367\n",
      "Epoch 5/100\n",
      "26/26 [==============================] - 0s 2ms/step - loss: 0.1616 - accuracy: 0.9511 - val_loss: 0.1897 - val_accuracy: 0.9367\n",
      "Epoch 6/100\n",
      "26/26 [==============================] - 0s 2ms/step - loss: 0.1448 - accuracy: 0.9440 - val_loss: 0.1848 - val_accuracy: 0.9304\n",
      "Epoch 7/100\n",
      "26/26 [==============================] - 0s 2ms/step - loss: 0.1330 - accuracy: 0.9513 - val_loss: 0.1802 - val_accuracy: 0.9177\n",
      "Epoch 8/100\n",
      "26/26 [==============================] - 0s 2ms/step - loss: 0.1193 - accuracy: 0.9585 - val_loss: 0.1785 - val_accuracy: 0.9177\n",
      "Epoch 9/100\n",
      "26/26 [==============================] - 0s 2ms/step - loss: 0.1151 - accuracy: 0.9590 - val_loss: 0.1809 - val_accuracy: 0.9177\n",
      "Epoch 10/100\n",
      "26/26 [==============================] - 0s 2ms/step - loss: 0.1079 - accuracy: 0.9606 - val_loss: 0.1775 - val_accuracy: 0.9304\n",
      "Epoch 11/100\n",
      "26/26 [==============================] - 0s 2ms/step - loss: 0.0906 - accuracy: 0.9677 - val_loss: 0.1780 - val_accuracy: 0.9304\n",
      "Epoch 12/100\n",
      "26/26 [==============================] - 0s 3ms/step - loss: 0.1089 - accuracy: 0.9616 - val_loss: 0.1795 - val_accuracy: 0.9241\n",
      "Epoch 13/100\n",
      "26/26 [==============================] - 0s 2ms/step - loss: 0.0879 - accuracy: 0.9708 - val_loss: 0.1806 - val_accuracy: 0.9241\n",
      "Epoch 14/100\n",
      "26/26 [==============================] - 0s 2ms/step - loss: 0.0837 - accuracy: 0.9599 - val_loss: 0.1771 - val_accuracy: 0.9304\n",
      "Epoch 15/100\n",
      "26/26 [==============================] - 0s 2ms/step - loss: 0.0749 - accuracy: 0.9754 - val_loss: 0.1776 - val_accuracy: 0.9241\n",
      "Epoch 16/100\n",
      "26/26 [==============================] - 0s 2ms/step - loss: 0.0765 - accuracy: 0.9776 - val_loss: 0.1750 - val_accuracy: 0.9304\n",
      "Epoch 17/100\n",
      "26/26 [==============================] - 0s 2ms/step - loss: 0.0588 - accuracy: 0.9796 - val_loss: 0.1802 - val_accuracy: 0.9177\n",
      "Epoch 18/100\n",
      "26/26 [==============================] - 0s 2ms/step - loss: 0.0634 - accuracy: 0.9742 - val_loss: 0.1797 - val_accuracy: 0.9304\n",
      "Epoch 19/100\n",
      "26/26 [==============================] - 0s 2ms/step - loss: 0.0867 - accuracy: 0.9683 - val_loss: 0.1811 - val_accuracy: 0.9177\n",
      "Epoch 20/100\n",
      "26/26 [==============================] - 0s 2ms/step - loss: 0.0630 - accuracy: 0.9809 - val_loss: 0.1800 - val_accuracy: 0.9304\n",
      "Epoch 21/100\n",
      "26/26 [==============================] - 0s 2ms/step - loss: 0.0580 - accuracy: 0.9779 - val_loss: 0.1834 - val_accuracy: 0.9304\n",
      "Epoch 22/100\n",
      "26/26 [==============================] - 0s 2ms/step - loss: 0.0562 - accuracy: 0.9767 - val_loss: 0.1830 - val_accuracy: 0.9304\n",
      "Epoch 23/100\n",
      "26/26 [==============================] - 0s 2ms/step - loss: 0.0500 - accuracy: 0.9814 - val_loss: 0.1855 - val_accuracy: 0.9241\n",
      "Epoch 24/100\n",
      "26/26 [==============================] - 0s 2ms/step - loss: 0.0534 - accuracy: 0.9784 - val_loss: 0.1858 - val_accuracy: 0.9177\n",
      "Epoch 25/100\n",
      "26/26 [==============================] - 0s 2ms/step - loss: 0.0420 - accuracy: 0.9823 - val_loss: 0.1883 - val_accuracy: 0.9177\n",
      "Epoch 26/100\n",
      "26/26 [==============================] - 0s 2ms/step - loss: 0.0400 - accuracy: 0.9882 - val_loss: 0.1884 - val_accuracy: 0.9241\n",
      "Epoch 27/100\n",
      "26/26 [==============================] - 0s 2ms/step - loss: 0.0395 - accuracy: 0.9858 - val_loss: 0.1909 - val_accuracy: 0.9241\n",
      "Epoch 28/100\n",
      "26/26 [==============================] - 0s 2ms/step - loss: 0.0396 - accuracy: 0.9860 - val_loss: 0.1940 - val_accuracy: 0.9241\n",
      "Epoch 29/100\n",
      "26/26 [==============================] - 0s 2ms/step - loss: 0.0487 - accuracy: 0.9808 - val_loss: 0.1953 - val_accuracy: 0.9241\n",
      "Epoch 30/100\n",
      "26/26 [==============================] - 0s 2ms/step - loss: 0.0359 - accuracy: 0.9881 - val_loss: 0.1979 - val_accuracy: 0.9241\n",
      "Epoch 31/100\n",
      "26/26 [==============================] - 0s 2ms/step - loss: 0.0341 - accuracy: 0.9900 - val_loss: 0.1983 - val_accuracy: 0.9241\n",
      "Epoch 32/100\n",
      "26/26 [==============================] - 0s 2ms/step - loss: 0.0334 - accuracy: 0.9857 - val_loss: 0.2010 - val_accuracy: 0.9241\n",
      "Epoch 33/100\n",
      "26/26 [==============================] - 0s 2ms/step - loss: 0.0280 - accuracy: 0.9930 - val_loss: 0.2066 - val_accuracy: 0.9241\n",
      "Epoch 34/100\n",
      "26/26 [==============================] - 0s 3ms/step - loss: 0.0372 - accuracy: 0.9853 - val_loss: 0.2065 - val_accuracy: 0.9241\n",
      "Epoch 35/100\n",
      "26/26 [==============================] - 0s 2ms/step - loss: 0.0226 - accuracy: 0.9949 - val_loss: 0.2117 - val_accuracy: 0.9241\n",
      "Epoch 36/100\n",
      "26/26 [==============================] - 0s 2ms/step - loss: 0.0267 - accuracy: 0.9940 - val_loss: 0.2117 - val_accuracy: 0.9177\n",
      "Epoch 37/100\n",
      "26/26 [==============================] - 0s 2ms/step - loss: 0.0298 - accuracy: 0.9876 - val_loss: 0.2148 - val_accuracy: 0.9177\n",
      "Epoch 38/100\n",
      "26/26 [==============================] - 0s 2ms/step - loss: 0.0248 - accuracy: 0.9918 - val_loss: 0.2172 - val_accuracy: 0.9177\n",
      "Epoch 39/100\n",
      "26/26 [==============================] - 0s 2ms/step - loss: 0.0242 - accuracy: 0.9887 - val_loss: 0.2190 - val_accuracy: 0.9177\n",
      "Epoch 40/100\n",
      "26/26 [==============================] - 0s 2ms/step - loss: 0.0194 - accuracy: 0.9953 - val_loss: 0.2228 - val_accuracy: 0.9177\n",
      "Epoch 41/100\n",
      "26/26 [==============================] - 0s 2ms/step - loss: 0.0192 - accuracy: 0.9977 - val_loss: 0.2246 - val_accuracy: 0.9177\n",
      "Epoch 42/100\n",
      "26/26 [==============================] - 0s 2ms/step - loss: 0.0187 - accuracy: 0.9973 - val_loss: 0.2261 - val_accuracy: 0.9177\n",
      "Epoch 43/100\n",
      "26/26 [==============================] - 0s 2ms/step - loss: 0.0198 - accuracy: 0.9982 - val_loss: 0.2271 - val_accuracy: 0.9177\n",
      "Epoch 44/100\n",
      "26/26 [==============================] - 0s 2ms/step - loss: 0.0192 - accuracy: 0.9981 - val_loss: 0.2311 - val_accuracy: 0.9177\n",
      "Epoch 45/100\n",
      "26/26 [==============================] - 0s 2ms/step - loss: 0.0200 - accuracy: 0.9974 - val_loss: 0.2340 - val_accuracy: 0.9177\n",
      "Epoch 46/100\n",
      "26/26 [==============================] - 0s 3ms/step - loss: 0.0194 - accuracy: 0.9984 - val_loss: 0.2360 - val_accuracy: 0.9177\n",
      "Epoch 47/100\n",
      "26/26 [==============================] - 0s 2ms/step - loss: 0.0128 - accuracy: 0.9993 - val_loss: 0.2372 - val_accuracy: 0.9241\n",
      "Epoch 48/100\n",
      "26/26 [==============================] - 0s 2ms/step - loss: 0.0109 - accuracy: 0.9995 - val_loss: 0.2404 - val_accuracy: 0.9241\n",
      "Epoch 49/100\n",
      "26/26 [==============================] - 0s 2ms/step - loss: 0.0185 - accuracy: 0.9957 - val_loss: 0.2388 - val_accuracy: 0.9241\n",
      "Epoch 50/100\n",
      "26/26 [==============================] - 0s 3ms/step - loss: 0.0142 - accuracy: 0.9987 - val_loss: 0.2441 - val_accuracy: 0.9304\n",
      "Epoch 51/100\n",
      "26/26 [==============================] - 0s 3ms/step - loss: 0.0121 - accuracy: 0.9998 - val_loss: 0.2457 - val_accuracy: 0.9241\n",
      "Epoch 52/100\n",
      "26/26 [==============================] - 0s 3ms/step - loss: 0.0119 - accuracy: 0.9969 - val_loss: 0.2501 - val_accuracy: 0.9241\n",
      "Epoch 53/100\n",
      "26/26 [==============================] - 0s 3ms/step - loss: 0.0100 - accuracy: 0.9998 - val_loss: 0.2590 - val_accuracy: 0.9241\n",
      "Epoch 54/100\n",
      "26/26 [==============================] - 0s 4ms/step - loss: 0.0115 - accuracy: 0.9979 - val_loss: 0.2562 - val_accuracy: 0.9304\n",
      "Epoch 55/100\n",
      "26/26 [==============================] - 0s 3ms/step - loss: 0.0102 - accuracy: 0.9998 - val_loss: 0.2534 - val_accuracy: 0.9304\n",
      "Epoch 56/100\n",
      "26/26 [==============================] - 0s 3ms/step - loss: 0.0112 - accuracy: 0.9979 - val_loss: 0.2533 - val_accuracy: 0.9304\n",
      "Epoch 57/100\n",
      "26/26 [==============================] - 0s 2ms/step - loss: 0.0122 - accuracy: 0.9979 - val_loss: 0.2577 - val_accuracy: 0.9304\n",
      "Epoch 58/100\n",
      "26/26 [==============================] - 0s 2ms/step - loss: 0.0108 - accuracy: 0.9973 - val_loss: 0.2603 - val_accuracy: 0.9241\n"
     ]
    },
    {
     "name": "stdout",
     "output_type": "stream",
     "text": [
      "Epoch 59/100\n",
      "26/26 [==============================] - 0s 2ms/step - loss: 0.0085 - accuracy: 0.9988 - val_loss: 0.2645 - val_accuracy: 0.9304\n",
      "Epoch 60/100\n",
      "26/26 [==============================] - 0s 2ms/step - loss: 0.0074 - accuracy: 1.0000 - val_loss: 0.2641 - val_accuracy: 0.9241\n",
      "Epoch 61/100\n",
      "26/26 [==============================] - 0s 2ms/step - loss: 0.0084 - accuracy: 1.0000 - val_loss: 0.2699 - val_accuracy: 0.9304\n",
      "Epoch 62/100\n",
      "26/26 [==============================] - 0s 3ms/step - loss: 0.0065 - accuracy: 1.0000 - val_loss: 0.2724 - val_accuracy: 0.9304\n",
      "Epoch 63/100\n",
      "26/26 [==============================] - 0s 2ms/step - loss: 0.0078 - accuracy: 1.0000 - val_loss: 0.2743 - val_accuracy: 0.9304\n",
      "Epoch 64/100\n",
      "26/26 [==============================] - 0s 3ms/step - loss: 0.0068 - accuracy: 1.0000 - val_loss: 0.2752 - val_accuracy: 0.9304\n",
      "Epoch 65/100\n",
      "26/26 [==============================] - 0s 2ms/step - loss: 0.0095 - accuracy: 1.0000 - val_loss: 0.2767 - val_accuracy: 0.9304\n",
      "Epoch 66/100\n",
      "26/26 [==============================] - 0s 2ms/step - loss: 0.0057 - accuracy: 1.0000 - val_loss: 0.2803 - val_accuracy: 0.9304\n",
      "Epoch 67/100\n",
      "26/26 [==============================] - 0s 2ms/step - loss: 0.0052 - accuracy: 1.0000 - val_loss: 0.2840 - val_accuracy: 0.9304\n",
      "Epoch 68/100\n",
      "26/26 [==============================] - 0s 2ms/step - loss: 0.0051 - accuracy: 1.0000 - val_loss: 0.2853 - val_accuracy: 0.9304\n",
      "Epoch 69/100\n",
      "26/26 [==============================] - 0s 2ms/step - loss: 0.0042 - accuracy: 1.0000 - val_loss: 0.2905 - val_accuracy: 0.9304\n",
      "Epoch 70/100\n",
      "26/26 [==============================] - 0s 2ms/step - loss: 0.0048 - accuracy: 1.0000 - val_loss: 0.2911 - val_accuracy: 0.9241\n",
      "Epoch 71/100\n",
      "26/26 [==============================] - 0s 3ms/step - loss: 0.0056 - accuracy: 1.0000 - val_loss: 0.2924 - val_accuracy: 0.9304\n",
      "Epoch 72/100\n",
      "26/26 [==============================] - 0s 3ms/step - loss: 0.0048 - accuracy: 1.0000 - val_loss: 0.2950 - val_accuracy: 0.9304\n",
      "Epoch 73/100\n",
      "26/26 [==============================] - 0s 2ms/step - loss: 0.0037 - accuracy: 1.0000 - val_loss: 0.2971 - val_accuracy: 0.9241\n",
      "Epoch 74/100\n",
      "26/26 [==============================] - 0s 2ms/step - loss: 0.0028 - accuracy: 1.0000 - val_loss: 0.2984 - val_accuracy: 0.9241\n",
      "Epoch 75/100\n",
      "26/26 [==============================] - 0s 2ms/step - loss: 0.0048 - accuracy: 1.0000 - val_loss: 0.3011 - val_accuracy: 0.9241\n",
      "Epoch 76/100\n",
      "26/26 [==============================] - 0s 2ms/step - loss: 0.0027 - accuracy: 1.0000 - val_loss: 0.3032 - val_accuracy: 0.9241\n",
      "Epoch 77/100\n",
      "26/26 [==============================] - 0s 2ms/step - loss: 0.0030 - accuracy: 1.0000 - val_loss: 0.3068 - val_accuracy: 0.9241\n",
      "Epoch 78/100\n",
      "26/26 [==============================] - 0s 2ms/step - loss: 0.0034 - accuracy: 1.0000 - val_loss: 0.3059 - val_accuracy: 0.9241\n",
      "Epoch 79/100\n",
      "26/26 [==============================] - 0s 2ms/step - loss: 0.0036 - accuracy: 1.0000 - val_loss: 0.3090 - val_accuracy: 0.9241\n",
      "Epoch 80/100\n",
      "26/26 [==============================] - 0s 2ms/step - loss: 0.0037 - accuracy: 1.0000 - val_loss: 0.3130 - val_accuracy: 0.9241\n",
      "Epoch 81/100\n",
      "26/26 [==============================] - 0s 2ms/step - loss: 0.0025 - accuracy: 1.0000 - val_loss: 0.3130 - val_accuracy: 0.9241\n",
      "Epoch 82/100\n",
      "26/26 [==============================] - 0s 2ms/step - loss: 0.0029 - accuracy: 1.0000 - val_loss: 0.3146 - val_accuracy: 0.9241\n",
      "Epoch 83/100\n",
      "26/26 [==============================] - 0s 2ms/step - loss: 0.0026 - accuracy: 1.0000 - val_loss: 0.3159 - val_accuracy: 0.9241\n",
      "Epoch 84/100\n",
      "26/26 [==============================] - 0s 2ms/step - loss: 0.0025 - accuracy: 1.0000 - val_loss: 0.3203 - val_accuracy: 0.9177\n",
      "Epoch 85/100\n",
      "26/26 [==============================] - 0s 2ms/step - loss: 0.0027 - accuracy: 1.0000 - val_loss: 0.3202 - val_accuracy: 0.9241\n",
      "Epoch 86/100\n",
      "26/26 [==============================] - 0s 3ms/step - loss: 0.0037 - accuracy: 1.0000 - val_loss: 0.3222 - val_accuracy: 0.9241\n",
      "Epoch 87/100\n",
      "26/26 [==============================] - 0s 2ms/step - loss: 0.0023 - accuracy: 1.0000 - val_loss: 0.3243 - val_accuracy: 0.9304\n",
      "Epoch 88/100\n",
      "26/26 [==============================] - 0s 2ms/step - loss: 0.0024 - accuracy: 1.0000 - val_loss: 0.3244 - val_accuracy: 0.9241\n",
      "Epoch 89/100\n",
      "26/26 [==============================] - 0s 2ms/step - loss: 0.0019 - accuracy: 1.0000 - val_loss: 0.3283 - val_accuracy: 0.9304\n",
      "Epoch 90/100\n",
      "26/26 [==============================] - 0s 2ms/step - loss: 0.0024 - accuracy: 1.0000 - val_loss: 0.3269 - val_accuracy: 0.9304\n",
      "Epoch 91/100\n",
      "26/26 [==============================] - 0s 2ms/step - loss: 0.0021 - accuracy: 1.0000 - val_loss: 0.3303 - val_accuracy: 0.9304\n",
      "Epoch 92/100\n",
      "26/26 [==============================] - 0s 2ms/step - loss: 0.0019 - accuracy: 1.0000 - val_loss: 0.3312 - val_accuracy: 0.9304\n",
      "Epoch 93/100\n",
      "26/26 [==============================] - 0s 2ms/step - loss: 0.0019 - accuracy: 1.0000 - val_loss: 0.3327 - val_accuracy: 0.9304\n",
      "Epoch 94/100\n",
      "26/26 [==============================] - 0s 2ms/step - loss: 0.0017 - accuracy: 1.0000 - val_loss: 0.3367 - val_accuracy: 0.9241\n",
      "Epoch 95/100\n",
      "26/26 [==============================] - 0s 2ms/step - loss: 0.0021 - accuracy: 1.0000 - val_loss: 0.3365 - val_accuracy: 0.9304\n",
      "Epoch 96/100\n",
      "26/26 [==============================] - 0s 2ms/step - loss: 0.0017 - accuracy: 1.0000 - val_loss: 0.3403 - val_accuracy: 0.9241\n",
      "Epoch 97/100\n",
      "26/26 [==============================] - 0s 2ms/step - loss: 0.0014 - accuracy: 1.0000 - val_loss: 0.3390 - val_accuracy: 0.9241\n",
      "Epoch 98/100\n",
      "26/26 [==============================] - 0s 2ms/step - loss: 0.0016 - accuracy: 1.0000 - val_loss: 0.3419 - val_accuracy: 0.9241\n",
      "Epoch 99/100\n",
      "26/26 [==============================] - 0s 2ms/step - loss: 0.0017 - accuracy: 1.0000 - val_loss: 0.3432 - val_accuracy: 0.9241\n",
      "Epoch 100/100\n",
      "26/26 [==============================] - 0s 2ms/step - loss: 0.0014 - accuracy: 1.0000 - val_loss: 0.3458 - val_accuracy: 0.9241\n"
     ]
    }
   ],
   "source": [
    "# Fitting the data. \n",
    "\n",
    "#history = model.fit(X_train_train,\n",
    "#                        to_categorical(y_train_train),\n",
    "#                        epochs = 100,\n",
    "#                        batch_size = 512,\n",
    "#                        validation_data=(X_val,to_categorical(y_val)))\n",
    "\n",
    "# It looks like sparse_categorical automatically applies to_categorical to y, so use this one\n",
    "# (this includes changed batch size and epochs):\n",
    "\n",
    "history = model.fit(X_train_train,\n",
    "                        y_train_train,\n",
    "                        epochs = 100,\n",
    "                        batch_size = 25,\n",
    "                        validation_data=(X_val,y_val))"
   ]
  },
  {
   "cell_type": "code",
   "execution_count": 41,
   "metadata": {},
   "outputs": [
    {
     "name": "stdout",
     "output_type": "stream",
     "text": [
      "dict_keys(['loss', 'accuracy', 'val_loss', 'val_accuracy'])\n"
     ]
    }
   ],
   "source": [
    "# Examine the results. \n",
    "\n",
    "history_dict = history.history\n",
    "\n",
    "print(history_dict.keys())"
   ]
  },
  {
   "cell_type": "code",
   "execution_count": 42,
   "metadata": {},
   "outputs": [
    {
     "data": {
      "image/png": "[encoded data removed]",
      "text/plain": [
       "<Figure size 720x432 with 1 Axes>"
      ]
     },
     "metadata": {},
     "output_type": "display_data"
    }
   ],
   "source": [
    "# That's... intersting. \n",
    "\n",
    "\n",
    "\n",
    "plt.figure(figsize = (10,6))\n",
    "\n",
    "plt.scatter(range(1,101), history_dict['accuracy'], label = \"Training Accuracy\")\n",
    "plt.scatter(range(1,101), history_dict['val_accuracy'], label = \"Validation Set Accuracy\")\n",
    "\n",
    "plt.xlabel(\"Epoch\", fontsize=18)\n",
    "plt.ylabel(\"Accuracy\", fontsize=18)\n",
    "\n",
    "plt.xticks(fontsize=16)\n",
    "plt.yticks(fontsize=16)\n",
    "\n",
    "plt.legend(fontsize=18)\n",
    "\n",
    "plt.show()"
   ]
  },
  {
   "cell_type": "code",
   "execution_count": 43,
   "metadata": {},
   "outputs": [
    {
     "data": {
      "image/png": "[encoded data removed]",
      "text/plain": [
       "<Figure size 720x432 with 1 Axes>"
      ]
     },
     "metadata": {},
     "output_type": "display_data"
    }
   ],
   "source": [
    "plt.figure(figsize = (10,6))\n",
    "\n",
    "plt.scatter(range(1,101), history_dict['loss'], label = \"Training Loss\")\n",
    "plt.scatter(range(1,101), history_dict['val_loss'], label = \"Validation Set Loss\")\n",
    "\n",
    "plt.xlabel(\"Epoch\", fontsize=18)\n",
    "plt.ylabel(\"Loss Function Value\", fontsize=18)\n",
    "\n",
    "plt.xticks(fontsize=16)\n",
    "plt.yticks(fontsize=16)\n",
    "\n",
    "plt.legend(fontsize=18)\n",
    "\n",
    "plt.show()"
   ]
  },
  {
   "cell_type": "code",
   "execution_count": 44,
   "metadata": {},
   "outputs": [
    {
     "data": {
      "text/plain": [
       "Class\n",
       "0    101\n",
       "1     96\n",
       "dtype: int64"
      ]
     },
     "execution_count": 44,
     "metadata": {},
     "output_type": "execute_result"
    }
   ],
   "source": [
    "# Value counts of test data. \n",
    "\n",
    "sample_data_test.value_counts('Class')"
   ]
  },
  {
   "cell_type": "code",
   "execution_count": 45,
   "metadata": {},
   "outputs": [
    {
     "data": {
      "text/plain": [
       "array([1, 1, 0, 0, 0, 0, 1, 0, 0, 0, 0, 0, 1, 0, 1, 1, 0, 0, 0, 1, 0, 0,\n",
       "       1, 1, 0, 1, 0, 0, 1, 1, 1, 0, 0, 1, 0, 0, 0, 1, 0, 1, 0, 0, 0, 0,\n",
       "       1, 1, 1, 0, 0, 1, 0, 0, 0, 1, 1, 0, 1, 0, 0, 0, 1, 0, 1, 1, 1, 1,\n",
       "       1, 0, 1, 0, 1, 0, 0, 0, 1, 1, 1, 1, 0, 1, 1, 0, 0, 1, 1, 1, 1, 0,\n",
       "       1, 1, 1, 0, 1, 1, 1, 1, 1, 1, 1, 0, 1, 1, 0, 0, 1, 1, 0, 0, 1, 1,\n",
       "       0, 0, 0, 0, 0, 0, 1, 0, 1, 1, 0, 0, 1, 1, 1, 0, 1, 1, 1, 0, 1, 0,\n",
       "       1, 0, 1, 1, 1, 0, 1, 1, 0, 1, 1, 0, 0, 0, 1, 0, 0, 1, 1, 0, 0, 1,\n",
       "       0, 1, 0, 0, 1, 1, 0, 1, 0, 1, 1, 1, 0, 1, 0, 1, 1, 0, 1, 1, 1, 1,\n",
       "       0, 1, 1, 1, 0, 1, 1, 0, 1, 1, 1, 0, 0, 0, 0, 1, 1, 0, 1, 1, 0])"
      ]
     },
     "execution_count": 45,
     "metadata": {},
     "output_type": "execute_result"
    }
   ],
   "source": [
    "# Prediction.\n",
    "\n",
    "\n",
    "\n",
    "y_pred_prob = model.predict(X_test)\n",
    "\n",
    "\n",
    "\n",
    "# Set the threshold probability for valid transactions as p = 0.5. \n",
    "\n",
    "y_pred = []\n",
    "\n",
    "for x in y_pred_prob:\n",
    "    if x[0] > 0.9:\n",
    "        y_pred.append(0)\n",
    "    else:\n",
    "        y_pred.append(1)\n",
    "        \n",
    "y_pred = np.array(y_pred)\n",
    "y_pred"
   ]
  },
  {
   "cell_type": "code",
   "execution_count": 46,
   "metadata": {},
   "outputs": [
    {
     "name": "stdout",
     "output_type": "stream",
     "text": [
      "[[9.9999297e-01 7.0482629e-06]\n",
      " [1.0000000e+00 5.4211468e-23]\n",
      " [9.9996090e-01 3.9053037e-05]\n",
      " ...\n",
      " [9.9998033e-01 1.9678688e-05]\n",
      " [6.9141378e-20 1.0000000e+00]\n",
      " [9.9994075e-01 5.9290869e-05]]\n"
     ]
    },
    {
     "name": "stderr",
     "output_type": "stream",
     "text": [
      "/opt/anaconda3/lib/python3.8/site-packages/keras/engine/sequential.py:425: UserWarning: `model.predict_proba()` is deprecated and will be removed after 2021-01-01. Please use `model.predict()` instead.\n",
      "  warnings.warn('`model.predict_proba()` is deprecated and '\n"
     ]
    }
   ],
   "source": [
    "#predict the probabilities\n",
    "y_pred_prob_ANN=model.predict_proba(X_train_train)\n",
    "print(y_pred_prob_ANN)\n",
    "\n",
    "#now we can get the ROC\n",
    "roc_curve(y_train_train,y_pred_prob_ANN[:,1])\n",
    "\n",
    "#we get the fpr,tpr,cutoffs\n",
    "fpr_ANN,tpr_ANN,cutoffs_ANN = roc_curve(y_train_train,y_pred_prob_ANN[:,1])\n",
    "\n"
   ]
  },
  {
   "cell_type": "code",
   "execution_count": 47,
   "metadata": {},
   "outputs": [
    {
     "name": "stdout",
     "output_type": "stream",
     "text": [
      "1.0\n"
     ]
    }
   ],
   "source": [
    "#now we can get the AUC\n",
    "auc_ANN=roc_auc_score(y_train_train,y_pred_prob_ANN[:,1])\n",
    "print(auc_ANN)"
   ]
  },
  {
   "cell_type": "code",
   "execution_count": 48,
   "metadata": {},
   "outputs": [
    {
     "data": {
      "image/png": "[encoded data removed]",
      "text/plain": [
       "<Figure size 864x576 with 1 Axes>"
      ]
     },
     "metadata": {},
     "output_type": "display_data"
    }
   ],
   "source": [
    "#plot ROC with AUC\n",
    "plt.figure(figsize=(12,8))\n",
    "\n",
    "plt.plot(fpr_ANN,tpr_ANN,label='AUC ANN= '+str(np.around(auc_ANN,4)))\n",
    "\n",
    "\n",
    "\n",
    "plt.xlabel(\"False Positive Rate\",fontsize=16)\n",
    "plt.ylabel(\"True Positive Rate\",fontsize=16)\n",
    "\n",
    "plt.title(\"ROC Curve\", fontsize=18)\n",
    "plt.xticks(fontsize=12)\n",
    "plt.yticks(fontsize=12)\n",
    "plt.legend(loc='best')\n",
    "plt.show()"
   ]
  },
  {
   "cell_type": "code",
   "execution_count": 49,
   "metadata": {},
   "outputs": [
    {
     "name": "stdout",
     "output_type": "stream",
     "text": [
      "[[3.33444332e-03 9.96665537e-01]\n",
      " [6.81199143e-14 1.00000000e+00]\n",
      " [1.00000000e+00 1.62995413e-08]\n",
      " [1.00000000e+00 3.12990256e-09]\n",
      " [1.00000000e+00 2.02878825e-09]\n",
      " [9.99996543e-01 3.50156915e-06]\n",
      " [2.22331991e-34 1.00000000e+00]\n",
      " [1.00000000e+00 7.78877851e-09]\n",
      " [1.00000000e+00 1.07393733e-10]\n",
      " [9.64763939e-01 3.52360904e-02]\n",
      " [1.00000000e+00 1.10304509e-10]\n",
      " [1.00000000e+00 3.41203172e-12]\n",
      " [5.41393248e-31 1.00000000e+00]\n",
      " [9.99999881e-01 7.07204535e-08]\n",
      " [7.97172997e-14 1.00000000e+00]\n",
      " [6.19497735e-21 1.00000000e+00]\n",
      " [9.94313121e-01 5.68692898e-03]\n",
      " [1.00000000e+00 1.75439729e-09]\n",
      " [9.99989510e-01 1.05066529e-05]\n",
      " [6.65501172e-23 1.00000000e+00]\n",
      " [9.99994516e-01 5.47008494e-06]\n",
      " [1.00000000e+00 2.11534514e-15]\n",
      " [2.35925046e-17 1.00000000e+00]\n",
      " [9.04136221e-04 9.99095917e-01]\n",
      " [9.94646728e-01 5.35319652e-03]\n",
      " [1.71431647e-27 1.00000000e+00]\n",
      " [9.99488354e-01 5.11678169e-04]\n",
      " [9.63625550e-01 3.63744423e-02]\n",
      " [4.68578428e-01 5.31421542e-01]\n",
      " [0.00000000e+00 1.00000000e+00]\n",
      " [0.00000000e+00 1.00000000e+00]\n",
      " [9.99998927e-01 1.06552102e-06]\n",
      " [9.99987602e-01 1.23404689e-05]\n",
      " [6.01099191e-24 1.00000000e+00]\n",
      " [1.00000000e+00 1.24820927e-08]\n",
      " [9.85016584e-01 1.49833979e-02]\n",
      " [9.99983430e-01 1.65813963e-05]\n",
      " [3.33428220e-16 1.00000000e+00]\n",
      " [1.00000000e+00 3.80858101e-09]\n",
      " [1.07598396e-28 1.00000000e+00]\n",
      " [9.99999404e-01 5.54976850e-07]\n",
      " [1.00000000e+00 1.83860767e-08]\n",
      " [9.99999881e-01 9.48360679e-08]\n",
      " [9.99999881e-01 6.52741221e-08]\n",
      " [8.59228194e-01 1.40771776e-01]\n",
      " [0.00000000e+00 1.00000000e+00]\n",
      " [1.59832883e-10 1.00000000e+00]\n",
      " [9.99999762e-01 2.23704276e-07]\n",
      " [1.00000000e+00 1.21553001e-09]\n",
      " [1.25358833e-36 1.00000000e+00]\n",
      " [9.99795496e-01 2.04518234e-04]\n",
      " [9.91357327e-01 8.64269957e-03]\n",
      " [9.99914527e-01 8.54612517e-05]\n",
      " [8.43760324e-37 1.00000000e+00]\n",
      " [5.22790795e-29 1.00000000e+00]\n",
      " [1.00000000e+00 5.53599033e-09]\n",
      " [2.65686512e-36 1.00000000e+00]\n",
      " [1.00000000e+00 2.97840508e-09]\n",
      " [1.00000000e+00 6.86153781e-12]\n",
      " [9.99998927e-01 1.10083192e-06]\n",
      " [1.24388264e-10 1.00000000e+00]\n",
      " [9.99999285e-01 6.70780821e-07]\n",
      " [2.86955577e-15 1.00000000e+00]\n",
      " [8.02601280e-04 9.99197423e-01]\n",
      " [0.00000000e+00 1.00000000e+00]\n",
      " [1.32454336e-01 8.67545664e-01]\n",
      " [1.80173379e-29 1.00000000e+00]\n",
      " [9.99999881e-01 6.62070079e-08]\n",
      " [0.00000000e+00 1.00000000e+00]\n",
      " [9.99998450e-01 1.50041956e-06]\n",
      " [9.06017842e-04 9.99094009e-01]\n",
      " [9.93989229e-01 6.01076242e-03]\n",
      " [1.00000000e+00 5.63178020e-12]\n",
      " [9.99999881e-01 1.50010479e-07]\n",
      " [4.67026484e-19 1.00000000e+00]\n",
      " [2.18631487e-18 1.00000000e+00]\n",
      " [9.30918077e-07 9.99999046e-01]\n",
      " [4.67079272e-03 9.95329261e-01]\n",
      " [1.00000000e+00 1.04113262e-09]\n",
      " [8.54006561e-04 9.99145985e-01]\n",
      " [1.92848061e-19 1.00000000e+00]\n",
      " [9.96981800e-01 3.01823509e-03]\n",
      " [9.99998450e-01 1.51385109e-06]\n",
      " [6.76130235e-01 3.23869735e-01]\n",
      " [0.00000000e+00 1.00000000e+00]\n",
      " [6.40533787e-23 1.00000000e+00]\n",
      " [2.65714553e-16 1.00000000e+00]\n",
      " [9.99771535e-01 2.28467470e-04]\n",
      " [8.25048506e-01 1.74951464e-01]\n",
      " [6.23994827e-01 3.76005262e-01]\n",
      " [2.82787357e-13 1.00000000e+00]\n",
      " [9.99926686e-01 7.32595945e-05]\n",
      " [2.14801148e-07 9.99999762e-01]\n",
      " [1.44371483e-12 1.00000000e+00]\n",
      " [3.97660032e-17 1.00000000e+00]\n",
      " [6.78490314e-29 1.00000000e+00]\n",
      " [5.71045617e-04 9.99428928e-01]\n",
      " [1.30666581e-23 1.00000000e+00]\n",
      " [1.02304026e-20 1.00000000e+00]\n",
      " [9.95163918e-01 4.83604474e-03]\n",
      " [4.71230233e-05 9.99952912e-01]\n",
      " [8.00897891e-04 9.99199092e-01]\n",
      " [9.73027706e-01 2.69722957e-02]\n",
      " [9.99999523e-01 4.93104210e-07]\n",
      " [2.77099833e-02 9.72289979e-01]\n",
      " [2.91417101e-27 1.00000000e+00]\n",
      " [1.00000000e+00 1.46772905e-08]\n",
      " [9.86706555e-01 1.32934246e-02]\n",
      " [2.22790587e-14 1.00000000e+00]\n",
      " [3.51402247e-19 1.00000000e+00]\n",
      " [1.00000000e+00 3.52458371e-14]\n",
      " [9.99999881e-01 6.06010389e-08]\n",
      " [1.00000000e+00 2.51537849e-17]\n",
      " [9.99972582e-01 2.73937330e-05]\n",
      " [1.00000000e+00 4.96708203e-08]\n",
      " [9.99999881e-01 1.18139020e-07]\n",
      " [3.16231541e-04 9.99683738e-01]\n",
      " [9.83218968e-01 1.67810116e-02]\n",
      " [3.50251796e-24 1.00000000e+00]\n",
      " [9.33994826e-11 1.00000000e+00]\n",
      " [9.99941468e-01 5.85182825e-05]\n",
      " [9.99989271e-01 1.07453816e-05]\n",
      " [3.75798934e-28 1.00000000e+00]\n",
      " [1.04690894e-21 1.00000000e+00]\n",
      " [4.63484503e-13 1.00000000e+00]\n",
      " [9.99998689e-01 1.34260847e-06]\n",
      " [7.09647185e-09 1.00000000e+00]\n",
      " [1.17160549e-22 1.00000000e+00]\n",
      " [5.97812693e-18 1.00000000e+00]\n",
      " [9.99944687e-01 5.52578495e-05]\n",
      " [9.40368001e-21 1.00000000e+00]\n",
      " [9.97747481e-01 2.25254823e-03]\n",
      " [2.36710180e-02 9.76328969e-01]\n",
      " [1.00000000e+00 2.04678106e-08]\n",
      " [3.61829658e-37 1.00000000e+00]\n",
      " [1.04963889e-12 1.00000000e+00]\n",
      " [0.00000000e+00 1.00000000e+00]\n",
      " [9.95574236e-01 4.42570029e-03]\n",
      " [0.00000000e+00 1.00000000e+00]\n",
      " [0.00000000e+00 1.00000000e+00]\n",
      " [9.99575198e-01 4.24805039e-04]\n",
      " [5.67088494e-35 1.00000000e+00]\n",
      " [6.20845312e-05 9.99937892e-01]\n",
      " [9.99981403e-01 1.86378238e-05]\n",
      " [9.99999523e-01 5.16844693e-07]\n",
      " [9.99793470e-01 2.06540019e-04]\n",
      " [3.04594978e-05 9.99969482e-01]\n",
      " [1.00000000e+00 5.88048117e-08]\n",
      " [9.99972701e-01 2.72585366e-05]\n",
      " [5.38511858e-23 1.00000000e+00]\n",
      " [0.00000000e+00 1.00000000e+00]\n",
      " [9.99999881e-01 7.84166971e-08]\n",
      " [9.99995828e-01 4.16247485e-06]\n",
      " [0.00000000e+00 1.00000000e+00]\n",
      " [9.99967575e-01 3.23763488e-05]\n",
      " [4.82334530e-29 1.00000000e+00]\n",
      " [9.99999404e-01 6.48043340e-07]\n",
      " [1.00000000e+00 1.61718861e-09]\n",
      " [4.94865080e-27 1.00000000e+00]\n",
      " [5.09292066e-01 4.90707874e-01]\n",
      " [9.99997616e-01 2.41900989e-06]\n",
      " [8.43760324e-37 1.00000000e+00]\n",
      " [9.99996066e-01 3.92420361e-06]\n",
      " [1.20201870e-14 1.00000000e+00]\n",
      " [3.46985387e-14 1.00000000e+00]\n",
      " [3.55191678e-21 1.00000000e+00]\n",
      " [9.99995112e-01 4.88826981e-06]\n",
      " [5.45418785e-24 1.00000000e+00]\n",
      " [9.99998093e-01 1.91541199e-06]\n",
      " [2.80649649e-22 1.00000000e+00]\n",
      " [8.75448048e-01 1.24551952e-01]\n",
      " [9.99999166e-01 8.13740371e-07]\n",
      " [0.00000000e+00 1.00000000e+00]\n",
      " [1.26611278e-03 9.98733938e-01]\n",
      " [1.92848061e-19 1.00000000e+00]\n",
      " [7.49982952e-04 9.99249995e-01]\n",
      " [9.99772966e-01 2.26995966e-04]\n",
      " [2.28305304e-08 1.00000000e+00]\n",
      " [2.76418626e-02 9.72358167e-01]\n",
      " [3.77546480e-19 1.00000000e+00]\n",
      " [9.92900968e-01 7.09900539e-03]\n",
      " [3.44178203e-36 1.00000000e+00]\n",
      " [1.65174447e-13 1.00000000e+00]\n",
      " [9.31025207e-01 6.89747408e-02]\n",
      " [8.58796784e-11 1.00000000e+00]\n",
      " [3.50264781e-26 1.00000000e+00]\n",
      " [3.77970919e-15 1.00000000e+00]\n",
      " [9.99999881e-01 1.32725603e-07]\n",
      " [9.99998569e-01 1.39008534e-06]\n",
      " [9.99999881e-01 1.00798928e-07]\n",
      " [9.97395515e-01 2.60442845e-03]\n",
      " [0.00000000e+00 1.00000000e+00]\n",
      " [7.98819423e-01 2.01180562e-01]\n",
      " [9.77688909e-01 2.23111045e-02]\n",
      " [0.00000000e+00 1.00000000e+00]\n",
      " [8.36406708e-01 1.63593307e-01]\n",
      " [9.98172641e-01 1.82737410e-03]]\n"
     ]
    },
    {
     "name": "stderr",
     "output_type": "stream",
     "text": [
      "/opt/anaconda3/lib/python3.8/site-packages/keras/engine/sequential.py:425: UserWarning: `model.predict_proba()` is deprecated and will be removed after 2021-01-01. Please use `model.predict()` instead.\n",
      "  warnings.warn('`model.predict_proba()` is deprecated and '\n"
     ]
    },
    {
     "data": {
      "text/plain": [
       "<matplotlib.legend.Legend at 0x133555430>"
      ]
     },
     "execution_count": 49,
     "metadata": {},
     "output_type": "execute_result"
    },
    {
     "data": {
      "image/png": "[encoded data removed]",
      "text/plain": [
       "<Figure size 864x576 with 1 Axes>"
      ]
     },
     "metadata": {},
     "output_type": "display_data"
    }
   ],
   "source": [
    "## get the predictions of the probabilities of X_test\n",
    "y_pred_prob_test_ANN=model.predict_proba(X_test)\n",
    "print(y_pred_prob_test_ANN)\n",
    "\n",
    "# calculate precision-recall curve\n",
    "precision_ANN, recall_ANN, thresholds_ANN = precision_recall_curve(y_test, y_pred_prob_test_ANN[:,1])\n",
    "\n",
    "\n",
    "    \n",
    "\n",
    "\n",
    "PRauc_ANN= auc(recall_ANN, precision_ANN)\n",
    "#plot precision-recall curve\n",
    "plt.figure(figsize=(12,8))\n",
    "plt.plot(precision_ANN, recall_ANN, label='AUC ANN= '+str(np.around(PRauc_ANN,4)))\n",
    "plt.xlabel('Precision', fontsize = 14)\n",
    "plt.ylabel('Recall', fontsize = 14)\n",
    "plt.title('Precision-Recall Curve', fontsize = 18)\n",
    "plt.legend(loc = 'best')\n",
    "\n"
   ]
  },
  {
   "cell_type": "code",
   "execution_count": 50,
   "metadata": {},
   "outputs": [
    {
     "name": "stdout",
     "output_type": "stream",
     "text": [
      "[[87 14]\n",
      " [ 5 91]]\n"
     ]
    }
   ],
   "source": [
    "from sklearn.metrics import confusion_matrix\n",
    "print(confusion_matrix(y_test,y_pred))"
   ]
  },
  {
   "cell_type": "code",
   "execution_count": 51,
   "metadata": {},
   "outputs": [
    {
     "name": "stdout",
     "output_type": "stream",
     "text": [
      "0.9035532994923858\n"
     ]
    }
   ],
   "source": [
    "from sklearn.metrics import accuracy_score\n",
    "accuracy_score_ANN = accuracy_score(y_test,y_pred)\n",
    "print(accuracy_score(y_test,y_pred))"
   ]
  },
  {
   "cell_type": "code",
   "execution_count": 52,
   "metadata": {},
   "outputs": [
    {
     "name": "stdout",
     "output_type": "stream",
     "text": [
      "              precision    recall  f1-score   support\n",
      "\n",
      "           0       0.95      0.86      0.90       101\n",
      "           1       0.87      0.95      0.91        96\n",
      "\n",
      "    accuracy                           0.90       197\n",
      "   macro avg       0.91      0.90      0.90       197\n",
      "weighted avg       0.91      0.90      0.90       197\n",
      "\n"
     ]
    }
   ],
   "source": [
    "from sklearn.metrics import classification_report\n",
    "print(classification_report(y_test,y_pred))\n",
    "\n",
    "precision_score_ANN = precision_score(y_test, y_pred)\n",
    "recall_score_ANN = recall_score(y_test, y_pred)\n",
    "f1_score_ANN = f1_score(y_test, y_pred)"
   ]
  },
  {
   "cell_type": "markdown",
   "metadata": {},
   "source": [
    "# Random Forest"
   ]
  },
  {
   "cell_type": "code",
   "execution_count": 53,
   "metadata": {},
   "outputs": [],
   "source": [
    "# We'll also check random forest (RF) just for comparison. \n",
    "\n",
    "from sklearn.ensemble import RandomForestClassifier\n",
    "\n",
    "#forest_clf = RandomForestClassifier(max_depth = 4, random_state=614)"
   ]
  },
  {
   "cell_type": "code",
   "execution_count": 54,
   "metadata": {},
   "outputs": [],
   "source": [
    "# Have to leave out reshape for this one. This is the sampe 50 / 50 train test split on sample data as defined\n",
    "# in one of the early ANN cells. \n",
    "\n",
    "y_train = np.array(sample_data_train.iloc[:, -1])\n",
    "\n",
    "pipe_RF = Pipeline([('preprocess',StandardScaler()),\n",
    "                ('RandomForest',RandomForestClassifier(max_depth = 4, random_state=614))])\n",
    "\n",
    "\n",
    "pipe_RF.fit(X_train,y_train)\n",
    "\n",
    "# The RF prediction.\n",
    "\n",
    "y_pred_RF = pipe_RF.predict(X_test)\n"
   ]
  },
  {
   "cell_type": "code",
   "execution_count": 55,
   "metadata": {},
   "outputs": [
    {
     "name": "stdout",
     "output_type": "stream",
     "text": [
      "[[1.49282920e-04 9.99850717e-01]\n",
      " [6.83765031e-03 9.93162350e-01]\n",
      " [2.94479317e-03 9.97055207e-01]\n",
      " ...\n",
      " [1.90229652e-03 9.98097703e-01]\n",
      " [9.31004565e-01 6.89954346e-02]\n",
      " [1.11006381e-02 9.88899362e-01]]\n"
     ]
    }
   ],
   "source": [
    "#predict the probabilities\n",
    "y_pred_prob_RF=pipe_RF.predict_proba(X_train)\n",
    "print(y_pred_prob_RF)\n",
    "\n",
    "#now we can get the ROC\n",
    "roc_curve(y_train,y_pred_prob_RF[:,1])\n",
    "\n",
    "#we get the fpr,tpr,cutoffs\n",
    "fpr_RF,tpr_RF,cutoffs_RF = roc_curve(y_train,y_pred_prob_RF[:,1])\n",
    "\n"
   ]
  },
  {
   "cell_type": "code",
   "execution_count": 56,
   "metadata": {},
   "outputs": [
    {
     "name": "stdout",
     "output_type": "stream",
     "text": [
      "0.9927729985274742\n"
     ]
    }
   ],
   "source": [
    "#now we can get the AUC\n",
    "auc_RF=roc_auc_score(y_train,y_pred_prob_RF[:,1])\n",
    "print(auc_RF)"
   ]
  },
  {
   "cell_type": "code",
   "execution_count": 57,
   "metadata": {},
   "outputs": [
    {
     "data": {
      "image/png": "[encoded data removed]",
      "text/plain": [
       "<Figure size 864x576 with 1 Axes>"
      ]
     },
     "metadata": {},
     "output_type": "display_data"
    }
   ],
   "source": [
    "#plot ROC with AUC\n",
    "plt.figure(figsize=(12,8))\n",
    "\n",
    "plt.plot(fpr_RF,tpr_RF,label='AUC RF= '+str(np.around(auc_RF,4)))\n",
    "\n",
    "\n",
    "\n",
    "plt.xlabel(\"False Positive Rate\",fontsize=16)\n",
    "plt.ylabel(\"True Positive Rate\",fontsize=16)\n",
    "\n",
    "plt.title(\"ROC Curve\", fontsize=18)\n",
    "plt.xticks(fontsize=12)\n",
    "plt.yticks(fontsize=12)\n",
    "plt.legend(loc='best')\n",
    "plt.show()"
   ]
  },
  {
   "cell_type": "code",
   "execution_count": 58,
   "metadata": {},
   "outputs": [
    {
     "name": "stdout",
     "output_type": "stream",
     "text": [
      "[[4.53145228e-01 5.46854772e-01]\n",
      " [2.58158055e-01 7.41841945e-01]\n",
      " [8.26352236e-01 1.73647764e-01]\n",
      " [9.23029165e-01 7.69708351e-02]\n",
      " [8.29787552e-01 1.70212448e-01]\n",
      " [9.19316901e-01 8.06830989e-02]\n",
      " [1.49282920e-04 9.99850717e-01]\n",
      " [8.66336143e-01 1.33663857e-01]\n",
      " [9.37676821e-01 6.23231792e-02]\n",
      " [9.27038477e-01 7.29615234e-02]\n",
      " [9.16393244e-01 8.36067562e-02]\n",
      " [9.08558255e-01 9.14417453e-02]\n",
      " [1.49282920e-04 9.99850717e-01]\n",
      " [6.76545513e-01 3.23454487e-01]\n",
      " [3.00798072e-04 9.99699202e-01]\n",
      " [1.01492829e-02 9.89850717e-01]\n",
      " [9.17697446e-01 8.23025543e-02]\n",
      " [9.32435157e-01 6.75648434e-02]\n",
      " [9.26505453e-01 7.34945467e-02]\n",
      " [1.49282920e-04 9.99850717e-01]\n",
      " [9.20604813e-01 7.93951869e-02]\n",
      " [7.92418367e-01 2.07581633e-01]\n",
      " [6.47487646e-02 9.35251235e-01]\n",
      " [2.65957064e-01 7.34042936e-01]\n",
      " [7.94227588e-01 2.05772412e-01]\n",
      " [2.92140063e-04 9.99707860e-01]\n",
      " [9.28180780e-01 7.18192203e-02]\n",
      " [8.64008725e-01 1.35991275e-01]\n",
      " [8.83500936e-01 1.16499064e-01]\n",
      " [1.49282920e-04 9.99850717e-01]\n",
      " [1.49282920e-04 9.99850717e-01]\n",
      " [8.02101391e-01 1.97898609e-01]\n",
      " [8.07565177e-01 1.92434823e-01]\n",
      " [3.25978995e-02 9.67402100e-01]\n",
      " [9.35224678e-01 6.47753224e-02]\n",
      " [9.23550290e-01 7.64497099e-02]\n",
      " [9.26607331e-01 7.33926687e-02]\n",
      " [7.87890244e-02 9.21210976e-01]\n",
      " [9.38691643e-01 6.13083573e-02]\n",
      " [3.65687528e-03 9.96343125e-01]\n",
      " [9.38134462e-01 6.18655379e-02]\n",
      " [8.67742197e-01 1.32257803e-01]\n",
      " [9.35723891e-01 6.42761093e-02]\n",
      " [7.87023111e-01 2.12976889e-01]\n",
      " [5.98691713e-01 4.01308287e-01]\n",
      " [4.82616254e-04 9.99517384e-01]\n",
      " [1.49109545e-02 9.85089045e-01]\n",
      " [8.76619193e-01 1.23380807e-01]\n",
      " [9.36014570e-01 6.39854302e-02]\n",
      " [1.49282920e-04 9.99850717e-01]\n",
      " [8.97771809e-01 1.02228191e-01]\n",
      " [9.27579761e-01 7.24202390e-02]\n",
      " [9.35792650e-01 6.42073499e-02]\n",
      " [1.49282920e-04 9.99850717e-01]\n",
      " [1.49282920e-04 9.99850717e-01]\n",
      " [9.30761665e-01 6.92383355e-02]\n",
      " [1.49282920e-04 9.99850717e-01]\n",
      " [8.84756102e-01 1.15243898e-01]\n",
      " [9.11070530e-01 8.89294697e-02]\n",
      " [9.14348900e-01 8.56511002e-02]\n",
      " [2.83380033e-01 7.16619967e-01]\n",
      " [9.31429032e-01 6.85709682e-02]\n",
      " [1.49282920e-04 9.99850717e-01]\n",
      " [3.83506526e-01 6.16493474e-01]\n",
      " [1.49282920e-04 9.99850717e-01]\n",
      " [6.66505285e-01 3.33494715e-01]\n",
      " [3.65687528e-03 9.96343125e-01]\n",
      " [9.25713882e-01 7.42861183e-02]\n",
      " [1.49282920e-04 9.99850717e-01]\n",
      " [9.25183130e-01 7.48168699e-02]\n",
      " [5.19722604e-02 9.48027740e-01]\n",
      " [8.04786086e-01 1.95213914e-01]\n",
      " [6.70529433e-01 3.29470567e-01]\n",
      " [9.19675704e-01 8.03242959e-02]\n",
      " [3.00642578e-03 9.96993574e-01]\n",
      " [2.01492829e-02 9.79850717e-01]\n",
      " [4.89974958e-01 5.10025042e-01]\n",
      " [6.43495611e-01 3.56504389e-01]\n",
      " [9.32669854e-01 6.73301458e-02]\n",
      " [5.11112726e-01 4.88887274e-01]\n",
      " [1.13306575e-03 9.98866934e-01]\n",
      " [9.21162526e-01 7.88374737e-02]\n",
      " [9.10158350e-01 8.98416496e-02]\n",
      " [7.47066872e-01 2.52933128e-01]\n",
      " [1.49282920e-04 9.99850717e-01]\n",
      " [1.36660489e-02 9.86333951e-01]\n",
      " [6.37046001e-03 9.93629540e-01]\n",
      " [9.36120819e-01 6.38791808e-02]\n",
      " [8.14427292e-01 1.85572708e-01]\n",
      " [7.71989750e-01 2.28010250e-01]\n",
      " [6.59372736e-03 9.93406273e-01]\n",
      " [9.33707008e-01 6.62929919e-02]\n",
      " [5.91737339e-01 4.08262661e-01]\n",
      " [1.79714957e-03 9.98202850e-01]\n",
      " [1.70482748e-02 9.82951725e-01]\n",
      " [2.92140063e-04 9.99707860e-01]\n",
      " [1.49282920e-04 9.99850717e-01]\n",
      " [1.13306575e-03 9.98866934e-01]\n",
      " [1.11006381e-02 9.88899362e-01]\n",
      " [9.27300811e-01 7.26991891e-02]\n",
      " [5.99471253e-01 4.00528747e-01]\n",
      " [7.16763568e-01 2.83236432e-01]\n",
      " [9.33572237e-01 6.64277634e-02]\n",
      " [8.28013109e-01 1.71986891e-01]\n",
      " [7.32459904e-01 2.67540096e-01]\n",
      " [7.55343527e-04 9.99244656e-01]\n",
      " [9.04637802e-01 9.53621980e-02]\n",
      " [7.83362198e-01 2.16637802e-01]\n",
      " [1.01492829e-02 9.89850717e-01]\n",
      " [2.92140063e-04 9.99707860e-01]\n",
      " [9.38636354e-01 6.13636457e-02]\n",
      " [9.36014570e-01 6.39854302e-02]\n",
      " [9.31623246e-01 6.83767540e-02]\n",
      " [8.70664975e-01 1.29335025e-01]\n",
      " [9.24600949e-01 7.53990513e-02]\n",
      " [9.13636403e-01 8.63635973e-02]\n",
      " [8.22730618e-01 1.77269382e-01]\n",
      " [8.88912237e-01 1.11087763e-01]\n",
      " [1.49282920e-04 9.99850717e-01]\n",
      " [1.76549847e-02 9.82345015e-01]\n",
      " [9.35109853e-01 6.48901475e-02]\n",
      " [9.16651425e-01 8.33485753e-02]\n",
      " [2.92140063e-04 9.99707860e-01]\n",
      " [5.05846346e-02 9.49415365e-01]\n",
      " [2.71282584e-02 9.72871742e-01]\n",
      " [9.35064791e-01 6.49352090e-02]\n",
      " [1.50718151e-01 8.49281849e-01]\n",
      " [2.92140063e-04 9.99707860e-01]\n",
      " [5.07972459e-02 9.49202754e-01]\n",
      " [9.36386148e-01 6.36138521e-02]\n",
      " [3.54849856e-02 9.64515014e-01]\n",
      " [8.49794766e-01 1.50205234e-01]\n",
      " [8.70344373e-01 1.29655627e-01]\n",
      " [9.02005449e-01 9.79945505e-02]\n",
      " [1.49282920e-04 9.99850717e-01]\n",
      " [2.43093451e-02 9.75690655e-01]\n",
      " [1.49282920e-04 9.99850717e-01]\n",
      " [9.04850759e-01 9.51492406e-02]\n",
      " [1.11538462e-03 9.98884615e-01]\n",
      " [1.50728376e-02 9.84927162e-01]\n",
      " [9.21046938e-01 7.89530620e-02]\n",
      " [1.49282920e-04 9.99850717e-01]\n",
      " [5.89549846e-01 4.10450154e-01]\n",
      " [8.15143118e-01 1.84856882e-01]\n",
      " [8.98032215e-01 1.01967785e-01]\n",
      " [9.25609942e-01 7.43900578e-02]\n",
      " [1.62619217e-01 8.37380783e-01]\n",
      " [8.97668706e-01 1.02331294e-01]\n",
      " [9.30196936e-01 6.98030643e-02]\n",
      " [1.49282920e-04 9.99850717e-01]\n",
      " [1.44871795e-03 9.98551282e-01]\n",
      " [9.38265883e-01 6.17341167e-02]\n",
      " [9.24254955e-01 7.57450452e-02]\n",
      " [1.49282920e-04 9.99850717e-01]\n",
      " [9.32902157e-01 6.70978434e-02]\n",
      " [1.49282920e-04 9.99850717e-01]\n",
      " [9.38314248e-01 6.16857522e-02]\n",
      " [9.32141767e-01 6.78582326e-02]\n",
      " [1.49282920e-04 9.99850717e-01]\n",
      " [2.88571458e-01 7.11428542e-01]\n",
      " [9.35093046e-01 6.49069542e-02]\n",
      " [1.49282920e-04 9.99850717e-01]\n",
      " [9.30763506e-01 6.92364940e-02]\n",
      " [2.01463184e-03 9.97985368e-01]\n",
      " [5.08004419e-02 9.49199558e-01]\n",
      " [5.76833054e-03 9.94231669e-01]\n",
      " [8.73848982e-01 1.26151018e-01]\n",
      " [4.62297697e-03 9.95377023e-01]\n",
      " [9.10497717e-01 8.95022834e-02]\n",
      " [1.96521914e-02 9.80347809e-01]\n",
      " [9.00971192e-01 9.90288078e-02]\n",
      " [9.26027819e-01 7.39721814e-02]\n",
      " [1.49282920e-04 9.99850717e-01]\n",
      " [1.40981480e-01 8.59018520e-01]\n",
      " [1.13306575e-03 9.98866934e-01]\n",
      " [1.21802953e-01 8.78197047e-01]\n",
      " [9.21051217e-01 7.89487835e-02]\n",
      " [1.21427465e-01 8.78572535e-01]\n",
      " [6.75693453e-01 3.24306547e-01]\n",
      " [1.49282920e-04 9.99850717e-01]\n",
      " [9.22707019e-01 7.72929805e-02]\n",
      " [1.49282920e-04 9.99850717e-01]\n",
      " [7.14787580e-02 9.28521242e-01]\n",
      " [9.34819173e-01 6.51808266e-02]\n",
      " [2.39022965e-02 9.76097703e-01]\n",
      " [6.20008916e-04 9.99379991e-01]\n",
      " [2.39885115e-02 9.76011489e-01]\n",
      " [6.59146180e-01 3.40853820e-01]\n",
      " [8.52555474e-01 1.47444526e-01]\n",
      " [9.19513303e-01 8.04866973e-02]\n",
      " [7.86159297e-01 2.13840703e-01]\n",
      " [1.49282920e-04 9.99850717e-01]\n",
      " [8.66256199e-01 1.33743801e-01]\n",
      " [8.50266160e-01 1.49733840e-01]\n",
      " [1.49282920e-04 9.99850717e-01]\n",
      " [9.08832965e-01 9.11670346e-02]\n",
      " [9.24427133e-01 7.55728667e-02]]\n"
     ]
    },
    {
     "data": {
      "text/plain": [
       "<matplotlib.legend.Legend at 0x12c0aae50>"
      ]
     },
     "execution_count": 58,
     "metadata": {},
     "output_type": "execute_result"
    },
    {
     "data": {
      "image/png": "[encoded data removed]",
      "text/plain": [
       "<Figure size 864x576 with 1 Axes>"
      ]
     },
     "metadata": {},
     "output_type": "display_data"
    }
   ],
   "source": [
    "## get the predictions of the probabilities of X_test\n",
    "y_pred_prob_test_RF=pipe_RF.predict_proba(X_test)\n",
    "print(y_pred_prob_test_RF)\n",
    "\n",
    "# calculate precision-recall curve\n",
    "precision_RF, recall_RF, thresholds_RF = precision_recall_curve(y_test, y_pred_prob_test_RF[:,1])\n",
    "\n",
    "\n",
    "    \n",
    "\n",
    "\n",
    "PRauc_RF= auc(recall_RF, precision_RF)\n",
    "#plot precision-recall curve\n",
    "plt.figure(figsize=(12,8))\n",
    "plt.plot(precision_RF, recall_RF, label='AUC RF= '+str(np.around(PRauc_RF,4)))\n",
    "plt.xlabel('Precision', fontsize = 14)\n",
    "plt.ylabel('Recall', fontsize = 14)\n",
    "plt.title('Precision-Recall Curve', fontsize = 18)\n",
    "plt.legend(loc = 'best')\n"
   ]
  },
  {
   "cell_type": "code",
   "execution_count": 59,
   "metadata": {},
   "outputs": [
    {
     "name": "stdout",
     "output_type": "stream",
     "text": [
      "[[99  2]\n",
      " [12 84]]\n",
      "\n",
      "\n",
      "0.9289340101522843\n"
     ]
    }
   ],
   "source": [
    "print(confusion_matrix(y_test,y_pred_RF))\n",
    "print('\\n')\n",
    "\n",
    "accuracy_score_RF = accuracy_score(y_test, y_pred_RF)\n",
    "print(accuracy_score(y_test,y_pred_RF))"
   ]
  },
  {
   "cell_type": "code",
   "execution_count": 60,
   "metadata": {},
   "outputs": [
    {
     "name": "stdout",
     "output_type": "stream",
     "text": [
      "              precision    recall  f1-score   support\n",
      "\n",
      "           0       0.89      0.98      0.93       101\n",
      "           1       0.98      0.88      0.92        96\n",
      "\n",
      "    accuracy                           0.93       197\n",
      "   macro avg       0.93      0.93      0.93       197\n",
      "weighted avg       0.93      0.93      0.93       197\n",
      "\n"
     ]
    }
   ],
   "source": [
    "# And the classification report. \n",
    "\n",
    "print(classification_report(y_test,y_pred_RF))\n",
    "\n",
    "precision_score_RF = precision_score(y_test, y_pred_RF)\n",
    "recall_score_RF = recall_score(y_test, y_pred_RF)\n",
    "f1_score_RF = f1_score(y_test, y_pred_RF)"
   ]
  },
  {
   "cell_type": "markdown",
   "metadata": {},
   "source": [
    "# Support Vector Machine"
   ]
  },
  {
   "cell_type": "code",
   "execution_count": 61,
   "metadata": {},
   "outputs": [
    {
     "name": "stdout",
     "output_type": "stream",
     "text": [
      "Size of data is:  (284807, 30)\n",
      "There are 90 entries in our test set with value 1\n",
      "len(y): 284807 len(y_test): 42722 len(y_train): 242085\n"
     ]
    }
   ],
   "source": [
    "## For data handling\n",
    "import pandas as pd\n",
    "import numpy as np\n",
    "\n",
    "## For plotting\n",
    "import matplotlib.pyplot as plt\n",
    "import seaborn as sns\n",
    "\n",
    "## This sets the plot style\n",
    "## to have a grid on a white background\n",
    "sns.set_style(\"whitegrid\")\n",
    "\n",
    "\n",
    "## Import train/test split \n",
    "from sklearn.model_selection import train_test_split\n",
    "\n",
    "\n",
    "\n",
    "## Import our data with pandas\n",
    "import pandas as pd\n",
    "\n",
    "df = pd.read_csv(r'creditcard.csv')\n",
    "#print (df)\n",
    "np_vers=df.to_numpy()\n",
    "\n",
    "\n",
    "X = np_vers[:,0:30]\n",
    "print('Size of data is: ',str(X.shape))\n",
    "\n",
    "y = np_vers[:,30]\n",
    "\n",
    "\n",
    "## Construct the train/test split\n",
    "## Use random state 471 for reproducibility\n",
    "\n",
    "X_train,X_test,y_train,y_test = train_test_split(X, y, test_size = .15, random_state = 471)\n",
    "print('There are '+str(len(y_test[y_test==1]))+' entries in our test set with value 1')\n",
    "print('len(y): '+str(len(y))+' len(y_test): '+str(len(y_test))+' len(y_train): '+str(len(y_train)))"
   ]
  },
  {
   "cell_type": "code",
   "execution_count": 62,
   "metadata": {},
   "outputs": [
    {
     "name": "stdout",
     "output_type": "stream",
     "text": [
      "On 42722 entries, our accuracy score is: 0.9989934928140068\n",
      "On 90 entries with only 1's our accuracy score is: 0.6333333333333333\n",
      "\n",
      "On 42722 entries, our precision score is: 0.8507462686567164\n",
      "On 90 entries with only 1's our precision score is: 1.0\n",
      "\n",
      "On 42722 entries, our recall score is: 0.6333333333333333\n",
      "On 90 entries with only 1's our recall score is: 0.6333333333333333\n",
      "\n",
      "On 42722 entries, our f1 score is: 0.7261146496815286\n",
      "On 90 entries with only 1's our f1 score is: 0.7755102040816326\n",
      "\n",
      "On 42722 entries, our accuracy score is: 0.9990168999578671\n",
      "On 90 entries with only 1's our accuracy score is: 0.6444444444444445\n",
      "\n",
      "On 42722 entries, our precision score is: 0.8529411764705882\n",
      "On 90 entries with only 1's our precision score is: 1.0\n",
      "\n",
      "On 42722 entries, our recall score is: 0.6444444444444445\n",
      "On 90 entries with only 1's our recall score is: 0.6444444444444445\n",
      "\n",
      "On 42722 entries, our f1 score is: 0.7341772151898734\n",
      "On 90 entries with only 1's our f1 score is: 0.7837837837837839\n",
      "\n"
     ]
    },
    {
     "name": "stderr",
     "output_type": "stream",
     "text": [
      "/opt/anaconda3/lib/python3.8/site-packages/sklearn/svm/_base.py:976: ConvergenceWarning: Liblinear failed to converge, increase the number of iterations.\n",
      "  warnings.warn(\"Liblinear failed to converge, increase \"\n"
     ]
    },
    {
     "name": "stdout",
     "output_type": "stream",
     "text": [
      "On 42722 entries, our accuracy score is: 0.9990403071017274\n",
      "On 90 entries with only 1's our accuracy score is: 0.6555555555555556\n",
      "\n",
      "On 42722 entries, our precision score is: 0.855072463768116\n",
      "On 90 entries with only 1's our precision score is: 1.0\n",
      "\n",
      "On 42722 entries, our recall score is: 0.6555555555555556\n",
      "On 90 entries with only 1's our recall score is: 0.6555555555555556\n",
      "\n",
      "On 42722 entries, our f1 score is: 0.7421383647798742\n",
      "On 90 entries with only 1's our f1 score is: 0.7919463087248323\n",
      "\n"
     ]
    },
    {
     "name": "stderr",
     "output_type": "stream",
     "text": [
      "/opt/anaconda3/lib/python3.8/site-packages/sklearn/svm/_base.py:976: ConvergenceWarning: Liblinear failed to converge, increase the number of iterations.\n",
      "  warnings.warn(\"Liblinear failed to converge, increase \"\n"
     ]
    },
    {
     "name": "stdout",
     "output_type": "stream",
     "text": [
      "On 42722 entries, our accuracy score is: 0.9990168999578671\n",
      "On 90 entries with only 1's our accuracy score is: 0.6444444444444445\n",
      "\n",
      "On 42722 entries, our precision score is: 0.8529411764705882\n",
      "On 90 entries with only 1's our precision score is: 1.0\n",
      "\n",
      "On 42722 entries, our recall score is: 0.6444444444444445\n",
      "On 90 entries with only 1's our recall score is: 0.6444444444444445\n",
      "\n",
      "On 42722 entries, our f1 score is: 0.7341772151898734\n",
      "On 90 entries with only 1's our f1 score is: 0.7837837837837839\n",
      "\n"
     ]
    },
    {
     "name": "stderr",
     "output_type": "stream",
     "text": [
      "/opt/anaconda3/lib/python3.8/site-packages/sklearn/svm/_base.py:976: ConvergenceWarning: Liblinear failed to converge, increase the number of iterations.\n",
      "  warnings.warn(\"Liblinear failed to converge, increase \"\n"
     ]
    },
    {
     "name": "stdout",
     "output_type": "stream",
     "text": [
      "On 42722 entries, our accuracy score is: 0.9990168999578671\n",
      "On 90 entries with only 1's our accuracy score is: 0.6444444444444445\n",
      "\n",
      "On 42722 entries, our precision score is: 0.8529411764705882\n",
      "On 90 entries with only 1's our precision score is: 1.0\n",
      "\n",
      "On 42722 entries, our recall score is: 0.6444444444444445\n",
      "On 90 entries with only 1's our recall score is: 0.6444444444444445\n",
      "\n",
      "On 42722 entries, our f1 score is: 0.7341772151898734\n",
      "On 90 entries with only 1's our f1 score is: 0.7837837837837839\n",
      "\n"
     ]
    },
    {
     "data": {
      "image/png": "[encoded data removed]",
      "text/plain": [
       "<Figure size 432x288 with 1 Axes>"
      ]
     },
     "metadata": {},
     "output_type": "display_data"
    }
   ],
   "source": [
    "## SVMs are scale sensitive\n",
    "## Use the standard scaler on the data\n",
    "from sklearn.preprocessing import StandardScaler\n",
    "from sklearn.pipeline import Pipeline\n",
    "\n",
    "## Import metrics\n",
    "from sklearn.metrics import confusion_matrix\n",
    "\n",
    "## Import ROC curve\n",
    "from sklearn.metrics import plot_precision_recall_curve\n",
    "from sklearn.metrics import plot_roc_curve\n",
    "from sklearn.metrics import roc_curve\n",
    "from sklearn.metrics import roc_auc_score\n",
    "\n",
    "\n",
    "## Import the classifier\n",
    "from sklearn.svm import SVC\n",
    "\n",
    "from sklearn.svm import LinearSVC\n",
    "\n",
    "## Import accuracy measure\n",
    "from sklearn.metrics import accuracy_score,precision_score,recall_score,f1_score\n",
    "\n",
    "\n",
    "## Make arrays where we can store our predictions\n",
    "pred_array = np.zeros((len(y_test),5))\n",
    "pred_array_ones = np.zeros((len(y_test[y_test==1]),5))\n",
    "\n",
    "pred_array_train = np.zeros((len(y_train),5))\n",
    "pred_array_ones_train  = np.zeros((len(y_test[y_test==1]),5))\n",
    "\n",
    "\n",
    "\n",
    "\n",
    "## Now we make the classifier\n",
    "\n",
    "\n",
    "## We will try some other C-values as well\n",
    "\n",
    "list_of_C = [0.01, 0.05, 0.25, 0.5, 0.9]\n",
    "\n",
    "\n",
    "#list_of_C = [0.05]\n",
    "\n",
    "\n",
    "#Create empty accuracy, precision, and recall arrays for plotting (train and test)\n",
    "\n",
    "acc = np.zeros((2,5))\n",
    "prec = np.zeros((2,5))\n",
    "recall = np.zeros((2,5))\n",
    "f1 = np.zeros((2,5))\n",
    "\n",
    "acc_train = np.zeros((2,5))\n",
    "prec_train = np.zeros((2,5))\n",
    "recall_train = np.zeros((2,5))\n",
    "f1_train = np.zeros((2,5))\n",
    "\n",
    "for i in range(0,len(list_of_C)):\n",
    "    \n",
    "    max_margin = Pipeline([('scaler',StandardScaler()),('clf',LinearSVC(C=list_of_C[i],max_iter=60000))])\n",
    "    ## Fit the model\n",
    "    max_margin.fit(X_train,y_train)\n",
    "    ## Transform the test data\n",
    "    X_test_transformed=max_margin['scaler'].transform(X_test)\n",
    "    ## Predict on the test data\n",
    "    pred = max_margin['clf'].predict(X_test_transformed)\n",
    "    for j in range(len(pred)):\n",
    "        pred_array[j,i] = pred[j]\n",
    "    ## Predict on only the fraudulent test data\n",
    "    pred_only_1 = max_margin['clf'].predict(X_test_transformed[y_test == 1,:])\n",
    "\n",
    "\n",
    "    ## Transform the train data\n",
    "    X_train_transformed=max_margin['scaler'].transform(X_train)\n",
    "    ## Predict on the train data\n",
    "    pred_train = max_margin['clf'].predict(X_train_transformed)\n",
    "    for j in range(len(pred)):\n",
    "        pred_array_train[j,i] = pred_train[j]\n",
    "    ## Predict on only the fraudulent train data\n",
    "    pred_only_1_train = max_margin['clf'].predict(X_train_transformed[y_train == 1,:])\n",
    "\n",
    "    \n",
    "   \n",
    "    ## Print the accuracy of our predictions for test data\n",
    "    print('On '+str(len(y_test))+' entries, our accuracy score is: '+str(accuracy_score(y_test,pred)))\n",
    "    print('On '+str(len(y_test[y_test==1]))+' entries with only 1\\'s our accuracy score is: '+str(accuracy_score(y_test[y_test==1],pred_only_1))+'\\n')\n",
    "    \n",
    "    print('On '+str(len(y_test))+' entries, our precision score is: '+str(precision_score(y_test,pred)))\n",
    "    print('On '+str(len(y_test[y_test==1]))+' entries with only 1\\'s our precision score is: '+str(precision_score(y_test[y_test==1],pred_only_1))+'\\n')\n",
    "    \n",
    "    print('On '+str(len(y_test))+' entries, our recall score is: '+str(recall_score(y_test,pred)))\n",
    "    print('On '+str(len(y_test[y_test==1]))+' entries with only 1\\'s our recall score is: '+str(recall_score(y_test[y_test==1],pred_only_1))+'\\n')\n",
    "    \n",
    "    print('On '+str(len(y_test))+' entries, our f1 score is: '+str(f1_score(y_test,pred)))\n",
    "    print('On '+str(len(y_test[y_test==1]))+' entries with only 1\\'s our f1 score is: '+str(f1_score(y_test[y_test==1],pred_only_1))+'\\n')\n",
    "        \n",
    "    \n",
    "    \n",
    "    ## Update arrays for plotting\n",
    "    acc[0,i] = accuracy_score(y_test,pred)\n",
    "    acc[1,i] = accuracy_score(y_test[y_test==1],pred_only_1)\n",
    "    \n",
    "    prec[0,i] = precision_score(y_test,pred)\n",
    "    prec[1,i] = precision_score(y_test[y_test==1],pred_only_1)\n",
    "    \n",
    "    recall[0,i] = recall_score(y_test,pred)\n",
    "    recall[1,i] = recall_score(y_test[y_test==1],pred_only_1)\n",
    "    \n",
    "    f1[0,i] = f1_score(y_test,pred)\n",
    "    f1[1,i] = f1_score(y_test[y_test==1],pred_only_1)\n",
    "    \n",
    "    \n",
    "    \n",
    "    \n",
    "    ## Update training arrays for plotting\n",
    "    acc_train[0,i] = accuracy_score(y_train,pred_train)\n",
    "    acc_train[1,i] = accuracy_score(y_train[y_train==1],pred_only_1_train)\n",
    "    \n",
    "    prec_train[0,i] = precision_score(y_train,pred_train)\n",
    "    prec_train[1,i] = precision_score(y_train[y_train==1],pred_only_1_train)\n",
    "    \n",
    "    recall_train[0,i] = recall_score(y_train,pred_train)\n",
    "    recall_train[1,i] = recall_score(y_train[y_train==1],pred_only_1_train)\n",
    "    \n",
    "    f1_train[0,i] = f1_score(y_train,pred_train)\n",
    "    f1_train[1,i] = f1_score(y_train[y_train==1],pred_only_1_train)\n",
    "    \n",
    "    \n",
    "    \n",
    "## Plot ROC curve for C = 0.05\n",
    "\n",
    "SVM_model = Pipeline([('scaler-roc',StandardScaler()),('clf-roc',SVC(probability = True, C = 0.05, max_iter=5000))])\n",
    "                                             \n",
    "SVM_model.fit(X_train, y_train)\n",
    "X_test_transformed = SVM_model['scaler-roc'].transform(X_test) \n",
    "plot_roc_curve(SVM_model['clf-roc'], X_test_transformed, y_test)\n",
    "\n",
    "\n",
    "## Save the model information for later plotting\n",
    "pred_prob_SVM = SVM_model['clf-roc'].predict_proba(X_test_transformed)\n",
    "fpr_SVM, tpr_SVM, thresh_SVM = roc_curve(y_test, pred_prob_SVM[:,1])\n",
    "auc_SVM = roc_auc_score(y_test,pred_prob_SVM[:,1])"
   ]
  },
  {
   "cell_type": "code",
   "execution_count": 63,
   "metadata": {},
   "outputs": [
    {
     "data": {
      "image/png": "[encoded data removed]",
      "text/plain": [
       "<Figure size 864x576 with 1 Axes>"
      ]
     },
     "metadata": {},
     "output_type": "display_data"
    },
    {
     "data": {
      "image/png": "[encoded data removed]",
      "text/plain": [
       "<Figure size 864x576 with 1 Axes>"
      ]
     },
     "metadata": {},
     "output_type": "display_data"
    },
    {
     "name": "stdout",
     "output_type": "stream",
     "text": [
      "              precision    recall  f1-score   support\n",
      "\n",
      "         0.0       1.00      1.00      1.00     42632\n",
      "         1.0       0.85      0.63      0.73        90\n",
      "\n",
      "    accuracy                           1.00     42722\n",
      "   macro avg       0.92      0.82      0.86     42722\n",
      "weighted avg       1.00      1.00      1.00     42722\n",
      "\n",
      " ------------------------------------------------ \n",
      "\n",
      "              precision    recall  f1-score   support\n",
      "\n",
      "         0.0       1.00      1.00      1.00     42632\n",
      "         1.0       0.85      0.64      0.73        90\n",
      "\n",
      "    accuracy                           1.00     42722\n",
      "   macro avg       0.93      0.82      0.87     42722\n",
      "weighted avg       1.00      1.00      1.00     42722\n",
      "\n",
      " ------------------------------------------------ \n",
      "\n",
      "              precision    recall  f1-score   support\n",
      "\n",
      "         0.0       1.00      1.00      1.00     42632\n",
      "         1.0       0.86      0.66      0.74        90\n",
      "\n",
      "    accuracy                           1.00     42722\n",
      "   macro avg       0.93      0.83      0.87     42722\n",
      "weighted avg       1.00      1.00      1.00     42722\n",
      "\n",
      " ------------------------------------------------ \n",
      "\n",
      "              precision    recall  f1-score   support\n",
      "\n",
      "         0.0       1.00      1.00      1.00     42632\n",
      "         1.0       0.85      0.64      0.73        90\n",
      "\n",
      "    accuracy                           1.00     42722\n",
      "   macro avg       0.93      0.82      0.87     42722\n",
      "weighted avg       1.00      1.00      1.00     42722\n",
      "\n",
      " ------------------------------------------------ \n",
      "\n",
      "              precision    recall  f1-score   support\n",
      "\n",
      "         0.0       1.00      1.00      1.00     42632\n",
      "         1.0       0.85      0.64      0.73        90\n",
      "\n",
      "    accuracy                           1.00     42722\n",
      "   macro avg       0.93      0.82      0.87     42722\n",
      "weighted avg       1.00      1.00      1.00     42722\n",
      "\n",
      " ------------------------------------------------ \n",
      "\n",
      "Confusion Matrix: \n",
      "[[42622    10]\n",
      " [   32    58]]\n"
     ]
    }
   ],
   "source": [
    "## Rename variables for easy reporting\n",
    "\n",
    "precision_score_SVM = prec[0,1]\n",
    "accuracy_score_SVM = acc[0,1]\n",
    "recall_score_SVM = recall[0,1]\n",
    "f1_score_SVM = f1[0,1]\n",
    "\n",
    "list_of_C = [0.01, 0.05, 0.25, 0.5, 0.9]\n",
    "\n",
    "\n",
    "## Plot the validation accuracy measures vs. C here (all data version)\n",
    "\n",
    "plt.figure(figsize=(12,8))\n",
    "\n",
    "plt.plot(list_of_C, (acc[0,:]),'b-o', label=\"Accuracy\")\n",
    "plt.plot(list_of_C, (prec[0,:]),'r-+', label=\"Precision\")\n",
    "plt.plot(list_of_C, (recall[0,:]),'g', label=\"Recall\",linestyle='dashed')\n",
    "\n",
    "\n",
    "plt.xticks(np.arange(0,1,.05))\n",
    "\n",
    "plt.xlabel(\"C value\", fontsize=16)\n",
    "plt.ylabel(\"Testing Accuracy Measures \\n (with all data points)\", fontsize=16)\n",
    "\n",
    "\n",
    "plt.legend()\n",
    "\n",
    "\n",
    "plt.show()\n",
    "\n",
    "## Plot the validation accuracy measures vs. C here (only 1's data version)\n",
    "\n",
    "plt.figure(figsize=(12,8))\n",
    "\n",
    "plt.plot(list_of_C, (acc[1,:]),'b-o', label=\"Accuracy\")\n",
    "plt.plot(list_of_C, (prec[1,:]),'r-+', label=\"Precision\")\n",
    "plt.plot(list_of_C, (recall[1,:]),'g', label=\"Recall\",linestyle='dashed')\n",
    "\n",
    "\n",
    "plt.xticks(np.arange(0,1,.05))\n",
    "\n",
    "plt.xlabel(\"C value\", fontsize=16)\n",
    "plt.ylabel(\"Testing Accuracy Measures \\n (with only 1 valued data points)\", fontsize=16)\n",
    "\n",
    "plt.legend()\n",
    "\n",
    "plt.show()\n",
    "\n",
    "\n",
    "\n",
    "\n",
    "## Print out a classification report for each C value\n",
    "\n",
    "from sklearn.metrics import classification_report\n",
    "\n",
    "for i in range(0,5):\n",
    "    print(classification_report(y_test,pred_array[:,i]))\n",
    "    print(' ------------------------------------------------ \\n')\n",
    "    \n",
    "    \n",
    "    \n",
    "    \n",
    "## Print the confusion matrix for C = 0.05 here\n",
    "\n",
    "from sklearn.metrics import confusion_matrix\n",
    "\n",
    "print(\"Confusion Matrix: \\n\" +str(confusion_matrix(y_test,pred_array[:,1])))\n"
   ]
  },
  {
   "cell_type": "code",
   "execution_count": 64,
   "metadata": {},
   "outputs": [
    {
     "name": "stdout",
     "output_type": "stream",
     "text": [
      "[[9.99175723e-01 8.24276887e-04]\n",
      " [9.99337182e-01 6.62817613e-04]\n",
      " [9.99197468e-01 8.02532496e-04]\n",
      " ...\n",
      " [9.99155913e-01 8.44086720e-04]\n",
      " [9.99481274e-01 5.18726189e-04]\n",
      " [9.99351141e-01 6.48859041e-04]]\n"
     ]
    },
    {
     "data": {
      "text/plain": [
       "<matplotlib.legend.Legend at 0x13315d8b0>"
      ]
     },
     "execution_count": 64,
     "metadata": {},
     "output_type": "execute_result"
    },
    {
     "data": {
      "image/png": "[encoded data removed]",
      "text/plain": [
       "<Figure size 864x576 with 1 Axes>"
      ]
     },
     "metadata": {},
     "output_type": "display_data"
    }
   ],
   "source": [
    "## get the predictions of the probabilities of X_test\n",
    "y_pred_prob_test_SVM=SVM_model.predict_proba(X_test_transformed)\n",
    "print(y_pred_prob_test_SVM)\n",
    "\n",
    "# calculate precision-recall curve\n",
    "precision_SVM, recall_SVM, thresholds_SVM = precision_recall_curve(y_test, y_pred_prob_test_SVM[:,1])\n",
    "\n",
    "\n",
    "    \n",
    "\n",
    "\n",
    "PRauc_SVM= auc(recall_SVM, precision_SVM)\n",
    "#plot precision-recall curve\n",
    "plt.figure(figsize=(12,8))\n",
    "plt.plot(precision_SVM, recall_SVM, label='AUC SVM= '+str(np.around(PRauc_SVM,4)))\n",
    "plt.xlabel('Precision', fontsize = 14)\n",
    "plt.ylabel('Recall', fontsize = 14)\n",
    "plt.title('Precision-Recall Curve', fontsize = 18)\n",
    "plt.legend(loc = 'best')"
   ]
  },
  {
   "cell_type": "markdown",
   "metadata": {},
   "source": [
    "# Report"
   ]
  },
  {
   "cell_type": "code",
   "execution_count": 65,
   "metadata": {},
   "outputs": [
    {
     "name": "stdout",
     "output_type": "stream",
     "text": [
      "     Precision score  Recall score  f1 score  Accuracy score\n",
      "LR          0.864407      0.520408  0.649682        0.999034\n",
      "ANN         0.866667      0.947917  0.905473        0.903553\n",
      "SVM         0.852941      0.644444  0.734177        0.999017\n",
      "RF          0.976744      0.875000  0.923077        0.928934\n"
     ]
    }
   ],
   "source": [
    "#Report\n",
    "\n",
    "df_report = pd.DataFrame({ 'Precision score': [precision_score_LR, precision_score_ANN, precision_score_SVM, precision_score_RF],\n",
    "                   'Recall score': [recall_score_LR, recall_score_ANN, recall_score_SVM, recall_score_RF],\n",
    "                          'f1 score': [f1_score_LR, f1_score_ANN, f1_score_SVM, f1_score_RF],\n",
    "                          'Accuracy score': [accuracy_score_LR, accuracy_score_ANN , accuracy_score_SVM, accuracy_score_RF],\n",
    "                         },\n",
    "                  index=['LR','ANN', 'SVM', 'RF'])\n",
    "print(df_report)\n",
    "\n"
   ]
  },
  {
   "cell_type": "code",
   "execution_count": 66,
   "metadata": {},
   "outputs": [
    {
     "data": {
      "image/png": "[encoded data removed]",
      "text/plain": [
       "<Figure size 864x576 with 1 Axes>"
      ]
     },
     "metadata": {},
     "output_type": "display_data"
    }
   ],
   "source": [
    "#plot ROC with AUC\n",
    "plt.figure(figsize=(12,8))\n",
    "\n",
    "plt.plot(fpr_ANN,tpr_ANN,label='AUC ANN= '+str(np.around(auc_ANN,4)))\n",
    "plt.plot(fpr_LR,tpr_LR,label='AUC LR= '+str(np.around(auc_lR,4)))\n",
    "plt.plot(fpr_RF,tpr_RF,label='AUC RF= '+str(np.around(auc_RF,4)))\n",
    "plt.plot(fpr_SVM,tpr_SVM,label='AUC SVM= '+str(np.around(auc_SVM,4)))\n",
    "\n",
    "\n",
    "\n",
    "plt.xlabel(\"False Positive Rate\",fontsize=16)\n",
    "plt.ylabel(\"True Positive Rate\",fontsize=16)\n",
    "\n",
    "plt.title(\"ROC Curve\", fontsize=18)\n",
    "plt.xticks(fontsize=12)\n",
    "plt.yticks(fontsize=12)\n",
    "plt.legend(loc='best')\n",
    "plt.show()"
   ]
  },
  {
   "cell_type": "code",
   "execution_count": 67,
   "metadata": {},
   "outputs": [
    {
     "data": {
      "text/plain": [
       "<matplotlib.legend.Legend at 0x1331fd8e0>"
      ]
     },
     "execution_count": 67,
     "metadata": {},
     "output_type": "execute_result"
    },
    {
     "data": {
      "image/png": "[encoded data removed]",
      "text/plain": [
       "<Figure size 864x576 with 1 Axes>"
      ]
     },
     "metadata": {},
     "output_type": "display_data"
    }
   ],
   "source": [
    "#plot precision-recall curve\n",
    "\n",
    "plt.figure(figsize=(12,8))\n",
    "\n",
    "plt.plot(precision_LR, recall_LR, label='AUC LR= '+str(np.around(PRauc_LR,4)))\n",
    "plt.plot(precision_ANN, recall_ANN, label='AUC ANN= '+str(np.around(PRauc_ANN,4)))\n",
    "plt.plot(precision_RF, recall_RF, label='AUC RF= '+str(np.around(PRauc_RF,4)))\n",
    "plt.plot(precision_SVM, recall_SVM, label='AUC SVM= '+str(np.around(PRauc_SVM,4)))\n",
    "\n",
    "\n",
    "\n",
    "\n",
    "plt.xlabel('Precision', fontsize = 14)\n",
    "plt.ylabel('Recall', fontsize = 14)\n",
    "plt.title('Precision-Recall Curve', fontsize = 18)\n",
    "plt.legend(loc = 'best')\n",
    "\n",
    "\n",
    "\n"
   ]
  },
  {
   "cell_type": "code",
   "execution_count": null,
   "metadata": {},
   "outputs": [],
   "source": []
  }
 ],
 "metadata": {
  "kernelspec": {
   "display_name": "Python 3",
   "language": "python",
   "name": "python3"
  },
  "language_info": {
   "codemirror_mode": {
    "name": "ipython",
    "version": 3
   },
   "file_extension": ".py",
   "mimetype": "text/x-python",
   "name": "python",
   "nbconvert_exporter": "python",
   "pygments_lexer": "ipython3",
   "version": "3.8.5"
  }
 },
 "nbformat": 4,
 "nbformat_minor": 4
}

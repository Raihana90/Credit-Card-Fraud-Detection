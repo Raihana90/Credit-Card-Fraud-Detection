{
 "cells": [
  {
   "cell_type": "markdown",
   "metadata": {},
   "source": [
    "# About the dataset"
   ]
  },
  {
   "cell_type": "code",
   "execution_count": 1,
   "metadata": {},
   "outputs": [],
   "source": [
    "import pandas as pd\n",
    "import numpy as np\n",
    "import seaborn as sns\n",
    "import matplotlib.pyplot as plt\n",
    "sns.set_style(\"whitegrid\")"
   ]
  },
  {
   "cell_type": "code",
   "execution_count": 2,
   "metadata": {},
   "outputs": [
    {
     "name": "stdout",
     "output_type": "stream",
     "text": [
      "There are 284807 observations in the data set.\n",
      "The columns are Index(['Time', 'V1', 'V2', 'V3', 'V4', 'V5', 'V6', 'V7', 'V8', 'V9', 'V10',\n",
      "       'V11', 'V12', 'V13', 'V14', 'V15', 'V16', 'V17', 'V18', 'V19', 'V20',\n",
      "       'V21', 'V22', 'V23', 'V24', 'V25', 'V26', 'V27', 'V28', 'Amount',\n",
      "       'Class'],\n",
      "      dtype='object')\n"
     ]
    }
   ],
   "source": [
    "#read the database\n",
    "df=pd.read_csv(\"creditcard.csv\")\n",
    "#information about the database\n",
    "print(\"There are\", len(df), \"observations in the data set.\")\n",
    "print(\"The columns are\", df.columns)\n"
   ]
  },
  {
   "cell_type": "code",
   "execution_count": 3,
   "metadata": {},
   "outputs": [
    {
     "data": {
      "text/html": [
       "<div>\n",
       "<style scoped>\n",
       "    .dataframe tbody tr th:only-of-type {\n",
       "        vertical-align: middle;\n",
       "    }\n",
       "\n",
       "    .dataframe tbody tr th {\n",
       "        vertical-align: top;\n",
       "    }\n",
       "\n",
       "    .dataframe thead th {\n",
       "        text-align: right;\n",
       "    }\n",
       "</style>\n",
       "<table border=\"1\" class=\"dataframe\">\n",
       "  <thead>\n",
       "    <tr style=\"text-align: right;\">\n",
       "      <th></th>\n",
       "      <th>Time</th>\n",
       "      <th>V1</th>\n",
       "      <th>V2</th>\n",
       "      <th>V3</th>\n",
       "      <th>V4</th>\n",
       "      <th>V5</th>\n",
       "      <th>V6</th>\n",
       "      <th>V7</th>\n",
       "      <th>V8</th>\n",
       "      <th>V9</th>\n",
       "      <th>...</th>\n",
       "      <th>V21</th>\n",
       "      <th>V22</th>\n",
       "      <th>V23</th>\n",
       "      <th>V24</th>\n",
       "      <th>V25</th>\n",
       "      <th>V26</th>\n",
       "      <th>V27</th>\n",
       "      <th>V28</th>\n",
       "      <th>Amount</th>\n",
       "      <th>Class</th>\n",
       "    </tr>\n",
       "  </thead>\n",
       "  <tbody>\n",
       "    <tr>\n",
       "      <th>0</th>\n",
       "      <td>0.0</td>\n",
       "      <td>-1.359807</td>\n",
       "      <td>-0.072781</td>\n",
       "      <td>2.536347</td>\n",
       "      <td>1.378155</td>\n",
       "      <td>-0.338321</td>\n",
       "      <td>0.462388</td>\n",
       "      <td>0.239599</td>\n",
       "      <td>0.098698</td>\n",
       "      <td>0.363787</td>\n",
       "      <td>...</td>\n",
       "      <td>-0.018307</td>\n",
       "      <td>0.277838</td>\n",
       "      <td>-0.110474</td>\n",
       "      <td>0.066928</td>\n",
       "      <td>0.128539</td>\n",
       "      <td>-0.189115</td>\n",
       "      <td>0.133558</td>\n",
       "      <td>-0.021053</td>\n",
       "      <td>149.62</td>\n",
       "      <td>0</td>\n",
       "    </tr>\n",
       "    <tr>\n",
       "      <th>1</th>\n",
       "      <td>0.0</td>\n",
       "      <td>1.191857</td>\n",
       "      <td>0.266151</td>\n",
       "      <td>0.166480</td>\n",
       "      <td>0.448154</td>\n",
       "      <td>0.060018</td>\n",
       "      <td>-0.082361</td>\n",
       "      <td>-0.078803</td>\n",
       "      <td>0.085102</td>\n",
       "      <td>-0.255425</td>\n",
       "      <td>...</td>\n",
       "      <td>-0.225775</td>\n",
       "      <td>-0.638672</td>\n",
       "      <td>0.101288</td>\n",
       "      <td>-0.339846</td>\n",
       "      <td>0.167170</td>\n",
       "      <td>0.125895</td>\n",
       "      <td>-0.008983</td>\n",
       "      <td>0.014724</td>\n",
       "      <td>2.69</td>\n",
       "      <td>0</td>\n",
       "    </tr>\n",
       "    <tr>\n",
       "      <th>2</th>\n",
       "      <td>1.0</td>\n",
       "      <td>-1.358354</td>\n",
       "      <td>-1.340163</td>\n",
       "      <td>1.773209</td>\n",
       "      <td>0.379780</td>\n",
       "      <td>-0.503198</td>\n",
       "      <td>1.800499</td>\n",
       "      <td>0.791461</td>\n",
       "      <td>0.247676</td>\n",
       "      <td>-1.514654</td>\n",
       "      <td>...</td>\n",
       "      <td>0.247998</td>\n",
       "      <td>0.771679</td>\n",
       "      <td>0.909412</td>\n",
       "      <td>-0.689281</td>\n",
       "      <td>-0.327642</td>\n",
       "      <td>-0.139097</td>\n",
       "      <td>-0.055353</td>\n",
       "      <td>-0.059752</td>\n",
       "      <td>378.66</td>\n",
       "      <td>0</td>\n",
       "    </tr>\n",
       "    <tr>\n",
       "      <th>3</th>\n",
       "      <td>1.0</td>\n",
       "      <td>-0.966272</td>\n",
       "      <td>-0.185226</td>\n",
       "      <td>1.792993</td>\n",
       "      <td>-0.863291</td>\n",
       "      <td>-0.010309</td>\n",
       "      <td>1.247203</td>\n",
       "      <td>0.237609</td>\n",
       "      <td>0.377436</td>\n",
       "      <td>-1.387024</td>\n",
       "      <td>...</td>\n",
       "      <td>-0.108300</td>\n",
       "      <td>0.005274</td>\n",
       "      <td>-0.190321</td>\n",
       "      <td>-1.175575</td>\n",
       "      <td>0.647376</td>\n",
       "      <td>-0.221929</td>\n",
       "      <td>0.062723</td>\n",
       "      <td>0.061458</td>\n",
       "      <td>123.50</td>\n",
       "      <td>0</td>\n",
       "    </tr>\n",
       "    <tr>\n",
       "      <th>4</th>\n",
       "      <td>2.0</td>\n",
       "      <td>-1.158233</td>\n",
       "      <td>0.877737</td>\n",
       "      <td>1.548718</td>\n",
       "      <td>0.403034</td>\n",
       "      <td>-0.407193</td>\n",
       "      <td>0.095921</td>\n",
       "      <td>0.592941</td>\n",
       "      <td>-0.270533</td>\n",
       "      <td>0.817739</td>\n",
       "      <td>...</td>\n",
       "      <td>-0.009431</td>\n",
       "      <td>0.798278</td>\n",
       "      <td>-0.137458</td>\n",
       "      <td>0.141267</td>\n",
       "      <td>-0.206010</td>\n",
       "      <td>0.502292</td>\n",
       "      <td>0.219422</td>\n",
       "      <td>0.215153</td>\n",
       "      <td>69.99</td>\n",
       "      <td>0</td>\n",
       "    </tr>\n",
       "  </tbody>\n",
       "</table>\n",
       "<p>5 rows × 31 columns</p>\n",
       "</div>"
      ],
      "text/plain": [
       "   Time        V1        V2        V3        V4        V5        V6        V7  \\\n",
       "0   0.0 -1.359807 -0.072781  2.536347  1.378155 -0.338321  0.462388  0.239599   \n",
       "1   0.0  1.191857  0.266151  0.166480  0.448154  0.060018 -0.082361 -0.078803   \n",
       "2   1.0 -1.358354 -1.340163  1.773209  0.379780 -0.503198  1.800499  0.791461   \n",
       "3   1.0 -0.966272 -0.185226  1.792993 -0.863291 -0.010309  1.247203  0.237609   \n",
       "4   2.0 -1.158233  0.877737  1.548718  0.403034 -0.407193  0.095921  0.592941   \n",
       "\n",
       "         V8        V9  ...       V21       V22       V23       V24       V25  \\\n",
       "0  0.098698  0.363787  ... -0.018307  0.277838 -0.110474  0.066928  0.128539   \n",
       "1  0.085102 -0.255425  ... -0.225775 -0.638672  0.101288 -0.339846  0.167170   \n",
       "2  0.247676 -1.514654  ...  0.247998  0.771679  0.909412 -0.689281 -0.327642   \n",
       "3  0.377436 -1.387024  ... -0.108300  0.005274 -0.190321 -1.175575  0.647376   \n",
       "4 -0.270533  0.817739  ... -0.009431  0.798278 -0.137458  0.141267 -0.206010   \n",
       "\n",
       "        V26       V27       V28  Amount  Class  \n",
       "0 -0.189115  0.133558 -0.021053  149.62      0  \n",
       "1  0.125895 -0.008983  0.014724    2.69      0  \n",
       "2 -0.139097 -0.055353 -0.059752  378.66      0  \n",
       "3 -0.221929  0.062723  0.061458  123.50      0  \n",
       "4  0.502292  0.219422  0.215153   69.99      0  \n",
       "\n",
       "[5 rows x 31 columns]"
      ]
     },
     "execution_count": 3,
     "metadata": {},
     "output_type": "execute_result"
    }
   ],
   "source": [
    "df.head()"
   ]
  },
  {
   "cell_type": "code",
   "execution_count": 4,
   "metadata": {},
   "outputs": [
    {
     "data": {
      "text/plain": [
       "Time      float64\n",
       "V1        float64\n",
       "V2        float64\n",
       "V3        float64\n",
       "V4        float64\n",
       "V5        float64\n",
       "V6        float64\n",
       "V7        float64\n",
       "V8        float64\n",
       "V9        float64\n",
       "V10       float64\n",
       "V11       float64\n",
       "V12       float64\n",
       "V13       float64\n",
       "V14       float64\n",
       "V15       float64\n",
       "V16       float64\n",
       "V17       float64\n",
       "V18       float64\n",
       "V19       float64\n",
       "V20       float64\n",
       "V21       float64\n",
       "V22       float64\n",
       "V23       float64\n",
       "V24       float64\n",
       "V25       float64\n",
       "V26       float64\n",
       "V27       float64\n",
       "V28       float64\n",
       "Amount    float64\n",
       "Class       int64\n",
       "dtype: object"
      ]
     },
     "execution_count": 4,
     "metadata": {},
     "output_type": "execute_result"
    }
   ],
   "source": [
    "#the type of each column\n",
    "df.dtypes"
   ]
  },
  {
   "cell_type": "code",
   "execution_count": 5,
   "metadata": {},
   "outputs": [
    {
     "data": {
      "text/plain": [
       "(284807, 31)"
      ]
     },
     "execution_count": 5,
     "metadata": {},
     "output_type": "execute_result"
    }
   ],
   "source": [
    "#the shape of the database\n",
    "df.shape"
   ]
  },
  {
   "cell_type": "code",
   "execution_count": 6,
   "metadata": {},
   "outputs": [
    {
     "data": {
      "text/html": [
       "<div>\n",
       "<style scoped>\n",
       "    .dataframe tbody tr th:only-of-type {\n",
       "        vertical-align: middle;\n",
       "    }\n",
       "\n",
       "    .dataframe tbody tr th {\n",
       "        vertical-align: top;\n",
       "    }\n",
       "\n",
       "    .dataframe thead th {\n",
       "        text-align: right;\n",
       "    }\n",
       "</style>\n",
       "<table border=\"1\" class=\"dataframe\">\n",
       "  <thead>\n",
       "    <tr style=\"text-align: right;\">\n",
       "      <th></th>\n",
       "      <th>Time</th>\n",
       "      <th>V1</th>\n",
       "      <th>V2</th>\n",
       "      <th>V3</th>\n",
       "      <th>V4</th>\n",
       "      <th>V5</th>\n",
       "      <th>V6</th>\n",
       "      <th>V7</th>\n",
       "      <th>V8</th>\n",
       "      <th>V9</th>\n",
       "      <th>...</th>\n",
       "      <th>V21</th>\n",
       "      <th>V22</th>\n",
       "      <th>V23</th>\n",
       "      <th>V24</th>\n",
       "      <th>V25</th>\n",
       "      <th>V26</th>\n",
       "      <th>V27</th>\n",
       "      <th>V28</th>\n",
       "      <th>Amount</th>\n",
       "      <th>Class</th>\n",
       "    </tr>\n",
       "  </thead>\n",
       "  <tbody>\n",
       "    <tr>\n",
       "      <th>count</th>\n",
       "      <td>284807.000000</td>\n",
       "      <td>2.848070e+05</td>\n",
       "      <td>2.848070e+05</td>\n",
       "      <td>2.848070e+05</td>\n",
       "      <td>2.848070e+05</td>\n",
       "      <td>2.848070e+05</td>\n",
       "      <td>2.848070e+05</td>\n",
       "      <td>2.848070e+05</td>\n",
       "      <td>2.848070e+05</td>\n",
       "      <td>2.848070e+05</td>\n",
       "      <td>...</td>\n",
       "      <td>2.848070e+05</td>\n",
       "      <td>2.848070e+05</td>\n",
       "      <td>2.848070e+05</td>\n",
       "      <td>2.848070e+05</td>\n",
       "      <td>2.848070e+05</td>\n",
       "      <td>2.848070e+05</td>\n",
       "      <td>2.848070e+05</td>\n",
       "      <td>2.848070e+05</td>\n",
       "      <td>284807.000000</td>\n",
       "      <td>284807.000000</td>\n",
       "    </tr>\n",
       "    <tr>\n",
       "      <th>mean</th>\n",
       "      <td>94813.859575</td>\n",
       "      <td>3.919560e-15</td>\n",
       "      <td>5.688174e-16</td>\n",
       "      <td>-8.769071e-15</td>\n",
       "      <td>2.782312e-15</td>\n",
       "      <td>-1.552563e-15</td>\n",
       "      <td>2.010663e-15</td>\n",
       "      <td>-1.694249e-15</td>\n",
       "      <td>-1.927028e-16</td>\n",
       "      <td>-3.137024e-15</td>\n",
       "      <td>...</td>\n",
       "      <td>1.537294e-16</td>\n",
       "      <td>7.959909e-16</td>\n",
       "      <td>5.367590e-16</td>\n",
       "      <td>4.458112e-15</td>\n",
       "      <td>1.453003e-15</td>\n",
       "      <td>1.699104e-15</td>\n",
       "      <td>-3.660161e-16</td>\n",
       "      <td>-1.206049e-16</td>\n",
       "      <td>88.349619</td>\n",
       "      <td>0.001727</td>\n",
       "    </tr>\n",
       "    <tr>\n",
       "      <th>std</th>\n",
       "      <td>47488.145955</td>\n",
       "      <td>1.958696e+00</td>\n",
       "      <td>1.651309e+00</td>\n",
       "      <td>1.516255e+00</td>\n",
       "      <td>1.415869e+00</td>\n",
       "      <td>1.380247e+00</td>\n",
       "      <td>1.332271e+00</td>\n",
       "      <td>1.237094e+00</td>\n",
       "      <td>1.194353e+00</td>\n",
       "      <td>1.098632e+00</td>\n",
       "      <td>...</td>\n",
       "      <td>7.345240e-01</td>\n",
       "      <td>7.257016e-01</td>\n",
       "      <td>6.244603e-01</td>\n",
       "      <td>6.056471e-01</td>\n",
       "      <td>5.212781e-01</td>\n",
       "      <td>4.822270e-01</td>\n",
       "      <td>4.036325e-01</td>\n",
       "      <td>3.300833e-01</td>\n",
       "      <td>250.120109</td>\n",
       "      <td>0.041527</td>\n",
       "    </tr>\n",
       "    <tr>\n",
       "      <th>min</th>\n",
       "      <td>0.000000</td>\n",
       "      <td>-5.640751e+01</td>\n",
       "      <td>-7.271573e+01</td>\n",
       "      <td>-4.832559e+01</td>\n",
       "      <td>-5.683171e+00</td>\n",
       "      <td>-1.137433e+02</td>\n",
       "      <td>-2.616051e+01</td>\n",
       "      <td>-4.355724e+01</td>\n",
       "      <td>-7.321672e+01</td>\n",
       "      <td>-1.343407e+01</td>\n",
       "      <td>...</td>\n",
       "      <td>-3.483038e+01</td>\n",
       "      <td>-1.093314e+01</td>\n",
       "      <td>-4.480774e+01</td>\n",
       "      <td>-2.836627e+00</td>\n",
       "      <td>-1.029540e+01</td>\n",
       "      <td>-2.604551e+00</td>\n",
       "      <td>-2.256568e+01</td>\n",
       "      <td>-1.543008e+01</td>\n",
       "      <td>0.000000</td>\n",
       "      <td>0.000000</td>\n",
       "    </tr>\n",
       "    <tr>\n",
       "      <th>25%</th>\n",
       "      <td>54201.500000</td>\n",
       "      <td>-9.203734e-01</td>\n",
       "      <td>-5.985499e-01</td>\n",
       "      <td>-8.903648e-01</td>\n",
       "      <td>-8.486401e-01</td>\n",
       "      <td>-6.915971e-01</td>\n",
       "      <td>-7.682956e-01</td>\n",
       "      <td>-5.540759e-01</td>\n",
       "      <td>-2.086297e-01</td>\n",
       "      <td>-6.430976e-01</td>\n",
       "      <td>...</td>\n",
       "      <td>-2.283949e-01</td>\n",
       "      <td>-5.423504e-01</td>\n",
       "      <td>-1.618463e-01</td>\n",
       "      <td>-3.545861e-01</td>\n",
       "      <td>-3.171451e-01</td>\n",
       "      <td>-3.269839e-01</td>\n",
       "      <td>-7.083953e-02</td>\n",
       "      <td>-5.295979e-02</td>\n",
       "      <td>5.600000</td>\n",
       "      <td>0.000000</td>\n",
       "    </tr>\n",
       "    <tr>\n",
       "      <th>50%</th>\n",
       "      <td>84692.000000</td>\n",
       "      <td>1.810880e-02</td>\n",
       "      <td>6.548556e-02</td>\n",
       "      <td>1.798463e-01</td>\n",
       "      <td>-1.984653e-02</td>\n",
       "      <td>-5.433583e-02</td>\n",
       "      <td>-2.741871e-01</td>\n",
       "      <td>4.010308e-02</td>\n",
       "      <td>2.235804e-02</td>\n",
       "      <td>-5.142873e-02</td>\n",
       "      <td>...</td>\n",
       "      <td>-2.945017e-02</td>\n",
       "      <td>6.781943e-03</td>\n",
       "      <td>-1.119293e-02</td>\n",
       "      <td>4.097606e-02</td>\n",
       "      <td>1.659350e-02</td>\n",
       "      <td>-5.213911e-02</td>\n",
       "      <td>1.342146e-03</td>\n",
       "      <td>1.124383e-02</td>\n",
       "      <td>22.000000</td>\n",
       "      <td>0.000000</td>\n",
       "    </tr>\n",
       "    <tr>\n",
       "      <th>75%</th>\n",
       "      <td>139320.500000</td>\n",
       "      <td>1.315642e+00</td>\n",
       "      <td>8.037239e-01</td>\n",
       "      <td>1.027196e+00</td>\n",
       "      <td>7.433413e-01</td>\n",
       "      <td>6.119264e-01</td>\n",
       "      <td>3.985649e-01</td>\n",
       "      <td>5.704361e-01</td>\n",
       "      <td>3.273459e-01</td>\n",
       "      <td>5.971390e-01</td>\n",
       "      <td>...</td>\n",
       "      <td>1.863772e-01</td>\n",
       "      <td>5.285536e-01</td>\n",
       "      <td>1.476421e-01</td>\n",
       "      <td>4.395266e-01</td>\n",
       "      <td>3.507156e-01</td>\n",
       "      <td>2.409522e-01</td>\n",
       "      <td>9.104512e-02</td>\n",
       "      <td>7.827995e-02</td>\n",
       "      <td>77.165000</td>\n",
       "      <td>0.000000</td>\n",
       "    </tr>\n",
       "    <tr>\n",
       "      <th>max</th>\n",
       "      <td>172792.000000</td>\n",
       "      <td>2.454930e+00</td>\n",
       "      <td>2.205773e+01</td>\n",
       "      <td>9.382558e+00</td>\n",
       "      <td>1.687534e+01</td>\n",
       "      <td>3.480167e+01</td>\n",
       "      <td>7.330163e+01</td>\n",
       "      <td>1.205895e+02</td>\n",
       "      <td>2.000721e+01</td>\n",
       "      <td>1.559499e+01</td>\n",
       "      <td>...</td>\n",
       "      <td>2.720284e+01</td>\n",
       "      <td>1.050309e+01</td>\n",
       "      <td>2.252841e+01</td>\n",
       "      <td>4.584549e+00</td>\n",
       "      <td>7.519589e+00</td>\n",
       "      <td>3.517346e+00</td>\n",
       "      <td>3.161220e+01</td>\n",
       "      <td>3.384781e+01</td>\n",
       "      <td>25691.160000</td>\n",
       "      <td>1.000000</td>\n",
       "    </tr>\n",
       "  </tbody>\n",
       "</table>\n",
       "<p>8 rows × 31 columns</p>\n",
       "</div>"
      ],
      "text/plain": [
       "                Time            V1            V2            V3            V4  \\\n",
       "count  284807.000000  2.848070e+05  2.848070e+05  2.848070e+05  2.848070e+05   \n",
       "mean    94813.859575  3.919560e-15  5.688174e-16 -8.769071e-15  2.782312e-15   \n",
       "std     47488.145955  1.958696e+00  1.651309e+00  1.516255e+00  1.415869e+00   \n",
       "min         0.000000 -5.640751e+01 -7.271573e+01 -4.832559e+01 -5.683171e+00   \n",
       "25%     54201.500000 -9.203734e-01 -5.985499e-01 -8.903648e-01 -8.486401e-01   \n",
       "50%     84692.000000  1.810880e-02  6.548556e-02  1.798463e-01 -1.984653e-02   \n",
       "75%    139320.500000  1.315642e+00  8.037239e-01  1.027196e+00  7.433413e-01   \n",
       "max    172792.000000  2.454930e+00  2.205773e+01  9.382558e+00  1.687534e+01   \n",
       "\n",
       "                 V5            V6            V7            V8            V9  \\\n",
       "count  2.848070e+05  2.848070e+05  2.848070e+05  2.848070e+05  2.848070e+05   \n",
       "mean  -1.552563e-15  2.010663e-15 -1.694249e-15 -1.927028e-16 -3.137024e-15   \n",
       "std    1.380247e+00  1.332271e+00  1.237094e+00  1.194353e+00  1.098632e+00   \n",
       "min   -1.137433e+02 -2.616051e+01 -4.355724e+01 -7.321672e+01 -1.343407e+01   \n",
       "25%   -6.915971e-01 -7.682956e-01 -5.540759e-01 -2.086297e-01 -6.430976e-01   \n",
       "50%   -5.433583e-02 -2.741871e-01  4.010308e-02  2.235804e-02 -5.142873e-02   \n",
       "75%    6.119264e-01  3.985649e-01  5.704361e-01  3.273459e-01  5.971390e-01   \n",
       "max    3.480167e+01  7.330163e+01  1.205895e+02  2.000721e+01  1.559499e+01   \n",
       "\n",
       "       ...           V21           V22           V23           V24  \\\n",
       "count  ...  2.848070e+05  2.848070e+05  2.848070e+05  2.848070e+05   \n",
       "mean   ...  1.537294e-16  7.959909e-16  5.367590e-16  4.458112e-15   \n",
       "std    ...  7.345240e-01  7.257016e-01  6.244603e-01  6.056471e-01   \n",
       "min    ... -3.483038e+01 -1.093314e+01 -4.480774e+01 -2.836627e+00   \n",
       "25%    ... -2.283949e-01 -5.423504e-01 -1.618463e-01 -3.545861e-01   \n",
       "50%    ... -2.945017e-02  6.781943e-03 -1.119293e-02  4.097606e-02   \n",
       "75%    ...  1.863772e-01  5.285536e-01  1.476421e-01  4.395266e-01   \n",
       "max    ...  2.720284e+01  1.050309e+01  2.252841e+01  4.584549e+00   \n",
       "\n",
       "                V25           V26           V27           V28         Amount  \\\n",
       "count  2.848070e+05  2.848070e+05  2.848070e+05  2.848070e+05  284807.000000   \n",
       "mean   1.453003e-15  1.699104e-15 -3.660161e-16 -1.206049e-16      88.349619   \n",
       "std    5.212781e-01  4.822270e-01  4.036325e-01  3.300833e-01     250.120109   \n",
       "min   -1.029540e+01 -2.604551e+00 -2.256568e+01 -1.543008e+01       0.000000   \n",
       "25%   -3.171451e-01 -3.269839e-01 -7.083953e-02 -5.295979e-02       5.600000   \n",
       "50%    1.659350e-02 -5.213911e-02  1.342146e-03  1.124383e-02      22.000000   \n",
       "75%    3.507156e-01  2.409522e-01  9.104512e-02  7.827995e-02      77.165000   \n",
       "max    7.519589e+00  3.517346e+00  3.161220e+01  3.384781e+01   25691.160000   \n",
       "\n",
       "               Class  \n",
       "count  284807.000000  \n",
       "mean        0.001727  \n",
       "std         0.041527  \n",
       "min         0.000000  \n",
       "25%         0.000000  \n",
       "50%         0.000000  \n",
       "75%         0.000000  \n",
       "max         1.000000  \n",
       "\n",
       "[8 rows x 31 columns]"
      ]
     },
     "execution_count": 6,
     "metadata": {},
     "output_type": "execute_result"
    }
   ],
   "source": [
    "#Information of the database\n",
    "df.describe()"
   ]
  },
  {
   "cell_type": "code",
   "execution_count": 7,
   "metadata": {},
   "outputs": [
    {
     "data": {
      "text/plain": [
       "False"
      ]
     },
     "execution_count": 7,
     "metadata": {},
     "output_type": "execute_result"
    }
   ],
   "source": [
    "#Check if there a null value in the database\n",
    "df.isnull().values.any()"
   ]
  },
  {
   "cell_type": "markdown",
   "metadata": {},
   "source": [
    "# Data visualization "
   ]
  },
  {
   "cell_type": "code",
   "execution_count": 8,
   "metadata": {},
   "outputs": [
    {
     "data": {
      "text/plain": [
       "0    284315\n",
       "1       492\n",
       "Name: Class, dtype: int64"
      ]
     },
     "execution_count": 8,
     "metadata": {},
     "output_type": "execute_result"
    }
   ],
   "source": [
    "#check how many classes that we have and what is the value of each class.\n",
    "df[\"Class\"].value_counts()"
   ]
  },
  {
   "cell_type": "code",
   "execution_count": 9,
   "metadata": {},
   "outputs": [
    {
     "data": {
      "text/plain": [
       "Text(0, 0.5, 'Frequency')"
      ]
     },
     "execution_count": 9,
     "metadata": {},
     "output_type": "execute_result"
    },
    {
     "data": {
      "image/png": "[encoded data removed]",
      "text/plain": [
       "<Figure size 648x576 with 1 Axes>"
      ]
     },
     "metadata": {},
     "output_type": "display_data"
    }
   ],
   "source": [
    "#plot the classes\n",
    "plt.figure(figsize = (9,8))\n",
    "df[\"Class\"].value_counts().plot(kind='bar')\n",
    "plt.title(\"Transaction Class Distribution\")\n",
    "\n",
    "plt.xticks(range(2),  [\"Normal\", \"Fraud\"])\n",
    "\n",
    "plt.xlabel(\"Class\")\n",
    "\n",
    "plt.ylabel(\"Frequency\")"
   ]
  },
  {
   "cell_type": "code",
   "execution_count": 10,
   "metadata": {},
   "outputs": [
    {
     "data": {
      "text/plain": [
       "<seaborn.axisgrid.FacetGrid at 0x10b512a90>"
      ]
     },
     "execution_count": 10,
     "metadata": {},
     "output_type": "execute_result"
    },
    {
     "data": {
      "image/png": "[encoded data removed]",
      "text/plain": [
       "<Figure size 401.625x360 with 1 Axes>"
      ]
     },
     "metadata": {},
     "output_type": "display_data"
    }
   ],
   "source": [
    "#plot \n",
    "sns.relplot(x='Amount', y='Time', hue='Class', data=df)\n"
   ]
  },
  {
   "cell_type": "code",
   "execution_count": 11,
   "metadata": {},
   "outputs": [
    {
     "data": {
      "image/png": "[encoded data removed]",
      "text/plain": [
       "<Figure size 576x576 with 1 Axes>"
      ]
     },
     "metadata": {},
     "output_type": "display_data"
    }
   ],
   "source": [
    "#plot amount according to class\n",
    "#There are two classes 0 and 1\n",
    "plt.figure(figsize = (8,8))\n",
    "\n",
    "\n",
    "plt.scatter(df.Amount, df.Class, marker='+',color='red')\n",
    "\n",
    "\n",
    "plt.xlabel(\"Amount\", fontsize =16)\n",
    "\n",
    "\n",
    "plt.ylabel(\"Class\", fontsize = 16)\n",
    "\n",
    "\n",
    "plt.show()"
   ]
  },
  {
   "cell_type": "markdown",
   "metadata": {},
   "source": [
    "# Models"
   ]
  },
  {
   "cell_type": "markdown",
   "metadata": {},
   "source": [
    "#### Now, we use the training set to build an accurate model. Then use the test set to report the accuracy of the model. We use the following algorithms:\n",
    "\n",
    "-Logistic Regression.\n",
    "\n",
    "-Support Vector Machine.\n",
    "\n",
    "-Random Forest.\n",
    "\n",
    "-Artificial Neural network.\n",
    "\n"
   ]
  },
  {
   "cell_type": "markdown",
   "metadata": {},
   "source": [
    "# Logistic Regression"
   ]
  },
  {
   "cell_type": "code",
   "execution_count": 12,
   "metadata": {},
   "outputs": [],
   "source": [
    "## First import the package\n",
    "from sklearn.model_selection import train_test_split"
   ]
  },
  {
   "cell_type": "code",
   "execution_count": 13,
   "metadata": {},
   "outputs": [],
   "source": [
    "###Separate features\n",
    "X_LR=df.iloc[:,:-1]\n",
    "y_LR=df.iloc[:,-1]\n"
   ]
  },
  {
   "cell_type": "code",
   "execution_count": 14,
   "metadata": {},
   "outputs": [],
   "source": [
    "## Now split the data\n",
    "## Have 20% for testing\n",
    "## Set 40 as the random state\n",
    "## and stratify the split\n",
    "X_train_LR, X_test_LR, y_train_LR, y_test_LR=train_test_split(X_LR,y_LR,\n",
    "                                                  test_size=.2,\n",
    "                                                  random_state=40,\n",
    "                                                  shuffle=True,\n",
    "                                                  stratify=y_LR)"
   ]
  },
  {
   "cell_type": "code",
   "execution_count": 15,
   "metadata": {},
   "outputs": [],
   "source": [
    "#Use a pipeline with StandardScaler and LogisticRegression\n",
    "from sklearn.linear_model import LogisticRegression\n",
    "from sklearn.preprocessing import StandardScaler\n",
    "from sklearn.pipeline import Pipeline\n",
    "pipe_LR = Pipeline([('preprocess',StandardScaler()),\n",
    "                ('Lreg',LogisticRegression())])\n",
    "\n",
    "\n"
   ]
  },
  {
   "cell_type": "code",
   "execution_count": 16,
   "metadata": {},
   "outputs": [
    {
     "data": {
      "text/plain": [
       "Pipeline(steps=[('preprocess', StandardScaler()),\n",
       "                ('Lreg', LogisticRegression())])"
      ]
     },
     "execution_count": 16,
     "metadata": {},
     "output_type": "execute_result"
    }
   ],
   "source": [
    "## Fit the model here\n",
    "pipe_LR.fit(X_train_LR,y_train_LR)"
   ]
  },
  {
   "cell_type": "code",
   "execution_count": 17,
   "metadata": {},
   "outputs": [
    {
     "name": "stdout",
     "output_type": "stream",
     "text": [
      "[0 0 0 ... 0 0 0]\n",
      "0.7448680351906158\n",
      "0.8819444444444444\n",
      "0.6446700507614214\n",
      "0.99923632293884\n"
     ]
    }
   ],
   "source": [
    "## get the predictions X_train\n",
    "y_pred_train_LR=pipe_LR.predict(X_train_LR)\n",
    "print(y_pred_train_LR)\n",
    "# now we can get the evaluation score for training data\n",
    "from sklearn.metrics import accuracy_score\n",
    "from sklearn.metrics import precision_score\n",
    "from sklearn.metrics import recall_score\n",
    "from sklearn.metrics import f1_score\n",
    "\n",
    "precision_score_LR_train=precision_score(y_train_LR,y_pred_train_LR)\n",
    "recall_score_LR_train=recall_score(y_train_LR,y_pred_train_LR)\n",
    "f1_score_LR_train=f1_score(y_train_LR,y_pred_train_LR)\n",
    "accuracy_score_LR_train=accuracy_score(y_train_LR,y_pred_train_LR)\n",
    "\n",
    "\n",
    "print(f1_score_LR_train)\n",
    "print(precision_score_LR_train)\n",
    "print(recall_score_LR_train)\n",
    "print(accuracy_score_LR_train)\n",
    "\n",
    "\n",
    "\n"
   ]
  },
  {
   "cell_type": "code",
   "execution_count": 18,
   "metadata": {},
   "outputs": [
    {
     "name": "stdout",
     "output_type": "stream",
     "text": [
      "[[9.99720769e-01 2.79230799e-04]\n",
      " [9.99489230e-01 5.10770122e-04]\n",
      " [9.99956019e-01 4.39805563e-05]\n",
      " ...\n",
      " [9.99759254e-01 2.40745586e-04]\n",
      " [9.99910876e-01 8.91239720e-05]\n",
      " [9.98644453e-01 1.35554728e-03]]\n"
     ]
    }
   ],
   "source": [
    "#predict the probabilities\n",
    "y_pred_prob_LR=pipe_LR.predict_proba(X_train_LR)\n",
    "print(y_pred_prob_LR)\n",
    "\n"
   ]
  },
  {
   "cell_type": "code",
   "execution_count": 19,
   "metadata": {},
   "outputs": [
    {
     "data": {
      "text/plain": [
       "(array([0.        , 0.        , 0.        , ..., 0.99919543, 0.99920422,\n",
       "        1.        ]),\n",
       " array([0.        , 0.00253807, 0.00761421, ..., 1.        , 1.        ,\n",
       "        1.        ]),\n",
       " array([2.00000000e+00, 1.00000000e+00, 1.00000000e+00, ...,\n",
       "        1.68082593e-10, 1.61854618e-10, 5.40513592e-13]))"
      ]
     },
     "execution_count": 19,
     "metadata": {},
     "output_type": "execute_result"
    }
   ],
   "source": [
    "#now we can get the ROC\n",
    "from sklearn.metrics import roc_curve\n",
    "\n",
    "roc_curve(y_train_LR,y_pred_prob_LR[:,1])"
   ]
  },
  {
   "cell_type": "code",
   "execution_count": 20,
   "metadata": {},
   "outputs": [],
   "source": [
    "#we get the fpr,tpr,cutoffs\n",
    "fpr_LR,tpr_LR,cutoffs_LR = roc_curve(y_train_LR,y_pred_prob_LR[:,1])"
   ]
  },
  {
   "cell_type": "code",
   "execution_count": 21,
   "metadata": {},
   "outputs": [
    {
     "name": "stdout",
     "output_type": "stream",
     "text": [
      "0.98006714091842\n"
     ]
    }
   ],
   "source": [
    "#now we can get the AUC\n",
    "from sklearn.metrics import roc_auc_score\n",
    "auc_lR=roc_auc_score(y_train_LR,y_pred_prob_LR[:,1])\n",
    "print(auc_lR)"
   ]
  },
  {
   "cell_type": "code",
   "execution_count": 22,
   "metadata": {},
   "outputs": [
    {
     "data": {
      "image/png": "[encoded data removed]",
      "text/plain": [
       "<Figure size 864x576 with 1 Axes>"
      ]
     },
     "metadata": {},
     "output_type": "display_data"
    }
   ],
   "source": [
    "#plot ROC with AUC\n",
    "plt.figure(figsize=(12,8))\n",
    "\n",
    "plt.plot(fpr_LR,tpr_LR,label='AUC LR= '+str(np.around(auc_lR,4)))\n",
    "\n",
    "\n",
    "\n",
    "plt.xlabel(\"False Positive Rate\",fontsize=16)\n",
    "plt.ylabel(\"True Positive Rate\",fontsize=16)\n",
    "\n",
    "plt.title(\"ROC Curve\", fontsize=18)\n",
    "plt.xticks(fontsize=12)\n",
    "plt.yticks(fontsize=12)\n",
    "plt.legend(loc='best')\n",
    "plt.show()"
   ]
  },
  {
   "cell_type": "code",
   "execution_count": 23,
   "metadata": {},
   "outputs": [
    {
     "name": "stdout",
     "output_type": "stream",
     "text": [
      "[0 0 0 ... 0 0 0]\n",
      "[[9.99907058e-01 9.29416966e-05]\n",
      " [9.99976085e-01 2.39152281e-05]\n",
      " [9.99899860e-01 1.00139794e-04]\n",
      " ...\n",
      " [9.99937682e-01 6.23177502e-05]\n",
      " [9.99840614e-01 1.59386277e-04]\n",
      " [9.99718330e-01 2.81669581e-04]]\n"
     ]
    }
   ],
   "source": [
    "## get the predictions X_test\n",
    "y_pred_test_LR=pipe_LR.predict(X_test_LR)\n",
    "print(y_pred_test_LR)\n",
    "\n",
    "## get the predictions of the probabilities of X_test\n",
    "y_pred_prob_test_LR=pipe_LR.predict_proba(X_test_LR)\n",
    "print(y_pred_prob_test_LR)\n"
   ]
  },
  {
   "cell_type": "code",
   "execution_count": 24,
   "metadata": {},
   "outputs": [
    {
     "data": {
      "text/plain": [
       "<matplotlib.legend.Legend at 0x11fdd97f0>"
      ]
     },
     "execution_count": 24,
     "metadata": {},
     "output_type": "execute_result"
    },
    {
     "data": {
      "image/png": "[encoded data removed]",
      "text/plain": [
       "<Figure size 864x576 with 1 Axes>"
      ]
     },
     "metadata": {},
     "output_type": "display_data"
    }
   ],
   "source": [
    "from sklearn.metrics import precision_recall_curve, average_precision_score, auc\n",
    "# calculate precision-recall curve\n",
    "precision_LR, recall_LR, thresholds_LR = precision_recall_curve(y_test_LR, y_pred_prob_test_LR[:,1])\n",
    "\n",
    "\n",
    "\n",
    "\n",
    "PRauc_LR= auc(recall_LR, precision_LR)\n",
    "#plot precision-recall curve\n",
    "plt.figure(figsize=(12,8))\n",
    "plt.plot(recall_LR,precision_LR, label='AUC LR= '+str(np.around(PRauc_LR,4)))\n",
    "\n",
    "plt.xlabel('Recall', fontsize = 14)\n",
    "plt.ylabel('Precision', fontsize = 14)\n",
    "plt.title('Precision-Recall Curve', fontsize = 18)\n",
    "plt.legend(loc = 'best')\n",
    "#find default threshold\n",
    "#close_default = np.argmin(np.abs(thresholds_pr - 0.5))\n",
    "#ax1.plot(precision[close_default], recall[close_default], 'o', markersize = 8)\n",
    "        \n",
    "\n",
    "    \n",
    "    \n",
    "    "
   ]
  },
  {
   "cell_type": "code",
   "execution_count": 25,
   "metadata": {},
   "outputs": [
    {
     "name": "stdout",
     "output_type": "stream",
     "text": [
      "[[56856     8]\n",
      " [   47    51]]\n"
     ]
    }
   ],
   "source": [
    "# now we can get the confusion matrix\n",
    "from sklearn.metrics import confusion_matrix\n",
    "print(confusion_matrix(y_test_LR,y_pred_test_LR))"
   ]
  },
  {
   "cell_type": "code",
   "execution_count": 26,
   "metadata": {},
   "outputs": [
    {
     "name": "stdout",
     "output_type": "stream",
     "text": [
      "0.6496815286624203\n",
      "0.864406779661017\n",
      "0.5204081632653061\n",
      "0.9990344440153085\n"
     ]
    }
   ],
   "source": [
    "# now we can get the precision score, recall score and f1 score\n",
    "from sklearn.metrics import precision_score\n",
    "from sklearn.metrics import recall_score\n",
    "from sklearn.metrics import f1_score\n",
    "precision_score_LR=precision_score(y_test_LR,y_pred_test_LR)\n",
    "recall_score_LR=recall_score(y_test_LR,y_pred_test_LR)\n",
    "f1_score_LR=f1_score(y_test_LR,y_pred_test_LR)\n",
    "accuracy_score_LR=accuracy_score(y_test_LR,y_pred_test_LR)\n",
    "print(f1_score_LR)\n",
    "print(precision_score_LR)\n",
    "print(recall_score_LR)\n",
    "print(accuracy_score_LR)"
   ]
  },
  {
   "cell_type": "code",
   "execution_count": 27,
   "metadata": {},
   "outputs": [
    {
     "name": "stdout",
     "output_type": "stream",
     "text": [
      "              precision    recall  f1-score   support\n",
      "\n",
      "           0       1.00      1.00      1.00     56864\n",
      "           1       0.86      0.52      0.65        98\n",
      "\n",
      "    accuracy                           1.00     56962\n",
      "   macro avg       0.93      0.76      0.82     56962\n",
      "weighted avg       1.00      1.00      1.00     56962\n",
      "\n"
     ]
    }
   ],
   "source": [
    "# now we can get the classification_report to know the precision, the recall, the f1-score, the support\n",
    "from sklearn.metrics import classification_report\n",
    "print(classification_report(y_test_LR,y_pred_test_LR))"
   ]
  },
  {
   "cell_type": "markdown",
   "metadata": {},
   "source": [
    "# Artificial Neural Network "
   ]
  },
  {
   "cell_type": "code",
   "execution_count": 28,
   "metadata": {},
   "outputs": [],
   "source": [
    "import tensorflow as tf\n",
    "from tensorflow import keras\n",
    "from tensorflow.keras import layers\n",
    "\n",
    "# Keras. \n",
    "\n",
    "from keras import models\n",
    "from keras import layers\n",
    "from keras import optimizers\n",
    "from keras import losses\n",
    "from keras import metrics\n",
    "\n",
    "from keras.metrics import binary_crossentropy\n",
    "\n",
    "\n",
    "\n",
    "\n",
    "## Define categorical funcion. This prepares entries for tensor analysis. \n",
    "\n",
    "def to_categorical(y):\n",
    "    return tf.keras.utils.to_categorical(y)\n"
   ]
  },
  {
   "cell_type": "code",
   "execution_count": 29,
   "metadata": {},
   "outputs": [],
   "source": [
    "# Pickout the valid transactions.\n",
    "\n",
    "valid_transactions = df.loc[df['Class'] == 0.0]\n",
    "fraudulent_transactions = df.drop(valid_transactions.index)"
   ]
  },
  {
   "cell_type": "code",
   "execution_count": 30,
   "metadata": {},
   "outputs": [
    {
     "data": {
      "text/html": [
       "<div>\n",
       "<style scoped>\n",
       "    .dataframe tbody tr th:only-of-type {\n",
       "        vertical-align: middle;\n",
       "    }\n",
       "\n",
       "    .dataframe tbody tr th {\n",
       "        vertical-align: top;\n",
       "    }\n",
       "\n",
       "    .dataframe thead th {\n",
       "        text-align: right;\n",
       "    }\n",
       "</style>\n",
       "<table border=\"1\" class=\"dataframe\">\n",
       "  <thead>\n",
       "    <tr style=\"text-align: right;\">\n",
       "      <th></th>\n",
       "      <th>Time</th>\n",
       "      <th>V1</th>\n",
       "      <th>V2</th>\n",
       "      <th>V3</th>\n",
       "      <th>V4</th>\n",
       "      <th>V5</th>\n",
       "      <th>V6</th>\n",
       "      <th>V7</th>\n",
       "      <th>V8</th>\n",
       "      <th>V9</th>\n",
       "      <th>...</th>\n",
       "      <th>V21</th>\n",
       "      <th>V22</th>\n",
       "      <th>V23</th>\n",
       "      <th>V24</th>\n",
       "      <th>V25</th>\n",
       "      <th>V26</th>\n",
       "      <th>V27</th>\n",
       "      <th>V28</th>\n",
       "      <th>Amount</th>\n",
       "      <th>Class</th>\n",
       "    </tr>\n",
       "  </thead>\n",
       "  <tbody>\n",
       "    <tr>\n",
       "      <th>42756</th>\n",
       "      <td>41233.0</td>\n",
       "      <td>-10.645800</td>\n",
       "      <td>5.918307</td>\n",
       "      <td>-11.671043</td>\n",
       "      <td>8.807369</td>\n",
       "      <td>-7.975501</td>\n",
       "      <td>-3.586806</td>\n",
       "      <td>-13.616797</td>\n",
       "      <td>6.428169</td>\n",
       "      <td>-7.368451</td>\n",
       "      <td>...</td>\n",
       "      <td>2.571970</td>\n",
       "      <td>0.206809</td>\n",
       "      <td>-1.667801</td>\n",
       "      <td>0.558419</td>\n",
       "      <td>-0.027898</td>\n",
       "      <td>0.354254</td>\n",
       "      <td>0.273329</td>\n",
       "      <td>-0.152908</td>\n",
       "      <td>0.0</td>\n",
       "      <td>1</td>\n",
       "    </tr>\n",
       "    <tr>\n",
       "      <th>62447</th>\n",
       "      <td>50270.0</td>\n",
       "      <td>-0.339625</td>\n",
       "      <td>0.047048</td>\n",
       "      <td>1.193453</td>\n",
       "      <td>-0.928298</td>\n",
       "      <td>-0.193184</td>\n",
       "      <td>-0.856665</td>\n",
       "      <td>0.419829</td>\n",
       "      <td>-0.216255</td>\n",
       "      <td>-1.756347</td>\n",
       "      <td>...</td>\n",
       "      <td>-0.137404</td>\n",
       "      <td>-0.705189</td>\n",
       "      <td>0.242124</td>\n",
       "      <td>-0.003485</td>\n",
       "      <td>-0.454308</td>\n",
       "      <td>-0.596133</td>\n",
       "      <td>0.100179</td>\n",
       "      <td>0.147059</td>\n",
       "      <td>69.9</td>\n",
       "      <td>0</td>\n",
       "    </tr>\n",
       "    <tr>\n",
       "      <th>111690</th>\n",
       "      <td>72327.0</td>\n",
       "      <td>-4.198735</td>\n",
       "      <td>0.194121</td>\n",
       "      <td>-3.917586</td>\n",
       "      <td>3.920748</td>\n",
       "      <td>-1.875486</td>\n",
       "      <td>-2.118933</td>\n",
       "      <td>-3.614445</td>\n",
       "      <td>1.687884</td>\n",
       "      <td>-2.189871</td>\n",
       "      <td>...</td>\n",
       "      <td>0.801312</td>\n",
       "      <td>-0.183001</td>\n",
       "      <td>-0.440387</td>\n",
       "      <td>0.292539</td>\n",
       "      <td>-0.144967</td>\n",
       "      <td>-0.251744</td>\n",
       "      <td>1.249414</td>\n",
       "      <td>-0.131525</td>\n",
       "      <td>238.9</td>\n",
       "      <td>1</td>\n",
       "    </tr>\n",
       "    <tr>\n",
       "      <th>196692</th>\n",
       "      <td>131645.0</td>\n",
       "      <td>-0.764756</td>\n",
       "      <td>0.520918</td>\n",
       "      <td>0.031596</td>\n",
       "      <td>-0.739209</td>\n",
       "      <td>1.194967</td>\n",
       "      <td>-0.619741</td>\n",
       "      <td>1.226372</td>\n",
       "      <td>-0.139733</td>\n",
       "      <td>-0.424670</td>\n",
       "      <td>...</td>\n",
       "      <td>0.406538</td>\n",
       "      <td>1.139965</td>\n",
       "      <td>-0.480781</td>\n",
       "      <td>0.812108</td>\n",
       "      <td>0.605929</td>\n",
       "      <td>-0.010824</td>\n",
       "      <td>-0.063741</td>\n",
       "      <td>0.149366</td>\n",
       "      <td>50.0</td>\n",
       "      <td>0</td>\n",
       "    </tr>\n",
       "    <tr>\n",
       "      <th>206394</th>\n",
       "      <td>136193.0</td>\n",
       "      <td>-2.600733</td>\n",
       "      <td>-0.258612</td>\n",
       "      <td>1.172759</td>\n",
       "      <td>0.070336</td>\n",
       "      <td>0.182878</td>\n",
       "      <td>-1.321984</td>\n",
       "      <td>-1.035016</td>\n",
       "      <td>0.896160</td>\n",
       "      <td>-0.008599</td>\n",
       "      <td>...</td>\n",
       "      <td>-0.073391</td>\n",
       "      <td>-0.630401</td>\n",
       "      <td>-0.702326</td>\n",
       "      <td>0.049960</td>\n",
       "      <td>0.149668</td>\n",
       "      <td>-0.425165</td>\n",
       "      <td>-0.026249</td>\n",
       "      <td>-0.483358</td>\n",
       "      <td>1.0</td>\n",
       "      <td>0</td>\n",
       "    </tr>\n",
       "  </tbody>\n",
       "</table>\n",
       "<p>5 rows × 31 columns</p>\n",
       "</div>"
      ],
      "text/plain": [
       "            Time         V1        V2         V3        V4        V5  \\\n",
       "42756    41233.0 -10.645800  5.918307 -11.671043  8.807369 -7.975501   \n",
       "62447    50270.0  -0.339625  0.047048   1.193453 -0.928298 -0.193184   \n",
       "111690   72327.0  -4.198735  0.194121  -3.917586  3.920748 -1.875486   \n",
       "196692  131645.0  -0.764756  0.520918   0.031596 -0.739209  1.194967   \n",
       "206394  136193.0  -2.600733 -0.258612   1.172759  0.070336  0.182878   \n",
       "\n",
       "              V6         V7        V8        V9  ...       V21       V22  \\\n",
       "42756  -3.586806 -13.616797  6.428169 -7.368451  ...  2.571970  0.206809   \n",
       "62447  -0.856665   0.419829 -0.216255 -1.756347  ... -0.137404 -0.705189   \n",
       "111690 -2.118933  -3.614445  1.687884 -2.189871  ...  0.801312 -0.183001   \n",
       "196692 -0.619741   1.226372 -0.139733 -0.424670  ...  0.406538  1.139965   \n",
       "206394 -1.321984  -1.035016  0.896160 -0.008599  ... -0.073391 -0.630401   \n",
       "\n",
       "             V23       V24       V25       V26       V27       V28  Amount  \\\n",
       "42756  -1.667801  0.558419 -0.027898  0.354254  0.273329 -0.152908     0.0   \n",
       "62447   0.242124 -0.003485 -0.454308 -0.596133  0.100179  0.147059    69.9   \n",
       "111690 -0.440387  0.292539 -0.144967 -0.251744  1.249414 -0.131525   238.9   \n",
       "196692 -0.480781  0.812108  0.605929 -0.010824 -0.063741  0.149366    50.0   \n",
       "206394 -0.702326  0.049960  0.149668 -0.425165 -0.026249 -0.483358     1.0   \n",
       "\n",
       "        Class  \n",
       "42756       1  \n",
       "62447       0  \n",
       "111690      1  \n",
       "196692      0  \n",
       "206394      0  \n",
       "\n",
       "[5 rows x 31 columns]"
      ]
     },
     "execution_count": 30,
     "metadata": {},
     "output_type": "execute_result"
    }
   ],
   "source": [
    "# Create a more balanced data set. This training set will have a 50 / 50 split of valid and fraudulent transactions.\n",
    "# I'll randomly sample 492 valid transactions and then add on the remaining 492 invalid transactions for a total of \n",
    "# 984. \n",
    "\n",
    "valid_sample = valid_transactions.sample(492)\n",
    "\n",
    "# Shuffle the data \n",
    "\n",
    "sample_data_df = pd.concat([valid_sample, fraudulent_transactions]).sample(frac = 1, random_state = 42)\n",
    "\n",
    "sample_data_df.head()"
   ]
  },
  {
   "cell_type": "code",
   "execution_count": 31,
   "metadata": {},
   "outputs": [],
   "source": [
    "# Scale the data. Must run the previous block before this one to avoid error.\n",
    "\n",
    "from sklearn.preprocessing import StandardScaler, RobustScaler\n",
    "\n",
    "std_scaler = StandardScaler()\n",
    "rob_scaler = RobustScaler()\n",
    "\n",
    "sample_data_df['scaled_amount'] = rob_scaler.fit_transform(sample_data_df['Amount'].values.reshape(-1,1))\n",
    "sample_data_df['scaled_time'] = rob_scaler.fit_transform(sample_data_df['Time'].values.reshape(-1,1))\n",
    "\n",
    "sample_data_df.drop(['Time','Amount'], axis=1, inplace=True)"
   ]
  },
  {
   "cell_type": "code",
   "execution_count": 32,
   "metadata": {},
   "outputs": [
    {
     "data": {
      "text/html": [
       "<div>\n",
       "<style scoped>\n",
       "    .dataframe tbody tr th:only-of-type {\n",
       "        vertical-align: middle;\n",
       "    }\n",
       "\n",
       "    .dataframe tbody tr th {\n",
       "        vertical-align: top;\n",
       "    }\n",
       "\n",
       "    .dataframe thead th {\n",
       "        text-align: right;\n",
       "    }\n",
       "</style>\n",
       "<table border=\"1\" class=\"dataframe\">\n",
       "  <thead>\n",
       "    <tr style=\"text-align: right;\">\n",
       "      <th></th>\n",
       "      <th>scaled_amount</th>\n",
       "      <th>scaled_time</th>\n",
       "      <th>V1</th>\n",
       "      <th>V2</th>\n",
       "      <th>V3</th>\n",
       "      <th>V4</th>\n",
       "      <th>V5</th>\n",
       "      <th>V6</th>\n",
       "      <th>V7</th>\n",
       "      <th>V8</th>\n",
       "      <th>...</th>\n",
       "      <th>V20</th>\n",
       "      <th>V21</th>\n",
       "      <th>V22</th>\n",
       "      <th>V23</th>\n",
       "      <th>V24</th>\n",
       "      <th>V25</th>\n",
       "      <th>V26</th>\n",
       "      <th>V27</th>\n",
       "      <th>V28</th>\n",
       "      <th>Class</th>\n",
       "    </tr>\n",
       "  </thead>\n",
       "  <tbody>\n",
       "    <tr>\n",
       "      <th>42756</th>\n",
       "      <td>-0.199028</td>\n",
       "      <td>-0.421232</td>\n",
       "      <td>-10.645800</td>\n",
       "      <td>5.918307</td>\n",
       "      <td>-11.671043</td>\n",
       "      <td>8.807369</td>\n",
       "      <td>-7.975501</td>\n",
       "      <td>-3.586806</td>\n",
       "      <td>-13.616797</td>\n",
       "      <td>6.428169</td>\n",
       "      <td>...</td>\n",
       "      <td>-0.046170</td>\n",
       "      <td>2.571970</td>\n",
       "      <td>0.206809</td>\n",
       "      <td>-1.667801</td>\n",
       "      <td>0.558419</td>\n",
       "      <td>-0.027898</td>\n",
       "      <td>0.354254</td>\n",
       "      <td>0.273329</td>\n",
       "      <td>-0.152908</td>\n",
       "      <td>1</td>\n",
       "    </tr>\n",
       "    <tr>\n",
       "      <th>62447</th>\n",
       "      <td>0.512767</td>\n",
       "      <td>-0.317436</td>\n",
       "      <td>-0.339625</td>\n",
       "      <td>0.047048</td>\n",
       "      <td>1.193453</td>\n",
       "      <td>-0.928298</td>\n",
       "      <td>-0.193184</td>\n",
       "      <td>-0.856665</td>\n",
       "      <td>0.419829</td>\n",
       "      <td>-0.216255</td>\n",
       "      <td>...</td>\n",
       "      <td>0.449997</td>\n",
       "      <td>-0.137404</td>\n",
       "      <td>-0.705189</td>\n",
       "      <td>0.242124</td>\n",
       "      <td>-0.003485</td>\n",
       "      <td>-0.454308</td>\n",
       "      <td>-0.596133</td>\n",
       "      <td>0.100179</td>\n",
       "      <td>0.147059</td>\n",
       "      <td>0</td>\n",
       "    </tr>\n",
       "    <tr>\n",
       "      <th>111690</th>\n",
       "      <td>2.233701</td>\n",
       "      <td>-0.064096</td>\n",
       "      <td>-4.198735</td>\n",
       "      <td>0.194121</td>\n",
       "      <td>-3.917586</td>\n",
       "      <td>3.920748</td>\n",
       "      <td>-1.875486</td>\n",
       "      <td>-2.118933</td>\n",
       "      <td>-3.614445</td>\n",
       "      <td>1.687884</td>\n",
       "      <td>...</td>\n",
       "      <td>1.003350</td>\n",
       "      <td>0.801312</td>\n",
       "      <td>-0.183001</td>\n",
       "      <td>-0.440387</td>\n",
       "      <td>0.292539</td>\n",
       "      <td>-0.144967</td>\n",
       "      <td>-0.251744</td>\n",
       "      <td>1.249414</td>\n",
       "      <td>-0.131525</td>\n",
       "      <td>1</td>\n",
       "    </tr>\n",
       "    <tr>\n",
       "      <th>196692</th>\n",
       "      <td>0.310124</td>\n",
       "      <td>0.617213</td>\n",
       "      <td>-0.764756</td>\n",
       "      <td>0.520918</td>\n",
       "      <td>0.031596</td>\n",
       "      <td>-0.739209</td>\n",
       "      <td>1.194967</td>\n",
       "      <td>-0.619741</td>\n",
       "      <td>1.226372</td>\n",
       "      <td>-0.139733</td>\n",
       "      <td>...</td>\n",
       "      <td>-0.162045</td>\n",
       "      <td>0.406538</td>\n",
       "      <td>1.139965</td>\n",
       "      <td>-0.480781</td>\n",
       "      <td>0.812108</td>\n",
       "      <td>0.605929</td>\n",
       "      <td>-0.010824</td>\n",
       "      <td>-0.063741</td>\n",
       "      <td>0.149366</td>\n",
       "      <td>0</td>\n",
       "    </tr>\n",
       "    <tr>\n",
       "      <th>206394</th>\n",
       "      <td>-0.188844</td>\n",
       "      <td>0.669450</td>\n",
       "      <td>-2.600733</td>\n",
       "      <td>-0.258612</td>\n",
       "      <td>1.172759</td>\n",
       "      <td>0.070336</td>\n",
       "      <td>0.182878</td>\n",
       "      <td>-1.321984</td>\n",
       "      <td>-1.035016</td>\n",
       "      <td>0.896160</td>\n",
       "      <td>...</td>\n",
       "      <td>-0.373373</td>\n",
       "      <td>-0.073391</td>\n",
       "      <td>-0.630401</td>\n",
       "      <td>-0.702326</td>\n",
       "      <td>0.049960</td>\n",
       "      <td>0.149668</td>\n",
       "      <td>-0.425165</td>\n",
       "      <td>-0.026249</td>\n",
       "      <td>-0.483358</td>\n",
       "      <td>0</td>\n",
       "    </tr>\n",
       "  </tbody>\n",
       "</table>\n",
       "<p>5 rows × 31 columns</p>\n",
       "</div>"
      ],
      "text/plain": [
       "        scaled_amount  scaled_time         V1        V2         V3        V4  \\\n",
       "42756       -0.199028    -0.421232 -10.645800  5.918307 -11.671043  8.807369   \n",
       "62447        0.512767    -0.317436  -0.339625  0.047048   1.193453 -0.928298   \n",
       "111690       2.233701    -0.064096  -4.198735  0.194121  -3.917586  3.920748   \n",
       "196692       0.310124     0.617213  -0.764756  0.520918   0.031596 -0.739209   \n",
       "206394      -0.188844     0.669450  -2.600733 -0.258612   1.172759  0.070336   \n",
       "\n",
       "              V5        V6         V7        V8  ...       V20       V21  \\\n",
       "42756  -7.975501 -3.586806 -13.616797  6.428169  ... -0.046170  2.571970   \n",
       "62447  -0.193184 -0.856665   0.419829 -0.216255  ...  0.449997 -0.137404   \n",
       "111690 -1.875486 -2.118933  -3.614445  1.687884  ...  1.003350  0.801312   \n",
       "196692  1.194967 -0.619741   1.226372 -0.139733  ... -0.162045  0.406538   \n",
       "206394  0.182878 -1.321984  -1.035016  0.896160  ... -0.373373 -0.073391   \n",
       "\n",
       "             V22       V23       V24       V25       V26       V27       V28  \\\n",
       "42756   0.206809 -1.667801  0.558419 -0.027898  0.354254  0.273329 -0.152908   \n",
       "62447  -0.705189  0.242124 -0.003485 -0.454308 -0.596133  0.100179  0.147059   \n",
       "111690 -0.183001 -0.440387  0.292539 -0.144967 -0.251744  1.249414 -0.131525   \n",
       "196692  1.139965 -0.480781  0.812108  0.605929 -0.010824 -0.063741  0.149366   \n",
       "206394 -0.630401 -0.702326  0.049960  0.149668 -0.425165 -0.026249 -0.483358   \n",
       "\n",
       "        Class  \n",
       "42756       1  \n",
       "62447       0  \n",
       "111690      1  \n",
       "196692      0  \n",
       "206394      0  \n",
       "\n",
       "[5 rows x 31 columns]"
      ]
     },
     "execution_count": 32,
     "metadata": {},
     "output_type": "execute_result"
    }
   ],
   "source": [
    "#  Add them back in \n",
    "\n",
    "scaled_amount = sample_data_df['scaled_amount']\n",
    "scaled_time = sample_data_df['scaled_time']\n",
    "\n",
    "sample_data_df.drop(['scaled_amount', 'scaled_time'], axis=1, inplace=True)\n",
    "sample_data_df.insert(0, 'scaled_amount', scaled_amount)\n",
    "sample_data_df.insert(1, 'scaled_time', scaled_time)\n",
    "\n",
    "# Now the amount and time are scaled.\n",
    "\n",
    "sample_data_df.head()"
   ]
  },
  {
   "cell_type": "code",
   "execution_count": 33,
   "metadata": {},
   "outputs": [],
   "source": [
    "# Set aside training/test data. \n",
    "\n",
    "sample_data_train = sample_data_df.sample(frac = .80, random_state = 440)\n",
    "sample_data_test = sample_data_df.drop(sample_data_train.index)"
   ]
  },
  {
   "cell_type": "code",
   "execution_count": 34,
   "metadata": {},
   "outputs": [],
   "source": [
    "\n",
    "# The training data: here I'm defining X_train to be a numpy array \n",
    "# consisting of the entries in sample_data_train minus the 'Class' column.\n",
    "# y_train is of course the 'Class' column.\n",
    "\n",
    "X_train = np.array(sample_data_train.iloc[:, :-1])\n",
    "y_train = np.array(sample_data_train.iloc[:, -1])\n",
    "\n",
    "X_train = X_train.reshape(-1, 30)\n",
    "y_train = y_train.reshape(-1, 1)\n",
    "\n",
    "# And the test data:\n",
    "\n",
    "X_test = np.array(sample_data_test.iloc[:, :-1])\n",
    "y_test = np.array(sample_data_test.iloc[:, -1])\n",
    "\n",
    "X_test = X_test.reshape(-1, 30)\n",
    "y_test = y_test.reshape(-1, 1)\n"
   ]
  },
  {
   "cell_type": "code",
   "execution_count": 35,
   "metadata": {},
   "outputs": [
    {
     "name": "stdout",
     "output_type": "stream",
     "text": [
      "(629, 30) <class 'numpy.ndarray'>\n",
      "(629, 1) <class 'numpy.ndarray'>\n",
      "(158, 30) <class 'numpy.ndarray'>\n",
      "(158, 1) <class 'numpy.ndarray'>\n",
      "\n",
      "\n",
      "\n",
      "(629, 2) <class 'numpy.ndarray'>\n",
      "(158, 2) <class 'numpy.ndarray'>\n"
     ]
    }
   ],
   "source": [
    "# Further split the training data into train_train/validation. \n",
    "\n",
    "from sklearn.model_selection import train_test_split\n",
    "\n",
    "X_train_train,X_val,y_train_train,y_val = train_test_split(X_train, y_train,\n",
    "                                                          test_size=.2,\n",
    "                                                          shuffle=True,\n",
    "                                                          stratify=y_train,\n",
    "                                                          random_state=440)\n",
    "\n",
    "# Check out the shape of the data. \n",
    "\n",
    "print(np.shape(X_train_train), type(X_train_train))\n",
    "print(np.shape(y_train_train), type(y_train_train))\n",
    "print(np.shape(X_val), type(X_val))\n",
    "print(np.shape(y_val), type(y_val))\n",
    "print('\\n\\n')\n",
    "print(np.shape(to_categorical(y_train_train)), type(to_categorical(y_train_train)))\n",
    "print(np.shape(to_categorical(y_val)), type(to_categorical(y_val)))"
   ]
  },
  {
   "cell_type": "code",
   "execution_count": 36,
   "metadata": {},
   "outputs": [],
   "source": [
    "## Empty model\n",
    "model = models.Sequential()"
   ]
  },
  {
   "cell_type": "code",
   "execution_count": 37,
   "metadata": {},
   "outputs": [],
   "source": [
    "## Make the layers. ONLY RUN THIS ONCE. Make sure the input_shape matches the number of features.\n",
    "\n",
    "model.add(layers.Dense(30, activation='relu', input_shape=(30,)))\n",
    "\n",
    "model.add(layers.Dense(32, activation='relu'))\n",
    "\n",
    "model.add(layers.Dense(2, activation='softmax'))"
   ]
  },
  {
   "cell_type": "code",
   "execution_count": 38,
   "metadata": {},
   "outputs": [
    {
     "name": "stdout",
     "output_type": "stream",
     "text": [
      "Model: \"sequential\"\n",
      "_________________________________________________________________\n",
      "Layer (type)                 Output Shape              Param #   \n",
      "=================================================================\n",
      "dense (Dense)                (None, 30)                930       \n",
      "_________________________________________________________________\n",
      "dense_1 (Dense)              (None, 32)                992       \n",
      "_________________________________________________________________\n",
      "dense_2 (Dense)              (None, 2)                 66        \n",
      "=================================================================\n",
      "Total params: 1,988\n",
      "Trainable params: 1,988\n",
      "Non-trainable params: 0\n",
      "_________________________________________________________________\n"
     ]
    }
   ],
   "source": [
    "# Gives a model summary\n",
    "\n",
    "model.summary()"
   ]
  },
  {
   "cell_type": "code",
   "execution_count": 39,
   "metadata": {},
   "outputs": [],
   "source": [
    "# Here we compile the model. We use binary cross-entropy. \n",
    "\n",
    "model.compile(optimizer='Adam',\n",
    "                  loss='sparse_categorical_crossentropy',\n",
    "                  metrics=['accuracy'])"
   ]
  },
  {
   "cell_type": "code",
   "execution_count": 40,
   "metadata": {},
   "outputs": [
    {
     "name": "stdout",
     "output_type": "stream",
     "text": [
      "Epoch 1/100\n",
      "26/26 [==============================] - 18s 18ms/step - loss: 0.5296 - accuracy: 0.7860 - val_loss: 0.3047 - val_accuracy: 0.9304\n",
      "Epoch 2/100\n",
      "26/26 [==============================] - 0s 2ms/step - loss: 0.3349 - accuracy: 0.9076 - val_loss: 0.2358 - val_accuracy: 0.9620\n",
      "Epoch 3/100\n",
      "26/26 [==============================] - 0s 6ms/step - loss: 0.2441 - accuracy: 0.9412 - val_loss: 0.1955 - val_accuracy: 0.9557\n",
      "Epoch 4/100\n",
      "26/26 [==============================] - 0s 2ms/step - loss: 0.1885 - accuracy: 0.9532 - val_loss: 0.1675 - val_accuracy: 0.9557\n",
      "Epoch 5/100\n",
      "26/26 [==============================] - 0s 2ms/step - loss: 0.1711 - accuracy: 0.9408 - val_loss: 0.1530 - val_accuracy: 0.9620\n",
      "Epoch 6/100\n",
      "26/26 [==============================] - 0s 2ms/step - loss: 0.1467 - accuracy: 0.9491 - val_loss: 0.1442 - val_accuracy: 0.9620\n",
      "Epoch 7/100\n",
      "26/26 [==============================] - 0s 2ms/step - loss: 0.1350 - accuracy: 0.9518 - val_loss: 0.1382 - val_accuracy: 0.9620\n",
      "Epoch 8/100\n",
      "26/26 [==============================] - 0s 2ms/step - loss: 0.1114 - accuracy: 0.9562 - val_loss: 0.1379 - val_accuracy: 0.9620\n",
      "Epoch 9/100\n",
      "26/26 [==============================] - 0s 2ms/step - loss: 0.1092 - accuracy: 0.9525 - val_loss: 0.1372 - val_accuracy: 0.9620\n",
      "Epoch 10/100\n",
      "26/26 [==============================] - 0s 2ms/step - loss: 0.1273 - accuracy: 0.9457 - val_loss: 0.1466 - val_accuracy: 0.9620\n",
      "Epoch 11/100\n",
      "26/26 [==============================] - 0s 2ms/step - loss: 0.0980 - accuracy: 0.9534 - val_loss: 0.1411 - val_accuracy: 0.9557\n",
      "Epoch 12/100\n",
      "26/26 [==============================] - 0s 2ms/step - loss: 0.1063 - accuracy: 0.9477 - val_loss: 0.1411 - val_accuracy: 0.9557\n",
      "Epoch 13/100\n",
      "26/26 [==============================] - 0s 2ms/step - loss: 0.0938 - accuracy: 0.9657 - val_loss: 0.1418 - val_accuracy: 0.9557\n",
      "Epoch 14/100\n",
      "26/26 [==============================] - 0s 2ms/step - loss: 0.0936 - accuracy: 0.9574 - val_loss: 0.1451 - val_accuracy: 0.9494\n",
      "Epoch 15/100\n",
      "26/26 [==============================] - 0s 2ms/step - loss: 0.0940 - accuracy: 0.9619 - val_loss: 0.1506 - val_accuracy: 0.9430\n",
      "Epoch 16/100\n",
      "26/26 [==============================] - 0s 2ms/step - loss: 0.0731 - accuracy: 0.9675 - val_loss: 0.1512 - val_accuracy: 0.9494\n",
      "Epoch 17/100\n",
      "26/26 [==============================] - 0s 2ms/step - loss: 0.0948 - accuracy: 0.9633 - val_loss: 0.1624 - val_accuracy: 0.9430\n",
      "Epoch 18/100\n",
      "26/26 [==============================] - 0s 2ms/step - loss: 0.0970 - accuracy: 0.9619 - val_loss: 0.1583 - val_accuracy: 0.9494\n",
      "Epoch 19/100\n",
      "26/26 [==============================] - 0s 2ms/step - loss: 0.0702 - accuracy: 0.9713 - val_loss: 0.1611 - val_accuracy: 0.9430\n",
      "Epoch 20/100\n",
      "26/26 [==============================] - 0s 2ms/step - loss: 0.0623 - accuracy: 0.9764 - val_loss: 0.1662 - val_accuracy: 0.9430\n",
      "Epoch 21/100\n",
      "26/26 [==============================] - 0s 2ms/step - loss: 0.0806 - accuracy: 0.9662 - val_loss: 0.1690 - val_accuracy: 0.9494\n",
      "Epoch 22/100\n",
      "26/26 [==============================] - 0s 2ms/step - loss: 0.0633 - accuracy: 0.9810 - val_loss: 0.1714 - val_accuracy: 0.9430\n",
      "Epoch 23/100\n",
      "26/26 [==============================] - 0s 2ms/step - loss: 0.0772 - accuracy: 0.9695 - val_loss: 0.1761 - val_accuracy: 0.9494\n",
      "Epoch 24/100\n",
      "26/26 [==============================] - 0s 2ms/step - loss: 0.0487 - accuracy: 0.9870 - val_loss: 0.1856 - val_accuracy: 0.9494\n",
      "Epoch 25/100\n",
      "26/26 [==============================] - 0s 2ms/step - loss: 0.0583 - accuracy: 0.9804 - val_loss: 0.1863 - val_accuracy: 0.9494\n",
      "Epoch 26/100\n",
      "26/26 [==============================] - 0s 2ms/step - loss: 0.0525 - accuracy: 0.9746 - val_loss: 0.1882 - val_accuracy: 0.9494\n",
      "Epoch 27/100\n",
      "26/26 [==============================] - 0s 2ms/step - loss: 0.0545 - accuracy: 0.9838 - val_loss: 0.1895 - val_accuracy: 0.9494\n",
      "Epoch 28/100\n",
      "26/26 [==============================] - 0s 2ms/step - loss: 0.0419 - accuracy: 0.9902 - val_loss: 0.1889 - val_accuracy: 0.9494\n",
      "Epoch 29/100\n",
      "26/26 [==============================] - 0s 2ms/step - loss: 0.0499 - accuracy: 0.9819 - val_loss: 0.1980 - val_accuracy: 0.9494\n",
      "Epoch 30/100\n",
      "26/26 [==============================] - 0s 2ms/step - loss: 0.0444 - accuracy: 0.9864 - val_loss: 0.1970 - val_accuracy: 0.9494\n",
      "Epoch 31/100\n",
      "26/26 [==============================] - 0s 2ms/step - loss: 0.0491 - accuracy: 0.9830 - val_loss: 0.2076 - val_accuracy: 0.9494\n",
      "Epoch 32/100\n",
      "26/26 [==============================] - 0s 4ms/step - loss: 0.0420 - accuracy: 0.9916 - val_loss: 0.2111 - val_accuracy: 0.9494\n",
      "Epoch 33/100\n",
      "26/26 [==============================] - 0s 4ms/step - loss: 0.0371 - accuracy: 0.9930 - val_loss: 0.2169 - val_accuracy: 0.9494\n",
      "Epoch 34/100\n",
      "26/26 [==============================] - 0s 2ms/step - loss: 0.0420 - accuracy: 0.9865 - val_loss: 0.2219 - val_accuracy: 0.9557\n",
      "Epoch 35/100\n",
      "26/26 [==============================] - 0s 2ms/step - loss: 0.0428 - accuracy: 0.9917 - val_loss: 0.2251 - val_accuracy: 0.9494\n",
      "Epoch 36/100\n",
      "26/26 [==============================] - 0s 2ms/step - loss: 0.0353 - accuracy: 0.9915 - val_loss: 0.2284 - val_accuracy: 0.9494\n",
      "Epoch 37/100\n",
      "26/26 [==============================] - 0s 2ms/step - loss: 0.0333 - accuracy: 0.9915 - val_loss: 0.2402 - val_accuracy: 0.9494\n",
      "Epoch 38/100\n",
      "26/26 [==============================] - 0s 2ms/step - loss: 0.0342 - accuracy: 0.9900 - val_loss: 0.2411 - val_accuracy: 0.9494\n",
      "Epoch 39/100\n",
      "26/26 [==============================] - 0s 2ms/step - loss: 0.0350 - accuracy: 0.9920 - val_loss: 0.2498 - val_accuracy: 0.9494\n",
      "Epoch 40/100\n",
      "26/26 [==============================] - 0s 2ms/step - loss: 0.0344 - accuracy: 0.9929 - val_loss: 0.2521 - val_accuracy: 0.9494\n",
      "Epoch 41/100\n",
      "26/26 [==============================] - 0s 2ms/step - loss: 0.0273 - accuracy: 0.9959 - val_loss: 0.2541 - val_accuracy: 0.9494\n",
      "Epoch 42/100\n",
      "26/26 [==============================] - 0s 2ms/step - loss: 0.0255 - accuracy: 0.9937 - val_loss: 0.2638 - val_accuracy: 0.9494\n",
      "Epoch 43/100\n",
      "26/26 [==============================] - 0s 2ms/step - loss: 0.0300 - accuracy: 0.9897 - val_loss: 0.2721 - val_accuracy: 0.9494\n",
      "Epoch 44/100\n",
      "26/26 [==============================] - 0s 2ms/step - loss: 0.0215 - accuracy: 0.9979 - val_loss: 0.2758 - val_accuracy: 0.9494\n",
      "Epoch 45/100\n",
      "26/26 [==============================] - 0s 2ms/step - loss: 0.0180 - accuracy: 0.9975 - val_loss: 0.2854 - val_accuracy: 0.9494\n",
      "Epoch 46/100\n",
      "26/26 [==============================] - 0s 2ms/step - loss: 0.0296 - accuracy: 0.9900 - val_loss: 0.2923 - val_accuracy: 0.9494\n",
      "Epoch 47/100\n",
      "26/26 [==============================] - 0s 2ms/step - loss: 0.0200 - accuracy: 0.9962 - val_loss: 0.2980 - val_accuracy: 0.9494\n",
      "Epoch 48/100\n",
      "26/26 [==============================] - 0s 2ms/step - loss: 0.0155 - accuracy: 0.9968 - val_loss: 0.3022 - val_accuracy: 0.9494\n",
      "Epoch 49/100\n",
      "26/26 [==============================] - 0s 2ms/step - loss: 0.0154 - accuracy: 0.9984 - val_loss: 0.3150 - val_accuracy: 0.9494\n",
      "Epoch 50/100\n",
      "26/26 [==============================] - 0s 2ms/step - loss: 0.0177 - accuracy: 0.9984 - val_loss: 0.3225 - val_accuracy: 0.9494\n",
      "Epoch 51/100\n",
      "26/26 [==============================] - 0s 2ms/step - loss: 0.0164 - accuracy: 0.9992 - val_loss: 0.3270 - val_accuracy: 0.9494\n",
      "Epoch 52/100\n",
      "26/26 [==============================] - 0s 2ms/step - loss: 0.0164 - accuracy: 0.9957 - val_loss: 0.3332 - val_accuracy: 0.9494\n",
      "Epoch 53/100\n",
      "26/26 [==============================] - 0s 2ms/step - loss: 0.0145 - accuracy: 0.9991 - val_loss: 0.3411 - val_accuracy: 0.9430\n",
      "Epoch 54/100\n",
      "26/26 [==============================] - 0s 2ms/step - loss: 0.0140 - accuracy: 0.9942 - val_loss: 0.3433 - val_accuracy: 0.9430\n",
      "Epoch 55/100\n",
      "26/26 [==============================] - 0s 2ms/step - loss: 0.0115 - accuracy: 0.9994 - val_loss: 0.3513 - val_accuracy: 0.9430\n",
      "Epoch 56/100\n",
      "26/26 [==============================] - 0s 2ms/step - loss: 0.0107 - accuracy: 1.0000 - val_loss: 0.3539 - val_accuracy: 0.9430\n",
      "Epoch 57/100\n",
      "26/26 [==============================] - 0s 2ms/step - loss: 0.0111 - accuracy: 1.0000 - val_loss: 0.3631 - val_accuracy: 0.9430\n",
      "Epoch 58/100\n",
      "26/26 [==============================] - 0s 2ms/step - loss: 0.0092 - accuracy: 1.0000 - val_loss: 0.3678 - val_accuracy: 0.9430\n"
     ]
    },
    {
     "name": "stdout",
     "output_type": "stream",
     "text": [
      "Epoch 59/100\n",
      "26/26 [==============================] - 0s 2ms/step - loss: 0.0068 - accuracy: 1.0000 - val_loss: 0.3710 - val_accuracy: 0.9430\n",
      "Epoch 60/100\n",
      "26/26 [==============================] - 0s 2ms/step - loss: 0.0094 - accuracy: 1.0000 - val_loss: 0.3822 - val_accuracy: 0.9430\n",
      "Epoch 61/100\n",
      "26/26 [==============================] - 0s 2ms/step - loss: 0.0090 - accuracy: 1.0000 - val_loss: 0.3819 - val_accuracy: 0.9430\n",
      "Epoch 62/100\n",
      "26/26 [==============================] - 0s 3ms/step - loss: 0.0080 - accuracy: 1.0000 - val_loss: 0.3894 - val_accuracy: 0.9430\n",
      "Epoch 63/100\n",
      "26/26 [==============================] - 0s 2ms/step - loss: 0.0111 - accuracy: 1.0000 - val_loss: 0.3945 - val_accuracy: 0.9430\n",
      "Epoch 64/100\n",
      "26/26 [==============================] - 0s 2ms/step - loss: 0.0070 - accuracy: 1.0000 - val_loss: 0.4020 - val_accuracy: 0.9367\n",
      "Epoch 65/100\n",
      "26/26 [==============================] - 0s 2ms/step - loss: 0.0079 - accuracy: 1.0000 - val_loss: 0.4069 - val_accuracy: 0.9367\n",
      "Epoch 66/100\n",
      "26/26 [==============================] - 0s 2ms/step - loss: 0.0059 - accuracy: 1.0000 - val_loss: 0.4156 - val_accuracy: 0.9367\n",
      "Epoch 67/100\n",
      "26/26 [==============================] - 0s 2ms/step - loss: 0.0066 - accuracy: 1.0000 - val_loss: 0.4186 - val_accuracy: 0.9367\n",
      "Epoch 68/100\n",
      "26/26 [==============================] - 0s 2ms/step - loss: 0.0071 - accuracy: 1.0000 - val_loss: 0.4248 - val_accuracy: 0.9367\n",
      "Epoch 69/100\n",
      "26/26 [==============================] - 0s 2ms/step - loss: 0.0052 - accuracy: 1.0000 - val_loss: 0.4291 - val_accuracy: 0.9367\n",
      "Epoch 70/100\n",
      "26/26 [==============================] - 0s 2ms/step - loss: 0.0058 - accuracy: 1.0000 - val_loss: 0.4346 - val_accuracy: 0.9367\n",
      "Epoch 71/100\n",
      "26/26 [==============================] - 0s 2ms/step - loss: 0.0046 - accuracy: 1.0000 - val_loss: 0.4452 - val_accuracy: 0.9367\n",
      "Epoch 72/100\n",
      "26/26 [==============================] - 0s 2ms/step - loss: 0.0045 - accuracy: 1.0000 - val_loss: 0.4484 - val_accuracy: 0.9367\n",
      "Epoch 73/100\n",
      "26/26 [==============================] - 0s 2ms/step - loss: 0.0047 - accuracy: 1.0000 - val_loss: 0.4530 - val_accuracy: 0.9367\n",
      "Epoch 74/100\n",
      "26/26 [==============================] - 0s 2ms/step - loss: 0.0047 - accuracy: 1.0000 - val_loss: 0.4567 - val_accuracy: 0.9367\n",
      "Epoch 75/100\n",
      "26/26 [==============================] - 0s 2ms/step - loss: 0.0046 - accuracy: 1.0000 - val_loss: 0.4665 - val_accuracy: 0.9367\n",
      "Epoch 76/100\n",
      "26/26 [==============================] - 0s 2ms/step - loss: 0.0038 - accuracy: 1.0000 - val_loss: 0.4710 - val_accuracy: 0.9367\n",
      "Epoch 77/100\n",
      "26/26 [==============================] - 0s 2ms/step - loss: 0.0031 - accuracy: 1.0000 - val_loss: 0.4725 - val_accuracy: 0.9367\n",
      "Epoch 78/100\n",
      "26/26 [==============================] - 0s 2ms/step - loss: 0.0034 - accuracy: 1.0000 - val_loss: 0.4809 - val_accuracy: 0.9367\n",
      "Epoch 79/100\n",
      "26/26 [==============================] - 0s 2ms/step - loss: 0.0036 - accuracy: 1.0000 - val_loss: 0.4851 - val_accuracy: 0.9367\n",
      "Epoch 80/100\n",
      "26/26 [==============================] - 0s 2ms/step - loss: 0.0032 - accuracy: 1.0000 - val_loss: 0.4867 - val_accuracy: 0.9367\n",
      "Epoch 81/100\n",
      "26/26 [==============================] - 0s 2ms/step - loss: 0.0037 - accuracy: 1.0000 - val_loss: 0.4931 - val_accuracy: 0.9367\n",
      "Epoch 82/100\n",
      "26/26 [==============================] - 0s 2ms/step - loss: 0.0031 - accuracy: 1.0000 - val_loss: 0.4967 - val_accuracy: 0.9367\n",
      "Epoch 83/100\n",
      "26/26 [==============================] - 0s 2ms/step - loss: 0.0025 - accuracy: 1.0000 - val_loss: 0.5004 - val_accuracy: 0.9367\n",
      "Epoch 84/100\n",
      "26/26 [==============================] - 0s 2ms/step - loss: 0.0034 - accuracy: 1.0000 - val_loss: 0.5074 - val_accuracy: 0.9367\n",
      "Epoch 85/100\n",
      "26/26 [==============================] - 0s 2ms/step - loss: 0.0028 - accuracy: 1.0000 - val_loss: 0.5114 - val_accuracy: 0.9367\n",
      "Epoch 86/100\n",
      "26/26 [==============================] - 0s 2ms/step - loss: 0.0022 - accuracy: 1.0000 - val_loss: 0.5146 - val_accuracy: 0.9367\n",
      "Epoch 87/100\n",
      "26/26 [==============================] - 0s 2ms/step - loss: 0.0026 - accuracy: 1.0000 - val_loss: 0.5198 - val_accuracy: 0.9367\n",
      "Epoch 88/100\n",
      "26/26 [==============================] - 0s 2ms/step - loss: 0.0023 - accuracy: 1.0000 - val_loss: 0.5225 - val_accuracy: 0.9367\n",
      "Epoch 89/100\n",
      "26/26 [==============================] - 0s 2ms/step - loss: 0.0028 - accuracy: 1.0000 - val_loss: 0.5291 - val_accuracy: 0.9367\n",
      "Epoch 90/100\n",
      "26/26 [==============================] - 0s 2ms/step - loss: 0.0023 - accuracy: 1.0000 - val_loss: 0.5335 - val_accuracy: 0.9367\n",
      "Epoch 91/100\n",
      "26/26 [==============================] - 0s 2ms/step - loss: 0.0017 - accuracy: 1.0000 - val_loss: 0.5357 - val_accuracy: 0.9367\n",
      "Epoch 92/100\n",
      "26/26 [==============================] - 0s 2ms/step - loss: 0.0020 - accuracy: 1.0000 - val_loss: 0.5394 - val_accuracy: 0.9367\n",
      "Epoch 93/100\n",
      "26/26 [==============================] - 0s 2ms/step - loss: 0.0019 - accuracy: 1.0000 - val_loss: 0.5470 - val_accuracy: 0.9367\n",
      "Epoch 94/100\n",
      "26/26 [==============================] - 0s 2ms/step - loss: 0.0014 - accuracy: 1.0000 - val_loss: 0.5490 - val_accuracy: 0.9367\n",
      "Epoch 95/100\n",
      "26/26 [==============================] - 0s 2ms/step - loss: 0.0016 - accuracy: 1.0000 - val_loss: 0.5507 - val_accuracy: 0.9367\n",
      "Epoch 96/100\n",
      "26/26 [==============================] - 0s 2ms/step - loss: 0.0020 - accuracy: 1.0000 - val_loss: 0.5558 - val_accuracy: 0.9367\n",
      "Epoch 97/100\n",
      "26/26 [==============================] - 0s 3ms/step - loss: 0.0012 - accuracy: 1.0000 - val_loss: 0.5596 - val_accuracy: 0.9367\n",
      "Epoch 98/100\n",
      "26/26 [==============================] - 0s 3ms/step - loss: 0.0015 - accuracy: 1.0000 - val_loss: 0.5720 - val_accuracy: 0.9430\n",
      "Epoch 99/100\n",
      "26/26 [==============================] - 0s 2ms/step - loss: 0.0017 - accuracy: 1.0000 - val_loss: 0.5730 - val_accuracy: 0.9367\n",
      "Epoch 100/100\n",
      "26/26 [==============================] - 0s 2ms/step - loss: 0.0014 - accuracy: 1.0000 - val_loss: 0.5786 - val_accuracy: 0.9367\n"
     ]
    }
   ],
   "source": [
    "# Fitting the data. \n",
    "\n",
    "#history = model.fit(X_train_train,\n",
    "#                        to_categorical(y_train_train),\n",
    "#                        epochs = 100,\n",
    "#                        batch_size = 512,\n",
    "#                        validation_data=(X_val,to_categorical(y_val)))\n",
    "\n",
    "# It looks like sparse_categorical automatically applies to_categorical to y, so use this one\n",
    "# (this includes changed batch size and epochs):\n",
    "\n",
    "history = model.fit(X_train_train,\n",
    "                        y_train_train,\n",
    "                        epochs = 100,\n",
    "                        batch_size = 25,\n",
    "                        validation_data=(X_val,y_val))"
   ]
  },
  {
   "cell_type": "code",
   "execution_count": 41,
   "metadata": {},
   "outputs": [
    {
     "name": "stdout",
     "output_type": "stream",
     "text": [
      "dict_keys(['loss', 'accuracy', 'val_loss', 'val_accuracy'])\n"
     ]
    }
   ],
   "source": [
    "# Examine the results. \n",
    "\n",
    "history_dict = history.history\n",
    "\n",
    "print(history_dict.keys())"
   ]
  },
  {
   "cell_type": "code",
   "execution_count": 42,
   "metadata": {},
   "outputs": [
    {
     "data": {
      "image/png": "[encoded data removed]",
      "text/plain": [
       "<Figure size 720x432 with 1 Axes>"
      ]
     },
     "metadata": {},
     "output_type": "display_data"
    }
   ],
   "source": [
    "# That's... intersting. \n",
    "\n",
    "\n",
    "\n",
    "plt.figure(figsize = (10,6))\n",
    "\n",
    "plt.scatter(range(1,101), history_dict['accuracy'], label = \"Training Accuracy\")\n",
    "plt.scatter(range(1,101), history_dict['val_accuracy'], label = \"Validation Set Accuracy\")\n",
    "\n",
    "plt.xlabel(\"Epoch\", fontsize=18)\n",
    "plt.ylabel(\"Accuracy\", fontsize=18)\n",
    "\n",
    "plt.xticks(fontsize=16)\n",
    "plt.yticks(fontsize=16)\n",
    "\n",
    "plt.legend(fontsize=18)\n",
    "\n",
    "plt.show()"
   ]
  },
  {
   "cell_type": "code",
   "execution_count": 43,
   "metadata": {},
   "outputs": [
    {
     "data": {
      "image/png": "[encoded data removed]",
      "text/plain": [
       "<Figure size 720x432 with 1 Axes>"
      ]
     },
     "metadata": {},
     "output_type": "display_data"
    }
   ],
   "source": [
    "plt.figure(figsize = (10,6))\n",
    "\n",
    "plt.scatter(range(1,101), history_dict['loss'], label = \"Training Loss\")\n",
    "plt.scatter(range(1,101), history_dict['val_loss'], label = \"Validation Set Loss\")\n",
    "\n",
    "plt.xlabel(\"Epoch\", fontsize=18)\n",
    "plt.ylabel(\"Loss Function Value\", fontsize=18)\n",
    "\n",
    "plt.xticks(fontsize=16)\n",
    "plt.yticks(fontsize=16)\n",
    "\n",
    "plt.legend(fontsize=18)\n",
    "\n",
    "plt.show()"
   ]
  },
  {
   "cell_type": "code",
   "execution_count": 44,
   "metadata": {},
   "outputs": [
    {
     "data": {
      "text/plain": [
       "Class\n",
       "0    101\n",
       "1     96\n",
       "dtype: int64"
      ]
     },
     "execution_count": 44,
     "metadata": {},
     "output_type": "execute_result"
    }
   ],
   "source": [
    "# Value counts of test data. \n",
    "\n",
    "sample_data_test.value_counts('Class')"
   ]
  },
  {
   "cell_type": "code",
   "execution_count": 45,
   "metadata": {},
   "outputs": [
    {
     "data": {
      "text/plain": [
       "array([1, 1, 0, 0, 0, 0, 1, 0, 0, 1, 0, 0, 1, 0, 1, 1, 1, 0, 1, 1, 0, 0,\n",
       "       1, 1, 1, 1, 0, 0, 0, 1, 1, 0, 0, 1, 0, 0, 0, 1, 0, 1, 0, 0, 0, 0,\n",
       "       0, 1, 1, 1, 0, 1, 0, 0, 0, 1, 1, 0, 1, 0, 0, 1, 1, 0, 1, 0, 1, 1,\n",
       "       1, 0, 1, 0, 1, 0, 0, 0, 1, 1, 1, 0, 0, 1, 1, 0, 1, 0, 1, 1, 1, 0,\n",
       "       0, 0, 1, 0, 0, 1, 1, 1, 1, 1, 1, 0, 1, 1, 0, 0, 1, 1, 0, 1, 1, 1,\n",
       "       0, 0, 0, 0, 0, 0, 1, 0, 1, 1, 0, 1, 1, 1, 1, 0, 1, 1, 1, 0, 1, 1,\n",
       "       0, 0, 1, 1, 1, 0, 1, 1, 0, 1, 1, 0, 0, 0, 1, 0, 0, 1, 1, 0, 0, 1,\n",
       "       0, 1, 1, 0, 1, 0, 0, 1, 0, 1, 1, 1, 0, 1, 0, 1, 1, 0, 1, 1, 1, 1,\n",
       "       1, 1, 0, 1, 0, 1, 1, 0, 1, 1, 1, 0, 0, 0, 0, 1, 0, 1, 1, 0, 0])"
      ]
     },
     "execution_count": 45,
     "metadata": {},
     "output_type": "execute_result"
    }
   ],
   "source": [
    "# Prediction.\n",
    "\n",
    "\n",
    "\n",
    "y_pred_prob = model.predict(X_test)\n",
    "\n",
    "\n",
    "\n",
    "# Set the threshold probability for valid transactions as p = 0.5. \n",
    "\n",
    "y_pred = []\n",
    "\n",
    "for x in y_pred_prob:\n",
    "    if x[0] > 0.9:\n",
    "        y_pred.append(0)\n",
    "    else:\n",
    "        y_pred.append(1)\n",
    "        \n",
    "y_pred = np.array(y_pred)\n",
    "y_pred"
   ]
  },
  {
   "cell_type": "code",
   "execution_count": 46,
   "metadata": {},
   "outputs": [
    {
     "name": "stdout",
     "output_type": "stream",
     "text": [
      "[[1.0000000e+00 2.7371199e-08]\n",
      " [9.9996388e-01 3.6090547e-05]\n",
      " [9.9902415e-01 9.7580493e-04]\n",
      " ...\n",
      " [1.0000000e+00 2.4100993e-10]\n",
      " [2.3887179e-25 1.0000000e+00]\n",
      " [9.9287194e-01 7.1280976e-03]]\n"
     ]
    },
    {
     "name": "stderr",
     "output_type": "stream",
     "text": [
      "/opt/anaconda3/lib/python3.8/site-packages/keras/engine/sequential.py:425: UserWarning: `model.predict_proba()` is deprecated and will be removed after 2021-01-01. Please use `model.predict()` instead.\n",
      "  warnings.warn('`model.predict_proba()` is deprecated and '\n"
     ]
    }
   ],
   "source": [
    "#predict the probabilities\n",
    "y_pred_prob_ANN=model.predict_proba(X_train_train)\n",
    "print(y_pred_prob_ANN)\n",
    "\n",
    "#now we can get the ROC\n",
    "roc_curve(y_train_train,y_pred_prob_ANN[:,1])\n",
    "\n",
    "#we get the fpr,tpr,cutoffs\n",
    "fpr_ANN,tpr_ANN,cutoffs_ANN = roc_curve(y_train_train,y_pred_prob_ANN[:,1])\n",
    "\n"
   ]
  },
  {
   "cell_type": "code",
   "execution_count": 47,
   "metadata": {},
   "outputs": [
    {
     "name": "stdout",
     "output_type": "stream",
     "text": [
      "1.0\n"
     ]
    }
   ],
   "source": [
    "#now we can get the AUC\n",
    "auc_ANN=roc_auc_score(y_train_train,y_pred_prob_ANN[:,1])\n",
    "print(auc_ANN)"
   ]
  },
  {
   "cell_type": "code",
   "execution_count": 48,
   "metadata": {},
   "outputs": [
    {
     "data": {
      "image/png": "[encoded data removed]",
      "text/plain": [
       "<Figure size 864x576 with 1 Axes>"
      ]
     },
     "metadata": {},
     "output_type": "display_data"
    }
   ],
   "source": [
    "#plot ROC with AUC\n",
    "plt.figure(figsize=(12,8))\n",
    "\n",
    "plt.plot(fpr_ANN,tpr_ANN,label='AUC ANN= '+str(np.around(auc_ANN,4)))\n",
    "\n",
    "\n",
    "\n",
    "plt.xlabel(\"False Positive Rate\",fontsize=16)\n",
    "plt.ylabel(\"True Positive Rate\",fontsize=16)\n",
    "\n",
    "plt.title(\"ROC Curve\", fontsize=18)\n",
    "plt.xticks(fontsize=12)\n",
    "plt.yticks(fontsize=12)\n",
    "plt.legend(loc='best')\n",
    "plt.show()"
   ]
  },
  {
   "cell_type": "code",
   "execution_count": 49,
   "metadata": {},
   "outputs": [
    {
     "name": "stdout",
     "output_type": "stream",
     "text": [
      "[[5.50612202e-03 9.94493902e-01]\n",
      " [1.09247599e-13 1.00000000e+00]\n",
      " [1.00000000e+00 5.48337042e-10]\n",
      " [9.88647759e-01 1.13522056e-02]\n",
      " [9.95947540e-01 4.05250350e-03]\n",
      " [1.00000000e+00 6.42998721e-09]\n",
      " [1.41100878e-34 1.00000000e+00]\n",
      " [1.00000000e+00 2.54310817e-09]\n",
      " [1.00000000e+00 3.42821664e-08]\n",
      " [8.89556229e-01 1.10443719e-01]\n",
      " [1.00000000e+00 8.43131190e-11]\n",
      " [9.99999642e-01 4.09061016e-07]\n",
      " [1.17789133e-32 1.00000000e+00]\n",
      " [9.99888301e-01 1.11684603e-04]\n",
      " [1.87515832e-14 1.00000000e+00]\n",
      " [1.17173849e-24 1.00000000e+00]\n",
      " [2.58929312e-01 7.41070747e-01]\n",
      " [1.00000000e+00 3.85385529e-10]\n",
      " [5.39823234e-01 4.60176736e-01]\n",
      " [3.56730506e-19 1.00000000e+00]\n",
      " [9.99799192e-01 2.00837327e-04]\n",
      " [1.00000000e+00 5.85528237e-10]\n",
      " [2.16245094e-26 1.00000000e+00]\n",
      " [2.99267752e-15 1.00000000e+00]\n",
      " [1.76983759e-01 8.23016226e-01]\n",
      " [3.99331377e-21 1.00000000e+00]\n",
      " [9.99895215e-01 1.04771723e-04]\n",
      " [9.99999404e-01 6.33171510e-07]\n",
      " [1.00000000e+00 1.63933089e-10]\n",
      " [0.00000000e+00 1.00000000e+00]\n",
      " [0.00000000e+00 1.00000000e+00]\n",
      " [1.00000000e+00 5.32840508e-11]\n",
      " [1.00000000e+00 1.11265364e-09]\n",
      " [1.13862251e-20 1.00000000e+00]\n",
      " [9.99809086e-01 1.90987397e-04]\n",
      " [9.99890447e-01 1.09499182e-04]\n",
      " [9.96930897e-01 3.06910020e-03]\n",
      " [5.88621855e-22 1.00000000e+00]\n",
      " [1.00000000e+00 2.73982028e-08]\n",
      " [6.40152242e-32 1.00000000e+00]\n",
      " [9.99999762e-01 2.41426619e-07]\n",
      " [9.99902368e-01 9.76440642e-05]\n",
      " [9.98899937e-01 1.10003236e-03]\n",
      " [9.99987960e-01 1.20368350e-05]\n",
      " [1.00000000e+00 8.53505266e-09]\n",
      " [0.00000000e+00 1.00000000e+00]\n",
      " [1.37322887e-16 1.00000000e+00]\n",
      " [5.46221389e-03 9.94537771e-01]\n",
      " [1.00000000e+00 2.46075937e-09]\n",
      " [0.00000000e+00 1.00000000e+00]\n",
      " [9.99943733e-01 5.62361020e-05]\n",
      " [1.00000000e+00 1.74064735e-10]\n",
      " [9.99981284e-01 1.87696405e-05]\n",
      " [0.00000000e+00 1.00000000e+00]\n",
      " [7.94208873e-33 1.00000000e+00]\n",
      " [9.64093149e-01 3.59068662e-02]\n",
      " [1.24829562e-37 1.00000000e+00]\n",
      " [9.99995351e-01 4.62457501e-06]\n",
      " [9.99915004e-01 8.50268552e-05]\n",
      " [1.45635480e-04 9.99854326e-01]\n",
      " [7.70849010e-11 1.00000000e+00]\n",
      " [9.99882936e-01 1.17018273e-04]\n",
      " [2.50507703e-23 1.00000000e+00]\n",
      " [9.99941230e-01 5.87257928e-05]\n",
      " [0.00000000e+00 1.00000000e+00]\n",
      " [8.23798837e-06 9.99991775e-01]\n",
      " [3.06640622e-30 1.00000000e+00]\n",
      " [1.00000000e+00 1.98041707e-08]\n",
      " [0.00000000e+00 1.00000000e+00]\n",
      " [9.99990225e-01 9.74948580e-06]\n",
      " [2.09696382e-01 7.90303588e-01]\n",
      " [1.00000000e+00 9.82451120e-10]\n",
      " [1.00000000e+00 1.69898470e-12]\n",
      " [9.98975158e-01 1.02485891e-03]\n",
      " [8.50972314e-21 1.00000000e+00]\n",
      " [7.20875168e-23 1.00000000e+00]\n",
      " [1.67149119e-02 9.83285129e-01]\n",
      " [9.99999881e-01 1.58382505e-07]\n",
      " [9.99995351e-01 4.61951913e-06]\n",
      " [2.82935286e-03 9.97170627e-01]\n",
      " [0.00000000e+00 1.00000000e+00]\n",
      " [9.99432623e-01 5.67338138e-04]\n",
      " [5.06232500e-01 4.93767530e-01]\n",
      " [9.98417139e-01 1.58289669e-03]\n",
      " [0.00000000e+00 1.00000000e+00]\n",
      " [8.19256843e-19 1.00000000e+00]\n",
      " [5.47961072e-16 1.00000000e+00]\n",
      " [9.99414563e-01 5.85483911e-04]\n",
      " [9.99966264e-01 3.37157398e-05]\n",
      " [9.99954700e-01 4.52962013e-05]\n",
      " [4.00196443e-19 1.00000000e+00]\n",
      " [1.00000000e+00 2.02734540e-09]\n",
      " [1.00000000e+00 5.49235679e-08]\n",
      " [1.33351065e-15 1.00000000e+00]\n",
      " [3.53656472e-17 1.00000000e+00]\n",
      " [1.98943510e-23 1.00000000e+00]\n",
      " [5.23545593e-03 9.94764566e-01]\n",
      " [3.64449655e-27 1.00000000e+00]\n",
      " [6.39571603e-16 1.00000000e+00]\n",
      " [1.00000000e+00 8.16418662e-17]\n",
      " [4.30853665e-03 9.95691478e-01]\n",
      " [1.59981787e-01 8.40018153e-01]\n",
      " [9.99984860e-01 1.51225840e-05]\n",
      " [9.99984384e-01 1.56305596e-05]\n",
      " [7.80049741e-01 2.19950318e-01]\n",
      " [5.68250526e-23 1.00000000e+00]\n",
      " [9.99999404e-01 5.88841033e-07]\n",
      " [6.92984641e-01 3.07015359e-01]\n",
      " [5.20249428e-25 1.00000000e+00]\n",
      " [2.60779622e-19 1.00000000e+00]\n",
      " [9.99886990e-01 1.12996007e-04]\n",
      " [1.00000000e+00 2.11578435e-08]\n",
      " [1.00000000e+00 2.94909643e-08]\n",
      " [9.98478472e-01 1.52149843e-03]\n",
      " [9.99971151e-01 2.88284573e-05]\n",
      " [9.99997139e-01 2.81453094e-06]\n",
      " [1.55694084e-04 9.99844313e-01]\n",
      " [9.99965787e-01 3.42669919e-05]\n",
      " [3.78783278e-24 1.00000000e+00]\n",
      " [8.87616125e-14 1.00000000e+00]\n",
      " [1.00000000e+00 1.46684522e-11]\n",
      " [6.89564109e-01 3.10435951e-01]\n",
      " [6.70137655e-23 1.00000000e+00]\n",
      " [1.73444703e-17 1.00000000e+00]\n",
      " [1.89902406e-19 1.00000000e+00]\n",
      " [9.72776890e-01 2.72231512e-02]\n",
      " [1.07322187e-19 1.00000000e+00]\n",
      " [1.14290891e-20 1.00000000e+00]\n",
      " [1.19547952e-14 1.00000000e+00]\n",
      " [9.99640465e-01 3.59574304e-04]\n",
      " [2.15738706e-23 1.00000000e+00]\n",
      " [7.69329548e-01 2.30670437e-01]\n",
      " [1.00000000e+00 2.75879753e-12]\n",
      " [9.99529958e-01 4.70039435e-04]\n",
      " [1.00214173e-31 1.00000000e+00]\n",
      " [1.04758888e-12 1.00000000e+00]\n",
      " [0.00000000e+00 1.00000000e+00]\n",
      " [9.99993086e-01 6.91793912e-06]\n",
      " [0.00000000e+00 1.00000000e+00]\n",
      " [4.48376616e-34 1.00000000e+00]\n",
      " [9.99994993e-01 5.03678757e-06]\n",
      " [0.00000000e+00 1.00000000e+00]\n",
      " [1.82237818e-06 9.99998212e-01]\n",
      " [9.99999881e-01 1.21345906e-07]\n",
      " [9.98786271e-01 1.21370528e-03]\n",
      " [1.00000000e+00 1.35744038e-08]\n",
      " [4.28274565e-04 9.99571741e-01]\n",
      " [9.67190325e-01 3.28096487e-02]\n",
      " [1.00000000e+00 2.34866623e-11]\n",
      " [2.75947678e-23 1.00000000e+00]\n",
      " [0.00000000e+00 1.00000000e+00]\n",
      " [9.97434199e-01 2.56580487e-03]\n",
      " [9.99982595e-01 1.73757326e-05]\n",
      " [0.00000000e+00 1.00000000e+00]\n",
      " [1.00000000e+00 1.02773201e-09]\n",
      " [2.47041196e-22 1.00000000e+00]\n",
      " [7.68936634e-01 2.31063336e-01]\n",
      " [1.00000000e+00 2.79912840e-08]\n",
      " [9.39538016e-32 1.00000000e+00]\n",
      " [1.00000000e+00 2.50827775e-10]\n",
      " [9.99998808e-01 1.21846665e-06]\n",
      " [0.00000000e+00 1.00000000e+00]\n",
      " [1.00000000e+00 4.22110569e-09]\n",
      " [1.89446224e-15 1.00000000e+00]\n",
      " [1.79646900e-15 1.00000000e+00]\n",
      " [1.10276010e-23 1.00000000e+00]\n",
      " [9.25371587e-01 7.46284574e-02]\n",
      " [1.88805437e-24 1.00000000e+00]\n",
      " [1.00000000e+00 1.63945046e-09]\n",
      " [1.34191004e-15 1.00000000e+00]\n",
      " [5.81365049e-01 4.18634921e-01]\n",
      " [1.00000000e+00 1.14162438e-11]\n",
      " [0.00000000e+00 1.00000000e+00]\n",
      " [3.17763188e-04 9.99682307e-01]\n",
      " [0.00000000e+00 1.00000000e+00]\n",
      " [9.36501194e-03 9.90634978e-01]\n",
      " [8.73770714e-02 9.12622929e-01]\n",
      " [4.42049343e-16 1.00000000e+00]\n",
      " [1.00000000e+00 1.58949487e-09]\n",
      " [5.96506223e-22 1.00000000e+00]\n",
      " [1.00000000e+00 4.43092585e-09]\n",
      " [1.75386919e-31 1.00000000e+00]\n",
      " [1.05795296e-14 1.00000000e+00]\n",
      " [9.99502301e-01 4.97657980e-04]\n",
      " [4.90069399e-18 1.00000000e+00]\n",
      " [2.93302350e-24 1.00000000e+00]\n",
      " [2.71880310e-13 1.00000000e+00]\n",
      " [9.95130658e-01 4.86930460e-03]\n",
      " [1.00000000e+00 6.12378426e-10]\n",
      " [9.99907374e-01 9.26351931e-05]\n",
      " [9.83073115e-01 1.69269312e-02]\n",
      " [0.00000000e+00 1.00000000e+00]\n",
      " [1.00000000e+00 4.21931867e-09]\n",
      " [8.37507546e-01 1.62492469e-01]\n",
      " [0.00000000e+00 1.00000000e+00]\n",
      " [9.83707368e-01 1.62926316e-02]\n",
      " [9.99911189e-01 8.88584764e-05]]\n"
     ]
    },
    {
     "name": "stderr",
     "output_type": "stream",
     "text": [
      "/opt/anaconda3/lib/python3.8/site-packages/keras/engine/sequential.py:425: UserWarning: `model.predict_proba()` is deprecated and will be removed after 2021-01-01. Please use `model.predict()` instead.\n",
      "  warnings.warn('`model.predict_proba()` is deprecated and '\n"
     ]
    },
    {
     "data": {
      "text/plain": [
       "<matplotlib.legend.Legend at 0x12711cca0>"
      ]
     },
     "execution_count": 49,
     "metadata": {},
     "output_type": "execute_result"
    },
    {
     "data": {
      "image/png": "[encoded data removed]",
      "text/plain": [
       "<Figure size 864x576 with 1 Axes>"
      ]
     },
     "metadata": {},
     "output_type": "display_data"
    }
   ],
   "source": [
    "## get the predictions of the probabilities of X_test\n",
    "y_pred_prob_test_ANN=model.predict_proba(X_test)\n",
    "print(y_pred_prob_test_ANN)\n",
    "\n",
    "# calculate precision-recall curve\n",
    "precision_ANN, recall_ANN, thresholds_ANN = precision_recall_curve(y_test, y_pred_prob_test_ANN[:,1])\n",
    "\n",
    "\n",
    "    \n",
    "\n",
    "\n",
    "PRauc_ANN= auc(recall_ANN, precision_ANN)\n",
    "#plot precision-recall curve\n",
    "plt.figure(figsize=(12,8))\n",
    "plt.plot(recall_ANN,precision_ANN, label='AUC ANN= '+str(np.around(PRauc_ANN,4)))\n",
    "plt.xlabel('Recall', fontsize = 14)\n",
    "plt.ylabel('Precision', fontsize = 14)\n",
    "plt.title('Precision-Recall Curve', fontsize = 18)\n",
    "plt.legend(loc = 'best')\n",
    "\n"
   ]
  },
  {
   "cell_type": "code",
   "execution_count": 50,
   "metadata": {},
   "outputs": [
    {
     "name": "stdout",
     "output_type": "stream",
     "text": [
      "[[89 12]\n",
      " [ 3 93]]\n"
     ]
    }
   ],
   "source": [
    "from sklearn.metrics import confusion_matrix\n",
    "print(confusion_matrix(y_test,y_pred))"
   ]
  },
  {
   "cell_type": "code",
   "execution_count": 51,
   "metadata": {},
   "outputs": [
    {
     "name": "stdout",
     "output_type": "stream",
     "text": [
      "0.9238578680203046\n"
     ]
    }
   ],
   "source": [
    "from sklearn.metrics import accuracy_score\n",
    "accuracy_score_ANN = accuracy_score(y_test,y_pred)\n",
    "print(accuracy_score(y_test,y_pred))"
   ]
  },
  {
   "cell_type": "code",
   "execution_count": 52,
   "metadata": {},
   "outputs": [
    {
     "name": "stdout",
     "output_type": "stream",
     "text": [
      "              precision    recall  f1-score   support\n",
      "\n",
      "           0       0.97      0.88      0.92       101\n",
      "           1       0.89      0.97      0.93        96\n",
      "\n",
      "    accuracy                           0.92       197\n",
      "   macro avg       0.93      0.92      0.92       197\n",
      "weighted avg       0.93      0.92      0.92       197\n",
      "\n"
     ]
    }
   ],
   "source": [
    "from sklearn.metrics import classification_report\n",
    "print(classification_report(y_test,y_pred))\n",
    "\n",
    "precision_score_ANN = precision_score(y_test, y_pred)\n",
    "recall_score_ANN = recall_score(y_test, y_pred)\n",
    "f1_score_ANN = f1_score(y_test, y_pred)"
   ]
  },
  {
   "cell_type": "markdown",
   "metadata": {},
   "source": [
    "# Random Forest"
   ]
  },
  {
   "cell_type": "code",
   "execution_count": 53,
   "metadata": {},
   "outputs": [],
   "source": [
    "# We'll also check random forest (RF) just for comparison. \n",
    "\n",
    "from sklearn.ensemble import RandomForestClassifier\n",
    "\n",
    "#forest_clf = RandomForestClassifier(max_depth = 4, random_state=614)"
   ]
  },
  {
   "cell_type": "code",
   "execution_count": 54,
   "metadata": {},
   "outputs": [],
   "source": [
    "# Have to leave out reshape for this one. This is the sampe 50 / 50 train test split on sample data as defined\n",
    "# in one of the early ANN cells. \n",
    "\n",
    "y_train = np.array(sample_data_train.iloc[:, -1])\n",
    "\n",
    "pipe_RF = Pipeline([('preprocess',StandardScaler()),\n",
    "                ('RandomForest',RandomForestClassifier(max_depth = 4, random_state=614))])\n",
    "\n",
    "\n",
    "pipe_RF.fit(X_train,y_train)\n",
    "\n",
    "# The RF prediction.\n",
    "\n",
    "y_pred_RF = pipe_RF.predict(X_test)\n"
   ]
  },
  {
   "cell_type": "code",
   "execution_count": 55,
   "metadata": {},
   "outputs": [
    {
     "name": "stdout",
     "output_type": "stream",
     "text": [
      "[[6.62280702e-05 9.99933772e-01]\n",
      " [8.29081940e-03 9.91709181e-01]\n",
      " [9.77386563e-04 9.99022613e-01]\n",
      " ...\n",
      " [1.03364983e-02 9.89663502e-01]\n",
      " [9.32247005e-01 6.77529946e-02]\n",
      " [4.61642265e-03 9.95383577e-01]]\n"
     ]
    }
   ],
   "source": [
    "#predict the probabilities\n",
    "y_pred_prob_RF=pipe_RF.predict_proba(X_train)\n",
    "print(y_pred_prob_RF)\n",
    "\n",
    "#now we can get the ROC\n",
    "roc_curve(y_train,y_pred_prob_RF[:,1])\n",
    "\n",
    "#we get the fpr,tpr,cutoffs\n",
    "fpr_RF,tpr_RF,cutoffs_RF = roc_curve(y_train,y_pred_prob_RF[:,1])\n",
    "\n"
   ]
  },
  {
   "cell_type": "code",
   "execution_count": 56,
   "metadata": {},
   "outputs": [
    {
     "name": "stdout",
     "output_type": "stream",
     "text": [
      "0.9916427704151489\n"
     ]
    }
   ],
   "source": [
    "#now we can get the AUC\n",
    "auc_RF=roc_auc_score(y_train,y_pred_prob_RF[:,1])\n",
    "print(auc_RF)"
   ]
  },
  {
   "cell_type": "code",
   "execution_count": 57,
   "metadata": {},
   "outputs": [
    {
     "data": {
      "image/png": "[encoded data removed]",
      "text/plain": [
       "<Figure size 864x576 with 1 Axes>"
      ]
     },
     "metadata": {},
     "output_type": "display_data"
    }
   ],
   "source": [
    "#plot ROC with AUC\n",
    "plt.figure(figsize=(12,8))\n",
    "\n",
    "plt.plot(fpr_RF,tpr_RF,label='AUC RF= '+str(np.around(auc_RF,4)))\n",
    "\n",
    "\n",
    "\n",
    "plt.xlabel(\"False Positive Rate\",fontsize=16)\n",
    "plt.ylabel(\"True Positive Rate\",fontsize=16)\n",
    "\n",
    "plt.title(\"ROC Curve\", fontsize=18)\n",
    "plt.xticks(fontsize=12)\n",
    "plt.yticks(fontsize=12)\n",
    "plt.legend(loc='best')\n",
    "plt.show()"
   ]
  },
  {
   "cell_type": "code",
   "execution_count": 58,
   "metadata": {},
   "outputs": [
    {
     "name": "stdout",
     "output_type": "stream",
     "text": [
      "[[3.32233708e-01 6.67766292e-01]\n",
      " [2.62871383e-01 7.37128617e-01]\n",
      " [7.37220259e-01 2.62779741e-01]\n",
      " [9.34568008e-01 6.54319921e-02]\n",
      " [8.92470176e-01 1.07529824e-01]\n",
      " [9.22438949e-01 7.75610512e-02]\n",
      " [6.62280702e-05 9.99933772e-01]\n",
      " [5.05383972e-01 4.94616028e-01]\n",
      " [9.34196101e-01 6.58038985e-02]\n",
      " [7.36722724e-01 2.63277276e-01]\n",
      " [5.75075677e-01 4.24924323e-01]\n",
      " [9.34196101e-01 6.58038985e-02]\n",
      " [6.62280702e-05 9.99933772e-01]\n",
      " [7.62242621e-01 2.37757379e-01]\n",
      " [1.00101068e-03 9.98998989e-01]\n",
      " [1.02601675e-02 9.89739833e-01]\n",
      " [7.23245602e-01 2.76754398e-01]\n",
      " [9.29872811e-01 7.01271888e-02]\n",
      " [9.05574579e-01 9.44254214e-02]\n",
      " [6.62280702e-05 9.99933772e-01]\n",
      " [9.36162048e-01 6.38379524e-02]\n",
      " [9.35018843e-01 6.49811573e-02]\n",
      " [4.24444707e-02 9.57555529e-01]\n",
      " [3.17148463e-01 6.82851537e-01]\n",
      " [7.03074912e-01 2.96925088e-01]\n",
      " [1.06440532e-02 9.89355947e-01]\n",
      " [8.60918976e-01 1.39081024e-01]\n",
      " [8.24752182e-01 1.75247818e-01]\n",
      " [8.77365904e-01 1.22634096e-01]\n",
      " [4.36598441e-04 9.99563402e-01]\n",
      " [6.62280702e-05 9.99933772e-01]\n",
      " [9.30906232e-01 6.90937676e-02]\n",
      " [9.35306864e-01 6.46931362e-02]\n",
      " [2.18143468e-02 9.78185653e-01]\n",
      " [8.80360725e-01 1.19639275e-01]\n",
      " [8.96339883e-01 1.03660117e-01]\n",
      " [9.35646975e-01 6.43530254e-02]\n",
      " [6.30289283e-02 9.36971072e-01]\n",
      " [9.35018843e-01 6.49811573e-02]\n",
      " [6.68276942e-03 9.93317231e-01]\n",
      " [9.34317848e-01 6.56821522e-02]\n",
      " [9.21462445e-01 7.85375554e-02]\n",
      " [9.34196101e-01 6.58038985e-02]\n",
      " [9.34568008e-01 6.54319921e-02]\n",
      " [8.70781634e-01 1.29218366e-01]\n",
      " [6.62280702e-05 9.99933772e-01]\n",
      " [5.17510107e-02 9.48248989e-01]\n",
      " [7.83669728e-01 2.16330272e-01]\n",
      " [7.81234425e-01 2.18765575e-01]\n",
      " [7.48046252e-04 9.99251954e-01]\n",
      " [9.33640737e-01 6.63592627e-02]\n",
      " [9.27675573e-01 7.23244271e-02]\n",
      " [8.95980131e-01 1.04019869e-01]\n",
      " [6.62280702e-05 9.99933772e-01]\n",
      " [6.62280702e-05 9.99933772e-01]\n",
      " [8.92215896e-01 1.07784104e-01]\n",
      " [6.62280702e-05 9.99933772e-01]\n",
      " [9.00216882e-01 9.97831177e-02]\n",
      " [9.35306864e-01 6.46931362e-02]\n",
      " [5.80724932e-01 4.19275068e-01]\n",
      " [2.53754029e-01 7.46245971e-01]\n",
      " [9.18583552e-01 8.14164478e-02]\n",
      " [1.31622807e-03 9.98683772e-01]\n",
      " [9.06734262e-01 9.32657381e-02]\n",
      " [4.36598441e-04 9.99563402e-01]\n",
      " [6.16024507e-01 3.83975493e-01]\n",
      " [8.68276942e-03 9.91317231e-01]\n",
      " [9.32689386e-01 6.73106143e-02]\n",
      " [6.62280702e-05 9.99933772e-01]\n",
      " [9.28721893e-01 7.12781073e-02]\n",
      " [5.32834813e-02 9.46716519e-01]\n",
      " [9.31262270e-01 6.87377304e-02]\n",
      " [9.06398446e-01 9.36015535e-02]\n",
      " [8.24072600e-01 1.75927400e-01]\n",
      " [6.62280702e-05 9.99933772e-01]\n",
      " [2.93500797e-04 9.99706499e-01]\n",
      " [3.91822632e-01 6.08177368e-01]\n",
      " [9.31404130e-01 6.85958698e-02]\n",
      " [9.32926755e-01 6.70732450e-02]\n",
      " [3.86358708e-01 6.13641292e-01]\n",
      " [1.01831652e-03 9.98981683e-01]\n",
      " [9.27355372e-01 7.26446278e-02]\n",
      " [6.81874528e-01 3.18125472e-01]\n",
      " [7.47424343e-01 2.52575657e-01]\n",
      " [4.36598441e-04 9.99563402e-01]\n",
      " [5.04908259e-03 9.94950917e-01]\n",
      " [1.55558779e-02 9.84444122e-01]\n",
      " [9.25794369e-01 7.42056306e-02]\n",
      " [9.06994781e-01 9.30052189e-02]\n",
      " [9.23173814e-01 7.68261856e-02]\n",
      " [1.10813796e-02 9.88918620e-01]\n",
      " [9.24557169e-01 7.54428313e-02]\n",
      " [9.09127985e-01 9.08720153e-02]\n",
      " [2.53173037e-02 9.74682696e-01]\n",
      " [1.12139460e-02 9.88786054e-01]\n",
      " [6.62280702e-05 9.99933772e-01]\n",
      " [6.62280702e-05 9.99933772e-01]\n",
      " [2.03364983e-02 9.79663502e-01]\n",
      " [4.61642265e-03 9.95383577e-01]\n",
      " [8.65323704e-01 1.34676296e-01]\n",
      " [5.46185695e-01 4.53814305e-01]\n",
      " [7.54533228e-01 2.45466772e-01]\n",
      " [9.33032257e-01 6.69677430e-02]\n",
      " [9.17805476e-01 8.21945239e-02]\n",
      " [9.04086772e-01 9.59132282e-02]\n",
      " [1.31622807e-03 9.98683772e-01]\n",
      " [8.83188844e-01 1.16811156e-01]\n",
      " [5.90640998e-01 4.09359002e-01]\n",
      " [9.75318979e-04 9.99024681e-01]\n",
      " [1.31622807e-03 9.98683772e-01]\n",
      " [9.31429380e-01 6.85706201e-02]\n",
      " [9.07361934e-01 9.26380664e-02]\n",
      " [9.12658126e-01 8.73418744e-02]\n",
      " [8.78603946e-01 1.21396054e-01]\n",
      " [8.36458404e-01 1.63541596e-01]\n",
      " [9.13439423e-01 8.65605774e-02]\n",
      " [7.93880038e-01 2.06119962e-01]\n",
      " [9.22198824e-01 7.78011756e-02]\n",
      " [6.62280702e-05 9.99933772e-01]\n",
      " [4.93570861e-02 9.50642914e-01]\n",
      " [9.25952546e-01 7.40474541e-02]\n",
      " [8.62605609e-01 1.37394391e-01]\n",
      " [6.62280702e-05 9.99933772e-01]\n",
      " [1.02871208e-02 9.89712879e-01]\n",
      " [2.56960788e-03 9.97430392e-01]\n",
      " [8.62811335e-01 1.37188665e-01]\n",
      " [1.30377926e-01 8.69622074e-01]\n",
      " [6.62280702e-05 9.99933772e-01]\n",
      " [3.37785948e-02 9.66221405e-01]\n",
      " [9.17298449e-01 8.27015508e-02]\n",
      " [3.90620945e-02 9.60937906e-01]\n",
      " [7.59857458e-01 2.40142542e-01]\n",
      " [9.24645494e-01 7.53545063e-02]\n",
      " [9.16461183e-01 8.35388167e-02]\n",
      " [2.00333333e-02 9.79966667e-01]\n",
      " [2.47597519e-02 9.75240248e-01]\n",
      " [6.62280702e-05 9.99933772e-01]\n",
      " [8.48070137e-01 1.51929863e-01]\n",
      " [6.62280702e-05 9.99933772e-01]\n",
      " [5.97766186e-02 9.40223381e-01]\n",
      " [9.30618211e-01 6.93817887e-02]\n",
      " [2.93500797e-04 9.99706499e-01]\n",
      " [4.61299583e-01 5.38700417e-01]\n",
      " [9.32395704e-01 6.76042960e-02]\n",
      " [8.31190299e-01 1.68809701e-01]\n",
      " [6.56802114e-01 3.43197886e-01]\n",
      " [1.32500927e-01 8.67499073e-01]\n",
      " [7.53532928e-01 2.46467072e-01]\n",
      " [9.20891654e-01 7.91083456e-02]\n",
      " [3.39956140e-03 9.96600439e-01]\n",
      " [6.62280702e-05 9.99933772e-01]\n",
      " [9.19569507e-01 8.04304932e-02]\n",
      " [9.15692752e-01 8.43072484e-02]\n",
      " [4.36598441e-04 9.99563402e-01]\n",
      " [9.31366150e-01 6.86338501e-02]\n",
      " [7.48046252e-04 9.99251954e-01]\n",
      " [9.30459781e-01 6.95402188e-02]\n",
      " [9.22325143e-01 7.76748571e-02]\n",
      " [6.62280702e-05 9.99933772e-01]\n",
      " [9.29293918e-01 7.07060825e-02]\n",
      " [9.31540735e-01 6.84592647e-02]\n",
      " [6.62280702e-05 9.99933772e-01]\n",
      " [9.33623465e-01 6.63765346e-02]\n",
      " [1.43343440e-02 9.85665656e-01]\n",
      " [1.10855263e-02 9.88914474e-01]\n",
      " [2.93500797e-04 9.99706499e-01]\n",
      " [7.52930232e-01 2.47069768e-01]\n",
      " [1.03364983e-02 9.89663502e-01]\n",
      " [9.28860994e-01 7.11390056e-02]\n",
      " [1.48153219e-02 9.85184678e-01]\n",
      " [9.24159479e-01 7.58405209e-02]\n",
      " [7.82568384e-01 2.17431616e-01]\n",
      " [4.36598441e-04 9.99563402e-01]\n",
      " [1.31375104e-01 8.68624896e-01]\n",
      " [1.01831652e-03 9.98981683e-01]\n",
      " [8.11793922e-02 9.18820608e-01]\n",
      " [7.24708177e-01 2.75291823e-01]\n",
      " [1.08977863e-01 8.91022137e-01]\n",
      " [9.32582360e-01 6.74176403e-02]\n",
      " [6.62280702e-05 9.99933772e-01]\n",
      " [9.35646975e-01 6.43530254e-02]\n",
      " [2.00333333e-02 9.79966667e-01]\n",
      " [8.04878538e-02 9.19512146e-01]\n",
      " [8.54253355e-01 1.45746645e-01]\n",
      " [7.18143364e-02 9.28185664e-01]\n",
      " [3.36498340e-04 9.99663502e-01]\n",
      " [6.65453375e-02 9.33454662e-01]\n",
      " [9.20934440e-01 7.90655601e-02]\n",
      " [6.14287760e-01 3.85712240e-01]\n",
      " [9.15709801e-01 8.42901993e-02]\n",
      " [7.68670751e-01 2.31329249e-01]\n",
      " [2.06622807e-03 9.97933772e-01]\n",
      " [9.31613698e-01 6.83863020e-02]\n",
      " [6.83621643e-01 3.16378357e-01]\n",
      " [6.62280702e-05 9.99933772e-01]\n",
      " [9.09523936e-01 9.04760636e-02]\n",
      " [9.35100429e-01 6.48995711e-02]]\n"
     ]
    },
    {
     "data": {
      "text/plain": [
       "<matplotlib.legend.Legend at 0x127036c70>"
      ]
     },
     "execution_count": 58,
     "metadata": {},
     "output_type": "execute_result"
    },
    {
     "data": {
      "image/png": "[encoded data removed]",
      "text/plain": [
       "<Figure size 864x576 with 1 Axes>"
      ]
     },
     "metadata": {},
     "output_type": "display_data"
    }
   ],
   "source": [
    "## get the predictions of the probabilities of X_test\n",
    "y_pred_prob_test_RF=pipe_RF.predict_proba(X_test)\n",
    "print(y_pred_prob_test_RF)\n",
    "\n",
    "# calculate precision-recall curve\n",
    "precision_RF, recall_RF, thresholds_RF = precision_recall_curve(y_test, y_pred_prob_test_RF[:,1])\n",
    "\n",
    "\n",
    "    \n",
    "\n",
    "\n",
    "PRauc_RF= auc(recall_RF, precision_RF)\n",
    "#plot precision-recall curve\n",
    "plt.figure(figsize=(12,8))\n",
    "plt.plot(recall_RF, precision_RF,label='AUC RF= '+str(np.around(PRauc_RF,4)))\n",
    "plt.xlabel('Recall', fontsize = 14)\n",
    "plt.ylabel('Precision', fontsize = 14)\n",
    "plt.title('Precision-Recall Curve', fontsize = 18)\n",
    "plt.legend(loc = 'best')\n"
   ]
  },
  {
   "cell_type": "code",
   "execution_count": 59,
   "metadata": {},
   "outputs": [
    {
     "name": "stdout",
     "output_type": "stream",
     "text": [
      "[[101   0]\n",
      " [ 10  86]]\n",
      "\n",
      "\n",
      "0.949238578680203\n"
     ]
    }
   ],
   "source": [
    "print(confusion_matrix(y_test,y_pred_RF))\n",
    "print('\\n')\n",
    "\n",
    "accuracy_score_RF = accuracy_score(y_test, y_pred_RF)\n",
    "print(accuracy_score(y_test,y_pred_RF))"
   ]
  },
  {
   "cell_type": "code",
   "execution_count": 60,
   "metadata": {},
   "outputs": [
    {
     "name": "stdout",
     "output_type": "stream",
     "text": [
      "              precision    recall  f1-score   support\n",
      "\n",
      "           0       0.91      1.00      0.95       101\n",
      "           1       1.00      0.90      0.95        96\n",
      "\n",
      "    accuracy                           0.95       197\n",
      "   macro avg       0.95      0.95      0.95       197\n",
      "weighted avg       0.95      0.95      0.95       197\n",
      "\n"
     ]
    }
   ],
   "source": [
    "# And the classification report. \n",
    "\n",
    "print(classification_report(y_test,y_pred_RF))\n",
    "\n",
    "precision_score_RF = precision_score(y_test, y_pred_RF)\n",
    "recall_score_RF = recall_score(y_test, y_pred_RF)\n",
    "f1_score_RF = f1_score(y_test, y_pred_RF)"
   ]
  },
  {
   "cell_type": "markdown",
   "metadata": {},
   "source": [
    "# Support Vector Machine"
   ]
  },
  {
   "cell_type": "code",
   "execution_count": 61,
   "metadata": {},
   "outputs": [
    {
     "name": "stdout",
     "output_type": "stream",
     "text": [
      "Size of data is:  (284807, 30)\n",
      "There are 90 entries in our test set with value 1\n",
      "len(y): 284807 len(y_test): 42722 len(y_train): 242085\n"
     ]
    }
   ],
   "source": [
    "## For data handling\n",
    "import pandas as pd\n",
    "import numpy as np\n",
    "\n",
    "## For plotting\n",
    "import matplotlib.pyplot as plt\n",
    "import seaborn as sns\n",
    "\n",
    "## This sets the plot style\n",
    "## to have a grid on a white background\n",
    "sns.set_style(\"whitegrid\")\n",
    "\n",
    "\n",
    "## Import train/test split \n",
    "from sklearn.model_selection import train_test_split\n",
    "\n",
    "\n",
    "\n",
    "## Import our data with pandas\n",
    "import pandas as pd\n",
    "\n",
    "df = pd.read_csv(r'creditcard.csv')\n",
    "#print (df)\n",
    "np_vers=df.to_numpy()\n",
    "\n",
    "\n",
    "X = np_vers[:,0:30]\n",
    "print('Size of data is: ',str(X.shape))\n",
    "\n",
    "y = np_vers[:,30]\n",
    "\n",
    "\n",
    "## Construct the train/test split\n",
    "## Use random state 471 for reproducibility\n",
    "\n",
    "X_train,X_test,y_train,y_test = train_test_split(X, y, test_size = .15, random_state = 471)\n",
    "print('There are '+str(len(y_test[y_test==1]))+' entries in our test set with value 1')\n",
    "print('len(y): '+str(len(y))+' len(y_test): '+str(len(y_test))+' len(y_train): '+str(len(y_train)))"
   ]
  },
  {
   "cell_type": "code",
   "execution_count": 62,
   "metadata": {},
   "outputs": [
    {
     "name": "stdout",
     "output_type": "stream",
     "text": [
      "On 42722 entries, our accuracy score is: 0.9989934928140068\n",
      "On 90 entries with only 1's our accuracy score is: 0.6333333333333333\n",
      "\n",
      "On 42722 entries, our precision score is: 0.8507462686567164\n",
      "On 90 entries with only 1's our precision score is: 1.0\n",
      "\n",
      "On 42722 entries, our recall score is: 0.6333333333333333\n",
      "On 90 entries with only 1's our recall score is: 0.6333333333333333\n",
      "\n",
      "On 42722 entries, our f1 score is: 0.7261146496815286\n",
      "On 90 entries with only 1's our f1 score is: 0.7755102040816326\n",
      "\n",
      "On 42722 entries, our accuracy score is: 0.9990168999578671\n",
      "On 90 entries with only 1's our accuracy score is: 0.6444444444444445\n",
      "\n",
      "On 42722 entries, our precision score is: 0.8529411764705882\n",
      "On 90 entries with only 1's our precision score is: 1.0\n",
      "\n",
      "On 42722 entries, our recall score is: 0.6444444444444445\n",
      "On 90 entries with only 1's our recall score is: 0.6444444444444445\n",
      "\n",
      "On 42722 entries, our f1 score is: 0.7341772151898734\n",
      "On 90 entries with only 1's our f1 score is: 0.7837837837837839\n",
      "\n"
     ]
    },
    {
     "name": "stderr",
     "output_type": "stream",
     "text": [
      "/opt/anaconda3/lib/python3.8/site-packages/sklearn/svm/_base.py:976: ConvergenceWarning: Liblinear failed to converge, increase the number of iterations.\n",
      "  warnings.warn(\"Liblinear failed to converge, increase \"\n"
     ]
    },
    {
     "name": "stdout",
     "output_type": "stream",
     "text": [
      "On 42722 entries, our accuracy score is: 0.9990403071017274\n",
      "On 90 entries with only 1's our accuracy score is: 0.6555555555555556\n",
      "\n",
      "On 42722 entries, our precision score is: 0.855072463768116\n",
      "On 90 entries with only 1's our precision score is: 1.0\n",
      "\n",
      "On 42722 entries, our recall score is: 0.6555555555555556\n",
      "On 90 entries with only 1's our recall score is: 0.6555555555555556\n",
      "\n",
      "On 42722 entries, our f1 score is: 0.7421383647798742\n",
      "On 90 entries with only 1's our f1 score is: 0.7919463087248323\n",
      "\n"
     ]
    },
    {
     "name": "stderr",
     "output_type": "stream",
     "text": [
      "/opt/anaconda3/lib/python3.8/site-packages/sklearn/svm/_base.py:976: ConvergenceWarning: Liblinear failed to converge, increase the number of iterations.\n",
      "  warnings.warn(\"Liblinear failed to converge, increase \"\n"
     ]
    },
    {
     "name": "stdout",
     "output_type": "stream",
     "text": [
      "On 42722 entries, our accuracy score is: 0.9990168999578671\n",
      "On 90 entries with only 1's our accuracy score is: 0.6444444444444445\n",
      "\n",
      "On 42722 entries, our precision score is: 0.8529411764705882\n",
      "On 90 entries with only 1's our precision score is: 1.0\n",
      "\n",
      "On 42722 entries, our recall score is: 0.6444444444444445\n",
      "On 90 entries with only 1's our recall score is: 0.6444444444444445\n",
      "\n",
      "On 42722 entries, our f1 score is: 0.7341772151898734\n",
      "On 90 entries with only 1's our f1 score is: 0.7837837837837839\n",
      "\n"
     ]
    },
    {
     "name": "stderr",
     "output_type": "stream",
     "text": [
      "/opt/anaconda3/lib/python3.8/site-packages/sklearn/svm/_base.py:976: ConvergenceWarning: Liblinear failed to converge, increase the number of iterations.\n",
      "  warnings.warn(\"Liblinear failed to converge, increase \"\n"
     ]
    },
    {
     "name": "stdout",
     "output_type": "stream",
     "text": [
      "On 42722 entries, our accuracy score is: 0.9990168999578671\n",
      "On 90 entries with only 1's our accuracy score is: 0.6444444444444445\n",
      "\n",
      "On 42722 entries, our precision score is: 0.8529411764705882\n",
      "On 90 entries with only 1's our precision score is: 1.0\n",
      "\n",
      "On 42722 entries, our recall score is: 0.6444444444444445\n",
      "On 90 entries with only 1's our recall score is: 0.6444444444444445\n",
      "\n",
      "On 42722 entries, our f1 score is: 0.7341772151898734\n",
      "On 90 entries with only 1's our f1 score is: 0.7837837837837839\n",
      "\n"
     ]
    },
    {
     "data": {
      "image/png": "[encoded data removed]",
      "text/plain": [
       "<Figure size 432x288 with 1 Axes>"
      ]
     },
     "metadata": {},
     "output_type": "display_data"
    }
   ],
   "source": [
    "## SVMs are scale sensitive\n",
    "## Use the standard scaler on the data\n",
    "from sklearn.preprocessing import StandardScaler\n",
    "from sklearn.pipeline import Pipeline\n",
    "\n",
    "## Import metrics\n",
    "from sklearn.metrics import confusion_matrix\n",
    "\n",
    "## Import ROC curve\n",
    "from sklearn.metrics import plot_precision_recall_curve\n",
    "from sklearn.metrics import plot_roc_curve\n",
    "from sklearn.metrics import roc_curve\n",
    "from sklearn.metrics import roc_auc_score\n",
    "\n",
    "\n",
    "## Import the classifier\n",
    "from sklearn.svm import SVC\n",
    "\n",
    "from sklearn.svm import LinearSVC\n",
    "\n",
    "## Import accuracy measure\n",
    "from sklearn.metrics import accuracy_score,precision_score,recall_score,f1_score\n",
    "\n",
    "\n",
    "## Make arrays where we can store our predictions\n",
    "pred_array = np.zeros((len(y_test),5))\n",
    "pred_array_ones = np.zeros((len(y_test[y_test==1]),5))\n",
    "\n",
    "pred_array_train = np.zeros((len(y_train),5))\n",
    "pred_array_ones_train  = np.zeros((len(y_test[y_test==1]),5))\n",
    "\n",
    "\n",
    "\n",
    "\n",
    "## Now we make the classifier\n",
    "\n",
    "\n",
    "## We will try some other C-values as well\n",
    "\n",
    "list_of_C = [0.01, 0.05, 0.25, 0.5, 0.9]\n",
    "\n",
    "\n",
    "#list_of_C = [0.05]\n",
    "\n",
    "\n",
    "#Create empty accuracy, precision, and recall arrays for plotting (train and test)\n",
    "\n",
    "acc = np.zeros((2,5))\n",
    "prec = np.zeros((2,5))\n",
    "recall = np.zeros((2,5))\n",
    "f1 = np.zeros((2,5))\n",
    "\n",
    "acc_train = np.zeros((2,5))\n",
    "prec_train = np.zeros((2,5))\n",
    "recall_train = np.zeros((2,5))\n",
    "f1_train = np.zeros((2,5))\n",
    "\n",
    "for i in range(0,len(list_of_C)):\n",
    "    \n",
    "    max_margin = Pipeline([('scaler',StandardScaler()),('clf',LinearSVC(C=list_of_C[i],max_iter=60000))])\n",
    "    ## Fit the model\n",
    "    max_margin.fit(X_train,y_train)\n",
    "    ## Transform the test data\n",
    "    X_test_transformed=max_margin['scaler'].transform(X_test)\n",
    "    ## Predict on the test data\n",
    "    pred = max_margin['clf'].predict(X_test_transformed)\n",
    "    for j in range(len(pred)):\n",
    "        pred_array[j,i] = pred[j]\n",
    "    ## Predict on only the fraudulent test data\n",
    "    pred_only_1 = max_margin['clf'].predict(X_test_transformed[y_test == 1,:])\n",
    "\n",
    "\n",
    "    ## Transform the train data\n",
    "    X_train_transformed=max_margin['scaler'].transform(X_train)\n",
    "    ## Predict on the train data\n",
    "    pred_train = max_margin['clf'].predict(X_train_transformed)\n",
    "    for j in range(len(pred)):\n",
    "        pred_array_train[j,i] = pred_train[j]\n",
    "    ## Predict on only the fraudulent train data\n",
    "    pred_only_1_train = max_margin['clf'].predict(X_train_transformed[y_train == 1,:])\n",
    "\n",
    "    \n",
    "   \n",
    "    ## Print the accuracy of our predictions for test data\n",
    "    print('On '+str(len(y_test))+' entries, our accuracy score is: '+str(accuracy_score(y_test,pred)))\n",
    "    print('On '+str(len(y_test[y_test==1]))+' entries with only 1\\'s our accuracy score is: '+str(accuracy_score(y_test[y_test==1],pred_only_1))+'\\n')\n",
    "    \n",
    "    print('On '+str(len(y_test))+' entries, our precision score is: '+str(precision_score(y_test,pred)))\n",
    "    print('On '+str(len(y_test[y_test==1]))+' entries with only 1\\'s our precision score is: '+str(precision_score(y_test[y_test==1],pred_only_1))+'\\n')\n",
    "    \n",
    "    print('On '+str(len(y_test))+' entries, our recall score is: '+str(recall_score(y_test,pred)))\n",
    "    print('On '+str(len(y_test[y_test==1]))+' entries with only 1\\'s our recall score is: '+str(recall_score(y_test[y_test==1],pred_only_1))+'\\n')\n",
    "    \n",
    "    print('On '+str(len(y_test))+' entries, our f1 score is: '+str(f1_score(y_test,pred)))\n",
    "    print('On '+str(len(y_test[y_test==1]))+' entries with only 1\\'s our f1 score is: '+str(f1_score(y_test[y_test==1],pred_only_1))+'\\n')\n",
    "        \n",
    "    \n",
    "    \n",
    "    ## Update arrays for plotting\n",
    "    acc[0,i] = accuracy_score(y_test,pred)\n",
    "    acc[1,i] = accuracy_score(y_test[y_test==1],pred_only_1)\n",
    "    \n",
    "    prec[0,i] = precision_score(y_test,pred)\n",
    "    prec[1,i] = precision_score(y_test[y_test==1],pred_only_1)\n",
    "    \n",
    "    recall[0,i] = recall_score(y_test,pred)\n",
    "    recall[1,i] = recall_score(y_test[y_test==1],pred_only_1)\n",
    "    \n",
    "    f1[0,i] = f1_score(y_test,pred)\n",
    "    f1[1,i] = f1_score(y_test[y_test==1],pred_only_1)\n",
    "    \n",
    "    \n",
    "    \n",
    "    \n",
    "    ## Update training arrays for plotting\n",
    "    acc_train[0,i] = accuracy_score(y_train,pred_train)\n",
    "    acc_train[1,i] = accuracy_score(y_train[y_train==1],pred_only_1_train)\n",
    "    \n",
    "    prec_train[0,i] = precision_score(y_train,pred_train)\n",
    "    prec_train[1,i] = precision_score(y_train[y_train==1],pred_only_1_train)\n",
    "    \n",
    "    recall_train[0,i] = recall_score(y_train,pred_train)\n",
    "    recall_train[1,i] = recall_score(y_train[y_train==1],pred_only_1_train)\n",
    "    \n",
    "    f1_train[0,i] = f1_score(y_train,pred_train)\n",
    "    f1_train[1,i] = f1_score(y_train[y_train==1],pred_only_1_train)\n",
    "    \n",
    "    \n",
    "    \n",
    "## Plot ROC curve for C = 0.05\n",
    "\n",
    "SVM_model = Pipeline([('scaler-roc',StandardScaler()),('clf-roc',SVC(probability = True, C = 0.05, max_iter=5000))])\n",
    "                                             \n",
    "SVM_model.fit(X_train, y_train)\n",
    "X_test_transformed = SVM_model['scaler-roc'].transform(X_test) \n",
    "plot_roc_curve(SVM_model['clf-roc'], X_test_transformed, y_test)\n",
    "\n",
    "\n",
    "## Save the model information for later plotting\n",
    "pred_prob_SVM = SVM_model['clf-roc'].predict_proba(X_test_transformed)\n",
    "fpr_SVM, tpr_SVM, thresh_SVM = roc_curve(y_test, pred_prob_SVM[:,1])\n",
    "auc_SVM = roc_auc_score(y_test,pred_prob_SVM[:,1])"
   ]
  },
  {
   "cell_type": "code",
   "execution_count": 63,
   "metadata": {},
   "outputs": [
    {
     "data": {
      "image/png": "[encoded data removed]",
      "text/plain": [
       "<Figure size 864x576 with 1 Axes>"
      ]
     },
     "metadata": {},
     "output_type": "display_data"
    },
    {
     "data": {
      "image/png": "[encoded data removed]",
      "text/plain": [
       "<Figure size 864x576 with 1 Axes>"
      ]
     },
     "metadata": {},
     "output_type": "display_data"
    },
    {
     "name": "stdout",
     "output_type": "stream",
     "text": [
      "              precision    recall  f1-score   support\n",
      "\n",
      "         0.0       1.00      1.00      1.00     42632\n",
      "         1.0       0.85      0.63      0.73        90\n",
      "\n",
      "    accuracy                           1.00     42722\n",
      "   macro avg       0.92      0.82      0.86     42722\n",
      "weighted avg       1.00      1.00      1.00     42722\n",
      "\n",
      " ------------------------------------------------ \n",
      "\n",
      "              precision    recall  f1-score   support\n",
      "\n",
      "         0.0       1.00      1.00      1.00     42632\n",
      "         1.0       0.85      0.64      0.73        90\n",
      "\n",
      "    accuracy                           1.00     42722\n",
      "   macro avg       0.93      0.82      0.87     42722\n",
      "weighted avg       1.00      1.00      1.00     42722\n",
      "\n",
      " ------------------------------------------------ \n",
      "\n",
      "              precision    recall  f1-score   support\n",
      "\n",
      "         0.0       1.00      1.00      1.00     42632\n",
      "         1.0       0.86      0.66      0.74        90\n",
      "\n",
      "    accuracy                           1.00     42722\n",
      "   macro avg       0.93      0.83      0.87     42722\n",
      "weighted avg       1.00      1.00      1.00     42722\n",
      "\n",
      " ------------------------------------------------ \n",
      "\n",
      "              precision    recall  f1-score   support\n",
      "\n",
      "         0.0       1.00      1.00      1.00     42632\n",
      "         1.0       0.85      0.64      0.73        90\n",
      "\n",
      "    accuracy                           1.00     42722\n",
      "   macro avg       0.93      0.82      0.87     42722\n",
      "weighted avg       1.00      1.00      1.00     42722\n",
      "\n",
      " ------------------------------------------------ \n",
      "\n",
      "              precision    recall  f1-score   support\n",
      "\n",
      "         0.0       1.00      1.00      1.00     42632\n",
      "         1.0       0.85      0.64      0.73        90\n",
      "\n",
      "    accuracy                           1.00     42722\n",
      "   macro avg       0.93      0.82      0.87     42722\n",
      "weighted avg       1.00      1.00      1.00     42722\n",
      "\n",
      " ------------------------------------------------ \n",
      "\n",
      "Confusion Matrix: \n",
      "[[42622    10]\n",
      " [   32    58]]\n"
     ]
    }
   ],
   "source": [
    "## Rename variables for easy reporting\n",
    "\n",
    "precision_score_SVM = prec[0,1]\n",
    "accuracy_score_SVM = acc[0,1]\n",
    "recall_score_SVM = recall[0,1]\n",
    "f1_score_SVM = f1[0,1]\n",
    "\n",
    "list_of_C = [0.01, 0.05, 0.25, 0.5, 0.9]\n",
    "\n",
    "\n",
    "## Plot the validation accuracy measures vs. C here (all data version)\n",
    "\n",
    "plt.figure(figsize=(12,8))\n",
    "\n",
    "plt.plot(list_of_C, (acc[0,:]),'b-o', label=\"Accuracy\")\n",
    "plt.plot(list_of_C, (prec[0,:]),'r-+', label=\"Precision\")\n",
    "plt.plot(list_of_C, (recall[0,:]),'g', label=\"Recall\",linestyle='dashed')\n",
    "\n",
    "\n",
    "plt.xticks(np.arange(0,1,.05))\n",
    "\n",
    "plt.xlabel(\"C value\", fontsize=16)\n",
    "plt.ylabel(\"Testing Accuracy Measures \\n (with all data points)\", fontsize=16)\n",
    "\n",
    "\n",
    "plt.legend()\n",
    "\n",
    "\n",
    "plt.show()\n",
    "\n",
    "## Plot the validation accuracy measures vs. C here (only 1's data version)\n",
    "\n",
    "plt.figure(figsize=(12,8))\n",
    "\n",
    "plt.plot(list_of_C, (acc[1,:]),'b-o', label=\"Accuracy\")\n",
    "plt.plot(list_of_C, (prec[1,:]),'r-+', label=\"Precision\")\n",
    "plt.plot(list_of_C, (recall[1,:]),'g', label=\"Recall\",linestyle='dashed')\n",
    "\n",
    "\n",
    "plt.xticks(np.arange(0,1,.05))\n",
    "\n",
    "plt.xlabel(\"C value\", fontsize=16)\n",
    "plt.ylabel(\"Testing Accuracy Measures \\n (with only 1 valued data points)\", fontsize=16)\n",
    "\n",
    "plt.legend()\n",
    "\n",
    "plt.show()\n",
    "\n",
    "\n",
    "\n",
    "\n",
    "## Print out a classification report for each C value\n",
    "\n",
    "from sklearn.metrics import classification_report\n",
    "\n",
    "for i in range(0,5):\n",
    "    print(classification_report(y_test,pred_array[:,i]))\n",
    "    print(' ------------------------------------------------ \\n')\n",
    "    \n",
    "    \n",
    "    \n",
    "    \n",
    "## Print the confusion matrix for C = 0.05 here\n",
    "\n",
    "from sklearn.metrics import confusion_matrix\n",
    "\n",
    "print(\"Confusion Matrix: \\n\" +str(confusion_matrix(y_test,pred_array[:,1])))\n"
   ]
  },
  {
   "cell_type": "code",
   "execution_count": 64,
   "metadata": {},
   "outputs": [
    {
     "name": "stdout",
     "output_type": "stream",
     "text": [
      "[[9.99186709e-01 8.13290736e-04]\n",
      " [9.99343472e-01 6.56527900e-04]\n",
      " [9.99207787e-01 7.92213316e-04]\n",
      " ...\n",
      " [9.99167516e-01 8.32484309e-04]\n",
      " [9.99483948e-01 5.16052092e-04]\n",
      " [9.99357055e-01 6.42945495e-04]]\n"
     ]
    },
    {
     "data": {
      "text/plain": [
       "<matplotlib.legend.Legend at 0x12c807c70>"
      ]
     },
     "execution_count": 64,
     "metadata": {},
     "output_type": "execute_result"
    },
    {
     "data": {
      "image/png": "[encoded data removed]",
      "text/plain": [
       "<Figure size 864x576 with 1 Axes>"
      ]
     },
     "metadata": {},
     "output_type": "display_data"
    }
   ],
   "source": [
    "## get the predictions of the probabilities of X_test\n",
    "y_pred_prob_test_SVM=SVM_model.predict_proba(X_test_transformed)\n",
    "print(y_pred_prob_test_SVM)\n",
    "\n",
    "# calculate precision-recall curve\n",
    "precision_SVM, recall_SVM, thresholds_SVM = precision_recall_curve(y_test, y_pred_prob_test_SVM[:,1])\n",
    "\n",
    "\n",
    "    \n",
    "\n",
    "\n",
    "PRauc_SVM= auc(recall_SVM, precision_SVM)\n",
    "#plot precision-recall curve\n",
    "plt.figure(figsize=(12,8))\n",
    "plt.plot( recall_SVM,precision_SVM, label='AUC SVM= '+str(np.around(PRauc_SVM,4)))\n",
    "plt.xlabel('Recall', fontsize = 14)\n",
    "plt.ylabel('Precision', fontsize = 14)\n",
    "plt.title('Precision-Recall Curve', fontsize = 18)\n",
    "plt.legend(loc = 'best')"
   ]
  },
  {
   "cell_type": "markdown",
   "metadata": {},
   "source": [
    "# Report"
   ]
  },
  {
   "cell_type": "code",
   "execution_count": 65,
   "metadata": {},
   "outputs": [
    {
     "name": "stdout",
     "output_type": "stream",
     "text": [
      "     Precision score  Recall score  f1 score  Accuracy score\n",
      "LR          0.864407      0.520408  0.649682        0.999034\n",
      "ANN         0.885714      0.968750  0.925373        0.923858\n",
      "SVM         0.852941      0.644444  0.734177        0.999017\n",
      "RF          1.000000      0.895833  0.945055        0.949239\n"
     ]
    }
   ],
   "source": [
    "#Report\n",
    "\n",
    "df_report = pd.DataFrame({ 'Precision score': [precision_score_LR, precision_score_ANN, precision_score_SVM, precision_score_RF],\n",
    "                   'Recall score': [recall_score_LR, recall_score_ANN, recall_score_SVM, recall_score_RF],\n",
    "                          'f1 score': [f1_score_LR, f1_score_ANN, f1_score_SVM, f1_score_RF],\n",
    "                          'Accuracy score': [accuracy_score_LR, accuracy_score_ANN , accuracy_score_SVM, accuracy_score_RF],\n",
    "                         },\n",
    "                  index=['LR','ANN', 'SVM', 'RF'])\n",
    "print(df_report)\n",
    "\n"
   ]
  },
  {
   "cell_type": "code",
   "execution_count": 66,
   "metadata": {},
   "outputs": [
    {
     "data": {
      "image/png": "[encoded data removed]",
      "text/plain": [
       "<Figure size 864x576 with 1 Axes>"
      ]
     },
     "metadata": {},
     "output_type": "display_data"
    }
   ],
   "source": [
    "#plot ROC with AUC\n",
    "plt.figure(figsize=(12,8))\n",
    "\n",
    "plt.plot(fpr_ANN,tpr_ANN,label='AUC ANN= '+str(np.around(auc_ANN,4)))\n",
    "plt.plot(fpr_LR,tpr_LR,label='AUC LR= '+str(np.around(auc_lR,4)))\n",
    "plt.plot(fpr_RF,tpr_RF,label='AUC RF= '+str(np.around(auc_RF,4)))\n",
    "plt.plot(fpr_SVM,tpr_SVM,label='AUC SVM= '+str(np.around(auc_SVM,4)))\n",
    "\n",
    "\n",
    "\n",
    "plt.xlabel(\"False Positive Rate\",fontsize=16)\n",
    "plt.ylabel(\"True Positive Rate\",fontsize=16)\n",
    "\n",
    "plt.title(\"ROC Curve\", fontsize=18)\n",
    "plt.xticks(fontsize=12)\n",
    "plt.yticks(fontsize=12)\n",
    "plt.legend(loc='best')\n",
    "plt.show()"
   ]
  },
  {
   "cell_type": "code",
   "execution_count": 68,
   "metadata": {},
   "outputs": [
    {
     "data": {
      "text/plain": [
       "<matplotlib.legend.Legend at 0x127130760>"
      ]
     },
     "execution_count": 68,
     "metadata": {},
     "output_type": "execute_result"
    },
    {
     "data": {
      "image/png": "[encoded data removed]",
      "text/plain": [
       "<Figure size 864x576 with 1 Axes>"
      ]
     },
     "metadata": {},
     "output_type": "display_data"
    }
   ],
   "source": [
    "#plot precision-recall curve\n",
    "\n",
    "plt.figure(figsize=(12,8))\n",
    "\n",
    "plt.plot( recall_LR,precision_LR, label='AUC LR= '+str(np.around(PRauc_LR,4)))\n",
    "plt.plot( recall_ANN,precision_ANN, label='AUC ANN= '+str(np.around(PRauc_ANN,4)))\n",
    "plt.plot( recall_RF, precision_RF,label='AUC RF= '+str(np.around(PRauc_RF,4)))\n",
    "plt.plot( recall_SVM,precision_SVM, label='AUC SVM= '+str(np.around(PRauc_SVM,4)))\n",
    "\n",
    "\n",
    "\n",
    "\n",
    "plt.xlabel('Recall', fontsize = 14)\n",
    "plt.ylabel('Precision', fontsize = 14)\n",
    "plt.title('Precision-Recall Curve', fontsize = 18)\n",
    "plt.legend(loc = 'best')\n",
    "\n",
    "\n",
    "\n"
   ]
  },
  {
   "cell_type": "code",
   "execution_count": null,
   "metadata": {},
   "outputs": [],
   "source": []
  }
 ],
 "metadata": {
  "kernelspec": {
   "display_name": "Python 3",
   "language": "python",
   "name": "python3"
  },
  "language_info": {
   "codemirror_mode": {
    "name": "ipython",
    "version": 3
   },
   "file_extension": ".py",
   "mimetype": "text/x-python",
   "name": "python",
   "nbconvert_exporter": "python",
   "pygments_lexer": "ipython3",
   "version": "3.8.5"
  }
 },
 "nbformat": 4,
 "nbformat_minor": 4
}

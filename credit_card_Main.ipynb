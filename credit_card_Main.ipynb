{
 "cells": [
  {
   "cell_type": "markdown",
   "metadata": {},
   "source": [
    "# About the dataset"
   ]
  },
  {
   "cell_type": "code",
   "execution_count": 1,
   "metadata": {},
   "outputs": [],
   "source": [
    "import pandas as pd\n",
    "import numpy as np\n",
    "import seaborn as sns\n",
    "import matplotlib.pyplot as plt\n",
    "sns.set_style(\"whitegrid\")"
   ]
  },
  {
   "cell_type": "code",
   "execution_count": 2,
   "metadata": {},
   "outputs": [
    {
     "name": "stdout",
     "output_type": "stream",
     "text": [
      "There are 284807 observations in the data set.\n",
      "The columns are Index(['Time', 'V1', 'V2', 'V3', 'V4', 'V5', 'V6', 'V7', 'V8', 'V9', 'V10',\n",
      "       'V11', 'V12', 'V13', 'V14', 'V15', 'V16', 'V17', 'V18', 'V19', 'V20',\n",
      "       'V21', 'V22', 'V23', 'V24', 'V25', 'V26', 'V27', 'V28', 'Amount',\n",
      "       'Class'],\n",
      "      dtype='object')\n"
     ]
    }
   ],
   "source": [
    "#read the database\n",
    "df=pd.read_csv(\"creditcard.csv\")\n",
    "#information about the database\n",
    "print(\"There are\", len(df), \"observations in the data set.\")\n",
    "print(\"The columns are\", df.columns)\n"
   ]
  },
  {
   "cell_type": "code",
   "execution_count": 3,
   "metadata": {},
   "outputs": [
    {
     "data": {
      "text/html": [
       "<div>\n",
       "<style scoped>\n",
       "    .dataframe tbody tr th:only-of-type {\n",
       "        vertical-align: middle;\n",
       "    }\n",
       "\n",
       "    .dataframe tbody tr th {\n",
       "        vertical-align: top;\n",
       "    }\n",
       "\n",
       "    .dataframe thead th {\n",
       "        text-align: right;\n",
       "    }\n",
       "</style>\n",
       "<table border=\"1\" class=\"dataframe\">\n",
       "  <thead>\n",
       "    <tr style=\"text-align: right;\">\n",
       "      <th></th>\n",
       "      <th>Time</th>\n",
       "      <th>V1</th>\n",
       "      <th>V2</th>\n",
       "      <th>V3</th>\n",
       "      <th>V4</th>\n",
       "      <th>V5</th>\n",
       "      <th>V6</th>\n",
       "      <th>V7</th>\n",
       "      <th>V8</th>\n",
       "      <th>V9</th>\n",
       "      <th>...</th>\n",
       "      <th>V21</th>\n",
       "      <th>V22</th>\n",
       "      <th>V23</th>\n",
       "      <th>V24</th>\n",
       "      <th>V25</th>\n",
       "      <th>V26</th>\n",
       "      <th>V27</th>\n",
       "      <th>V28</th>\n",
       "      <th>Amount</th>\n",
       "      <th>Class</th>\n",
       "    </tr>\n",
       "  </thead>\n",
       "  <tbody>\n",
       "    <tr>\n",
       "      <th>0</th>\n",
       "      <td>0.0</td>\n",
       "      <td>-1.359807</td>\n",
       "      <td>-0.072781</td>\n",
       "      <td>2.536347</td>\n",
       "      <td>1.378155</td>\n",
       "      <td>-0.338321</td>\n",
       "      <td>0.462388</td>\n",
       "      <td>0.239599</td>\n",
       "      <td>0.098698</td>\n",
       "      <td>0.363787</td>\n",
       "      <td>...</td>\n",
       "      <td>-0.018307</td>\n",
       "      <td>0.277838</td>\n",
       "      <td>-0.110474</td>\n",
       "      <td>0.066928</td>\n",
       "      <td>0.128539</td>\n",
       "      <td>-0.189115</td>\n",
       "      <td>0.133558</td>\n",
       "      <td>-0.021053</td>\n",
       "      <td>149.62</td>\n",
       "      <td>0</td>\n",
       "    </tr>\n",
       "    <tr>\n",
       "      <th>1</th>\n",
       "      <td>0.0</td>\n",
       "      <td>1.191857</td>\n",
       "      <td>0.266151</td>\n",
       "      <td>0.166480</td>\n",
       "      <td>0.448154</td>\n",
       "      <td>0.060018</td>\n",
       "      <td>-0.082361</td>\n",
       "      <td>-0.078803</td>\n",
       "      <td>0.085102</td>\n",
       "      <td>-0.255425</td>\n",
       "      <td>...</td>\n",
       "      <td>-0.225775</td>\n",
       "      <td>-0.638672</td>\n",
       "      <td>0.101288</td>\n",
       "      <td>-0.339846</td>\n",
       "      <td>0.167170</td>\n",
       "      <td>0.125895</td>\n",
       "      <td>-0.008983</td>\n",
       "      <td>0.014724</td>\n",
       "      <td>2.69</td>\n",
       "      <td>0</td>\n",
       "    </tr>\n",
       "    <tr>\n",
       "      <th>2</th>\n",
       "      <td>1.0</td>\n",
       "      <td>-1.358354</td>\n",
       "      <td>-1.340163</td>\n",
       "      <td>1.773209</td>\n",
       "      <td>0.379780</td>\n",
       "      <td>-0.503198</td>\n",
       "      <td>1.800499</td>\n",
       "      <td>0.791461</td>\n",
       "      <td>0.247676</td>\n",
       "      <td>-1.514654</td>\n",
       "      <td>...</td>\n",
       "      <td>0.247998</td>\n",
       "      <td>0.771679</td>\n",
       "      <td>0.909412</td>\n",
       "      <td>-0.689281</td>\n",
       "      <td>-0.327642</td>\n",
       "      <td>-0.139097</td>\n",
       "      <td>-0.055353</td>\n",
       "      <td>-0.059752</td>\n",
       "      <td>378.66</td>\n",
       "      <td>0</td>\n",
       "    </tr>\n",
       "    <tr>\n",
       "      <th>3</th>\n",
       "      <td>1.0</td>\n",
       "      <td>-0.966272</td>\n",
       "      <td>-0.185226</td>\n",
       "      <td>1.792993</td>\n",
       "      <td>-0.863291</td>\n",
       "      <td>-0.010309</td>\n",
       "      <td>1.247203</td>\n",
       "      <td>0.237609</td>\n",
       "      <td>0.377436</td>\n",
       "      <td>-1.387024</td>\n",
       "      <td>...</td>\n",
       "      <td>-0.108300</td>\n",
       "      <td>0.005274</td>\n",
       "      <td>-0.190321</td>\n",
       "      <td>-1.175575</td>\n",
       "      <td>0.647376</td>\n",
       "      <td>-0.221929</td>\n",
       "      <td>0.062723</td>\n",
       "      <td>0.061458</td>\n",
       "      <td>123.50</td>\n",
       "      <td>0</td>\n",
       "    </tr>\n",
       "    <tr>\n",
       "      <th>4</th>\n",
       "      <td>2.0</td>\n",
       "      <td>-1.158233</td>\n",
       "      <td>0.877737</td>\n",
       "      <td>1.548718</td>\n",
       "      <td>0.403034</td>\n",
       "      <td>-0.407193</td>\n",
       "      <td>0.095921</td>\n",
       "      <td>0.592941</td>\n",
       "      <td>-0.270533</td>\n",
       "      <td>0.817739</td>\n",
       "      <td>...</td>\n",
       "      <td>-0.009431</td>\n",
       "      <td>0.798278</td>\n",
       "      <td>-0.137458</td>\n",
       "      <td>0.141267</td>\n",
       "      <td>-0.206010</td>\n",
       "      <td>0.502292</td>\n",
       "      <td>0.219422</td>\n",
       "      <td>0.215153</td>\n",
       "      <td>69.99</td>\n",
       "      <td>0</td>\n",
       "    </tr>\n",
       "  </tbody>\n",
       "</table>\n",
       "<p>5 rows × 31 columns</p>\n",
       "</div>"
      ],
      "text/plain": [
       "   Time        V1        V2        V3        V4        V5        V6        V7  \\\n",
       "0   0.0 -1.359807 -0.072781  2.536347  1.378155 -0.338321  0.462388  0.239599   \n",
       "1   0.0  1.191857  0.266151  0.166480  0.448154  0.060018 -0.082361 -0.078803   \n",
       "2   1.0 -1.358354 -1.340163  1.773209  0.379780 -0.503198  1.800499  0.791461   \n",
       "3   1.0 -0.966272 -0.185226  1.792993 -0.863291 -0.010309  1.247203  0.237609   \n",
       "4   2.0 -1.158233  0.877737  1.548718  0.403034 -0.407193  0.095921  0.592941   \n",
       "\n",
       "         V8        V9  ...       V21       V22       V23       V24       V25  \\\n",
       "0  0.098698  0.363787  ... -0.018307  0.277838 -0.110474  0.066928  0.128539   \n",
       "1  0.085102 -0.255425  ... -0.225775 -0.638672  0.101288 -0.339846  0.167170   \n",
       "2  0.247676 -1.514654  ...  0.247998  0.771679  0.909412 -0.689281 -0.327642   \n",
       "3  0.377436 -1.387024  ... -0.108300  0.005274 -0.190321 -1.175575  0.647376   \n",
       "4 -0.270533  0.817739  ... -0.009431  0.798278 -0.137458  0.141267 -0.206010   \n",
       "\n",
       "        V26       V27       V28  Amount  Class  \n",
       "0 -0.189115  0.133558 -0.021053  149.62      0  \n",
       "1  0.125895 -0.008983  0.014724    2.69      0  \n",
       "2 -0.139097 -0.055353 -0.059752  378.66      0  \n",
       "3 -0.221929  0.062723  0.061458  123.50      0  \n",
       "4  0.502292  0.219422  0.215153   69.99      0  \n",
       "\n",
       "[5 rows x 31 columns]"
      ]
     },
     "execution_count": 3,
     "metadata": {},
     "output_type": "execute_result"
    }
   ],
   "source": [
    "df.head()"
   ]
  },
  {
   "cell_type": "code",
   "execution_count": 4,
   "metadata": {},
   "outputs": [
    {
     "data": {
      "text/plain": [
       "Time      float64\n",
       "V1        float64\n",
       "V2        float64\n",
       "V3        float64\n",
       "V4        float64\n",
       "V5        float64\n",
       "V6        float64\n",
       "V7        float64\n",
       "V8        float64\n",
       "V9        float64\n",
       "V10       float64\n",
       "V11       float64\n",
       "V12       float64\n",
       "V13       float64\n",
       "V14       float64\n",
       "V15       float64\n",
       "V16       float64\n",
       "V17       float64\n",
       "V18       float64\n",
       "V19       float64\n",
       "V20       float64\n",
       "V21       float64\n",
       "V22       float64\n",
       "V23       float64\n",
       "V24       float64\n",
       "V25       float64\n",
       "V26       float64\n",
       "V27       float64\n",
       "V28       float64\n",
       "Amount    float64\n",
       "Class       int64\n",
       "dtype: object"
      ]
     },
     "execution_count": 4,
     "metadata": {},
     "output_type": "execute_result"
    }
   ],
   "source": [
    "#the type of each column\n",
    "df.dtypes"
   ]
  },
  {
   "cell_type": "code",
   "execution_count": 5,
   "metadata": {},
   "outputs": [
    {
     "data": {
      "text/plain": [
       "(284807, 31)"
      ]
     },
     "execution_count": 5,
     "metadata": {},
     "output_type": "execute_result"
    }
   ],
   "source": [
    "#the shape of the database\n",
    "df.shape"
   ]
  },
  {
   "cell_type": "code",
   "execution_count": 6,
   "metadata": {},
   "outputs": [
    {
     "data": {
      "text/html": [
       "<div>\n",
       "<style scoped>\n",
       "    .dataframe tbody tr th:only-of-type {\n",
       "        vertical-align: middle;\n",
       "    }\n",
       "\n",
       "    .dataframe tbody tr th {\n",
       "        vertical-align: top;\n",
       "    }\n",
       "\n",
       "    .dataframe thead th {\n",
       "        text-align: right;\n",
       "    }\n",
       "</style>\n",
       "<table border=\"1\" class=\"dataframe\">\n",
       "  <thead>\n",
       "    <tr style=\"text-align: right;\">\n",
       "      <th></th>\n",
       "      <th>Time</th>\n",
       "      <th>V1</th>\n",
       "      <th>V2</th>\n",
       "      <th>V3</th>\n",
       "      <th>V4</th>\n",
       "      <th>V5</th>\n",
       "      <th>V6</th>\n",
       "      <th>V7</th>\n",
       "      <th>V8</th>\n",
       "      <th>V9</th>\n",
       "      <th>...</th>\n",
       "      <th>V21</th>\n",
       "      <th>V22</th>\n",
       "      <th>V23</th>\n",
       "      <th>V24</th>\n",
       "      <th>V25</th>\n",
       "      <th>V26</th>\n",
       "      <th>V27</th>\n",
       "      <th>V28</th>\n",
       "      <th>Amount</th>\n",
       "      <th>Class</th>\n",
       "    </tr>\n",
       "  </thead>\n",
       "  <tbody>\n",
       "    <tr>\n",
       "      <th>count</th>\n",
       "      <td>284807.000000</td>\n",
       "      <td>2.848070e+05</td>\n",
       "      <td>2.848070e+05</td>\n",
       "      <td>2.848070e+05</td>\n",
       "      <td>2.848070e+05</td>\n",
       "      <td>2.848070e+05</td>\n",
       "      <td>2.848070e+05</td>\n",
       "      <td>2.848070e+05</td>\n",
       "      <td>2.848070e+05</td>\n",
       "      <td>2.848070e+05</td>\n",
       "      <td>...</td>\n",
       "      <td>2.848070e+05</td>\n",
       "      <td>2.848070e+05</td>\n",
       "      <td>2.848070e+05</td>\n",
       "      <td>2.848070e+05</td>\n",
       "      <td>2.848070e+05</td>\n",
       "      <td>2.848070e+05</td>\n",
       "      <td>2.848070e+05</td>\n",
       "      <td>2.848070e+05</td>\n",
       "      <td>284807.000000</td>\n",
       "      <td>284807.000000</td>\n",
       "    </tr>\n",
       "    <tr>\n",
       "      <th>mean</th>\n",
       "      <td>94813.859575</td>\n",
       "      <td>3.919560e-15</td>\n",
       "      <td>5.688174e-16</td>\n",
       "      <td>-8.769071e-15</td>\n",
       "      <td>2.782312e-15</td>\n",
       "      <td>-1.552563e-15</td>\n",
       "      <td>2.010663e-15</td>\n",
       "      <td>-1.694249e-15</td>\n",
       "      <td>-1.927028e-16</td>\n",
       "      <td>-3.137024e-15</td>\n",
       "      <td>...</td>\n",
       "      <td>1.537294e-16</td>\n",
       "      <td>7.959909e-16</td>\n",
       "      <td>5.367590e-16</td>\n",
       "      <td>4.458112e-15</td>\n",
       "      <td>1.453003e-15</td>\n",
       "      <td>1.699104e-15</td>\n",
       "      <td>-3.660161e-16</td>\n",
       "      <td>-1.206049e-16</td>\n",
       "      <td>88.349619</td>\n",
       "      <td>0.001727</td>\n",
       "    </tr>\n",
       "    <tr>\n",
       "      <th>std</th>\n",
       "      <td>47488.145955</td>\n",
       "      <td>1.958696e+00</td>\n",
       "      <td>1.651309e+00</td>\n",
       "      <td>1.516255e+00</td>\n",
       "      <td>1.415869e+00</td>\n",
       "      <td>1.380247e+00</td>\n",
       "      <td>1.332271e+00</td>\n",
       "      <td>1.237094e+00</td>\n",
       "      <td>1.194353e+00</td>\n",
       "      <td>1.098632e+00</td>\n",
       "      <td>...</td>\n",
       "      <td>7.345240e-01</td>\n",
       "      <td>7.257016e-01</td>\n",
       "      <td>6.244603e-01</td>\n",
       "      <td>6.056471e-01</td>\n",
       "      <td>5.212781e-01</td>\n",
       "      <td>4.822270e-01</td>\n",
       "      <td>4.036325e-01</td>\n",
       "      <td>3.300833e-01</td>\n",
       "      <td>250.120109</td>\n",
       "      <td>0.041527</td>\n",
       "    </tr>\n",
       "    <tr>\n",
       "      <th>min</th>\n",
       "      <td>0.000000</td>\n",
       "      <td>-5.640751e+01</td>\n",
       "      <td>-7.271573e+01</td>\n",
       "      <td>-4.832559e+01</td>\n",
       "      <td>-5.683171e+00</td>\n",
       "      <td>-1.137433e+02</td>\n",
       "      <td>-2.616051e+01</td>\n",
       "      <td>-4.355724e+01</td>\n",
       "      <td>-7.321672e+01</td>\n",
       "      <td>-1.343407e+01</td>\n",
       "      <td>...</td>\n",
       "      <td>-3.483038e+01</td>\n",
       "      <td>-1.093314e+01</td>\n",
       "      <td>-4.480774e+01</td>\n",
       "      <td>-2.836627e+00</td>\n",
       "      <td>-1.029540e+01</td>\n",
       "      <td>-2.604551e+00</td>\n",
       "      <td>-2.256568e+01</td>\n",
       "      <td>-1.543008e+01</td>\n",
       "      <td>0.000000</td>\n",
       "      <td>0.000000</td>\n",
       "    </tr>\n",
       "    <tr>\n",
       "      <th>25%</th>\n",
       "      <td>54201.500000</td>\n",
       "      <td>-9.203734e-01</td>\n",
       "      <td>-5.985499e-01</td>\n",
       "      <td>-8.903648e-01</td>\n",
       "      <td>-8.486401e-01</td>\n",
       "      <td>-6.915971e-01</td>\n",
       "      <td>-7.682956e-01</td>\n",
       "      <td>-5.540759e-01</td>\n",
       "      <td>-2.086297e-01</td>\n",
       "      <td>-6.430976e-01</td>\n",
       "      <td>...</td>\n",
       "      <td>-2.283949e-01</td>\n",
       "      <td>-5.423504e-01</td>\n",
       "      <td>-1.618463e-01</td>\n",
       "      <td>-3.545861e-01</td>\n",
       "      <td>-3.171451e-01</td>\n",
       "      <td>-3.269839e-01</td>\n",
       "      <td>-7.083953e-02</td>\n",
       "      <td>-5.295979e-02</td>\n",
       "      <td>5.600000</td>\n",
       "      <td>0.000000</td>\n",
       "    </tr>\n",
       "    <tr>\n",
       "      <th>50%</th>\n",
       "      <td>84692.000000</td>\n",
       "      <td>1.810880e-02</td>\n",
       "      <td>6.548556e-02</td>\n",
       "      <td>1.798463e-01</td>\n",
       "      <td>-1.984653e-02</td>\n",
       "      <td>-5.433583e-02</td>\n",
       "      <td>-2.741871e-01</td>\n",
       "      <td>4.010308e-02</td>\n",
       "      <td>2.235804e-02</td>\n",
       "      <td>-5.142873e-02</td>\n",
       "      <td>...</td>\n",
       "      <td>-2.945017e-02</td>\n",
       "      <td>6.781943e-03</td>\n",
       "      <td>-1.119293e-02</td>\n",
       "      <td>4.097606e-02</td>\n",
       "      <td>1.659350e-02</td>\n",
       "      <td>-5.213911e-02</td>\n",
       "      <td>1.342146e-03</td>\n",
       "      <td>1.124383e-02</td>\n",
       "      <td>22.000000</td>\n",
       "      <td>0.000000</td>\n",
       "    </tr>\n",
       "    <tr>\n",
       "      <th>75%</th>\n",
       "      <td>139320.500000</td>\n",
       "      <td>1.315642e+00</td>\n",
       "      <td>8.037239e-01</td>\n",
       "      <td>1.027196e+00</td>\n",
       "      <td>7.433413e-01</td>\n",
       "      <td>6.119264e-01</td>\n",
       "      <td>3.985649e-01</td>\n",
       "      <td>5.704361e-01</td>\n",
       "      <td>3.273459e-01</td>\n",
       "      <td>5.971390e-01</td>\n",
       "      <td>...</td>\n",
       "      <td>1.863772e-01</td>\n",
       "      <td>5.285536e-01</td>\n",
       "      <td>1.476421e-01</td>\n",
       "      <td>4.395266e-01</td>\n",
       "      <td>3.507156e-01</td>\n",
       "      <td>2.409522e-01</td>\n",
       "      <td>9.104512e-02</td>\n",
       "      <td>7.827995e-02</td>\n",
       "      <td>77.165000</td>\n",
       "      <td>0.000000</td>\n",
       "    </tr>\n",
       "    <tr>\n",
       "      <th>max</th>\n",
       "      <td>172792.000000</td>\n",
       "      <td>2.454930e+00</td>\n",
       "      <td>2.205773e+01</td>\n",
       "      <td>9.382558e+00</td>\n",
       "      <td>1.687534e+01</td>\n",
       "      <td>3.480167e+01</td>\n",
       "      <td>7.330163e+01</td>\n",
       "      <td>1.205895e+02</td>\n",
       "      <td>2.000721e+01</td>\n",
       "      <td>1.559499e+01</td>\n",
       "      <td>...</td>\n",
       "      <td>2.720284e+01</td>\n",
       "      <td>1.050309e+01</td>\n",
       "      <td>2.252841e+01</td>\n",
       "      <td>4.584549e+00</td>\n",
       "      <td>7.519589e+00</td>\n",
       "      <td>3.517346e+00</td>\n",
       "      <td>3.161220e+01</td>\n",
       "      <td>3.384781e+01</td>\n",
       "      <td>25691.160000</td>\n",
       "      <td>1.000000</td>\n",
       "    </tr>\n",
       "  </tbody>\n",
       "</table>\n",
       "<p>8 rows × 31 columns</p>\n",
       "</div>"
      ],
      "text/plain": [
       "                Time            V1            V2            V3            V4  \\\n",
       "count  284807.000000  2.848070e+05  2.848070e+05  2.848070e+05  2.848070e+05   \n",
       "mean    94813.859575  3.919560e-15  5.688174e-16 -8.769071e-15  2.782312e-15   \n",
       "std     47488.145955  1.958696e+00  1.651309e+00  1.516255e+00  1.415869e+00   \n",
       "min         0.000000 -5.640751e+01 -7.271573e+01 -4.832559e+01 -5.683171e+00   \n",
       "25%     54201.500000 -9.203734e-01 -5.985499e-01 -8.903648e-01 -8.486401e-01   \n",
       "50%     84692.000000  1.810880e-02  6.548556e-02  1.798463e-01 -1.984653e-02   \n",
       "75%    139320.500000  1.315642e+00  8.037239e-01  1.027196e+00  7.433413e-01   \n",
       "max    172792.000000  2.454930e+00  2.205773e+01  9.382558e+00  1.687534e+01   \n",
       "\n",
       "                 V5            V6            V7            V8            V9  \\\n",
       "count  2.848070e+05  2.848070e+05  2.848070e+05  2.848070e+05  2.848070e+05   \n",
       "mean  -1.552563e-15  2.010663e-15 -1.694249e-15 -1.927028e-16 -3.137024e-15   \n",
       "std    1.380247e+00  1.332271e+00  1.237094e+00  1.194353e+00  1.098632e+00   \n",
       "min   -1.137433e+02 -2.616051e+01 -4.355724e+01 -7.321672e+01 -1.343407e+01   \n",
       "25%   -6.915971e-01 -7.682956e-01 -5.540759e-01 -2.086297e-01 -6.430976e-01   \n",
       "50%   -5.433583e-02 -2.741871e-01  4.010308e-02  2.235804e-02 -5.142873e-02   \n",
       "75%    6.119264e-01  3.985649e-01  5.704361e-01  3.273459e-01  5.971390e-01   \n",
       "max    3.480167e+01  7.330163e+01  1.205895e+02  2.000721e+01  1.559499e+01   \n",
       "\n",
       "       ...           V21           V22           V23           V24  \\\n",
       "count  ...  2.848070e+05  2.848070e+05  2.848070e+05  2.848070e+05   \n",
       "mean   ...  1.537294e-16  7.959909e-16  5.367590e-16  4.458112e-15   \n",
       "std    ...  7.345240e-01  7.257016e-01  6.244603e-01  6.056471e-01   \n",
       "min    ... -3.483038e+01 -1.093314e+01 -4.480774e+01 -2.836627e+00   \n",
       "25%    ... -2.283949e-01 -5.423504e-01 -1.618463e-01 -3.545861e-01   \n",
       "50%    ... -2.945017e-02  6.781943e-03 -1.119293e-02  4.097606e-02   \n",
       "75%    ...  1.863772e-01  5.285536e-01  1.476421e-01  4.395266e-01   \n",
       "max    ...  2.720284e+01  1.050309e+01  2.252841e+01  4.584549e+00   \n",
       "\n",
       "                V25           V26           V27           V28         Amount  \\\n",
       "count  2.848070e+05  2.848070e+05  2.848070e+05  2.848070e+05  284807.000000   \n",
       "mean   1.453003e-15  1.699104e-15 -3.660161e-16 -1.206049e-16      88.349619   \n",
       "std    5.212781e-01  4.822270e-01  4.036325e-01  3.300833e-01     250.120109   \n",
       "min   -1.029540e+01 -2.604551e+00 -2.256568e+01 -1.543008e+01       0.000000   \n",
       "25%   -3.171451e-01 -3.269839e-01 -7.083953e-02 -5.295979e-02       5.600000   \n",
       "50%    1.659350e-02 -5.213911e-02  1.342146e-03  1.124383e-02      22.000000   \n",
       "75%    3.507156e-01  2.409522e-01  9.104512e-02  7.827995e-02      77.165000   \n",
       "max    7.519589e+00  3.517346e+00  3.161220e+01  3.384781e+01   25691.160000   \n",
       "\n",
       "               Class  \n",
       "count  284807.000000  \n",
       "mean        0.001727  \n",
       "std         0.041527  \n",
       "min         0.000000  \n",
       "25%         0.000000  \n",
       "50%         0.000000  \n",
       "75%         0.000000  \n",
       "max         1.000000  \n",
       "\n",
       "[8 rows x 31 columns]"
      ]
     },
     "execution_count": 6,
     "metadata": {},
     "output_type": "execute_result"
    }
   ],
   "source": [
    "#Information of the database\n",
    "df.describe()"
   ]
  },
  {
   "cell_type": "code",
   "execution_count": 7,
   "metadata": {},
   "outputs": [
    {
     "data": {
      "text/plain": [
       "False"
      ]
     },
     "execution_count": 7,
     "metadata": {},
     "output_type": "execute_result"
    }
   ],
   "source": [
    "#Check if there a null value in the database\n",
    "df.isnull().values.any()"
   ]
  },
  {
   "cell_type": "markdown",
   "metadata": {},
   "source": [
    "# Data visualization "
   ]
  },
  {
   "cell_type": "code",
   "execution_count": 8,
   "metadata": {},
   "outputs": [
    {
     "data": {
      "text/plain": [
       "0    284315\n",
       "1       492\n",
       "Name: Class, dtype: int64"
      ]
     },
     "execution_count": 8,
     "metadata": {},
     "output_type": "execute_result"
    }
   ],
   "source": [
    "#check how many classes that we have and what is the value of each class.\n",
    "df[\"Class\"].value_counts()"
   ]
  },
  {
   "cell_type": "code",
   "execution_count": 9,
   "metadata": {},
   "outputs": [
    {
     "data": {
      "text/plain": [
       "Text(0, 0.5, 'Frequency')"
      ]
     },
     "execution_count": 9,
     "metadata": {},
     "output_type": "execute_result"
    },
    {
     "data": {
      "image/png": "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\n",
      "text/plain": [
       "<Figure size 648x576 with 1 Axes>"
      ]
     },
     "metadata": {},
     "output_type": "display_data"
    }
   ],
   "source": [
    "#plot the classes\n",
    "plt.figure(figsize = (9,8))\n",
    "df[\"Class\"].value_counts().plot(kind='bar')\n",
    "plt.title(\"Transaction Class Distribution\")\n",
    "\n",
    "plt.xticks(range(2),  [\"Normal\", \"Fraud\"])\n",
    "\n",
    "plt.xlabel(\"Class\")\n",
    "\n",
    "plt.ylabel(\"Frequency\")"
   ]
  },
  {
   "cell_type": "code",
   "execution_count": 10,
   "metadata": {},
   "outputs": [
    {
     "data": {
      "text/plain": [
       "<seaborn.axisgrid.FacetGrid at 0x11c4c71c0>"
      ]
     },
     "execution_count": 10,
     "metadata": {},
     "output_type": "execute_result"
    },
    {
     "data": {
      "image/png": "iVBORw0KGgoAAAANSUhEUgAAAZcAAAFtCAYAAADLbydyAAAAOXRFWHRTb2Z0d2FyZQBNYXRwbG90bGliIHZlcnNpb24zLjMuMiwgaHR0cHM6Ly9tYXRwbG90bGliLm9yZy8vihELAAAACXBIWXMAAAsTAAALEwEAmpwYAADahklEQVR4nOzdd3xV9f348ddZd9+b3Oy9IEDYUxABt7ite9RRZ5fY6k9r9WttrbWtrdpWrFptq63WWfeou4IDZO8EQhJC9k7uvves3x83BmIwoAUFPM9H0d5zx/l8TvC+8zmfz+f9FkzTNLFYLBaLZS8Sv+4GWCwWi+XgYwUXi8Visex1VnCxWCwWy15nBReLxWKx7HVWcLFYLBbLXveNDC7V1dVf6n3btm3buw35mh1s/QGrTwcKq08Hv29kcNE07Uu9LxqN7uWWfL0Otv6A1acDhdWng983MrhYLBaLZd+ygovFYrFY9joruFgsFotlr7OCi8VisVj2Oiu4WCwWi2Wvs4KLxWKxWPY6K7hYLBaLZa+T99UHr127lrvuuovHHnuMa6+9ls7OTgCampqYNGkSf/jDH/jVr37FqlWrcLvdANx///0oisINN9xAV1cXbrebO++8k7S0NNasWcMdd9yBJEnMmTOHq6++GoD77ruP999/H1mWufnmm5k4ceK+6pLFYrFY9tA+CS4PP/wwL7/8Mk6nE4A//OEPAPT19XHxxRdz0003AbBx40b++te/kpaWNvDeRx55hFGjRrFgwQJee+017r//fm655RZ+/vOfs3DhQgoLC7nqqqvYuHEjAMuWLePZZ5+lpaWFBQsW8Nxzz+2LLlksFovlC9gnwaWoqIiFCxfyk5/8ZNDxhQsXcuGFF5KVlYVhGNTX13PrrbfS2dnJWWedxVlnncXKlSu54oorAJg3bx73338/oVCIRCJBUVERAHPmzGHJkiXYbDbmzJmDIAjk5eWh6zrd3d2DgtWuxONxKisr97g/DoeD/Px8iouLaW5uJhaLYZomiUQCAFEUMQzji1yi/UIsFvtC1+FAYPXpwGD1afcqKir22md9HfZJcJk/fz6NjY2DjnV1dbFkyZKBUUskEuHCCy/k0ksvRdd1Lr74YsaPH08oFMLr9QLgdrsJBoOEQiE8Hs/AZ7ndbhoaGrDb7aSmpg46HgwGdxtc7Hb7Hv/g1jX0sLYlSOOWWorT3Syt7SIvxcmM0jRUDFIcMkvrusn0Oklz2/C7FHJ8TgwTsn12BAHqOsNEVZ2iNBdpbvsenferUFlZecD/Bf6syspKRo0eg6Yb2BXp627OXnGw/pysPh3c9tmcy2e98cYbnHzyyUhS8j94p9PJxRdfPHDrbNasWVRVVeHxeAiHwwCEw2F8Pt+gYzsfVxRlyPFPA9Pe0NAV4vnVzTy/qpHL55Zxw7/XDTznWyrzi1PG0RWO43fauPG59Rw7Nhu3TWJCfgodoTh2SSShGzz0QR26YTIm28sfz5vMmFzfXmujZbAeMYX/98waajvDXHBIEUdXZJHpdXzdzbJYvnG+stViS5YsYd68eQOPt23bxgUXXICu66iqyqpVqxg3bhxTp05l0aJFACxevJhp06bh8XhQFIXt27djmiYffvgh06dPZ+rUqXz44YcYhkFzczOGYex21PJFNPfFeWxpPceMzebfKxsGPReIavRGVF5d20Ke34EgwNub2ijNcBPTdBKaidep8MCiWnTDBKCqLcjdb2+mpiO4x22o6wzzytpmnl3RwIamPkzTHPS8qhusrO/mgfe38vjSeja37vlnH2w2twa4/PF1vLimmXWNffz0+fU8u6Jx92+0WCx73Vc2cqmrq6OwsHDg8YgRIzjllFM455xzUBSF0047jfLycgoKCrjxxhs5//zzURSFu+++G4DbbruN66+/Hl3XmTNnDpMmTQJg+vTpnHvuuRiGwa233rpX22yYJoZpIosiqmYOeV43TEJxDd0wEQUB3TSTf1STre1BSjNcQ97zSW03/1nfyoWz7KS6bMOef2t7kAv/9gmtfXEAbJLIv66cyYySHQH0k9ouLv77MvrjF6kuhaevOpTROXtvBHeg2NQSIKrqg449uKiG06fmk5vi/JpaZbF8M+2z4FJQUMAzzzwz8Pi1114b8porr7ySK6+8ctAxp9PJvffeO+S1kydPHvR5n1qwYAELFizYCy0eKtdn56QJubxX1cbZ0wp5YFHNwHN2WSQv1cGRY7LQDRPdMMnxOQhENcoy3ZRmeohrQyf5x+WlsKS2i8mFqXSGEmR47IzN8+5yLmZJTddAYAFI6Ab3vVfNQxdNx65ItPRF+cM71QOBBaA3orK0tusbGVxkcehA3CaLSKLwNbTGYvlm+8pGLgeiLLfM5XNKGJ3tpSsS5+YTx/DmhjZyUx2cOTWf1r4Y04v93PVmFYePyuTYimy8Dol3Ktso8LtZ19jHKRNzeWVdCwAZHhvHjs3mN/+pZGqRn4XvbQXg1Em5XDCziLJMD1k7zQ+09sWGtKmxJ8q2rjCpLhtPL2ugN5IY8pq+qLqPrsj+bVyejwyPjc7Qjmty/XGjB11Ti8Xy1bCCy3AEKE9zUHFYIX1xE5sEZ0zORTOhL6pRnO5EM0x+dtI4BAEEAVr74pw+tYAtrUGmFueS0HQOKUujIxgnktD5/ZubuXhWMW9vahs4zctrWxiZ5eWO1yq57/ypFGckN5XOHpnBn9+vGdSko8Zk84e3t3DWtEIe+Xgb355ZxP07vUYQ4NCy9K/m+uxnyjI9PHjuOJY3RanvCnPs2GwOKdl7c3AWi2XPWelfhmMmv6wRBNLdCl5H8o/bJpHhUZBFEbdNwqGIOG0ikiSS5bPjUiRG5XiobAkgCiKbW4PIoohDkfjdWRNp6o1S9ZmJd1U3WN8UYFF1x8CxKUWp/Ob0CeSnOvE5ZS4+tJjucJw3N7XRGYrTF1Wp6wzzgyNGUJLuYkJ+Cg9dNI1JhSlf8YXaf7i1Pr5/xAh+e+ZEjq7IxutUvu4mWSzfSNbIZRgmZjK4fGaFlmEABtgkgZ6wiiyJRFQdmyQQTmg09kQpTnMNLEku8rvoi2lUNvdS5HcOmkeB5ES93D8vUNWyI+i4bDIFfieHjczAZUvebmvsiTIuz0eWz44owH82tOJ3Kcwtz2R0tod55ZnY5INjf4fFYjlwWSOXYQgIQ5b+aoYBgokIhOI6GV4bggBRVSehm7gUkRGZbuKajssm4lJktrSHCERVppek8/jS7fzgyBEDt2sK/E5+cvxonlqeXOo8uTB10PnKMtwkNJ1HP95GY08Un1PmrGkFhOIaD100nbwUB71RFd0wOGFC7kGzcdBisRzYrJHLcIRkgAFhp0MCmCaGCQ5ZoCusEYlrpLlsmEB3WCea0PE5FDa3B+kMxDhhXA41HSFimsGJE3Jo7IkwMsvNNUePZHNrkLvf3oKqG3x7ZhHlWR6W1nSypLabpbVdnDg+l+PH51Ca6UHTDRKawYOLanj00kOoyPUxuTCVcEIjx+ewAovFYtlvWMFlOKaJAey8klUSBQRERMFAkGRE0SDTY6OhJ4woiDR2R0h12+gIx6jI9ZA+Ip3q9hDd4QQFficT8lPojaoUprlQdZ0J+T5+e8ZEJBFcisRbm1r5uKaLtY19AHxS1813ZhcztcjP6+tbyEt18vDF06no3+Wf4bWTwf6TUsZisSSZpsnG5gCbW4M4FYlx+T6K091fd7O+MlZwGY4gIJrmoDkXs/+PbppgCggCBKJx7LJMX0xlZJaXhG4Q13Ta+uJ8UtfNrNJ0JhelYpNEGnsj5PgctAY17n6rmqvmlVHXGSGuGby0ponzZhQNBJZPPfpxPX6XjSvnljFtD1c/dYbirNjWzartPYzJ8TGzNI18/9BNnRaLZd9YVtfNhX/7BFVPfn8U+p3887JDKM307OadBwcruAynP6jsPOsiCmAIAnHDIBjWQRAwEbDJIlkekZa+GDZZIpLQUESBSfl+fvLvdTgVicvmlGGXBa59Zh2nTs6jL6rxcU03/165I0WJ8Dn7/UzgnrereeSy6dikobe/4qpOZWuQus4w+SkO3tjYyt8/2jbw/JyR6dx7/lTS3MNnBbBYLP+7SELjT+9WDwQWgIaeKMvre6zgYiH5TW+a7Px9LyBgGibxhIHXISMKENF0GrqjqLpBqlOhL6aS7XWg6SaBmMqvvjWeYEwjmtD598omWvqiyKJAayBGacbgYXJtR5hpRams3N47cOzQsnQ2NgfQTWNwpNvJW5vaWPDkagCuOXokj368bdDzH27torotyMxv6B4Yi+WrFFMNtndHhhxvCwzdGH2wsoLLMAR2/V0uCAZeu4JmmGi6iV0SyfHZiGsGcc3EY5MBgZ5IHJ9TYWt7iFfWtbCsrptUl40bjx/DIx9twzRhTUMP/3dSBQvfrSaq6ngdMhfMLGZykZ/q9iDTivz0RlUe+Wgbf7tk+i6XGTf1RvjZSxt2arcwKCXMpxL6gVdzxmI5EKW5bZx/SBG/f3PzoOPTiv1fU4u+elZw+YIMEwwENF3DRMQpg2IkiIkypiyQ6pKJJDQwTXqiAre+vJHzZhTyrSl5nD2tgByfk40tvVx91Eha+2LopokowLdnFiEKAqNyPFTkpJDhUZgzMp0X1zTTF1V5+OJpHDpi16OOcFynN7Ij5UtVa4DpxX5W1PcMHMv1ORjxDRmOWyz7gzOm5BOOazzy0TZSnAo3nzSGKZ/ZanAws4LLMD6dvN+ZKIJogNMmYwJdoQQGMpKQ3FwZiCYw+/fHmKbAgqNG4nUoGIaBppu8vamV2SMz+Ncn9Sza0gnAb86YwF8WVw6MNv79vUOZW55FY2+UG48fQ5bHhjzMxsi8FAeHlKSxbFs3AG9ubGPBUSMZl+dj0ZYOxuT6OGdaAXmpVmZgi+Wrkpvq5PrjRnPRrGIUSSTD+81a1WltohzG4B0uSaZhohs6cdUgEFURBJAR6I6oxFSduG7SHoyiGSZOWSTb46C2PcSLa5p5ekUDEwpS6QolBgLLsWOz2dwaGHQbq7YjxL3vVfO7N6pY09BLMK7zWYGoyvauMIGoisehcMfp45k3KgNIbsxMcSpsagkwPj+Fhu4It768ka5QfMjnWCyWfUcUBXJTnd+4wALWyGVYn92d/ylREIlpCeyKjGQYyIKAISjEVANREHCnuEjoBn63Qm9UozzHw7j8FOKajlOWiGsG95wzCa9dpr47wq9eG1x32wD++E41AK+ua+HmE8Zw1eEjBp5f29DLz1/eyJqGXiYVpPDL08YxqdDPAxdOoyMQp6YjxDVPriac2BGURmS6B1LMWCwWy75mjVy+IEEAUxDwOm2IgGaY9ERUMAXcNom2QIyOYJxoQqcvpmEaUN+VTFRpmtATVQnFVYJRlaufXI0kCvhdyeSKogCXHVbChs/sc7n3va0090YBaO6NcMU/V7CmoReAtY19XPGPlTT3RnHbZEoy3BT4nUNqmFx7zChSdlOczGKxWPYWa+SyR3Z8URuGCYaBZpjIsoiQ0JEEkUAsOdeS43MQ1wwSukEsprGhKUB5tgdZFPm4pov8VCdeh8yf368hrhk8t7KRX5w6jq3tIeyyyMSCFC7++/JBZ9cMg41NfVS3BWnpSwavnXWE4mzvjgzMqYzO8fHUVbN4e1MbbYE488dnM73YSj1vsVi+OlZwGU7/Ppedp/UlSUQQBAxNR9VNDAEkScAmS/RGVGKqgSxBNG4QTejMLPXjUCS2dYUp8DvQDINUl8KPji7HY5dBgPrOME6bRFGaiw3NfficMoGoNnDOb88sYn1jL0vqujlsZEZyI6c5uJmdoTj/Wd/C1GI/2T4HY/NSGJv3zU29b7FYvl5WcPmCTABBQBJAI7mnJRLXMQyDdI+NvkgCj00hwyOh6Q56Igk2t4aYWJCCICQn+AIRFUzoiSRIddkoTHOhGwZ/+6COkgwXd589idfWtdDQE+XQsnRGZXvY2hFi+bYeoqrOBYcU8fgn2wfadPGsEt6rbOf51U2cMjGXO06fgM+qY2KxWL5GVnAZzq4m9E0TVTNQjeTS46iqEVUNgjEdt10g1WXDrki0BqIkNBAwyfTaeK+yg6eWb+fKeaVIosCm5iCbWgLMH5dNps/B4s2dTC/2M7MsjdZAjClFfo4dm019V5hbXtzAJbNLkESBDU0BfA6F/3fcKOKaQVmGm/quMB/XJFefvbKuhUsPK2XqN2izlsVi2f9YweULMgFZEhEEE5ssENN0bLJAbooDwzRoDSbQdBNFFBAwcdtltnVGyEmx8/+OG4UiifjdCn6XjePGZbG9O8q6hl7Ks71MK/bz2/9Usa5/Qv+G+aN5dV0LgZjGe1XtnDm1gGdWNPBxTRcf13QxtchPS0+Uijwf1e2hgTbGtKFLly0Wi+WrZAWXYQiCgPGZ0YsoCOimgW6Aquu4lWSSyr6YhigKpDptaIaBpifzgMmigMsuYZclfA6ZnnCC7oiKXRLZ3h3ltXUtzCnPYHyej8qWANs6wwBMLEhhfL6P+eOyeXp5A+9v7mBivo/DR01hbUMvualOMj12eiIJFr63daB9eamOIfnKLBaL5atmBZfdGLKJsr/GC5jopkFCNYiqBoIgoBsmgmDS2B0ly2dn2bZuJEFgZmkaJslJ995IAl2HoJD87LOnF9DUG+W3b2ymMxTnnBmFOBWJ5t4on9R0c+SYLM4/pIgfHjkCn8OGKAocOTqTuGbgd9upbguyoSnAfze3M7MsjR8cMZLcFGsnvsVi+XpZwWUYu95DKSCaEEvohDQNmyiS4pKJqyahhEFfJM66xj4e/2QbR47J4ojRWfzpna1cOa+Ma55agyQIBGLJlWAPXTSN+9+vYV1jLz+ZP5r1zX38e2UjFbk+jqnI4u63tpDls/P6+hZmlKZx+WGlrG/u46+L62gPxjl9Sj7zx2fzq9PH0xdV8Tpk7MOkibFYLJavihVchvPpSuTPjF9EERw2kbAmouoG0YSJqpuoponTpnDUmAzmj89G003CcY3L5pTQ1BPm7rMn8Y+P6wnFNY4bl00koXH1kSNZ39RLvt/FmoYeTp6QS01nmNtfraQozUVdZ5iKvBT+/N8axuT4uP7ZtcS15Njpt29UEUloXHfcaDI837z0EhaLZf9lBZfhmGb/2uMdQxjDNNA0A0kU8TpkYqqGIoFiQFTViao6HoeCYYLPLhLXDHoiCRw2mZqOEBfMLMRjVzBMk+beKD9/eRN9UZVMj51bTqrg929tprEnypgcL+dML+S/m9sHRlCVLQHsijgQXAAe/2Q7p0/J32UBoo5gjA+qO3llXQsT81M4aWIuo7K9+/iiWSwWixVchickV3wNKQ8pCiR0EwEThyTRF1cRELBJIoIJDT0RdBMicZ1wXMdjl9jcHsRrV7j33a3ENJ1TJuaR6bFzyexiInGdCQUpuO0Sl88ppSucYFtnmIcW13DVvBHc/tomAArSXIRi2qCmuGwSsjQ0i49umDzy0Tbuf78GgP9WtfP0iu08+93ZFKZZ5Y4tFsu+ZQWXYQwUC9tp7kUURRRMDNNEU6E3qiGaoNgFglEdVdcZmekhrOoIpklNZ5SX1zQRiKmcObWASw4tJt1r5+2Nbays7+H0KXl8uLWLzD47H23t4MypBaS6FErSXJSku/n9m5sxTThsZDpl6W7S3DY6Q4mB9lx95MhdBovGngh//aBu0LHWvjhVrUEruFgsln3OCi7DSNZkGTyrbxoGmgmabmBgImAg2yREBByKiGGatAZiiKJIU0+U6vYQl8wuYfm2bgJRjUBMJaYZnHdIIds6w6xr7OPVdS0cNzYbWZIIxDT6ohr3/beai2aV9G+6FAnFVJ5eUc8vTx3H5rYQnaE4c8szOKTk83OGmbuoo/l5mZ4tFotlb7KCy24IwuBix6YgYJoGggh2UURw2ompGnHdwDBBkUXk/kzHfpdCWZaLuApzRmbQF00QVe0IAiza3E66x8Hzq5s4d3ohKU6FYyqyeGlNE7PLMrhibhl/+6COqKozItPNxYeW8PePtvHC6hbKMtw8etkMitLcqLpBdVuQqKpT6HfhdyczH+enOrnssFL+srh2oO1ZPjujc/b/OZfqtiBvbmxlY3OAE8bnMHtkhrVgwWI5wFjBZY/smHORBAFBEEE00XQDRTJxyArBuEZc1dFM8Ltt6IaJTZYwYuC2ifREEthlmSyvTGtfjKMrcmgPxrj/21Px2mUaeiIUpTkBgaV1XZw5tYD7LpiCJAp8WN3BHa9Vovdnq5w9Ip0cr4NANME/ltTzp3eq0QyTsbk+/njeZEZle5ElkcvmlDIiy8OLq5uYXJjKaZPzKE7fvzdYNnRHuOSRZTT3xgD4z4ZWrjm6nB8dXT6kjIDFYtl/WfVchiEMTOTvvFrM7B+9JFPhq7pAT0RF1Q00A+yKiAEI/aWO1zX2ctaDS9neFWYk9ajxMBFVpy0QQxAgpups6wzjsslc/+w6TpqYy7RiP6+sa+GKf66gpj3I9JI0RuV4yPTYueywEr49qxibIrGusY+739qC1h90NrUEuOftzdR3hjFNk2yfg3OmF/LElbP4yfFjGJ3j++ov4hdU1RocCCyf+suiGhp7Il9TiywWy5dhjVyG8en8hLDTajEBULVkmWPDNEE0cdhENMMkEteQRR2/ESQWDaM7sxid4+OJSyeTozbQpbm49NmNHD8uhznlGfQEE+SmONncFuTRj+u5YGYhLkXin0vqiSSSK8p6oirHjPXy0EXTicQ1CtOc2JXkj21b19Av3A+2dFLor6c0w8PpU/Jw2vafH7FpmtR1hmkNxMjw2CnLcA9Z6fbZdDufd8xisezf9p9vnv3YzpPggiAg9ecLS6gCcV1HFEUicZ24rhOMm/TJTmKmgzWbu8nyKJRmenmnLYMsn5P7L8hifVMf71W2U57loVdRmVuewdRiP+9VtbG5LcTZ0wuxyyKf1HYxZ2QGzb1RDh2ROaRduSmOIccqcn1saQvx8Ad1jM5JJsP8IjqCMWo7woiiwMhMz8Aczt7wbmU7C55cTVTVUSSBX58+gdMm52OTdwSYMdleMjyDV8R9Z3Yp+alWShuL5UCyz26LrV27losuugiAjRs3MnfuXC666CIuuugiXn/9dQCeeeYZzjjjDM455xz++9//AhCLxViwYAEXXHABV155Jd3d3QCsWbOGs88+m/POO4/77rtv4Dz33XcfZ511Fueddx7r1q3b6/347O/MpmkiSiKGZhDTdARTJKGZ6LqGU5GIaTqiICKJImNzfYzK8WEYJsXpHrpDca56bCUziv2cMTWfEVkeXDaJ6vYw33t8Fc+saGJtQw+TC1OQRIGZZel0huN0BBO7bNvEghROn5I38NjvUjhpYi4fVHcAsL0r/IX6WtMe4uK/LePch5Zy9oNL+OETq2jo3v1n9EYSfLS1kxdXN7F6ew8xdWhW5u3dEa57Zg3R/udU3eSnz6+ntjM06HXFGW4eu3wmV84tZUaJn9+eMYEr5pbsci+PxWLZf+2TkcvDDz/Myy+/jNOZ/G1z06ZNXHrppVx22WUDr+no6OCxxx7jueeeIx6Pc8EFF3DYYYfx5JNPMmrUKBYsWMBrr73G/fffzy233MLPf/5zFi5cSGFhIVdddRUbN24EYNmyZTz77LO0tLSwYMECnnvuub3XEUFAGHJLRkAEBEnCKSRT7guGSarbgaYb2GWRhGYABqYsoEgiTkUkqun4nAoPXzSN5r4o//h4GwuOHoUqGHxS141NEilMc3LeIUX84e0ttPTFOXt6Ae3B2OcuN870OvjFqeM5d0YRK+t7CERV7n5ry0CVykzvF1th9fyqRipbgwOPP67pYvGWTr496/MXAQRjKne9uXlQ8bI7z5zIOdMLBt1O7AzGB3KqfUo3TNoCMcZ8Zi6oItfH/500FsMwEa1JfIvlgLRPfh0sKipi4cKFA483bNjA+++/z7e//W1uvvlmQqEQ69atY8qUKdhsNrxeL0VFRVRVVbFy5Urmzp0LwLx581iyZAmhUIhEIkFRURGCIDBnzhyWLFnCypUrmTNnDoIgkJeXh67rAyOdfUnTDQTBTE7oayaaZtIVjhNTk6OWuJ7MnNwdVukOJwhEVN7e2EpbXwxBEKjtDPP9I8v5z9oWtnVFmF6cylXzypiQn4JpGPzk+DFcd9wobJLACeNzeXNjCy29UbpC8SFtSXEqzCpLZ1qxn38uSeYtAzhnegFj8wZ/aYdiKusae1nb0Esgqg56LqHpfLC1c8jnL982/PXc3BYcFFgAbntlI9u7B88HZfnspHymOqYiCcNmcLYCi8Vy4NonI5f58+fT2Ng48HjixImcffbZjB8/ngceeIA///nPjBkzBq93x54Lt9tNKBQiFAoNHHe73QSDQUKhEB6PZ9BrGxoasNvtpKamDjoeDAZJS/v8jYUA8XicysrK3fajpKRkoKzxDmayzgsmsiBgkwTigE0SsdtkTMMk1SkjihKFqQ7WNwfY3hXjpAl5vLq+mX+vauS8Q4po7YtS2R6kPNdLuttOWaab2SPSWVbXRW6qyeSCFPR8H1f8YyXfnlnEqfd9iE2WuOX4csrccQxtcHBIcXj5+SkVNPXGkCWRLW1Bqpu68em9AKiKhz990My7m5MBZN7IdH40N2fgOsiyzJHl6QOFyj41o8hHVVXV526+bI0ODQ6RhE5zRw+R9h1BR5Ikfnd6Bdc/t4lgXMOhiNx+yhgItFLZ3TjkM76sWCy2Rz/bA4nVpwPD3u5TRUXFXvusr8NXMqF/7LHH4vP5Bv7/7bffzvTp0wmHd9zPD4fDeL1ePB7PwPFwOIzP5xt0bOfjiqLs8jN2x26379EPLhIZuhpL6M83ZiZMRFFElsEwDDRRxNB1BAFUHXpDETqCKhleG70RlQfer+byeSMo9LuIJ3SyUxxcdlgJkijilEU6ggnyU0Q8DomV9T1saArSHowjSwJeh0JH/wT3D59ex7+umMn08jSUnSbC361s46fPrx3U1mBM5cELp+GyyTy2ZNtAYAFYvLWLWWV+fnDUjutwhj/Miu19fFTTBcApk3I5cmweecNMpivtQezy4GSaY3K8jCnMwu8uGPTaUcCY/DRa+2JkeO2Uprv3+uiksrLygP+P8rOsPh0YDsY+/S++klnSyy+/fGCyfcmSJYwbN46JEyeycuVK4vE4wWCQmpoaRo0axdSpU1m0aBEAixcvZtq0aXg8HhRFYfv27ZimyYcffsj06dOZOnUqH374IYZh0NzcjGEYux21fCk7/dbevzgZQRYBE1UzQQDNNOiJaoQTBnFNJ66Z2BUxuekSk8vmjMBrl5lbnsGssnTC8WQmZME0CcRV3DaJx5fWE1VNjhidTVGakzkj07nk0BLuf39HpUnDhCU1Xdzzzhbe3NDCE5/Us6m5j7rOoRPva7bvuP313uaOIc8vqh58y6s4w839F07jpR8exmsL5vDbMyYOG1gARmR6eOTSGZRkJPOVHVKSxh/Onfy5q8yK093MLEtnRKbHuu1lsRzEvpKRyy9+8Qtuv/12FEUhIyOD22+/HY/Hw0UXXcQFF1yAaZpce+212O12zj//fG688UbOP/98FEXh7rvvBuC2227j+uuvR9d15syZw6RJkwCYPn065557LoZhcOutt+7llvenevlsVmTTRBTARMCliPREVDTdxGeXiGrJ8sY2ScRjlzFNgylFqdR1RFjT2EuWx4HTJtHSF0c3wCZLxFSNlr44b1a282ZlOwCnTcrl9Kn5PPB+DZHE4NVXkiRy73tbuP640dz11mbGZHv4zmGlQ1p/2MgM3t7UyoySdOaMzOC/Ve2Dnp9dNnSZcopTYVJh6p5fIUFg9ogMnvvebAIxjUyPDY9D2f0bLRbLQU0wv4GZDPd0+BqJRDABSRSR5WQcNqG/nLGAphtENQNdN4iqOpGEhmkIKIqAppmEEwYORSCmGuhGsqBYikvhgy0daIbJ1o4Q88fmYJNF3qtqp8DvIpLQKE53oYgCUVUnFNe5842qgRVgkwtTGZ3j5enlDVx8aDEvrm5ibnkmLpuEXRZ5ankDmmEyJsfL9w4v43dvbCYQ03j8ikP41WuVrNjWA8CkghRuP2kkE0tz9so17Qkn2NjcR1sgTmGak3S3jZXbe6nvijC9xM+0olR8zsGjmUBUZVtXGFkUKclw4fofN3y29Ebp6OqmoiQX5SBaunww3m6x+nTwszZR7saQGzf9oxZDNxEB2YSEYWKTRGxOWzI9jAmGBJqpIgoCXruEKIo090bpDifI8jnoDic4ekwWCV2nPRhnXnkGtV1h2oMxBKAs08Pbm9qT+0OOHU1C18lNcbK2oZenljcAkO62EYprbG4LMjE/hZXbe/j+ESMQBNjeFaW2M0xnKEFCN6hsDvDQRdPZ0hakJ5xgc1uQhYu2c7mpML3Y/z/tIwlGVe5+a8dy5ItmFbNsWzebd1rW/LOTK7jssNKBUWB9Z5ibX1g/ML9z2uQ8vjuvjNE5vi+cQywU03hlbfNAZc4LDunhqnll5Put0gIWy9fl4Pn1bl/o/yIclP5FEPr/QFw3iGsaNkmC/jxhwajOtq4wW9qC2EQBpyJR2RKkoSeKIAi4bRJOObmnJc2t8E5lOy+uaUIUYHJBCudML2RqsZ/WQJS8VCdxzeCjrR2My/Px1w9qBwLLoWXpNPfFMEzY2h7iW1Py0AyThe9t5d53t9ITSdAWiJPQkxPtmgFpbhsdwTjf/9cq/vhONW9XdXDBw0tZ09D7P12m6o7QoOXIGR7boMACcM9bW2jsiQ48fnlt80BgAXhpTTP/2dDKIx/VDVkmvTtrGnq46YX19EVVVN3kH0vqeWF105fsjcVi2RuskctwdlXPxUxWSTExsUsimigiCMnjAgJ2WaQozU0wrhFTDQIxndIMF4IoElV1dMMg3WvjqWUN1HVF+M6hJSiywNrGPh5YVItdFvl/x44i1WmjNN1NRa4Hl01mfWMfPzq6HJPkjniPXeaP71aTm+LgyrlljM728sQVM6nrDNMVSvDsykae7g9EdllkSlEqkYTGw4trBvXHMGHRlg6mD1MXZnc+GwyMXdxojao6Wn+gi6k6b25qHfKaLW0hajpCjMnxMac8Y4/Pv2wXe3GeWdHIt2cV43ftvfQ1Fotlz1nBZTcEQRiSW8wwTDQzmXJfx8A0jGRgUQSiCYNATEMWBWSbSFdPDL/bhkOEPs1gZX0PpeluzjukEBMIxzVq20McOiKdknQ3mV47G5v7eGtTG3PKMxiX66OxN4pNFukMxclPdVLXGUGRBG48fgxrtvcQVXVW1Pdy0sRcMr0OeiMJdNMkHNfI9zu5aFYx4/J8xDUDh00a0keHPPTYF1Gc7sJrlwnGd+zA99jlgQ2dAGdNKyDPn1x5ZpdF5ozMYENTYNDnlGa4+LC6gy1twS8UXApSh97+GpnlxqX8b/2yWCxfnhVchvHZwLKDiSQI6IjYpOQts4hu9M8VGKQ6FERRQNUNUpwKqmawrK6X0TlexuWloOoGDlmkN6LjsslMKEzFIUvc+Px6vjU5j/njsphS5EcQ4JW1zTy/qpmJhSn8ZP5orntmLaG4higIPNxfxvi6Y0fxp3e3MLc8g55Igq3tIdLdNh64cCp+l23gtp5DkfjBESNZVrd8oCcORWTeqD3/It+V0gwPj1w2g5+/tJGNzQEqWwI8fPF0Hv2ojsrWIKdPyeesaQXY+4OYIAicNa2AdyvbqW5P5habUphKQjMIJ3TyU4cm5BzOzNI0RmS6qelILsd2KhJXHzkSuxVcLJavjRVchvF5C+lME+IJDQMBwxQwMFANA003UWQBw4S23ggepw2XTSKS0DmkLB1d03HZJWIJkzWNfSQ0A59TIddnZ1n//MOobC/XP7uecP/y40NHpHP1USM5Z3oBoiBw3bGjuPG5dah6sm2XzC7hvap2dMOkrjPExX9fTl//bapZZWncffZkTEzeq2rnrY1tHD8um39cOoN3KttwKyInTsxnQkHqoP7FNT1ZU8U0ae6L0dybnP8Zl+cj9XNuM00vTuOJK2bSF9NId9tw22WmFqcSS+ik7OI9I7O8/OuKmaxr7KWyNUh1W4i/f7SNI8dkMqnwi2VyLs5w88/LZrKpuY++cJQJRRkHRMVNi+VgZgWXPbJjQt8kmfPKrsjoJsR0HVNPTtx3B6NIkkw4oeFx2ukKxdFMk3hCx26TaOiKUNcV5pgxWRT6nQiAx6EQVTUe/KCOoyuyKPA7BwILJDdMjsv1keKQ+dnLm1hS08W950+hsjmAJIm8V9nG2sY+bjx+NPe9VzMQWACW1nazor6bdza18cq6FgA+3NpJRY6XR74zg2BHI+Wf2dPS0B1h4XvVVLYEmFiQyr92mqj/7rwyfnxM+S5rxERVHa9DGRRI7LLE1vZk0GgLxDhhQi4ziv247Mn3Z/kcHDM2h5FZXmo7Qlwws4hR2V7SvkSa/3y/k3y/k8rKSiuwWCz7AWu12LCGVqIc2K0vgG4aaKqBbhgEoiqiIIGQHL0kdIM0t0KqQ0I1TJyyxMSCFE6akIvXqZDiVHDYJARM1jcG+N7hI4ipOs+vbuLSw0qw96d2OXxUJkXpLloCcf69spGm3ii3vrSRFJdCVUsAr0Pmhvmj0Q2T9U2D84IB1LaHWFw9OCFlZWuQFfU96PrgzZmmafLvlY08s6KRoyuyeXLZ4ISUD31QO3Dr6VON3REefL+GM+//mFtf2kBly455lKrWAOf9ZSl/ereap5Y3cMnfl/HfzYM3cgKUZLg5qiKbWWXpXyqwWCyW/Y81chnWLm6LCQK6bmAioGomDkUiouq47RJxzcBlk+gOqzgkgd5YgphqYpdFQnEVQVBI9E/qZ/uS8wpxzeCP71aj77TEakyOlx8fU05U1VlZ38O7le3MHpE+8HxHMM7tr1YyOtvLpYeV8LOXNlCU5mL2yHSeXzV4CW5Fnm/QaOZTrYEYY/IHp3bpjao8vzqZRFI3zCGrvkwTgjulzY+pGne/tZkX1jQDyTLLb25s474LpjAuL4WV23oGTfID3PPOFuaMzNjlrTKLxXLwsEYuw/ls2heSYxlJEBExcSoiiizi6P9jGKDqBpJgkjAMXDaZHJ+DbJ8dv9NGZyjOhuYAhWkuPqnrYtHmDlTd4K6zJzIq20OKU+HSw0qIawZ3vrGZe9/dykdbu/jO7BJyfU6Oq8ge1JaErrO5NYiqm9R0hMlLdQ4EIbss8qOjRzK5MIXjxg5+36hsD6pu8Nng6VIkRmcnbyn1RVXyPlPpMtNjpzh9x8qshu4oL65tHvSajlCcj2u6eGNDC9ou1iQnNGOXS5UtFsvBxRq5fBkCaIZJXNfQdBHTNOiLaPTFNXyO5FxMPGFgmCYJyUQWku+xyxLlWW4Smsm04jRiqo5NFrnrjS1MLkplwVHlLK/rZGpxGieMzyGm6pw0IZdQTGPl9h5+dEw54/J9vL+5g9E5Xkoy3EiCgN+l0BNReXpZA7/61ngOHZFOWaabe97awrxRWfzgiBGUZrhZ39RHebYXj11mdI6XzX1RIo29lGd5cNpk7P2rrJbUdPH08gZuPH4Mr65rZnVDL9OK/PzslLGDEllKooAkCGifWfggCHDH65X89eLp2CRxYCMnwA+OGLlXSydbLJb9kxVchmMOSoj86SEAREFAMEXcdomYKpDiFvA5ZeKajmaI6FIyl1hbILnPJZbQCcVVajrCzCxNJ9NrJxBTWdvYx6Ej0ynP8rCxuY+8VBedoQSdwTgjs728uLaJj7d2ccP80UwqTCWu6Vx3bDnV7SE2t4UozXBxw/zRKFIy7f1jS7fx4dYuFhw1kpqOMJtbA1wwsxhI7iNpC8QZm+fjN69XUt2enD+5Yf5oLjusBKdNZnKRn5euPozqthB2ReRP501BECDVqQxJSFmY5uLKeaU88H7twLGRWR46g3EiCZ2cFAdPXTWTRz7eRmtfjItmFTNvVOY++3FZLJb9hxVchmUOuTMmkJzIVzUTRRKJxFQcdhkSAn2qhksWcSoCsiDTG9NQJJH7/1vDaZPzyPHZyfDYqe0IUpGbgschc+ToLHxOifZAgi1tQbrDCf65pJ7WQIz543N4evl2DDNZ1fKdjW1ENZ3OkEpvVGV5XTcvrW7i1Ml55KY48TpkPqrpQpEE5P78XKkuhc2tAX701GqCcZ2LDy3mhn+vozeyYx7m929uZm55BhP7lySPzPIyMmv3K64USeTyOWWMyvLyTmU7+X4nkiDw4OIavnd4GTkpTvL9LiYV+tFNI5kmx2KxfCNYwWU4ybwug3KLmSTnXCRBI5gwkCSRcFzDMCDDbScY0+iJaJiGiWkYZPns/PSEMSyu7qCuM8yEghQMw8RpE4kldGKqRmN3mH9+sp2LZxXTF1X51pR8fA6Fx5bWD8xP2BWRzV1hLpxVxPtVHZSku7jttHGYJtR2BHHZFP6yuIayDDffnlnMwx/UUpHjpSLXx0OLa6nvTub10gxzUGD5VHtgaAnlPZHhsXP61AJGZXt5aHEtG1sC3HziGE6emDeQgFISBSSswGKxfJNYwWU4/ffEBqV/AUwBFFnEZYJhGtgVkbhhEEloGKaB155cQWYKyfUSCc1gQp4PA3DIIqLgZktrCI9DoaqlD4cicf2xo6ntCPFJbRdHV2Tzi1c2DZwz02NHBE6emMu/lm7H65BZ3xzgzU1t1HaGuPywUj6o7uDMqQUU+J3UdYa57thRTMhPYfHmDj6p3ZF7qzuUID/VSVPvjiSSkihQ4B++KNjujMtP4XdnTyShGnidVj0Xi+WbzgouwxHY5WpkwzQxDIgmNARRRJFAFiR0waQ3miDVpSAKAi29UXJ8TtoDMWRJQJIk4pqOzyGT4lToDseZkJ/KH9+t5rdvbubBb09jQ3OA9mCCn51UQU8kgVORyElxIIsCi7Z08NamNi44pJCKXB9ZXjsnTsjFMAw8Dpl736vGZZO5cFYRXrvMmxtbeWF1E9NL0qjtr1T5wuomfnL8aP6yqJbWQAyvXea3Z05gZJbnf75cdlkaSPFisVi+2azgMqxPo8tnK1Em94EkN0GKRFWNSMLAJgn43TYSmoGEwOgcH6ZhIojO5NJfE1r6YgRiMXTTRBYEfv/WBpw2iVtPHks4oXLujEJ8DoVMr52CNCcuReKltc18vLVrYDL8iWUN/PSEMTy4qAZJFLjphApW1PVw8aElxPr3xqQ4FF5f38q2rginTc5nUkEKaxv7iGk69Z0RnrxyJk2dPRRlpVOUbtU9sVgse5cVXIaxY+CyY/jyaSVKAMOAhKmhyCJpNgndgI5ABN1ILs8VEgI2WcAmiYSjKg6bTJ7fiS0YR9VNPHaJ+789la5QAtUwcMoSJRluEpqB3p/C/6OaLj6p66a5L0ZhmosMj43OUIJX1zXz0+PH8OTyBp5d2cB1x40inNBo7o2R0AyeX91ESYabzW1B7n2vmpMm5HLE6CzG5vmYV56B0yYT62ygKL3wa7iyFovlYGcFl2HsKm+lAEgiCIKIYhpIJJcfxxIGCU3HabOxYnsPLkUmy2unqTeGQ5HwOkS290QxDJPSDNfAeKixN4qqmxT4nXxY3UlhmouKHC/twTjvb+6grjPET+aPprUvTnNvhLvPmUR1W4hgTCMU15halIpdlijwO9ENk+ufXTfQ1tMm5/NJXRe9EZVX17VQnuXhW1PydpkbbF8LxlScivQ/Vby0WCwHDiu4DKd/6DJotZiZDAuqvmMVmW6AgYkoijgViVml6RiGwZsbWinL8iCLAm2BBOG4RpbXTkcogWmCIgnYxGR9mIv/toxwQmdiQQoVuT7SXDZGZLo5bGQ6PZEEfdEEbrtMLKHzq9cqhzT1gplFpLgUyrM8A2ns//TOFq6cW0pBmot0t53ROd5BmyC/CvVdYZ5f1cRr61uYVpzKd2aXUpHr+0rbYLFYvnpWcBnOLlaLIQgYhoEiQtwwMQ2wS8mltgldJ6HrxFSTznCMQ8rSkzv5VZ1RWR6q28OohklbXxRZFOiNqozPT2Fze5gLZhbhtsv0RlQe/XgbAGdOzeffK5uYVJjC4i2dNPVG+dbkPI6tyOLtyh0JIM+eVkBpphtNM7j0sBJeXdfCJ3XdlGa6SXHZSHfbOXJM1l69NFFVxyaJw9a7Dyc07nitkrc2tQHJcszvVXXwwg9mU2DVt7dYDmpWcBnGroqFJXOLCSQ0PXlrK3kAyTBJqAaGKRDXNFKdNiRBAEEgFFfRzOSeF0mE0jQXzYEoH9d28dAHdVw1t4yyDDd9URVFEphVlsbUIj/twTi6YZLptQ8sHX5xTTP3nDOJsXkpBGMq00rSmF7sx22TwQalGW5kUeDKuaXUdUZYVNXBCWfn7rVr0twb5Y2NrTy3spGxuT4umV3C+PyUXb62oTsyEFg+1RGMs7U9ZAUXi+UgZwWXYXxesTAEsNkk0Ezimk4grhFLGCCAqupUtQUoTvcQTejYZAGHIrN2ey9j81IIJ3ReX9fI+PwUphWnkZPipCucoLIlQE9EpSLXy/RiPylOhenFfkQBFr63ddDpt3dHuP/9rTx44TSO/kwyy0/T1m9tDzF7RAYVuT4yvfY97nMoprGktpMnljWQ4bFx3oxCphb5EYRkZc2HFtcOjKw2Ngd4c1MrL/7gMMoyhy5llkURWRSGJLBUrHkXi+WgZwWXYQ3d6GIYBgYCumEiickiYXFVRxcFUu0mstMgxe4lZoiYpkkoriFLBuneTzcuChxVkcVzKxuYU55JeZaHvqhKWyBOmtvG0touFLeNiQWpjMvzsaS2a9DCgvIsD+2BOE6bRGmGe2iLheQS6NE5ez6v0dwbpao1iGmYBOIq1z69duC5l1Y38+/vH8rEglSae6M8vrR+0HsDUY0tbcFdBpfiNBdXzC3lwUU7co9NLUplVLZVzMtiOdhZwWU4u5jQF0QRwUjmHOuLJnDJMpIs4hZEWsIJHIpCVyiOy5787dzvUlAkgVBCpzOokem18cD7W8lJcbF8Ww+bmvu4ZHYJqm7wUU0nuSkOphSkctPz65hTnslls0uYWJDKos3tlGV6kCWBuo4wT1wxa5df6AC1HSH+s6GVVfU9zB+Xw7xRGeSk7JjI74uqNHRHiMk+atqDfO/xVVS3h5g/Lpvt3ZFBn5XQDZbUdDGxIBVJEFAkEc0YXGRMFnc9ElFkkSvmlDG5MJVParupyPVx6Ii0LzSSslgsByYruAxDILkb/7PpXyC5B8VrV9BMHVMDhyKS4VboCCVw2WR8YoJ4Ioxh9yKIIl6bTNyp0xNJ8MMjy2npi9ETSTCt2M9fFtXw42NGIwjJ4mGd4Ti1nRFqO+uZVZbMmHzoiDQyPA4Smo4sioifM5He2hflyn+uGKgY+W5VOxfOLOJnp4zFLkvUdoT46XPrWbatmxSnwpVzSwdWl5kmCJ/dMMqOsjb5fic/Oqac3/6nauC54nQXY3I/fySS4bVz/Phcjh+/9+Z9LBbL/s8KLsMwTbP/m3Vw4koQ0DWdaH9FSlkUCMaT+04ABFFga5+JV7JTZI+gS3aqe01ARBZNgnGNQr8Tj0OiIxDnjGmF/N+L6+mLqlw6u5TWvtjA+ba2Bbn26TUUp7u4+cQK7LJIhsdOWaaHre1Blm/rIabqTC32MyrLw5a20JBSxE8s284ls0soy/Tw+NJ6lm1L5hrzOWW2tIUGXre4uoNrjipn006liu2yyKFlGcl+CQLnziikLMPN+1s6KM/ycPioTGty3mKxDGEFl+EIAoJpInxm3kUQBCRZxKeIaDqEEzoeRULXTQSbgCQK2CWBvqjKtpgNSTBJc0noJuiGhCyKBGIqH2zppCDVidepcP4hRQgCFPmdXP/v9QPnyk5xENcMtrSFuO6ZtfzqtPFc8vfl/PWS6Vz9xCoC/WWHZVHgl6eNwy4PvUX1aev7ouqg1VvNvTHOnrbj1lpMNXi3qp27z57Ee1XtZHrsfGtqHuPzd8zf+F02jhuXw3HjcgDoCsUJxzXcduuvksVi2cH6RhjOp7fDdi7qYiZHNJphIhgaJjKKDF0hlb6oRrpHIa4ayKKIS5bpCEWx22xUtYUYmeHG51DQTZNgr8qMkjQ8domNzUE03WBmWTp3vbl54FSnTsqjPbgjFX53OEEoruK2S7xX1T4QWCCZSv/19a3MLU+n0O+koWdH1uNzphVQlOZCEGBasZ/G/ud0w2R9Ux8LjhrJQ4trUXWDkVluZpWlcea0gmEvTUtvlOdXN/KvpdvJS3Vy3bGjmFmWPuy+F4vF8s1hBZfdMPnskuTkznxFEogbEr3RODE1OcHvd9mIqzqylBzrBBMaOSkuErrBhLwUWgMxqtqCjMz2EtcMHIpEdUeIRz6uIxTX6IsmuPH40TT3xfE5ZDpDcX720saBM4sCOG0ybrtMMDa0JktvNMGKbb1cdGgxzb0xNrUEOHJ0JqdNzseuSARjKpccWsySmq6BoKVpBt+eWcRZ0wrQDZN8v3O3mY1N0+TJZdu5t3+JdHNfjIv/vowXfjCbCf0Fxz6roTvMW5vaeXtTK3NHZnDChNzPXZBgsVgOfFZwGU7/bbEh+pNKypJImttOTNWRBBETk3AceqIqkbiGQ5Fo7o0QTOhkeux8vLWT3FQHgahKqsuG2ybR0pss/zsyy4MkCCyu7sRtl2nqMQcSZH7qolnFNPdGaOyJctlhPp5b1TTo+aPGZPG3D+rY3h1hanEqkKwlk5fqZGNzH7e+tJEN/SOVsgw3LslgUmkWftcXq2nfFojz6JJtg45phkllS3CXwSUUU/n5y5t4ryqZVWBpbTdvbGjjkctmkOGxVo5ZLAcjK7gMZ1e3xUgWC9N1A1036Y6o2BUJzdSJqzqhhEEoqpHiVhAw8bvtICRQNZO8VCfl2V7sikhNR4jt3RFK0l1keG0ooojXIVOQ6mRNYy+vr2/l4kOLefDb02jqi5LpsdEXUfnFq5vI9tlJd9v4zRkT+MdH24ioOidPzKWqJUg4oXP6lHz+8M4W4prBgiNH0hmM88MnVrGtM7nM+K63tuCxyzx+0fgvHFgAbLJAilMhENUGHXfZdj3iqesMDwSWT61v7qO2I2QFF4vlIGVtld4DO4cWQRAQERAxEUWBDI8NpywRVQ0QBFRNw+dS6AoliGsmXodCuseWLBYmCnxQ3cG6xj4eWlzLiEwPMdWgNN1NWNX459J6NMOkJ5zg6iNHMrEgla5wjJiq0RaIke61c8e3xvOzk8fyi5c3saGpj+8cVsKNx49GFgRyUxzcc84k3tzYgssmceeZE5lS5KexNzoQWD4Vimu0hAYHhz2V5rZz84kVg44V+J1MKNh1Ghjhc6dhrPkZi+VgZY1chiMI8Jl9LgAmJqIoIegmUV1DRiDTLYEg4bKJxDUTERNBFGkNRFEkCUkUaAtEOX58DlvaQ3x33gjCcY2cFAeVrQF+/vImKnJ9NPdF8bvtFKY7ue2VjXSGEgPnvfqokTy+tB67LHLNMeU8v6qR5du6uXBmMaWZbv70bjUf1XTxfydWMDLLQ2Facomw1y5jl0XimjGoHz7Hl68aedToLJ757ixWbe8l3W1jerGf4vShGQMAStLdzB+XzZsbd6xUm1KYyojMXb/eYrEc+PZZcFm7di133XUXjz32GJWVldx+++1IkoTNZuPOO+8kIyODX/3qV6xatQq3O/klc//996MoCjfccANdXV243W7uvPNO0tLSWLNmDXfccQeSJDFnzhyuvvpqAO677z7ef/99ZFnm5ptvZuLEiXutD59T5RgA0zTQDAPTEAhqOqYpACqikCwOluKy0R1OUJjqpDkQo6k3xiFlGTR2R3HIEmUZbloD0f7tmAJ3njmBnojKL1/dhGlCdzjObaeO461NbfSEExw3LoeNTX30RpIT+U9+Us+vTh/Pim29/HNpPVv7N0IKAmxqCaAZJoVpLrpCcQJRleuOHcVvdtr8eM70Ahy2L1/r3q5IHFKaziGl6bt9rceh8LOTxzK3PJP3qto5bEQ6x4zNJt26JWaxHLT2SXB5+OGHefnll3E6kylH7rjjDn72s59RUVHBU089xcMPP8xNN93Exo0b+etf/0paWtrAex955BFGjRrFggULeO2117j//vu55ZZb+PnPf87ChQspLCzkqquuYuPG5CqqZcuW8eyzz9LS0sKCBQt47rnn9lo/Pi+wYIIhCIiCiCKaKHYJURQJxwy6I3E0w8QmCQRjKp2hBAldZ0SGG9NMZgre0NxHToodt12mui1EJKGzobmP48bm8MtTx2GTRd7f3MEPn1jN+Dwfvz5jAq+ta8Ymi9x4/GgyPHYyPXaue2od3z2iDI89OQJJdSlcMaeMF1c3kem1MzbXy4+eWs2K+l6uOWokt5xUQW9UxS6LrKzv4YrH1/Ly1XMGRjj7UoHfxYWzirlwVvE+P5fFYvn67ZPgUlRUxMKFC/nJT34CwD333ENWVrKeiK7r2O12DMOgvr6eW2+9lc7OTs466yzOOussVq5cyRVXXAHAvHnzuP/++wmFQiQSCYqKigCYM2cOS5YswWazMWfOHARBIC8vD13X6e7uHhSs9gUT0HUQJREDHQmJqKqjmxoum0QkoRPtX568vqmX8fkp1HVGMEkeS2gm3/7rMiblp3DlvDLims60Ej/L6rpRNYPSDDczy9IYmeVBFkVCMZWZZenEEjqBmIZDFhEFgca+KA8truWS2cXMLc8kHNd49OM6OkMJyjLdrKjvYUV970Cbd1VkbFtX+CsJLhaL5ZtlnwSX+fPn09jYOPD408CyatUqHn/8cf71r38RiUS48MILufTSS9F1nYsvvpjx48cTCoXwepO5qtxuN8FgkFAohMezY0+E2+2moaEBu91OamrqoOPBYHC3wSUej1NZOfSL9rOKi0uGjF5MkvtNZFEgoZvomo4pQ0I1SKgm3TENn03ClMBtszOvPJNowqAlEcNll0h32zl1Ui5nTy9AFKCyKYDdLtMTTvDSmiYkQeBHR5ejSCI5Pgfl2R5uf6WSTa0BphX5sckCcdXguHHJVPsNPVEMEx5aXDswpyIKcPbUAp5e0TCo7btKf4+6Z9fiQBGLxQ6q/oDVpwPF3u5TRUXF7l+0H/vKJvRff/11HnjgAR566CHS0tIGAsqnt85mzZpFVVUVHo+HcDiZGyscDuPz+QYd2/m4oihDjn8amIZjt9v36AcXiUYRBiqC7aAbJjFVRxBEHHYbcU3HpojIsojbLhPVdDyyRCyhEoiruG0yM0v9RBI6DT0RNjQFKfC7yE5x0NQX48U1TfzqtPGcMjGPYFzjrx9uY1ZZGrph8qd3q/n1GRN4YXUTG5v6mD0igxPG53DZP5YPtEfTDf552SF8XNNFXNOZMzKDO/9TxbzROypWvr2pjfMPKeKxnVLmnzEll8ll2Xgdu96N3xlKFvYyTRiZ5SbT69jtNfu6VVZWHvD/UX6W1acDw8HYp//FVxJcXnrpJZ5++mkee+yxgZHGtm3buPbaa3nhhRcwDINVq1Zx+umn093dzaJFi5g4cSKLFy9m2rRpeDweFEVh+/btFBYW8uGHH3L11VcjSRK///3vufzyy2ltbcUwjH1yS0z4bFZkQUCSBHTNIBTX0Q1wKSIJzUAXTOw2EQwTRZLIT3HRF01Q1xnFroh0hVXG5adgmrChqY+SDDe3nzaehf/dSiiu8aOjRjI2x0trMM77mzuYNSKduo4QIzLcnDklH0GAV9c186OjRxHTdFKcMh6bTEzVufbYUQB8UN3B+uYA4wtSOHZsNm9vaqOqNcjc8gz+cuE0usJxclOcZClRvI5dT+pv6wzzo6dWs7axD4CKXC9/vmCqtaveYrHskX0eXHRd54477iA3N5cFCxYAMGPGDK655hpOOeUUzjnnHBRF4bTTTqO8vJyCggJuvPFGzj//fBRF4e677wbgtttu4/rrr0fXdebMmcOkSZMAmD59Oueeey6GYXDrrbfu1bYLgMHQiX1JAB0BDcBM7qTvi6gosohuJNPDaKZBOK6hSBIIAgV+B6IgIAoC7YEoZVkeMF047Qqr6ns4e3oBzb0xWoNxInGNv324jUNK/FTkePE5FURB4C+La/mkrpsfHDGCLK+Npt4YjT0xnviknn9dMXOgfZkeO6IATy5rYPaIdH50dDmiCNleO9//10ruPW8KjT0RfBmfv1rsncq2gcACUNkS5NV1zVxz9Ki9eYktFstBSjA/t5bvwWtPh6+RaBTTNJFEEVneEYcNANMkmjCI6waCINAdjCFJIjFNxylLGKaAahjENQPdMIgkdKrbgowvSCEU04kkdCQRXlrdxGHlmfzjozrmjc6iJ5xgTnkmi7d08Oq6ZhRJ5Nzphcwo8dMVThBJ6BT4nVz3zNpk8kyB/oJcKZw0MQ+AhKbztw/r+N2bmzFNkMTkPM5Ty7bT3Bfj9Cn5rKjvJhTTePq7h+6yMuQV/1jOO5WDd9XPKPHzzHcPHVQ8bX9zMN6asPp0YDgY+/S/sDZRDsc0h+whNwHTMFF1A900AANMCa9TJqoaZHnsGJjEVZN41MAmCkQ0cNtkZpWl0xNK8MyKBhp6ovzspAqumFNCayDBiRNzebeynTOmFvDCqkZ+cvxo5pan47IpbGrp47FPtnPBIYU4FInWQIx7z5uS3HDpsvH3j+pIdSlEEhoum0x3WOWdyjZ+cco4YqpOTNV5flUjzf11YmRRwDCgJ6LySW3XLoPLUWOyhgSX48fn7teBxWKx7D+s4PIFDaQbM0GWRBKaSUJT8ToVBHRCCY2YaqDpJqYJpmEgSiBLAk29MQzDZP64HNI9NlL0HioW/ZBtY6/CUzib6cVpBKIa5x9SyEdbO6ntiFCc4cLnVDh7WgGvrWvmnOlF9EZVqjtCtAdi/OqTSuyySKbXxpKtXciSSFGak+r2ELe9spGbTqzgD+9UD7RfFgXKs708uzK5mq83OjS7MsARo7M4ZVIur6xtAeC4imyOG5u9by/ufsA0TdY19vFeVTuabnDUmGwmFaYgS1amJIvli7CCyx7Y+bd1UUgWOZZliVhcRRKS1So1VSeuG4imgGmAzyET1w3quyIkdBNRgDSnTEGai2BcxzBMNCODFbP/TCCm0RZI8JvX1zOrLI1JhX7u++9Wbjx+DL9+vRJVT0a08Xk++mIqeSkOPq7p4t3KdqYW+Tltci5xzeDyf64Akrvvf3jESH7znyr+vaKRm0+sYF1DLykuheJ0N498VNffLxib6xvaYSAv1clvz5zI9w8fiWGalKa7cTsO/r8uaxp6OfcvS0noyWXdDy6u5ckrZ+5RJgKLxbLDwf9t8b/YRW4xEzDM5KhEEUVU00QRBAwB3IpEV0TFxKSmM4xNEkl12nAqIpIksLk5wHl/Xc6YHC/zRmWi6gZHjc6kpjPIxAIPFx1aTEm6i6hq8KOjy7HJIn84ZzLBmIZummxuDfDCqiZOmpjLMRVZHFuRDQJUtQZ48P3agTY+s6KRv18yjeuOHcXybd1UtyVXinWG4hiGiV0WmViQwimT8qjrCEHFrkckbpvM2LxdB5+D1avrmgcCCySXnf/j43pmlKRZtwQtli/AGusP53PWOnz6FSNJ4FBkJBnCcY3G3ijhuIZJ8jd/v9s2sHosFFPRELjt1HFMLfLztw9rSWgG/1hSz6//U8XDi2sZn++jtjNMbyRBod9JJK7hd8vc8/YW/vZhHdk+BxcdWkxPWGVjc4DNbUG2dgT5/ZtbCMYHZziubA3x5/9u5eSJufjdChFVBwEe+aiOiQWpZHjs/O6NquSoSzeG9PGbKhgbmik6EFP57N5Ti8UyPGvk8gUJ/f8QSKZxMQwDhywTFTRSnDYMw0SSBGRJoD0YJ9UpY1MkPqnrwqFIFPidZHntzB+XjSSa9EZ0xuenIAoCHcE45Vke2kNxQCDH58A0BfL9TtY09HLXW1uAZPnjZFnjFr4zu5jDRqbz0daugTZK/aUA4lryttzjS7cTSejcevJYoqrOy2ubgeTelZa+KI29UUo+J6PxN823JufzzIrGQccuObTEKt9ssXxBVnD5EnSSE79xVUfTTQK6im4KuG0iCAIxVSeaMJAEke29ERRRYkZJGqGYRm80gWqYVDcEKc/20hVOMDbXR2coTnNvhNwUP7ph0hqIkdANtnaGueywEjY0B9jaHmJ8vo/usMrjS+txKCLHjcshPzUAwEdbu8hLcXDpnFJyUhzYZZFnVjTw/44bxcOL6/jjO1v4/hEj8LtsGP0T148v3c7Fh5Z8rddzfzK12M+jl87gwUU1qLrJVfPKOHSENd9isXxRVnAZTv+cy2eJQNw0cdlkYqpBSNVBN6npi+J325DF5GbK7nCcNJcNQRDpjap4bDLxoE6W10lrX4xrn1lDts/BxYcWMy7Xh2mY/Ob1TRSmuWnoiTIhP4VtXWEeaAmy4OiRnDopD7dNQjVMDi1Lozzby6hsL2u292KayXovncE49/93K09cMZMXfnAYG5v7sEkC910wme1dUUQRtrSFeGBRDaYJ1xw1kgK/lbjyUw5F4ojRWcwekY5hJh9bLJYvzgouwzEZUigMksdEQDNNwCDFlky5n+KS0M3kHEZbUMVll2npi9MTUdnSGuCYsTn4HDYCMQ2bJPK7MyfitskoEqxr6GVMXgqzRmSwrTPCudMLqe0Ms65/l/wD79fwwyNHcExFNqNzBk+ynzWtAJdd5rEl28hPdfKXi6YxOseHKAqDJuSnl0B1W5Dt3VGOrcjmmNHpHDU2z7rlsws22QoqFsv/wgouwzKHrBAyTRNVM9FNE90wEAUBVQBV16nripDqsJHQDFJdCl2hOD6HTH6qk4n5PlZt78FlkxmXl4LfpRCMqai6QThu8Os3NvP7syfSF00eW1bXzfQSP0dXZJGX4qDA7+K5VY0cPy53SCuzfA6+M7uEM6bkY5dF7MP8tl2e7aW8f9NkVVUVGV6rYJfFYtn7rNViwxKG5BUzjJ2XJQuYCEiiSDhukOG2oxoGbrtEKKahGybpbht2JXmZc3wOitLd1HcHcdpEtrQFue7ZtVzz9BqOHZvFoqoOJhakohsm721u5+8f1nFsRTb13RH++E4150wv5MdPraamv+rkZ/mcyrCB5bO+gZl/LBbLV8QauQxHSO7E35kkiWiGgSiaSKZAXNfRNAOvXUIzTCRBQBRB1mFbd5gtrWEmFaYQTRjYZYGajh7iuk59V5QUp42fnTyWaEIjN8XJlrYgNilZ8lgQBOyKSGVLgIkFqUzIT+Uvi2rpCMV5fX0LC44u/3quicVisewBK7gMw+zf/rFzfDFNE1kSiKnJORe7JBFL6PRGEiiiiG4mN1l2hONkuOyMn5JKbzROu5FAkUXG5HpRdZN/LNlGgd9JMKYxOsfLH9+pJhDTmD8um1Mn5Q/crrrp+fWDlhkDrKzv+YqugMVisXw51m2xYSSnW4Ymr4zrBjomCc2gJ5JAECUUWSSU0JBlcNokyrM85PsdrGvsJa6adIUSRBLJEsUJXef4cTmomsHobC/VbUEC/Zv3phb5B9UmO3H80DmWEybk7LM+WywWy95gjVyGZfb/c8e3vW6AqhlohokJRFUdnyQiiwI+p0JvVMUwTYJRjTc2tIIAx43LoTzbg02WeK+qnUBM5dix2UwvLmVxdSert/eSn+rk7OkFFKY5CcZUeiMqRWkujhyTxXkzCnmmv2TxeTOKOHxU1i5bu7U9SF1nGK9dZnSOF7/bmqy3WCxfDyu47IYgCIOn9U2QRNCM5HHDTAaY+u4oTkUkxZlM+eJWJM6dUUhCT9Zy+dVrlTT1RDlzWj5jc310BeOs2d5DmtvOLSdVDKwSe2Z5A2WZHv65pJ5LZhdz1bwR3HbqOC6bU4oAFKW7sO9imeyyui4u+ftyoqoOwAnjc7jttHFk7UFpYt0wqWwJsLU9iNehMC4vhZyU/b+kscVi2X9ZweULEiUwVIFALIEAKCLENR2/28bSrZ2ML0glrum4bBLRhM7zq5up7Qix4KiRLN7SycbmAKlOGxW5Ph5bup2oqnPLSRU8vLiO1kCy3sr4glQ0w+RvH25jbF4KZ04t2GXNlU/1RVV++cqmgcAC8J8NrZw9vZCjxuw+SHy0tZPLHl2O1r8SblpxKgvPn0peqvN/u1gWi+Uby5pz2Y3PLtfVdRNRhFSHjMsmoesmjT0x+sIJZpSl0xtJ0BNO4HMofP9fq2kLxDh8VCaZbhsl6S6OrchmdI6Htza2Upbh5qYTKnh6ecNAYEl1KcR2ChJvbmgdtn0N3REausNsbgsOea4zGN9t/3ojCX756saBwAKwsr6XDU19w7zLYrFYhmeNXIYjCEMm80EYGCFEVYOwapDqVNjWFWZ7TxS7LDIy08PC/gJdm1uDfHfeCNY29vL86ia8DpmOYJwLDiniqIosVM2gtiMMgFOR+MERI3lwUc3A2aYU+QknNEIxjTSXDUUW+8+t8eraFm57ZRMVuV7mjszkvc2DK0cWp+8+rUskodPQHR1yvDey6yJiFovFsies4DIc89MJ/R0MDBKaiSwKuBSRbK8NTYcMj4JNlkloOts6wxw1NptTp+STl+okN8WB1yEhSRJNPVEyvXY6Q3GK0l2cNb2QqcV+OkMJ3DaJW15cT3c4AUBJuosZJX6++8+VrGvqZf7YHL53eBkjsrxsag5yw7/XAbB8Ww8/mT+anmiC1dt7cdkk/u/ECsbnp+y2i5keO6dPyeep5Q2Djo/I8uyda2ixWL6RrOAyDLN/z4rcv5PS7C8S5pBFNN1AEARMIbk0WTUMIokEggCKItHVHyBWbe9heV0PK7f38P0jRiBLsKm5jzOmFjCrLJ21Db28W9WOQxY5akwWD140neq2EIIAOSkOzn9oKT39o4hnVzZS1xXm75fMoLZj8C79u97azDEV2Tz//dmke2wUpbn2qLiVIot87/ARJDSDF9c0keGx84tTxzH+G1YkzGKx7F1WcBmGIIBpCANf0oIgIAggSwJ9MR1BENB0E0kASRYBgaW1XbyxsY1vTc7nrY2tnDYlj/9uacc04bf/qaIozUWqS0EQ4OOaThY8uXqgENX979fw7HcP5cgxyaXG/61qHwgsn1qxrYeltV1EE/qg44YJNR0hSjLcpLltX6ifJRlufnPmBH58zCgcikiWz1opZrFY/jfWhP5uiDvlfzHN5J9ATEMzwDRMFC2IlzDoCeq7InSHVc6ZXsBbm1rJSXGQ4lAGZe3f3h1hXWMfzb0xnlzWMKjCYVwzeGtT28Bjl23okmO7LKLqBp/UdXPk6KxBx285eewXDiw73i9RlO6yAovFYtkrrJHLsIRBu+UFATDB6E9OqWo6PYYT0RBYWd9NQZqLFKdMY0+UQ0ekM6UwledWNTG3PIMPqjsHPmdasZ/eaGLQ0uFPhXYqszsq28OxFVm8Xbljov6CmUW0BmK8tr6F48Zmc+2xo9B0A0kUyPySgcVisVj2Niu4DMtk5+Vippm8JZbisBFMaPRFdRyySG17mPF5KcR1A69TIdVtI9fnYGt7iKeWN3D1kSM4piKLpTXdTCxMoTOU4C+LallwVPmQPGHH75Taxe+286vTx3P29D6aeqPkpjh4fOl2FEnE71J4a1PbwEhnTI6Xiw8t/kquisViseyOdVtsGKa5YxK//wihhE7C0FFkAZdNxKFIjMn10BaK4XMoZHhs9EVUGnuj3PveVkZkusnyOoipOvXdEeySyKMfbyOuGXy0tZPrjxvN5IIUZo9I52+XTCfbZyeh7RjRZPucHDcuh0sPK2VqsZ+ecIJ/La3nmqPLmVbsx6lIzB+XzZ/Om0Kale7FYrHsJ6yRy3AEAdMwMftHL6Zp9q8UM5P5xXSTQCyBppuUpnuo6wyzqLqDTU0BZo/M4LLDSkl1KfzfCxv4wZEj2NQS4NElGv93YgXPrtjOxpY+JhemcudZE5O1XZ5ZSyiucda0fBYcVT6k/HCW18F9357K25ta+WhrJ9+dW0ZpppvCNCcOxfpRWiyW/Yf1jTQsEwOQ+0cuoiiiJTQM0ySa0JFFga5wgkyPg0VbOogkdI6tyGZGSRo+h8x7VR28sLqJcXk+GnuSGxW3d0e4840qnvneLNJcdpbVdfFeVTt3vrF54KxPL28k2+fgumNHD2lRaYabq+aN4Kp5IzBNk0hCQxQE+iIJfE5ll8uPIwkNuyxZ5YwtFstXxgouw0juzzcx+7dRGoZBQjcQTAGHItEXS+BQJMDk6IosmnqixDSD8bk+qtqChOMaPz6mnLiq88Ci2oHPlUQBn0OhuTfKr1+vYv64oSn0n1/VxKWzS/F/ziT91vYQz69qID/VxUdbO9nUEuCkibmcM72Q4nQ3AE09EV5b38KLq5uZVJjKRbOKGJu3+42VFovF8r+ygsuwPk223/8bv5AsadwdimFTJDx2ub/6pEhTd4QfPrkGr0Pm0tklHD46k8kFqfz0hXUcMTobmySS0A3sssivT59ASbqblfU9hOIaaZ6hAWRUtmeXS5EBukJxrnlyFfNGZXLP21sGNmz++b81bGkN8cfzJyOLAn96t5pnVjQCsKklwJsbW3nhB7MHgo/FYrHsK1ZwGYYpCAiCidm/GUUANEPH77XRG1aJJHREBOKaxjOrmsjy2vm/kyr43Zub6QjFGZfn4/hxuTz+ST3fPbwMExiV5eHoMVkIgkCW10FcM4irBiOzPGxtT+66d9kkFhxVjl3ZdXCp7QyzqSXIMWOzBwLLp96ubKOhO4Iiivx7ZeOg57rDCarbQlZwsVgs+5wVXIZhGgYCIPavqTMBuyRiIpLpFeiLqlS3h3HbZc6eVoBzlsSPn1rDKZPzeLeynXcr2zlrWgE/mT+G6vYgFTle4qpOZziB26EwLs/HWdMK+OuHtVw4s5jTJuWRm+pgUkEq5Z9Jsa8b5sCcidL/b2kX8yuKJKBIIpIgIIvJ0dLOZMmad7FYLPueFVyGYQCYAqLQXy7MBN2E7kgcmwjBmIZDEcn02Pn38gaWb+/ljGn5BGIaTb1RBCH5GZUtAf6yuJarjxxJOKHx4poW/nzBFNI9dn528ljOO6SQYFSjJMNNacbgUUVdZ5jX1jXzXlUHx47N5sQJOZRlejhhfA6NPVHG5/vY0BQYeP33Dx9BcX9ese8dMYJ7360eeG5UtofRw9SF+VR3OM727ihORaI0w4VtF8XJLBaLZThWcBmGhIBmmui6gU0GBEgYBpG4hiYnsxy7FQglVM6dWURFfgp//aCO9v46KnNHZrC8rpvDRmagGyYum0RrIMaiLR1s744wNi+FFKfC9OK0XZ6/KxTnx0+vYW1DL5BMgrl4SwcPXjiVn508lqW1Xcwo8RNVDRp7IhxSms604lRkKTnUumR2MRW5XhZv6Uym5S/PIHc3BcC2tAW55snVVLUGkUSBHx4xgsvmlJLqsnb/WyyWPWcFl2EYJDdQiqI4kFdM0MFtl+kJJ0AQUCSBcMJgxbYevA5lID3/nJEZHFKazodbO2jojvCtyfn4XQr/Wd+CJApUt4doD8aZWuTH51SGnLsvmmBtY+9AYPnUktou6jrDTC7yc8bUgmHbn+62c8L4XE4Yn7tH/Y1rOgvfraaqNVl4TDdM7n1vKzNK0pg7KnOPPsNisVhgHwaXtWvXctddd/HYY49RX1/PT3/6UwRBoLy8nJ///OeIosgzzzzDU089hSzLfP/73+fII48kFotxww030NXVhdvt5s477yQtLY01a9Zwxx13IEkSc+bM4eqrrwbgvvvu4/3330eWZW6++WYmTpy41/pgmAK6aCL3L0c2BbApAloc/G4bnYEoMVWkMxzHbZdp7Ytx5ZwSJham0hdR0QyTkVklA/nC/rm0nkBM4+xpBTy0uJaNzQFuO3Ucl8wuGXTehu4wN7+wgWnF/l22S9hH+1V6wgkWbekYcry2M2wFF4vF8oXsk/QvDz/8MLfccgvxePL20G9+8xt+/OMf88QTT2CaJu+++y4dHR089thjPPXUU/ztb3/jnnvuIZFI8OSTTzJq1CieeOIJvvWtb3H//fcD8POf/5y7776bJ598krVr17Jx40Y2btzIsmXLePbZZ7nnnnu47bbb9mo/ZEnAVE1EQBSScy8iBn6HAFoMj9NGmlvBY5PxORRG53opyfCwrTNMdVuInz6/nmueXMPWjhCNvVGmFqVy7bGjiCR0NjYn50nuenMzTT2DK0G+V9XBB9WdbG0PMbVocIA5ZkwWZRn7ZrWXz6kwpWhoQCv0D38rzWKxWD5rnwSXoqIiFi5cOPB448aNHHLIIQDMmzePjz/+mHXr1jFlyhRsNhter5eioiKqqqpYuXIlc+fOHXjtkiVLCIVCJBIJioqKEASBOXPmsGTJElauXMmcOXMQBIG8vDx0Xae7u3uv9cM0DCQFdCNZNEw3IK4JBBMGmmDH65TRdBOfUyYvxYFDEtncmtw8edfbWwjGNBK6wYOLamnojjC3PJN7363mtfUtA+eIqjqaMXhF1wfVydHDq+tamFKUypVzyzhqTCZ3fGs8vzhtHF7H0Ntoe4PLJnP9caNJ32nj5plT85lQYG28tFgsX8w+uS02f/58Ght37LEwTXMgLYnb7SYYDBIKhfB6d6xccrvdhEKhQcd3fq3H4xn02oaGBux2O6mpqYOOB4NB0tJ2PUH+qXg8TmVl5W77kV9UjKGbCLbkbn1JAKddRhBFQjEVVTOJ6wahmM47VW38e2Ujhgn3nT+Z82YU8vSKBkwTxuX5KEp3Y/TnJgvvVOjrvOn5JHrbqGxPjvJEUWRWSQrv9KfZ/9uHdficMjcfP4rp6SrB1noqW3fb9D0Si8WGXAdFEHjkgrG0hnScikiGXaOzsY7Oz/mM/c2u+nSgs/p0YNjbfaqoqNhrn/V1+Eom9EVxxwApHA7j8/nweDyEw+FBx71e76Djw73W5/OhKMouP2N37Hb7Hv3gwpEomikg91egNE0T3dCJaSaBuE5CNWgLRcn2uphZmsb4vBQK/E7+/N+tnDo5n2yfAxOTbZ0R/vTOFhaeP5kHL5zGXz+so6E7wrxRmZwwPofysvRB53Vlhlm8tYfF/TVgxuR4OXREFsV7+XZYZWXl516HvTdz9dUark8HKqtPB4aDsU//i68kuIwdO5ZPPvmEmTNnsnjxYmbNmsXEiRP54x//SDweJ5FIUFNTw6hRo5g6dSqLFi1i4sSJLF68mGnTpuHxeFAUhe3bt1NYWMiHH37I1VdfjSRJ/P73v+fyyy+ntbUVwzB2O2r5IgxMZBE03UAQDXTDSK4YEwz8LoWEppPm9tEbVUnoBr1RlTc2NHP53FI0w+S2Vzai6sn1Y6dPySPDY+eKf65kVLaXsXk+/rOhhRdWN/Hs92axpqGP19e1MLXYz4kTclh4wRRqO8KYJpRluq2lwBaL5YDylQSXG2+8kZ/97Gfcc889lJWVMX/+fCRJ4qKLLuKCCy7ANE2uvfZa7HY7559/PjfeeCPnn38+iqJw9913A3Dbbbdx/fXXo+s6c+bMYdKkSQBMnz6dc889F8MwuPXWW/dqu00dDMFEFCUkUUQQBIy4TkIzEPunqza3hXjsk3pOGJ/D+DwfvZE4y+p6qOkI8pcLp9EaiJHqsmGTBAQzufHyswXCVm7r5aYX1gPw/pYOnl3RwFPfnbXLyXWLxWI5EAimuXOF92+GPR2+hiJREqqO3S5jk2UwIaHqBOM67aE4bYE4bofEmu29vLKuhdOnFPDr1ytx2SRumD+aF1c3sa6pj0kFqZw2OY/SDBdX/GMlmrHjkrtsEpfOLuHP79cMOvejl87giNFZe73vOzsYh/FWn75acU2ntiNMKK5RnOYiy+fYo/ftz336sg7GPv0vrEqUwzAwkUQQdgq/CcMgphk4FREBk82tIdI9dm4/bTzrGpMjkkhC51evVTJ7RDrPf3826R4bDy2uoTeq8oMjR+zIESYJ3HTCGF5c0zTk3N/AmG85wPRGEix8t5qT7v2Asx9cwhkPfMym5r6vu1mW/YS1Q38YoiCgIYCZTL2vmSa6aaJIoBsCeX4nHodCXzTB2xvbOHtaIePzU1nf2MuoHC/Tivw8vXw771a2IwqQUA003WDBUSP7U/ULLNrSwZzyTJ5e3jBw3oJUB6OyfV9fxy2WPbCxOcB9/90x4m7sifKb16t48OJpuG3WV8s3nfU3YBiCCYKwY0e8LAo4JJGEZoIAcV1HkQRsskRZlhvdMMnz2SmfWgAmyAID9VQyvXZyU5yAwNK6Ll5b10KGx84Pj0xWlJxUMJ5X17UwvcTPKRPzyLc2Llr2c409kSHHltZ10RtOWMHFYgWX4ZimOei+odm/kTIY05IbGc1ktuSt7SHe39LB6VPycdpldMPEa5dQTXjoomlEVZ10t41fvLIRwxBYcPQIzpxSwJrGHu56cwu3nTaOUyblcdKEXJp6o4iiMCjFvsWyP8pLGfoL0PRiP6lOa2WjxQouwzKFZFZk+dP5D0FAFCHTrRBK6HRHEsRUgwyPnVMn5/NxTRf1XREOH5XFMyu2M6c8kx8fU05VS5CL/76MHxwxAo9Dpi+qUdvRjW6aXDanlM5gjM1tQX7w+EpqOsLYJJGfnjCGc2cU4rZbPyLL/ml8fgqXHVbK3z+qA5Kj85tPrMDtsP7OWqzgMizBNBHYkV1AAOT+22KqAelumdzKR2nOmMN/Wl209MWYVJjKsm1dbG0P8+NjRvH2pjZmlaYxIT+Fu9/ewk0njOGO1ysHPs+hSDx55Ux+8dIGajqSG0ITusEvX93ExIIUppfsvX07Fsve5HfbuH7+KE6fmk8oplGc7iJvNyUdLN8cVnAZhgDoOugiSGbygGlCRNWIqTrdwTjNmd8ijo0R2SZj8tJ4bOk2XDaZe8+fTELTWVbXjc+h8NszJ/DOpjYqWwPce94UVm/vQTch1+egN5JgSe3QnGjbuyNWcLHs11w2mQn5Vu45y1BWcBmGSXK5sCQkJ/AxTeKqjl0WkSQTv8+OhIO4ZqAZBou3dHDBIYVs74rSG1F5cFENJ03M4+3KNn49ZgKXzy0joen84uWNvFvVTkIz6ImonDopj9HZHja3hQadP81t3bu2WCwHJmufy3AEIZkRWRAQAEEQsNskXIqMzy6hacnbZs8ur+c7jywn3WNHliQq8n08uXw7giDQFoiR5bVz15tV3PdeshDXi2uaaQvE6YmoALyxoZUFR5fj2Wl+5ZSJuThk68djsVgOTHs0clmyZAkNDQ1MnDiR0tJS7Hb7vm7XfkHA7F+5lbwdZhgGsbhOVNXRgYRmEFfhjOlFnDgpH4csEU6o3PbyJgIxle8dPoKHF9dyzTHl/GvpdtY39VHVGqQi18vK+t6B8yR0g+aeKBcfWowkCsiSyCe1XXSF1a+t7xaLxfK/2G1wueeee2htbaWmpgZFUXjooYe45557voq2fe0EIXlLTBJMBCGZ3dluA0TojWo4JBNXoIaC0DoSRfP4pC+Fxu4o3ztiBHZJJJzQOO+QIp5atp1sn531TfCfDa3ce95kNreuJxRPVqg8bmw2JnD/Tilg7LLIraeMpS0QozucIMNjI9O7Z6k1LBaL5eu22+CycuVK/vWvf3HRRRdx+umn8+STT34V7dpvJFch968WEwBM4qqBKIDDbkNNH8NG70jauuLEDY2yTDeiILCmsYf73qshrhlcMbeU51YmN1PqhsnmtiB3njmBzW1BRmV5OWxkOn1RjfquCC+vbWZElpubT6igN6xyyd+X0RaIU+B38odzJjOj1Jrgt1gs+7/dBhdd14nH4wiCgK7rg2qzHOxMwwTx06CSpGkGoiAQ13TCcRObJJJilwkoGvGogW6YVHeGeGhRHaYJF80qJhjTBuZXFEnAqUhs7Qhz77tbqcj1csToTEoy3Nx22jiuOboct02iMxzn5Hs/HCgs1tgT5XuPr+SVBXOs5Z4Wi2W/t9vgcskll3DGGWfQ3d3N2WefzXe+852voFn7CwHB3FGC2AQkWcRQNVKdCuF4nHBCQ7BLpHlshBIaUVXH71K4+aQxbO+KElE18r0Oxuf78LtsHDk6i4+2dpLuSc5bORQJsX8nvmGYqLqBaog09UQHVawE6AonaO6NWsHFYrHs93YbXE444QRmz55NfX09hYWF+P3fnBojogiazuBNlIKAJIokNA2/UyGm6cRVg3er2sn0OfjHx/V0huL8/qwJdIYSKHLyvT+ZP5pgTKW2I0Km185T/YkqvzO7hPZgHF2Pcddbm3ljYyul6S5+edp4RAF2ys6PXRb3SdGw1r4YCd0gN8WBIn1zRqYWy8Giurqa3//+90SjUSKRCIcffjiHHHIITz/9NH/4wx++ljbtNri89957PP/888Tj8YFjDz/88D5t1P4iuW9SGJT+XtMNJBHiGogSyKKIJppML0mjL6ry3cPLMAwTURCZUeKnviuCyyaxYlsPTyzbzvXHjSaq6pw2OY+xuT4eWlzL6GwPnaHEQFnj2s4Iv/1PJdfPH83v3tgMJG/N/eKUcZT2lzrWDZMNTX1UtQYGNrKVfMEyyIJs59kVDfz69UqCMY3zDynku4ePoMDv2jsX0GKx7HOBQIDrrruOhQsXUlJSgq7r/OhHPyIzM/Nrbddug8udd97JL3/5S1JSvoG7cE0QPvOLvCgKoJsokklnRMU0TByyjIBJmtuG2ybzytpG0kdkUt0a4s43Nw+sCpNEgWyfnbc3tVLTEealNc0AHDUmi+dXNw86z4bmINcd6+XFH86mtS9GfqqTUdnegWSWy+q6uOhvywYKjxX4nTx2+cyB4LMnmuMKN/x73cDjx5Zux++yce2xowZGaxaLZf/27rvvMnPmTEpKSgCQJIk777yT1atXs2zZMgAef/xx3nrrLTRNw+v1snDhQpqamrjpppuQZRlJkvjd736Hoij8+Mc/xjRNVFXltttuY/To0V+qXbsNLuXl5cycOfNLffiBz/z0f8lHpokgiNgkEJw27IpMOK6j6zopThuiCNFwkOPLPdz2VjVXzC3ld2dNZGNzHyYwNtdHQjPY0BygLbBjJBiKa/hdysCk/6cUWWRyoR8KB7cqHNe45+3qQRUtG3uiLN/W/YWCy/qW8JBjz65s5JLZJQNzQhaLZf/W3t5OYeHgLwm3242iKEByf15vby+PPvoooihy+eWXs379eqqqqhg3bhw//elPWbFiBX19fTQ3N+P1ern77rvZunUroVBoV6fcI7sNLkcffTTnnnsuZWVlA8d+85vffOkTHlAEAdM0EAYeCkiiiWEIoBsEYzomENYM3IqAQ9AwXV6iCY0fHjWCuKrjtkkcV5HNb/9TyQPv1/Czk8Zy+pR8HlxUO3CaV9Y2c/1xo/m/FzcMHDt6TBYVOTsKhlW2BNjUHEAWBSryfDT3Roc0tyu0I2D1RVVa+2J47PLn1obJ9g6dvynNcOO0SV/wQlkslq9LXl4emzZtGnSsoaGB5cuXA8n9eYqicN111+FyuWhtbUXTNM466ywefvhhrrjiCrxeL9deey3z5s1j27Zt/OAHP0CWZb7//e9/6XbtNrg89thjAyf/xjFNxM/cHhIQMDHQTchyCwTioOkSraEEfZEEAiqCCG2BOIZpktBN7n+/hk/qerj0sBKeX93IlXPK+PbMIl5d14LfpXDJ7BI+qO7gb5dMZ1tXhNwUO9OL08jwJkcPaxp6Of+hpUTV5Oqx0dkezptRwN1vVw9q27Ti5GKLza0BfvLcOtY29JHqUrj9tPHMH5eNTR4cNCoybINymtllkWuPHYXLKvRksRwwjjzySP7yl79w/vnnU1RUhKqq/Pa3v2X27NkAVFVV8c477/Dss88SjUY544wzME2Td999l2nTpnH11Vfz6quv8te//pVTTz2VrKws/v73v7N69WruueceHnvssS/Vrt1+i2RkZHDiiSd+qQ8/0AnsuCX2qYiqEY4lk1cagoJmqkiCSbrLhs8u0RFKkOq00dwbZVJBCt1hleklacwpz+DdynZ6wirrm/v4oLqTb03JZ2phCj9/eROKLHLChFxuf3UTHrvMAxdOxaGIuO0K//i4biCwAGxuC/H9NDfXHD2SRz/eRqrTxk0njmFiQSqhmMrPXtzI2oZkLfPeiMo1T63m5R8exoSC1EF9salB/n7pDDY1BYiqOqOyvYzJtcorWywHEo/Hw29/+1tuueUWTNMkHA5z5JFHMmLECFasWEFxcTFOp5MzzjgDm81GZmYm7e3tTJ48mRtuuIGFCxciiiI33XQTeXl5XHvttfzjH/9AFEV++MMfful27Ta4OBwOLr/8csaOHTswyXvdddd96RMeaEzz0136SU5Zxu4WCSd0mnujpLoVJFFBEU36opDilDExmVLop6Y9hNelUJru4v0tHcwZmcHYXC+3vLQB3UiOFF5d30ogpvJ/J1awvC6Zdj8U11i8pZPajhCnTsqjrnNoOdm3NrVSkubigQum8uHWTja3BBmdnRxdLts2OH2/aUJdV3hIcAHIT3WRn2qtDrNYDmTjx4/nn//855Djs2bNAtjlcwBPP/30kGOPPvroXmnTboPLkUceuVdOdCAyERAwGHxnzETTTRKaicsuEUnomAaYsoAkCeT4HMlsBoZJVHUiCQJLqjswgZmlfm57ZRMXzSpmRkkaNe0h7LLIoWXpeOwyz6xoHDhLQjd4aHEdMdXg9Cn5rGnoHdS28Xkp3PXWZja3h+iNqKys7+G/mzu49/zJ5KY4aOmLDXp9hjVBb7FYvkKfu2Nu/fr1AGRmZg75842RzLM/+JAgIAkCdpuA2yYhQn86GJNAVGNbV4T2QILucAJVS5ZCPnZcDidPyOWjrV3MH5/DA+/XsuDJ1fREEozN9ZHusXHLixtI6MlsAJIokOtz0BaI0RdVWbW9mx8dXU6qSyHLa+eao0fy4dZODBPe39zBzP58Y2sbe+kOJ/j1GROQxR3tPmtawaDFARaLxbKvfe7I5fzzz2fDhg289tprQ56bM2fOPm3UfmPgftjOAcZEEEE0BOK6gVMWiKoGvVGNTK8NlyIS08BlE0h1ulnb2Mer61vx2CVqOsI0dEe555xJhOIadZ1hPq7pYlJhCjedOIbnVzXhdcgcXZHFox9v4+SJeSza0sHG5gA3nTCG35w+gcXVHTy2pH5g2XJJuovm3h2jFFEUmFeeySsL5rCtK4zfZWNMjnef7Oy3WCyWz/O5wWXKlCnAN2jZ8bB2TLqYpklCN1A1A0UWMU0BryQRUg0iCQPTNBEFWFkfIBBVGZefQkm6i/ZgnFMn5tEZiqObJo3dYWKqznFjs7n4kWVkee3cenIFG5oCPPlJA8dUZKPqJhubAwDEtWSKmda+6KAkmN+eWcydb1QBcOKEXNJcNhKaQUWujwprct5isXxNPje4NDY2fm7dlm/MhL4wOPVL8pCIIgGCSSxhYpJMOOm1y8n5FzM5UT8+34eAQFVrgN6wytFjstjeHSXNY+OZ5Q3k+Z2cPCGXBxbVcOToLN6raueHT6zh2Iosvn9EGb99YzMdweS+laMrsljf1Mea7b3cedYEZpalk9AMStLddIVinDQxlxklfgJRjeP/uJhDR6Tz/44b/aWDS0cwRjCmkem143Uo/+NFtFgs30SfG1wcDgelpaVfZVv2OwLJO2ODU6Ekp/kxRRB0TNOkN6IS0wzS3DbCCY24ZuKxS6xvDNISiNMajBGOa9hlgU/quplR6mdKgZ9nVzawrK6bW08ey6hsD29ubMMEMj12bpg/ikBUI5LQqWoN8N+qDv7fcaOo7Qhz91tbBlrjUERumD+aQFTjN/9JjmDeqWynqjXI89+fTZZvzwuMGYbJB1s7uem5dTT3xZhe7Of2b423RkAWi+UL+9zgkpGRwemnn/5VtmW/Y5Kcz//s6MUwDRBMJFEkGtNw2mTSPeL/b+++46SqzgaO/26ZPrO9sn1hd+ldBEWxIUrsLYJBY4nljTGaaExMUWNJTGKaURMTYxITC1FjNJYYKxYERTpLh21s79Pu3HLePwYWVmCxrCB4vu/njcxlyjkzyzx72vNg2YI0n4uuqMWmlgjhhEVuyENhmo+/vLOVwjQfZ0wowKUpLK/vZkZVDudMKqI3brKkpoOfnjWa9c1hvv3PFUwsSefyo8po7I7jc2nMqMwmM+Dme0+t7NeW/FQf1Y29FHwoDX99Z4yt7dGPFVw2tIT52l/f79tY8H5NJ9f/czn/uOxwuWYjSV9QjuNwyy23sG7dOtxuN7fffjslJSX7fNxeg8vo0aMHtYEHJfHhI5RJmqpiJmwsS6CrgmhC0Bq2cOsKkbhDj2GiqlCZG6ShK4ZXT44uIgmL92o6eXZ5I5tak6fixxSkcv5hRfx7eSPPr2ri+BG5nDZ+CJ0Rg81tYb731CpGDUmhN24hgG+fWMWdz1fTE7cozvBz4bQSNraEeWdTW782KgoEPB8vjUtNe6QvsOywelsPjd1xGVwk6SDx9NIGfv7fdX21n26YVcUZEwo+8fO9/PLLJBIJHn/8cZYtW8ZPf/pT7r///n0+bq/B5cYbb/zEjTm0KQgEHpeGotrELZ0gDpaj0BW3SPHp6JqCaTsIwLQFWUEXDV0xnlzSgFtX+wILJJNZZofcfPmwIua/X8eLq5rICrq5d+5EUn0uUn0ultcnT9un+11MKklj/hXTqO2I0hMzCXh0ThyRyx/f2sx7Wzv7nveSI8so/5gp+NP9u6+vpHh1Ql6ZDkaSDgZPL23ge0+t7Mvo0dAV65vt+KQBZsmSJRx11FEAjB8/nlWrVu3jEUnyW2MgyTmxD11MHtk3LAfLdsABw3HQVJWQRydhCXRVIZoQuHWVkfkhNrdFeGlNM/VdMS4+opRjq7Kp7YiRGXRTlO6jsTvO5OJ0pg/LwrIdCtJ9JEwHWwgev2IqG5rDCGB4Xojy7CDAbmlarjm+gmOrcqjtiFKc6WdMQSq+j5kjrDIvhblTinlkcW3ftR+fPlrWd5Gkg8TP/7uuX6oogJhp8/P/rvvEwSUcDhMMBvtua5qGZVno+sDfLzK4fExie+JKFAWPS0veVpJZyCK2QFEg3e/GpSmEEzZNPQYBt868qUV0Rixaew3e3dqBsAXZITf1nVE2tEToiiUYPSSV4gwf33xsGWdOKOD+NzZx7fEVOCJZK2aghfWMgIcZVTmfqm+pPhffOamKU8fl0xo2KMkIMDzvC5iwVJIOUnvKlj7Q9Y8iGAwSiewsz+E4zj4DCwxwQl9ij2suqgIqKm5VRQAJy8FybBKWg6qoKAp0RRM4QNhITlvlp3qwHIXo9uSQ5x9WzLC8EI4Av1snYdnMHp1PwnK49vHlnH9YMc+tbEQI+NXLG9BUlZufWcPlf3ufuvadecYs2+H9rR388OmVfPfJFSxY30o8Ye2xK629cdZs66ape+AfsjS/m2lDszhtXAHjitLwuGT6fUk6WAxJ23N5jb1d/ygmTpzIggULAFi2bBmVlZUf6XH7beTy1FNP8a9//QsAwzCorq7mscce48orr+yroDZnzhxmz57N/Pnzeeyxx/rqCRx77LHE43FuuOEG2tvbCQQC3HXXXWRkZLBs2TLuuOMONE1j+vTpXH311YPWZmUP51wABAIhktuTPbqKouhEDDN5/kUo9MQtErZDZ8Ti6WU1CCGYM6WIgEvHchweX1zL0VU53P/6JhRF4dSx+TR0xfC7db59YhUhr07NLkFkxyL7hpYwr6xtZkJxOuOK0lhW18WXH3gXe3vRsMffr+O+uRM5YWQuLm3n7w3vb+3g2seXUd8ZIzvk4e5zx3FURdagvU+SJH0+3DCrqt+aC4DPpXHDrE9WTRJg5syZvP3225x//vkIIbjzzjs/0uP2W3A566yzOOusswC49dZbOfvss1mzZg0XX3wxl1xySd/9Wltbefjhh3nyyScxDIO5c+dy5JFH8uijj1JZWck3vvENnnvuOe677z5+8IMfcPPNN3PPPfdQVFTE5ZdfzurVqxk1atSgtFmw+zbkvr9THYyEg1vTQIDPpYMCiiLwuRx0VaEiN8Bl08sIuDVswKUqdMcsjh+Zx/efXkVvPDnK+OXLG7jg8GLe3thGd8zkrImFfa+jqUq/QNEZNfnX0gbyU7z88/36vsACyYHWkx/UMzwvRNn2tZltXTGu+vsHtG4vJNbaa3DFw0t47povSAofSfoC2bGuMpi7xVRV5cc//vHHftx+X3NZuXIlGzdu5Oabb+bmm29my5YtvPLKK5SUlHDTTTexYsUKJkyYgNvtxu12U1xczNq1a1myZAmXXXYZAEcffTT33Xcf4XCYRCJBcXExkMx5tnDhwkELLvDhA5TJL3BNVXCc7fvGhEPCskk4AiGSX95+j4plO3RGDSwnOdKJmw5hw+Lax5eTEXDznZOG8/KaJuo6Yhw/IpfumEnMtLn9zDH88qV1AAQ9OlfOGMoTS+oAyAq6iZs2b21s44zx+cQte7f2WragpdfoCy6N3fG+wLJDzLSTo5hBe5ckSfq8OGNCwacKJoNlvweXP/zhD30FaMaOHcu5557L6NGjuf/++7n33nsZPnx4v6qXgUCAcDhMOBzuux4IBOjt7d1tF0MgEKCurm6fbdgxLbcvpaWl2w9S7h5gFAReXSdhOSiqQjSWwBYKXpdGQ1ccXVXIDvkwLZvumIlHUwmEPPzhKxOJWw4pXhdXzhjK+zWdqApMK8/guOHZRBMW159YRdyyyfC7WbOth4BH57RxQxiZn8KvXl7PjMpstrZH+dKYfP69bFu/th05LAsV0dc/xZWCR1cxrJ3nVxQFPCJBPB7/SO/DwUT26eAg+7RvI0aMGLTnOhD2a3Dp6elh8+bNfQVsZs6cSUpKSt+fb7vtNiZPntxvZ0IkEiEUCvXbsRCJREhJSdltF8OO6/vi8Xg+0gcXje5epGvH7mRHgI3AEg6G6RDyubFsgeUIhmYF0DSVmGGRILmTy9w+kskMeokmLNyawqbWKEIIwobD8vpufvPKBqpyQ1x7QgWG6bBoaweTitOZGjZ4Y0MbzyzfRprfxYyqbBZv6eSkUbn89vwJPLGkDlsIZlRmkxV0U5jpJztYheUI3JrK7Wc4fOfJFX37E7570nDGl+exeWPPQf8D/GHV1dWyTwcB2adD337dLfbee+/11XUGuPTSS1mxYgVA33TW2LFjWbJkCYZh0Nvby6ZNm6isrGTixIm88cYbACxYsIBJkyYRDAZxuVzU1tYihOCtt95i8uTJg97uXddddlSmVMSOqbGdKWJskdymZ1g2UcNCURSaumOEDZPemInlgGEmRyQPvLGZDS1h/vz2Vu5/YxOqkpxuW9fcyzWPLUWQLJ18wz+XU5jh52tHlXPzqSO5+9xxjCtM5fH3a/nH4lpsx+Gy6WXMm1pCcYYfv1ulucfg6keWct4fFvLUB/XMqMriqauO4O5zx/GHeZM4rDQd097zWpIkSdJg2K8jly1btlBYuHOx+pZbbuG2227D5XKRlZXFbbfdRjAYZN68ecydOxchBNdddx0ej4c5c+Zw4403MmfOHFwuF3fffTeQ3Bxw/fXXY9s206dPZ9y4cYPX4D0dolS21w9Twbac7SlgFHRNw3IsUBQcDWKGTcCTPN3u1hTCcYeIYRNw65z/x0V0x0wyAt3ccGIVP/7PGp78oIFvz6zk929soidusbyum9wUD2dOLKQjkkiWTi5MoyjDT8jn4oLDS/jbwhrawwlmVGYR8LrwuzXipsOtz1azbXslyuufWMEtp46ksTvOHxZs7uvGTbNHcGy+zHgsSdJnQxF72w51CPuow9doLAZCoKpq36EhIQSmIzBMG1BJWA4J20EgiCUshAC/R6c3ZuEAG5p70FWNpp44d/13HSGvzo0nVeHVNXRN5e2NreSkeAl6dMqzAmxsCZOb6mVDc5i3NrQyvSKb9ICbskwfX3v4A86eWMjNp44kmrBZuKmd19a1UJ4VIM3nJivkRlHh//6+tF8/8lO9HFWRzfz3d65HuTWVx746lokVB37hbzAdilMTsk8Hh0OxT5+GPKG/D3uKvJoCiqqgCoFbB0coOAKCHhc9MYuELVAVhaauKPlpfpZs7aQqP8T1J1ZiO4KgW+e3r27k/MOKSPG6mFKaQUbQzcbmMMUZfn764jpqO5LrPSsaekjx6dx66ihcqsoTS+q54PBiJhSn73FXyD/f331Dg0dPBsFdJWyH6IeuSZIk7c3y5cv5xS9+wcMPP/yR7i+Dy0CEQPnQJUVRUFFwqQJHCNyKhqII4gmLmOUQtxxMIbBsh6wUL1vaIkwpT8e0BJW5IXRV4cG3tjBnSjFpfhe3PVdNWVaQV9e2kB5wE/LofYFlh5kjcokkrL7DlGFjz6fwAcYXpZHqc9EdM/uuffOECn62vVrlDsNyAmR6kn9u7IrR0muQGXTLPGKSdLBbMR9e+TF010NqIRz/Ixh73qd6yj/+8Y8888wz+Hwf/aS/TP/ykewMMUIIbMdGTS7l02tYREyTrrhFr2GR5teIJyxUVSFu2uSnegm6dExb0B4xSFgOlx1VTm7IzW9f2UCKTyfk05lcmo6Cwj+X1HP76aPJCXnQVYVTxuZz3PAc/vl+PQDZIQ/huEXjXtK4VOSGeOzyqdwwq4oLp5bwt0umcOLIPO6dO4lxRakoChxdmcXv5kxEs2K8vbGNU+55i9PvfZsv/fYtXqlu3uvBUUmSPudWzIdnr4HuOkAk//vsNcnrn0JxcTH33HPPx3qMHLkMKJmQst8xF0VBQUUoAg2FkEcnZtiEsXCrKl3RZPEwr0sjxZPMG9Ydt0nx6uSEUogYFj2Gzfwl9UwqSWdcYRpvbWhj2tBM1jR2M2pIKr/43zoum15GRU6Q/FQvD761lS1tEaYNzWTWqFzer+kgYlicObEQTf3w2ApG5KfsluRyYkk6f7vkcHrjJukBNwG3zopoL//39w/6RjndMZOvP/IBz19zVF/2ZUmSDiKv/BjMD/3iacaS1z/F6GXWrFnU19d/rMfI4DKQZGzp95u8QnK9xUo4oIIlBJbj4NJ3DAJVFFVhW1eUus4YqT4X5VkB5r9fS4rXw7DcIPPfr0cFfG6NqGnzzyX1VOaGqMoN8eraFr56RCkJ22FLe4RX1rZQ1xnj9PEFbGwNM/+9eooy/KiKwoamHoYPSe1rW0tPnOX13dR3RhmaHWRsYWq/Il876sPs0BGz+02fAcRNh21dsd2CSzhusba5h5Yeg+IMP5W5Qdy6TGopSZ8r3XsJAHu7/hmSwWUfkoGl/+hAAdwuFdN2sMzk+ZaQLlBUHeHW6TEs0nxuCtJ8OI6gO25xxvhCDMumPWJy+VFlmLbDo4trmf9ePVccXc6TH9SjKPB/xwwjHLcwbQdFgZUN3VQ39vJBbScuTeF7J4/gJy9U843jKmjuNRi+vU3dUZPbn6vmmeU7T+xfe0IFXz9m2C6Br78Uj4bXpRI3dy7sa6pCVsjT735Rw+IPb2zintc2JvuvwN3njuPMCQW7ZS+QJOkASi3cPiW2h+v7mQwuAxFi+5fnrocokznEDMvGsBwECqoKMUvDsRzitkNP1MJ2BBHDwhLJnWM9lkN9R4yMoAuXqtAesThnchEXTiulM5IgPeAm6NYpTveRk+Ll5N+8SUc0wQVTirni6HJqOmIowB/f3Mxxw3PojpooCiyr6+KFVY2UZwX7BRaA3726kS+Nyacid881WYJE+clZY7j+nyuwHYGqwK2njaQ8q/+oZUNLb19g2f628MOnVzGpJJ2SzI9X7VKSpM/Q8T9KrrHsOjXm8iWv72cyuHxsyvaU+wJ7e1JKw0qOMgQQTzigCFL8Luo7IiRsQUfExOtS+eNbmwl5dE4fP4S7/ruOG2dV0dgTo7Y9xqbmMN84oYKSzADL6rooTPfRHknw90W1xC2bL40ZwvrmXs6fUkRvzCI3xUtNR5TFm+t5dkUj1xw/bLeWWo7YrSrdrmzL4pSxQxiRn0JjV5ycFA/DsoO4PzTSaY8kdntsJLH7lJokSQfYjnWVQd4tBlBYWMj8+R99Y4AMLgPqP2qBnaleXLqGjYOVTHuMgopLgTSvTlfMYWtbhPdrOhGOYHxxOs+t3Ma08kyOqcrmuseXoykKMdMhZjhMKE7j9PFDSFgOr69v5drHl/GDL41gbVMvhuXw1AcNjC9KI5ZIjpY6IwmGpPn47SsbmTslmRE6bjpkBNx07BIIxhamUJwx8NZil6YyPC+F4Xl7z8lWlO7fLfllUYaP/FTvJ3hPJUn6TI09b1CCyaclg8uAxG6HKAXJQ5PxhIVLU7EVCHh1YgkHSwg64xaOgMyAm1PG5OFzayhAbkopqqIQjlvcedZouqImjyyqxXIEX80v5ZZn1/DTs8bw+rpWbEdw/+ub+L9jh2E7Dn6XxvC8FH6+fB2TStIxHcFdL67tO/cC8Pd3a7j+xCr+t6aJ1Y09TCvL5Nuzqvot6H9SQ7OD/GHeJL7zxApaeg2G5QS4+9zxZIdkcJEkac9kcNmH3ZarBagIdA1QBZqi4giBYztETAePqrC+LYbfo+Fzaaze1sPIghTSfW6W1ndT3xkj6NEpyfBx8ZGlrKjv5vdvbOSSI8toDxukbN/N1dJr8Kv/rQfgqGFZjBySgqrAfa9v6mvKlycX8s7GNgCiCZvbnlvDL84ZR1VDN4eXpZOXMjhf/qqqcExVDs9ePZ2umEl2yENG4NMHLUmSDl0yuAxEURDO7okrVVXBreiYlkXUtJNnX1TwuVVaexOUZfvRVRUBZATcNHbHWNTcQX6qlwlFqXRGTaIJm2jCYtaoPI4fnsMdz1dz1sRCfC6NnJCHlt5kgS+XpjBrdB4XPfQeXzm8hIklGbSHDSpyg+SGPIzITyHg1YmbNieMyOWN9a1MKknnb+/WkuJzc+SwT17O2LQdVtR3sWhzB0GvzuFlGVQNMH0mSZK0gwwu+/DhnbYKJEcqAhRFxadD3LJRFYWEZZOf6iFsWGiKQlfMxKWqJGxBXqqPnFDy7+a/V8c3T6jAsBwefreGBRta+dYJlSgK3PPqRi6dXoZbVxECxhWlctNTqxACHn63Bo+uUpzhJ83vojNqcu9rG5lQlE7Iq7G8vgvHge5YgoWb2pk5IpfFW9qpzA1xWGkGOR9zJLN4SwfzHlzEjvia4tOZf8W0AddnJEmSQKZ/Gdge0qAIIVBQ0LbXX7G230cIhaBbJ246xBIOQihk+nXSfDrZATeZATduTSWWsPnG8cNoC8dxhOD44TncddZYXljVSGG6jytnDGV9cxjTdtBVWFHfRVNPvO/1DcthU2sYXVNZWd/N4WUZfFDbyRvr23h2eSMvrm5ix2SeYdnYAr7+yFJ+/fJ6Yom95yT7sHjC5nevbWTXgVtPzOLt7dNwkiRJA5HBZQB7PiCY3IpsC4iZom8XVcK2MWwHnysZTLpiCWo6ooiebaSpEUCwurGHh97ZyoV/fo9VDb2k+Fz8a2kDTy2t5+xJhfzq5Q08s7yBk0blsqE5zHtbO3EEhDz9B5izRuXx9oY2Fmxo5eiKbI4clgnAkFQv3z15OP9cUsdxw3OobuztK0L26Ht1rG3q/ch9txyH9rCx2/XuqNx+LEnSvsngMoA9pW8U2w9FKigIIYibDmkeyHPHSJgWLeEYcdPG41IpzghiBvLpJsD/VjcTcGt8eXIRPz1rDCPzU6hpi3DRtBK+eXwFaT4X3zy+ghmVOdz0r1W8tKaZoyuzWVrbxXUzKzmmMpvSTD9fP3YoFTlBltZ1IQT87L/rOG3sEO6dO4HvnjyceMLmnElFKAo8s3wbpiXQFAUhIDJANuUPC3pdXDq9rN81RYHpFZ98DUeSpC8OueYyELH7VmRFUXCEQ8IWOI6zfRSjEdVCZAQESswmbtpYtqA3buJxabRHTE4YmUfQoxMzLWrao2QH3RSmZ6CpKpc9/D4/O3ssW9oijMhP4doTKnDpKuG4xdCsABW5QVAEhS0+soPJxf4rji6nPZJgbEEqy+q7eG1tKyePyeOht7f2tVVTFVJ8OgnboSInSHn2xztNP3NkLrYj+NObW0jxufjmCRWMK0z71G+rJEmHPhlcBqAoCsJxPnQNHAcQ4NZV/LpCzHBImDaapoIisCGZz8sRtEcSpPvcuDQF0xHkhDwoCBq6DHoNCwW4+phh/O7VDVwxYxhbWsMEvBqbWyIUZviZVJLLPxbV8OKqZo4YmomD4JFFdfjdGpkBNzNH5vKL/62jJ2bREzO5dHoZL61pIjfk5dzJhTy6uJZTxuZz4dQShqR9vFotGQEPcw8v4Utj8tE1lYBH/rhIkvTRyG+LAeytqomuqgjdwTQFEcPGcQQRy8FJWHTHLAJujZZeg4bOGBW5ITQ7hktz0xS26I6aZARcBD0WPpfOk0vrAYWbTh5Ba9jA61KpzAkxtiCVnphFeyTBEeVZjC9Kp64jSmG6j0unl6KrKukBN7/47zq+cWwFYcOiPWwwc2QO504q4JFFtXTHElx0RCkhj7ZbCv5dbW2LUNcZJd3vZmh2AJ+7/49F6iAcxJQk6YtFBpeBCJJnWD60sC9IrmNYioKmKKiqgldzcLtdOA4EPTouXaUow4dXsfFaDi22RlmWh5X13aT4dLxunXc3dzA8L4XNrRGW1HQyPD9EesBDdVOY/FQPPTGT5h6DI4ZmkpfqY3NrGMNy6I6aPLm0gdbtZ2HueL6a739pOLPHlFCZG0JRFK4+roK6zhhBj0Z5VnCPmZEVRWHR5nYu++v7yVGUAtccV8HXjion6JU/GpIkfXLyG2QgCigfGr4IIGEKUJLrMY4DmqYQ9LiIWQ5elwpqMrFjOG7i0TVsx4dXh/Xbulm4pZ3SrjjFmT5KMvxsbY8wpjCVoVkB6rtiPPT2Fuo7YxiWw7DsIBccXsSmtgj/WdHIrNF5FKb7+MajS/vl+QKIGjbPr2yktiNKRzgBCkwoTqdyLxmRARx3gO88uYLe7Qv9QsBvXtnAURVZTC7NGOQ3U5KkLxIZXD6CfmV/hcClKwgUbMfGFg7dMRuXAJdbx61pyZP5PhdBt46qCISi0NQVZ2hOkLFFKUQMm/ZwAiFMKnMDZAQ8rG7s4Tcvb+Cyo8ooyvCjqwp+t8Y3Hl0KwPUnVnHBnxbxxJXTuPzocu55dWcK/PKsAO2RBJlBDzf/ezUzqrJ5dHEdKT6dx782jRFD9jwlFrdVatqju11v7I7v4d6SJEkfnQwuA9njoouCbTsIFQQKQbcLj67RGUmAaRMzHVRFoCgqmgKGDWubesgKeXhhZQMnjxnS9+VdlRvCtBx64hYJy+brxw4lJ8VD3LT505tbOHNiQd8hxu6YiVtT+cvbW/nRqSPJS/Hy7uZ28tN86KrC8vouWnsNtnXHyQwmi331xCxerm7ea3Dxaw5VeSHWfej8S2G6b7DeQUmSvqDkOZeB7KXIoqYpCFvgCJuYZaOpAq9LS+6ocqt43ToeXcERyYSSw7KDRA2L6RU5PL+iibBhkRPy8OraFtY0hbEcwWEl6Szc3M7fFtZw67NraOiK4dZ2fjwel4rlCBK2g2ULZo/J56wJBWiqgselMSTVxwurmhieF6KmLdL3uMaeAUYhiQh3nT2G3JRkMHJrKreeNpLheXufSpMkSfoo5MhlIGJPZY6TQwldV8DRME2HtnDyPItbU+iMCtL9LhKWTdxKkObTQTgUBlVaYnB0ZRa6ptDYHUsmqOyJY9kOiqKwtLarby3l2KqcvhFFfqoXyxY4QnBYaQart/VQlhXgVy+vZ+bIPH6/YBMRw6Yk0895k4v4yQvVfa2dNSp3790TgvFF6fz76iNp6IyT4tUpywqgawf+d47G7hg9MYu8FI/crSZJByEZXAaQrC7Zv2CYoigoQmA5YJg2tlBw6yqRuEWPAMN2sHsTmLYNKtiOg4ZDhwGqohA3bTpjNkGPTl6Kj7LsADXtMXwujV+eN46mnjjZQQ+OEKxrDnPraaPQNYWFm9q5afYIHllUyxUzymnsjrGioYf2iMmFU0vRNCUZyICsoAePrvLtEyuZXLL3hXlV0/igppNnlm0jZlqcMaGQ4gx/spzAAWLZDq+ubeF7T62kPZJg9JAUfnbOWEYOST1wjZIk6WOTwWUf9nbWBcCn6xiOjWMntyMHXFoy0BgWXnQcR2DaNvW9Fll+D6iCuKnTGU2gAO3RBK+ubeHciYVUN/XgOAKPS8NykmWU0/06m1t7eXdzJwD/WdFISaaf6sZeXJpKik+noSvG/W8ka7z43RqPfW0qs8ccgdel7bNQWJsT4KsPLMS0k718/P16Hr50CkdVZA/GW/eJrG/u5ap/fIC9fbFp1bYevvPECv5x2eFyBCNJB5EDP//xOSbY/Q0SsL2mCziApqj43BpZAQ8Bj0p7JM6mtjCmLehN2EQSDlkBFx3RBGHDYUtbLwnLIejV0RQ4cUQuL69tIeRNnn3xuzUcR3DDEyu48/l1dMcsvjK1hNIsP9fNrODUcUN4+N0anlhSxzePryB7++J9ZsDNdTMr+aCuk+dWNuJ373v48eqGjr7AssOf3tyCZTt7ecRnr6Y92hdYdli1rWfgtSNJkj535MhlIEL034YMOyfJBBgJG0VRsHDoipkoQkFVNIZlh1AUsCwHQ4OajhgdkQSVuSEK0/2YlsCwHFJ9btp645Rm+nl3UwdjilJZ1RDGEYIH5k2iNZygO2ry+zc2EvDoHFaazu3PrQWgM2rym1c2cO6kQobnpVDd2MO9r21k1qg83tzQyhFDs/qdym/tjbOtK06qz0VJph9FUXYLLJCclhpotPZZywzuPjrJCLhJ9boOQGskSfqkZHAZkLJbsTCx/brlOKCALZKBwqUo2CR3XHVGEoQNG69bJcWrMzRbpzjdhy0EoKEoDu9u7sCtqxSk+eiKJDhhZC4+l0pFdpA3N7Tx9UeW8pWpJfxzSR09seQhx7BhE/LofYcee2IW0YTN/a9vYvP2HWIBt0bYsNjSFqY3bpKf6qMjkuDrj3xAfWcMv1vjttNHc8rYfE6ozOTvi+r61Wy5ZHoZ8YRNh5kgK+hBU/eyZe4zUpWXwrypxTz8bi0AqgJ3njma/DS5PVqSDiYyuAxoz7/DK4CuqNiawDBsFAEJW9AVTZCb6iU94EHXDCIJQXfcxq0qJBwHj6bRGzPZ3B5FVxQy/S7e3tjGxOJ0DMtm8ZYOHllci2E55Kd6CXr0vsACsL6plx+cMoLX17XS0BVj9ug8NrSE+wJLilcnI+DBcaC11+Cht7cyLDvIezWd1HfGgOTW6OufWI7lOKR5FB6+9HD+/m4NMdPmomklBD0u5v7pXWo7Ypw7qZCLjiilKOPjJbz8NFJ9Lq6fNZxTxg6hPZKgNNNPxQBZBiRJ+nySwWUfdku5TzK3GCrYCYGmKbg0Bb/HRbbfRWNPAl13cFDoNUz8Lg2PW0MRySJjUcuiI2JQkO6jK2py8ph8Fm/uYM22bs6YUMDw/FE0dcfxujViCatvpDKxOJ3RBanc+ORKbj51JCvqu/jPikYuP7qcgjQfCVvgd2v8a2k9182s4LkVTWQE3GQEPWxsCffvk4C6zhg3vrqR788ewX0XTEQIqG7q4Yx73+6bLvvTW1uIJmxuPW3UHnOTfVZSfS4OL8/cb68nSdLgkwv6A9ljJUrYcUo/5NXxuTRQFWKmScwWuF0qPpdKpt9NSYaP3FQXqgJBb/IcjKaoVOQECcctijN8/O7VDdR1Rvnm8RW8taGVN9a1Up4dYPHmDra2Rrn3ggncf8FErpxRjqLADbOq+NfSBv61dBurtvWwviVMdshNzLRI2A7TyjP59f82MLEkjXc3d9AdTfQdktyVZ3uw+M0rG2jsjqOqChuaw7utw8x/v65fmWVJkqSPQgaXgYi9TIspyVouluOgKgqOLdA0lYhhYzkODd0GTT0xeuMWLT0m5va6Ll1RC5emEvTojB6SQmckweVHl/PlyYXc9PRKKnJTiFk2P3p6NdPKMzjvsAJufHIF//fIB9R2RHHpKn96czMr6rsBGFuYStSweHpZI5kBD//6oIH/rGzknMmFNHUbdMdM/r1sG1fOGNoXTADOP6yItze2Aclyxo4QRBMWvj3sMEsPuPG45I+JJEkfj5wWG4iibA8wO0cwYvtWMcNMbte1hYMlBIoAoQgMM3l/w3aIGgk6Iyapfp3yLD8oKlHDwtieT8zv1qjriFHfGeOS6eU0dMY4vDSDUfkpjBiSykurmzhpVD6F6T4eWVxL2LD4yVlj2NgSxnYEpZl+DFvg9+gMzfbzl4snE3DrLNjQyg+eXg2AIwS5ITdP/98RbGmPsrU9wivVLSypSZ6d+dpR5axt7OE3r2zg5NH5jMgPUd24M9fYj04ZSU7Iu5/ecEmSDhX7NbicccYZhELJxdnCwkKuvPJKvvvd76IoChUVFdx8882oqsr8+fN57LHH0HWdq666imOPPZZ4PM4NN9xAe3s7gUCAu+66i4yMDJYtW8Ydd9yBpmlMnz6dq6+++jNo+S4jGAUcW+DSVAQOjq0Q8riIGQkM08atq+iqhoNKwJWsFgnwxJJt1HVGOXXcEAzTxuvW2dAapjdmc1RFFtu6Yyzc1IbHpXHCiFxufXY1jhB8bXo5qX4XJ43OJyvopqEzTsSw8Xs0DNuhpj3Gva9t5Etj8knzuynJ1HlxVRNfP3YYthA4juBHz6zh7nPHMXtMPqsaumnojCEEnDU+l6LMEBc99B6QPE/y1SNKueDwEuKmzdjCVMbKssaSJH0C+y24GEaysNXDDz/cd+3KK6/k2muv5fDDD+dHP/oRr7zyCuPHj+fhhx/mySefxDAM5s6dy5FHHsmjjz5KZWUl3/jGN3juuee47777+MEPfsDNN9/MPffcQ1FREZdffjmrV69m1KhRg9PovR34UBQcIUhYgnjCIW46mI5Dus+Fy6VhOwo9sQSaliwI0x0zOboyi17DItXrxpui0BOzOH54LpGETXc0QU7IwzXHV/CXd7aQHfJww6wq3t7Yzk9eXMu5k4r419J62sIJADRVYVJJOiUZ/r5CZrqmYJgOrb0Gr69v4/X1bf2a3NCV3C02uiCV288Yje0IauvquOGFDTu7K+Cht7dy5vgCUv06l04v261QmiRJ0kex34LL2rVricViXHLJJViWxbe+9S1Wr17NlClTADj66KN5++23UVWVCRMm4Ha7cbvdFBcXs3btWpYsWcJll13Wd9/77ruPcDhMIpGguLgYgOnTp7Nw4cJ9BhfDMKiurh7wPgAlJSV7TIzsCHC2n2K3EdjCQQhwHJEcvWgqAbdG3LSJmw5Rw0ZRoDjdT3skQXdM0BM3sRyB16ViOfDWuhZWNHRz1oRCemIJnv6ggaOqctAUhUcW13DHGWN4aU0TK+q7mVqeSX6qlxSfi1/9bz26qjC2IJUU3cKLQmmmn60fqtOSG3Tv1mehqIQ8u/8I+NwaHRGDrVu3Eo8PzmK+ruuoqkoikRiU59ubeDz+kT7bg8nB2idN02gXAV7d0El3zOLE4VkUeg2ElTho+zSQwe7TiBEjBu25DoT9Fly8Xi+XXnop5557Llu3buVrX/saQoi+34wDgQC9vb2Ew+G+qbMd18PhcL/ru943GAz2u29dXd0+2+LxeD7SBxeLxfZ4Ql/XkifxFeHgR8Xr0jBMG9NOnuhvCydI2AJVFdg2CEUh1eeivjNCwoaMgIusgJtt3XGW1nVxVEUWZ04sYOrQDBo64zz0yha2dceZNSaPM8YPYerQTH77ykZmVGZz6rh8YoZNqt/Nwk3tnDw6j8PLMxiel9I3hXXzaXDd48voipqoClw1YyjjitPJCuX360t1dTVXzBjKgg1tfQcpvS6V4gw/lXk5lJXl0hlJELdsckNe1E94oHL1tm7+s7qZ5p4IJ4/JZ3JJOoE9BLXBUF1dfdD/o/ywg7VPqxq6ufj37xDfvj45f0kDf7poMieMyD1o+zSQQ7FPn8Z+Cy5lZWXJkYCiUFZWRlpaGqtXr+77+0gkQkpKCsFgkEgk0u96KBTqd32g+6ak7Lkw1ifRF1aU/gv6jhCYtkBTwLJB4OBSVUzLpjWcIODRSHFruFSFuOXgd+uEExZCJAtxuRSFuO0wNDtARsCNaQt+9uI6ppRl4NJUzp5USE7Iw6OL63BpCrqmsrKhm5UNyV1ieSlebj9zFKePH4KiJJM9dkQSbGju5fmVjXxQ08mvzxtP2LDIDnkYmR8i5Ntz0sfJpRk8fsU0Xl7TjCMEZVkBCtN9jC9K4+U1zdzx/BraehPMnVrMhVNLKEj/eAcq1zb1cP4f3u3LKvDYe3XcO3cCXxo75GN/HtLB5Z1NbX2BZYffvbqRI4bKM0xfBPstuDzxxBOsX7+eW265hebmZsLhMEceeSSLFi3i8MMPZ8GCBUydOpWxY8fy61//GsMwSCQSbNq0icrKSiZOnMgbb7zB2LFjWbBgAZMmTSIYDOJyuaitraWoqIi33nprcBf0hdieR2zX0YtAUZJpSaIJBwcHl6LiIFAVQUbAhRAKYSNBis+NSwVFV4makJPioydqomkqdR0RGrrihLwaowrSuGhaKbYQhA2T8swAS2q7OHtSIeVZfn724rp+zarIDVLTHmXJ1k6eWtpAc4/B9GFZuDWVV9e1APDGhjayQx6euuqIPQaWsGHRYAV59Y3N5Kd5mTethNyQF6EI3JrGkppOvvbw+31d/8Mbm9EUhetPrPpYI5gPajr7AssOv3p5A9OHZX3usxxv64phWA5D0rx4DmQdgoOUae2+aJmw7N1mA6RD034LLueccw7f+973mDNnDoqicOedd5Kens4Pf/hDfvnLX1JeXs6sWbPQNI158+Yxd+5chBBcd911eDwe5syZw4033sicOXNwuVzcfffdANx6661cf/312LbN9OnTGTdu3OA1envtll0JlO0p8ZMBxojbaF4VTdUwnOToRBECVdUwreQUWcCjoSpg2g5rmnrpiplMKc1ITp9Zgo5IgvdrOsgMehg1JIXlDT04At5c38prax1uPHk4r69rZW1TD6OGpOJzqYQNG59bp6U3uVFiYkkav31lY7+2tvYabGwJ7zF9y7PLtvG9f63suz0iL4UHvzqZIdtzeK3Z1r3bMZ9HF9dy0RGl5KZ89K3Je0qOaVg2zuf4+yVqWDy7opE7nl9DOG5x2rghfGtmJcWZgQPdtIPKEcMy0V9O/nvZ4coZQwl4ZBLSL4L9FlzcbndfQNjV3//+992unXfeeZx33nn9rvl8Pn7729/udt/x48czf/78wWvoPqgK6CpYAlRVIejzEI6bGLZJwKPRE7MRCFLdyZP76T4X9V1RMoMeuqImowtSCMct3ljfQkG6n0y/i5+/uI6STD/ji9Lpipr86c3NdEZNDitN59iqHL7/r1X87OyxHFaaTl1nlM6IiUsTLKvfGQAcAbra/x8ysMe0Ldu6Yvzkxf4Lj9VNPVQ39vQFlz3VgslL9eH9mAcqJxan49ZUEruk8f/6McNID3x+Ry3L67u58ckVfbefXraNrKCHm2aP+MTrTl9EYwvTePRrU/nLO1tpjxh89YhSjhiadaCbJe0n8hDlAPrXoOwvYTkgHHRdR9cUEjbETQfDshEO+Pwa7ZEEbk2hMN2Pqia3L8cSDkPSfHxpTD4bW8JsagszqTSd1l6DnriJYdqcf1hR3zrLz19ax9XHDuPqRz9gWnkmx4/IYUppBnmpXh5+t6avPa9Wt3Du5EIeXbxzQ8O4wlSqcoO7td20HSKGvdv1mLnz2rjCNIZmB9jUmlzTUhX47snDSd3L2s3ejC5I4dHLD+cv72ylqTvOvKklHF154IqRfRSrt3Xvdu3pZQ1cfnQ5OR9j1PZFp6kKh5VlMKkkHUeIz0X5bGn/kcHlE3Ds5D8URwgs28aja5gW6BrENQVHgbhpsaqhh+5YgrEFabh0hfquGEXpPp5cUs8Lq5oZPSSFqcMyKc8K0hFJ1mcxTIfrZlYQ3n6C//oTq3h7YxudUZPmXoNnljcysTiNI4Zl8ueLDuOeVzfyQW0nI/NDnD6ugII0HxtawhSk+XBrKt0xi+wQ9MRMeuMmWUEP+alezplUwOPv1ff1yetSqcgJYdoOm1rDNHfH+eV546nvjBKOW1Tlhxj9CUoNK4rCpJIMxhelYwsHt/b5X7vI20MAKc8OfmY73A51qqqg7nFTv3Qok/9aBiB2LOh/iKop6I4gYSmogCUcdBXE9vMulpPcTTa5JA2vrrK2JYwRdQh5XNS0RTlxdB75aT5M22FEfojG7jjl2QFuO300W9rCtPQapPlchOMWd7+0DkckE02eMjaf2/6zhgnFaXznnyuYNTqPoyuzuGFWJY1dMR59r5bnVjSSl+rlpdXNxEwbr0sjHDe5+ZnVVDf2cvyIHL51YiVXH1tBhk/n6eVNVOQE+eYJlQzLCfLvZQ3c8MQKbEegqQo/PWsMZ08q7Pdb5/rmXl5e08yGljCzRuUxtTxjnyWVNVVB4/MfWADGF6cxrjCV5dtzuHl0lRtmVcngIkkfg/zXsg8f/n1rR7CJWza6qmKaNtGEjeWAx6Xic0NIVTAsG9OCSMKiKM2HpiTPu9yztJ4z/IX4XBqRhEUsYbOirpt3N7dzxoQC/vpODe2RBNOHZfJ/xwzjhJG5tIUNdFXl/tc3kRFwk7ActrRH0TWVH/57NWdPKiA/xUttexTLEX21WyA5xfPi6sa+L8oXVjXR0mPws3PHkuZzceaEAoakeUn1udjSFuF7T63sKzNsO4Lv/2sV44vS+mqq1LRHmPfgIpp7khsJ/rW0ge/PHsHXji7/TD+H/akw3c8f5k2murGHSMKiIidEVd7ea8qsb+5lfVMvHl1l5JBUCtJlYTNJksFlQNtXXXZNgSKSt12ahmFZuHSNkJo80R6OJ0BRMZL/QUHgcWloikLCtukIJ5hzeDEPvLGJzpjFlUcP5bb/VPOVqcW8uwX+9OZmThtfQFmmn8ygm/dqOllR38Xxw3N4bV0rJ47KIy/Fy+9e20BVboia7UXCXlvbymXTy5hSlsHSuq5+PZhekcUPnl7V79qS2k7eWNfCT/67M/XL8LwQ3589AsPqfy4hYTu0hY2+4FLd2NMXWHb4zSsb+NLY/L7NAIeCvFQvean7Xl9ZWtvJ3D8u6luvGpod4MGLDqM0S+4sk77Y5ArbgJJbjvvvyVUQjoNjO7g0DUFyWizo0UCoqIqaTAfjQI9h0RUxWb2tl5UNvYQNizSvixtmDefYqhxueGIFrb0Gbk3l8LIMLpxWSnbQQ0G6j4fe3tq33vHkBw1MLcvg9bUt/OKldaT73Zw/pYgXVzcB0BFJUJYVQFHg3EmFuDQFr0vl68cOJeRx7bYd2OfSaO3tn4ZlbVMvXleyHMCu/G6t35esvYc9xKbt0NAZJWHtvkngUGZYNve+trHfRohNrREWbWk/gK2SpM8HOXLZhw/nbVQUUFBwu1QcAXHDQlcUHE0lxacTNW1CXp2uqElzj0F6wE16wIUjXOgq2EJQ0xFlbGEqt50+iqygh46IQW7IS8inY5gOTd1xltV18UFtF6eNG0JlXpCMgJsbT64iYtj0xk1+9uK6vqBx8ug8NreG6Y6ZjClI5ZiqbOJm8izJ8vouZlRm88b61r4+XHP8MB5ZXLtbX926xu/mTuDa7aljUn0ufvXlcZTucr6jKi+FFF//8stnTyzku0+t5I4zxzD1C1RBMp6wd6vyCVDbEdvDvSXpi0UGl4Eoyp5PEwtQUFGEQKgqju1gCbAFxBMOHrdKwhGUZwfw6ArdURtHJLf/dkTjqCik+V2sbexh0ZZ2jhueg0Cwqr6biSXplGQFKMsKsqk1zIr6LiYUp3HLs2vojpn88JQRNPbEufSoMmraIgzLCVKVF6Kl12DV6mYeXVyHqsDZkwqJGhYjh6SS6nPxrZmVJGwHn0vjyKGZVDf2ULfLl+CMymxKMv2MK0rj2aun0xY2yAp6djuAOSwnyD8uPZwH39pCTXuUaUMzaeqJs6k1wn+Wb/tCBZdUv5tzJxXx85f6Z1A4vCzjALVIkj4/ZHD5mJJLLgpCOMRtBxXQXBpWwgYnmf5FAQKpOj0xE8MUmI6Noij0xk3Sg262dcV58M0tpPndzKjMIWY6jC1MpSo3xIr6boIejWlDMzhlbD7DcgJ8UNvFccOzqcpNIT/VR0/MYklNJ6OGpBD06DT1xLn12TXcf8FEIgmb5u44z69qZFVDD63hBMdUZvPquhZ8Lo3Ljy5neH4K35s9giPK0lha38uk0gyOHJrZt+OrKMO/x1P9O4wckkrIqxPw6Dy8sKYvvcueKlke6s6YUEBLb5x/LKrF79H4zqzhTChKO9DNkqQDTgaXgQixW6ljZXsaF9tx0BUFRQUr1o1lu4mYCkJJpjxJ9bnwuDUUyyZF0WntTVCY4WdNYw9+t8bJY/LY3BZlS3uE6m3dTChO567/rkMIuPaECjICbjy6ytLaLiYWp/Gf5Y3c9d+1KMCNJ1Ux9/AiemMWIZ/OptYIN58yiqW1XTy6uJbbzxjdV01y8ZYOMvwujijP5IPaToak+nDrGvmpPsanJTh/6sdPl6OpCiePzueCBxf1vT0uTWH2mPyBH3gIKkj38YNTRnLp9HJ0TTmkNjVI0qchg8tAFGX3rcgief4DkilNYoaDrQRAA8W2cYTA59aIGhaW7WCTXASPWw7hrhgj8kLUtEfxuXVKM/24NJXeuMkvXlqPEFCa6SeasHlgwWauPnYYC9a3kpPi5ZW1LclYB/zkhXX8+svjaeyJ815NlII0P7UdEf789lZOGZuP363x14sPY9GWDlyayqqGbn77ajLvWE17hKE5wb6+fFKTSzN4/PKpPL+yCY9L5biqHGIJi7c3tlGRG/xClUZ2aSrFmR8vW7QkHepkcBmI2P0LWFEULMvBIfmlggccG9xWGI8OXZYLIQSOgIQjcKkKthDkpniIGDZt4QR5qT40VdBrmHRHTY6qyKYsK0h72KAnbvHgW1vw6CqTS9P53Wsb+ds7W/ne7OEsr+umJ2YyvSKLv79bw5a2MDecWEVtZ5SQ18W1J1SwcFM7/6tuoTDNy4NvbSGa6L+Da7Byerl1lSllmUwpy2RjSy/zHlxMY3eysNjYwlTumTOBEpnoUZK+sGRwGZDYfbsYoGsqQggsx4Ht2ZF7hI+4cLAchzS/jqHYuFwKCcNGKMlT3nHTxrAcsjRwu10Upim4NIXqbd3kp/sxbYeNLWG+PLmQk0bnc88ryXMo27rjNHbFOXl0LqblsGhrB6ePH8LU8gzuf30TTy3d1q99E4rTeHrpNq6bWckdz+1MUHnRtBIqcnbPNfZpOI7g4YU1fYEFYEV9N29taJPBRZK+wGRw2Yc9ZUQSSvJL1XIgajg4QpD8P/C6VSIJC7F9KsxyBBl+N5FEMgdZwK0RMR229UT43asbEcDlR5ezYG0LZ04qZEJRGroK3XGLedNKOGlMPnkpHjwulc5IgmeWNfLmxjYAHr9iKhdMLeG5lU19hx8L031oqsqmtggeLVl/JW4lSy8fXpqeHG0Norhls3hrx27XdxQ2kyTpi0kGlwEoe92KnCzPrGuCgFuhM+bg0hRwHFRNxeNSiJkOXpeGrUFnxMTvURGqQqrfTa9hkhn0cMtpo3BrCnc8V82Xxg3hL29vZUZVNhHDpjQrkAwEjmBza5g3N7Qxa3Qe72xu3942iBk2owtT+ffXj+T9mk7awgYRw+YPb2yiMN1HQ1ecPyzYDEB5VoCt7RE0TWVy6eBtlfW7dU4ZO4Tqxv7bcadXyNTqkvRFJk/oD2BPy92C5AL9jnMrUVMQcGnYQmADbk1FUZP/1RWIGRamSJZB3tgSZvGWdiJxi2W1nbhUhY6IyVemlZLqdXHa+AKW13fzo2dWc/UjH7C1PULccjAsweyxQ/j7u7V9J+RPGZNPzLRYVttFQbqPjc29eHWNmGlz9XHDuGn2cP62cCsA2SEP86aV8NyKRtY29Q76+3TauCGcNDoPSO4ku2x6mTzrIUlfcHLkMpA9jFoUkkW5HKHgdUEsbmMmV/5J9Wg4Crg0HdOy6IlbxG2HhOWwuqeXIek+ijP99MYtjhiayUurW1BVmD40m7quCD/7bzU/OGUkZVkBErZDUbqfl6ubmFGZjVvTOGlUHmsau5lSlkl+qpd3NnWQHXLj0hT+sjBZ2yXd7yKasDl/SiHfmllJd9yiN27xi/+uw7Ac0v2DXwWwKMPPL88bx7UnVKCpCiUZftyyLLAkfaHJkcuAdl9xEZA8uZ88po/breJSFVRFwaXraCisqOvijfVteHSNoEcjYTuk+Vy4dZWELcgMuOmOm4wYEmJre5QX1zQSSTgMz0vliffriRoWr1a3cOdz1YwpSGNlfTcvr21h8ZZ2hmaHeHppPa29Bs8s34auqv2SVXZGTQzL4bHF9ZRkBrj/9U389Z2tRBI2I/JCjC1M+0zeKb9bZ3heChU5IRlYJEmSI5eBCcT29ZUdFMDZvtVYV1RQbBRNIW5CY080GTxCXjKCHjqiBj63i1RvMrCoisJzKxp4dkUj86YWM6Ywlcml6fTETMoy/VTkBJIL80JQuf2syEtrmumMmrT2Glw4rZRt3XFOGTuEpz6o56tHlPLCqiZSfS5OHp3HC6ua+to5Ij9EWVaAp//vCNY3hwl4NEYXpFKYLs9jSJL02ZPBZR+UPWxFRgAOJIRF1HCI2wLLFqT73VhOcieZS1MJeTQMSxDwqCyv6yEn5OGM8UOYPSYPR4Bh2hSl++jy6DyzfBtHDsuiuSeO7cDCTW0cWZHJuKJUiiN+fB4dn64yriCV7rhJT9zi0cW1tPQm09///dIpHDksi9fWtVCWFUBVFE793Vv8/iuTmDU6l6Bn8KfDJEmS9kYGl30QQuy2Y8zZPppRUEjxuvDYydFGzHQQjqAraoICvTGT+q4YJVkB3Lq6vTpM8gS/Ali2oDNqUNMeZUtbhInFaWQFPQDMGpXLkDQ/7ZE4+ak+bCF46oMGajuiXHN8BX9+e0vfklBlbpDcFA9d0QRN3XHe29rRl7X4rhfWcvr4IRxTlcPw/BS2dcVYVtdFS0+cotQgRYa1W5r9wdQdTab2T91HpUpJkg4tMrjsg6Io/XaNCQCR3C1mWWCTPDhp2gLHERi2TYpPx7BsDF2jNDOAbQuCbpWAV6OtN0HIqxN067y3tZ17X09uFU7x6eiaxqOLa1m9rYdpQzNxayoXTSsibFhsbI0ytiiNL43LJ2KY3HzKSDqjJtkhDz2xBP9d1YyNYPW2nn7t39ASJpKweX5VI9kpHr41fxnvbt55LuX2Mxy+MrVk0N+3nliCl6tbuOfVjagKfPP4Co4bnkvQK3/kJOmLQP5LH4iSLAy2664HBVBUFRVwbZ8f0+zk2ZbeuIXmQMiroybArWmEDQvTdvC43PTELFJ9LmKmzYr6No6qzMHt0nEcgaqAYVl8UNsFwOvrWjlrQgGb22Lc/lw104YmU9m/s7Edv1vj+18azpsb2nhzQxsJ2+Hk0XlMLk3frQszKrNZXtdFWzjBrJG5/QILwE9fWMuMyuwBsyB/Eu9s6uBb85f33b7msWX8+auHcdzwnEF9HUmSPp/kbrGBiN3XXATJdC9G3CRm2pi2Q8RyMC2H6PZT+J3RBG09CVrDCRKmRcCrkx3wMCwniFtXCHpcjC1MY0lNB5btYNoO44vS6I1Z+FzJnVZHDs1kdEEqW9ujZIc8vL6uldfXtZKwHc6fUsT9r2/mlbUtJOzkyfwF61vJCri5+rhhBLanvp9YnMb5U4pYsKGNqtzgbnnGAMKGRXyQK0gKIXh0cc1u15/6oH5QX0eSpM8vOXIZiLL7URcFsAR4PDq6k5z+UVUVw3YIuBS6YxZpfh3LEvQYFgkHemMWPcJEURQeensLS2q7+OoRpeSmeGnqjlOS5efppQ0cNzyHe+dOIGE7GKbD+zWdbGmN8IMvjWBDcy9b2qJMLk2nNWxsr70S6WuX5QgiCZucoIfvnFSFR9MIeDV+8K9VZAbczD28mDS/G59L61eWd+aIXAoGOU28oijkpuyeFTk3xcPm1jDrmntJ9boYnp9CxiAl0pQk6fNFBpd92FNuMYTAdhx64wLHAZcOtg2GLTAsQTThgKKQFXLTG02AouIIQUfEYEZlDhdMLcGlqsRMm9yQh1fXtjI8P4X2aII1jb3c/8YmAArSfNx4chW1HVHcuspF00r497JtPLRwKzecWEXIq/PmhlbKs4PMnVLMr17eQGckweFl6dxyWrKmy40nD6cqN8SoglQAHr50Cne9uI71zb2cPCqHK44Zhq4qWLaDPoh5x+ZOKebfy7b15TzzuTSOqcrhpF+/2TfaOnl0Hj8+fRTZX6D0/JL0RSGDy8ckkqUocekaPreN5ei4VHDpyb1gAUdgWA69cYvmlhjl2UGihk2qz4Vh6by+rgVNVeiKmTR2x6nIDjA8L8jCzR00dEb52tFDueTIUhwB+aleGrtibG6N0hUzKcsKkhXyIAT87L/rOLwsg/87ZihHVmTxwBubae01qMoL8c0TKqnIDVGRG9qt/ZNLM/jLVw8jnLDo6WhjRX03356/nOyQh0unlzG5JANV3WNI/VjGFaXx5FVH8H5NJ6oC4wrTuOXZ1X2BBeCFVU18+bAijqmSwUWSDjUyuAxEiN3yiymKgiIE9vZqlAoaliPoCMdx6SoOCrqqkOpz43OpdEctqpu6GZLqI2ELjhiWTdDjImELMgJuOmMmC9a3sXBzO4oCZdXNzB6dl8wpZjp0RhNYjkNtRwSXprBwcztXzijnkUW1LK3toijDT2ckwYXTSrj1tFGk+Fx95Yr3JuDVCXh1Xl5l8P1n1vZdf6W6hSevOoJxg1CmV1EURhekMnr7iKmuI8qyXTIJ7NAeTnzq15Ik6fNHBpeBKArCtkHdOV0kBDgITNshlnAwLAvNlUz/YjoC07TQNJWOiInXpRHy6kwpyeT259awrdtgekUmPl1D11X+9OYWAI4fkcP3Z4/A79FwqSqX/m0Jp4zNpzwrQHVTLyPzUzh9fAGtvQZvbmhjQ3OYcycX4dFVltd1YtmCq/+5lOe/edQ+A8sO3bEED75T1++a5QgWb2kflODyYVlBDycMz+V/1c39rpdlyZovknQoksFlIAIU5cPrEAIVFVUVaIpNwKuhoRDTLaImqKqKI6A1HKcjnCAnxYdLha8dPZSWXoPuaIKhOUG+8ejSvmd8pbqFypwQv3utlhSfzk2zh/Ps8m2sqO/i3EmFNHbH6YwkKM70UZDmo6ErxoNvJQPTt0+spL4zRiRh0xU1Kcn8aF1TFQWva/c1lr3lBYubNnHT/sjB68N8bo3vnFxF2DBZuLmDFJ/OzaeMYuSQlE/0fJIkfb7J4DIgwYcT7yuKgmlZdMdMEGAlHCyxPTuy42DYEDFMClJ9+HWN1oiJYdnEExYVuSmsbujmf2ua+faJVTy2uJZIwuYrhxdT3xmjO2bSHTP545tbuGFWJW9vbOcv79SQ4tOZNSqPkowA86YW0xO36ImZFKT7qN7Wg0tXKUz3YdoOt/9nDQXpPo6qyGbYAFUnQ14XVx1Vyjfmr+y7FvToTNlDqvz3t3bw21c2srU9wvmHFXHGhAKGfIIdZhU5If540WQau+L43JrMcyZJhzAZXAawp3oujhCoioLPraMq0BWzcCsKtlug2AoPv7uZ8yYXkbAFQoGCNC9uXWNrW5iNLWGae+McWZFNQaqXm2aPoK4jis+tMiI/xNCcIBl+N0PSvDR1x8hL8fJ/xwzDEYKARycnxctxI3J5eOFWltd3E0lYDMsN8ezyBn582ii+8uAi4mZywTw3xcNjl0+lLGvvAaYiZPL3S6fw4qomMoMeZo7MZUR+/5FEdWMPF/xpUd+ur5/9dx1dMZMbTxqO9gkW/oMeFxW5Ms+ZJB3qZHAZwN4qUSqKiq4ILEfg0zV64xaGaRO3BPOmldLSE0cApunQ1GXgdWmUZweobuzFo2uAwLAdFm5uZ+bIXH7w9CquOHoor69rYVJJGpGExX9WNGLaNlvbo9x40nCG5yV3flXmhrj51FFEDIu4adMZNTlj/BDm/HFnYAFo7jFY3dAzYHARVoLpI7KZXpG91/usb+rtCyw7/PWdrVw0rYQCOfKQJGkvZHAZiGB77ZadlO1/4QgQOKiqgi0EfrdG1DBI9XtJ96fQHUuwvrkXFEgLuHhxZTNji1L55gnDiCccmnsNckNeLvnr+1w1Yyh/WLCZhq4YaX43r1S3MKYgjbLsAMcPz6EiJ9Rve7CuqaT63aQCuak+GruSU2oftuu230/Ks4d1maBHT5ZgliRJ2ov9FlxM0+Smm26ioaGBRCLBVVddRV5eHldeeSWlpaUAzJkzh9mzZzN//nwee+wxdF3nqquu4thjjyUej3PDDTfQ3t5OIBDgrrvuIiMjg2XLlnHHHXegaRrTp0/n6quvHsRWJ8PKrpM/jkj+v1AElgWG6ZClxzEiPbT1uulNOAQ9GpGEg2VDmk9nSKqXE0bmUNMe44WVTZRmBbBsgaop/OzssTy6uI6GrhgAFTlBXlvbwtqmMNOHZXLxEWX7PHeSl+rlsqPK+PXLG/queXS1b7TzaYwakkpppp+t7dG+a9+bPYKcPZzAlyRJ2mG/BZdnnnmGtLQ0fv7zn9PZ2cmZZ57J17/+dS6++GIuueSSvvu1trby8MMP8+STT2IYBnPnzuXII4/k0UcfpbKykm984xs899xz3HffffzgBz/g5ptv5p577qGoqIjLL7+c1atXM2rUqEFps+j7n10oyZ3JiglCKLh06DB8dDk6aUGH1l6DcNxidWMPE4vSyA55WVrbhdejkRl0k+Z3oWsKrXGDqWUZ/PLlDXxQ24miwJfG5NPYHcewHNyayjXHV+Jz77uqo6IozJ1STLrfzSOLainNCnDF0WWMHJL6qd+Dogw/D331MBZv7WBbV4wpZZmM/wy2KkuSdGjZb8HlpJNOYtasWX23NU1j1apVbNmyhVdeeYWSkhJuuukmVqxYwYQJE3C73bjdboqLi1m7di1LlizhsssuA+Doo4/mvvvuIxwOk0gkKC4uBmD69OksXLhw0IKLsr2ccf9pMQVhC9qiie0Fw0ARglS/TtiwKc9OFuoqyvATS1hsbgtTmhXAEYIUr8627hidUYesoIdbnl3NVw4v4aJpJcQSNhOL01m1rZtp5ZkMzw8xMv+jb9PNSfFy0RGlnDOpAJemDmqp4bLsIGXZe1+7kSRJ+rD9FlwCgeRhuXA4zDXXXMO1115LIpHg3HPPZfTo0dx///3ce++9DB8+nFAo1O9x4XCYcDjcdz0QCNDb20s4HCYYDPa7b11d/4OBe2IYBtXV1fu8X3FJCUJ8aFrMsWkKJ3AcMCwHWySnvhK2QFcVWnoNTFvg0ZIHK7uiJnc8V82sUXlkhzxsagknEzb63Uwty2R9S5iIYXHKmFyirbWUuwAX0N3L2u5tH+m9/aTi8fhHeh8OJrJPBwfZp30bMWLEoD3XgbBfF/QbGxv5+te/zty5czn11FPp6ekhJSX52/nMmTO57bbbmDx5MpHIzmy/kUiEUChEMBjsux6JREhJSel3bdfr++LxeD7SBxeNRtlDAhgyAy4icQtdU7Esh4hh49NVhADLdhACegybb89fzrCcID85awzVTb0gkvVV1jX3YAvB+OJ0WnoMHCGoGpJKbijvI7yLg6e6uvqg/wH+MNmng4Ps06Fvv235aWtr45JLLuGGG27gnHPOAeDSSy9lxYoVAH3TWWPHjmXJkiUYhkFvby+bNm2isrKSiRMn8sYbbwCwYMECJk2aRDAYxOVyUVtbixCCt956i8mTJw9amz+810oAluNgWQ69ho3lOBiWgyOSFSgVJXkSvTtq8t/VzVxxdDlnjB9CeyTB/Pfq+N1rG/nF/9Zz5LBs/vFuDTc9tZJ3N7Vx5LBMckODm/ZekiTpQNpvI5ff//739PT0cN9993HfffcB8N3vfpc777wTl8tFVlYWt912G8FgkHnz5jF37lyEEFx33XV4PB7mzJnDjTfeyJw5c3C5XNx9990A3HrrrVx//fXYts306dMZN27c4DVaJFPRq9uXLxzHwXLAQSHg1TESNglVwRGCrpiNIwQvrGziiQ8a+NbMShZtbmfBhjaOGpbFNccPo6nHwLIdfvTvVXzjuAruOHM0uSm+j7RoL0mSdDBRxJ5OCR7iPurwNRyNYds2brcLl5YMADHTJmJYGJZgXVMPtkiuyNhO8qzLtu44xel+Vjd289/VzYwtSOXIYZlETZsXVzXR2B1n1qg8JhSmcURF1mfaz305FIfxsk8HB9mnQ588RDkAFYG9PcU+JGu52LaDpii4NCjNDGIj8LsUIglBY0+conQfqgrDsoNMmp1O3HJ4b1M7h5Vl8OVJRfg9GpbjMLrw028TliRJ+rySx6wHIFDQlOR/Ibk12evSk6n1bUHAo2Hbgs5oMmNwhs+FbTskbIeOSIJNrREeXbSVkQWpdMdNUv06eak+IgmbX/1vPX98czMr67sObCclSZI+A3LkMoBkTmQlWcRlO8uxAQWvnvy7kEejuTdOut9LZyyB36PTETHIDHlACOZMKUVRklUlh+WE+NObm7n9uZ3bFYsz/Pxh3qTdEkZKkiQdzGRwGYCyYyPyLgddvC4dFZtIwiFsmKxviVDbGSWe6GRGZQ6rGrqxhaAow8V/lm8jbgn+s6KRwnQff7xwEve8urHfa9R2RFmzrUcGF0mSDikyuAxE7BJgSK65dEUTdMUsWsIJltd14XNpDM9L4ZU1zVz8l/eYN7UERRH8+e2tpPpcpPmS6eXrO2PEEg7RhLXbyxiWvR87JUmS9NmTay4DULaPWBQh+sqGqaqCoqoE3RpHVWRTnh3AtgWTStO5ckY5jnBo7U2wpS3CrFG5vLOpve/5gh6NsycW9nsNn0ujMvfTJ5iUJEn6PJEjl31SQFFQSI5c3JqGTxN0OwLbstnYEqYkM5k7rCwrwKLNHbT0Gtx19hgeXVzXl/b+tHF55Kf5uPjIMjIDbp5b2UhRup/Ljy5ncunu1R8lSZIOZjK4DMARIBzRN75TFAUHB01Njjg6oyYj8lPoiVmYtqCl16Aw3cfMUbm8sqaZ44bnMKYglfIsH4cV+Al5XVTlubjhpOFcMLWYFK+LoFdWZZQk6dAjg8sAFARCVeiXd18IHCVZLyXd7yKasMlJ8ZBhqvg1i6DZQVPcYcH6Zmo6Db48Jo1JWW4Cof5TX0PSZBVHSZIOXTK4DGDHNmSx/RS+44AtkgXCbEdgC3CEoNBuJH3dIzR4ynhfGYmSmsIDZ5diJExUTaPRToVYshSyx7Uz1YtpOdR3xVCAwnQfuqzuKEnSIUIGlwEIdiSvVLAdgaIqWLZAUxVUTSXFrxNLqKzryCZW8g3aIwlcmkJTd5w13hALN0f5yzs7q0P+/JyxnDOpEEVRaOqO8cCCzfxtYQ2qonDZUWVcfGQp2SFZ4VGSpIOf/FV5AApg2wINgaooCOGgKmCYNhHTZl1jD51Rm1Sfm+J0H399Zys/eX4tPXGLhO3wz/f715a5+ZnV1GwvF/zq2hb+/PZWLEeQsB3ue31Tv51lkiRJBzM5chmALcBRBBagI7AdQdiwcATYQpCT6kU4yWzJi7d2cvr4AlyaQm/MwrQEiqL0e75owqY3buI4gqc+aNjt9V5Y1cTp4wv2U+8kSZI+O3LkMgBNBVUo28+7KGiqgoJK0JOMyaZlEzYsTEcwoTiN8swAFTlB1jR2E/BqmHb/ijBlWX6GpPlQVYUJxem7vd6YApnMUpKkQ4MMLgNIjjsEupIMMEJAesCFS1MYkurDrahk+HWCXp2E7eDWFV5a3cw5k4r45f/W88NTRlKQliwCNrYwhXvmTMTr0oiZNmdPLCA76Ol7rcI0L7NG5R6QfkqSJA02OS02AEcIPLqKaQt0PXlbCIeYaYOwidkO2BDyufBoya3J50wu4JXqVr40ZgiZQTdXzSijKi+FgnQfS7Z2cuOTK/DoKnMOK+bn544lYlh4XRpVeSEK0+X2ZEmSDg0yuAxAU1QSjoOuCBCgqwqxhMCtK6xqCJPqcxH0aCyv66K116A4I8A1jy0l6NG5csZQuqMJfv7SBr56RAmpfjc/fnZN33N/UNvFTbNH8PTSBh66+DByU3buEosYFtWNPTR0xhiS5mNEfmifhy0TlkN1Yw+bWsOk+V2MGpJCboosnSxJ0oEhg8sABAJNOKDpyVsieS1qOBSkeYkmbLpiFqk+N0JAwrb51ZfH0xVNEPToNPfECBsWWSEPTy/dttvzr97WTSRhsb65ty+4mJbDI4tqueP5nWn5rz2hgitnDMXr2ns55DfWt3D5w0v6qgNMH5bF3eeN6xe0JEmS9he55jIABTAdBdvecQu8uo5XV9BVhbc2tvF+TQcJ22ZImpeWXoOeWIJ0v4u2cIJf/m8DVx83jEWbOwi4dw8MfrdG3LQJx3dmSt7cFuGuF9f2u99vXtnAptbwXtvZ2hvnh0+v3rXsDG9tbGPNtu5P031JkqRPTAaXAQhA11V0FVCSGZFxEtsX7zXOnFDAjMoc8lN8NPbEKc0IUJwZoDNm0h0zeeDCyfxn+TaeW9nIjKps1F12JvtcGiWZAQBC3p0DyJ64ieWI/u0Q0B0199rOaMKmuTe+2/Xu2O7p/SVJkvYHOS02IAUcC1V3JcctioKtuEj3w5b2KF63iqaA4dhsaOpl5JBUHl9Sh0dXOWXsEN7Z0Mam1ggAf32nhnvmTGBZXRe6ppCf4mN9Sy8XTSulO2b2pYYpTPeRE/LQ0mv0tSLN76IoY++L/XkpXk4elcfzq5r6rqkKlGTKDQKSJB0YMrgMQAiBpqo42xNXCgGqomDaDh6XSixho6oqbl2lMi9EU3ecy6eX0R0zCRsWowtS+eV544ibNuWpKuWdr/OBM46X1rZQlO6nrjNKWVaAzKC7r3ZMfqqPBy6cxPeeWkl1Yy8VuUF+cuaYAYOLqijMHJlL3HJ4fV0L+ak+LjqiFEeIvT5GkiTpsySDywBUBUxLwaPtmM8SxGybnpiFW9NoCyfwu8Hr1sgNeSnOCLC1PUJ3zGRTS5jOqMkZ44dw1sRC6NgCT13PaWcvoCK3nE2tYY4fkYOiKBSk+3HrO9dkxhel8+jXptIRSZDmd5MRcA/YzraIwY/+vZrKvBBXHTOMtrDBb15ez3dPHs6kElkrRpKk/U8GlwEIQNOS2Y+TX/0KKW4dDQXDckj1unAEhKMmD72zpe+L/J5XN3LDrCoWb+6guqmHcUVp5KWXwgk/Zuy/T0I94tdYviE0NEc4dkwx4/cQANL8btL8AweVHUIenYrcIEtqOllS09l3Xe4UkyTpQJHBZQBCCBSU5C4skbwdt2x64hYOgp5YgqDXRdDn4soZQ4kaFq0Rk9+cPx7DdKjMC/LrlzdyeFkmz61opKl9HBed+HuqzHrG5AUgbzQEsz91O4NeF9+bPYILH1ycPOAJHDUsi7GFaZ/6uSVJkj4JGVwGoCoqCcvBvf38ogN925IV4ZAR8tDcEyc76EEI6IxapPlcvLG2hb8tqgVgckk6G1rCvFzdzMLNHfzxXShML+bxy6dSEBy8Q46HlWbwzNVHsqk1TNCrMzw3hayQZ98PlCRJ+gzI4DIAG4GCg+OoKAooQqBp4NMVwgkFI2Hh1jXqOmM8t7yR2WPzaeqO8eTSZMbjEfkhZo3Oo63XYNfdxfWdMZbVdZId8uDWB283eEVuiIrc0L7vKEmS9BmTwWUAKgoWCu7tC/qqogAqLh1cTrJomBBQkuHnvMOKuOaxZaR6dW4+dSS2I1i4uYPfv76JO88awz2vbez33BtawvjcrRw3XCarlCTp0CODywBsR6BpCrYAXSTLHrsUkuddHEHUTC7qd8dMfC6NP8ybSE17lOyQh7c3tVOa5efUcWNYWd/d7/R8UYaP7pjJT55fy6TidFI/4sK9JEnSwUKe0B+Aqig4joIKyWkxBEJJnqLviZnkpXjQNIUUrwtFgbqOGOuae2kLJzhldB4eXeX2/1QT8ur88JQRHFOVzaXTyzh7YiF/W1hDS69BzLIPdDclSZIGnRy5DEBVQRf9K0patiDk0fF5dOKGTTxhgaKwrqmXuq4oVbkhHMfh5XWtZAfd/PzcsdS0Rgj5XTiOwzPLt9G6/fT9+YcVoXzoNTvCRl+yS1WBTa0RwnGL4gw/+Wkyy7EkSQcHGVwGIBwHsX3EsoOGguEIDMsmajqked2YwqEiJ8jIISk89PYWMoNeckIeMgIeLv/bEq6fVcV9L65j7uHFNPUYWLbDWRMLiCRszn9gEX+8cBLlWUHe3tTG9/+1ktqOGP83YyiW4/DHt7YgBOSEPDx40WTG7LK9uLknzupt3XRGTYZlJ1/fpcnBqCRJB54MLgNQVBXFcdi1WLGjOti2g2E76BpYjkPCdqjtjKEocMrYAja2hqnvjHH3/9aT7nehKXDupEJeXt3MrFF5jC9K42/vbOWNDW0AvLCyiZkjc7jkL+9h2slA5vNo3P3Spr7Xbek1uO0/1fz54skEPS6aeuJc+9hS3t3cASSzCTwwbzInjPz8bRAwTJv3azp5fHEtuqby5SlFTCxOl4FQkg5hMrgMRAgE9E1dKYqCV9foju7MNhwxbIIenbwUDwnbQVWgMN1LwnK488zRpPpcrG3qRVUUvnpkKXkpHs594F0se+doaPHWDsqzA32BBcCwdg1pSe/XdNAVNQl6XKxu6O4LLACOgB/9exUTitPIDH6+zre8V9PBV/60uO/208saePyKaRxWKlPTSNKh6pD41dFxHH70ox/x5S9/mXnz5lFTUzNoz60q/VdF4oZFwKOTHnCjArqS3I4c8up4XBpxU/DMskZUBYak+oibNnkpXgrTfWQF3Sze0tkvsAAcPyKHuo5Yv2uePZx/Oaw0gzRf8kRnd2z3FPxNPXG2tkUw7d0D04EihOBv7/T/PBwB//qg4QC1SJKk/eGQCC4vv/wyiUSCxx9/nG9/+9v89Kc/HaRnVnb53yRd1/HoKvFEMsiEvDrCEQgH/vTGJv69tIHLjy6nK2byy/+tp6YjRn1XjLhp89zKRmwh+NKYfFQlOZV1/mFFVOWEWFbfxTGVO1PBvL+1k0uPLOvLlpyb4uEHXxrZV+54aHawX30YgONH5HL7c9Usre3k804gMzZL0qHskJgWW7JkCUcddRQA48ePZ9WqVYPzxAqIXY7WCyHQNYW4aZMwwdZsQj6dHiMGqsI3TqhkY0uY37yygdPHD6EiN8jWtig5IQ8LN7VTlOHn/tc3UZEb4urjhnFYaQZTyjKo74jx+roWThiRy3UzKzFth3S/i9lj8jh7UiG9hklxev/dYiOHpPDHCyfzo3+vprE7xvEjchmRH+K3a5p5fmUTU8oyB+c9+JQUReHCI0p4aU1z3zVVgTMnFB7AVkmS9FlThDj4i358//vf58QTT2TGjBkAHHPMMbz88svo+p5j57Jly/B49r0uUVJainAcNE3rey7LEVi2IJKwMEwHw7SxEVg22MLBq6momsoHNZ2k+tysb+nl929s4oLDS1BQeODNzSgKzJ1SxJwxqWhmFFVVqTcD3Pzceuo7Y4wpSOGHJw0jxe5moI/H6/Px0laL7rjFu5vb+aC2C4CLpxVzwSgfprn36pUA8Xgcr/ezz5ys6i7qDS9PLW/CpaqcOS6XPFcMxxq4fZ/E/urT/iT7dHAY7D6NGDFi0J7rQDgkRi7BYJBIJNJ323GcvQYWAI/H85E+uFgshvjQSRRNVYgbFirg1hVMB6JxwRsbWskOeknz6/z57a3MnVJMesBFZsDDA/MOo3pbF3lpfv7wlUlkBt2MLkjB69rZxipgbEk2PTGTrJCbVJ8byN9nG0earcx7cOdiua4qnDq+kGEl6ft8bHV19X77Aa4Cjh/92Y9W9mef9hfZp4PDodinT+OQCC4TJ07ktddeY/bs2SxbtozKyspBeV6fz0ckGu13zXGShyodx0E4Fh5VQfXpzBqViyMEcdPhO7OGIxC8vKaZqrwU7nx+DRcdWcKU0nRyU/d+EDI75CH7Y2YynlKawaNfm8q/ltbjdWmcNm4I44rSPkl3JUmSBs0hEVxmzpzJ22+/zfnnn48QgjvvvHPQnjvg9xOP76xnryjgcWmgqgTcPvS9ZDVO2DZTyjKxHcFJo/MIeD6bt9rj0pg2NJNpQz8fayySJElwiAQXVVX58Y9//Jk9v9ebHE3sOuzd18yqW0vWrtRU5TMLLJIkSZ9Xh8RWZEmSJOnzRQYXSZIkadDJ4CJJkiQNOhlcJEmSpEEng4skSZI06GRwkSRJkgadDC6SJEnSoJPBRZIkSRp0MrhIkiRJg04GF0mSJGnQHRIp9z+uj5pyX5Ik6UDRdZ2KiooD3YxP7AsZXCRJkqTPlpwWkyRJkgadDC6SJEnSoJPBRZIkSRp0MrhIkiRJg04GF0mSJGnQyeAiSZIkDTpZf3cfHMfhlltuYd26dbjdbm6//XZKSkoOdLP26YwzziAUCgFQWFjIlVdeyXe/+10URaGiooKbb74ZVVWZP38+jz32GLquc9VVV3HssccSj8e54YYbaG9vJxAIcNddd5GRkXFA+rF8+XJ+8Ytf8PDDD1NTU/Op+7Bs2TLuuOMONE1j+vTpXH311Qe0T6tXr+bKK6+ktLQUgDlz5jB79uyDpk+maXLTTTfR0NBAIpHgqquuYtiwYQf157SnPuXl5R3Un9MBIaQB/fe//xU33nijEEKIpUuXiiuvvPIAt2jf4vG4OP300/tdu+KKK8S7774rhBDihz/8oXjppZdES0uLOOWUU4RhGKKnp6fvz3/+85/Fb3/7WyGEEP/5z3/Ebbfdtr+7IIQQ4oEHHhCnnHKKOPfccwetD6eddpqoqakRjuOIyy67TKxateqA9mn+/PniwQcf7Hefg6lPTzzxhLj99tuFEEJ0dHSIGTNmHPSf0576dLB/TgeCnBbbhyVLlnDUUUcBMH78eFatWnWAW7Rva9euJRaLcckll3DhhReybNkyVq9ezZQpUwA4+uijeeedd1ixYgUTJkzA7XYTCoUoLi5m7dq1/fp89NFHs3DhwgPSj+LiYu65556+25+2D+FwmEQiQXFxMYqiMH369P3etw/3adWqVbz++utccMEF3HTTTYTD4YOqTyeddBLf/OY3+25rmnbQf0576tPB/jkdCDK47EM4HCYYDPbd1jQNy7IOYIv2zev1cumll/Lggw9y6623cv311yOEQFEUAAKBAL29vYTD4b6psx3Xw+Fwv+s77nsgzJo1C13fOXP7afvw4c/yQPTtw30aO3Ys3/nOd/jHP/5BUVER995770HVp0AgQDAYJBwOc80113Dttdce9J/Tnvp0sH9OB4IMLvsQDAaJRCJ9tx3H6ffl8HlUVlbGaaedhqIolJWVkZaWRnt7e9/fRyIRUlJSdutbJBIhFAr1u77jvp8Hqrrzx/WT9GFP9z3QfZs5cyajR4/u+/OaNWsOuj41NjZy4YUXcvrpp3PqqaceEp/Th/t0KHxO+5sMLvswceJEFixYACQTXlZWVh7gFu3bE088wU9/+lMAmpubCYfDHHnkkSxatAiABQsWMHnyZMaOHcuSJUswDIPe3l42bdpEZWUlEydO5I033ui776RJkw5YX3Y1cuTIT9WHYDCIy+WitrYWIQRvvfUWkydPPpBd4tJLL2XFihUALFy4kFGjRh1UfWpra+OSSy7hhhtu4JxzzgEO/s9pT3062D+nA0EmrtyHHbvF1q9fjxCCO++8k6FDhx7oZg0okUjwve99j23btqEoCtdffz3p6en88Ic/xDRNysvLuf3229E0jfnz5/P4448jhOCKK65g1qxZxGIxbrzxRlpbW3G5XNx9991kZ2cfkL7U19fzrW99i/nz57Nly5ZP3Ydly5Zx5513Yts206dP57rrrjugfVq9ejW33XYbLpeLrKwsbrvtNoLB4EHTp9tvv50XXniB8vLyvmvf//73uf322w/az2lPfbr22mv5+c9/ftB+TgeCDC6SJEnSoJPTYpIkSdKgk8FFkiRJGnQyuEiSJEmDTgYXSZIkadDJ4CJJkiQNOhlcJGkXDzzwANOnT8cwjP32ml1dXTz77LP77fUkaX+QwUWSdvHss88ye/Zsnnvuuf32muvWrePVV1/db68nSfvD5zuPiSTtR4sWLaK4uJjzzz+fG264gbPOOot58+ZRVVXFhg0b8Pv9TJ48mbfeeouenh7+/Oc/4/f7uemmm6irq8O2bS6++GJmz57NvHnzuOWWWxg6dCiPPvoobW1tnHnmmXz7298mLy+Puro6xowZw6233srvf/971q5dy+OPP86Xv/zlA/02SNKgkCMXSdrun//8J+eeey7l5eW43W6WL18OJJNL/vWvfyWRSOD1ennooYcYNmwY7733Ho8//jjp6ek89thjPPTQQ/z617+mo6Njr6+xdetW7rjjDv75z3+yYMECWltbufLKK5k6daoMLNIhRY5cJAno7u5mwYIFdHR08PDDDxMOh/n73/8OwKhRowBISUlh2LBhfX82DINNmzZxxBFHAMkkp0OHDqWurq7fc++aBKO4uLgvO252dvZ+XduRpP1JBhdJAp555hnOPvtsbrzxRgBisRjHH3886enpAz5u6NChvP/++8ycOZNwOMz69espLCzE7XbT2trK0KFDWbNmDbm5uQB9qeh3paoqjuMMfqck6QCS02KSRHJK7PTTT++77fP5OPHEE6mpqRnwceeddx5dXV3MmTOHCy+8kKuvvprMzEwuvPBCfvzjH3PppZdi2/aAz1FcXMz69ev5y1/+MhhdkaTPBZm4UpIkSRp0cuQiSZIkDToZXCRJkqRBJ4OLJEmSNOhkcJEkSZIGnQwukiRJ0qCTwUWSJEkadDK4SJIkSYPu/wEeUK51qeJrqQAAAABJRU5ErkJggg==\n",
      "text/plain": [
       "<Figure size 401.625x360 with 1 Axes>"
      ]
     },
     "metadata": {},
     "output_type": "display_data"
    }
   ],
   "source": [
    "#plot \n",
    "sns.relplot(x='Amount', y='Time', hue='Class', data=df)\n"
   ]
  },
  {
   "cell_type": "code",
   "execution_count": 11,
   "metadata": {},
   "outputs": [
    {
     "data": {
      "image/png": "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\n",
      "text/plain": [
       "<Figure size 576x576 with 1 Axes>"
      ]
     },
     "metadata": {},
     "output_type": "display_data"
    }
   ],
   "source": [
    "#plot amount according to class\n",
    "#There are two classes 0 and 1\n",
    "plt.figure(figsize = (8,8))\n",
    "\n",
    "\n",
    "plt.scatter(df.Amount, df.Class, marker='+',color='red')\n",
    "\n",
    "\n",
    "plt.xlabel(\"Amount\", fontsize =16)\n",
    "\n",
    "\n",
    "plt.ylabel(\"Class\", fontsize = 16)\n",
    "\n",
    "\n",
    "plt.show()"
   ]
  },
  {
   "cell_type": "markdown",
   "metadata": {},
   "source": [
    "# Models"
   ]
  },
  {
   "cell_type": "markdown",
   "metadata": {},
   "source": [
    "#### Now, we use the training set to build an accurate model. Then use the test set to report the accuracy of the model. We use the following algorithms:\n",
    "\n",
    "-Logistic Regression.\n",
    "\n",
    "-Support Vector Machine.\n",
    "\n",
    "-Artificial Neural network.\n",
    "\n"
   ]
  },
  {
   "cell_type": "markdown",
   "metadata": {},
   "source": [
    "# Logistic Regression"
   ]
  },
  {
   "cell_type": "code",
   "execution_count": 12,
   "metadata": {},
   "outputs": [],
   "source": [
    "## First import the package\n",
    "from sklearn.model_selection import train_test_split"
   ]
  },
  {
   "cell_type": "code",
   "execution_count": 13,
   "metadata": {},
   "outputs": [],
   "source": [
    "###Separate features\n",
    "X_LR=df.iloc[:,:-1]\n",
    "y_LR=df.iloc[:,-1]\n"
   ]
  },
  {
   "cell_type": "code",
   "execution_count": 14,
   "metadata": {},
   "outputs": [],
   "source": [
    "## Now split the data\n",
    "## Have 20% for testing\n",
    "## Set 40 as the random state\n",
    "## and stratify the split\n",
    "X_train_LR, X_test_LR, y_train_LR, y_test_LR=train_test_split(X_LR,y_LR,\n",
    "                                                  test_size=.2,\n",
    "                                                  random_state=40,\n",
    "                                                  shuffle=True,\n",
    "                                                  stratify=y_LR)"
   ]
  },
  {
   "cell_type": "code",
   "execution_count": 15,
   "metadata": {},
   "outputs": [],
   "source": [
    "#Use a pipeline with StandardScaler and LogisticRegression\n",
    "from sklearn.linear_model import LogisticRegression\n",
    "from sklearn.preprocessing import StandardScaler\n",
    "from sklearn.pipeline import Pipeline\n",
    "pipe_LR = Pipeline([('preprocess',StandardScaler()),\n",
    "                ('Lreg',LogisticRegression())])\n",
    "\n",
    "\n"
   ]
  },
  {
   "cell_type": "code",
   "execution_count": 16,
   "metadata": {},
   "outputs": [
    {
     "data": {
      "text/plain": [
       "Pipeline(steps=[('preprocess', StandardScaler()),\n",
       "                ('Lreg', LogisticRegression())])"
      ]
     },
     "execution_count": 16,
     "metadata": {},
     "output_type": "execute_result"
    }
   ],
   "source": [
    "## Fit the model here\n",
    "pipe_LR.fit(X_train_LR,y_train_LR)"
   ]
  },
  {
   "cell_type": "code",
   "execution_count": 17,
   "metadata": {},
   "outputs": [
    {
     "name": "stdout",
     "output_type": "stream",
     "text": [
      "[0 0 0 ... 0 0 0]\n",
      "0.99923632293884\n"
     ]
    }
   ],
   "source": [
    "## get the predictions X_train\n",
    "y_pred_train_LR=pipe_LR.predict(X_train_LR)\n",
    "print(y_pred_train_LR)\n",
    "# now we can get the accuracy_score for training data\n",
    "from sklearn.metrics import accuracy_score\n",
    "accuracy_score_LR_train=accuracy_score(y_train_LR,y_pred_train_LR)\n",
    "print(accuracy_score_LR_train)"
   ]
  },
  {
   "cell_type": "code",
   "execution_count": 18,
   "metadata": {},
   "outputs": [
    {
     "name": "stdout",
     "output_type": "stream",
     "text": [
      "[[9.99720769e-01 2.79230799e-04]\n",
      " [9.99489230e-01 5.10770122e-04]\n",
      " [9.99956019e-01 4.39805563e-05]\n",
      " ...\n",
      " [9.99759254e-01 2.40745586e-04]\n",
      " [9.99910876e-01 8.91239720e-05]\n",
      " [9.98644453e-01 1.35554728e-03]]\n"
     ]
    }
   ],
   "source": [
    "#predict the probabilities\n",
    "y_pred_prob_LR=pipe_LR.predict_proba(X_train_LR)\n",
    "print(y_pred_prob_LR)\n",
    "\n"
   ]
  },
  {
   "cell_type": "code",
   "execution_count": 19,
   "metadata": {},
   "outputs": [
    {
     "data": {
      "text/plain": [
       "(array([0.        , 0.        , 0.        , ..., 0.99919543, 0.99920422,\n",
       "        1.        ]),\n",
       " array([0.        , 0.00253807, 0.00761421, ..., 1.        , 1.        ,\n",
       "        1.        ]),\n",
       " array([2.00000000e+00, 1.00000000e+00, 1.00000000e+00, ...,\n",
       "        1.68082593e-10, 1.61854618e-10, 5.40513592e-13]))"
      ]
     },
     "execution_count": 19,
     "metadata": {},
     "output_type": "execute_result"
    }
   ],
   "source": [
    "#now we can get the ROC\n",
    "from sklearn.metrics import roc_curve\n",
    "\n",
    "roc_curve(y_train_LR,y_pred_prob_LR[:,1])"
   ]
  },
  {
   "cell_type": "code",
   "execution_count": 20,
   "metadata": {},
   "outputs": [],
   "source": [
    "#we get the fpr,tpr,cutoffs\n",
    "fpr_LR,tpr_LR,cutoffs_LR = roc_curve(y_train_LR,y_pred_prob_LR[:,1])"
   ]
  },
  {
   "cell_type": "code",
   "execution_count": 21,
   "metadata": {},
   "outputs": [
    {
     "name": "stdout",
     "output_type": "stream",
     "text": [
      "0.98006714091842\n"
     ]
    }
   ],
   "source": [
    "#now we can get the AUC\n",
    "from sklearn.metrics import roc_auc_score\n",
    "auc_lR=roc_auc_score(y_train_LR,y_pred_prob_LR[:,1])\n",
    "print(auc_lR)"
   ]
  },
  {
   "cell_type": "code",
   "execution_count": 22,
   "metadata": {},
   "outputs": [
    {
     "data": {
      "image/png": "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\n",
      "text/plain": [
       "<Figure size 864x576 with 1 Axes>"
      ]
     },
     "metadata": {},
     "output_type": "display_data"
    }
   ],
   "source": [
    "#plot ROC with AUC\n",
    "plt.figure(figsize=(12,8))\n",
    "\n",
    "plt.plot(fpr_LR,tpr_LR,label='AUC= '+str(np.around(auc_lR,4)))\n",
    "\n",
    "\n",
    "\n",
    "plt.xlabel(\"False Positive Rate\",fontsize=16)\n",
    "plt.ylabel(\"True Positive Rate\",fontsize=16)\n",
    "\n",
    "plt.title(\"ROC Curve\", fontsize=18)\n",
    "plt.xticks(fontsize=12)\n",
    "plt.yticks(fontsize=12)\n",
    "plt.legend(loc='best')\n",
    "plt.show()"
   ]
  },
  {
   "cell_type": "code",
   "execution_count": 23,
   "metadata": {},
   "outputs": [
    {
     "name": "stdout",
     "output_type": "stream",
     "text": [
      "[0 0 0 ... 0 0 0]\n",
      "0.9990344440153085\n"
     ]
    }
   ],
   "source": [
    "## get the predictions X_test\n",
    "y_pred_test_LR=pipe_LR.predict(X_test_LR)\n",
    "print(y_pred_test_LR)\n",
    "# now we can get the accuracy_score for the testing data\n",
    "accuracy_score_LR=accuracy_score(y_test_LR,y_pred_test_LR)\n",
    "print(accuracy_score_LR)"
   ]
  },
  {
   "cell_type": "code",
   "execution_count": 24,
   "metadata": {},
   "outputs": [
    {
     "name": "stdout",
     "output_type": "stream",
     "text": [
      "[[56856     8]\n",
      " [   47    51]]\n"
     ]
    }
   ],
   "source": [
    "# now we can get the confusion matrix\n",
    "from sklearn.metrics import confusion_matrix\n",
    "print(confusion_matrix(y_test_LR,y_pred_test_LR))"
   ]
  },
  {
   "cell_type": "code",
   "execution_count": 25,
   "metadata": {},
   "outputs": [
    {
     "name": "stdout",
     "output_type": "stream",
     "text": [
      "0.864406779661017\n",
      "0.5204081632653061\n"
     ]
    }
   ],
   "source": [
    "# now we can get the precision score and recall score\n",
    "from sklearn.metrics import precision_score\n",
    "from sklearn.metrics import recall_score\n",
    "precision_score_LR=precision_score(y_test_LR,y_pred_test_LR)\n",
    "recall_score_LR=recall_score(y_test_LR,y_pred_test_LR)\n",
    "print(precision_score_LR)\n",
    "print(recall_score_LR)"
   ]
  },
  {
   "cell_type": "code",
   "execution_count": 26,
   "metadata": {},
   "outputs": [
    {
     "name": "stdout",
     "output_type": "stream",
     "text": [
      "0.4811320754716981\n",
      "0.998914683771136\n"
     ]
    }
   ],
   "source": [
    "from sklearn.metrics import jaccard_score\n",
    "from sklearn.metrics import f1_score\n",
    "jaccard_LR=jaccard_score(y_test_LR,y_pred_test_LR)\n",
    "print(jaccard_LR)\n",
    "#F1 score\n",
    "f1_score_LR=f1_score(y_test_LR,y_pred_test_LR, average='weighted')\n",
    "print(f1_score_LR)\n"
   ]
  },
  {
   "cell_type": "code",
   "execution_count": 27,
   "metadata": {},
   "outputs": [
    {
     "name": "stdout",
     "output_type": "stream",
     "text": [
      "              precision    recall  f1-score   support\n",
      "\n",
      "           0       1.00      1.00      1.00     56864\n",
      "           1       0.86      0.52      0.65        98\n",
      "\n",
      "    accuracy                           1.00     56962\n",
      "   macro avg       0.93      0.76      0.82     56962\n",
      "weighted avg       1.00      1.00      1.00     56962\n",
      "\n"
     ]
    }
   ],
   "source": [
    "# now we can get the classification_report to know the precision, the recall, the f1-score, the support\n",
    "from sklearn.metrics import classification_report\n",
    "print(classification_report(y_test_LR,y_pred_test_LR))"
   ]
  },
  {
   "cell_type": "markdown",
   "metadata": {},
   "source": [
    "# Artificial Neural Network "
   ]
  },
  {
   "cell_type": "code",
   "execution_count": null,
   "metadata": {},
   "outputs": [],
   "source": [
    "\n"
   ]
  },
  {
   "cell_type": "code",
   "execution_count": null,
   "metadata": {},
   "outputs": [],
   "source": []
  },
  {
   "cell_type": "markdown",
   "metadata": {},
   "source": [
    "# Support Vector Machine"
   ]
  },
  {
   "cell_type": "code",
   "execution_count": null,
   "metadata": {},
   "outputs": [],
   "source": []
  },
  {
   "cell_type": "code",
   "execution_count": null,
   "metadata": {},
   "outputs": [],
   "source": []
  },
  {
   "cell_type": "code",
   "execution_count": null,
   "metadata": {},
   "outputs": [],
   "source": []
  },
  {
   "cell_type": "markdown",
   "metadata": {},
   "source": [
    "# Report"
   ]
  },
  {
   "cell_type": "code",
   "execution_count": 28,
   "metadata": {},
   "outputs": [
    {
     "name": "stdout",
     "output_type": "stream",
     "text": [
      "    Accuracy score Precision score Recall score Jaccard score  f1 score\n",
      "LR        0.999034        0.864407     0.520408      0.481132  0.998915\n",
      "ANN             NA              NA           NA            NA        NA\n",
      "SVM             NA              NA           NA            NA        NA\n"
     ]
    }
   ],
   "source": [
    "#Report\n",
    "\n",
    "df_report = pd.DataFrame({'Accuracy score': [accuracy_score_LR, 'NA' , 'NA'],\n",
    "                   'Precision score': [precision_score_LR, 'NA', 'NA'],\n",
    "                   'Recall score': [recall_score_LR, 'NA','NA'],\n",
    "                          'Jaccard score': [jaccard_LR, 'NA','NA'],\n",
    "                          'f1 score': [f1_score_LR, 'NA','NA']},\n",
    "                  index=['LR','ANN', 'SVM', ])\n",
    "print(df_report)"
   ]
  },
  {
   "cell_type": "code",
   "execution_count": null,
   "metadata": {},
   "outputs": [],
   "source": []
  }
 ],
 "metadata": {
  "kernelspec": {
   "display_name": "Python 3",
   "language": "python",
   "name": "python3"
  },
  "language_info": {
   "codemirror_mode": {
    "name": "ipython",
    "version": 3
   },
   "file_extension": ".py",
   "mimetype": "text/x-python",
   "name": "python",
   "nbconvert_exporter": "python",
   "pygments_lexer": "ipython3",
   "version": "3.8.5"
  }
 },
 "nbformat": 4,
 "nbformat_minor": 4
}


{
 "cells": [
  {
   "cell_type": "code",
   "execution_count": 132,
   "metadata": {},
   "outputs": [],
   "source": [
    "import pandas as pd\n",
    "import numpy as np\n",
    "import tensorflow as tf\n",
    "from tensorflow import keras\n",
    "from tensorflow.keras import layers\n",
    "\n",
    "# Keras. \n",
    "\n",
    "from keras import models\n",
    "from keras import layers\n",
    "from keras import optimizers\n",
    "from keras import losses\n",
    "from keras import metrics\n",
    "\n",
    "from keras.metrics import binary_crossentropy\n",
    "\n",
    "## For plotting\n",
    "import matplotlib.pyplot as plt\n",
    "from seaborn import set_style\n",
    "\n",
    "## This sets the plot style\n",
    "## to have a grid on a white background\n",
    "set_style(\"white\")\n",
    "\n",
    "## Define categorical funcion. This prepares entries for tensor analysis. \n",
    "\n",
    "def to_categorical(y):\n",
    "    return tf.keras.utils.to_categorical(y)\n"
   ]
  },
  {
   "cell_type": "code",
   "execution_count": 133,
   "metadata": {},
   "outputs": [
    {
     "data": {
      "text/html": [
       "<div>\n",
       "<style scoped>\n",
       "    .dataframe tbody tr th:only-of-type {\n",
       "        vertical-align: middle;\n",
       "    }\n",
       "\n",
       "    .dataframe tbody tr th {\n",
       "        vertical-align: top;\n",
       "    }\n",
       "\n",
       "    .dataframe thead th {\n",
       "        text-align: right;\n",
       "    }\n",
       "</style>\n",
       "<table border=\"1\" class=\"dataframe\">\n",
       "  <thead>\n",
       "    <tr style=\"text-align: right;\">\n",
       "      <th></th>\n",
       "      <th>Time</th>\n",
       "      <th>V1</th>\n",
       "      <th>V2</th>\n",
       "      <th>V3</th>\n",
       "      <th>V4</th>\n",
       "      <th>V5</th>\n",
       "      <th>V6</th>\n",
       "      <th>V7</th>\n",
       "      <th>V8</th>\n",
       "      <th>V9</th>\n",
       "      <th>...</th>\n",
       "      <th>V21</th>\n",
       "      <th>V22</th>\n",
       "      <th>V23</th>\n",
       "      <th>V24</th>\n",
       "      <th>V25</th>\n",
       "      <th>V26</th>\n",
       "      <th>V27</th>\n",
       "      <th>V28</th>\n",
       "      <th>Amount</th>\n",
       "      <th>Class</th>\n",
       "    </tr>\n",
       "  </thead>\n",
       "  <tbody>\n",
       "    <tr>\n",
       "      <th>0</th>\n",
       "      <td>0.0</td>\n",
       "      <td>-1.359807</td>\n",
       "      <td>-0.072781</td>\n",
       "      <td>2.536347</td>\n",
       "      <td>1.378155</td>\n",
       "      <td>-0.338321</td>\n",
       "      <td>0.462388</td>\n",
       "      <td>0.239599</td>\n",
       "      <td>0.098698</td>\n",
       "      <td>0.363787</td>\n",
       "      <td>...</td>\n",
       "      <td>-0.018307</td>\n",
       "      <td>0.277838</td>\n",
       "      <td>-0.110474</td>\n",
       "      <td>0.066928</td>\n",
       "      <td>0.128539</td>\n",
       "      <td>-0.189115</td>\n",
       "      <td>0.133558</td>\n",
       "      <td>-0.021053</td>\n",
       "      <td>149.62</td>\n",
       "      <td>0</td>\n",
       "    </tr>\n",
       "    <tr>\n",
       "      <th>1</th>\n",
       "      <td>0.0</td>\n",
       "      <td>1.191857</td>\n",
       "      <td>0.266151</td>\n",
       "      <td>0.166480</td>\n",
       "      <td>0.448154</td>\n",
       "      <td>0.060018</td>\n",
       "      <td>-0.082361</td>\n",
       "      <td>-0.078803</td>\n",
       "      <td>0.085102</td>\n",
       "      <td>-0.255425</td>\n",
       "      <td>...</td>\n",
       "      <td>-0.225775</td>\n",
       "      <td>-0.638672</td>\n",
       "      <td>0.101288</td>\n",
       "      <td>-0.339846</td>\n",
       "      <td>0.167170</td>\n",
       "      <td>0.125895</td>\n",
       "      <td>-0.008983</td>\n",
       "      <td>0.014724</td>\n",
       "      <td>2.69</td>\n",
       "      <td>0</td>\n",
       "    </tr>\n",
       "    <tr>\n",
       "      <th>2</th>\n",
       "      <td>1.0</td>\n",
       "      <td>-1.358354</td>\n",
       "      <td>-1.340163</td>\n",
       "      <td>1.773209</td>\n",
       "      <td>0.379780</td>\n",
       "      <td>-0.503198</td>\n",
       "      <td>1.800499</td>\n",
       "      <td>0.791461</td>\n",
       "      <td>0.247676</td>\n",
       "      <td>-1.514654</td>\n",
       "      <td>...</td>\n",
       "      <td>0.247998</td>\n",
       "      <td>0.771679</td>\n",
       "      <td>0.909412</td>\n",
       "      <td>-0.689281</td>\n",
       "      <td>-0.327642</td>\n",
       "      <td>-0.139097</td>\n",
       "      <td>-0.055353</td>\n",
       "      <td>-0.059752</td>\n",
       "      <td>378.66</td>\n",
       "      <td>0</td>\n",
       "    </tr>\n",
       "    <tr>\n",
       "      <th>3</th>\n",
       "      <td>1.0</td>\n",
       "      <td>-0.966272</td>\n",
       "      <td>-0.185226</td>\n",
       "      <td>1.792993</td>\n",
       "      <td>-0.863291</td>\n",
       "      <td>-0.010309</td>\n",
       "      <td>1.247203</td>\n",
       "      <td>0.237609</td>\n",
       "      <td>0.377436</td>\n",
       "      <td>-1.387024</td>\n",
       "      <td>...</td>\n",
       "      <td>-0.108300</td>\n",
       "      <td>0.005274</td>\n",
       "      <td>-0.190321</td>\n",
       "      <td>-1.175575</td>\n",
       "      <td>0.647376</td>\n",
       "      <td>-0.221929</td>\n",
       "      <td>0.062723</td>\n",
       "      <td>0.061458</td>\n",
       "      <td>123.50</td>\n",
       "      <td>0</td>\n",
       "    </tr>\n",
       "    <tr>\n",
       "      <th>4</th>\n",
       "      <td>2.0</td>\n",
       "      <td>-1.158233</td>\n",
       "      <td>0.877737</td>\n",
       "      <td>1.548718</td>\n",
       "      <td>0.403034</td>\n",
       "      <td>-0.407193</td>\n",
       "      <td>0.095921</td>\n",
       "      <td>0.592941</td>\n",
       "      <td>-0.270533</td>\n",
       "      <td>0.817739</td>\n",
       "      <td>...</td>\n",
       "      <td>-0.009431</td>\n",
       "      <td>0.798278</td>\n",
       "      <td>-0.137458</td>\n",
       "      <td>0.141267</td>\n",
       "      <td>-0.206010</td>\n",
       "      <td>0.502292</td>\n",
       "      <td>0.219422</td>\n",
       "      <td>0.215153</td>\n",
       "      <td>69.99</td>\n",
       "      <td>0</td>\n",
       "    </tr>\n",
       "  </tbody>\n",
       "</table>\n",
       "<p>5 rows × 31 columns</p>\n",
       "</div>"
      ],
      "text/plain": [
       "   Time        V1        V2        V3        V4        V5        V6        V7  \\\n",
       "0   0.0 -1.359807 -0.072781  2.536347  1.378155 -0.338321  0.462388  0.239599   \n",
       "1   0.0  1.191857  0.266151  0.166480  0.448154  0.060018 -0.082361 -0.078803   \n",
       "2   1.0 -1.358354 -1.340163  1.773209  0.379780 -0.503198  1.800499  0.791461   \n",
       "3   1.0 -0.966272 -0.185226  1.792993 -0.863291 -0.010309  1.247203  0.237609   \n",
       "4   2.0 -1.158233  0.877737  1.548718  0.403034 -0.407193  0.095921  0.592941   \n",
       "\n",
       "         V8        V9  ...       V21       V22       V23       V24       V25  \\\n",
       "0  0.098698  0.363787  ... -0.018307  0.277838 -0.110474  0.066928  0.128539   \n",
       "1  0.085102 -0.255425  ... -0.225775 -0.638672  0.101288 -0.339846  0.167170   \n",
       "2  0.247676 -1.514654  ...  0.247998  0.771679  0.909412 -0.689281 -0.327642   \n",
       "3  0.377436 -1.387024  ... -0.108300  0.005274 -0.190321 -1.175575  0.647376   \n",
       "4 -0.270533  0.817739  ... -0.009431  0.798278 -0.137458  0.141267 -0.206010   \n",
       "\n",
       "        V26       V27       V28  Amount  Class  \n",
       "0 -0.189115  0.133558 -0.021053  149.62      0  \n",
       "1  0.125895 -0.008983  0.014724    2.69      0  \n",
       "2 -0.139097 -0.055353 -0.059752  378.66      0  \n",
       "3 -0.221929  0.062723  0.061458  123.50      0  \n",
       "4  0.502292  0.219422  0.215153   69.99      0  \n",
       "\n",
       "[5 rows x 31 columns]"
      ]
     },
     "execution_count": 133,
     "metadata": {},
     "output_type": "execute_result"
    }
   ],
   "source": [
    "credit_card_df = pd.read_csv(\"/Users/Matt/Documents/GitHub/Credit-Card-Fraud-Detection/creditcard.csv\")\n",
    "credit_card_df.head()"
   ]
  },
  {
   "cell_type": "code",
   "execution_count": 134,
   "metadata": {},
   "outputs": [],
   "source": [
    "# Pickout the valid transactions.\n",
    "\n",
    "valid_transactions = credit_card_df.loc[credit_card_df['Class'] == 0.0]\n",
    "fraudulent_transactions = credit_card_df.drop(valid_transactions.index)"
   ]
  },
  {
   "cell_type": "code",
   "execution_count": 135,
   "metadata": {},
   "outputs": [
    {
     "data": {
      "text/html": [
       "<div>\n",
       "<style scoped>\n",
       "    .dataframe tbody tr th:only-of-type {\n",
       "        vertical-align: middle;\n",
       "    }\n",
       "\n",
       "    .dataframe tbody tr th {\n",
       "        vertical-align: top;\n",
       "    }\n",
       "\n",
       "    .dataframe thead th {\n",
       "        text-align: right;\n",
       "    }\n",
       "</style>\n",
       "<table border=\"1\" class=\"dataframe\">\n",
       "  <thead>\n",
       "    <tr style=\"text-align: right;\">\n",
       "      <th></th>\n",
       "      <th>Time</th>\n",
       "      <th>V1</th>\n",
       "      <th>V2</th>\n",
       "      <th>V3</th>\n",
       "      <th>V4</th>\n",
       "      <th>V5</th>\n",
       "      <th>V6</th>\n",
       "      <th>V7</th>\n",
       "      <th>V8</th>\n",
       "      <th>V9</th>\n",
       "      <th>...</th>\n",
       "      <th>V21</th>\n",
       "      <th>V22</th>\n",
       "      <th>V23</th>\n",
       "      <th>V24</th>\n",
       "      <th>V25</th>\n",
       "      <th>V26</th>\n",
       "      <th>V27</th>\n",
       "      <th>V28</th>\n",
       "      <th>Amount</th>\n",
       "      <th>Class</th>\n",
       "    </tr>\n",
       "  </thead>\n",
       "  <tbody>\n",
       "    <tr>\n",
       "      <th>42756</th>\n",
       "      <td>41233.0</td>\n",
       "      <td>-10.645800</td>\n",
       "      <td>5.918307</td>\n",
       "      <td>-11.671043</td>\n",
       "      <td>8.807369</td>\n",
       "      <td>-7.975501</td>\n",
       "      <td>-3.586806</td>\n",
       "      <td>-13.616797</td>\n",
       "      <td>6.428169</td>\n",
       "      <td>-7.368451</td>\n",
       "      <td>...</td>\n",
       "      <td>2.571970</td>\n",
       "      <td>0.206809</td>\n",
       "      <td>-1.667801</td>\n",
       "      <td>0.558419</td>\n",
       "      <td>-0.027898</td>\n",
       "      <td>0.354254</td>\n",
       "      <td>0.273329</td>\n",
       "      <td>-0.152908</td>\n",
       "      <td>0.00</td>\n",
       "      <td>1</td>\n",
       "    </tr>\n",
       "    <tr>\n",
       "      <th>113983</th>\n",
       "      <td>73287.0</td>\n",
       "      <td>1.202245</td>\n",
       "      <td>0.035993</td>\n",
       "      <td>0.673594</td>\n",
       "      <td>0.846058</td>\n",
       "      <td>-0.636044</td>\n",
       "      <td>-0.643119</td>\n",
       "      <td>-0.083282</td>\n",
       "      <td>-0.113017</td>\n",
       "      <td>0.496372</td>\n",
       "      <td>...</td>\n",
       "      <td>-0.289846</td>\n",
       "      <td>-0.679888</td>\n",
       "      <td>0.064032</td>\n",
       "      <td>0.403247</td>\n",
       "      <td>0.340998</td>\n",
       "      <td>0.179334</td>\n",
       "      <td>-0.015802</td>\n",
       "      <td>0.019367</td>\n",
       "      <td>17.39</td>\n",
       "      <td>0</td>\n",
       "    </tr>\n",
       "    <tr>\n",
       "      <th>111690</th>\n",
       "      <td>72327.0</td>\n",
       "      <td>-4.198735</td>\n",
       "      <td>0.194121</td>\n",
       "      <td>-3.917586</td>\n",
       "      <td>3.920748</td>\n",
       "      <td>-1.875486</td>\n",
       "      <td>-2.118933</td>\n",
       "      <td>-3.614445</td>\n",
       "      <td>1.687884</td>\n",
       "      <td>-2.189871</td>\n",
       "      <td>...</td>\n",
       "      <td>0.801312</td>\n",
       "      <td>-0.183001</td>\n",
       "      <td>-0.440387</td>\n",
       "      <td>0.292539</td>\n",
       "      <td>-0.144967</td>\n",
       "      <td>-0.251744</td>\n",
       "      <td>1.249414</td>\n",
       "      <td>-0.131525</td>\n",
       "      <td>238.90</td>\n",
       "      <td>1</td>\n",
       "    </tr>\n",
       "    <tr>\n",
       "      <th>120303</th>\n",
       "      <td>75778.0</td>\n",
       "      <td>-2.448622</td>\n",
       "      <td>-1.267766</td>\n",
       "      <td>0.052177</td>\n",
       "      <td>1.703967</td>\n",
       "      <td>-3.227863</td>\n",
       "      <td>1.164250</td>\n",
       "      <td>3.586783</td>\n",
       "      <td>0.218217</td>\n",
       "      <td>-1.418245</td>\n",
       "      <td>...</td>\n",
       "      <td>0.657849</td>\n",
       "      <td>0.110527</td>\n",
       "      <td>2.229992</td>\n",
       "      <td>0.388572</td>\n",
       "      <td>0.318408</td>\n",
       "      <td>-0.379163</td>\n",
       "      <td>-0.088439</td>\n",
       "      <td>0.191091</td>\n",
       "      <td>992.52</td>\n",
       "      <td>0</td>\n",
       "    </tr>\n",
       "    <tr>\n",
       "      <th>31906</th>\n",
       "      <td>36557.0</td>\n",
       "      <td>1.290252</td>\n",
       "      <td>0.103967</td>\n",
       "      <td>-1.167062</td>\n",
       "      <td>-0.065915</td>\n",
       "      <td>2.205035</td>\n",
       "      <td>3.330085</td>\n",
       "      <td>-0.398459</td>\n",
       "      <td>0.797402</td>\n",
       "      <td>-0.125986</td>\n",
       "      <td>...</td>\n",
       "      <td>-0.228271</td>\n",
       "      <td>-0.796435</td>\n",
       "      <td>0.010025</td>\n",
       "      <td>0.967359</td>\n",
       "      <td>0.632698</td>\n",
       "      <td>-0.536768</td>\n",
       "      <td>0.021421</td>\n",
       "      <td>0.019394</td>\n",
       "      <td>4.29</td>\n",
       "      <td>0</td>\n",
       "    </tr>\n",
       "  </tbody>\n",
       "</table>\n",
       "<p>5 rows × 31 columns</p>\n",
       "</div>"
      ],
      "text/plain": [
       "           Time         V1        V2         V3        V4        V5        V6  \\\n",
       "42756   41233.0 -10.645800  5.918307 -11.671043  8.807369 -7.975501 -3.586806   \n",
       "113983  73287.0   1.202245  0.035993   0.673594  0.846058 -0.636044 -0.643119   \n",
       "111690  72327.0  -4.198735  0.194121  -3.917586  3.920748 -1.875486 -2.118933   \n",
       "120303  75778.0  -2.448622 -1.267766   0.052177  1.703967 -3.227863  1.164250   \n",
       "31906   36557.0   1.290252  0.103967  -1.167062 -0.065915  2.205035  3.330085   \n",
       "\n",
       "               V7        V8        V9  ...       V21       V22       V23  \\\n",
       "42756  -13.616797  6.428169 -7.368451  ...  2.571970  0.206809 -1.667801   \n",
       "113983  -0.083282 -0.113017  0.496372  ... -0.289846 -0.679888  0.064032   \n",
       "111690  -3.614445  1.687884 -2.189871  ...  0.801312 -0.183001 -0.440387   \n",
       "120303   3.586783  0.218217 -1.418245  ...  0.657849  0.110527  2.229992   \n",
       "31906   -0.398459  0.797402 -0.125986  ... -0.228271 -0.796435  0.010025   \n",
       "\n",
       "             V24       V25       V26       V27       V28  Amount  Class  \n",
       "42756   0.558419 -0.027898  0.354254  0.273329 -0.152908    0.00      1  \n",
       "113983  0.403247  0.340998  0.179334 -0.015802  0.019367   17.39      0  \n",
       "111690  0.292539 -0.144967 -0.251744  1.249414 -0.131525  238.90      1  \n",
       "120303  0.388572  0.318408 -0.379163 -0.088439  0.191091  992.52      0  \n",
       "31906   0.967359  0.632698 -0.536768  0.021421  0.019394    4.29      0  \n",
       "\n",
       "[5 rows x 31 columns]"
      ]
     },
     "execution_count": 135,
     "metadata": {},
     "output_type": "execute_result"
    }
   ],
   "source": [
    "# Create a more balanced data set. This training set will have a 50 / 50 split of valid and fraudulent transactions.\n",
    "# I'll randomly sample 492 valid transactions and then add on the remaining 492 invalid transactions for a total of \n",
    "# 984. \n",
    "\n",
    "valid_sample = valid_transactions.sample(492)\n",
    "\n",
    "# Shuffle the data \n",
    "\n",
    "sample_data_df = pd.concat([valid_sample, fraudulent_transactions]).sample(frac = 1, random_state = 42)\n",
    "\n",
    "sample_data_df.head()\n"
   ]
  },
  {
   "cell_type": "code",
   "execution_count": 136,
   "metadata": {},
   "outputs": [],
   "source": [
    "# Scale the data. Must run the previous block before this one to avoid error.\n",
    "\n",
    "from sklearn.preprocessing import StandardScaler, RobustScaler\n",
    "\n",
    "std_scaler = StandardScaler()\n",
    "rob_scaler = RobustScaler()\n",
    "\n",
    "sample_data_df['scaled_amount'] = rob_scaler.fit_transform(sample_data_df['Amount'].values.reshape(-1,1))\n",
    "sample_data_df['scaled_time'] = rob_scaler.fit_transform(sample_data_df['Time'].values.reshape(-1,1))\n",
    "\n",
    "sample_data_df.drop(['Time','Amount'], axis=1, inplace=True)\n",
    "\n",
    "\n"
   ]
  },
  {
   "cell_type": "code",
   "execution_count": 137,
   "metadata": {},
   "outputs": [
    {
     "data": {
      "text/html": [
       "<div>\n",
       "<style scoped>\n",
       "    .dataframe tbody tr th:only-of-type {\n",
       "        vertical-align: middle;\n",
       "    }\n",
       "\n",
       "    .dataframe tbody tr th {\n",
       "        vertical-align: top;\n",
       "    }\n",
       "\n",
       "    .dataframe thead th {\n",
       "        text-align: right;\n",
       "    }\n",
       "</style>\n",
       "<table border=\"1\" class=\"dataframe\">\n",
       "  <thead>\n",
       "    <tr style=\"text-align: right;\">\n",
       "      <th></th>\n",
       "      <th>scaled_amount</th>\n",
       "      <th>scaled_time</th>\n",
       "      <th>V1</th>\n",
       "      <th>V2</th>\n",
       "      <th>V3</th>\n",
       "      <th>V4</th>\n",
       "      <th>V5</th>\n",
       "      <th>V6</th>\n",
       "      <th>V7</th>\n",
       "      <th>V8</th>\n",
       "      <th>...</th>\n",
       "      <th>V20</th>\n",
       "      <th>V21</th>\n",
       "      <th>V22</th>\n",
       "      <th>V23</th>\n",
       "      <th>V24</th>\n",
       "      <th>V25</th>\n",
       "      <th>V26</th>\n",
       "      <th>V27</th>\n",
       "      <th>V28</th>\n",
       "      <th>Class</th>\n",
       "    </tr>\n",
       "  </thead>\n",
       "  <tbody>\n",
       "    <tr>\n",
       "      <th>42756</th>\n",
       "      <td>-0.196141</td>\n",
       "      <td>-0.466941</td>\n",
       "      <td>-10.645800</td>\n",
       "      <td>5.918307</td>\n",
       "      <td>-11.671043</td>\n",
       "      <td>8.807369</td>\n",
       "      <td>-7.975501</td>\n",
       "      <td>-3.586806</td>\n",
       "      <td>-13.616797</td>\n",
       "      <td>6.428169</td>\n",
       "      <td>...</td>\n",
       "      <td>-0.046170</td>\n",
       "      <td>2.571970</td>\n",
       "      <td>0.206809</td>\n",
       "      <td>-1.667801</td>\n",
       "      <td>0.558419</td>\n",
       "      <td>-0.027898</td>\n",
       "      <td>0.354254</td>\n",
       "      <td>0.273329</td>\n",
       "      <td>-0.152908</td>\n",
       "      <td>1</td>\n",
       "    </tr>\n",
       "    <tr>\n",
       "      <th>113983</th>\n",
       "      <td>-0.019548</td>\n",
       "      <td>-0.105878</td>\n",
       "      <td>1.202245</td>\n",
       "      <td>0.035993</td>\n",
       "      <td>0.673594</td>\n",
       "      <td>0.846058</td>\n",
       "      <td>-0.636044</td>\n",
       "      <td>-0.643119</td>\n",
       "      <td>-0.083282</td>\n",
       "      <td>-0.113017</td>\n",
       "      <td>...</td>\n",
       "      <td>-0.082191</td>\n",
       "      <td>-0.289846</td>\n",
       "      <td>-0.679888</td>\n",
       "      <td>0.064032</td>\n",
       "      <td>0.403247</td>\n",
       "      <td>0.340998</td>\n",
       "      <td>0.179334</td>\n",
       "      <td>-0.015802</td>\n",
       "      <td>0.019367</td>\n",
       "      <td>0</td>\n",
       "    </tr>\n",
       "    <tr>\n",
       "      <th>111690</th>\n",
       "      <td>2.229855</td>\n",
       "      <td>-0.116692</td>\n",
       "      <td>-4.198735</td>\n",
       "      <td>0.194121</td>\n",
       "      <td>-3.917586</td>\n",
       "      <td>3.920748</td>\n",
       "      <td>-1.875486</td>\n",
       "      <td>-2.118933</td>\n",
       "      <td>-3.614445</td>\n",
       "      <td>1.687884</td>\n",
       "      <td>...</td>\n",
       "      <td>1.003350</td>\n",
       "      <td>0.801312</td>\n",
       "      <td>-0.183001</td>\n",
       "      <td>-0.440387</td>\n",
       "      <td>0.292539</td>\n",
       "      <td>-0.144967</td>\n",
       "      <td>-0.251744</td>\n",
       "      <td>1.249414</td>\n",
       "      <td>-0.131525</td>\n",
       "      <td>1</td>\n",
       "    </tr>\n",
       "    <tr>\n",
       "      <th>120303</th>\n",
       "      <td>9.882762</td>\n",
       "      <td>-0.077819</td>\n",
       "      <td>-2.448622</td>\n",
       "      <td>-1.267766</td>\n",
       "      <td>0.052177</td>\n",
       "      <td>1.703967</td>\n",
       "      <td>-3.227863</td>\n",
       "      <td>1.164250</td>\n",
       "      <td>3.586783</td>\n",
       "      <td>0.218217</td>\n",
       "      <td>...</td>\n",
       "      <td>2.231486</td>\n",
       "      <td>0.657849</td>\n",
       "      <td>0.110527</td>\n",
       "      <td>2.229992</td>\n",
       "      <td>0.388572</td>\n",
       "      <td>0.318408</td>\n",
       "      <td>-0.379163</td>\n",
       "      <td>-0.088439</td>\n",
       "      <td>0.191091</td>\n",
       "      <td>0</td>\n",
       "    </tr>\n",
       "    <tr>\n",
       "      <th>31906</th>\n",
       "      <td>-0.152577</td>\n",
       "      <td>-0.519612</td>\n",
       "      <td>1.290252</td>\n",
       "      <td>0.103967</td>\n",
       "      <td>-1.167062</td>\n",
       "      <td>-0.065915</td>\n",
       "      <td>2.205035</td>\n",
       "      <td>3.330085</td>\n",
       "      <td>-0.398459</td>\n",
       "      <td>0.797402</td>\n",
       "      <td>...</td>\n",
       "      <td>-0.017591</td>\n",
       "      <td>-0.228271</td>\n",
       "      <td>-0.796435</td>\n",
       "      <td>0.010025</td>\n",
       "      <td>0.967359</td>\n",
       "      <td>0.632698</td>\n",
       "      <td>-0.536768</td>\n",
       "      <td>0.021421</td>\n",
       "      <td>0.019394</td>\n",
       "      <td>0</td>\n",
       "    </tr>\n",
       "  </tbody>\n",
       "</table>\n",
       "<p>5 rows × 31 columns</p>\n",
       "</div>"
      ],
      "text/plain": [
       "        scaled_amount  scaled_time         V1        V2         V3        V4  \\\n",
       "42756       -0.196141    -0.466941 -10.645800  5.918307 -11.671043  8.807369   \n",
       "113983      -0.019548    -0.105878   1.202245  0.035993   0.673594  0.846058   \n",
       "111690       2.229855    -0.116692  -4.198735  0.194121  -3.917586  3.920748   \n",
       "120303       9.882762    -0.077819  -2.448622 -1.267766   0.052177  1.703967   \n",
       "31906       -0.152577    -0.519612   1.290252  0.103967  -1.167062 -0.065915   \n",
       "\n",
       "              V5        V6         V7        V8  ...       V20       V21  \\\n",
       "42756  -7.975501 -3.586806 -13.616797  6.428169  ... -0.046170  2.571970   \n",
       "113983 -0.636044 -0.643119  -0.083282 -0.113017  ... -0.082191 -0.289846   \n",
       "111690 -1.875486 -2.118933  -3.614445  1.687884  ...  1.003350  0.801312   \n",
       "120303 -3.227863  1.164250   3.586783  0.218217  ...  2.231486  0.657849   \n",
       "31906   2.205035  3.330085  -0.398459  0.797402  ... -0.017591 -0.228271   \n",
       "\n",
       "             V22       V23       V24       V25       V26       V27       V28  \\\n",
       "42756   0.206809 -1.667801  0.558419 -0.027898  0.354254  0.273329 -0.152908   \n",
       "113983 -0.679888  0.064032  0.403247  0.340998  0.179334 -0.015802  0.019367   \n",
       "111690 -0.183001 -0.440387  0.292539 -0.144967 -0.251744  1.249414 -0.131525   \n",
       "120303  0.110527  2.229992  0.388572  0.318408 -0.379163 -0.088439  0.191091   \n",
       "31906  -0.796435  0.010025  0.967359  0.632698 -0.536768  0.021421  0.019394   \n",
       "\n",
       "        Class  \n",
       "42756       1  \n",
       "113983      0  \n",
       "111690      1  \n",
       "120303      0  \n",
       "31906       0  \n",
       "\n",
       "[5 rows x 31 columns]"
      ]
     },
     "execution_count": 137,
     "metadata": {},
     "output_type": "execute_result"
    }
   ],
   "source": [
    "#  Add them back in \n",
    "\n",
    "scaled_amount = sample_data_df['scaled_amount']\n",
    "scaled_time = sample_data_df['scaled_time']\n",
    "\n",
    "sample_data_df.drop(['scaled_amount', 'scaled_time'], axis=1, inplace=True)\n",
    "sample_data_df.insert(0, 'scaled_amount', scaled_amount)\n",
    "sample_data_df.insert(1, 'scaled_time', scaled_time)\n",
    "\n",
    "# Now the amount and time are scaled.\n",
    "\n",
    "sample_data_df.head()"
   ]
  },
  {
   "cell_type": "code",
   "execution_count": 138,
   "metadata": {},
   "outputs": [],
   "source": [
    "# Set aside training/test data. \n",
    "\n",
    "sample_data_train = sample_data_df.sample(frac = .80, random_state = 440)\n",
    "sample_data_test = sample_data_df.drop(sample_data_train.index)"
   ]
  },
  {
   "cell_type": "code",
   "execution_count": 139,
   "metadata": {},
   "outputs": [],
   "source": [
    "\n",
    "# The training data:\n",
    "\n",
    "X_train = np.array(sample_data_train.iloc[:, :-1])\n",
    "y_train = np.array(sample_data_train.iloc[:, -1])\n",
    "\n",
    "X_train = X_train.reshape(-1, 30)\n",
    "y_train = y_train.reshape(-1, 1)\n",
    "\n",
    "# And the test data:\n",
    "\n",
    "X_test = np.array(sample_data_test.iloc[:, :-1])\n",
    "y_test = np.array(sample_data_test.iloc[:, -1])\n",
    "\n",
    "X_test = X_test.reshape(-1, 30)\n",
    "y_test = y_test.reshape(-1, 1)\n"
   ]
  },
  {
   "cell_type": "code",
   "execution_count": 140,
   "metadata": {},
   "outputs": [
    {
     "name": "stdout",
     "output_type": "stream",
     "text": [
      "(629, 30) <class 'numpy.ndarray'>\n",
      "(629, 1) <class 'numpy.ndarray'>\n",
      "(158, 30) <class 'numpy.ndarray'>\n",
      "(158, 1) <class 'numpy.ndarray'>\n",
      "\n",
      "\n",
      "\n",
      "(629, 2) <class 'numpy.ndarray'>\n",
      "(158, 2) <class 'numpy.ndarray'>\n"
     ]
    }
   ],
   "source": [
    "# Further split the training data into train_train/validation. \n",
    "\n",
    "from sklearn.model_selection import train_test_split\n",
    "\n",
    "X_train_train,X_val,y_train_train,y_val = train_test_split(X_train, y_train,\n",
    "                                                          test_size=.2,\n",
    "                                                          shuffle=True,\n",
    "                                                          stratify=y_train,\n",
    "                                                          random_state=440)\n",
    "\n",
    "# Check out the shape of the data. \n",
    "\n",
    "print(np.shape(X_train_train), type(X_train_train))\n",
    "print(np.shape(y_train_train), type(y_train_train))\n",
    "print(np.shape(X_val), type(X_val))\n",
    "print(np.shape(y_val), type(y_val))\n",
    "print('\\n\\n')\n",
    "print(np.shape(to_categorical(y_train_train)), type(to_categorical(y_train_train)))\n",
    "print(np.shape(to_categorical(y_val)), type(to_categorical(y_val)))"
   ]
  },
  {
   "cell_type": "code",
   "execution_count": 141,
   "metadata": {},
   "outputs": [],
   "source": [
    "## Empty model\n",
    "model = models.Sequential()"
   ]
  },
  {
   "cell_type": "code",
   "execution_count": 142,
   "metadata": {},
   "outputs": [],
   "source": [
    "## Make the layers. ONLY RUN THIS ONCE. Make sure the input_shape matches the number of features.\n",
    "\n",
    "model.add(layers.Dense(30, activation='relu', input_shape=(30,)))\n",
    "\n",
    "model.add(layers.Dense(32, activation='relu'))\n",
    "\n",
    "model.add(layers.Dense(2, activation='softmax'))"
   ]
  },
  {
   "cell_type": "code",
   "execution_count": 143,
   "metadata": {},
   "outputs": [
    {
     "name": "stdout",
     "output_type": "stream",
     "text": [
      "Model: \"sequential_4\"\n",
      "_________________________________________________________________\n",
      "Layer (type)                 Output Shape              Param #   \n",
      "=================================================================\n",
      "dense_12 (Dense)             (None, 30)                930       \n",
      "_________________________________________________________________\n",
      "dense_13 (Dense)             (None, 32)                992       \n",
      "_________________________________________________________________\n",
      "dense_14 (Dense)             (None, 2)                 66        \n",
      "=================================================================\n",
      "Total params: 1,988\n",
      "Trainable params: 1,988\n",
      "Non-trainable params: 0\n",
      "_________________________________________________________________\n"
     ]
    }
   ],
   "source": [
    "# Gives a model summary\n",
    "\n",
    "model.summary()"
   ]
  },
  {
   "cell_type": "code",
   "execution_count": 144,
   "metadata": {},
   "outputs": [],
   "source": [
    "# Here we compile the model. We use binary cross-entropy. \n",
    "\n",
    "model.compile(optimizer='Adam',\n",
    "                  loss='sparse_categorical_crossentropy',\n",
    "                  metrics=['accuracy'])"
   ]
  },
  {
   "cell_type": "code",
   "execution_count": 145,
   "metadata": {},
   "outputs": [
    {
     "name": "stdout",
     "output_type": "stream",
     "text": [
      "Epoch 1/100\n",
      "26/26 [==============================] - 1s 12ms/step - loss: 1.7230 - accuracy: 0.5252 - val_loss: 0.4786 - val_accuracy: 0.7722\n",
      "Epoch 2/100\n",
      "26/26 [==============================] - 0s 2ms/step - loss: 0.4325 - accuracy: 0.8209 - val_loss: 0.3668 - val_accuracy: 0.8544\n",
      "Epoch 3/100\n",
      "26/26 [==============================] - 0s 2ms/step - loss: 0.3177 - accuracy: 0.8990 - val_loss: 0.2934 - val_accuracy: 0.8861\n",
      "Epoch 4/100\n",
      "26/26 [==============================] - 0s 2ms/step - loss: 0.2584 - accuracy: 0.9264 - val_loss: 0.2524 - val_accuracy: 0.9114\n",
      "Epoch 5/100\n",
      "26/26 [==============================] - 0s 2ms/step - loss: 0.2420 - accuracy: 0.9266 - val_loss: 0.2221 - val_accuracy: 0.9177\n",
      "Epoch 6/100\n",
      "26/26 [==============================] - 0s 2ms/step - loss: 0.2078 - accuracy: 0.9364 - val_loss: 0.2030 - val_accuracy: 0.9304\n",
      "Epoch 7/100\n",
      "26/26 [==============================] - 0s 2ms/step - loss: 0.1526 - accuracy: 0.9522 - val_loss: 0.1862 - val_accuracy: 0.9304\n",
      "Epoch 8/100\n",
      "26/26 [==============================] - 0s 2ms/step - loss: 0.1695 - accuracy: 0.9472 - val_loss: 0.1814 - val_accuracy: 0.9367\n",
      "Epoch 9/100\n",
      "26/26 [==============================] - 0s 2ms/step - loss: 0.1323 - accuracy: 0.9630 - val_loss: 0.1732 - val_accuracy: 0.9430\n",
      "Epoch 10/100\n",
      "26/26 [==============================] - 0s 2ms/step - loss: 0.1320 - accuracy: 0.9474 - val_loss: 0.1674 - val_accuracy: 0.9430\n",
      "Epoch 11/100\n",
      "26/26 [==============================] - 0s 2ms/step - loss: 0.0920 - accuracy: 0.9690 - val_loss: 0.1630 - val_accuracy: 0.9430\n",
      "Epoch 12/100\n",
      "26/26 [==============================] - 0s 2ms/step - loss: 0.0919 - accuracy: 0.9657 - val_loss: 0.1596 - val_accuracy: 0.9430\n",
      "Epoch 13/100\n",
      "26/26 [==============================] - 0s 2ms/step - loss: 0.1044 - accuracy: 0.9570 - val_loss: 0.1560 - val_accuracy: 0.9430\n",
      "Epoch 14/100\n",
      "26/26 [==============================] - 0s 2ms/step - loss: 0.0864 - accuracy: 0.9727 - val_loss: 0.1574 - val_accuracy: 0.9430\n",
      "Epoch 15/100\n",
      "26/26 [==============================] - 0s 2ms/step - loss: 0.0832 - accuracy: 0.9737 - val_loss: 0.1547 - val_accuracy: 0.9430\n",
      "Epoch 16/100\n",
      "26/26 [==============================] - 0s 2ms/step - loss: 0.1044 - accuracy: 0.9656 - val_loss: 0.1546 - val_accuracy: 0.9430\n",
      "Epoch 17/100\n",
      "26/26 [==============================] - 0s 2ms/step - loss: 0.0940 - accuracy: 0.9645 - val_loss: 0.1530 - val_accuracy: 0.9430\n",
      "Epoch 18/100\n",
      "26/26 [==============================] - 0s 2ms/step - loss: 0.0857 - accuracy: 0.9765 - val_loss: 0.1540 - val_accuracy: 0.9430\n",
      "Epoch 19/100\n",
      "26/26 [==============================] - 0s 2ms/step - loss: 0.0756 - accuracy: 0.9720 - val_loss: 0.1532 - val_accuracy: 0.9430\n",
      "Epoch 20/100\n",
      "26/26 [==============================] - 0s 2ms/step - loss: 0.0714 - accuracy: 0.9724 - val_loss: 0.1563 - val_accuracy: 0.9430\n",
      "Epoch 21/100\n",
      "26/26 [==============================] - 0s 2ms/step - loss: 0.0761 - accuracy: 0.9758 - val_loss: 0.1564 - val_accuracy: 0.9430\n",
      "Epoch 22/100\n",
      "26/26 [==============================] - 0s 2ms/step - loss: 0.0567 - accuracy: 0.9820 - val_loss: 0.1565 - val_accuracy: 0.9430\n",
      "Epoch 23/100\n",
      "26/26 [==============================] - 0s 2ms/step - loss: 0.0759 - accuracy: 0.9747 - val_loss: 0.1628 - val_accuracy: 0.9430\n",
      "Epoch 24/100\n",
      "26/26 [==============================] - 0s 2ms/step - loss: 0.0565 - accuracy: 0.9825 - val_loss: 0.1595 - val_accuracy: 0.9430\n",
      "Epoch 25/100\n",
      "26/26 [==============================] - 0s 2ms/step - loss: 0.0565 - accuracy: 0.9762 - val_loss: 0.1589 - val_accuracy: 0.9430\n",
      "Epoch 26/100\n",
      "26/26 [==============================] - 0s 2ms/step - loss: 0.0587 - accuracy: 0.9801 - val_loss: 0.1579 - val_accuracy: 0.9430\n",
      "Epoch 27/100\n",
      "26/26 [==============================] - 0s 2ms/step - loss: 0.0468 - accuracy: 0.9815 - val_loss: 0.1600 - val_accuracy: 0.9430\n",
      "Epoch 28/100\n",
      "26/26 [==============================] - 0s 2ms/step - loss: 0.0556 - accuracy: 0.9836 - val_loss: 0.1603 - val_accuracy: 0.9430\n",
      "Epoch 29/100\n",
      "26/26 [==============================] - 0s 2ms/step - loss: 0.0663 - accuracy: 0.9755 - val_loss: 0.1584 - val_accuracy: 0.9430\n",
      "Epoch 30/100\n",
      "26/26 [==============================] - 0s 2ms/step - loss: 0.0531 - accuracy: 0.9806 - val_loss: 0.1618 - val_accuracy: 0.9430\n",
      "Epoch 31/100\n",
      "26/26 [==============================] - 0s 2ms/step - loss: 0.0453 - accuracy: 0.9864 - val_loss: 0.1632 - val_accuracy: 0.9430\n",
      "Epoch 32/100\n",
      "26/26 [==============================] - 0s 2ms/step - loss: 0.0577 - accuracy: 0.9782 - val_loss: 0.1620 - val_accuracy: 0.9430\n",
      "Epoch 33/100\n",
      "26/26 [==============================] - 0s 2ms/step - loss: 0.0373 - accuracy: 0.9884 - val_loss: 0.1633 - val_accuracy: 0.9430\n",
      "Epoch 34/100\n",
      "26/26 [==============================] - 0s 2ms/step - loss: 0.0336 - accuracy: 0.9860 - val_loss: 0.1646 - val_accuracy: 0.9430\n",
      "Epoch 35/100\n",
      "26/26 [==============================] - 0s 2ms/step - loss: 0.0483 - accuracy: 0.9782 - val_loss: 0.1646 - val_accuracy: 0.9430\n",
      "Epoch 36/100\n",
      "26/26 [==============================] - 0s 2ms/step - loss: 0.0287 - accuracy: 0.9959 - val_loss: 0.1665 - val_accuracy: 0.9494\n",
      "Epoch 37/100\n",
      "26/26 [==============================] - 0s 2ms/step - loss: 0.0293 - accuracy: 0.9907 - val_loss: 0.1691 - val_accuracy: 0.9430\n",
      "Epoch 38/100\n",
      "26/26 [==============================] - 0s 2ms/step - loss: 0.0328 - accuracy: 0.9899 - val_loss: 0.1713 - val_accuracy: 0.9367\n",
      "Epoch 39/100\n",
      "26/26 [==============================] - 0s 2ms/step - loss: 0.0299 - accuracy: 0.9920 - val_loss: 0.1755 - val_accuracy: 0.9367\n",
      "Epoch 40/100\n",
      "26/26 [==============================] - 0s 2ms/step - loss: 0.0320 - accuracy: 0.9861 - val_loss: 0.1739 - val_accuracy: 0.9367\n",
      "Epoch 41/100\n",
      "26/26 [==============================] - 0s 2ms/step - loss: 0.0232 - accuracy: 0.9967 - val_loss: 0.1751 - val_accuracy: 0.9367\n",
      "Epoch 42/100\n",
      "26/26 [==============================] - 0s 2ms/step - loss: 0.0245 - accuracy: 0.9901 - val_loss: 0.1763 - val_accuracy: 0.9367\n",
      "Epoch 43/100\n",
      "26/26 [==============================] - 0s 2ms/step - loss: 0.0226 - accuracy: 0.9970 - val_loss: 0.1792 - val_accuracy: 0.9367\n",
      "Epoch 44/100\n",
      "26/26 [==============================] - 0s 2ms/step - loss: 0.0256 - accuracy: 0.9918 - val_loss: 0.1828 - val_accuracy: 0.9367\n",
      "Epoch 45/100\n",
      "26/26 [==============================] - 0s 2ms/step - loss: 0.0152 - accuracy: 0.9992 - val_loss: 0.1859 - val_accuracy: 0.9367\n",
      "Epoch 46/100\n",
      "26/26 [==============================] - 0s 2ms/step - loss: 0.0153 - accuracy: 0.9952 - val_loss: 0.1877 - val_accuracy: 0.9430\n",
      "Epoch 47/100\n",
      "26/26 [==============================] - 0s 2ms/step - loss: 0.0187 - accuracy: 0.9990 - val_loss: 0.1929 - val_accuracy: 0.9304\n",
      "Epoch 48/100\n",
      "26/26 [==============================] - 0s 2ms/step - loss: 0.0152 - accuracy: 0.9986 - val_loss: 0.1909 - val_accuracy: 0.9367\n",
      "Epoch 49/100\n",
      "26/26 [==============================] - 0s 2ms/step - loss: 0.0143 - accuracy: 0.9965 - val_loss: 0.1920 - val_accuracy: 0.9430\n",
      "Epoch 50/100\n",
      "26/26 [==============================] - 0s 2ms/step - loss: 0.0152 - accuracy: 0.9973 - val_loss: 0.1939 - val_accuracy: 0.9367\n",
      "Epoch 51/100\n",
      "26/26 [==============================] - 0s 2ms/step - loss: 0.0110 - accuracy: 0.9998 - val_loss: 0.1961 - val_accuracy: 0.9430\n",
      "Epoch 52/100\n",
      "26/26 [==============================] - 0s 2ms/step - loss: 0.0112 - accuracy: 0.9986 - val_loss: 0.2006 - val_accuracy: 0.9367\n",
      "Epoch 53/100\n",
      "26/26 [==============================] - 0s 2ms/step - loss: 0.0106 - accuracy: 0.9990 - val_loss: 0.2024 - val_accuracy: 0.9367\n",
      "Epoch 54/100\n",
      "26/26 [==============================] - 0s 2ms/step - loss: 0.0121 - accuracy: 1.0000 - val_loss: 0.2052 - val_accuracy: 0.9367\n",
      "Epoch 55/100\n",
      "26/26 [==============================] - 0s 2ms/step - loss: 0.0132 - accuracy: 1.0000 - val_loss: 0.2124 - val_accuracy: 0.9367\n",
      "Epoch 56/100\n",
      "26/26 [==============================] - 0s 2ms/step - loss: 0.0122 - accuracy: 1.0000 - val_loss: 0.2155 - val_accuracy: 0.9367\n",
      "Epoch 57/100\n",
      "26/26 [==============================] - 0s 2ms/step - loss: 0.0091 - accuracy: 1.0000 - val_loss: 0.2145 - val_accuracy: 0.9367\n",
      "Epoch 58/100\n",
      "26/26 [==============================] - 0s 2ms/step - loss: 0.0076 - accuracy: 1.0000 - val_loss: 0.2183 - val_accuracy: 0.9367\n"
     ]
    },
    {
     "name": "stdout",
     "output_type": "stream",
     "text": [
      "Epoch 59/100\n",
      "26/26 [==============================] - 0s 2ms/step - loss: 0.0117 - accuracy: 1.0000 - val_loss: 0.2196 - val_accuracy: 0.9367\n",
      "Epoch 60/100\n",
      "26/26 [==============================] - 0s 3ms/step - loss: 0.0077 - accuracy: 1.0000 - val_loss: 0.2234 - val_accuracy: 0.9367\n",
      "Epoch 61/100\n",
      "26/26 [==============================] - 0s 2ms/step - loss: 0.0073 - accuracy: 1.0000 - val_loss: 0.2244 - val_accuracy: 0.9367\n",
      "Epoch 62/100\n",
      "26/26 [==============================] - 0s 2ms/step - loss: 0.0065 - accuracy: 1.0000 - val_loss: 0.2253 - val_accuracy: 0.9367\n",
      "Epoch 63/100\n",
      "26/26 [==============================] - 0s 2ms/step - loss: 0.0066 - accuracy: 1.0000 - val_loss: 0.2315 - val_accuracy: 0.9367\n",
      "Epoch 64/100\n",
      "26/26 [==============================] - 0s 2ms/step - loss: 0.0064 - accuracy: 1.0000 - val_loss: 0.2323 - val_accuracy: 0.9367\n",
      "Epoch 65/100\n",
      "26/26 [==============================] - 0s 2ms/step - loss: 0.0056 - accuracy: 1.0000 - val_loss: 0.2363 - val_accuracy: 0.9367\n",
      "Epoch 66/100\n",
      "26/26 [==============================] - 0s 2ms/step - loss: 0.0047 - accuracy: 1.0000 - val_loss: 0.2363 - val_accuracy: 0.9367\n",
      "Epoch 67/100\n",
      "26/26 [==============================] - 0s 2ms/step - loss: 0.0050 - accuracy: 1.0000 - val_loss: 0.2387 - val_accuracy: 0.9367\n",
      "Epoch 68/100\n",
      "26/26 [==============================] - 0s 2ms/step - loss: 0.0058 - accuracy: 1.0000 - val_loss: 0.2444 - val_accuracy: 0.9367\n",
      "Epoch 69/100\n",
      "26/26 [==============================] - 0s 2ms/step - loss: 0.0048 - accuracy: 1.0000 - val_loss: 0.2464 - val_accuracy: 0.9367\n",
      "Epoch 70/100\n",
      "26/26 [==============================] - 0s 2ms/step - loss: 0.0041 - accuracy: 1.0000 - val_loss: 0.2487 - val_accuracy: 0.9367\n",
      "Epoch 71/100\n",
      "26/26 [==============================] - 0s 2ms/step - loss: 0.0042 - accuracy: 1.0000 - val_loss: 0.2513 - val_accuracy: 0.9367\n",
      "Epoch 72/100\n",
      "26/26 [==============================] - 0s 2ms/step - loss: 0.0039 - accuracy: 1.0000 - val_loss: 0.2552 - val_accuracy: 0.9367\n",
      "Epoch 73/100\n",
      "26/26 [==============================] - 0s 2ms/step - loss: 0.0028 - accuracy: 1.0000 - val_loss: 0.2570 - val_accuracy: 0.9367\n",
      "Epoch 74/100\n",
      "26/26 [==============================] - 0s 2ms/step - loss: 0.0055 - accuracy: 1.0000 - val_loss: 0.2588 - val_accuracy: 0.9367\n",
      "Epoch 75/100\n",
      "26/26 [==============================] - 0s 2ms/step - loss: 0.0031 - accuracy: 1.0000 - val_loss: 0.2622 - val_accuracy: 0.9367\n",
      "Epoch 76/100\n",
      "26/26 [==============================] - 0s 2ms/step - loss: 0.0030 - accuracy: 1.0000 - val_loss: 0.2649 - val_accuracy: 0.9367\n",
      "Epoch 77/100\n",
      "26/26 [==============================] - 0s 2ms/step - loss: 0.0029 - accuracy: 1.0000 - val_loss: 0.2661 - val_accuracy: 0.9367\n",
      "Epoch 78/100\n",
      "26/26 [==============================] - 0s 2ms/step - loss: 0.0027 - accuracy: 1.0000 - val_loss: 0.2692 - val_accuracy: 0.9367\n",
      "Epoch 79/100\n",
      "26/26 [==============================] - 0s 2ms/step - loss: 0.0030 - accuracy: 1.0000 - val_loss: 0.2715 - val_accuracy: 0.9367\n",
      "Epoch 80/100\n",
      "26/26 [==============================] - 0s 2ms/step - loss: 0.0027 - accuracy: 1.0000 - val_loss: 0.2742 - val_accuracy: 0.9367\n",
      "Epoch 81/100\n",
      "26/26 [==============================] - 0s 2ms/step - loss: 0.0030 - accuracy: 1.0000 - val_loss: 0.2776 - val_accuracy: 0.9367\n",
      "Epoch 82/100\n",
      "26/26 [==============================] - 0s 2ms/step - loss: 0.0036 - accuracy: 1.0000 - val_loss: 0.2784 - val_accuracy: 0.9367\n",
      "Epoch 83/100\n",
      "26/26 [==============================] - 0s 2ms/step - loss: 0.0020 - accuracy: 1.0000 - val_loss: 0.2815 - val_accuracy: 0.9367\n",
      "Epoch 84/100\n",
      "26/26 [==============================] - 0s 2ms/step - loss: 0.0023 - accuracy: 1.0000 - val_loss: 0.2835 - val_accuracy: 0.9367\n",
      "Epoch 85/100\n",
      "26/26 [==============================] - 0s 2ms/step - loss: 0.0020 - accuracy: 1.0000 - val_loss: 0.2863 - val_accuracy: 0.9367\n",
      "Epoch 86/100\n",
      "26/26 [==============================] - 0s 2ms/step - loss: 0.0019 - accuracy: 1.0000 - val_loss: 0.2891 - val_accuracy: 0.9367\n",
      "Epoch 87/100\n",
      "26/26 [==============================] - 0s 2ms/step - loss: 0.0019 - accuracy: 1.0000 - val_loss: 0.2908 - val_accuracy: 0.9367\n",
      "Epoch 88/100\n",
      "26/26 [==============================] - 0s 2ms/step - loss: 0.0023 - accuracy: 1.0000 - val_loss: 0.2937 - val_accuracy: 0.9367\n",
      "Epoch 89/100\n",
      "26/26 [==============================] - 0s 2ms/step - loss: 0.0022 - accuracy: 1.0000 - val_loss: 0.2963 - val_accuracy: 0.9367\n",
      "Epoch 90/100\n",
      "26/26 [==============================] - 0s 2ms/step - loss: 0.0016 - accuracy: 1.0000 - val_loss: 0.2983 - val_accuracy: 0.9367\n",
      "Epoch 91/100\n",
      "26/26 [==============================] - 0s 2ms/step - loss: 0.0018 - accuracy: 1.0000 - val_loss: 0.3003 - val_accuracy: 0.9367\n",
      "Epoch 92/100\n",
      "26/26 [==============================] - 0s 2ms/step - loss: 0.0018 - accuracy: 1.0000 - val_loss: 0.3014 - val_accuracy: 0.9430\n",
      "Epoch 93/100\n",
      "26/26 [==============================] - 0s 2ms/step - loss: 0.0020 - accuracy: 1.0000 - val_loss: 0.3042 - val_accuracy: 0.9430\n",
      "Epoch 94/100\n",
      "26/26 [==============================] - 0s 2ms/step - loss: 0.0015 - accuracy: 1.0000 - val_loss: 0.3062 - val_accuracy: 0.9430\n",
      "Epoch 95/100\n",
      "26/26 [==============================] - 0s 2ms/step - loss: 0.0016 - accuracy: 1.0000 - val_loss: 0.3095 - val_accuracy: 0.9367\n",
      "Epoch 96/100\n",
      "26/26 [==============================] - 0s 2ms/step - loss: 0.0019 - accuracy: 1.0000 - val_loss: 0.3141 - val_accuracy: 0.9367\n",
      "Epoch 97/100\n",
      "26/26 [==============================] - 0s 2ms/step - loss: 0.0016 - accuracy: 1.0000 - val_loss: 0.3160 - val_accuracy: 0.9367\n",
      "Epoch 98/100\n",
      "26/26 [==============================] - 0s 2ms/step - loss: 0.0015 - accuracy: 1.0000 - val_loss: 0.3184 - val_accuracy: 0.9367\n",
      "Epoch 99/100\n",
      "26/26 [==============================] - 0s 2ms/step - loss: 0.0016 - accuracy: 1.0000 - val_loss: 0.3203 - val_accuracy: 0.9367\n",
      "Epoch 100/100\n",
      "26/26 [==============================] - 0s 2ms/step - loss: 0.0016 - accuracy: 1.0000 - val_loss: 0.3243 - val_accuracy: 0.9367\n"
     ]
    }
   ],
   "source": [
    "# Fitting the data. \n",
    "\n",
    "#history = model.fit(X_train_train,\n",
    "#                        to_categorical(y_train_train),\n",
    "#                        epochs = 100,\n",
    "#                        batch_size = 512,\n",
    "#                        validation_data=(X_val,to_categorical(y_val)))\n",
    "\n",
    "# It looks like sparse_categorical automatically applies to_categorical to y, so use this one\n",
    "# (this includes changed batch size and epochs):\n",
    "\n",
    "history = model.fit(X_train_train,\n",
    "                        y_train_train,\n",
    "                        epochs = 100,\n",
    "                        batch_size = 25,\n",
    "                        validation_data=(X_val,y_val))"
   ]
  },
  {
   "cell_type": "code",
   "execution_count": 146,
   "metadata": {},
   "outputs": [
    {
     "name": "stdout",
     "output_type": "stream",
     "text": [
      "dict_keys(['loss', 'accuracy', 'val_loss', 'val_accuracy'])\n"
     ]
    }
   ],
   "source": [
    "# Examine the results. \n",
    "\n",
    "history_dict = history.history\n",
    "\n",
    "print(history_dict.keys())"
   ]
  },
  {
   "cell_type": "code",
   "execution_count": 147,
   "metadata": {},
   "outputs": [
    {
     "data": {
      "image/png": "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\n",
      "text/plain": [
       "<Figure size 720x432 with 1 Axes>"
      ]
     },
     "metadata": {},
     "output_type": "display_data"
    }
   ],
   "source": [
    "# That's... intersting. \n",
    "\n",
    "set_style(\"whitegrid\")\n",
    "\n",
    "plt.figure(figsize = (10,6))\n",
    "\n",
    "plt.scatter(range(1,101), history_dict['accuracy'], label = \"Training Accuracy\")\n",
    "plt.scatter(range(1,101), history_dict['val_accuracy'], label = \"Validation Set Accuracy\")\n",
    "\n",
    "plt.xlabel(\"Epoch\", fontsize=18)\n",
    "plt.ylabel(\"Accuracy\", fontsize=18)\n",
    "\n",
    "plt.xticks(fontsize=16)\n",
    "plt.yticks(fontsize=16)\n",
    "\n",
    "plt.legend(fontsize=18)\n",
    "\n",
    "plt.show()"
   ]
  },
  {
   "cell_type": "code",
   "execution_count": 148,
   "metadata": {},
   "outputs": [
    {
     "data": {
      "image/png": "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\n",
      "text/plain": [
       "<Figure size 720x432 with 1 Axes>"
      ]
     },
     "metadata": {},
     "output_type": "display_data"
    }
   ],
   "source": [
    "plt.figure(figsize = (10,6))\n",
    "\n",
    "plt.scatter(range(1,101), history_dict['loss'], label = \"Training Loss\")\n",
    "plt.scatter(range(1,101), history_dict['val_loss'], label = \"Validation Set Loss\")\n",
    "\n",
    "plt.xlabel(\"Epoch\", fontsize=18)\n",
    "plt.ylabel(\"Loss Function Value\", fontsize=18)\n",
    "\n",
    "plt.xticks(fontsize=16)\n",
    "plt.yticks(fontsize=16)\n",
    "\n",
    "plt.legend(fontsize=18)\n",
    "\n",
    "plt.show()"
   ]
  },
  {
   "cell_type": "code",
   "execution_count": 149,
   "metadata": {},
   "outputs": [
    {
     "data": {
      "text/plain": [
       "Class\n",
       "0    101\n",
       "1     96\n",
       "dtype: int64"
      ]
     },
     "execution_count": 149,
     "metadata": {},
     "output_type": "execute_result"
    }
   ],
   "source": [
    "# Value counts of test data. \n",
    "\n",
    "sample_data_test.value_counts('Class')"
   ]
  },
  {
   "cell_type": "code",
   "execution_count": 154,
   "metadata": {},
   "outputs": [
    {
     "name": "stdout",
     "output_type": "stream",
     "text": [
      "197\n"
     ]
    },
    {
     "data": {
      "text/plain": [
       "array([1, 1, 0, 0, 0, 0, 1, 0, 0, 0, 1, 0, 1, 0, 1, 1, 0, 0, 0, 1, 0, 0,\n",
       "       1, 1, 0, 1, 0, 0, 0, 1, 1, 0, 1, 1, 0, 0, 0, 1, 0, 1, 0, 0, 0, 0,\n",
       "       0, 1, 1, 0, 1, 1, 0, 0, 0, 1, 1, 0, 1, 0, 0, 0, 1, 0, 1, 0, 1, 1,\n",
       "       1, 0, 1, 0, 1, 0, 1, 0, 1, 1, 1, 0, 0, 1, 1, 0, 1, 1, 1, 1, 1, 0,\n",
       "       0, 0, 1, 0, 0, 1, 1, 1, 1, 1, 1, 0, 1, 0, 0, 0, 0, 1, 0, 1, 1, 1,\n",
       "       0, 0, 0, 1, 0, 0, 1, 0, 1, 1, 0, 0, 1, 1, 1, 0, 1, 1, 1, 0, 1, 0,\n",
       "       0, 0, 1, 1, 1, 1, 1, 1, 0, 1, 1, 0, 0, 0, 1, 0, 0, 1, 1, 0, 0, 1,\n",
       "       0, 1, 0, 0, 1, 0, 0, 1, 1, 1, 1, 1, 0, 1, 0, 1, 1, 0, 1, 1, 1, 1,\n",
       "       0, 1, 0, 1, 0, 1, 1, 0, 1, 1, 1, 1, 0, 0, 0, 1, 0, 0, 1, 0, 0])"
      ]
     },
     "execution_count": 154,
     "metadata": {},
     "output_type": "execute_result"
    }
   ],
   "source": [
    "# Prediction.\n",
    "\n",
    "y_pred_prob = model.predict(X_test)\n",
    "print(len(y_pred))\n",
    "\n",
    "# Set the threshold probability for valid transactions as p = 0.5. \n",
    "\n",
    "y_pred = []\n",
    "\n",
    "for x in y_pred_prob:\n",
    "    if x[0] > 0.9:\n",
    "        y_pred.append(0)\n",
    "    else:\n",
    "        y_pred.append(1)\n",
    "        \n",
    "y_pred = np.array(y_pred)\n",
    "y_pred"
   ]
  },
  {
   "cell_type": "code",
   "execution_count": 155,
   "metadata": {},
   "outputs": [
    {
     "name": "stdout",
     "output_type": "stream",
     "text": [
      "[[92  9]\n",
      " [ 4 92]]\n"
     ]
    }
   ],
   "source": [
    "from sklearn.metrics import confusion_matrix\n",
    "print(confusion_matrix(y_test,y_pred))"
   ]
  },
  {
   "cell_type": "code",
   "execution_count": 156,
   "metadata": {},
   "outputs": [
    {
     "name": "stdout",
     "output_type": "stream",
     "text": [
      "0.934010152284264\n"
     ]
    }
   ],
   "source": [
    "from sklearn.metrics import accuracy_score\n",
    "print(accuracy_score(y_test,y_pred))"
   ]
  },
  {
   "cell_type": "code",
   "execution_count": 157,
   "metadata": {},
   "outputs": [
    {
     "name": "stdout",
     "output_type": "stream",
     "text": [
      "              precision    recall  f1-score   support\n",
      "\n",
      "           0       0.96      0.91      0.93       101\n",
      "           1       0.91      0.96      0.93        96\n",
      "\n",
      "    accuracy                           0.93       197\n",
      "   macro avg       0.93      0.93      0.93       197\n",
      "weighted avg       0.94      0.93      0.93       197\n",
      "\n"
     ]
    }
   ],
   "source": [
    "from sklearn.metrics import classification_report\n",
    "print(classification_report(y_test,y_pred))"
   ]
  }
 ],
 "metadata": {
  "kernelspec": {
   "display_name": "Python 3",
   "language": "python",
   "name": "python3"
  },
  "language_info": {
   "codemirror_mode": {
    "name": "ipython",
    "version": 3
   },
   "file_extension": ".py",
   "mimetype": "text/x-python",
   "name": "python",
   "nbconvert_exporter": "python",
   "pygments_lexer": "ipython3",
   "version": "3.8.5"
  }
 },
 "nbformat": 4,
 "nbformat_minor": 4
}

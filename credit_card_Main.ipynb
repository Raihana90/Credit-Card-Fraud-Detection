{
 "cells": [
  {
   "cell_type": "markdown",
   "metadata": {},
   "source": [
    "# About the dataset"
   ]
  },
  {
   "cell_type": "code",
   "execution_count": 1,
   "metadata": {},
   "outputs": [],
   "source": [
    "import pandas as pd\n",
    "import numpy as np\n",
    "import seaborn as sns\n",
    "import matplotlib.pyplot as plt\n",
    "sns.set_style(\"whitegrid\")"
   ]
  },
  {
   "cell_type": "code",
   "execution_count": 2,
   "metadata": {},
   "outputs": [
    {
     "name": "stdout",
     "output_type": "stream",
     "text": [
      "There are 284807 observations in the data set.\n",
      "The columns are Index(['Time', 'V1', 'V2', 'V3', 'V4', 'V5', 'V6', 'V7', 'V8', 'V9', 'V10',\n",
      "       'V11', 'V12', 'V13', 'V14', 'V15', 'V16', 'V17', 'V18', 'V19', 'V20',\n",
      "       'V21', 'V22', 'V23', 'V24', 'V25', 'V26', 'V27', 'V28', 'Amount',\n",
      "       'Class'],\n",
      "      dtype='object')\n"
     ]
    }
   ],
   "source": [
    "#read the database\n",
    "df=pd.read_csv(\"creditcard.csv\")\n",
    "#information about the database\n",
    "print(\"There are\", len(df), \"observations in the data set.\")\n",
    "print(\"The columns are\", df.columns)\n"
   ]
  },
  {
   "cell_type": "code",
   "execution_count": 3,
   "metadata": {},
   "outputs": [
    {
     "data": {
      "text/html": [
       "<div>\n",
       "<style scoped>\n",
       "    .dataframe tbody tr th:only-of-type {\n",
       "        vertical-align: middle;\n",
       "    }\n",
       "\n",
       "    .dataframe tbody tr th {\n",
       "        vertical-align: top;\n",
       "    }\n",
       "\n",
       "    .dataframe thead th {\n",
       "        text-align: right;\n",
       "    }\n",
       "</style>\n",
       "<table border=\"1\" class=\"dataframe\">\n",
       "  <thead>\n",
       "    <tr style=\"text-align: right;\">\n",
       "      <th></th>\n",
       "      <th>Time</th>\n",
       "      <th>V1</th>\n",
       "      <th>V2</th>\n",
       "      <th>V3</th>\n",
       "      <th>V4</th>\n",
       "      <th>V5</th>\n",
       "      <th>V6</th>\n",
       "      <th>V7</th>\n",
       "      <th>V8</th>\n",
       "      <th>V9</th>\n",
       "      <th>...</th>\n",
       "      <th>V21</th>\n",
       "      <th>V22</th>\n",
       "      <th>V23</th>\n",
       "      <th>V24</th>\n",
       "      <th>V25</th>\n",
       "      <th>V26</th>\n",
       "      <th>V27</th>\n",
       "      <th>V28</th>\n",
       "      <th>Amount</th>\n",
       "      <th>Class</th>\n",
       "    </tr>\n",
       "  </thead>\n",
       "  <tbody>\n",
       "    <tr>\n",
       "      <th>0</th>\n",
       "      <td>0.0</td>\n",
       "      <td>-1.359807</td>\n",
       "      <td>-0.072781</td>\n",
       "      <td>2.536347</td>\n",
       "      <td>1.378155</td>\n",
       "      <td>-0.338321</td>\n",
       "      <td>0.462388</td>\n",
       "      <td>0.239599</td>\n",
       "      <td>0.098698</td>\n",
       "      <td>0.363787</td>\n",
       "      <td>...</td>\n",
       "      <td>-0.018307</td>\n",
       "      <td>0.277838</td>\n",
       "      <td>-0.110474</td>\n",
       "      <td>0.066928</td>\n",
       "      <td>0.128539</td>\n",
       "      <td>-0.189115</td>\n",
       "      <td>0.133558</td>\n",
       "      <td>-0.021053</td>\n",
       "      <td>149.62</td>\n",
       "      <td>0</td>\n",
       "    </tr>\n",
       "    <tr>\n",
       "      <th>1</th>\n",
       "      <td>0.0</td>\n",
       "      <td>1.191857</td>\n",
       "      <td>0.266151</td>\n",
       "      <td>0.166480</td>\n",
       "      <td>0.448154</td>\n",
       "      <td>0.060018</td>\n",
       "      <td>-0.082361</td>\n",
       "      <td>-0.078803</td>\n",
       "      <td>0.085102</td>\n",
       "      <td>-0.255425</td>\n",
       "      <td>...</td>\n",
       "      <td>-0.225775</td>\n",
       "      <td>-0.638672</td>\n",
       "      <td>0.101288</td>\n",
       "      <td>-0.339846</td>\n",
       "      <td>0.167170</td>\n",
       "      <td>0.125895</td>\n",
       "      <td>-0.008983</td>\n",
       "      <td>0.014724</td>\n",
       "      <td>2.69</td>\n",
       "      <td>0</td>\n",
       "    </tr>\n",
       "    <tr>\n",
       "      <th>2</th>\n",
       "      <td>1.0</td>\n",
       "      <td>-1.358354</td>\n",
       "      <td>-1.340163</td>\n",
       "      <td>1.773209</td>\n",
       "      <td>0.379780</td>\n",
       "      <td>-0.503198</td>\n",
       "      <td>1.800499</td>\n",
       "      <td>0.791461</td>\n",
       "      <td>0.247676</td>\n",
       "      <td>-1.514654</td>\n",
       "      <td>...</td>\n",
       "      <td>0.247998</td>\n",
       "      <td>0.771679</td>\n",
       "      <td>0.909412</td>\n",
       "      <td>-0.689281</td>\n",
       "      <td>-0.327642</td>\n",
       "      <td>-0.139097</td>\n",
       "      <td>-0.055353</td>\n",
       "      <td>-0.059752</td>\n",
       "      <td>378.66</td>\n",
       "      <td>0</td>\n",
       "    </tr>\n",
       "    <tr>\n",
       "      <th>3</th>\n",
       "      <td>1.0</td>\n",
       "      <td>-0.966272</td>\n",
       "      <td>-0.185226</td>\n",
       "      <td>1.792993</td>\n",
       "      <td>-0.863291</td>\n",
       "      <td>-0.010309</td>\n",
       "      <td>1.247203</td>\n",
       "      <td>0.237609</td>\n",
       "      <td>0.377436</td>\n",
       "      <td>-1.387024</td>\n",
       "      <td>...</td>\n",
       "      <td>-0.108300</td>\n",
       "      <td>0.005274</td>\n",
       "      <td>-0.190321</td>\n",
       "      <td>-1.175575</td>\n",
       "      <td>0.647376</td>\n",
       "      <td>-0.221929</td>\n",
       "      <td>0.062723</td>\n",
       "      <td>0.061458</td>\n",
       "      <td>123.50</td>\n",
       "      <td>0</td>\n",
       "    </tr>\n",
       "    <tr>\n",
       "      <th>4</th>\n",
       "      <td>2.0</td>\n",
       "      <td>-1.158233</td>\n",
       "      <td>0.877737</td>\n",
       "      <td>1.548718</td>\n",
       "      <td>0.403034</td>\n",
       "      <td>-0.407193</td>\n",
       "      <td>0.095921</td>\n",
       "      <td>0.592941</td>\n",
       "      <td>-0.270533</td>\n",
       "      <td>0.817739</td>\n",
       "      <td>...</td>\n",
       "      <td>-0.009431</td>\n",
       "      <td>0.798278</td>\n",
       "      <td>-0.137458</td>\n",
       "      <td>0.141267</td>\n",
       "      <td>-0.206010</td>\n",
       "      <td>0.502292</td>\n",
       "      <td>0.219422</td>\n",
       "      <td>0.215153</td>\n",
       "      <td>69.99</td>\n",
       "      <td>0</td>\n",
       "    </tr>\n",
       "  </tbody>\n",
       "</table>\n",
       "<p>5 rows × 31 columns</p>\n",
       "</div>"
      ],
      "text/plain": [
       "   Time        V1        V2        V3        V4        V5        V6        V7  \\\n",
       "0   0.0 -1.359807 -0.072781  2.536347  1.378155 -0.338321  0.462388  0.239599   \n",
       "1   0.0  1.191857  0.266151  0.166480  0.448154  0.060018 -0.082361 -0.078803   \n",
       "2   1.0 -1.358354 -1.340163  1.773209  0.379780 -0.503198  1.800499  0.791461   \n",
       "3   1.0 -0.966272 -0.185226  1.792993 -0.863291 -0.010309  1.247203  0.237609   \n",
       "4   2.0 -1.158233  0.877737  1.548718  0.403034 -0.407193  0.095921  0.592941   \n",
       "\n",
       "         V8        V9  ...       V21       V22       V23       V24       V25  \\\n",
       "0  0.098698  0.363787  ... -0.018307  0.277838 -0.110474  0.066928  0.128539   \n",
       "1  0.085102 -0.255425  ... -0.225775 -0.638672  0.101288 -0.339846  0.167170   \n",
       "2  0.247676 -1.514654  ...  0.247998  0.771679  0.909412 -0.689281 -0.327642   \n",
       "3  0.377436 -1.387024  ... -0.108300  0.005274 -0.190321 -1.175575  0.647376   \n",
       "4 -0.270533  0.817739  ... -0.009431  0.798278 -0.137458  0.141267 -0.206010   \n",
       "\n",
       "        V26       V27       V28  Amount  Class  \n",
       "0 -0.189115  0.133558 -0.021053  149.62      0  \n",
       "1  0.125895 -0.008983  0.014724    2.69      0  \n",
       "2 -0.139097 -0.055353 -0.059752  378.66      0  \n",
       "3 -0.221929  0.062723  0.061458  123.50      0  \n",
       "4  0.502292  0.219422  0.215153   69.99      0  \n",
       "\n",
       "[5 rows x 31 columns]"
      ]
     },
     "execution_count": 3,
     "metadata": {},
     "output_type": "execute_result"
    }
   ],
   "source": [
    "df.head()"
   ]
  },
  {
   "cell_type": "code",
   "execution_count": 4,
   "metadata": {},
   "outputs": [
    {
     "data": {
      "text/plain": [
       "Time      float64\n",
       "V1        float64\n",
       "V2        float64\n",
       "V3        float64\n",
       "V4        float64\n",
       "V5        float64\n",
       "V6        float64\n",
       "V7        float64\n",
       "V8        float64\n",
       "V9        float64\n",
       "V10       float64\n",
       "V11       float64\n",
       "V12       float64\n",
       "V13       float64\n",
       "V14       float64\n",
       "V15       float64\n",
       "V16       float64\n",
       "V17       float64\n",
       "V18       float64\n",
       "V19       float64\n",
       "V20       float64\n",
       "V21       float64\n",
       "V22       float64\n",
       "V23       float64\n",
       "V24       float64\n",
       "V25       float64\n",
       "V26       float64\n",
       "V27       float64\n",
       "V28       float64\n",
       "Amount    float64\n",
       "Class       int64\n",
       "dtype: object"
      ]
     },
     "execution_count": 4,
     "metadata": {},
     "output_type": "execute_result"
    }
   ],
   "source": [
    "#the type of each column\n",
    "df.dtypes"
   ]
  },
  {
   "cell_type": "code",
   "execution_count": 5,
   "metadata": {},
   "outputs": [
    {
     "data": {
      "text/plain": [
       "(284807, 31)"
      ]
     },
     "execution_count": 5,
     "metadata": {},
     "output_type": "execute_result"
    }
   ],
   "source": [
    "#the shape of the database\n",
    "df.shape"
   ]
  },
  {
   "cell_type": "code",
   "execution_count": 6,
   "metadata": {},
   "outputs": [
    {
     "data": {
      "text/html": [
       "<div>\n",
       "<style scoped>\n",
       "    .dataframe tbody tr th:only-of-type {\n",
       "        vertical-align: middle;\n",
       "    }\n",
       "\n",
       "    .dataframe tbody tr th {\n",
       "        vertical-align: top;\n",
       "    }\n",
       "\n",
       "    .dataframe thead th {\n",
       "        text-align: right;\n",
       "    }\n",
       "</style>\n",
       "<table border=\"1\" class=\"dataframe\">\n",
       "  <thead>\n",
       "    <tr style=\"text-align: right;\">\n",
       "      <th></th>\n",
       "      <th>Time</th>\n",
       "      <th>V1</th>\n",
       "      <th>V2</th>\n",
       "      <th>V3</th>\n",
       "      <th>V4</th>\n",
       "      <th>V5</th>\n",
       "      <th>V6</th>\n",
       "      <th>V7</th>\n",
       "      <th>V8</th>\n",
       "      <th>V9</th>\n",
       "      <th>...</th>\n",
       "      <th>V21</th>\n",
       "      <th>V22</th>\n",
       "      <th>V23</th>\n",
       "      <th>V24</th>\n",
       "      <th>V25</th>\n",
       "      <th>V26</th>\n",
       "      <th>V27</th>\n",
       "      <th>V28</th>\n",
       "      <th>Amount</th>\n",
       "      <th>Class</th>\n",
       "    </tr>\n",
       "  </thead>\n",
       "  <tbody>\n",
       "    <tr>\n",
       "      <th>count</th>\n",
       "      <td>284807.000000</td>\n",
       "      <td>2.848070e+05</td>\n",
       "      <td>2.848070e+05</td>\n",
       "      <td>2.848070e+05</td>\n",
       "      <td>2.848070e+05</td>\n",
       "      <td>2.848070e+05</td>\n",
       "      <td>2.848070e+05</td>\n",
       "      <td>2.848070e+05</td>\n",
       "      <td>2.848070e+05</td>\n",
       "      <td>2.848070e+05</td>\n",
       "      <td>...</td>\n",
       "      <td>2.848070e+05</td>\n",
       "      <td>2.848070e+05</td>\n",
       "      <td>2.848070e+05</td>\n",
       "      <td>2.848070e+05</td>\n",
       "      <td>2.848070e+05</td>\n",
       "      <td>2.848070e+05</td>\n",
       "      <td>2.848070e+05</td>\n",
       "      <td>2.848070e+05</td>\n",
       "      <td>284807.000000</td>\n",
       "      <td>284807.000000</td>\n",
       "    </tr>\n",
       "    <tr>\n",
       "      <th>mean</th>\n",
       "      <td>94813.859575</td>\n",
       "      <td>1.168375e-15</td>\n",
       "      <td>3.416908e-16</td>\n",
       "      <td>-1.379537e-15</td>\n",
       "      <td>2.074095e-15</td>\n",
       "      <td>9.604066e-16</td>\n",
       "      <td>1.487313e-15</td>\n",
       "      <td>-5.556467e-16</td>\n",
       "      <td>1.213481e-16</td>\n",
       "      <td>-2.406331e-15</td>\n",
       "      <td>...</td>\n",
       "      <td>1.654067e-16</td>\n",
       "      <td>-3.568593e-16</td>\n",
       "      <td>2.578648e-16</td>\n",
       "      <td>4.473266e-15</td>\n",
       "      <td>5.340915e-16</td>\n",
       "      <td>1.683437e-15</td>\n",
       "      <td>-3.660091e-16</td>\n",
       "      <td>-1.227390e-16</td>\n",
       "      <td>88.349619</td>\n",
       "      <td>0.001727</td>\n",
       "    </tr>\n",
       "    <tr>\n",
       "      <th>std</th>\n",
       "      <td>47488.145955</td>\n",
       "      <td>1.958696e+00</td>\n",
       "      <td>1.651309e+00</td>\n",
       "      <td>1.516255e+00</td>\n",
       "      <td>1.415869e+00</td>\n",
       "      <td>1.380247e+00</td>\n",
       "      <td>1.332271e+00</td>\n",
       "      <td>1.237094e+00</td>\n",
       "      <td>1.194353e+00</td>\n",
       "      <td>1.098632e+00</td>\n",
       "      <td>...</td>\n",
       "      <td>7.345240e-01</td>\n",
       "      <td>7.257016e-01</td>\n",
       "      <td>6.244603e-01</td>\n",
       "      <td>6.056471e-01</td>\n",
       "      <td>5.212781e-01</td>\n",
       "      <td>4.822270e-01</td>\n",
       "      <td>4.036325e-01</td>\n",
       "      <td>3.300833e-01</td>\n",
       "      <td>250.120109</td>\n",
       "      <td>0.041527</td>\n",
       "    </tr>\n",
       "    <tr>\n",
       "      <th>min</th>\n",
       "      <td>0.000000</td>\n",
       "      <td>-5.640751e+01</td>\n",
       "      <td>-7.271573e+01</td>\n",
       "      <td>-4.832559e+01</td>\n",
       "      <td>-5.683171e+00</td>\n",
       "      <td>-1.137433e+02</td>\n",
       "      <td>-2.616051e+01</td>\n",
       "      <td>-4.355724e+01</td>\n",
       "      <td>-7.321672e+01</td>\n",
       "      <td>-1.343407e+01</td>\n",
       "      <td>...</td>\n",
       "      <td>-3.483038e+01</td>\n",
       "      <td>-1.093314e+01</td>\n",
       "      <td>-4.480774e+01</td>\n",
       "      <td>-2.836627e+00</td>\n",
       "      <td>-1.029540e+01</td>\n",
       "      <td>-2.604551e+00</td>\n",
       "      <td>-2.256568e+01</td>\n",
       "      <td>-1.543008e+01</td>\n",
       "      <td>0.000000</td>\n",
       "      <td>0.000000</td>\n",
       "    </tr>\n",
       "    <tr>\n",
       "      <th>25%</th>\n",
       "      <td>54201.500000</td>\n",
       "      <td>-9.203734e-01</td>\n",
       "      <td>-5.985499e-01</td>\n",
       "      <td>-8.903648e-01</td>\n",
       "      <td>-8.486401e-01</td>\n",
       "      <td>-6.915971e-01</td>\n",
       "      <td>-7.682956e-01</td>\n",
       "      <td>-5.540759e-01</td>\n",
       "      <td>-2.086297e-01</td>\n",
       "      <td>-6.430976e-01</td>\n",
       "      <td>...</td>\n",
       "      <td>-2.283949e-01</td>\n",
       "      <td>-5.423504e-01</td>\n",
       "      <td>-1.618463e-01</td>\n",
       "      <td>-3.545861e-01</td>\n",
       "      <td>-3.171451e-01</td>\n",
       "      <td>-3.269839e-01</td>\n",
       "      <td>-7.083953e-02</td>\n",
       "      <td>-5.295979e-02</td>\n",
       "      <td>5.600000</td>\n",
       "      <td>0.000000</td>\n",
       "    </tr>\n",
       "    <tr>\n",
       "      <th>50%</th>\n",
       "      <td>84692.000000</td>\n",
       "      <td>1.810880e-02</td>\n",
       "      <td>6.548556e-02</td>\n",
       "      <td>1.798463e-01</td>\n",
       "      <td>-1.984653e-02</td>\n",
       "      <td>-5.433583e-02</td>\n",
       "      <td>-2.741871e-01</td>\n",
       "      <td>4.010308e-02</td>\n",
       "      <td>2.235804e-02</td>\n",
       "      <td>-5.142873e-02</td>\n",
       "      <td>...</td>\n",
       "      <td>-2.945017e-02</td>\n",
       "      <td>6.781943e-03</td>\n",
       "      <td>-1.119293e-02</td>\n",
       "      <td>4.097606e-02</td>\n",
       "      <td>1.659350e-02</td>\n",
       "      <td>-5.213911e-02</td>\n",
       "      <td>1.342146e-03</td>\n",
       "      <td>1.124383e-02</td>\n",
       "      <td>22.000000</td>\n",
       "      <td>0.000000</td>\n",
       "    </tr>\n",
       "    <tr>\n",
       "      <th>75%</th>\n",
       "      <td>139320.500000</td>\n",
       "      <td>1.315642e+00</td>\n",
       "      <td>8.037239e-01</td>\n",
       "      <td>1.027196e+00</td>\n",
       "      <td>7.433413e-01</td>\n",
       "      <td>6.119264e-01</td>\n",
       "      <td>3.985649e-01</td>\n",
       "      <td>5.704361e-01</td>\n",
       "      <td>3.273459e-01</td>\n",
       "      <td>5.971390e-01</td>\n",
       "      <td>...</td>\n",
       "      <td>1.863772e-01</td>\n",
       "      <td>5.285536e-01</td>\n",
       "      <td>1.476421e-01</td>\n",
       "      <td>4.395266e-01</td>\n",
       "      <td>3.507156e-01</td>\n",
       "      <td>2.409522e-01</td>\n",
       "      <td>9.104512e-02</td>\n",
       "      <td>7.827995e-02</td>\n",
       "      <td>77.165000</td>\n",
       "      <td>0.000000</td>\n",
       "    </tr>\n",
       "    <tr>\n",
       "      <th>max</th>\n",
       "      <td>172792.000000</td>\n",
       "      <td>2.454930e+00</td>\n",
       "      <td>2.205773e+01</td>\n",
       "      <td>9.382558e+00</td>\n",
       "      <td>1.687534e+01</td>\n",
       "      <td>3.480167e+01</td>\n",
       "      <td>7.330163e+01</td>\n",
       "      <td>1.205895e+02</td>\n",
       "      <td>2.000721e+01</td>\n",
       "      <td>1.559499e+01</td>\n",
       "      <td>...</td>\n",
       "      <td>2.720284e+01</td>\n",
       "      <td>1.050309e+01</td>\n",
       "      <td>2.252841e+01</td>\n",
       "      <td>4.584549e+00</td>\n",
       "      <td>7.519589e+00</td>\n",
       "      <td>3.517346e+00</td>\n",
       "      <td>3.161220e+01</td>\n",
       "      <td>3.384781e+01</td>\n",
       "      <td>25691.160000</td>\n",
       "      <td>1.000000</td>\n",
       "    </tr>\n",
       "  </tbody>\n",
       "</table>\n",
       "<p>8 rows × 31 columns</p>\n",
       "</div>"
      ],
      "text/plain": [
       "                Time            V1            V2            V3            V4  \\\n",
       "count  284807.000000  2.848070e+05  2.848070e+05  2.848070e+05  2.848070e+05   \n",
       "mean    94813.859575  1.168375e-15  3.416908e-16 -1.379537e-15  2.074095e-15   \n",
       "std     47488.145955  1.958696e+00  1.651309e+00  1.516255e+00  1.415869e+00   \n",
       "min         0.000000 -5.640751e+01 -7.271573e+01 -4.832559e+01 -5.683171e+00   \n",
       "25%     54201.500000 -9.203734e-01 -5.985499e-01 -8.903648e-01 -8.486401e-01   \n",
       "50%     84692.000000  1.810880e-02  6.548556e-02  1.798463e-01 -1.984653e-02   \n",
       "75%    139320.500000  1.315642e+00  8.037239e-01  1.027196e+00  7.433413e-01   \n",
       "max    172792.000000  2.454930e+00  2.205773e+01  9.382558e+00  1.687534e+01   \n",
       "\n",
       "                 V5            V6            V7            V8            V9  \\\n",
       "count  2.848070e+05  2.848070e+05  2.848070e+05  2.848070e+05  2.848070e+05   \n",
       "mean   9.604066e-16  1.487313e-15 -5.556467e-16  1.213481e-16 -2.406331e-15   \n",
       "std    1.380247e+00  1.332271e+00  1.237094e+00  1.194353e+00  1.098632e+00   \n",
       "min   -1.137433e+02 -2.616051e+01 -4.355724e+01 -7.321672e+01 -1.343407e+01   \n",
       "25%   -6.915971e-01 -7.682956e-01 -5.540759e-01 -2.086297e-01 -6.430976e-01   \n",
       "50%   -5.433583e-02 -2.741871e-01  4.010308e-02  2.235804e-02 -5.142873e-02   \n",
       "75%    6.119264e-01  3.985649e-01  5.704361e-01  3.273459e-01  5.971390e-01   \n",
       "max    3.480167e+01  7.330163e+01  1.205895e+02  2.000721e+01  1.559499e+01   \n",
       "\n",
       "       ...           V21           V22           V23           V24  \\\n",
       "count  ...  2.848070e+05  2.848070e+05  2.848070e+05  2.848070e+05   \n",
       "mean   ...  1.654067e-16 -3.568593e-16  2.578648e-16  4.473266e-15   \n",
       "std    ...  7.345240e-01  7.257016e-01  6.244603e-01  6.056471e-01   \n",
       "min    ... -3.483038e+01 -1.093314e+01 -4.480774e+01 -2.836627e+00   \n",
       "25%    ... -2.283949e-01 -5.423504e-01 -1.618463e-01 -3.545861e-01   \n",
       "50%    ... -2.945017e-02  6.781943e-03 -1.119293e-02  4.097606e-02   \n",
       "75%    ...  1.863772e-01  5.285536e-01  1.476421e-01  4.395266e-01   \n",
       "max    ...  2.720284e+01  1.050309e+01  2.252841e+01  4.584549e+00   \n",
       "\n",
       "                V25           V26           V27           V28         Amount  \\\n",
       "count  2.848070e+05  2.848070e+05  2.848070e+05  2.848070e+05  284807.000000   \n",
       "mean   5.340915e-16  1.683437e-15 -3.660091e-16 -1.227390e-16      88.349619   \n",
       "std    5.212781e-01  4.822270e-01  4.036325e-01  3.300833e-01     250.120109   \n",
       "min   -1.029540e+01 -2.604551e+00 -2.256568e+01 -1.543008e+01       0.000000   \n",
       "25%   -3.171451e-01 -3.269839e-01 -7.083953e-02 -5.295979e-02       5.600000   \n",
       "50%    1.659350e-02 -5.213911e-02  1.342146e-03  1.124383e-02      22.000000   \n",
       "75%    3.507156e-01  2.409522e-01  9.104512e-02  7.827995e-02      77.165000   \n",
       "max    7.519589e+00  3.517346e+00  3.161220e+01  3.384781e+01   25691.160000   \n",
       "\n",
       "               Class  \n",
       "count  284807.000000  \n",
       "mean        0.001727  \n",
       "std         0.041527  \n",
       "min         0.000000  \n",
       "25%         0.000000  \n",
       "50%         0.000000  \n",
       "75%         0.000000  \n",
       "max         1.000000  \n",
       "\n",
       "[8 rows x 31 columns]"
      ]
     },
     "execution_count": 6,
     "metadata": {},
     "output_type": "execute_result"
    }
   ],
   "source": [
    "#Information of the database\n",
    "df.describe()"
   ]
  },
  {
   "cell_type": "code",
   "execution_count": 7,
   "metadata": {},
   "outputs": [
    {
     "data": {
      "text/plain": [
       "False"
      ]
     },
     "execution_count": 7,
     "metadata": {},
     "output_type": "execute_result"
    }
   ],
   "source": [
    "#Check if there a null value in the database\n",
    "df.isnull().values.any()"
   ]
  },
  {
   "cell_type": "markdown",
   "metadata": {},
   "source": [
    "# Data visualization "
   ]
  },
  {
   "cell_type": "code",
   "execution_count": 8,
   "metadata": {},
   "outputs": [
    {
     "data": {
      "text/plain": [
       "0    284315\n",
       "1       492\n",
       "Name: Class, dtype: int64"
      ]
     },
     "execution_count": 8,
     "metadata": {},
     "output_type": "execute_result"
    }
   ],
   "source": [
    "#check how many classes that we have and what is the value of each class.\n",
    "df[\"Class\"].value_counts()"
   ]
  },
  {
   "cell_type": "code",
   "execution_count": 9,
   "metadata": {},
   "outputs": [
    {
     "data": {
      "text/plain": [
       "Text(0, 0.5, 'Frequency')"
      ]
     },
     "execution_count": 9,
     "metadata": {},
     "output_type": "execute_result"
    },
    {
     "data": {
      "image/png": "[encoded data removed]",
      "text/plain": [
       "<Figure size 648x576 with 1 Axes>"
      ]
     },
     "metadata": {},
     "output_type": "display_data"
    }
   ],
   "source": [
    "#plot the classes\n",
    "plt.figure(figsize = (9,8))\n",
    "df[\"Class\"].value_counts().plot(kind='bar')\n",
    "plt.title(\"Transaction Class Distribution\")\n",
    "\n",
    "plt.xticks(range(2),  [\"Normal\", \"Fraud\"])\n",
    "\n",
    "plt.xlabel(\"Class\")\n",
    "\n",
    "plt.ylabel(\"Frequency\")"
   ]
  },
  {
   "cell_type": "code",
   "execution_count": 10,
   "metadata": {},
   "outputs": [
    {
     "data": {
      "text/plain": [
       "<seaborn.axisgrid.FacetGrid at 0x1e3ee288af0>"
      ]
     },
     "execution_count": 10,
     "metadata": {},
     "output_type": "execute_result"
    },
    {
     "data": {
      "image/png": "[encoded data removed]",
      "text/plain": [
       "<Figure size 401.625x360 with 1 Axes>"
      ]
     },
     "metadata": {},
     "output_type": "display_data"
    }
   ],
   "source": [
    "#plot \n",
    "sns.relplot(x='Amount', y='Time', hue='Class', data=df)\n"
   ]
  },
  {
   "cell_type": "code",
   "execution_count": 11,
   "metadata": {},
   "outputs": [
    {
     "data": {
      "image/png": "[encoded data removed]",
      "text/plain": [
       "<Figure size 576x576 with 1 Axes>"
      ]
     },
     "metadata": {},
     "output_type": "display_data"
    }
   ],
   "source": [
    "#plot amount according to class\n",
    "#There are two classes 0 and 1\n",
    "plt.figure(figsize = (8,8))\n",
    "\n",
    "\n",
    "plt.scatter(df.Amount, df.Class, marker='+',color='red')\n",
    "\n",
    "\n",
    "plt.xlabel(\"Amount\", fontsize =16)\n",
    "\n",
    "\n",
    "plt.ylabel(\"Class\", fontsize = 16)\n",
    "\n",
    "\n",
    "plt.show()"
   ]
  },
  {
   "cell_type": "markdown",
   "metadata": {},
   "source": [
    "# Models"
   ]
  },
  {
   "cell_type": "markdown",
   "metadata": {},
   "source": [
    "#### Now, we use the training set to build an accurate model. Then use the test set to report the accuracy of the model. We use the following algorithms:\n",
    "\n",
    "-Logistic Regression.\n",
    "\n",
    "-Support Vector Machine.\n",
    "\n",
    "-Random Forest.\n",
    "\n",
    "-Artificial Neural network.\n",
    "\n"
   ]
  },
  {
   "cell_type": "markdown",
   "metadata": {},
   "source": [
    "# Logistic Regression"
   ]
  },
  {
   "cell_type": "code",
   "execution_count": 12,
   "metadata": {},
   "outputs": [],
   "source": [
    "## First import the package\n",
    "from sklearn.model_selection import train_test_split"
   ]
  },
  {
   "cell_type": "code",
   "execution_count": 13,
   "metadata": {},
   "outputs": [],
   "source": [
    "###Separate features\n",
    "X_LR=df.iloc[:,:-1]\n",
    "y_LR=df.iloc[:,-1]\n"
   ]
  },
  {
   "cell_type": "code",
   "execution_count": 14,
   "metadata": {},
   "outputs": [],
   "source": [
    "## Now split the data\n",
    "## Have 20% for testing\n",
    "## Set 40 as the random state\n",
    "## and stratify the split\n",
    "X_train_LR, X_test_LR, y_train_LR, y_test_LR=train_test_split(X_LR,y_LR,\n",
    "                                                  test_size=.2,\n",
    "                                                  random_state=40,\n",
    "                                                  shuffle=True,\n",
    "                                                  stratify=y_LR)"
   ]
  },
  {
   "cell_type": "code",
   "execution_count": 15,
   "metadata": {},
   "outputs": [],
   "source": [
    "#Use a pipeline with StandardScaler and LogisticRegression\n",
    "from sklearn.linear_model import LogisticRegression\n",
    "from sklearn.preprocessing import StandardScaler\n",
    "from sklearn.pipeline import Pipeline\n",
    "pipe_LR = Pipeline([('preprocess',StandardScaler()),\n",
    "                ('Lreg',LogisticRegression())])\n",
    "\n",
    "\n"
   ]
  },
  {
   "cell_type": "code",
   "execution_count": 16,
   "metadata": {},
   "outputs": [
    {
     "data": {
      "text/plain": [
       "Pipeline(steps=[('preprocess', StandardScaler()),\n",
       "                ('Lreg', LogisticRegression())])"
      ]
     },
     "execution_count": 16,
     "metadata": {},
     "output_type": "execute_result"
    }
   ],
   "source": [
    "## Fit the model here\n",
    "pipe_LR.fit(X_train_LR,y_train_LR)"
   ]
  },
  {
   "cell_type": "code",
   "execution_count": 17,
   "metadata": {},
   "outputs": [
    {
     "name": "stdout",
     "output_type": "stream",
     "text": [
      "[0 0 0 ... 0 0 0]\n",
      "0.7448680351906158\n",
      "0.8819444444444444\n",
      "0.6446700507614214\n",
      "0.99923632293884\n"
     ]
    }
   ],
   "source": [
    "## get the predictions X_train\n",
    "y_pred_train_LR=pipe_LR.predict(X_train_LR)\n",
    "print(y_pred_train_LR)\n",
    "# now we can get the evaluation score for training data\n",
    "from sklearn.metrics import accuracy_score\n",
    "from sklearn.metrics import precision_score\n",
    "from sklearn.metrics import recall_score\n",
    "from sklearn.metrics import f1_score\n",
    "\n",
    "precision_score_LR_train=precision_score(y_train_LR,y_pred_train_LR)\n",
    "recall_score_LR_train=recall_score(y_train_LR,y_pred_train_LR)\n",
    "f1_score_LR_train=f1_score(y_train_LR,y_pred_train_LR)\n",
    "accuracy_score_LR_train=accuracy_score(y_train_LR,y_pred_train_LR)\n",
    "\n",
    "\n",
    "print(f1_score_LR_train)\n",
    "print(precision_score_LR_train)\n",
    "print(recall_score_LR_train)\n",
    "print(accuracy_score_LR_train)\n",
    "\n",
    "\n",
    "\n"
   ]
  },
  {
   "cell_type": "code",
   "execution_count": 18,
   "metadata": {},
   "outputs": [
    {
     "name": "stdout",
     "output_type": "stream",
     "text": [
      "[[9.99720769e-01 2.79230789e-04]\n",
      " [9.99489230e-01 5.10770217e-04]\n",
      " [9.99956019e-01 4.39805535e-05]\n",
      " ...\n",
      " [9.99759254e-01 2.40745556e-04]\n",
      " [9.99910876e-01 8.91239496e-05]\n",
      " [9.98644452e-01 1.35554752e-03]]\n"
     ]
    }
   ],
   "source": [
    "#predict the probabilities\n",
    "y_pred_prob_LR=pipe_LR.predict_proba(X_train_LR)\n",
    "print(y_pred_prob_LR)\n",
    "\n"
   ]
  },
  {
   "cell_type": "code",
   "execution_count": 19,
   "metadata": {},
   "outputs": [
    {
     "data": {
      "text/plain": [
       "(array([0.        , 0.        , 0.        , ..., 0.99919543, 0.99920422,\n",
       "        1.        ]),\n",
       " array([0.        , 0.00253807, 0.00761421, ..., 1.        , 1.        ,\n",
       "        1.        ]),\n",
       " array([2.00000000e+00, 1.00000000e+00, 1.00000000e+00, ...,\n",
       "        1.68082594e-10, 1.61854611e-10, 5.40513505e-13]))"
      ]
     },
     "execution_count": 19,
     "metadata": {},
     "output_type": "execute_result"
    }
   ],
   "source": [
    "#now we can get the ROC\n",
    "from sklearn.metrics import roc_curve\n",
    "\n",
    "roc_curve(y_train_LR,y_pred_prob_LR[:,1])"
   ]
  },
  {
   "cell_type": "code",
   "execution_count": 20,
   "metadata": {},
   "outputs": [],
   "source": [
    "#we get the fpr,tpr,cutoffs\n",
    "fpr_LR,tpr_LR,cutoffs_LR = roc_curve(y_train_LR,y_pred_prob_LR[:,1])"
   ]
  },
  {
   "cell_type": "code",
   "execution_count": 21,
   "metadata": {},
   "outputs": [
    {
     "name": "stdout",
     "output_type": "stream",
     "text": [
      "0.9800671409184201\n"
     ]
    }
   ],
   "source": [
    "#now we can get the AUC\n",
    "from sklearn.metrics import roc_auc_score\n",
    "auc_lR=roc_auc_score(y_train_LR,y_pred_prob_LR[:,1])\n",
    "print(auc_lR)"
   ]
  },
  {
   "cell_type": "code",
   "execution_count": 22,
   "metadata": {},
   "outputs": [
    {
     "data": {
      "image/png": "[encoded data removed]",
      "text/plain": [
       "<Figure size 864x576 with 1 Axes>"
      ]
     },
     "metadata": {},
     "output_type": "display_data"
    }
   ],
   "source": [
    "#plot ROC with AUC\n",
    "plt.figure(figsize=(12,8))\n",
    "\n",
    "plt.plot(fpr_LR,tpr_LR,label='AUC LR= '+str(np.around(auc_lR,4)))\n",
    "\n",
    "\n",
    "\n",
    "plt.xlabel(\"False Positive Rate\",fontsize=16)\n",
    "plt.ylabel(\"True Positive Rate\",fontsize=16)\n",
    "\n",
    "plt.title(\"ROC Curve\", fontsize=18)\n",
    "plt.xticks(fontsize=12)\n",
    "plt.yticks(fontsize=12)\n",
    "plt.legend(loc='best')\n",
    "plt.show()"
   ]
  },
  {
   "cell_type": "code",
   "execution_count": 23,
   "metadata": {},
   "outputs": [
    {
     "name": "stdout",
     "output_type": "stream",
     "text": [
      "[0 0 0 ... 0 0 0]\n"
     ]
    }
   ],
   "source": [
    "## get the predictions X_test\n",
    "y_pred_test_LR=pipe_LR.predict(X_test_LR)\n",
    "print(y_pred_test_LR)\n"
   ]
  },
  {
   "cell_type": "code",
   "execution_count": 24,
   "metadata": {},
   "outputs": [
    {
     "name": "stdout",
     "output_type": "stream",
     "text": [
      "[[56856     8]\n",
      " [   47    51]]\n"
     ]
    }
   ],
   "source": [
    "# now we can get the confusion matrix\n",
    "from sklearn.metrics import confusion_matrix\n",
    "print(confusion_matrix(y_test_LR,y_pred_test_LR))"
   ]
  },
  {
   "cell_type": "code",
   "execution_count": 25,
   "metadata": {},
   "outputs": [
    {
     "name": "stdout",
     "output_type": "stream",
     "text": [
      "0.6496815286624203\n",
      "0.864406779661017\n",
      "0.5204081632653061\n",
      "0.9990344440153085\n"
     ]
    }
   ],
   "source": [
    "# now we can get the precision score, recall score and f1 score\n",
    "from sklearn.metrics import precision_score\n",
    "from sklearn.metrics import recall_score\n",
    "from sklearn.metrics import f1_score\n",
    "precision_score_LR=precision_score(y_test_LR,y_pred_test_LR)\n",
    "recall_score_LR=recall_score(y_test_LR,y_pred_test_LR)\n",
    "f1_score_LR=f1_score(y_test_LR,y_pred_test_LR)\n",
    "accuracy_score_LR=accuracy_score(y_test_LR,y_pred_test_LR)\n",
    "print(f1_score_LR)\n",
    "print(precision_score_LR)\n",
    "print(recall_score_LR)\n",
    "print(accuracy_score_LR)"
   ]
  },
  {
   "cell_type": "code",
   "execution_count": 26,
   "metadata": {},
   "outputs": [
    {
     "name": "stdout",
     "output_type": "stream",
     "text": [
      "              precision    recall  f1-score   support\n",
      "\n",
      "           0       1.00      1.00      1.00     56864\n",
      "           1       0.86      0.52      0.65        98\n",
      "\n",
      "    accuracy                           1.00     56962\n",
      "   macro avg       0.93      0.76      0.82     56962\n",
      "weighted avg       1.00      1.00      1.00     56962\n",
      "\n"
     ]
    }
   ],
   "source": [
    "# now we can get the classification_report to know the precision, the recall, the f1-score, the support\n",
    "from sklearn.metrics import classification_report\n",
    "print(classification_report(y_test_LR,y_pred_test_LR))"
   ]
  },
  {
   "cell_type": "markdown",
   "metadata": {},
   "source": [
    "# Artificial Neural Network "
   ]
  },
  {
   "cell_type": "code",
   "execution_count": 27,
   "metadata": {},
   "outputs": [],
   "source": [
    "import tensorflow as tf\n",
    "from tensorflow import keras\n",
    "from tensorflow.keras import layers\n",
    "\n",
    "# Keras. \n",
    "\n",
    "from keras import models\n",
    "from keras import layers\n",
    "from keras import optimizers\n",
    "from keras import losses\n",
    "from keras import metrics\n",
    "\n",
    "from keras.metrics import binary_crossentropy\n",
    "\n",
    "\n",
    "\n",
    "\n",
    "## Define categorical funcion. This prepares entries for tensor analysis. \n",
    "\n",
    "def to_categorical(y):\n",
    "    return tf.keras.utils.to_categorical(y)\n"
   ]
  },
  {
   "cell_type": "code",
   "execution_count": 28,
   "metadata": {},
   "outputs": [],
   "source": [
    "# Pickout the valid transactions.\n",
    "\n",
    "valid_transactions = df.loc[df['Class'] == 0.0]\n",
    "fraudulent_transactions = df.drop(valid_transactions.index)"
   ]
  },
  {
   "cell_type": "code",
   "execution_count": 29,
   "metadata": {},
   "outputs": [
    {
     "data": {
      "text/html": [
       "<div>\n",
       "<style scoped>\n",
       "    .dataframe tbody tr th:only-of-type {\n",
       "        vertical-align: middle;\n",
       "    }\n",
       "\n",
       "    .dataframe tbody tr th {\n",
       "        vertical-align: top;\n",
       "    }\n",
       "\n",
       "    .dataframe thead th {\n",
       "        text-align: right;\n",
       "    }\n",
       "</style>\n",
       "<table border=\"1\" class=\"dataframe\">\n",
       "  <thead>\n",
       "    <tr style=\"text-align: right;\">\n",
       "      <th></th>\n",
       "      <th>Time</th>\n",
       "      <th>V1</th>\n",
       "      <th>V2</th>\n",
       "      <th>V3</th>\n",
       "      <th>V4</th>\n",
       "      <th>V5</th>\n",
       "      <th>V6</th>\n",
       "      <th>V7</th>\n",
       "      <th>V8</th>\n",
       "      <th>V9</th>\n",
       "      <th>...</th>\n",
       "      <th>V21</th>\n",
       "      <th>V22</th>\n",
       "      <th>V23</th>\n",
       "      <th>V24</th>\n",
       "      <th>V25</th>\n",
       "      <th>V26</th>\n",
       "      <th>V27</th>\n",
       "      <th>V28</th>\n",
       "      <th>Amount</th>\n",
       "      <th>Class</th>\n",
       "    </tr>\n",
       "  </thead>\n",
       "  <tbody>\n",
       "    <tr>\n",
       "      <th>42756</th>\n",
       "      <td>41233.0</td>\n",
       "      <td>-10.645800</td>\n",
       "      <td>5.918307</td>\n",
       "      <td>-11.671043</td>\n",
       "      <td>8.807369</td>\n",
       "      <td>-7.975501</td>\n",
       "      <td>-3.586806</td>\n",
       "      <td>-13.616797</td>\n",
       "      <td>6.428169</td>\n",
       "      <td>-7.368451</td>\n",
       "      <td>...</td>\n",
       "      <td>2.571970</td>\n",
       "      <td>0.206809</td>\n",
       "      <td>-1.667801</td>\n",
       "      <td>0.558419</td>\n",
       "      <td>-0.027898</td>\n",
       "      <td>0.354254</td>\n",
       "      <td>0.273329</td>\n",
       "      <td>-0.152908</td>\n",
       "      <td>0.00</td>\n",
       "      <td>1</td>\n",
       "    </tr>\n",
       "    <tr>\n",
       "      <th>199755</th>\n",
       "      <td>133122.0</td>\n",
       "      <td>-1.105047</td>\n",
       "      <td>1.253068</td>\n",
       "      <td>0.789122</td>\n",
       "      <td>-1.325337</td>\n",
       "      <td>0.647123</td>\n",
       "      <td>-0.066756</td>\n",
       "      <td>0.550501</td>\n",
       "      <td>0.522072</td>\n",
       "      <td>-0.910263</td>\n",
       "      <td>...</td>\n",
       "      <td>-0.471322</td>\n",
       "      <td>-1.550192</td>\n",
       "      <td>-0.188918</td>\n",
       "      <td>-1.134443</td>\n",
       "      <td>0.296617</td>\n",
       "      <td>0.207668</td>\n",
       "      <td>0.074791</td>\n",
       "      <td>0.020974</td>\n",
       "      <td>5.89</td>\n",
       "      <td>0</td>\n",
       "    </tr>\n",
       "    <tr>\n",
       "      <th>111690</th>\n",
       "      <td>72327.0</td>\n",
       "      <td>-4.198735</td>\n",
       "      <td>0.194121</td>\n",
       "      <td>-3.917586</td>\n",
       "      <td>3.920748</td>\n",
       "      <td>-1.875486</td>\n",
       "      <td>-2.118933</td>\n",
       "      <td>-3.614445</td>\n",
       "      <td>1.687884</td>\n",
       "      <td>-2.189871</td>\n",
       "      <td>...</td>\n",
       "      <td>0.801312</td>\n",
       "      <td>-0.183001</td>\n",
       "      <td>-0.440387</td>\n",
       "      <td>0.292539</td>\n",
       "      <td>-0.144967</td>\n",
       "      <td>-0.251744</td>\n",
       "      <td>1.249414</td>\n",
       "      <td>-0.131525</td>\n",
       "      <td>238.90</td>\n",
       "      <td>1</td>\n",
       "    </tr>\n",
       "    <tr>\n",
       "      <th>55753</th>\n",
       "      <td>47108.0</td>\n",
       "      <td>-1.386749</td>\n",
       "      <td>-0.790976</td>\n",
       "      <td>1.934308</td>\n",
       "      <td>0.062057</td>\n",
       "      <td>0.825038</td>\n",
       "      <td>-0.933019</td>\n",
       "      <td>0.320368</td>\n",
       "      <td>-0.045314</td>\n",
       "      <td>0.021003</td>\n",
       "      <td>...</td>\n",
       "      <td>0.168572</td>\n",
       "      <td>0.316983</td>\n",
       "      <td>0.150510</td>\n",
       "      <td>0.567228</td>\n",
       "      <td>0.007839</td>\n",
       "      <td>0.193410</td>\n",
       "      <td>-0.159508</td>\n",
       "      <td>-0.084111</td>\n",
       "      <td>93.95</td>\n",
       "      <td>0</td>\n",
       "    </tr>\n",
       "    <tr>\n",
       "      <th>115617</th>\n",
       "      <td>73937.0</td>\n",
       "      <td>-0.757403</td>\n",
       "      <td>0.551432</td>\n",
       "      <td>1.903325</td>\n",
       "      <td>0.316730</td>\n",
       "      <td>0.408974</td>\n",
       "      <td>-0.293756</td>\n",
       "      <td>0.848388</td>\n",
       "      <td>-0.187489</td>\n",
       "      <td>0.225230</td>\n",
       "      <td>...</td>\n",
       "      <td>0.060614</td>\n",
       "      <td>0.637998</td>\n",
       "      <td>0.016537</td>\n",
       "      <td>0.418761</td>\n",
       "      <td>-0.098565</td>\n",
       "      <td>-0.538427</td>\n",
       "      <td>-0.085839</td>\n",
       "      <td>-0.100234</td>\n",
       "      <td>5.90</td>\n",
       "      <td>0</td>\n",
       "    </tr>\n",
       "  </tbody>\n",
       "</table>\n",
       "<p>5 rows × 31 columns</p>\n",
       "</div>"
      ],
      "text/plain": [
       "            Time         V1        V2         V3        V4        V5  \\\n",
       "42756    41233.0 -10.645800  5.918307 -11.671043  8.807369 -7.975501   \n",
       "199755  133122.0  -1.105047  1.253068   0.789122 -1.325337  0.647123   \n",
       "111690   72327.0  -4.198735  0.194121  -3.917586  3.920748 -1.875486   \n",
       "55753    47108.0  -1.386749 -0.790976   1.934308  0.062057  0.825038   \n",
       "115617   73937.0  -0.757403  0.551432   1.903325  0.316730  0.408974   \n",
       "\n",
       "              V6         V7        V8        V9  ...       V21       V22  \\\n",
       "42756  -3.586806 -13.616797  6.428169 -7.368451  ...  2.571970  0.206809   \n",
       "199755 -0.066756   0.550501  0.522072 -0.910263  ... -0.471322 -1.550192   \n",
       "111690 -2.118933  -3.614445  1.687884 -2.189871  ...  0.801312 -0.183001   \n",
       "55753  -0.933019   0.320368 -0.045314  0.021003  ...  0.168572  0.316983   \n",
       "115617 -0.293756   0.848388 -0.187489  0.225230  ...  0.060614  0.637998   \n",
       "\n",
       "             V23       V24       V25       V26       V27       V28  Amount  \\\n",
       "42756  -1.667801  0.558419 -0.027898  0.354254  0.273329 -0.152908    0.00   \n",
       "199755 -0.188918 -1.134443  0.296617  0.207668  0.074791  0.020974    5.89   \n",
       "111690 -0.440387  0.292539 -0.144967 -0.251744  1.249414 -0.131525  238.90   \n",
       "55753   0.150510  0.567228  0.007839  0.193410 -0.159508 -0.084111   93.95   \n",
       "115617  0.016537  0.418761 -0.098565 -0.538427 -0.085839 -0.100234    5.90   \n",
       "\n",
       "        Class  \n",
       "42756       1  \n",
       "199755      0  \n",
       "111690      1  \n",
       "55753       0  \n",
       "115617      0  \n",
       "\n",
       "[5 rows x 31 columns]"
      ]
     },
     "execution_count": 29,
     "metadata": {},
     "output_type": "execute_result"
    }
   ],
   "source": [
    "# Create a more balanced data set. This training set will have a 50 / 50 split of valid and fraudulent transactions.\n",
    "# I'll randomly sample 492 valid transactions and then add on the remaining 492 invalid transactions for a total of \n",
    "# 984. \n",
    "\n",
    "valid_sample = valid_transactions.sample(492)\n",
    "\n",
    "# Shuffle the data \n",
    "\n",
    "sample_data_df = pd.concat([valid_sample, fraudulent_transactions]).sample(frac = 1, random_state = 42)\n",
    "\n",
    "sample_data_df.head()"
   ]
  },
  {
   "cell_type": "code",
   "execution_count": 30,
   "metadata": {},
   "outputs": [],
   "source": [
    "# Scale the data. Must run the previous block before this one to avoid error.\n",
    "\n",
    "from sklearn.preprocessing import StandardScaler, RobustScaler\n",
    "\n",
    "std_scaler = StandardScaler()\n",
    "rob_scaler = RobustScaler()\n",
    "\n",
    "sample_data_df['scaled_amount'] = rob_scaler.fit_transform(sample_data_df['Amount'].values.reshape(-1,1))\n",
    "sample_data_df['scaled_time'] = rob_scaler.fit_transform(sample_data_df['Time'].values.reshape(-1,1))\n",
    "\n",
    "sample_data_df.drop(['Time','Amount'], axis=1, inplace=True)"
   ]
  },
  {
   "cell_type": "code",
   "execution_count": 31,
   "metadata": {},
   "outputs": [
    {
     "data": {
      "text/html": [
       "<div>\n",
       "<style scoped>\n",
       "    .dataframe tbody tr th:only-of-type {\n",
       "        vertical-align: middle;\n",
       "    }\n",
       "\n",
       "    .dataframe tbody tr th {\n",
       "        vertical-align: top;\n",
       "    }\n",
       "\n",
       "    .dataframe thead th {\n",
       "        text-align: right;\n",
       "    }\n",
       "</style>\n",
       "<table border=\"1\" class=\"dataframe\">\n",
       "  <thead>\n",
       "    <tr style=\"text-align: right;\">\n",
       "      <th></th>\n",
       "      <th>scaled_amount</th>\n",
       "      <th>scaled_time</th>\n",
       "      <th>V1</th>\n",
       "      <th>V2</th>\n",
       "      <th>V3</th>\n",
       "      <th>V4</th>\n",
       "      <th>V5</th>\n",
       "      <th>V6</th>\n",
       "      <th>V7</th>\n",
       "      <th>V8</th>\n",
       "      <th>...</th>\n",
       "      <th>V20</th>\n",
       "      <th>V21</th>\n",
       "      <th>V22</th>\n",
       "      <th>V23</th>\n",
       "      <th>V24</th>\n",
       "      <th>V25</th>\n",
       "      <th>V26</th>\n",
       "      <th>V27</th>\n",
       "      <th>V28</th>\n",
       "      <th>Class</th>\n",
       "    </tr>\n",
       "  </thead>\n",
       "  <tbody>\n",
       "    <tr>\n",
       "      <th>42756</th>\n",
       "      <td>-0.200501</td>\n",
       "      <td>-0.416136</td>\n",
       "      <td>-10.645800</td>\n",
       "      <td>5.918307</td>\n",
       "      <td>-11.671043</td>\n",
       "      <td>8.807369</td>\n",
       "      <td>-7.975501</td>\n",
       "      <td>-3.586806</td>\n",
       "      <td>-13.616797</td>\n",
       "      <td>6.428169</td>\n",
       "      <td>...</td>\n",
       "      <td>-0.046170</td>\n",
       "      <td>2.571970</td>\n",
       "      <td>0.206809</td>\n",
       "      <td>-1.667801</td>\n",
       "      <td>0.558419</td>\n",
       "      <td>-0.027898</td>\n",
       "      <td>0.354254</td>\n",
       "      <td>0.273329</td>\n",
       "      <td>-0.152908</td>\n",
       "      <td>1</td>\n",
       "    </tr>\n",
       "    <tr>\n",
       "      <th>199755</th>\n",
       "      <td>-0.140279</td>\n",
       "      <td>0.586902</td>\n",
       "      <td>-1.105047</td>\n",
       "      <td>1.253068</td>\n",
       "      <td>0.789122</td>\n",
       "      <td>-1.325337</td>\n",
       "      <td>0.647123</td>\n",
       "      <td>-0.066756</td>\n",
       "      <td>0.550501</td>\n",
       "      <td>0.522072</td>\n",
       "      <td>...</td>\n",
       "      <td>0.079014</td>\n",
       "      <td>-0.471322</td>\n",
       "      <td>-1.550192</td>\n",
       "      <td>-0.188918</td>\n",
       "      <td>-1.134443</td>\n",
       "      <td>0.296617</td>\n",
       "      <td>0.207668</td>\n",
       "      <td>0.074791</td>\n",
       "      <td>0.020974</td>\n",
       "      <td>0</td>\n",
       "    </tr>\n",
       "    <tr>\n",
       "      <th>111690</th>\n",
       "      <td>2.242114</td>\n",
       "      <td>-0.076721</td>\n",
       "      <td>-4.198735</td>\n",
       "      <td>0.194121</td>\n",
       "      <td>-3.917586</td>\n",
       "      <td>3.920748</td>\n",
       "      <td>-1.875486</td>\n",
       "      <td>-2.118933</td>\n",
       "      <td>-3.614445</td>\n",
       "      <td>1.687884</td>\n",
       "      <td>...</td>\n",
       "      <td>1.003350</td>\n",
       "      <td>0.801312</td>\n",
       "      <td>-0.183001</td>\n",
       "      <td>-0.440387</td>\n",
       "      <td>0.292539</td>\n",
       "      <td>-0.144967</td>\n",
       "      <td>-0.251744</td>\n",
       "      <td>1.249414</td>\n",
       "      <td>-0.131525</td>\n",
       "      <td>1</td>\n",
       "    </tr>\n",
       "    <tr>\n",
       "      <th>55753</th>\n",
       "      <td>0.760084</td>\n",
       "      <td>-0.352006</td>\n",
       "      <td>-1.386749</td>\n",
       "      <td>-0.790976</td>\n",
       "      <td>1.934308</td>\n",
       "      <td>0.062057</td>\n",
       "      <td>0.825038</td>\n",
       "      <td>-0.933019</td>\n",
       "      <td>0.320368</td>\n",
       "      <td>-0.045314</td>\n",
       "      <td>...</td>\n",
       "      <td>0.395780</td>\n",
       "      <td>0.168572</td>\n",
       "      <td>0.316983</td>\n",
       "      <td>0.150510</td>\n",
       "      <td>0.567228</td>\n",
       "      <td>0.007839</td>\n",
       "      <td>0.193410</td>\n",
       "      <td>-0.159508</td>\n",
       "      <td>-0.084111</td>\n",
       "      <td>0</td>\n",
       "    </tr>\n",
       "    <tr>\n",
       "      <th>115617</th>\n",
       "      <td>-0.140177</td>\n",
       "      <td>-0.059147</td>\n",
       "      <td>-0.757403</td>\n",
       "      <td>0.551432</td>\n",
       "      <td>1.903325</td>\n",
       "      <td>0.316730</td>\n",
       "      <td>0.408974</td>\n",
       "      <td>-0.293756</td>\n",
       "      <td>0.848388</td>\n",
       "      <td>-0.187489</td>\n",
       "      <td>...</td>\n",
       "      <td>-0.209495</td>\n",
       "      <td>0.060614</td>\n",
       "      <td>0.637998</td>\n",
       "      <td>0.016537</td>\n",
       "      <td>0.418761</td>\n",
       "      <td>-0.098565</td>\n",
       "      <td>-0.538427</td>\n",
       "      <td>-0.085839</td>\n",
       "      <td>-0.100234</td>\n",
       "      <td>0</td>\n",
       "    </tr>\n",
       "  </tbody>\n",
       "</table>\n",
       "<p>5 rows × 31 columns</p>\n",
       "</div>"
      ],
      "text/plain": [
       "        scaled_amount  scaled_time         V1        V2         V3        V4  \\\n",
       "42756       -0.200501    -0.416136 -10.645800  5.918307 -11.671043  8.807369   \n",
       "199755      -0.140279     0.586902  -1.105047  1.253068   0.789122 -1.325337   \n",
       "111690       2.242114    -0.076721  -4.198735  0.194121  -3.917586  3.920748   \n",
       "55753        0.760084    -0.352006  -1.386749 -0.790976   1.934308  0.062057   \n",
       "115617      -0.140177    -0.059147  -0.757403  0.551432   1.903325  0.316730   \n",
       "\n",
       "              V5        V6         V7        V8  ...       V20       V21  \\\n",
       "42756  -7.975501 -3.586806 -13.616797  6.428169  ... -0.046170  2.571970   \n",
       "199755  0.647123 -0.066756   0.550501  0.522072  ...  0.079014 -0.471322   \n",
       "111690 -1.875486 -2.118933  -3.614445  1.687884  ...  1.003350  0.801312   \n",
       "55753   0.825038 -0.933019   0.320368 -0.045314  ...  0.395780  0.168572   \n",
       "115617  0.408974 -0.293756   0.848388 -0.187489  ... -0.209495  0.060614   \n",
       "\n",
       "             V22       V23       V24       V25       V26       V27       V28  \\\n",
       "42756   0.206809 -1.667801  0.558419 -0.027898  0.354254  0.273329 -0.152908   \n",
       "199755 -1.550192 -0.188918 -1.134443  0.296617  0.207668  0.074791  0.020974   \n",
       "111690 -0.183001 -0.440387  0.292539 -0.144967 -0.251744  1.249414 -0.131525   \n",
       "55753   0.316983  0.150510  0.567228  0.007839  0.193410 -0.159508 -0.084111   \n",
       "115617  0.637998  0.016537  0.418761 -0.098565 -0.538427 -0.085839 -0.100234   \n",
       "\n",
       "        Class  \n",
       "42756       1  \n",
       "199755      0  \n",
       "111690      1  \n",
       "55753       0  \n",
       "115617      0  \n",
       "\n",
       "[5 rows x 31 columns]"
      ]
     },
     "execution_count": 31,
     "metadata": {},
     "output_type": "execute_result"
    }
   ],
   "source": [
    "#  Add them back in \n",
    "\n",
    "scaled_amount = sample_data_df['scaled_amount']\n",
    "scaled_time = sample_data_df['scaled_time']\n",
    "\n",
    "sample_data_df.drop(['scaled_amount', 'scaled_time'], axis=1, inplace=True)\n",
    "sample_data_df.insert(0, 'scaled_amount', scaled_amount)\n",
    "sample_data_df.insert(1, 'scaled_time', scaled_time)\n",
    "\n",
    "# Now the amount and time are scaled.\n",
    "\n",
    "sample_data_df.head()"
   ]
  },
  {
   "cell_type": "code",
   "execution_count": 32,
   "metadata": {},
   "outputs": [],
   "source": [
    "# Set aside training/test data. \n",
    "\n",
    "sample_data_train = sample_data_df.sample(frac = .80, random_state = 440)\n",
    "sample_data_test = sample_data_df.drop(sample_data_train.index)"
   ]
  },
  {
   "cell_type": "code",
   "execution_count": 33,
   "metadata": {},
   "outputs": [],
   "source": [
    "\n",
    "# The training data: here I'm defining X_train to be a numpy array \n",
    "# consisting of the entries in sample_data_train minus the 'Class' column.\n",
    "# y_train is of course the 'Class' column.\n",
    "\n",
    "X_train = np.array(sample_data_train.iloc[:, :-1])\n",
    "y_train = np.array(sample_data_train.iloc[:, -1])\n",
    "\n",
    "X_train = X_train.reshape(-1, 30)\n",
    "y_train = y_train.reshape(-1, 1)\n",
    "\n",
    "# And the test data:\n",
    "\n",
    "X_test = np.array(sample_data_test.iloc[:, :-1])\n",
    "y_test = np.array(sample_data_test.iloc[:, -1])\n",
    "\n",
    "X_test = X_test.reshape(-1, 30)\n",
    "y_test = y_test.reshape(-1, 1)\n"
   ]
  },
  {
   "cell_type": "code",
   "execution_count": 34,
   "metadata": {},
   "outputs": [
    {
     "name": "stdout",
     "output_type": "stream",
     "text": [
      "(629, 30) <class 'numpy.ndarray'>\n",
      "(629, 1) <class 'numpy.ndarray'>\n",
      "(158, 30) <class 'numpy.ndarray'>\n",
      "(158, 1) <class 'numpy.ndarray'>\n",
      "\n",
      "\n",
      "\n",
      "(629, 2) <class 'numpy.ndarray'>\n",
      "(158, 2) <class 'numpy.ndarray'>\n"
     ]
    }
   ],
   "source": [
    "# Further split the training data into train_train/validation. \n",
    "\n",
    "from sklearn.model_selection import train_test_split\n",
    "\n",
    "X_train_train,X_val,y_train_train,y_val = train_test_split(X_train, y_train,\n",
    "                                                          test_size=.2,\n",
    "                                                          shuffle=True,\n",
    "                                                          stratify=y_train,\n",
    "                                                          random_state=440)\n",
    "\n",
    "# Check out the shape of the data. \n",
    "\n",
    "print(np.shape(X_train_train), type(X_train_train))\n",
    "print(np.shape(y_train_train), type(y_train_train))\n",
    "print(np.shape(X_val), type(X_val))\n",
    "print(np.shape(y_val), type(y_val))\n",
    "print('\\n\\n')\n",
    "print(np.shape(to_categorical(y_train_train)), type(to_categorical(y_train_train)))\n",
    "print(np.shape(to_categorical(y_val)), type(to_categorical(y_val)))"
   ]
  },
  {
   "cell_type": "code",
   "execution_count": 35,
   "metadata": {},
   "outputs": [],
   "source": [
    "## Empty model\n",
    "model = models.Sequential()"
   ]
  },
  {
   "cell_type": "code",
   "execution_count": 36,
   "metadata": {},
   "outputs": [],
   "source": [
    "## Make the layers. ONLY RUN THIS ONCE. Make sure the input_shape matches the number of features.\n",
    "\n",
    "model.add(layers.Dense(30, activation='relu', input_shape=(30,)))\n",
    "\n",
    "model.add(layers.Dense(32, activation='relu'))\n",
    "\n",
    "model.add(layers.Dense(2, activation='softmax'))"
   ]
  },
  {
   "cell_type": "code",
   "execution_count": 37,
   "metadata": {},
   "outputs": [
    {
     "name": "stdout",
     "output_type": "stream",
     "text": [
      "Model: \"sequential\"\n",
      "_________________________________________________________________\n",
      "Layer (type)                 Output Shape              Param #   \n",
      "=================================================================\n",
      "dense (Dense)                (None, 30)                930       \n",
      "_________________________________________________________________\n",
      "dense_1 (Dense)              (None, 32)                992       \n",
      "_________________________________________________________________\n",
      "dense_2 (Dense)              (None, 2)                 66        \n",
      "=================================================================\n",
      "Total params: 1,988\n",
      "Trainable params: 1,988\n",
      "Non-trainable params: 0\n",
      "_________________________________________________________________\n"
     ]
    }
   ],
   "source": [
    "# Gives a model summary\n",
    "\n",
    "model.summary()"
   ]
  },
  {
   "cell_type": "code",
   "execution_count": 38,
   "metadata": {},
   "outputs": [],
   "source": [
    "# Here we compile the model. We use binary cross-entropy. \n",
    "\n",
    "model.compile(optimizer='Adam',\n",
    "                  loss='sparse_categorical_crossentropy',\n",
    "                  metrics=['accuracy'])"
   ]
  },
  {
   "cell_type": "code",
   "execution_count": 39,
   "metadata": {},
   "outputs": [
    {
     "name": "stdout",
     "output_type": "stream",
     "text": [
      "Epoch 1/100\n",
      "26/26 [==============================] - 11s 13ms/step - loss: 0.4775 - accuracy: 0.6796 - val_loss: 0.2841 - val_accuracy: 0.8797\n",
      "Epoch 2/100\n",
      "26/26 [==============================] - 0s 1ms/step - loss: 0.3367 - accuracy: 0.8696 - val_loss: 0.2042 - val_accuracy: 0.9494\n",
      "Epoch 3/100\n",
      "26/26 [==============================] - 0s 1ms/step - loss: 0.2317 - accuracy: 0.9421 - val_loss: 0.1672 - val_accuracy: 0.9430\n",
      "Epoch 4/100\n",
      "26/26 [==============================] - 0s 1ms/step - loss: 0.1875 - accuracy: 0.9555 - val_loss: 0.1476 - val_accuracy: 0.9494\n",
      "Epoch 5/100\n",
      "26/26 [==============================] - 0s 1ms/step - loss: 0.1829 - accuracy: 0.9301 - val_loss: 0.1409 - val_accuracy: 0.9494\n",
      "Epoch 6/100\n",
      "26/26 [==============================] - 0s 1ms/step - loss: 0.1400 - accuracy: 0.9503 - val_loss: 0.1353 - val_accuracy: 0.9494\n",
      "Epoch 7/100\n",
      "26/26 [==============================] - 0s 1ms/step - loss: 0.1554 - accuracy: 0.9424 - val_loss: 0.1348 - val_accuracy: 0.9494\n",
      "Epoch 8/100\n",
      "26/26 [==============================] - 0s 1ms/step - loss: 0.1332 - accuracy: 0.9557 - val_loss: 0.1338 - val_accuracy: 0.9494\n",
      "Epoch 9/100\n",
      "26/26 [==============================] - 0s 1ms/step - loss: 0.1138 - accuracy: 0.9619 - val_loss: 0.1345 - val_accuracy: 0.9494\n",
      "Epoch 10/100\n",
      "26/26 [==============================] - 0s 1ms/step - loss: 0.0971 - accuracy: 0.9659 - val_loss: 0.1340 - val_accuracy: 0.9494\n",
      "Epoch 11/100\n",
      "26/26 [==============================] - 0s 1ms/step - loss: 0.0919 - accuracy: 0.9718 - val_loss: 0.1374 - val_accuracy: 0.9494\n",
      "Epoch 12/100\n",
      "26/26 [==============================] - 0s 1ms/step - loss: 0.1135 - accuracy: 0.9531 - val_loss: 0.1364 - val_accuracy: 0.9494\n",
      "Epoch 13/100\n",
      "26/26 [==============================] - 0s 1ms/step - loss: 0.0862 - accuracy: 0.9681 - val_loss: 0.1384 - val_accuracy: 0.9494\n",
      "Epoch 14/100\n",
      "26/26 [==============================] - 0s 1ms/step - loss: 0.0850 - accuracy: 0.9683 - val_loss: 0.1387 - val_accuracy: 0.9494\n",
      "Epoch 15/100\n",
      "26/26 [==============================] - 0s 1ms/step - loss: 0.0936 - accuracy: 0.9557 - val_loss: 0.1402 - val_accuracy: 0.9494\n",
      "Epoch 16/100\n",
      "26/26 [==============================] - 0s 1ms/step - loss: 0.0948 - accuracy: 0.9591 - val_loss: 0.1420 - val_accuracy: 0.9494\n",
      "Epoch 17/100\n",
      "26/26 [==============================] - 0s 1ms/step - loss: 0.0751 - accuracy: 0.9715 - val_loss: 0.1443 - val_accuracy: 0.9494\n",
      "Epoch 18/100\n",
      "26/26 [==============================] - 0s 1ms/step - loss: 0.0752 - accuracy: 0.9610 - val_loss: 0.1452 - val_accuracy: 0.9494\n",
      "Epoch 19/100\n",
      "26/26 [==============================] - 0s 1ms/step - loss: 0.0728 - accuracy: 0.9670 - val_loss: 0.1487 - val_accuracy: 0.9494\n",
      "Epoch 20/100\n",
      "26/26 [==============================] - 0s 1ms/step - loss: 0.0632 - accuracy: 0.9825 - val_loss: 0.1507 - val_accuracy: 0.9494\n",
      "Epoch 21/100\n",
      "26/26 [==============================] - 0s 1ms/step - loss: 0.0813 - accuracy: 0.9657 - val_loss: 0.1528 - val_accuracy: 0.9494\n",
      "Epoch 22/100\n",
      "26/26 [==============================] - 0s 1ms/step - loss: 0.0629 - accuracy: 0.9752 - val_loss: 0.1557 - val_accuracy: 0.9494\n",
      "Epoch 23/100\n",
      "26/26 [==============================] - 0s 1ms/step - loss: 0.0554 - accuracy: 0.9811 - val_loss: 0.1616 - val_accuracy: 0.9494\n",
      "Epoch 24/100\n",
      "26/26 [==============================] - 0s 1ms/step - loss: 0.0505 - accuracy: 0.9842 - val_loss: 0.1612 - val_accuracy: 0.9494\n",
      "Epoch 25/100\n",
      "26/26 [==============================] - 0s 1ms/step - loss: 0.0489 - accuracy: 0.9823 - val_loss: 0.1638 - val_accuracy: 0.9494\n",
      "Epoch 26/100\n",
      "26/26 [==============================] - 0s 1ms/step - loss: 0.0576 - accuracy: 0.9803 - val_loss: 0.1633 - val_accuracy: 0.9494\n",
      "Epoch 27/100\n",
      "26/26 [==============================] - 0s 1ms/step - loss: 0.0410 - accuracy: 0.9898 - val_loss: 0.1686 - val_accuracy: 0.9494\n",
      "Epoch 28/100\n",
      "26/26 [==============================] - 0s 1ms/step - loss: 0.0326 - accuracy: 0.9924 - val_loss: 0.1684 - val_accuracy: 0.9494\n",
      "Epoch 29/100\n",
      "26/26 [==============================] - 0s 1ms/step - loss: 0.0454 - accuracy: 0.9905 - val_loss: 0.1723 - val_accuracy: 0.9494\n",
      "Epoch 30/100\n",
      "26/26 [==============================] - 0s 1ms/step - loss: 0.0361 - accuracy: 0.9912 - val_loss: 0.1750 - val_accuracy: 0.9494\n",
      "Epoch 31/100\n",
      "26/26 [==============================] - 0s 1ms/step - loss: 0.0436 - accuracy: 0.9880 - val_loss: 0.1796 - val_accuracy: 0.9494\n",
      "Epoch 32/100\n",
      "26/26 [==============================] - 0s 1ms/step - loss: 0.0338 - accuracy: 0.9919 - val_loss: 0.1818 - val_accuracy: 0.9494\n",
      "Epoch 33/100\n",
      "26/26 [==============================] - 0s 1ms/step - loss: 0.0293 - accuracy: 0.9967 - val_loss: 0.1835 - val_accuracy: 0.9494\n",
      "Epoch 34/100\n",
      "26/26 [==============================] - 0s 1ms/step - loss: 0.0259 - accuracy: 0.9984 - val_loss: 0.1871 - val_accuracy: 0.9494\n",
      "Epoch 35/100\n",
      "26/26 [==============================] - 0s 1ms/step - loss: 0.0310 - accuracy: 0.9954 - val_loss: 0.1902 - val_accuracy: 0.9494\n",
      "Epoch 36/100\n",
      "26/26 [==============================] - 0s 1ms/step - loss: 0.0275 - accuracy: 0.9926 - val_loss: 0.1922 - val_accuracy: 0.9494\n",
      "Epoch 37/100\n",
      "26/26 [==============================] - 0s 1ms/step - loss: 0.0223 - accuracy: 0.9976 - val_loss: 0.1960 - val_accuracy: 0.9494\n",
      "Epoch 38/100\n",
      "26/26 [==============================] - 0s 1ms/step - loss: 0.0231 - accuracy: 0.9991 - val_loss: 0.1976 - val_accuracy: 0.9494\n",
      "Epoch 39/100\n",
      "26/26 [==============================] - 0s 1ms/step - loss: 0.0267 - accuracy: 0.9942 - val_loss: 0.1988 - val_accuracy: 0.9494\n",
      "Epoch 40/100\n",
      "26/26 [==============================] - 0s 1ms/step - loss: 0.0209 - accuracy: 0.9966 - val_loss: 0.2022 - val_accuracy: 0.9494\n",
      "Epoch 41/100\n",
      "26/26 [==============================] - 0s 1ms/step - loss: 0.0203 - accuracy: 0.9968 - val_loss: 0.2056 - val_accuracy: 0.9494\n",
      "Epoch 42/100\n",
      "26/26 [==============================] - 0s 1ms/step - loss: 0.0167 - accuracy: 0.9991 - val_loss: 0.2101 - val_accuracy: 0.9494\n",
      "Epoch 43/100\n",
      "26/26 [==============================] - 0s 1ms/step - loss: 0.0200 - accuracy: 0.9942 - val_loss: 0.2131 - val_accuracy: 0.9430\n",
      "Epoch 44/100\n",
      "26/26 [==============================] - 0s 1ms/step - loss: 0.0119 - accuracy: 0.9992 - val_loss: 0.2173 - val_accuracy: 0.9494\n",
      "Epoch 45/100\n",
      "26/26 [==============================] - 0s 1ms/step - loss: 0.0156 - accuracy: 1.0000 - val_loss: 0.2194 - val_accuracy: 0.9494\n",
      "Epoch 46/100\n",
      "26/26 [==============================] - 0s 1ms/step - loss: 0.0145 - accuracy: 0.9992 - val_loss: 0.2257 - val_accuracy: 0.9494\n",
      "Epoch 47/100\n",
      "26/26 [==============================] - 0s 1ms/step - loss: 0.0150 - accuracy: 1.0000 - val_loss: 0.2236 - val_accuracy: 0.9494\n",
      "Epoch 48/100\n",
      "26/26 [==============================] - 0s 1ms/step - loss: 0.0091 - accuracy: 1.0000 - val_loss: 0.2279 - val_accuracy: 0.9367\n",
      "Epoch 49/100\n",
      "26/26 [==============================] - 0s 1ms/step - loss: 0.0125 - accuracy: 1.0000 - val_loss: 0.2349 - val_accuracy: 0.9494\n",
      "Epoch 50/100\n",
      "26/26 [==============================] - 0s 1ms/step - loss: 0.0101 - accuracy: 1.0000 - val_loss: 0.2348 - val_accuracy: 0.9367\n",
      "Epoch 51/100\n",
      "26/26 [==============================] - 0s 1ms/step - loss: 0.0092 - accuracy: 1.0000 - val_loss: 0.2393 - val_accuracy: 0.9367\n",
      "Epoch 52/100\n",
      "26/26 [==============================] - 0s 1ms/step - loss: 0.0084 - accuracy: 1.0000 - val_loss: 0.2396 - val_accuracy: 0.9367\n",
      "Epoch 53/100\n",
      "26/26 [==============================] - 0s 1ms/step - loss: 0.0069 - accuracy: 1.0000 - val_loss: 0.2430 - val_accuracy: 0.9367\n",
      "Epoch 54/100\n",
      "26/26 [==============================] - 0s 1ms/step - loss: 0.0093 - accuracy: 1.0000 - val_loss: 0.2474 - val_accuracy: 0.9367\n",
      "Epoch 55/100\n",
      "26/26 [==============================] - 0s 1ms/step - loss: 0.0061 - accuracy: 1.0000 - val_loss: 0.2478 - val_accuracy: 0.9367\n",
      "Epoch 56/100\n",
      "26/26 [==============================] - 0s 1ms/step - loss: 0.0092 - accuracy: 1.0000 - val_loss: 0.2516 - val_accuracy: 0.9367\n",
      "Epoch 57/100\n",
      "26/26 [==============================] - 0s 1ms/step - loss: 0.0082 - accuracy: 1.0000 - val_loss: 0.2552 - val_accuracy: 0.9367\n",
      "Epoch 58/100\n",
      "26/26 [==============================] - 0s 1ms/step - loss: 0.0069 - accuracy: 1.0000 - val_loss: 0.2590 - val_accuracy: 0.9367\n"
     ]
    },
    {
     "name": "stdout",
     "output_type": "stream",
     "text": [
      "Epoch 59/100\n",
      "26/26 [==============================] - 0s 1ms/step - loss: 0.0069 - accuracy: 1.0000 - val_loss: 0.2619 - val_accuracy: 0.9367\n",
      "Epoch 60/100\n",
      "26/26 [==============================] - 0s 1ms/step - loss: 0.0064 - accuracy: 1.0000 - val_loss: 0.2641 - val_accuracy: 0.9367\n",
      "Epoch 61/100\n",
      "26/26 [==============================] - 0s 1ms/step - loss: 0.0049 - accuracy: 1.0000 - val_loss: 0.2677 - val_accuracy: 0.9367\n",
      "Epoch 62/100\n",
      "26/26 [==============================] - 0s 1ms/step - loss: 0.0051 - accuracy: 1.0000 - val_loss: 0.2709 - val_accuracy: 0.9430\n",
      "Epoch 63/100\n",
      "26/26 [==============================] - 0s 1ms/step - loss: 0.0053 - accuracy: 1.0000 - val_loss: 0.2712 - val_accuracy: 0.9557\n",
      "Epoch 64/100\n",
      "26/26 [==============================] - 0s 1ms/step - loss: 0.0035 - accuracy: 1.0000 - val_loss: 0.2740 - val_accuracy: 0.9430\n",
      "Epoch 65/100\n",
      "26/26 [==============================] - 0s 1ms/step - loss: 0.0048 - accuracy: 1.0000 - val_loss: 0.2826 - val_accuracy: 0.9430\n",
      "Epoch 66/100\n",
      "26/26 [==============================] - 0s 1ms/step - loss: 0.0035 - accuracy: 1.0000 - val_loss: 0.2824 - val_accuracy: 0.9430\n",
      "Epoch 67/100\n",
      "26/26 [==============================] - 0s 1ms/step - loss: 0.0051 - accuracy: 1.0000 - val_loss: 0.2865 - val_accuracy: 0.9430\n",
      "Epoch 68/100\n",
      "26/26 [==============================] - 0s 1ms/step - loss: 0.0048 - accuracy: 1.0000 - val_loss: 0.2866 - val_accuracy: 0.9430\n",
      "Epoch 69/100\n",
      "26/26 [==============================] - 0s 1ms/step - loss: 0.0035 - accuracy: 1.0000 - val_loss: 0.2890 - val_accuracy: 0.9430\n",
      "Epoch 70/100\n",
      "26/26 [==============================] - 0s 1ms/step - loss: 0.0029 - accuracy: 1.0000 - val_loss: 0.2920 - val_accuracy: 0.9430\n",
      "Epoch 71/100\n",
      "26/26 [==============================] - 0s 1ms/step - loss: 0.0028 - accuracy: 1.0000 - val_loss: 0.2958 - val_accuracy: 0.9430\n",
      "Epoch 72/100\n",
      "26/26 [==============================] - 0s 1ms/step - loss: 0.0033 - accuracy: 1.0000 - val_loss: 0.2949 - val_accuracy: 0.9430\n",
      "Epoch 73/100\n",
      "26/26 [==============================] - 0s 1ms/step - loss: 0.0030 - accuracy: 1.0000 - val_loss: 0.2984 - val_accuracy: 0.9430\n",
      "Epoch 74/100\n",
      "26/26 [==============================] - 0s 1ms/step - loss: 0.0026 - accuracy: 1.0000 - val_loss: 0.3001 - val_accuracy: 0.9430\n",
      "Epoch 75/100\n",
      "26/26 [==============================] - 0s 1ms/step - loss: 0.0023 - accuracy: 1.0000 - val_loss: 0.3020 - val_accuracy: 0.9430\n",
      "Epoch 76/100\n",
      "26/26 [==============================] - 0s 1ms/step - loss: 0.0025 - accuracy: 1.0000 - val_loss: 0.3054 - val_accuracy: 0.9430\n",
      "Epoch 77/100\n",
      "26/26 [==============================] - 0s 1ms/step - loss: 0.0025 - accuracy: 1.0000 - val_loss: 0.3059 - val_accuracy: 0.9430\n",
      "Epoch 78/100\n",
      "26/26 [==============================] - 0s 1ms/step - loss: 0.0020 - accuracy: 1.0000 - val_loss: 0.3095 - val_accuracy: 0.9430\n",
      "Epoch 79/100\n",
      "26/26 [==============================] - 0s 1ms/step - loss: 0.0021 - accuracy: 1.0000 - val_loss: 0.3106 - val_accuracy: 0.9430\n",
      "Epoch 80/100\n",
      "26/26 [==============================] - 0s 1ms/step - loss: 0.0025 - accuracy: 1.0000 - val_loss: 0.3120 - val_accuracy: 0.9430\n",
      "Epoch 81/100\n",
      "26/26 [==============================] - 0s 1ms/step - loss: 0.0017 - accuracy: 1.0000 - val_loss: 0.3144 - val_accuracy: 0.9430\n",
      "Epoch 82/100\n",
      "26/26 [==============================] - 0s 1ms/step - loss: 0.0022 - accuracy: 1.0000 - val_loss: 0.3170 - val_accuracy: 0.9430\n",
      "Epoch 83/100\n",
      "26/26 [==============================] - 0s 1ms/step - loss: 0.0021 - accuracy: 1.0000 - val_loss: 0.3196 - val_accuracy: 0.9430\n",
      "Epoch 84/100\n",
      "26/26 [==============================] - 0s 1ms/step - loss: 0.0019 - accuracy: 1.0000 - val_loss: 0.3214 - val_accuracy: 0.9430\n",
      "Epoch 85/100\n",
      "26/26 [==============================] - 0s 1ms/step - loss: 0.0016 - accuracy: 1.0000 - val_loss: 0.3236 - val_accuracy: 0.9494\n",
      "Epoch 86/100\n",
      "26/26 [==============================] - 0s 1ms/step - loss: 0.0018 - accuracy: 1.0000 - val_loss: 0.3237 - val_accuracy: 0.9430\n",
      "Epoch 87/100\n",
      "26/26 [==============================] - 0s 1ms/step - loss: 0.0023 - accuracy: 1.0000 - val_loss: 0.3245 - val_accuracy: 0.9430\n",
      "Epoch 88/100\n",
      "26/26 [==============================] - 0s 1ms/step - loss: 0.0015 - accuracy: 1.0000 - val_loss: 0.3282 - val_accuracy: 0.9494\n",
      "Epoch 89/100\n",
      "26/26 [==============================] - 0s 1ms/step - loss: 0.0018 - accuracy: 1.0000 - val_loss: 0.3310 - val_accuracy: 0.9430\n",
      "Epoch 90/100\n",
      "26/26 [==============================] - 0s 1ms/step - loss: 0.0016 - accuracy: 1.0000 - val_loss: 0.3324 - val_accuracy: 0.9430\n",
      "Epoch 91/100\n",
      "26/26 [==============================] - 0s 1ms/step - loss: 0.0017 - accuracy: 1.0000 - val_loss: 0.3344 - val_accuracy: 0.9430\n",
      "Epoch 92/100\n",
      "26/26 [==============================] - 0s 1ms/step - loss: 0.0014 - accuracy: 1.0000 - val_loss: 0.3368 - val_accuracy: 0.9494\n",
      "Epoch 93/100\n",
      "26/26 [==============================] - 0s 1ms/step - loss: 0.0015 - accuracy: 1.0000 - val_loss: 0.3388 - val_accuracy: 0.9430\n",
      "Epoch 94/100\n",
      "26/26 [==============================] - 0s 1ms/step - loss: 0.0015 - accuracy: 1.0000 - val_loss: 0.3399 - val_accuracy: 0.9494\n",
      "Epoch 95/100\n",
      "26/26 [==============================] - 0s 1ms/step - loss: 0.0011 - accuracy: 1.0000 - val_loss: 0.3402 - val_accuracy: 0.9430\n",
      "Epoch 96/100\n",
      "26/26 [==============================] - 0s 1ms/step - loss: 0.0013 - accuracy: 1.0000 - val_loss: 0.3438 - val_accuracy: 0.9494\n",
      "Epoch 97/100\n",
      "26/26 [==============================] - 0s 1ms/step - loss: 0.0016 - accuracy: 1.0000 - val_loss: 0.3453 - val_accuracy: 0.9494\n",
      "Epoch 98/100\n",
      "26/26 [==============================] - 0s 1ms/step - loss: 0.0013 - accuracy: 1.0000 - val_loss: 0.3476 - val_accuracy: 0.9494\n",
      "Epoch 99/100\n",
      "26/26 [==============================] - 0s 1ms/step - loss: 0.0011 - accuracy: 1.0000 - val_loss: 0.3499 - val_accuracy: 0.9494\n",
      "Epoch 100/100\n",
      "26/26 [==============================] - 0s 1ms/step - loss: 0.0011 - accuracy: 1.0000 - val_loss: 0.3507 - val_accuracy: 0.9494\n"
     ]
    }
   ],
   "source": [
    "# Fitting the data. \n",
    "\n",
    "#history = model.fit(X_train_train,\n",
    "#                        to_categorical(y_train_train),\n",
    "#                        epochs = 100,\n",
    "#                        batch_size = 512,\n",
    "#                        validation_data=(X_val,to_categorical(y_val)))\n",
    "\n",
    "# It looks like sparse_categorical automatically applies to_categorical to y, so use this one\n",
    "# (this includes changed batch size and epochs):\n",
    "\n",
    "history = model.fit(X_train_train,\n",
    "                        y_train_train,\n",
    "                        epochs = 100,\n",
    "                        batch_size = 25,\n",
    "                        validation_data=(X_val,y_val))"
   ]
  },
  {
   "cell_type": "code",
   "execution_count": 40,
   "metadata": {},
   "outputs": [
    {
     "name": "stdout",
     "output_type": "stream",
     "text": [
      "dict_keys(['loss', 'accuracy', 'val_loss', 'val_accuracy'])\n"
     ]
    }
   ],
   "source": [
    "# Examine the results. \n",
    "\n",
    "history_dict = history.history\n",
    "\n",
    "print(history_dict.keys())"
   ]
  },
  {
   "cell_type": "code",
   "execution_count": 41,
   "metadata": {},
   "outputs": [
    {
     "data": {
      "image/png": "[encoded data removed]",
      "text/plain": [
       "<Figure size 720x432 with 1 Axes>"
      ]
     },
     "metadata": {},
     "output_type": "display_data"
    }
   ],
   "source": [
    "# That's... intersting. \n",
    "\n",
    "\n",
    "\n",
    "plt.figure(figsize = (10,6))\n",
    "\n",
    "plt.scatter(range(1,101), history_dict['accuracy'], label = \"Training Accuracy\")\n",
    "plt.scatter(range(1,101), history_dict['val_accuracy'], label = \"Validation Set Accuracy\")\n",
    "\n",
    "plt.xlabel(\"Epoch\", fontsize=18)\n",
    "plt.ylabel(\"Accuracy\", fontsize=18)\n",
    "\n",
    "plt.xticks(fontsize=16)\n",
    "plt.yticks(fontsize=16)\n",
    "\n",
    "plt.legend(fontsize=18)\n",
    "\n",
    "plt.show()"
   ]
  },
  {
   "cell_type": "code",
   "execution_count": 42,
   "metadata": {},
   "outputs": [
    {
     "data": {
      "image/png": "[encoded data removed]",
      "text/plain": [
       "<Figure size 720x432 with 1 Axes>"
      ]
     },
     "metadata": {},
     "output_type": "display_data"
    }
   ],
   "source": [
    "plt.figure(figsize = (10,6))\n",
    "\n",
    "plt.scatter(range(1,101), history_dict['loss'], label = \"Training Loss\")\n",
    "plt.scatter(range(1,101), history_dict['val_loss'], label = \"Validation Set Loss\")\n",
    "\n",
    "plt.xlabel(\"Epoch\", fontsize=18)\n",
    "plt.ylabel(\"Loss Function Value\", fontsize=18)\n",
    "\n",
    "plt.xticks(fontsize=16)\n",
    "plt.yticks(fontsize=16)\n",
    "\n",
    "plt.legend(fontsize=18)\n",
    "\n",
    "plt.show()"
   ]
  },
  {
   "cell_type": "code",
   "execution_count": 43,
   "metadata": {},
   "outputs": [
    {
     "data": {
      "text/plain": [
       "Class\n",
       "0    101\n",
       "1     96\n",
       "dtype: int64"
      ]
     },
     "execution_count": 43,
     "metadata": {},
     "output_type": "execute_result"
    }
   ],
   "source": [
    "# Value counts of test data. \n",
    "\n",
    "sample_data_test.value_counts('Class')"
   ]
  },
  {
   "cell_type": "code",
   "execution_count": 44,
   "metadata": {},
   "outputs": [
    {
     "data": {
      "text/plain": [
       "array([1, 1, 0, 0, 1, 1, 1, 0, 0, 0, 0, 1, 1, 0, 1, 1, 0, 0, 0, 1, 0, 1,\n",
       "       1, 1, 0, 1, 0, 0, 0, 1, 1, 0, 0, 1, 0, 0, 0, 1, 0, 1, 0, 0, 0, 0,\n",
       "       0, 1, 1, 0, 0, 1, 0, 0, 1, 1, 1, 0, 1, 0, 0, 0, 1, 0, 1, 1, 1, 1,\n",
       "       1, 0, 1, 1, 1, 0, 0, 0, 1, 1, 1, 0, 0, 1, 1, 0, 0, 0, 1, 1, 1, 1,\n",
       "       0, 0, 1, 0, 0, 1, 1, 1, 1, 1, 1, 0, 1, 0, 0, 0, 0, 1, 0, 1, 1, 1,\n",
       "       0, 0, 0, 0, 0, 0, 1, 0, 1, 1, 1, 0, 1, 1, 1, 0, 1, 1, 1, 1, 1, 1,\n",
       "       0, 1, 1, 1, 1, 0, 1, 1, 0, 1, 1, 0, 0, 0, 1, 0, 0, 1, 1, 0, 0, 1,\n",
       "       0, 1, 0, 0, 1, 1, 0, 1, 0, 1, 1, 1, 0, 1, 0, 1, 1, 0, 1, 1, 1, 1,\n",
       "       1, 1, 0, 1, 0, 1, 1, 0, 1, 1, 1, 0, 1, 0, 0, 1, 0, 0, 1, 0, 0])"
      ]
     },
     "execution_count": 44,
     "metadata": {},
     "output_type": "execute_result"
    }
   ],
   "source": [
    "# Prediction.\n",
    "\n",
    "\n",
    "\n",
    "y_pred_prob = model.predict(X_test)\n",
    "\n",
    "\n",
    "\n",
    "# Set the threshold probability for valid transactions as p = 0.5. \n",
    "\n",
    "y_pred = []\n",
    "\n",
    "for x in y_pred_prob:\n",
    "    if x[0] > 0.9:\n",
    "        y_pred.append(0)\n",
    "    else:\n",
    "        y_pred.append(1)\n",
    "        \n",
    "y_pred = np.array(y_pred)\n",
    "y_pred"
   ]
  },
  {
   "cell_type": "code",
   "execution_count": 45,
   "metadata": {},
   "outputs": [
    {
     "name": "stdout",
     "output_type": "stream",
     "text": [
      "[[9.9999940e-01 6.2823756e-07]\n",
      " [9.9721968e-01 2.7802824e-03]\n",
      " [9.9982750e-01 1.7250674e-04]\n",
      " ...\n",
      " [9.9868482e-01 1.3152243e-03]\n",
      " [3.3238096e-21 1.0000000e+00]\n",
      " [9.9999988e-01 6.1684176e-08]]\n"
     ]
    },
    {
     "name": "stderr",
     "output_type": "stream",
     "text": [
      "c:\\program files\\python39\\lib\\site-packages\\keras\\engine\\sequential.py:425: UserWarning: `model.predict_proba()` is deprecated and will be removed after 2021-01-01. Please use `model.predict()` instead.\n",
      "  warnings.warn('`model.predict_proba()` is deprecated and '\n"
     ]
    }
   ],
   "source": [
    "#predict the probabilities\n",
    "y_pred_prob_ANN=model.predict_proba(X_train_train)\n",
    "print(y_pred_prob_ANN)\n",
    "\n",
    "#now we can get the ROC\n",
    "roc_curve(y_train_train,y_pred_prob_ANN[:,1])\n",
    "\n",
    "#we get the fpr,tpr,cutoffs\n",
    "fpr_ANN,tpr_ANN,cutoffs_ANN = roc_curve(y_train_train,y_pred_prob_ANN[:,1])\n",
    "\n"
   ]
  },
  {
   "cell_type": "code",
   "execution_count": 46,
   "metadata": {},
   "outputs": [
    {
     "name": "stdout",
     "output_type": "stream",
     "text": [
      "1.0\n"
     ]
    }
   ],
   "source": [
    "#now we can get the AUC\n",
    "auc_ANN=roc_auc_score(y_train_train,y_pred_prob_ANN[:,1])\n",
    "print(auc_ANN)"
   ]
  },
  {
   "cell_type": "code",
   "execution_count": 47,
   "metadata": {},
   "outputs": [
    {
     "data": {
      "image/png": "[encoded data removed]",
      "text/plain": [
       "<Figure size 864x576 with 1 Axes>"
      ]
     },
     "metadata": {},
     "output_type": "display_data"
    }
   ],
   "source": [
    "#plot ROC with AUC\n",
    "plt.figure(figsize=(12,8))\n",
    "\n",
    "plt.plot(fpr_ANN,tpr_ANN,label='AUC ANN= '+str(np.around(auc_ANN,4)))\n",
    "\n",
    "\n",
    "\n",
    "plt.xlabel(\"False Positive Rate\",fontsize=16)\n",
    "plt.ylabel(\"True Positive Rate\",fontsize=16)\n",
    "\n",
    "plt.title(\"ROC Curve\", fontsize=18)\n",
    "plt.xticks(fontsize=12)\n",
    "plt.yticks(fontsize=12)\n",
    "plt.legend(loc='best')\n",
    "plt.show()"
   ]
  },
  {
   "cell_type": "code",
   "execution_count": 48,
   "metadata": {},
   "outputs": [
    {
     "name": "stdout",
     "output_type": "stream",
     "text": [
      "[[87 14]\n",
      " [ 4 92]]\n"
     ]
    }
   ],
   "source": [
    "from sklearn.metrics import confusion_matrix\n",
    "print(confusion_matrix(y_test,y_pred))"
   ]
  },
  {
   "cell_type": "code",
   "execution_count": 49,
   "metadata": {},
   "outputs": [
    {
     "name": "stdout",
     "output_type": "stream",
     "text": [
      "0.9086294416243654\n"
     ]
    }
   ],
   "source": [
    "from sklearn.metrics import accuracy_score\n",
    "accuracy_score_ANN = accuracy_score(y_test,y_pred)\n",
    "print(accuracy_score(y_test,y_pred))"
   ]
  },
  {
   "cell_type": "code",
   "execution_count": 50,
   "metadata": {},
   "outputs": [
    {
     "name": "stdout",
     "output_type": "stream",
     "text": [
      "              precision    recall  f1-score   support\n",
      "\n",
      "           0       0.96      0.86      0.91       101\n",
      "           1       0.87      0.96      0.91        96\n",
      "\n",
      "    accuracy                           0.91       197\n",
      "   macro avg       0.91      0.91      0.91       197\n",
      "weighted avg       0.91      0.91      0.91       197\n",
      "\n"
     ]
    }
   ],
   "source": [
    "from sklearn.metrics import classification_report\n",
    "print(classification_report(y_test,y_pred))\n",
    "\n",
    "precision_score_ANN = precision_score(y_test, y_pred)\n",
    "recall_score_ANN = recall_score(y_test, y_pred)\n",
    "f1_score_ANN = f1_score(y_test, y_pred)"
   ]
  },
  {
   "cell_type": "markdown",
   "metadata": {},
   "source": [
    "# Random Forest"
   ]
  },
  {
   "cell_type": "code",
   "execution_count": 51,
   "metadata": {},
   "outputs": [],
   "source": [
    "# We'll also check random forest (RF) just for comparison. \n",
    "\n",
    "from sklearn.ensemble import RandomForestClassifier\n",
    "\n",
    "#forest_clf = RandomForestClassifier(max_depth = 4, random_state=614)"
   ]
  },
  {
   "cell_type": "code",
   "execution_count": 52,
   "metadata": {},
   "outputs": [],
   "source": [
    "# Have to leave out reshape for this one. This is the sampe 50 / 50 train test split on sample data as defined\n",
    "# in one of the early ANN cells. \n",
    "\n",
    "y_train = np.array(sample_data_train.iloc[:, -1])\n",
    "\n",
    "pipe_RF = Pipeline([('preprocess',StandardScaler()),\n",
    "                ('RandomForest',RandomForestClassifier(max_depth = 4, random_state=614))])\n",
    "\n",
    "\n",
    "pipe_RF.fit(X_train,y_train)\n",
    "\n",
    "# The RF prediction.\n",
    "\n",
    "y_pred_RF = pipe_RF.predict(X_test)\n"
   ]
  },
  {
   "cell_type": "code",
   "execution_count": 53,
   "metadata": {},
   "outputs": [
    {
     "name": "stdout",
     "output_type": "stream",
     "text": [
      "[[3.45601734e-04 9.99654398e-01]\n",
      " [1.32128105e-02 9.86787189e-01]\n",
      " [4.36000328e-03 9.95639997e-01]\n",
      " ...\n",
      " [1.23908244e-02 9.87609176e-01]\n",
      " [8.77526258e-01 1.22473742e-01]\n",
      " [4.22073654e-03 9.95779263e-01]]\n"
     ]
    }
   ],
   "source": [
    "#predict the probabilities\n",
    "y_pred_prob_RF=pipe_RF.predict_proba(X_train)\n",
    "print(y_pred_prob_RF)\n",
    "\n",
    "#now we can get the ROC\n",
    "roc_curve(y_train,y_pred_prob_RF[:,1])\n",
    "\n",
    "#we get the fpr,tpr,cutoffs\n",
    "fpr_RF,tpr_RF,cutoffs_RF = roc_curve(y_train,y_pred_prob_RF[:,1])\n",
    "\n"
   ]
  },
  {
   "cell_type": "code",
   "execution_count": 54,
   "metadata": {},
   "outputs": [
    {
     "name": "stdout",
     "output_type": "stream",
     "text": [
      "0.9932896742359658\n"
     ]
    }
   ],
   "source": [
    "#now we can get the AUC\n",
    "auc_RF=roc_auc_score(y_train,y_pred_prob_RF[:,1])\n",
    "print(auc_RF)"
   ]
  },
  {
   "cell_type": "code",
   "execution_count": 55,
   "metadata": {},
   "outputs": [
    {
     "data": {
      "image/png": "[encoded data removed]",
      "text/plain": [
       "<Figure size 864x576 with 1 Axes>"
      ]
     },
     "metadata": {},
     "output_type": "display_data"
    }
   ],
   "source": [
    "#plot ROC with AUC\n",
    "plt.figure(figsize=(12,8))\n",
    "\n",
    "plt.plot(fpr_RF,tpr_RF,label='AUC RF= '+str(np.around(auc_RF,4)))\n",
    "\n",
    "\n",
    "\n",
    "plt.xlabel(\"False Positive Rate\",fontsize=16)\n",
    "plt.ylabel(\"True Positive Rate\",fontsize=16)\n",
    "\n",
    "plt.title(\"ROC Curve\", fontsize=18)\n",
    "plt.xticks(fontsize=12)\n",
    "plt.yticks(fontsize=12)\n",
    "plt.legend(loc='best')\n",
    "plt.show()"
   ]
  },
  {
   "cell_type": "code",
   "execution_count": 56,
   "metadata": {},
   "outputs": [
    {
     "name": "stdout",
     "output_type": "stream",
     "text": [
      "[[100   1]\n",
      " [ 10  86]]\n",
      "\n",
      "\n",
      "0.9441624365482234\n"
     ]
    }
   ],
   "source": [
    "print(confusion_matrix(y_test,y_pred_RF))\n",
    "print('\\n')\n",
    "\n",
    "accuracy_score_RF = accuracy_score(y_test, y_pred_RF)\n",
    "print(accuracy_score(y_test,y_pred_RF))"
   ]
  },
  {
   "cell_type": "code",
   "execution_count": 57,
   "metadata": {},
   "outputs": [
    {
     "name": "stdout",
     "output_type": "stream",
     "text": [
      "              precision    recall  f1-score   support\n",
      "\n",
      "           0       0.91      0.99      0.95       101\n",
      "           1       0.99      0.90      0.94        96\n",
      "\n",
      "    accuracy                           0.94       197\n",
      "   macro avg       0.95      0.94      0.94       197\n",
      "weighted avg       0.95      0.94      0.94       197\n",
      "\n"
     ]
    }
   ],
   "source": [
    "# And the classification report. \n",
    "\n",
    "print(classification_report(y_test,y_pred_RF))\n",
    "\n",
    "precision_score_RF = precision_score(y_test, y_pred_RF)\n",
    "recall_score_RF = recall_score(y_test, y_pred_RF)\n",
    "f1_score_RF = f1_score(y_test, y_pred_RF)"
   ]
  },
  {
   "cell_type": "markdown",
   "metadata": {},
   "source": [
    "# Support Vector Machine"
   ]
  },
  {
   "cell_type": "code",
   "execution_count": 58,
   "metadata": {},
   "outputs": [
    {
     "name": "stdout",
     "output_type": "stream",
     "text": [
      "Size of data is:  (284807, 30)\n",
      "There are 90 entries in our test set with value 1\n",
      "len(y): 284807 len(y_test): 42722 len(y_train): 242085\n"
     ]
    }
   ],
   "source": [
    "## For data handling\n",
    "import pandas as pd\n",
    "import numpy as np\n",
    "\n",
    "## For plotting\n",
    "import matplotlib.pyplot as plt\n",
    "import seaborn as sns\n",
    "\n",
    "## This sets the plot style\n",
    "## to have a grid on a white background\n",
    "sns.set_style(\"whitegrid\")\n",
    "\n",
    "\n",
    "## Import train/test split \n",
    "from sklearn.model_selection import train_test_split\n",
    "\n",
    "\n",
    "\n",
    "## Import our data with pandas\n",
    "import pandas as pd\n",
    "\n",
    "df = pd.read_csv(r'creditcard.csv')\n",
    "#print (df)\n",
    "np_vers=df.to_numpy()\n",
    "\n",
    "\n",
    "X = np_vers[:,0:30]\n",
    "print('Size of data is: ',str(X.shape))\n",
    "\n",
    "y = np_vers[:,30]\n",
    "\n",
    "\n",
    "## Construct the train/test split\n",
    "## Use random state 471 for reproducibility\n",
    "\n",
    "X_train,X_test,y_train,y_test = train_test_split(X, y, test_size = .15, random_state = 471)\n",
    "print('There are '+str(len(y_test[y_test==1]))+' entries in our test set with value 1')\n",
    "print('len(y): '+str(len(y))+' len(y_test): '+str(len(y_test))+' len(y_train): '+str(len(y_train)))"
   ]
  },
  {
   "cell_type": "code",
   "execution_count": 59,
   "metadata": {},
   "outputs": [
    {
     "name": "stdout",
     "output_type": "stream",
     "text": [
      "On 42722 entries, our accuracy score is: 0.9989934928140068\n",
      "On 90 entries with only 1's our accuracy score is: 0.6333333333333333\n",
      "\n",
      "On 42722 entries, our precision score is: 0.8507462686567164\n",
      "On 90 entries with only 1's our precision score is: 1.0\n",
      "\n",
      "On 42722 entries, our recall score is: 0.6333333333333333\n",
      "On 90 entries with only 1's our recall score is: 0.6333333333333333\n",
      "\n",
      "On 42722 entries, our f1 score is: 0.7261146496815286\n",
      "On 90 entries with only 1's our f1 score is: 0.7755102040816326\n",
      "\n",
      "On 42722 entries, our accuracy score is: 0.9990168999578671\n",
      "On 90 entries with only 1's our accuracy score is: 0.6444444444444445\n",
      "\n",
      "On 42722 entries, our precision score is: 0.8529411764705882\n",
      "On 90 entries with only 1's our precision score is: 1.0\n",
      "\n",
      "On 42722 entries, our recall score is: 0.6444444444444445\n",
      "On 90 entries with only 1's our recall score is: 0.6444444444444445\n",
      "\n",
      "On 42722 entries, our f1 score is: 0.7341772151898734\n",
      "On 90 entries with only 1's our f1 score is: 0.7837837837837839\n",
      "\n"
     ]
    },
    {
     "name": "stderr",
     "output_type": "stream",
     "text": [
      "c:\\program files\\python39\\lib\\site-packages\\sklearn\\svm\\_base.py:985: ConvergenceWarning: Liblinear failed to converge, increase the number of iterations.\n",
      "  warnings.warn(\"Liblinear failed to converge, increase \"\n"
     ]
    },
    {
     "name": "stdout",
     "output_type": "stream",
     "text": [
      "On 42722 entries, our accuracy score is: 0.9990403071017274\n",
      "On 90 entries with only 1's our accuracy score is: 0.6555555555555556\n",
      "\n",
      "On 42722 entries, our precision score is: 0.855072463768116\n",
      "On 90 entries with only 1's our precision score is: 1.0\n",
      "\n",
      "On 42722 entries, our recall score is: 0.6555555555555556\n",
      "On 90 entries with only 1's our recall score is: 0.6555555555555556\n",
      "\n",
      "On 42722 entries, our f1 score is: 0.7421383647798742\n",
      "On 90 entries with only 1's our f1 score is: 0.7919463087248323\n",
      "\n"
     ]
    },
    {
     "name": "stderr",
     "output_type": "stream",
     "text": [
      "c:\\program files\\python39\\lib\\site-packages\\sklearn\\svm\\_base.py:985: ConvergenceWarning: Liblinear failed to converge, increase the number of iterations.\n",
      "  warnings.warn(\"Liblinear failed to converge, increase \"\n"
     ]
    },
    {
     "name": "stdout",
     "output_type": "stream",
     "text": [
      "On 42722 entries, our accuracy score is: 0.9990168999578671\n",
      "On 90 entries with only 1's our accuracy score is: 0.6444444444444445\n",
      "\n",
      "On 42722 entries, our precision score is: 0.8529411764705882\n",
      "On 90 entries with only 1's our precision score is: 1.0\n",
      "\n",
      "On 42722 entries, our recall score is: 0.6444444444444445\n",
      "On 90 entries with only 1's our recall score is: 0.6444444444444445\n",
      "\n",
      "On 42722 entries, our f1 score is: 0.7341772151898734\n",
      "On 90 entries with only 1's our f1 score is: 0.7837837837837839\n",
      "\n"
     ]
    },
    {
     "name": "stderr",
     "output_type": "stream",
     "text": [
      "c:\\program files\\python39\\lib\\site-packages\\sklearn\\svm\\_base.py:985: ConvergenceWarning: Liblinear failed to converge, increase the number of iterations.\n",
      "  warnings.warn(\"Liblinear failed to converge, increase \"\n"
     ]
    },
    {
     "name": "stdout",
     "output_type": "stream",
     "text": [
      "On 42722 entries, our accuracy score is: 0.9989934928140068\n",
      "On 90 entries with only 1's our accuracy score is: 0.6333333333333333\n",
      "\n",
      "On 42722 entries, our precision score is: 0.8507462686567164\n",
      "On 90 entries with only 1's our precision score is: 1.0\n",
      "\n",
      "On 42722 entries, our recall score is: 0.6333333333333333\n",
      "On 90 entries with only 1's our recall score is: 0.6333333333333333\n",
      "\n",
      "On 42722 entries, our f1 score is: 0.7261146496815286\n",
      "On 90 entries with only 1's our f1 score is: 0.7755102040816326\n",
      "\n"
     ]
    },
    {
     "data": {
      "image/png": "[encoded data removed]",
      "text/plain": [
       "<Figure size 432x288 with 1 Axes>"
      ]
     },
     "metadata": {},
     "output_type": "display_data"
    }
   ],
   "source": [
    "## SVMs are scale sensitive\n",
    "## Use the standard scaler on the data\n",
    "from sklearn.preprocessing import StandardScaler\n",
    "from sklearn.pipeline import Pipeline\n",
    "\n",
    "## Import metrics\n",
    "from sklearn.metrics import confusion_matrix\n",
    "\n",
    "## Import ROC curve\n",
    "from sklearn.metrics import plot_precision_recall_curve\n",
    "from sklearn.metrics import plot_roc_curve\n",
    "from sklearn.metrics import roc_curve\n",
    "from sklearn.metrics import roc_auc_score\n",
    "\n",
    "\n",
    "## Import the classifier\n",
    "from sklearn.svm import SVC\n",
    "\n",
    "from sklearn.svm import LinearSVC\n",
    "\n",
    "## Import accuracy measure\n",
    "from sklearn.metrics import accuracy_score,precision_score,recall_score,f1_score\n",
    "\n",
    "\n",
    "## Make arrays where we can store our predictions\n",
    "pred_array = np.zeros((len(y_test),5))\n",
    "pred_array_ones = np.zeros((len(y_test[y_test==1]),5))\n",
    "\n",
    "pred_array_train = np.zeros((len(y_train),5))\n",
    "pred_array_ones_train  = np.zeros((len(y_test[y_test==1]),5))\n",
    "\n",
    "\n",
    "\n",
    "\n",
    "## Now we make the classifier\n",
    "\n",
    "\n",
    "## We will try some other C-values as well\n",
    "\n",
    "list_of_C = [0.01, 0.05, 0.25, 0.5, 0.9]\n",
    "\n",
    "\n",
    "#list_of_C = [0.05]\n",
    "\n",
    "\n",
    "#Create empty accuracy, precision, and recall arrays for plotting (train and test)\n",
    "\n",
    "acc = np.zeros((2,5))\n",
    "prec = np.zeros((2,5))\n",
    "recall = np.zeros((2,5))\n",
    "f1 = np.zeros((2,5))\n",
    "\n",
    "acc_train = np.zeros((2,5))\n",
    "prec_train = np.zeros((2,5))\n",
    "recall_train = np.zeros((2,5))\n",
    "f1_train = np.zeros((2,5))\n",
    "\n",
    "for i in range(0,len(list_of_C)):\n",
    "    \n",
    "    max_margin = Pipeline([('scaler',StandardScaler()),('clf',LinearSVC(C=list_of_C[i],max_iter=60000))])\n",
    "    ## Fit the model\n",
    "    max_margin.fit(X_train,y_train)\n",
    "    ## Transform the test data\n",
    "    X_test_transformed=max_margin['scaler'].transform(X_test)\n",
    "    ## Predict on the test data\n",
    "    pred = max_margin['clf'].predict(X_test_transformed)\n",
    "    for j in range(len(pred)):\n",
    "        pred_array[j,i] = pred[j]\n",
    "    ## Predict on only the fraudulent test data\n",
    "    pred_only_1 = max_margin['clf'].predict(X_test_transformed[y_test == 1,:])\n",
    "\n",
    "\n",
    "    ## Transform the train data\n",
    "    X_train_transformed=max_margin['scaler'].transform(X_train)\n",
    "    ## Predict on the train data\n",
    "    pred_train = max_margin['clf'].predict(X_train_transformed)\n",
    "    for j in range(len(pred)):\n",
    "        pred_array_train[j,i] = pred_train[j]\n",
    "    ## Predict on only the fraudulent train data\n",
    "    pred_only_1_train = max_margin['clf'].predict(X_train_transformed[y_train == 1,:])\n",
    "\n",
    "    \n",
    "   \n",
    "    ## Print the accuracy of our predictions for test data\n",
    "    print('On '+str(len(y_test))+' entries, our accuracy score is: '+str(accuracy_score(y_test,pred)))\n",
    "    print('On '+str(len(y_test[y_test==1]))+' entries with only 1\\'s our accuracy score is: '+str(accuracy_score(y_test[y_test==1],pred_only_1))+'\\n')\n",
    "    \n",
    "    print('On '+str(len(y_test))+' entries, our precision score is: '+str(precision_score(y_test,pred)))\n",
    "    print('On '+str(len(y_test[y_test==1]))+' entries with only 1\\'s our precision score is: '+str(precision_score(y_test[y_test==1],pred_only_1))+'\\n')\n",
    "    \n",
    "    print('On '+str(len(y_test))+' entries, our recall score is: '+str(recall_score(y_test,pred)))\n",
    "    print('On '+str(len(y_test[y_test==1]))+' entries with only 1\\'s our recall score is: '+str(recall_score(y_test[y_test==1],pred_only_1))+'\\n')\n",
    "    \n",
    "    print('On '+str(len(y_test))+' entries, our f1 score is: '+str(f1_score(y_test,pred)))\n",
    "    print('On '+str(len(y_test[y_test==1]))+' entries with only 1\\'s our f1 score is: '+str(f1_score(y_test[y_test==1],pred_only_1))+'\\n')\n",
    "        \n",
    "    \n",
    "    \n",
    "    ## Update arrays for plotting\n",
    "    acc[0,i] = accuracy_score(y_test,pred)\n",
    "    acc[1,i] = accuracy_score(y_test[y_test==1],pred_only_1)\n",
    "    \n",
    "    prec[0,i] = precision_score(y_test,pred)\n",
    "    prec[1,i] = precision_score(y_test[y_test==1],pred_only_1)\n",
    "    \n",
    "    recall[0,i] = recall_score(y_test,pred)\n",
    "    recall[1,i] = recall_score(y_test[y_test==1],pred_only_1)\n",
    "    \n",
    "    f1[0,i] = f1_score(y_test,pred)\n",
    "    f1[1,i] = f1_score(y_test[y_test==1],pred_only_1)\n",
    "    \n",
    "    \n",
    "    \n",
    "    \n",
    "    ## Update training arrays for plotting\n",
    "    acc_train[0,i] = accuracy_score(y_train,pred_train)\n",
    "    acc_train[1,i] = accuracy_score(y_train[y_train==1],pred_only_1_train)\n",
    "    \n",
    "    prec_train[0,i] = precision_score(y_train,pred_train)\n",
    "    prec_train[1,i] = precision_score(y_train[y_train==1],pred_only_1_train)\n",
    "    \n",
    "    recall_train[0,i] = recall_score(y_train,pred_train)\n",
    "    recall_train[1,i] = recall_score(y_train[y_train==1],pred_only_1_train)\n",
    "    \n",
    "    f1_train[0,i] = f1_score(y_train,pred_train)\n",
    "    f1_train[1,i] = f1_score(y_train[y_train==1],pred_only_1_train)\n",
    "    \n",
    "    \n",
    "    \n",
    "## Plot ROC curve for C = 0.05\n",
    "\n",
    "SVM_model = Pipeline([('scaler-roc',StandardScaler()),('clf-roc',SVC(probability = True, C = 0.05, max_iter=5000))])\n",
    "                                             \n",
    "SVM_model.fit(X_train, y_train)\n",
    "X_test_transformed = SVM_model['scaler-roc'].transform(X_test) \n",
    "plot_roc_curve(SVM_model['clf-roc'], X_test_transformed, y_test)\n",
    "\n",
    "\n",
    "## Save the model information for later plotting\n",
    "pred_prob_SVM = SVM_model['clf-roc'].predict_proba(X_test_transformed)\n",
    "fpr_SVM, tpr_SVM, thresh_SVM = roc_curve(y_test, pred_prob_SVM[:,1])\n",
    "auc_SVM = roc_auc_score(y_test,pred_prob_SVM[:,1])"
   ]
  },
  {
   "cell_type": "code",
   "execution_count": 60,
   "metadata": {},
   "outputs": [
    {
     "data": {
      "image/png": "[encoded data removed]",
      "text/plain": [
       "<Figure size 864x576 with 1 Axes>"
      ]
     },
     "metadata": {},
     "output_type": "display_data"
    },
    {
     "data": {
      "image/png": "[encoded data removed]",
      "text/plain": [
       "<Figure size 864x576 with 1 Axes>"
      ]
     },
     "metadata": {},
     "output_type": "display_data"
    },
    {
     "name": "stdout",
     "output_type": "stream",
     "text": [
      "              precision    recall  f1-score   support\n",
      "\n",
      "         0.0       1.00      1.00      1.00     42632\n",
      "         1.0       0.85      0.63      0.73        90\n",
      "\n",
      "    accuracy                           1.00     42722\n",
      "   macro avg       0.92      0.82      0.86     42722\n",
      "weighted avg       1.00      1.00      1.00     42722\n",
      "\n",
      " ------------------------------------------------ \n",
      "\n",
      "              precision    recall  f1-score   support\n",
      "\n",
      "         0.0       1.00      1.00      1.00     42632\n",
      "         1.0       0.85      0.64      0.73        90\n",
      "\n",
      "    accuracy                           1.00     42722\n",
      "   macro avg       0.93      0.82      0.87     42722\n",
      "weighted avg       1.00      1.00      1.00     42722\n",
      "\n",
      " ------------------------------------------------ \n",
      "\n",
      "              precision    recall  f1-score   support\n",
      "\n",
      "         0.0       1.00      1.00      1.00     42632\n",
      "         1.0       0.86      0.66      0.74        90\n",
      "\n",
      "    accuracy                           1.00     42722\n",
      "   macro avg       0.93      0.83      0.87     42722\n",
      "weighted avg       1.00      1.00      1.00     42722\n",
      "\n",
      " ------------------------------------------------ \n",
      "\n",
      "              precision    recall  f1-score   support\n",
      "\n",
      "         0.0       1.00      1.00      1.00     42632\n",
      "         1.0       0.85      0.64      0.73        90\n",
      "\n",
      "    accuracy                           1.00     42722\n",
      "   macro avg       0.93      0.82      0.87     42722\n",
      "weighted avg       1.00      1.00      1.00     42722\n",
      "\n",
      " ------------------------------------------------ \n",
      "\n",
      "              precision    recall  f1-score   support\n",
      "\n",
      "         0.0       1.00      1.00      1.00     42632\n",
      "         1.0       0.85      0.63      0.73        90\n",
      "\n",
      "    accuracy                           1.00     42722\n",
      "   macro avg       0.92      0.82      0.86     42722\n",
      "weighted avg       1.00      1.00      1.00     42722\n",
      "\n",
      " ------------------------------------------------ \n",
      "\n",
      "Confusion Matrix: \n",
      "[[42622    10]\n",
      " [   32    58]]\n"
     ]
    }
   ],
   "source": [
    "## Rename variables for easy reporting\n",
    "\n",
    "precision_score_SVM = prec[0,1]\n",
    "accuracy_score_SVM = acc[0,1]\n",
    "recall_score_SVM = recall[0,1]\n",
    "f1_score_SVM = f1[0,1]\n",
    "\n",
    "list_of_C = [0.01, 0.05, 0.25, 0.5, 0.9]\n",
    "\n",
    "\n",
    "## Plot the validation accuracy measures vs. C here (all data version)\n",
    "\n",
    "plt.figure(figsize=(12,8))\n",
    "\n",
    "plt.plot(list_of_C, (acc[0,:]),'b-o', label=\"Accuracy\")\n",
    "plt.plot(list_of_C, (prec[0,:]),'r-+', label=\"Precision\")\n",
    "plt.plot(list_of_C, (recall[0,:]),'g', label=\"Recall\",linestyle='dashed')\n",
    "\n",
    "\n",
    "plt.xticks(np.arange(0,1,.05))\n",
    "\n",
    "plt.xlabel(\"C value\", fontsize=16)\n",
    "plt.ylabel(\"Testing Accuracy Measures \\n (with all data points)\", fontsize=16)\n",
    "\n",
    "\n",
    "plt.legend()\n",
    "\n",
    "\n",
    "plt.show()\n",
    "\n",
    "## Plot the validation accuracy measures vs. C here (only 1's data version)\n",
    "\n",
    "plt.figure(figsize=(12,8))\n",
    "\n",
    "plt.plot(list_of_C, (acc[1,:]),'b-o', label=\"Accuracy\")\n",
    "plt.plot(list_of_C, (prec[1,:]),'r-+', label=\"Precision\")\n",
    "plt.plot(list_of_C, (recall[1,:]),'g', label=\"Recall\",linestyle='dashed')\n",
    "\n",
    "\n",
    "plt.xticks(np.arange(0,1,.05))\n",
    "\n",
    "plt.xlabel(\"C value\", fontsize=16)\n",
    "plt.ylabel(\"Testing Accuracy Measures \\n (with only 1 valued data points)\", fontsize=16)\n",
    "\n",
    "plt.legend()\n",
    "\n",
    "plt.show()\n",
    "\n",
    "\n",
    "\n",
    "\n",
    "## Print out a classification report for each C value\n",
    "\n",
    "from sklearn.metrics import classification_report\n",
    "\n",
    "for i in range(0,5):\n",
    "    print(classification_report(y_test,pred_array[:,i]))\n",
    "    print(' ------------------------------------------------ \\n')\n",
    "    \n",
    "    \n",
    "    \n",
    "    \n",
    "## Print the confusion matrix for C = 0.05 here\n",
    "\n",
    "from sklearn.metrics import confusion_matrix\n",
    "\n",
    "print(\"Confusion Matrix: \\n\" +str(confusion_matrix(y_test,pred_array[:,1])))"
   ]
  },
  {
   "cell_type": "markdown",
   "metadata": {},
   "source": [
    "# Report"
   ]
  },
  {
   "cell_type": "code",
   "execution_count": 61,
   "metadata": {},
   "outputs": [
    {
     "name": "stdout",
     "output_type": "stream",
     "text": [
      "     Precision score  Recall score  f1 score  Accuracy score\n",
      "LR          0.864407      0.520408  0.649682        0.999034\n",
      "ANN         0.867925      0.958333  0.910891        0.908629\n",
      "SVM         0.852941      0.644444  0.734177        0.999017\n",
      "RF          0.988506      0.895833  0.939891        0.944162\n"
     ]
    }
   ],
   "source": [
    "#Report\n",
    "\n",
    "df_report = pd.DataFrame({ 'Precision score': [precision_score_LR, precision_score_ANN, precision_score_SVM, precision_score_RF],\n",
    "                   'Recall score': [recall_score_LR, recall_score_ANN, recall_score_SVM, recall_score_RF],\n",
    "                          'f1 score': [f1_score_LR, f1_score_ANN, f1_score_SVM, f1_score_RF],\n",
    "                          'Accuracy score': [accuracy_score_LR, accuracy_score_ANN , accuracy_score_SVM, accuracy_score_RF],\n",
    "                         },\n",
    "                  index=['LR','ANN', 'SVM', 'RF'])\n",
    "print(df_report)\n",
    "\n"
   ]
  },
  {
   "cell_type": "code",
   "execution_count": 62,
   "metadata": {},
   "outputs": [
    {
     "data": {
      "image/png": "[encoded data removed]",
      "text/plain": [
       "<Figure size 864x576 with 1 Axes>"
      ]
     },
     "metadata": {},
     "output_type": "display_data"
    }
   ],
   "source": [
    "#plot ROC with AUC\n",
    "plt.figure(figsize=(12,8))\n",
    "\n",
    "plt.plot(fpr_ANN,tpr_ANN,label='AUC ANN= '+str(np.around(auc_ANN,4)))\n",
    "plt.plot(fpr_LR,tpr_LR,label='AUC LR= '+str(np.around(auc_lR,4)))\n",
    "plt.plot(fpr_RF,tpr_RF,label='AUC RF= '+str(np.around(auc_RF,4)))\n",
    "plt.plot(fpr_SVM,tpr_SVM,label='AUC SVM= '+str(np.around(auc_SVM,4)))\n",
    "\n",
    "\n",
    "\n",
    "plt.xlabel(\"False Positive Rate\",fontsize=16)\n",
    "plt.ylabel(\"True Positive Rate\",fontsize=16)\n",
    "\n",
    "plt.title(\"ROC Curve\", fontsize=18)\n",
    "plt.xticks(fontsize=12)\n",
    "plt.yticks(fontsize=12)\n",
    "plt.legend(loc='best')\n",
    "plt.show()"
   ]
  },
  {
   "cell_type": "code",
   "execution_count": null,
   "metadata": {},
   "outputs": [],
   "source": []
  }
 ],
 "metadata": {
  "kernelspec": {
   "display_name": "Python 3",
   "language": "python",
   "name": "python3"
  },
  "language_info": {
   "codemirror_mode": {
    "name": "ipython",
    "version": 3
   },
   "file_extension": ".py",
   "mimetype": "text/x-python",
   "name": "python",
   "nbconvert_exporter": "python",
   "pygments_lexer": "ipython3",
   "version": "3.9.5"
  }
 },
 "nbformat": 4,
 "nbformat_minor": 4
}

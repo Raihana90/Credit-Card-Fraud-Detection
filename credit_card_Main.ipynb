{
 "cells": [
  {
   "cell_type": "markdown",
   "metadata": {},
   "source": [
    "# About the dataset"
   ]
  },
  {
   "cell_type": "code",
   "execution_count": 1,
   "metadata": {},
   "outputs": [],
   "source": [
    "import pandas as pd\n",
    "import numpy as np\n",
    "import seaborn as sns\n",
    "import matplotlib.pyplot as plt\n",
    "sns.set_style(\"whitegrid\")"
   ]
  },
  {
   "cell_type": "code",
   "execution_count": 2,
   "metadata": {},
   "outputs": [
    {
     "name": "stdout",
     "output_type": "stream",
     "text": [
      "There are 284807 observations in the data set.\n",
      "The columns are Index(['Time', 'V1', 'V2', 'V3', 'V4', 'V5', 'V6', 'V7', 'V8', 'V9', 'V10',\n",
      "       'V11', 'V12', 'V13', 'V14', 'V15', 'V16', 'V17', 'V18', 'V19', 'V20',\n",
      "       'V21', 'V22', 'V23', 'V24', 'V25', 'V26', 'V27', 'V28', 'Amount',\n",
      "       'Class'],\n",
      "      dtype='object')\n"
     ]
    }
   ],
   "source": [
    "#read the database\n",
    "df=pd.read_csv(\"creditcard.csv\")\n",
    "#information about the database\n",
    "print(\"There are\", len(df), \"observations in the data set.\")\n",
    "print(\"The columns are\", df.columns)\n"
   ]
  },
  {
   "cell_type": "code",
   "execution_count": 3,
   "metadata": {},
   "outputs": [
    {
     "data": {
      "text/html": [
       "<div>\n",
       "<style scoped>\n",
       "    .dataframe tbody tr th:only-of-type {\n",
       "        vertical-align: middle;\n",
       "    }\n",
       "\n",
       "    .dataframe tbody tr th {\n",
       "        vertical-align: top;\n",
       "    }\n",
       "\n",
       "    .dataframe thead th {\n",
       "        text-align: right;\n",
       "    }\n",
       "</style>\n",
       "<table border=\"1\" class=\"dataframe\">\n",
       "  <thead>\n",
       "    <tr style=\"text-align: right;\">\n",
       "      <th></th>\n",
       "      <th>Time</th>\n",
       "      <th>V1</th>\n",
       "      <th>V2</th>\n",
       "      <th>V3</th>\n",
       "      <th>V4</th>\n",
       "      <th>V5</th>\n",
       "      <th>V6</th>\n",
       "      <th>V7</th>\n",
       "      <th>V8</th>\n",
       "      <th>V9</th>\n",
       "      <th>...</th>\n",
       "      <th>V21</th>\n",
       "      <th>V22</th>\n",
       "      <th>V23</th>\n",
       "      <th>V24</th>\n",
       "      <th>V25</th>\n",
       "      <th>V26</th>\n",
       "      <th>V27</th>\n",
       "      <th>V28</th>\n",
       "      <th>Amount</th>\n",
       "      <th>Class</th>\n",
       "    </tr>\n",
       "  </thead>\n",
       "  <tbody>\n",
       "    <tr>\n",
       "      <th>0</th>\n",
       "      <td>0.0</td>\n",
       "      <td>-1.359807</td>\n",
       "      <td>-0.072781</td>\n",
       "      <td>2.536347</td>\n",
       "      <td>1.378155</td>\n",
       "      <td>-0.338321</td>\n",
       "      <td>0.462388</td>\n",
       "      <td>0.239599</td>\n",
       "      <td>0.098698</td>\n",
       "      <td>0.363787</td>\n",
       "      <td>...</td>\n",
       "      <td>-0.018307</td>\n",
       "      <td>0.277838</td>\n",
       "      <td>-0.110474</td>\n",
       "      <td>0.066928</td>\n",
       "      <td>0.128539</td>\n",
       "      <td>-0.189115</td>\n",
       "      <td>0.133558</td>\n",
       "      <td>-0.021053</td>\n",
       "      <td>149.62</td>\n",
       "      <td>0</td>\n",
       "    </tr>\n",
       "    <tr>\n",
       "      <th>1</th>\n",
       "      <td>0.0</td>\n",
       "      <td>1.191857</td>\n",
       "      <td>0.266151</td>\n",
       "      <td>0.166480</td>\n",
       "      <td>0.448154</td>\n",
       "      <td>0.060018</td>\n",
       "      <td>-0.082361</td>\n",
       "      <td>-0.078803</td>\n",
       "      <td>0.085102</td>\n",
       "      <td>-0.255425</td>\n",
       "      <td>...</td>\n",
       "      <td>-0.225775</td>\n",
       "      <td>-0.638672</td>\n",
       "      <td>0.101288</td>\n",
       "      <td>-0.339846</td>\n",
       "      <td>0.167170</td>\n",
       "      <td>0.125895</td>\n",
       "      <td>-0.008983</td>\n",
       "      <td>0.014724</td>\n",
       "      <td>2.69</td>\n",
       "      <td>0</td>\n",
       "    </tr>\n",
       "    <tr>\n",
       "      <th>2</th>\n",
       "      <td>1.0</td>\n",
       "      <td>-1.358354</td>\n",
       "      <td>-1.340163</td>\n",
       "      <td>1.773209</td>\n",
       "      <td>0.379780</td>\n",
       "      <td>-0.503198</td>\n",
       "      <td>1.800499</td>\n",
       "      <td>0.791461</td>\n",
       "      <td>0.247676</td>\n",
       "      <td>-1.514654</td>\n",
       "      <td>...</td>\n",
       "      <td>0.247998</td>\n",
       "      <td>0.771679</td>\n",
       "      <td>0.909412</td>\n",
       "      <td>-0.689281</td>\n",
       "      <td>-0.327642</td>\n",
       "      <td>-0.139097</td>\n",
       "      <td>-0.055353</td>\n",
       "      <td>-0.059752</td>\n",
       "      <td>378.66</td>\n",
       "      <td>0</td>\n",
       "    </tr>\n",
       "    <tr>\n",
       "      <th>3</th>\n",
       "      <td>1.0</td>\n",
       "      <td>-0.966272</td>\n",
       "      <td>-0.185226</td>\n",
       "      <td>1.792993</td>\n",
       "      <td>-0.863291</td>\n",
       "      <td>-0.010309</td>\n",
       "      <td>1.247203</td>\n",
       "      <td>0.237609</td>\n",
       "      <td>0.377436</td>\n",
       "      <td>-1.387024</td>\n",
       "      <td>...</td>\n",
       "      <td>-0.108300</td>\n",
       "      <td>0.005274</td>\n",
       "      <td>-0.190321</td>\n",
       "      <td>-1.175575</td>\n",
       "      <td>0.647376</td>\n",
       "      <td>-0.221929</td>\n",
       "      <td>0.062723</td>\n",
       "      <td>0.061458</td>\n",
       "      <td>123.50</td>\n",
       "      <td>0</td>\n",
       "    </tr>\n",
       "    <tr>\n",
       "      <th>4</th>\n",
       "      <td>2.0</td>\n",
       "      <td>-1.158233</td>\n",
       "      <td>0.877737</td>\n",
       "      <td>1.548718</td>\n",
       "      <td>0.403034</td>\n",
       "      <td>-0.407193</td>\n",
       "      <td>0.095921</td>\n",
       "      <td>0.592941</td>\n",
       "      <td>-0.270533</td>\n",
       "      <td>0.817739</td>\n",
       "      <td>...</td>\n",
       "      <td>-0.009431</td>\n",
       "      <td>0.798278</td>\n",
       "      <td>-0.137458</td>\n",
       "      <td>0.141267</td>\n",
       "      <td>-0.206010</td>\n",
       "      <td>0.502292</td>\n",
       "      <td>0.219422</td>\n",
       "      <td>0.215153</td>\n",
       "      <td>69.99</td>\n",
       "      <td>0</td>\n",
       "    </tr>\n",
       "  </tbody>\n",
       "</table>\n",
       "<p>5 rows × 31 columns</p>\n",
       "</div>"
      ],
      "text/plain": [
       "   Time        V1        V2        V3        V4        V5        V6        V7  \\\n",
       "0   0.0 -1.359807 -0.072781  2.536347  1.378155 -0.338321  0.462388  0.239599   \n",
       "1   0.0  1.191857  0.266151  0.166480  0.448154  0.060018 -0.082361 -0.078803   \n",
       "2   1.0 -1.358354 -1.340163  1.773209  0.379780 -0.503198  1.800499  0.791461   \n",
       "3   1.0 -0.966272 -0.185226  1.792993 -0.863291 -0.010309  1.247203  0.237609   \n",
       "4   2.0 -1.158233  0.877737  1.548718  0.403034 -0.407193  0.095921  0.592941   \n",
       "\n",
       "         V8        V9  ...       V21       V22       V23       V24       V25  \\\n",
       "0  0.098698  0.363787  ... -0.018307  0.277838 -0.110474  0.066928  0.128539   \n",
       "1  0.085102 -0.255425  ... -0.225775 -0.638672  0.101288 -0.339846  0.167170   \n",
       "2  0.247676 -1.514654  ...  0.247998  0.771679  0.909412 -0.689281 -0.327642   \n",
       "3  0.377436 -1.387024  ... -0.108300  0.005274 -0.190321 -1.175575  0.647376   \n",
       "4 -0.270533  0.817739  ... -0.009431  0.798278 -0.137458  0.141267 -0.206010   \n",
       "\n",
       "        V26       V27       V28  Amount  Class  \n",
       "0 -0.189115  0.133558 -0.021053  149.62      0  \n",
       "1  0.125895 -0.008983  0.014724    2.69      0  \n",
       "2 -0.139097 -0.055353 -0.059752  378.66      0  \n",
       "3 -0.221929  0.062723  0.061458  123.50      0  \n",
       "4  0.502292  0.219422  0.215153   69.99      0  \n",
       "\n",
       "[5 rows x 31 columns]"
      ]
     },
     "execution_count": 3,
     "metadata": {},
     "output_type": "execute_result"
    }
   ],
   "source": [
    "df.head()"
   ]
  },
  {
   "cell_type": "code",
   "execution_count": 4,
   "metadata": {},
   "outputs": [
    {
     "data": {
      "text/plain": [
       "Time      float64\n",
       "V1        float64\n",
       "V2        float64\n",
       "V3        float64\n",
       "V4        float64\n",
       "V5        float64\n",
       "V6        float64\n",
       "V7        float64\n",
       "V8        float64\n",
       "V9        float64\n",
       "V10       float64\n",
       "V11       float64\n",
       "V12       float64\n",
       "V13       float64\n",
       "V14       float64\n",
       "V15       float64\n",
       "V16       float64\n",
       "V17       float64\n",
       "V18       float64\n",
       "V19       float64\n",
       "V20       float64\n",
       "V21       float64\n",
       "V22       float64\n",
       "V23       float64\n",
       "V24       float64\n",
       "V25       float64\n",
       "V26       float64\n",
       "V27       float64\n",
       "V28       float64\n",
       "Amount    float64\n",
       "Class       int64\n",
       "dtype: object"
      ]
     },
     "execution_count": 4,
     "metadata": {},
     "output_type": "execute_result"
    }
   ],
   "source": [
    "#the type of each column\n",
    "df.dtypes"
   ]
  },
  {
   "cell_type": "code",
   "execution_count": 5,
   "metadata": {},
   "outputs": [
    {
     "data": {
      "text/plain": [
       "(284807, 31)"
      ]
     },
     "execution_count": 5,
     "metadata": {},
     "output_type": "execute_result"
    }
   ],
   "source": [
    "#the shape of the database\n",
    "df.shape"
   ]
  },
  {
   "cell_type": "code",
   "execution_count": 6,
   "metadata": {},
   "outputs": [
    {
     "data": {
      "text/html": [
       "<div>\n",
       "<style scoped>\n",
       "    .dataframe tbody tr th:only-of-type {\n",
       "        vertical-align: middle;\n",
       "    }\n",
       "\n",
       "    .dataframe tbody tr th {\n",
       "        vertical-align: top;\n",
       "    }\n",
       "\n",
       "    .dataframe thead th {\n",
       "        text-align: right;\n",
       "    }\n",
       "</style>\n",
       "<table border=\"1\" class=\"dataframe\">\n",
       "  <thead>\n",
       "    <tr style=\"text-align: right;\">\n",
       "      <th></th>\n",
       "      <th>Time</th>\n",
       "      <th>V1</th>\n",
       "      <th>V2</th>\n",
       "      <th>V3</th>\n",
       "      <th>V4</th>\n",
       "      <th>V5</th>\n",
       "      <th>V6</th>\n",
       "      <th>V7</th>\n",
       "      <th>V8</th>\n",
       "      <th>V9</th>\n",
       "      <th>...</th>\n",
       "      <th>V21</th>\n",
       "      <th>V22</th>\n",
       "      <th>V23</th>\n",
       "      <th>V24</th>\n",
       "      <th>V25</th>\n",
       "      <th>V26</th>\n",
       "      <th>V27</th>\n",
       "      <th>V28</th>\n",
       "      <th>Amount</th>\n",
       "      <th>Class</th>\n",
       "    </tr>\n",
       "  </thead>\n",
       "  <tbody>\n",
       "    <tr>\n",
       "      <th>count</th>\n",
       "      <td>284807.000000</td>\n",
       "      <td>2.848070e+05</td>\n",
       "      <td>2.848070e+05</td>\n",
       "      <td>2.848070e+05</td>\n",
       "      <td>2.848070e+05</td>\n",
       "      <td>2.848070e+05</td>\n",
       "      <td>2.848070e+05</td>\n",
       "      <td>2.848070e+05</td>\n",
       "      <td>2.848070e+05</td>\n",
       "      <td>2.848070e+05</td>\n",
       "      <td>...</td>\n",
       "      <td>2.848070e+05</td>\n",
       "      <td>2.848070e+05</td>\n",
       "      <td>2.848070e+05</td>\n",
       "      <td>2.848070e+05</td>\n",
       "      <td>2.848070e+05</td>\n",
       "      <td>2.848070e+05</td>\n",
       "      <td>2.848070e+05</td>\n",
       "      <td>2.848070e+05</td>\n",
       "      <td>284807.000000</td>\n",
       "      <td>284807.000000</td>\n",
       "    </tr>\n",
       "    <tr>\n",
       "      <th>mean</th>\n",
       "      <td>94813.859575</td>\n",
       "      <td>3.919560e-15</td>\n",
       "      <td>5.688174e-16</td>\n",
       "      <td>-8.769071e-15</td>\n",
       "      <td>2.782312e-15</td>\n",
       "      <td>-1.552563e-15</td>\n",
       "      <td>2.010663e-15</td>\n",
       "      <td>-1.694249e-15</td>\n",
       "      <td>-1.927028e-16</td>\n",
       "      <td>-3.137024e-15</td>\n",
       "      <td>...</td>\n",
       "      <td>1.537294e-16</td>\n",
       "      <td>7.959909e-16</td>\n",
       "      <td>5.367590e-16</td>\n",
       "      <td>4.458112e-15</td>\n",
       "      <td>1.453003e-15</td>\n",
       "      <td>1.699104e-15</td>\n",
       "      <td>-3.660161e-16</td>\n",
       "      <td>-1.206049e-16</td>\n",
       "      <td>88.349619</td>\n",
       "      <td>0.001727</td>\n",
       "    </tr>\n",
       "    <tr>\n",
       "      <th>std</th>\n",
       "      <td>47488.145955</td>\n",
       "      <td>1.958696e+00</td>\n",
       "      <td>1.651309e+00</td>\n",
       "      <td>1.516255e+00</td>\n",
       "      <td>1.415869e+00</td>\n",
       "      <td>1.380247e+00</td>\n",
       "      <td>1.332271e+00</td>\n",
       "      <td>1.237094e+00</td>\n",
       "      <td>1.194353e+00</td>\n",
       "      <td>1.098632e+00</td>\n",
       "      <td>...</td>\n",
       "      <td>7.345240e-01</td>\n",
       "      <td>7.257016e-01</td>\n",
       "      <td>6.244603e-01</td>\n",
       "      <td>6.056471e-01</td>\n",
       "      <td>5.212781e-01</td>\n",
       "      <td>4.822270e-01</td>\n",
       "      <td>4.036325e-01</td>\n",
       "      <td>3.300833e-01</td>\n",
       "      <td>250.120109</td>\n",
       "      <td>0.041527</td>\n",
       "    </tr>\n",
       "    <tr>\n",
       "      <th>min</th>\n",
       "      <td>0.000000</td>\n",
       "      <td>-5.640751e+01</td>\n",
       "      <td>-7.271573e+01</td>\n",
       "      <td>-4.832559e+01</td>\n",
       "      <td>-5.683171e+00</td>\n",
       "      <td>-1.137433e+02</td>\n",
       "      <td>-2.616051e+01</td>\n",
       "      <td>-4.355724e+01</td>\n",
       "      <td>-7.321672e+01</td>\n",
       "      <td>-1.343407e+01</td>\n",
       "      <td>...</td>\n",
       "      <td>-3.483038e+01</td>\n",
       "      <td>-1.093314e+01</td>\n",
       "      <td>-4.480774e+01</td>\n",
       "      <td>-2.836627e+00</td>\n",
       "      <td>-1.029540e+01</td>\n",
       "      <td>-2.604551e+00</td>\n",
       "      <td>-2.256568e+01</td>\n",
       "      <td>-1.543008e+01</td>\n",
       "      <td>0.000000</td>\n",
       "      <td>0.000000</td>\n",
       "    </tr>\n",
       "    <tr>\n",
       "      <th>25%</th>\n",
       "      <td>54201.500000</td>\n",
       "      <td>-9.203734e-01</td>\n",
       "      <td>-5.985499e-01</td>\n",
       "      <td>-8.903648e-01</td>\n",
       "      <td>-8.486401e-01</td>\n",
       "      <td>-6.915971e-01</td>\n",
       "      <td>-7.682956e-01</td>\n",
       "      <td>-5.540759e-01</td>\n",
       "      <td>-2.086297e-01</td>\n",
       "      <td>-6.430976e-01</td>\n",
       "      <td>...</td>\n",
       "      <td>-2.283949e-01</td>\n",
       "      <td>-5.423504e-01</td>\n",
       "      <td>-1.618463e-01</td>\n",
       "      <td>-3.545861e-01</td>\n",
       "      <td>-3.171451e-01</td>\n",
       "      <td>-3.269839e-01</td>\n",
       "      <td>-7.083953e-02</td>\n",
       "      <td>-5.295979e-02</td>\n",
       "      <td>5.600000</td>\n",
       "      <td>0.000000</td>\n",
       "    </tr>\n",
       "    <tr>\n",
       "      <th>50%</th>\n",
       "      <td>84692.000000</td>\n",
       "      <td>1.810880e-02</td>\n",
       "      <td>6.548556e-02</td>\n",
       "      <td>1.798463e-01</td>\n",
       "      <td>-1.984653e-02</td>\n",
       "      <td>-5.433583e-02</td>\n",
       "      <td>-2.741871e-01</td>\n",
       "      <td>4.010308e-02</td>\n",
       "      <td>2.235804e-02</td>\n",
       "      <td>-5.142873e-02</td>\n",
       "      <td>...</td>\n",
       "      <td>-2.945017e-02</td>\n",
       "      <td>6.781943e-03</td>\n",
       "      <td>-1.119293e-02</td>\n",
       "      <td>4.097606e-02</td>\n",
       "      <td>1.659350e-02</td>\n",
       "      <td>-5.213911e-02</td>\n",
       "      <td>1.342146e-03</td>\n",
       "      <td>1.124383e-02</td>\n",
       "      <td>22.000000</td>\n",
       "      <td>0.000000</td>\n",
       "    </tr>\n",
       "    <tr>\n",
       "      <th>75%</th>\n",
       "      <td>139320.500000</td>\n",
       "      <td>1.315642e+00</td>\n",
       "      <td>8.037239e-01</td>\n",
       "      <td>1.027196e+00</td>\n",
       "      <td>7.433413e-01</td>\n",
       "      <td>6.119264e-01</td>\n",
       "      <td>3.985649e-01</td>\n",
       "      <td>5.704361e-01</td>\n",
       "      <td>3.273459e-01</td>\n",
       "      <td>5.971390e-01</td>\n",
       "      <td>...</td>\n",
       "      <td>1.863772e-01</td>\n",
       "      <td>5.285536e-01</td>\n",
       "      <td>1.476421e-01</td>\n",
       "      <td>4.395266e-01</td>\n",
       "      <td>3.507156e-01</td>\n",
       "      <td>2.409522e-01</td>\n",
       "      <td>9.104512e-02</td>\n",
       "      <td>7.827995e-02</td>\n",
       "      <td>77.165000</td>\n",
       "      <td>0.000000</td>\n",
       "    </tr>\n",
       "    <tr>\n",
       "      <th>max</th>\n",
       "      <td>172792.000000</td>\n",
       "      <td>2.454930e+00</td>\n",
       "      <td>2.205773e+01</td>\n",
       "      <td>9.382558e+00</td>\n",
       "      <td>1.687534e+01</td>\n",
       "      <td>3.480167e+01</td>\n",
       "      <td>7.330163e+01</td>\n",
       "      <td>1.205895e+02</td>\n",
       "      <td>2.000721e+01</td>\n",
       "      <td>1.559499e+01</td>\n",
       "      <td>...</td>\n",
       "      <td>2.720284e+01</td>\n",
       "      <td>1.050309e+01</td>\n",
       "      <td>2.252841e+01</td>\n",
       "      <td>4.584549e+00</td>\n",
       "      <td>7.519589e+00</td>\n",
       "      <td>3.517346e+00</td>\n",
       "      <td>3.161220e+01</td>\n",
       "      <td>3.384781e+01</td>\n",
       "      <td>25691.160000</td>\n",
       "      <td>1.000000</td>\n",
       "    </tr>\n",
       "  </tbody>\n",
       "</table>\n",
       "<p>8 rows × 31 columns</p>\n",
       "</div>"
      ],
      "text/plain": [
       "                Time            V1            V2            V3            V4  \\\n",
       "count  284807.000000  2.848070e+05  2.848070e+05  2.848070e+05  2.848070e+05   \n",
       "mean    94813.859575  3.919560e-15  5.688174e-16 -8.769071e-15  2.782312e-15   \n",
       "std     47488.145955  1.958696e+00  1.651309e+00  1.516255e+00  1.415869e+00   \n",
       "min         0.000000 -5.640751e+01 -7.271573e+01 -4.832559e+01 -5.683171e+00   \n",
       "25%     54201.500000 -9.203734e-01 -5.985499e-01 -8.903648e-01 -8.486401e-01   \n",
       "50%     84692.000000  1.810880e-02  6.548556e-02  1.798463e-01 -1.984653e-02   \n",
       "75%    139320.500000  1.315642e+00  8.037239e-01  1.027196e+00  7.433413e-01   \n",
       "max    172792.000000  2.454930e+00  2.205773e+01  9.382558e+00  1.687534e+01   \n",
       "\n",
       "                 V5            V6            V7            V8            V9  \\\n",
       "count  2.848070e+05  2.848070e+05  2.848070e+05  2.848070e+05  2.848070e+05   \n",
       "mean  -1.552563e-15  2.010663e-15 -1.694249e-15 -1.927028e-16 -3.137024e-15   \n",
       "std    1.380247e+00  1.332271e+00  1.237094e+00  1.194353e+00  1.098632e+00   \n",
       "min   -1.137433e+02 -2.616051e+01 -4.355724e+01 -7.321672e+01 -1.343407e+01   \n",
       "25%   -6.915971e-01 -7.682956e-01 -5.540759e-01 -2.086297e-01 -6.430976e-01   \n",
       "50%   -5.433583e-02 -2.741871e-01  4.010308e-02  2.235804e-02 -5.142873e-02   \n",
       "75%    6.119264e-01  3.985649e-01  5.704361e-01  3.273459e-01  5.971390e-01   \n",
       "max    3.480167e+01  7.330163e+01  1.205895e+02  2.000721e+01  1.559499e+01   \n",
       "\n",
       "       ...           V21           V22           V23           V24  \\\n",
       "count  ...  2.848070e+05  2.848070e+05  2.848070e+05  2.848070e+05   \n",
       "mean   ...  1.537294e-16  7.959909e-16  5.367590e-16  4.458112e-15   \n",
       "std    ...  7.345240e-01  7.257016e-01  6.244603e-01  6.056471e-01   \n",
       "min    ... -3.483038e+01 -1.093314e+01 -4.480774e+01 -2.836627e+00   \n",
       "25%    ... -2.283949e-01 -5.423504e-01 -1.618463e-01 -3.545861e-01   \n",
       "50%    ... -2.945017e-02  6.781943e-03 -1.119293e-02  4.097606e-02   \n",
       "75%    ...  1.863772e-01  5.285536e-01  1.476421e-01  4.395266e-01   \n",
       "max    ...  2.720284e+01  1.050309e+01  2.252841e+01  4.584549e+00   \n",
       "\n",
       "                V25           V26           V27           V28         Amount  \\\n",
       "count  2.848070e+05  2.848070e+05  2.848070e+05  2.848070e+05  284807.000000   \n",
       "mean   1.453003e-15  1.699104e-15 -3.660161e-16 -1.206049e-16      88.349619   \n",
       "std    5.212781e-01  4.822270e-01  4.036325e-01  3.300833e-01     250.120109   \n",
       "min   -1.029540e+01 -2.604551e+00 -2.256568e+01 -1.543008e+01       0.000000   \n",
       "25%   -3.171451e-01 -3.269839e-01 -7.083953e-02 -5.295979e-02       5.600000   \n",
       "50%    1.659350e-02 -5.213911e-02  1.342146e-03  1.124383e-02      22.000000   \n",
       "75%    3.507156e-01  2.409522e-01  9.104512e-02  7.827995e-02      77.165000   \n",
       "max    7.519589e+00  3.517346e+00  3.161220e+01  3.384781e+01   25691.160000   \n",
       "\n",
       "               Class  \n",
       "count  284807.000000  \n",
       "mean        0.001727  \n",
       "std         0.041527  \n",
       "min         0.000000  \n",
       "25%         0.000000  \n",
       "50%         0.000000  \n",
       "75%         0.000000  \n",
       "max         1.000000  \n",
       "\n",
       "[8 rows x 31 columns]"
      ]
     },
     "execution_count": 6,
     "metadata": {},
     "output_type": "execute_result"
    }
   ],
   "source": [
    "#Information of the database\n",
    "df.describe()"
   ]
  },
  {
   "cell_type": "code",
   "execution_count": 7,
   "metadata": {},
   "outputs": [
    {
     "data": {
      "text/plain": [
       "False"
      ]
     },
     "execution_count": 7,
     "metadata": {},
     "output_type": "execute_result"
    }
   ],
   "source": [
    "#Check if there a null value in the database\n",
    "df.isnull().values.any()"
   ]
  },
  {
   "cell_type": "markdown",
   "metadata": {},
   "source": [
    "# Data visualization "
   ]
  },
  {
   "cell_type": "code",
   "execution_count": 8,
   "metadata": {},
   "outputs": [
    {
     "data": {
      "text/plain": [
       "0    284315\n",
       "1       492\n",
       "Name: Class, dtype: int64"
      ]
     },
     "execution_count": 8,
     "metadata": {},
     "output_type": "execute_result"
    }
   ],
   "source": [
    "#check how many classes that we have and what is the value of each class.\n",
    "df[\"Class\"].value_counts()"
   ]
  },
  {
   "cell_type": "code",
   "execution_count": 9,
   "metadata": {},
   "outputs": [
    {
     "data": {
      "text/plain": [
       "Text(0, 0.5, 'Frequency')"
      ]
     },
     "execution_count": 9,
     "metadata": {},
     "output_type": "execute_result"
    },
    {
     "data": {
      "image/png": "[encoded data removed]",
      "text/plain": [
       "<Figure size 648x576 with 1 Axes>"
      ]
     },
     "metadata": {},
     "output_type": "display_data"
    }
   ],
   "source": [
    "#plot the classes\n",
    "plt.figure(figsize = (9,8))\n",
    "df[\"Class\"].value_counts().plot(kind='bar')\n",
    "plt.title(\"Transaction Class Distribution\")\n",
    "\n",
    "plt.xticks(range(2),  [\"Normal\", \"Fraud\"])\n",
    "\n",
    "plt.xlabel(\"Class\")\n",
    "\n",
    "plt.ylabel(\"Frequency\")"
   ]
  },
  {
   "cell_type": "code",
   "execution_count": 10,
   "metadata": {},
   "outputs": [
    {
     "data": {
      "text/plain": [
       "<seaborn.axisgrid.FacetGrid at 0x1117f5970>"
      ]
     },
     "execution_count": 10,
     "metadata": {},
     "output_type": "execute_result"
    },
    {
     "data": {
      "image/png": "[encoded data removed]",
      "text/plain": [
       "<Figure size 401.625x360 with 1 Axes>"
      ]
     },
     "metadata": {},
     "output_type": "display_data"
    }
   ],
   "source": [
    "#plot \n",
    "sns.relplot(x='Amount', y='Time', hue='Class', data=df)\n"
   ]
  },
  {
   "cell_type": "code",
   "execution_count": 11,
   "metadata": {},
   "outputs": [
    {
     "data": {
      "image/png": "[encoded data removed]",
      "text/plain": [
       "<Figure size 576x576 with 1 Axes>"
      ]
     },
     "metadata": {},
     "output_type": "display_data"
    }
   ],
   "source": [
    "#plot amount according to class\n",
    "#There are two classes 0 and 1\n",
    "plt.figure(figsize = (8,8))\n",
    "\n",
    "\n",
    "plt.scatter(df.Amount, df.Class, marker='+',color='red')\n",
    "\n",
    "\n",
    "plt.xlabel(\"Amount\", fontsize =16)\n",
    "\n",
    "\n",
    "plt.ylabel(\"Class\", fontsize = 16)\n",
    "\n",
    "\n",
    "plt.show()"
   ]
  },
  {
   "cell_type": "markdown",
   "metadata": {},
   "source": [
    "# Models"
   ]
  },
  {
   "cell_type": "markdown",
   "metadata": {},
   "source": [
    "#### Now, we use the training set to build an accurate model. Then use the test set to report the accuracy of the model. We use the following algorithms:\n",
    "\n",
    "-Logistic Regression.\n",
    "\n",
    "-Support Vector Machine.\n",
    "\n",
    "-Artificial Neural network.\n",
    "\n"
   ]
  },
  {
   "cell_type": "markdown",
   "metadata": {},
   "source": [
    "# Logistic Regression"
   ]
  },
  {
   "cell_type": "code",
   "execution_count": 12,
   "metadata": {},
   "outputs": [],
   "source": [
    "## First import the package\n",
    "from sklearn.model_selection import train_test_split"
   ]
  },
  {
   "cell_type": "code",
   "execution_count": 13,
   "metadata": {},
   "outputs": [],
   "source": [
    "###Separate features\n",
    "X_LR=df.iloc[:,:-1]\n",
    "y_LR=df.iloc[:,-1]\n"
   ]
  },
  {
   "cell_type": "code",
   "execution_count": 14,
   "metadata": {},
   "outputs": [],
   "source": [
    "## Now split the data\n",
    "## Have 20% for testing\n",
    "## Set 40 as the random state\n",
    "## and stratify the split\n",
    "X_train_LR, X_test_LR, y_train_LR, y_test_LR=train_test_split(X_LR,y_LR,\n",
    "                                                  test_size=.2,\n",
    "                                                  random_state=40,\n",
    "                                                  shuffle=True,\n",
    "                                                  stratify=y_LR)"
   ]
  },
  {
   "cell_type": "code",
   "execution_count": 15,
   "metadata": {},
   "outputs": [],
   "source": [
    "#Use a pipeline with StandardScaler and LogisticRegression\n",
    "from sklearn.linear_model import LogisticRegression\n",
    "from sklearn.preprocessing import StandardScaler\n",
    "from sklearn.pipeline import Pipeline\n",
    "pipe_LR = Pipeline([('preprocess',StandardScaler()),\n",
    "                ('Lreg',LogisticRegression())])\n",
    "\n",
    "\n"
   ]
  },
  {
   "cell_type": "code",
   "execution_count": 16,
   "metadata": {},
   "outputs": [
    {
     "data": {
      "text/plain": [
       "Pipeline(steps=[('preprocess', StandardScaler()),\n",
       "                ('Lreg', LogisticRegression())])"
      ]
     },
     "execution_count": 16,
     "metadata": {},
     "output_type": "execute_result"
    }
   ],
   "source": [
    "## Fit the model here\n",
    "pipe_LR.fit(X_train_LR,y_train_LR)"
   ]
  },
  {
   "cell_type": "code",
   "execution_count": 60,
   "metadata": {},
   "outputs": [
    {
     "name": "stdout",
     "output_type": "stream",
     "text": [
      "[0 0 0 ... 0 0 0]\n",
      "0.9991770645554681\n",
      "0.8819444444444444\n",
      "0.6446700507614214\n",
      "0.99923632293884\n"
     ]
    }
   ],
   "source": [
    "## get the predictions X_train\n",
    "y_pred_train_LR=pipe_LR.predict(X_train_LR)\n",
    "print(y_pred_train_LR)\n",
    "# now we can get the evaluation score for training data\n",
    "from sklearn.metrics import accuracy_score\n",
    "from sklearn.metrics import precision_score\n",
    "from sklearn.metrics import recall_score\n",
    "from sklearn.metrics import f1_score\n",
    "\n",
    "precision_score_LR_train=precision_score(y_train_LR,y_pred_train_LR)\n",
    "recall_score_LR_train=recall_score(y_train_LR,y_pred_train_LR)\n",
    "f1_score_LR_train=f1_score(y_train_LR,y_pred_train_LR, average='weighted')\n",
    "accuracy_score_LR_train=accuracy_score(y_train_LR,y_pred_train_LR)\n",
    "\n",
    "\n",
    "print(f1_score_LR_train)\n",
    "print(precision_score_LR_train)\n",
    "print(recall_score_LR_train)\n",
    "print(accuracy_score_LR_train)\n",
    "\n",
    "\n",
    "\n"
   ]
  },
  {
   "cell_type": "code",
   "execution_count": 18,
   "metadata": {},
   "outputs": [
    {
     "name": "stdout",
     "output_type": "stream",
     "text": [
      "[[9.99720769e-01 2.79230799e-04]\n",
      " [9.99489230e-01 5.10770122e-04]\n",
      " [9.99956019e-01 4.39805563e-05]\n",
      " ...\n",
      " [9.99759254e-01 2.40745586e-04]\n",
      " [9.99910876e-01 8.91239720e-05]\n",
      " [9.98644453e-01 1.35554728e-03]]\n"
     ]
    }
   ],
   "source": [
    "#predict the probabilities\n",
    "y_pred_prob_LR=pipe_LR.predict_proba(X_train_LR)\n",
    "print(y_pred_prob_LR)\n",
    "\n"
   ]
  },
  {
   "cell_type": "code",
   "execution_count": 19,
   "metadata": {},
   "outputs": [
    {
     "data": {
      "text/plain": [
       "(array([0.        , 0.        , 0.        , ..., 0.99919543, 0.99920422,\n",
       "        1.        ]),\n",
       " array([0.        , 0.00253807, 0.00761421, ..., 1.        , 1.        ,\n",
       "        1.        ]),\n",
       " array([2.00000000e+00, 1.00000000e+00, 1.00000000e+00, ...,\n",
       "        1.68082593e-10, 1.61854618e-10, 5.40513592e-13]))"
      ]
     },
     "execution_count": 19,
     "metadata": {},
     "output_type": "execute_result"
    }
   ],
   "source": [
    "#now we can get the ROC\n",
    "from sklearn.metrics import roc_curve\n",
    "\n",
    "roc_curve(y_train_LR,y_pred_prob_LR[:,1])"
   ]
  },
  {
   "cell_type": "code",
   "execution_count": 20,
   "metadata": {},
   "outputs": [],
   "source": [
    "#we get the fpr,tpr,cutoffs\n",
    "fpr_LR,tpr_LR,cutoffs_LR = roc_curve(y_train_LR,y_pred_prob_LR[:,1])"
   ]
  },
  {
   "cell_type": "code",
   "execution_count": 21,
   "metadata": {},
   "outputs": [
    {
     "name": "stdout",
     "output_type": "stream",
     "text": [
      "0.98006714091842\n"
     ]
    }
   ],
   "source": [
    "#now we can get the AUC\n",
    "from sklearn.metrics import roc_auc_score\n",
    "auc_lR=roc_auc_score(y_train_LR,y_pred_prob_LR[:,1])\n",
    "print(auc_lR)"
   ]
  },
  {
   "cell_type": "code",
   "execution_count": 22,
   "metadata": {},
   "outputs": [
    {
     "data": {
      "image/png": "[encoded data removed]",
      "text/plain": [
       "<Figure size 864x576 with 1 Axes>"
      ]
     },
     "metadata": {},
     "output_type": "display_data"
    }
   ],
   "source": [
    "#plot ROC with AUC\n",
    "plt.figure(figsize=(12,8))\n",
    "\n",
    "plt.plot(fpr_LR,tpr_LR,label='AUC LR= '+str(np.around(auc_lR,4)))\n",
    "\n",
    "\n",
    "\n",
    "plt.xlabel(\"False Positive Rate\",fontsize=16)\n",
    "plt.ylabel(\"True Positive Rate\",fontsize=16)\n",
    "\n",
    "plt.title(\"ROC Curve\", fontsize=18)\n",
    "plt.xticks(fontsize=12)\n",
    "plt.yticks(fontsize=12)\n",
    "plt.legend(loc='best')\n",
    "plt.show()"
   ]
  },
  {
   "cell_type": "code",
   "execution_count": 61,
   "metadata": {},
   "outputs": [
    {
     "name": "stdout",
     "output_type": "stream",
     "text": [
      "[0 0 0 ... 0 0 0]\n"
     ]
    }
   ],
   "source": [
    "## get the predictions X_test\n",
    "y_pred_test_LR=pipe_LR.predict(X_test_LR)\n",
    "print(y_pred_test_LR)\n"
   ]
  },
  {
   "cell_type": "code",
   "execution_count": 24,
   "metadata": {},
   "outputs": [
    {
     "name": "stdout",
     "output_type": "stream",
     "text": [
      "[[56856     8]\n",
      " [   47    51]]\n"
     ]
    }
   ],
   "source": [
    "# now we can get the confusion matrix\n",
    "from sklearn.metrics import confusion_matrix\n",
    "print(confusion_matrix(y_test_LR,y_pred_test_LR))"
   ]
  },
  {
   "cell_type": "code",
   "execution_count": 62,
   "metadata": {},
   "outputs": [
    {
     "name": "stdout",
     "output_type": "stream",
     "text": [
      "0.998914683771136\n",
      "0.864406779661017\n",
      "0.5204081632653061\n",
      "0.9990344440153085\n"
     ]
    }
   ],
   "source": [
    "# now we can get the precision score, recall score and f1 score\n",
    "from sklearn.metrics import precision_score\n",
    "from sklearn.metrics import recall_score\n",
    "from sklearn.metrics import f1_score\n",
    "precision_score_LR=precision_score(y_test_LR,y_pred_test_LR)\n",
    "recall_score_LR=recall_score(y_test_LR,y_pred_test_LR)\n",
    "f1_score_LR=f1_score(y_test_LR,y_pred_test_LR, average='weighted')\n",
    "accuracy_score_LR=accuracy_score(y_test_LR,y_pred_test_LR)\n",
    "print(f1_score_LR)\n",
    "print(precision_score_LR)\n",
    "print(recall_score_LR)\n",
    "print(accuracy_score_LR)"
   ]
  },
  {
   "cell_type": "code",
   "execution_count": 26,
   "metadata": {},
   "outputs": [
    {
     "name": "stdout",
     "output_type": "stream",
     "text": [
      "              precision    recall  f1-score   support\n",
      "\n",
      "           0       1.00      1.00      1.00     56864\n",
      "           1       0.86      0.52      0.65        98\n",
      "\n",
      "    accuracy                           1.00     56962\n",
      "   macro avg       0.93      0.76      0.82     56962\n",
      "weighted avg       1.00      1.00      1.00     56962\n",
      "\n"
     ]
    }
   ],
   "source": [
    "# now we can get the classification_report to know the precision, the recall, the f1-score, the support\n",
    "from sklearn.metrics import classification_report\n",
    "print(classification_report(y_test_LR,y_pred_test_LR))"
   ]
  },
  {
   "cell_type": "markdown",
   "metadata": {},
   "source": [
    "# Artificial Neural Network "
   ]
  },
  {
   "cell_type": "code",
   "execution_count": 27,
   "metadata": {},
   "outputs": [],
   "source": [
    "import tensorflow as tf\n",
    "from tensorflow import keras\n",
    "from tensorflow.keras import layers\n",
    "\n",
    "# Keras. \n",
    "\n",
    "from keras import models\n",
    "from keras import layers\n",
    "from keras import optimizers\n",
    "from keras import losses\n",
    "from keras import metrics\n",
    "\n",
    "from keras.metrics import binary_crossentropy\n",
    "\n",
    "\n",
    "\n",
    "\n",
    "## Define categorical funcion. This prepares entries for tensor analysis. \n",
    "\n",
    "def to_categorical(y):\n",
    "    return tf.keras.utils.to_categorical(y)\n"
   ]
  },
  {
   "cell_type": "code",
   "execution_count": 28,
   "metadata": {},
   "outputs": [],
   "source": [
    "# Pickout the valid transactions.\n",
    "\n",
    "valid_transactions = df.loc[df['Class'] == 0.0]\n",
    "fraudulent_transactions = df.drop(valid_transactions.index)"
   ]
  },
  {
   "cell_type": "code",
   "execution_count": 29,
   "metadata": {},
   "outputs": [
    {
     "data": {
      "text/html": [
       "<div>\n",
       "<style scoped>\n",
       "    .dataframe tbody tr th:only-of-type {\n",
       "        vertical-align: middle;\n",
       "    }\n",
       "\n",
       "    .dataframe tbody tr th {\n",
       "        vertical-align: top;\n",
       "    }\n",
       "\n",
       "    .dataframe thead th {\n",
       "        text-align: right;\n",
       "    }\n",
       "</style>\n",
       "<table border=\"1\" class=\"dataframe\">\n",
       "  <thead>\n",
       "    <tr style=\"text-align: right;\">\n",
       "      <th></th>\n",
       "      <th>Time</th>\n",
       "      <th>V1</th>\n",
       "      <th>V2</th>\n",
       "      <th>V3</th>\n",
       "      <th>V4</th>\n",
       "      <th>V5</th>\n",
       "      <th>V6</th>\n",
       "      <th>V7</th>\n",
       "      <th>V8</th>\n",
       "      <th>V9</th>\n",
       "      <th>...</th>\n",
       "      <th>V21</th>\n",
       "      <th>V22</th>\n",
       "      <th>V23</th>\n",
       "      <th>V24</th>\n",
       "      <th>V25</th>\n",
       "      <th>V26</th>\n",
       "      <th>V27</th>\n",
       "      <th>V28</th>\n",
       "      <th>Amount</th>\n",
       "      <th>Class</th>\n",
       "    </tr>\n",
       "  </thead>\n",
       "  <tbody>\n",
       "    <tr>\n",
       "      <th>42756</th>\n",
       "      <td>41233.0</td>\n",
       "      <td>-10.645800</td>\n",
       "      <td>5.918307</td>\n",
       "      <td>-11.671043</td>\n",
       "      <td>8.807369</td>\n",
       "      <td>-7.975501</td>\n",
       "      <td>-3.586806</td>\n",
       "      <td>-13.616797</td>\n",
       "      <td>6.428169</td>\n",
       "      <td>-7.368451</td>\n",
       "      <td>...</td>\n",
       "      <td>2.571970</td>\n",
       "      <td>0.206809</td>\n",
       "      <td>-1.667801</td>\n",
       "      <td>0.558419</td>\n",
       "      <td>-0.027898</td>\n",
       "      <td>0.354254</td>\n",
       "      <td>0.273329</td>\n",
       "      <td>-0.152908</td>\n",
       "      <td>0.00</td>\n",
       "      <td>1</td>\n",
       "    </tr>\n",
       "    <tr>\n",
       "      <th>215389</th>\n",
       "      <td>140048.0</td>\n",
       "      <td>1.890872</td>\n",
       "      <td>-0.623674</td>\n",
       "      <td>-0.315586</td>\n",
       "      <td>0.516878</td>\n",
       "      <td>-0.853385</td>\n",
       "      <td>-0.503795</td>\n",
       "      <td>-0.578724</td>\n",
       "      <td>-0.068039</td>\n",
       "      <td>1.263360</td>\n",
       "      <td>...</td>\n",
       "      <td>0.185798</td>\n",
       "      <td>0.639194</td>\n",
       "      <td>0.097324</td>\n",
       "      <td>-0.047994</td>\n",
       "      <td>-0.280881</td>\n",
       "      <td>0.569574</td>\n",
       "      <td>-0.029445</td>\n",
       "      <td>-0.038438</td>\n",
       "      <td>64.99</td>\n",
       "      <td>0</td>\n",
       "    </tr>\n",
       "    <tr>\n",
       "      <th>111690</th>\n",
       "      <td>72327.0</td>\n",
       "      <td>-4.198735</td>\n",
       "      <td>0.194121</td>\n",
       "      <td>-3.917586</td>\n",
       "      <td>3.920748</td>\n",
       "      <td>-1.875486</td>\n",
       "      <td>-2.118933</td>\n",
       "      <td>-3.614445</td>\n",
       "      <td>1.687884</td>\n",
       "      <td>-2.189871</td>\n",
       "      <td>...</td>\n",
       "      <td>0.801312</td>\n",
       "      <td>-0.183001</td>\n",
       "      <td>-0.440387</td>\n",
       "      <td>0.292539</td>\n",
       "      <td>-0.144967</td>\n",
       "      <td>-0.251744</td>\n",
       "      <td>1.249414</td>\n",
       "      <td>-0.131525</td>\n",
       "      <td>238.90</td>\n",
       "      <td>1</td>\n",
       "    </tr>\n",
       "    <tr>\n",
       "      <th>168975</th>\n",
       "      <td>119466.0</td>\n",
       "      <td>-0.576652</td>\n",
       "      <td>0.417904</td>\n",
       "      <td>-0.458438</td>\n",
       "      <td>-0.833416</td>\n",
       "      <td>-1.034326</td>\n",
       "      <td>-0.156372</td>\n",
       "      <td>-0.406881</td>\n",
       "      <td>0.819142</td>\n",
       "      <td>-1.413660</td>\n",
       "      <td>...</td>\n",
       "      <td>-0.162541</td>\n",
       "      <td>-0.226365</td>\n",
       "      <td>0.204090</td>\n",
       "      <td>-0.429915</td>\n",
       "      <td>-0.939583</td>\n",
       "      <td>0.173680</td>\n",
       "      <td>-0.204964</td>\n",
       "      <td>-0.080953</td>\n",
       "      <td>79.95</td>\n",
       "      <td>0</td>\n",
       "    </tr>\n",
       "    <tr>\n",
       "      <th>79952</th>\n",
       "      <td>58262.0</td>\n",
       "      <td>1.215983</td>\n",
       "      <td>-1.388217</td>\n",
       "      <td>0.696167</td>\n",
       "      <td>-1.630683</td>\n",
       "      <td>-0.957150</td>\n",
       "      <td>1.579885</td>\n",
       "      <td>-1.623410</td>\n",
       "      <td>0.572026</td>\n",
       "      <td>-1.948162</td>\n",
       "      <td>...</td>\n",
       "      <td>0.132836</td>\n",
       "      <td>0.872681</td>\n",
       "      <td>0.084462</td>\n",
       "      <td>-0.999408</td>\n",
       "      <td>0.002028</td>\n",
       "      <td>0.003014</td>\n",
       "      <td>0.117333</td>\n",
       "      <td>0.008259</td>\n",
       "      <td>40.00</td>\n",
       "      <td>0</td>\n",
       "    </tr>\n",
       "  </tbody>\n",
       "</table>\n",
       "<p>5 rows × 31 columns</p>\n",
       "</div>"
      ],
      "text/plain": [
       "            Time         V1        V2         V3        V4        V5  \\\n",
       "42756    41233.0 -10.645800  5.918307 -11.671043  8.807369 -7.975501   \n",
       "215389  140048.0   1.890872 -0.623674  -0.315586  0.516878 -0.853385   \n",
       "111690   72327.0  -4.198735  0.194121  -3.917586  3.920748 -1.875486   \n",
       "168975  119466.0  -0.576652  0.417904  -0.458438 -0.833416 -1.034326   \n",
       "79952    58262.0   1.215983 -1.388217   0.696167 -1.630683 -0.957150   \n",
       "\n",
       "              V6         V7        V8        V9  ...       V21       V22  \\\n",
       "42756  -3.586806 -13.616797  6.428169 -7.368451  ...  2.571970  0.206809   \n",
       "215389 -0.503795  -0.578724 -0.068039  1.263360  ...  0.185798  0.639194   \n",
       "111690 -2.118933  -3.614445  1.687884 -2.189871  ...  0.801312 -0.183001   \n",
       "168975 -0.156372  -0.406881  0.819142 -1.413660  ... -0.162541 -0.226365   \n",
       "79952   1.579885  -1.623410  0.572026 -1.948162  ...  0.132836  0.872681   \n",
       "\n",
       "             V23       V24       V25       V26       V27       V28  Amount  \\\n",
       "42756  -1.667801  0.558419 -0.027898  0.354254  0.273329 -0.152908    0.00   \n",
       "215389  0.097324 -0.047994 -0.280881  0.569574 -0.029445 -0.038438   64.99   \n",
       "111690 -0.440387  0.292539 -0.144967 -0.251744  1.249414 -0.131525  238.90   \n",
       "168975  0.204090 -0.429915 -0.939583  0.173680 -0.204964 -0.080953   79.95   \n",
       "79952   0.084462 -0.999408  0.002028  0.003014  0.117333  0.008259   40.00   \n",
       "\n",
       "        Class  \n",
       "42756       1  \n",
       "215389      0  \n",
       "111690      1  \n",
       "168975      0  \n",
       "79952       0  \n",
       "\n",
       "[5 rows x 31 columns]"
      ]
     },
     "execution_count": 29,
     "metadata": {},
     "output_type": "execute_result"
    }
   ],
   "source": [
    "# Create a more balanced data set. This training set will have a 50 / 50 split of valid and fraudulent transactions.\n",
    "# I'll randomly sample 492 valid transactions and then add on the remaining 492 invalid transactions for a total of \n",
    "# 984. \n",
    "\n",
    "valid_sample = valid_transactions.sample(492)\n",
    "\n",
    "# Shuffle the data \n",
    "\n",
    "sample_data_df = pd.concat([valid_sample, fraudulent_transactions]).sample(frac = 1, random_state = 42)\n",
    "\n",
    "sample_data_df.head()"
   ]
  },
  {
   "cell_type": "code",
   "execution_count": 30,
   "metadata": {},
   "outputs": [],
   "source": [
    "# Scale the data. Must run the previous block before this one to avoid error.\n",
    "\n",
    "from sklearn.preprocessing import StandardScaler, RobustScaler\n",
    "\n",
    "std_scaler = StandardScaler()\n",
    "rob_scaler = RobustScaler()\n",
    "\n",
    "sample_data_df['scaled_amount'] = rob_scaler.fit_transform(sample_data_df['Amount'].values.reshape(-1,1))\n",
    "sample_data_df['scaled_time'] = rob_scaler.fit_transform(sample_data_df['Time'].values.reshape(-1,1))\n",
    "\n",
    "sample_data_df.drop(['Time','Amount'], axis=1, inplace=True)"
   ]
  },
  {
   "cell_type": "code",
   "execution_count": 31,
   "metadata": {},
   "outputs": [
    {
     "data": {
      "text/html": [
       "<div>\n",
       "<style scoped>\n",
       "    .dataframe tbody tr th:only-of-type {\n",
       "        vertical-align: middle;\n",
       "    }\n",
       "\n",
       "    .dataframe tbody tr th {\n",
       "        vertical-align: top;\n",
       "    }\n",
       "\n",
       "    .dataframe thead th {\n",
       "        text-align: right;\n",
       "    }\n",
       "</style>\n",
       "<table border=\"1\" class=\"dataframe\">\n",
       "  <thead>\n",
       "    <tr style=\"text-align: right;\">\n",
       "      <th></th>\n",
       "      <th>scaled_amount</th>\n",
       "      <th>scaled_time</th>\n",
       "      <th>V1</th>\n",
       "      <th>V2</th>\n",
       "      <th>V3</th>\n",
       "      <th>V4</th>\n",
       "      <th>V5</th>\n",
       "      <th>V6</th>\n",
       "      <th>V7</th>\n",
       "      <th>V8</th>\n",
       "      <th>...</th>\n",
       "      <th>V20</th>\n",
       "      <th>V21</th>\n",
       "      <th>V22</th>\n",
       "      <th>V23</th>\n",
       "      <th>V24</th>\n",
       "      <th>V25</th>\n",
       "      <th>V26</th>\n",
       "      <th>V27</th>\n",
       "      <th>V28</th>\n",
       "      <th>Class</th>\n",
       "    </tr>\n",
       "  </thead>\n",
       "  <tbody>\n",
       "    <tr>\n",
       "      <th>42756</th>\n",
       "      <td>-0.196031</td>\n",
       "      <td>-0.449927</td>\n",
       "      <td>-10.645800</td>\n",
       "      <td>5.918307</td>\n",
       "      <td>-11.671043</td>\n",
       "      <td>8.807369</td>\n",
       "      <td>-7.975501</td>\n",
       "      <td>-3.586806</td>\n",
       "      <td>-13.616797</td>\n",
       "      <td>6.428169</td>\n",
       "      <td>...</td>\n",
       "      <td>-0.046170</td>\n",
       "      <td>2.571970</td>\n",
       "      <td>0.206809</td>\n",
       "      <td>-1.667801</td>\n",
       "      <td>0.558419</td>\n",
       "      <td>-0.027898</td>\n",
       "      <td>0.354254</td>\n",
       "      <td>0.273329</td>\n",
       "      <td>-0.152908</td>\n",
       "      <td>1</td>\n",
       "    </tr>\n",
       "    <tr>\n",
       "      <th>215389</th>\n",
       "      <td>0.462880</td>\n",
       "      <td>0.693756</td>\n",
       "      <td>1.890872</td>\n",
       "      <td>-0.623674</td>\n",
       "      <td>-0.315586</td>\n",
       "      <td>0.516878</td>\n",
       "      <td>-0.853385</td>\n",
       "      <td>-0.503795</td>\n",
       "      <td>-0.578724</td>\n",
       "      <td>-0.068039</td>\n",
       "      <td>...</td>\n",
       "      <td>-0.072824</td>\n",
       "      <td>0.185798</td>\n",
       "      <td>0.639194</td>\n",
       "      <td>0.097324</td>\n",
       "      <td>-0.047994</td>\n",
       "      <td>-0.280881</td>\n",
       "      <td>0.569574</td>\n",
       "      <td>-0.029445</td>\n",
       "      <td>-0.038438</td>\n",
       "      <td>0</td>\n",
       "    </tr>\n",
       "    <tr>\n",
       "      <th>111690</th>\n",
       "      <td>2.226092</td>\n",
       "      <td>-0.090046</td>\n",
       "      <td>-4.198735</td>\n",
       "      <td>0.194121</td>\n",
       "      <td>-3.917586</td>\n",
       "      <td>3.920748</td>\n",
       "      <td>-1.875486</td>\n",
       "      <td>-2.118933</td>\n",
       "      <td>-3.614445</td>\n",
       "      <td>1.687884</td>\n",
       "      <td>...</td>\n",
       "      <td>1.003350</td>\n",
       "      <td>0.801312</td>\n",
       "      <td>-0.183001</td>\n",
       "      <td>-0.440387</td>\n",
       "      <td>0.292539</td>\n",
       "      <td>-0.144967</td>\n",
       "      <td>-0.251744</td>\n",
       "      <td>1.249414</td>\n",
       "      <td>-0.131525</td>\n",
       "      <td>1</td>\n",
       "    </tr>\n",
       "    <tr>\n",
       "      <th>168975</th>\n",
       "      <td>0.614554</td>\n",
       "      <td>0.455540</td>\n",
       "      <td>-0.576652</td>\n",
       "      <td>0.417904</td>\n",
       "      <td>-0.458438</td>\n",
       "      <td>-0.833416</td>\n",
       "      <td>-1.034326</td>\n",
       "      <td>-0.156372</td>\n",
       "      <td>-0.406881</td>\n",
       "      <td>0.819142</td>\n",
       "      <td>...</td>\n",
       "      <td>-0.798768</td>\n",
       "      <td>-0.162541</td>\n",
       "      <td>-0.226365</td>\n",
       "      <td>0.204090</td>\n",
       "      <td>-0.429915</td>\n",
       "      <td>-0.939583</td>\n",
       "      <td>0.173680</td>\n",
       "      <td>-0.204964</td>\n",
       "      <td>-0.080953</td>\n",
       "      <td>0</td>\n",
       "    </tr>\n",
       "    <tr>\n",
       "      <th>79952</th>\n",
       "      <td>0.209515</td>\n",
       "      <td>-0.252833</td>\n",
       "      <td>1.215983</td>\n",
       "      <td>-1.388217</td>\n",
       "      <td>0.696167</td>\n",
       "      <td>-1.630683</td>\n",
       "      <td>-0.957150</td>\n",
       "      <td>1.579885</td>\n",
       "      <td>-1.623410</td>\n",
       "      <td>0.572026</td>\n",
       "      <td>...</td>\n",
       "      <td>-0.357900</td>\n",
       "      <td>0.132836</td>\n",
       "      <td>0.872681</td>\n",
       "      <td>0.084462</td>\n",
       "      <td>-0.999408</td>\n",
       "      <td>0.002028</td>\n",
       "      <td>0.003014</td>\n",
       "      <td>0.117333</td>\n",
       "      <td>0.008259</td>\n",
       "      <td>0</td>\n",
       "    </tr>\n",
       "  </tbody>\n",
       "</table>\n",
       "<p>5 rows × 31 columns</p>\n",
       "</div>"
      ],
      "text/plain": [
       "        scaled_amount  scaled_time         V1        V2         V3        V4  \\\n",
       "42756       -0.196031    -0.449927 -10.645800  5.918307 -11.671043  8.807369   \n",
       "215389       0.462880     0.693756   1.890872 -0.623674  -0.315586  0.516878   \n",
       "111690       2.226092    -0.090046  -4.198735  0.194121  -3.917586  3.920748   \n",
       "168975       0.614554     0.455540  -0.576652  0.417904  -0.458438 -0.833416   \n",
       "79952        0.209515    -0.252833   1.215983 -1.388217   0.696167 -1.630683   \n",
       "\n",
       "              V5        V6         V7        V8  ...       V20       V21  \\\n",
       "42756  -7.975501 -3.586806 -13.616797  6.428169  ... -0.046170  2.571970   \n",
       "215389 -0.853385 -0.503795  -0.578724 -0.068039  ... -0.072824  0.185798   \n",
       "111690 -1.875486 -2.118933  -3.614445  1.687884  ...  1.003350  0.801312   \n",
       "168975 -1.034326 -0.156372  -0.406881  0.819142  ... -0.798768 -0.162541   \n",
       "79952  -0.957150  1.579885  -1.623410  0.572026  ... -0.357900  0.132836   \n",
       "\n",
       "             V22       V23       V24       V25       V26       V27       V28  \\\n",
       "42756   0.206809 -1.667801  0.558419 -0.027898  0.354254  0.273329 -0.152908   \n",
       "215389  0.639194  0.097324 -0.047994 -0.280881  0.569574 -0.029445 -0.038438   \n",
       "111690 -0.183001 -0.440387  0.292539 -0.144967 -0.251744  1.249414 -0.131525   \n",
       "168975 -0.226365  0.204090 -0.429915 -0.939583  0.173680 -0.204964 -0.080953   \n",
       "79952   0.872681  0.084462 -0.999408  0.002028  0.003014  0.117333  0.008259   \n",
       "\n",
       "        Class  \n",
       "42756       1  \n",
       "215389      0  \n",
       "111690      1  \n",
       "168975      0  \n",
       "79952       0  \n",
       "\n",
       "[5 rows x 31 columns]"
      ]
     },
     "execution_count": 31,
     "metadata": {},
     "output_type": "execute_result"
    }
   ],
   "source": [
    "#  Add them back in \n",
    "\n",
    "scaled_amount = sample_data_df['scaled_amount']\n",
    "scaled_time = sample_data_df['scaled_time']\n",
    "\n",
    "sample_data_df.drop(['scaled_amount', 'scaled_time'], axis=1, inplace=True)\n",
    "sample_data_df.insert(0, 'scaled_amount', scaled_amount)\n",
    "sample_data_df.insert(1, 'scaled_time', scaled_time)\n",
    "\n",
    "# Now the amount and time are scaled.\n",
    "\n",
    "sample_data_df.head()"
   ]
  },
  {
   "cell_type": "code",
   "execution_count": 32,
   "metadata": {},
   "outputs": [],
   "source": [
    "# Set aside training/test data. \n",
    "\n",
    "sample_data_train = sample_data_df.sample(frac = .80, random_state = 440)\n",
    "sample_data_test = sample_data_df.drop(sample_data_train.index)"
   ]
  },
  {
   "cell_type": "code",
   "execution_count": 33,
   "metadata": {},
   "outputs": [],
   "source": [
    "\n",
    "# The training data: here I'm defining X_train to be a numpy array \n",
    "# consisting of the entries in sample_data_train minus the 'Class' column.\n",
    "# y_train is of course the 'Class' column.\n",
    "\n",
    "X_train = np.array(sample_data_train.iloc[:, :-1])\n",
    "y_train = np.array(sample_data_train.iloc[:, -1])\n",
    "\n",
    "X_train = X_train.reshape(-1, 30)\n",
    "y_train = y_train.reshape(-1, 1)\n",
    "\n",
    "# And the test data:\n",
    "\n",
    "X_test = np.array(sample_data_test.iloc[:, :-1])\n",
    "y_test = np.array(sample_data_test.iloc[:, -1])\n",
    "\n",
    "X_test = X_test.reshape(-1, 30)\n",
    "y_test = y_test.reshape(-1, 1)\n"
   ]
  },
  {
   "cell_type": "code",
   "execution_count": 34,
   "metadata": {},
   "outputs": [
    {
     "name": "stdout",
     "output_type": "stream",
     "text": [
      "(629, 30) <class 'numpy.ndarray'>\n",
      "(629, 1) <class 'numpy.ndarray'>\n",
      "(158, 30) <class 'numpy.ndarray'>\n",
      "(158, 1) <class 'numpy.ndarray'>\n",
      "\n",
      "\n",
      "\n",
      "(629, 2) <class 'numpy.ndarray'>\n",
      "(158, 2) <class 'numpy.ndarray'>\n"
     ]
    }
   ],
   "source": [
    "# Further split the training data into train_train/validation. \n",
    "\n",
    "from sklearn.model_selection import train_test_split\n",
    "\n",
    "X_train_train,X_val,y_train_train,y_val = train_test_split(X_train, y_train,\n",
    "                                                          test_size=.2,\n",
    "                                                          shuffle=True,\n",
    "                                                          stratify=y_train,\n",
    "                                                          random_state=440)\n",
    "\n",
    "# Check out the shape of the data. \n",
    "\n",
    "print(np.shape(X_train_train), type(X_train_train))\n",
    "print(np.shape(y_train_train), type(y_train_train))\n",
    "print(np.shape(X_val), type(X_val))\n",
    "print(np.shape(y_val), type(y_val))\n",
    "print('\\n\\n')\n",
    "print(np.shape(to_categorical(y_train_train)), type(to_categorical(y_train_train)))\n",
    "print(np.shape(to_categorical(y_val)), type(to_categorical(y_val)))"
   ]
  },
  {
   "cell_type": "code",
   "execution_count": 35,
   "metadata": {},
   "outputs": [],
   "source": [
    "## Empty model\n",
    "model = models.Sequential()"
   ]
  },
  {
   "cell_type": "code",
   "execution_count": 36,
   "metadata": {},
   "outputs": [],
   "source": [
    "## Make the layers. ONLY RUN THIS ONCE. Make sure the input_shape matches the number of features.\n",
    "\n",
    "model.add(layers.Dense(30, activation='relu', input_shape=(30,)))\n",
    "\n",
    "model.add(layers.Dense(32, activation='relu'))\n",
    "\n",
    "model.add(layers.Dense(2, activation='softmax'))"
   ]
  },
  {
   "cell_type": "code",
   "execution_count": 37,
   "metadata": {},
   "outputs": [
    {
     "name": "stdout",
     "output_type": "stream",
     "text": [
      "Model: \"sequential\"\n",
      "_________________________________________________________________\n",
      "Layer (type)                 Output Shape              Param #   \n",
      "=================================================================\n",
      "dense (Dense)                (None, 30)                930       \n",
      "_________________________________________________________________\n",
      "dense_1 (Dense)              (None, 32)                992       \n",
      "_________________________________________________________________\n",
      "dense_2 (Dense)              (None, 2)                 66        \n",
      "=================================================================\n",
      "Total params: 1,988\n",
      "Trainable params: 1,988\n",
      "Non-trainable params: 0\n",
      "_________________________________________________________________\n"
     ]
    }
   ],
   "source": [
    "# Gives a model summary\n",
    "\n",
    "model.summary()"
   ]
  },
  {
   "cell_type": "code",
   "execution_count": 38,
   "metadata": {},
   "outputs": [],
   "source": [
    "# Here we compile the model. We use binary cross-entropy. \n",
    "\n",
    "model.compile(optimizer='Adam',\n",
    "                  loss='sparse_categorical_crossentropy',\n",
    "                  metrics=['accuracy'])"
   ]
  },
  {
   "cell_type": "code",
   "execution_count": 39,
   "metadata": {},
   "outputs": [
    {
     "name": "stdout",
     "output_type": "stream",
     "text": [
      "Epoch 1/100\n",
      "26/26 [==============================] - 19s 20ms/step - loss: 0.5343 - accuracy: 0.6816 - val_loss: 0.3576 - val_accuracy: 0.8228\n",
      "Epoch 2/100\n",
      "26/26 [==============================] - 0s 3ms/step - loss: 0.3310 - accuracy: 0.9022 - val_loss: 0.2691 - val_accuracy: 0.9304\n",
      "Epoch 3/100\n",
      "26/26 [==============================] - 0s 8ms/step - loss: 0.2590 - accuracy: 0.9322 - val_loss: 0.2225 - val_accuracy: 0.9430\n",
      "Epoch 4/100\n",
      "26/26 [==============================] - 0s 3ms/step - loss: 0.1944 - accuracy: 0.9448 - val_loss: 0.1917 - val_accuracy: 0.9367\n",
      "Epoch 5/100\n",
      "26/26 [==============================] - 0s 3ms/step - loss: 0.1756 - accuracy: 0.9553 - val_loss: 0.1719 - val_accuracy: 0.9367\n",
      "Epoch 6/100\n",
      "26/26 [==============================] - 0s 3ms/step - loss: 0.1334 - accuracy: 0.9578 - val_loss: 0.1645 - val_accuracy: 0.9367\n",
      "Epoch 7/100\n",
      "26/26 [==============================] - 0s 3ms/step - loss: 0.1310 - accuracy: 0.9527 - val_loss: 0.1611 - val_accuracy: 0.9367\n",
      "Epoch 8/100\n",
      "26/26 [==============================] - 0s 3ms/step - loss: 0.1359 - accuracy: 0.9484 - val_loss: 0.1575 - val_accuracy: 0.9430\n",
      "Epoch 9/100\n",
      "26/26 [==============================] - 0s 3ms/step - loss: 0.1319 - accuracy: 0.9528 - val_loss: 0.1535 - val_accuracy: 0.9430\n",
      "Epoch 10/100\n",
      "26/26 [==============================] - 0s 3ms/step - loss: 0.1230 - accuracy: 0.9484 - val_loss: 0.1549 - val_accuracy: 0.9494\n",
      "Epoch 11/100\n",
      "26/26 [==============================] - 0s 3ms/step - loss: 0.1190 - accuracy: 0.9518 - val_loss: 0.1531 - val_accuracy: 0.9494\n",
      "Epoch 12/100\n",
      "26/26 [==============================] - 0s 3ms/step - loss: 0.1095 - accuracy: 0.9584 - val_loss: 0.1526 - val_accuracy: 0.9494\n",
      "Epoch 13/100\n",
      "26/26 [==============================] - 0s 3ms/step - loss: 0.0941 - accuracy: 0.9595 - val_loss: 0.1554 - val_accuracy: 0.9430\n",
      "Epoch 14/100\n",
      "26/26 [==============================] - 0s 3ms/step - loss: 0.1110 - accuracy: 0.9505 - val_loss: 0.1488 - val_accuracy: 0.9494\n",
      "Epoch 15/100\n",
      "26/26 [==============================] - 0s 3ms/step - loss: 0.0960 - accuracy: 0.9666 - val_loss: 0.1526 - val_accuracy: 0.9494\n",
      "Epoch 16/100\n",
      "26/26 [==============================] - 0s 3ms/step - loss: 0.0821 - accuracy: 0.9663 - val_loss: 0.1528 - val_accuracy: 0.9494\n",
      "Epoch 17/100\n",
      "26/26 [==============================] - 0s 4ms/step - loss: 0.0845 - accuracy: 0.9594 - val_loss: 0.1492 - val_accuracy: 0.9494\n",
      "Epoch 18/100\n",
      "26/26 [==============================] - 0s 3ms/step - loss: 0.0884 - accuracy: 0.9609 - val_loss: 0.1504 - val_accuracy: 0.9494\n",
      "Epoch 19/100\n",
      "26/26 [==============================] - 0s 3ms/step - loss: 0.0754 - accuracy: 0.9720 - val_loss: 0.1487 - val_accuracy: 0.9494\n",
      "Epoch 20/100\n",
      "26/26 [==============================] - 0s 3ms/step - loss: 0.0857 - accuracy: 0.9682 - val_loss: 0.1505 - val_accuracy: 0.9494\n",
      "Epoch 21/100\n",
      "26/26 [==============================] - 0s 3ms/step - loss: 0.0754 - accuracy: 0.9699 - val_loss: 0.1508 - val_accuracy: 0.9494\n",
      "Epoch 22/100\n",
      "26/26 [==============================] - 0s 3ms/step - loss: 0.0676 - accuracy: 0.9734 - val_loss: 0.1499 - val_accuracy: 0.9494\n",
      "Epoch 23/100\n",
      "26/26 [==============================] - 0s 4ms/step - loss: 0.0722 - accuracy: 0.9741 - val_loss: 0.1492 - val_accuracy: 0.9494\n",
      "Epoch 24/100\n",
      "26/26 [==============================] - 0s 3ms/step - loss: 0.0796 - accuracy: 0.9698 - val_loss: 0.1510 - val_accuracy: 0.9494\n",
      "Epoch 25/100\n",
      "26/26 [==============================] - 0s 4ms/step - loss: 0.0568 - accuracy: 0.9825 - val_loss: 0.1517 - val_accuracy: 0.9430\n",
      "Epoch 26/100\n",
      "26/26 [==============================] - 0s 3ms/step - loss: 0.0571 - accuracy: 0.9728 - val_loss: 0.1505 - val_accuracy: 0.9557\n",
      "Epoch 27/100\n",
      "26/26 [==============================] - 0s 3ms/step - loss: 0.0963 - accuracy: 0.9618 - val_loss: 0.1510 - val_accuracy: 0.9557\n",
      "Epoch 28/100\n",
      "26/26 [==============================] - 0s 4ms/step - loss: 0.0669 - accuracy: 0.9801 - val_loss: 0.1521 - val_accuracy: 0.9494\n",
      "Epoch 29/100\n",
      "26/26 [==============================] - 0s 4ms/step - loss: 0.0612 - accuracy: 0.9821 - val_loss: 0.1531 - val_accuracy: 0.9494\n",
      "Epoch 30/100\n",
      "26/26 [==============================] - 0s 3ms/step - loss: 0.0539 - accuracy: 0.9868 - val_loss: 0.1537 - val_accuracy: 0.9494\n",
      "Epoch 31/100\n",
      "26/26 [==============================] - 0s 3ms/step - loss: 0.0608 - accuracy: 0.9866 - val_loss: 0.1556 - val_accuracy: 0.9494\n",
      "Epoch 32/100\n",
      "26/26 [==============================] - 0s 4ms/step - loss: 0.0461 - accuracy: 0.9905 - val_loss: 0.1570 - val_accuracy: 0.9494\n",
      "Epoch 33/100\n",
      "26/26 [==============================] - 0s 3ms/step - loss: 0.0407 - accuracy: 0.9920 - val_loss: 0.1587 - val_accuracy: 0.9494\n",
      "Epoch 34/100\n",
      "26/26 [==============================] - 0s 4ms/step - loss: 0.0545 - accuracy: 0.9908 - val_loss: 0.1591 - val_accuracy: 0.9494\n",
      "Epoch 35/100\n",
      "26/26 [==============================] - 0s 3ms/step - loss: 0.0467 - accuracy: 0.9873 - val_loss: 0.1604 - val_accuracy: 0.9494\n",
      "Epoch 36/100\n",
      "26/26 [==============================] - 0s 3ms/step - loss: 0.0405 - accuracy: 0.9924 - val_loss: 0.1613 - val_accuracy: 0.9557\n",
      "Epoch 37/100\n",
      "26/26 [==============================] - 0s 3ms/step - loss: 0.0381 - accuracy: 0.9938 - val_loss: 0.1641 - val_accuracy: 0.9557\n",
      "Epoch 38/100\n",
      "26/26 [==============================] - 0s 3ms/step - loss: 0.0518 - accuracy: 0.9884 - val_loss: 0.1631 - val_accuracy: 0.9494\n",
      "Epoch 39/100\n",
      "26/26 [==============================] - 0s 3ms/step - loss: 0.0509 - accuracy: 0.9847 - val_loss: 0.1653 - val_accuracy: 0.9494\n",
      "Epoch 40/100\n",
      "26/26 [==============================] - 0s 3ms/step - loss: 0.0323 - accuracy: 0.9909 - val_loss: 0.1673 - val_accuracy: 0.9557\n",
      "Epoch 41/100\n",
      "26/26 [==============================] - 0s 3ms/step - loss: 0.0371 - accuracy: 0.9912 - val_loss: 0.1680 - val_accuracy: 0.9557\n",
      "Epoch 42/100\n",
      "26/26 [==============================] - 0s 3ms/step - loss: 0.0359 - accuracy: 0.9919 - val_loss: 0.1709 - val_accuracy: 0.9620\n",
      "Epoch 43/100\n",
      "26/26 [==============================] - 0s 3ms/step - loss: 0.0258 - accuracy: 0.9958 - val_loss: 0.1751 - val_accuracy: 0.9494\n",
      "Epoch 44/100\n",
      "26/26 [==============================] - 0s 3ms/step - loss: 0.0232 - accuracy: 0.9954 - val_loss: 0.1757 - val_accuracy: 0.9557\n",
      "Epoch 45/100\n",
      "26/26 [==============================] - 0s 5ms/step - loss: 0.0275 - accuracy: 0.9974 - val_loss: 0.1788 - val_accuracy: 0.9557\n",
      "Epoch 46/100\n",
      "26/26 [==============================] - 0s 3ms/step - loss: 0.0297 - accuracy: 0.9947 - val_loss: 0.1815 - val_accuracy: 0.9557\n",
      "Epoch 47/100\n",
      "26/26 [==============================] - 0s 3ms/step - loss: 0.0274 - accuracy: 0.9934 - val_loss: 0.1848 - val_accuracy: 0.9494\n",
      "Epoch 48/100\n",
      "26/26 [==============================] - 0s 3ms/step - loss: 0.0303 - accuracy: 0.9903 - val_loss: 0.1864 - val_accuracy: 0.9557\n",
      "Epoch 49/100\n",
      "26/26 [==============================] - 0s 3ms/step - loss: 0.0156 - accuracy: 0.9981 - val_loss: 0.1901 - val_accuracy: 0.9557\n",
      "Epoch 50/100\n",
      "26/26 [==============================] - 0s 3ms/step - loss: 0.0327 - accuracy: 0.9874 - val_loss: 0.1912 - val_accuracy: 0.9557\n",
      "Epoch 51/100\n",
      "26/26 [==============================] - 0s 2ms/step - loss: 0.0241 - accuracy: 0.9918 - val_loss: 0.1958 - val_accuracy: 0.9494\n",
      "Epoch 52/100\n",
      "26/26 [==============================] - 0s 3ms/step - loss: 0.0212 - accuracy: 0.9937 - val_loss: 0.1952 - val_accuracy: 0.9494\n",
      "Epoch 53/100\n",
      "26/26 [==============================] - 0s 3ms/step - loss: 0.0176 - accuracy: 0.9955 - val_loss: 0.1970 - val_accuracy: 0.9494\n",
      "Epoch 54/100\n",
      "26/26 [==============================] - 0s 2ms/step - loss: 0.0193 - accuracy: 0.9955 - val_loss: 0.1985 - val_accuracy: 0.9494\n",
      "Epoch 55/100\n",
      "26/26 [==============================] - 0s 3ms/step - loss: 0.0272 - accuracy: 0.9887 - val_loss: 0.2033 - val_accuracy: 0.9494\n",
      "Epoch 56/100\n",
      "26/26 [==============================] - 0s 2ms/step - loss: 0.0222 - accuracy: 0.9936 - val_loss: 0.2057 - val_accuracy: 0.9494\n",
      "Epoch 57/100\n",
      "26/26 [==============================] - 0s 3ms/step - loss: 0.0174 - accuracy: 0.9946 - val_loss: 0.2085 - val_accuracy: 0.9494\n",
      "Epoch 58/100\n",
      "26/26 [==============================] - 0s 2ms/step - loss: 0.0166 - accuracy: 0.9950 - val_loss: 0.2117 - val_accuracy: 0.9494\n"
     ]
    },
    {
     "name": "stdout",
     "output_type": "stream",
     "text": [
      "Epoch 59/100\n",
      "26/26 [==============================] - 0s 2ms/step - loss: 0.0146 - accuracy: 0.9971 - val_loss: 0.2135 - val_accuracy: 0.9494\n",
      "Epoch 60/100\n",
      "26/26 [==============================] - 0s 3ms/step - loss: 0.0112 - accuracy: 0.9980 - val_loss: 0.2160 - val_accuracy: 0.9494\n",
      "Epoch 61/100\n",
      "26/26 [==============================] - 0s 2ms/step - loss: 0.0181 - accuracy: 0.9933 - val_loss: 0.2187 - val_accuracy: 0.9494\n",
      "Epoch 62/100\n",
      "26/26 [==============================] - 0s 3ms/step - loss: 0.0093 - accuracy: 0.9982 - val_loss: 0.2215 - val_accuracy: 0.9494\n",
      "Epoch 63/100\n",
      "26/26 [==============================] - 0s 2ms/step - loss: 0.0148 - accuracy: 0.9927 - val_loss: 0.2251 - val_accuracy: 0.9494\n",
      "Epoch 64/100\n",
      "26/26 [==============================] - 0s 3ms/step - loss: 0.0121 - accuracy: 0.9963 - val_loss: 0.2271 - val_accuracy: 0.9494\n",
      "Epoch 65/100\n",
      "26/26 [==============================] - 0s 3ms/step - loss: 0.0181 - accuracy: 0.9909 - val_loss: 0.2306 - val_accuracy: 0.9557\n",
      "Epoch 66/100\n",
      "26/26 [==============================] - 0s 2ms/step - loss: 0.0087 - accuracy: 0.9986 - val_loss: 0.2336 - val_accuracy: 0.9494\n",
      "Epoch 67/100\n",
      "26/26 [==============================] - 0s 3ms/step - loss: 0.0154 - accuracy: 0.9934 - val_loss: 0.2356 - val_accuracy: 0.9557\n",
      "Epoch 68/100\n",
      "26/26 [==============================] - 0s 3ms/step - loss: 0.0074 - accuracy: 0.9986 - val_loss: 0.2387 - val_accuracy: 0.9557\n",
      "Epoch 69/100\n",
      "26/26 [==============================] - 0s 3ms/step - loss: 0.0087 - accuracy: 0.9993 - val_loss: 0.2408 - val_accuracy: 0.9557\n",
      "Epoch 70/100\n",
      "26/26 [==============================] - 0s 3ms/step - loss: 0.0069 - accuracy: 0.9996 - val_loss: 0.2436 - val_accuracy: 0.9494\n",
      "Epoch 71/100\n",
      "26/26 [==============================] - 0s 3ms/step - loss: 0.0095 - accuracy: 0.9994 - val_loss: 0.2458 - val_accuracy: 0.9557\n",
      "Epoch 72/100\n",
      "26/26 [==============================] - 0s 3ms/step - loss: 0.0070 - accuracy: 0.9994 - val_loss: 0.2497 - val_accuracy: 0.9494\n",
      "Epoch 73/100\n",
      "26/26 [==============================] - 0s 3ms/step - loss: 0.0086 - accuracy: 0.9983 - val_loss: 0.2509 - val_accuracy: 0.9494\n",
      "Epoch 74/100\n",
      "26/26 [==============================] - 0s 3ms/step - loss: 0.0105 - accuracy: 0.9942 - val_loss: 0.2532 - val_accuracy: 0.9494\n",
      "Epoch 75/100\n",
      "26/26 [==============================] - 0s 3ms/step - loss: 0.0086 - accuracy: 0.9997 - val_loss: 0.2575 - val_accuracy: 0.9494\n",
      "Epoch 76/100\n",
      "26/26 [==============================] - 0s 3ms/step - loss: 0.0073 - accuracy: 0.9984 - val_loss: 0.2595 - val_accuracy: 0.9494\n",
      "Epoch 77/100\n",
      "26/26 [==============================] - 0s 3ms/step - loss: 0.0057 - accuracy: 0.9992 - val_loss: 0.2621 - val_accuracy: 0.9494\n",
      "Epoch 78/100\n",
      "26/26 [==============================] - 0s 5ms/step - loss: 0.0062 - accuracy: 0.9996 - val_loss: 0.2632 - val_accuracy: 0.9494\n",
      "Epoch 79/100\n",
      "26/26 [==============================] - 0s 5ms/step - loss: 0.0094 - accuracy: 0.9942 - val_loss: 0.2675 - val_accuracy: 0.9494\n",
      "Epoch 80/100\n",
      "26/26 [==============================] - 0s 3ms/step - loss: 0.0048 - accuracy: 0.9995 - val_loss: 0.2701 - val_accuracy: 0.9494\n",
      "Epoch 81/100\n",
      "26/26 [==============================] - 0s 2ms/step - loss: 0.0054 - accuracy: 0.9981 - val_loss: 0.2696 - val_accuracy: 0.9494\n",
      "Epoch 82/100\n",
      "26/26 [==============================] - 0s 3ms/step - loss: 0.0069 - accuracy: 0.9998 - val_loss: 0.2742 - val_accuracy: 0.9494\n",
      "Epoch 83/100\n",
      "26/26 [==============================] - 0s 2ms/step - loss: 0.0058 - accuracy: 1.0000 - val_loss: 0.2781 - val_accuracy: 0.9494\n",
      "Epoch 84/100\n",
      "26/26 [==============================] - 0s 2ms/step - loss: 0.0051 - accuracy: 1.0000 - val_loss: 0.2790 - val_accuracy: 0.9494\n",
      "Epoch 85/100\n",
      "26/26 [==============================] - 0s 2ms/step - loss: 0.0032 - accuracy: 1.0000 - val_loss: 0.2812 - val_accuracy: 0.9494\n",
      "Epoch 86/100\n",
      "26/26 [==============================] - 0s 3ms/step - loss: 0.0049 - accuracy: 1.0000 - val_loss: 0.2855 - val_accuracy: 0.9494\n",
      "Epoch 87/100\n",
      "26/26 [==============================] - 0s 3ms/step - loss: 0.0055 - accuracy: 1.0000 - val_loss: 0.2874 - val_accuracy: 0.9494\n",
      "Epoch 88/100\n",
      "26/26 [==============================] - 0s 3ms/step - loss: 0.0038 - accuracy: 1.0000 - val_loss: 0.2896 - val_accuracy: 0.9494\n",
      "Epoch 89/100\n",
      "26/26 [==============================] - 0s 3ms/step - loss: 0.0059 - accuracy: 1.0000 - val_loss: 0.2915 - val_accuracy: 0.9494\n",
      "Epoch 90/100\n",
      "26/26 [==============================] - 0s 3ms/step - loss: 0.0051 - accuracy: 1.0000 - val_loss: 0.2930 - val_accuracy: 0.9494\n",
      "Epoch 91/100\n",
      "26/26 [==============================] - 0s 3ms/step - loss: 0.0049 - accuracy: 1.0000 - val_loss: 0.2962 - val_accuracy: 0.9494\n",
      "Epoch 92/100\n",
      "26/26 [==============================] - 0s 3ms/step - loss: 0.0032 - accuracy: 1.0000 - val_loss: 0.2982 - val_accuracy: 0.9494\n",
      "Epoch 93/100\n",
      "26/26 [==============================] - 0s 2ms/step - loss: 0.0051 - accuracy: 1.0000 - val_loss: 0.3005 - val_accuracy: 0.9494\n",
      "Epoch 94/100\n",
      "26/26 [==============================] - 0s 2ms/step - loss: 0.0034 - accuracy: 1.0000 - val_loss: 0.3037 - val_accuracy: 0.9494\n",
      "Epoch 95/100\n",
      "26/26 [==============================] - 0s 2ms/step - loss: 0.0031 - accuracy: 1.0000 - val_loss: 0.3060 - val_accuracy: 0.9494\n",
      "Epoch 96/100\n",
      "26/26 [==============================] - 0s 3ms/step - loss: 0.0028 - accuracy: 1.0000 - val_loss: 0.3074 - val_accuracy: 0.9494\n",
      "Epoch 97/100\n",
      "26/26 [==============================] - 0s 3ms/step - loss: 0.0035 - accuracy: 1.0000 - val_loss: 0.3102 - val_accuracy: 0.9494\n",
      "Epoch 98/100\n",
      "26/26 [==============================] - 0s 3ms/step - loss: 0.0033 - accuracy: 1.0000 - val_loss: 0.3125 - val_accuracy: 0.9494\n",
      "Epoch 99/100\n",
      "26/26 [==============================] - 0s 3ms/step - loss: 0.0032 - accuracy: 1.0000 - val_loss: 0.3145 - val_accuracy: 0.9494\n",
      "Epoch 100/100\n",
      "26/26 [==============================] - 0s 3ms/step - loss: 0.0026 - accuracy: 1.0000 - val_loss: 0.3166 - val_accuracy: 0.9494\n"
     ]
    }
   ],
   "source": [
    "# Fitting the data. \n",
    "\n",
    "#history = model.fit(X_train_train,\n",
    "#                        to_categorical(y_train_train),\n",
    "#                        epochs = 100,\n",
    "#                        batch_size = 512,\n",
    "#                        validation_data=(X_val,to_categorical(y_val)))\n",
    "\n",
    "# It looks like sparse_categorical automatically applies to_categorical to y, so use this one\n",
    "# (this includes changed batch size and epochs):\n",
    "\n",
    "history = model.fit(X_train_train,\n",
    "                        y_train_train,\n",
    "                        epochs = 100,\n",
    "                        batch_size = 25,\n",
    "                        validation_data=(X_val,y_val))"
   ]
  },
  {
   "cell_type": "code",
   "execution_count": 40,
   "metadata": {},
   "outputs": [
    {
     "name": "stdout",
     "output_type": "stream",
     "text": [
      "dict_keys(['loss', 'accuracy', 'val_loss', 'val_accuracy'])\n"
     ]
    }
   ],
   "source": [
    "# Examine the results. \n",
    "\n",
    "history_dict = history.history\n",
    "\n",
    "print(history_dict.keys())"
   ]
  },
  {
   "cell_type": "code",
   "execution_count": 41,
   "metadata": {},
   "outputs": [
    {
     "data": {
      "image/png": "[encoded data removed]",
      "text/plain": [
       "<Figure size 720x432 with 1 Axes>"
      ]
     },
     "metadata": {},
     "output_type": "display_data"
    }
   ],
   "source": [
    "# That's... intersting. \n",
    "\n",
    "\n",
    "\n",
    "plt.figure(figsize = (10,6))\n",
    "\n",
    "plt.scatter(range(1,101), history_dict['accuracy'], label = \"Training Accuracy\")\n",
    "plt.scatter(range(1,101), history_dict['val_accuracy'], label = \"Validation Set Accuracy\")\n",
    "\n",
    "plt.xlabel(\"Epoch\", fontsize=18)\n",
    "plt.ylabel(\"Accuracy\", fontsize=18)\n",
    "\n",
    "plt.xticks(fontsize=16)\n",
    "plt.yticks(fontsize=16)\n",
    "\n",
    "plt.legend(fontsize=18)\n",
    "\n",
    "plt.show()"
   ]
  },
  {
   "cell_type": "code",
   "execution_count": 42,
   "metadata": {},
   "outputs": [
    {
     "data": {
      "image/png": "[encoded data removed]",
      "text/plain": [
       "<Figure size 720x432 with 1 Axes>"
      ]
     },
     "metadata": {},
     "output_type": "display_data"
    }
   ],
   "source": [
    "plt.figure(figsize = (10,6))\n",
    "\n",
    "plt.scatter(range(1,101), history_dict['loss'], label = \"Training Loss\")\n",
    "plt.scatter(range(1,101), history_dict['val_loss'], label = \"Validation Set Loss\")\n",
    "\n",
    "plt.xlabel(\"Epoch\", fontsize=18)\n",
    "plt.ylabel(\"Loss Function Value\", fontsize=18)\n",
    "\n",
    "plt.xticks(fontsize=16)\n",
    "plt.yticks(fontsize=16)\n",
    "\n",
    "plt.legend(fontsize=18)\n",
    "\n",
    "plt.show()"
   ]
  },
  {
   "cell_type": "code",
   "execution_count": 43,
   "metadata": {},
   "outputs": [
    {
     "data": {
      "text/plain": [
       "Class\n",
       "0    101\n",
       "1     96\n",
       "dtype: int64"
      ]
     },
     "execution_count": 43,
     "metadata": {},
     "output_type": "execute_result"
    }
   ],
   "source": [
    "# Value counts of test data. \n",
    "\n",
    "sample_data_test.value_counts('Class')"
   ]
  },
  {
   "cell_type": "code",
   "execution_count": 44,
   "metadata": {},
   "outputs": [
    {
     "data": {
      "text/plain": [
       "array([1, 1, 0, 0, 0, 0, 1, 1, 0, 0, 1, 0, 1, 0, 1, 1, 0, 0, 0, 1, 0, 0,\n",
       "       1, 1, 1, 1, 0, 0, 0, 1, 1, 0, 0, 1, 0, 0, 0, 1, 0, 1, 0, 0, 0, 0,\n",
       "       0, 1, 1, 0, 1, 1, 0, 0, 0, 1, 1, 0, 1, 0, 0, 0, 1, 0, 1, 0, 1, 1,\n",
       "       1, 0, 1, 0, 1, 0, 0, 0, 1, 1, 1, 0, 0, 1, 1, 0, 0, 0, 1, 1, 1, 0,\n",
       "       0, 0, 1, 0, 0, 1, 1, 1, 1, 1, 1, 0, 1, 0, 0, 0, 0, 1, 1, 0, 1, 1,\n",
       "       0, 1, 0, 0, 0, 0, 1, 0, 1, 1, 0, 0, 1, 1, 1, 0, 1, 1, 1, 0, 1, 0,\n",
       "       0, 0, 1, 1, 1, 0, 1, 1, 0, 1, 0, 0, 0, 0, 1, 0, 0, 1, 1, 0, 0, 1,\n",
       "       0, 1, 0, 0, 1, 0, 0, 1, 0, 1, 1, 1, 0, 1, 0, 1, 0, 0, 1, 1, 1, 1,\n",
       "       0, 1, 0, 1, 0, 1, 1, 0, 1, 1, 1, 0, 0, 0, 1, 1, 0, 0, 1, 0, 0])"
      ]
     },
     "execution_count": 44,
     "metadata": {},
     "output_type": "execute_result"
    }
   ],
   "source": [
    "# Prediction.\n",
    "\n",
    "\n",
    "\n",
    "y_pred_prob = model.predict(X_test)\n",
    "\n",
    "\n",
    "\n",
    "# Set the threshold probability for valid transactions as p = 0.5. \n",
    "\n",
    "y_pred = []\n",
    "\n",
    "for x in y_pred_prob:\n",
    "    if x[0] > 0.9:\n",
    "        y_pred.append(0)\n",
    "    else:\n",
    "        y_pred.append(1)\n",
    "        \n",
    "y_pred = np.array(y_pred)\n",
    "y_pred"
   ]
  },
  {
   "cell_type": "code",
   "execution_count": 45,
   "metadata": {},
   "outputs": [
    {
     "name": "stdout",
     "output_type": "stream",
     "text": [
      "[[9.9863285e-01 1.3671780e-03]\n",
      " [9.9998271e-01 1.7248836e-05]\n",
      " [9.9923038e-01 7.6959509e-04]\n",
      " ...\n",
      " [9.9593484e-01 4.0650805e-03]\n",
      " [1.2224636e-27 1.0000000e+00]\n",
      " [9.9743748e-01 2.5625522e-03]]\n"
     ]
    },
    {
     "name": "stderr",
     "output_type": "stream",
     "text": [
      "/opt/anaconda3/lib/python3.8/site-packages/keras/engine/sequential.py:425: UserWarning: `model.predict_proba()` is deprecated and will be removed after 2021-01-01. Please use `model.predict()` instead.\n",
      "  warnings.warn('`model.predict_proba()` is deprecated and '\n"
     ]
    }
   ],
   "source": [
    "#predict the probabilities\n",
    "y_pred_prob_ANN=model.predict_proba(X_train_train)\n",
    "print(y_pred_prob_ANN)\n",
    "\n",
    "#now we can get the ROC\n",
    "roc_curve(y_train_train,y_pred_prob_ANN[:,1])\n",
    "\n",
    "#we get the fpr,tpr,cutoffs\n",
    "fpr_ANN,tpr_ANN,cutoffs_ANN = roc_curve(y_train_train,y_pred_prob_ANN[:,1])\n",
    "\n"
   ]
  },
  {
   "cell_type": "code",
   "execution_count": 46,
   "metadata": {},
   "outputs": [
    {
     "name": "stdout",
     "output_type": "stream",
     "text": [
      "1.0\n"
     ]
    }
   ],
   "source": [
    "#now we can get the AUC\n",
    "auc_ANN=roc_auc_score(y_train_train,y_pred_prob_ANN[:,1])\n",
    "print(auc_ANN)"
   ]
  },
  {
   "cell_type": "code",
   "execution_count": 47,
   "metadata": {},
   "outputs": [
    {
     "data": {
      "image/png": "[encoded data removed]",
      "text/plain": [
       "<Figure size 864x576 with 1 Axes>"
      ]
     },
     "metadata": {},
     "output_type": "display_data"
    }
   ],
   "source": [
    "#plot ROC with AUC\n",
    "plt.figure(figsize=(12,8))\n",
    "\n",
    "plt.plot(fpr_ANN,tpr_ANN,label='AUC ANN= '+str(np.around(auc_ANN,4)))\n",
    "\n",
    "\n",
    "\n",
    "plt.xlabel(\"False Positive Rate\",fontsize=16)\n",
    "plt.ylabel(\"True Positive Rate\",fontsize=16)\n",
    "\n",
    "plt.title(\"ROC Curve\", fontsize=18)\n",
    "plt.xticks(fontsize=12)\n",
    "plt.yticks(fontsize=12)\n",
    "plt.legend(loc='best')\n",
    "plt.show()"
   ]
  },
  {
   "cell_type": "code",
   "execution_count": 48,
   "metadata": {},
   "outputs": [
    {
     "name": "stdout",
     "output_type": "stream",
     "text": [
      "[[95  6]\n",
      " [ 7 89]]\n"
     ]
    }
   ],
   "source": [
    "from sklearn.metrics import confusion_matrix\n",
    "print(confusion_matrix(y_test,y_pred))"
   ]
  },
  {
   "cell_type": "code",
   "execution_count": 49,
   "metadata": {},
   "outputs": [
    {
     "name": "stdout",
     "output_type": "stream",
     "text": [
      "0.934010152284264\n"
     ]
    }
   ],
   "source": [
    "from sklearn.metrics import accuracy_score\n",
    "accuracy_score_ANN = accuracy_score(y_test,y_pred)\n",
    "print(accuracy_score(y_test,y_pred))"
   ]
  },
  {
   "cell_type": "code",
   "execution_count": 50,
   "metadata": {},
   "outputs": [
    {
     "name": "stdout",
     "output_type": "stream",
     "text": [
      "              precision    recall  f1-score   support\n",
      "\n",
      "           0       0.93      0.94      0.94       101\n",
      "           1       0.94      0.93      0.93        96\n",
      "\n",
      "    accuracy                           0.93       197\n",
      "   macro avg       0.93      0.93      0.93       197\n",
      "weighted avg       0.93      0.93      0.93       197\n",
      "\n"
     ]
    }
   ],
   "source": [
    "from sklearn.metrics import classification_report\n",
    "print(classification_report(y_test,y_pred))\n",
    "\n",
    "precision_score_ANN = precision_score(y_test, y_pred)\n",
    "recall_score_ANN = recall_score(y_test, y_pred)\n",
    "f1_score_ANN = f1_score(y_test, y_pred)"
   ]
  },
  {
   "cell_type": "markdown",
   "metadata": {},
   "source": [
    "# Random Forest"
   ]
  },
  {
   "cell_type": "code",
   "execution_count": 51,
   "metadata": {},
   "outputs": [],
   "source": [
    "# We'll also check random forest (RF) just for comparison. \n",
    "\n",
    "from sklearn.ensemble import RandomForestClassifier\n",
    "\n",
    "#forest_clf = RandomForestClassifier(max_depth = 4, random_state=614)"
   ]
  },
  {
   "cell_type": "code",
   "execution_count": 52,
   "metadata": {},
   "outputs": [],
   "source": [
    "# Have to leave out reshape for this one. This is the sampe 50 / 50 train test split on sample data as defined\n",
    "# in one of the early ANN cells. \n",
    "\n",
    "y_train = np.array(sample_data_train.iloc[:, -1])\n",
    "\n",
    "pipe_RF = Pipeline([('preprocess',StandardScaler()),\n",
    "                ('RandomForest',RandomForestClassifier(max_depth = 4, random_state=614))])\n",
    "\n",
    "\n",
    "pipe_RF.fit(X_train,y_train)\n",
    "\n",
    "# The RF prediction.\n",
    "\n",
    "y_pred_RF = pipe_RF.predict(X_test)\n"
   ]
  },
  {
   "cell_type": "code",
   "execution_count": 53,
   "metadata": {},
   "outputs": [
    {
     "name": "stdout",
     "output_type": "stream",
     "text": [
      "[[2.02765726e-04 9.99797234e-01]\n",
      " [1.25535608e-02 9.87446439e-01]\n",
      " [1.80541769e-03 9.98194582e-01]\n",
      " ...\n",
      " [3.64290542e-03 9.96357095e-01]\n",
      " [9.34879630e-01 6.51203698e-02]\n",
      " [4.62306393e-03 9.95376936e-01]]\n"
     ]
    }
   ],
   "source": [
    "#predict the probabilities\n",
    "y_pred_prob_RF=pipe_RF.predict_proba(X_train)\n",
    "print(y_pred_prob_RF)\n",
    "\n",
    "#now we can get the ROC\n",
    "roc_curve(y_train,y_pred_prob_RF[:,1])\n",
    "\n",
    "#we get the fpr,tpr,cutoffs\n",
    "fpr_RF,tpr_RF,cutoffs_RF = roc_curve(y_train,y_pred_prob_RF[:,1])\n",
    "\n"
   ]
  },
  {
   "cell_type": "code",
   "execution_count": 54,
   "metadata": {},
   "outputs": [
    {
     "name": "stdout",
     "output_type": "stream",
     "text": [
      "0.9913585987754786\n"
     ]
    }
   ],
   "source": [
    "#now we can get the AUC\n",
    "auc_RF=roc_auc_score(y_train,y_pred_prob_RF[:,1])\n",
    "print(auc_RF)"
   ]
  },
  {
   "cell_type": "code",
   "execution_count": 55,
   "metadata": {},
   "outputs": [
    {
     "data": {
      "image/png": "[encoded data removed]",
      "text/plain": [
       "<Figure size 864x576 with 1 Axes>"
      ]
     },
     "metadata": {},
     "output_type": "display_data"
    }
   ],
   "source": [
    "#plot ROC with AUC\n",
    "plt.figure(figsize=(12,8))\n",
    "\n",
    "plt.plot(fpr_RF,tpr_RF,label='AUC RF= '+str(np.around(auc_RF,4)))\n",
    "\n",
    "\n",
    "\n",
    "plt.xlabel(\"False Positive Rate\",fontsize=16)\n",
    "plt.ylabel(\"True Positive Rate\",fontsize=16)\n",
    "\n",
    "plt.title(\"ROC Curve\", fontsize=18)\n",
    "plt.xticks(fontsize=12)\n",
    "plt.yticks(fontsize=12)\n",
    "plt.legend(loc='best')\n",
    "plt.show()"
   ]
  },
  {
   "cell_type": "code",
   "execution_count": 56,
   "metadata": {},
   "outputs": [
    {
     "name": "stdout",
     "output_type": "stream",
     "text": [
      "[[101   0]\n",
      " [ 12  84]]\n",
      "\n",
      "\n",
      "0.9390862944162437\n"
     ]
    }
   ],
   "source": [
    "print(confusion_matrix(y_test,y_pred_RF))\n",
    "print('\\n')\n",
    "\n",
    "accuracy_score_RF = accuracy_score(y_test, y_pred_RF)\n",
    "print(accuracy_score(y_test,y_pred_RF))"
   ]
  },
  {
   "cell_type": "code",
   "execution_count": 57,
   "metadata": {},
   "outputs": [
    {
     "name": "stdout",
     "output_type": "stream",
     "text": [
      "              precision    recall  f1-score   support\n",
      "\n",
      "           0       0.89      1.00      0.94       101\n",
      "           1       1.00      0.88      0.93        96\n",
      "\n",
      "    accuracy                           0.94       197\n",
      "   macro avg       0.95      0.94      0.94       197\n",
      "weighted avg       0.95      0.94      0.94       197\n",
      "\n"
     ]
    }
   ],
   "source": [
    "# And the classification report. \n",
    "\n",
    "print(classification_report(y_test,y_pred_RF))\n",
    "\n",
    "precision_score_RF = precision_score(y_test, y_pred_RF)\n",
    "recall_score_RF = recall_score(y_test, y_pred_RF)\n",
    "f1_score_RF = f1_score(y_test, y_pred_RF)"
   ]
  },
  {
   "cell_type": "markdown",
   "metadata": {},
   "source": [
    "# Support Vector Machine"
   ]
  },
  {
   "cell_type": "code",
   "execution_count": null,
   "metadata": {},
   "outputs": [],
   "source": []
  },
  {
   "cell_type": "code",
   "execution_count": null,
   "metadata": {},
   "outputs": [],
   "source": []
  },
  {
   "cell_type": "code",
   "execution_count": null,
   "metadata": {},
   "outputs": [],
   "source": []
  },
  {
   "cell_type": "markdown",
   "metadata": {},
   "source": [
    "# Report"
   ]
  },
  {
   "cell_type": "code",
   "execution_count": 64,
   "metadata": {},
   "outputs": [
    {
     "name": "stdout",
     "output_type": "stream",
     "text": [
      "    Precision score Recall score  f1 score Accuracy score\n",
      "LR         0.864407     0.520408  0.998915       0.999034\n",
      "ANN        0.936842     0.927083  0.931937        0.93401\n",
      "SVM              NA           NA        NA             NA\n",
      "RF                1        0.875  0.933333       0.939086\n"
     ]
    }
   ],
   "source": [
    "#Report\n",
    "\n",
    "df_report = pd.DataFrame({ 'Precision score': [precision_score_LR, precision_score_ANN, 'NA', precision_score_RF],\n",
    "                   'Recall score': [recall_score_LR, recall_score_ANN,'NA', recall_score_RF],\n",
    "                          'f1 score': [f1_score_LR, f1_score_ANN,'NA', f1_score_RF],\n",
    "                          'Accuracy score': [accuracy_score_LR, accuracy_score_ANN ,'NA', accuracy_score_RF],\n",
    "                         },\n",
    "                  index=['LR','ANN', 'SVM', 'RF'])\n",
    "print(df_report)\n",
    "\n"
   ]
  },
  {
   "cell_type": "code",
   "execution_count": 59,
   "metadata": {},
   "outputs": [
    {
     "data": {
      "image/png": "[encoded data removed]",
      "text/plain": [
       "<Figure size 864x576 with 1 Axes>"
      ]
     },
     "metadata": {},
     "output_type": "display_data"
    }
   ],
   "source": [
    "#plot ROC with AUC\n",
    "plt.figure(figsize=(12,8))\n",
    "\n",
    "plt.plot(fpr_ANN,tpr_ANN,label='AUC ANN= '+str(np.around(auc_ANN,4)))\n",
    "plt.plot(fpr_LR,tpr_LR,label='AUC LR= '+str(np.around(auc_lR,4)))\n",
    "plt.plot(fpr_RF,tpr_RF,label='AUC RF= '+str(np.around(auc_RF,4)))\n",
    "\n",
    "\n",
    "\n",
    "plt.xlabel(\"False Positive Rate\",fontsize=16)\n",
    "plt.ylabel(\"True Positive Rate\",fontsize=16)\n",
    "\n",
    "plt.title(\"ROC Curve\", fontsize=18)\n",
    "plt.xticks(fontsize=12)\n",
    "plt.yticks(fontsize=12)\n",
    "plt.legend(loc='best')\n",
    "plt.show()"
   ]
  },
  {
   "cell_type": "code",
   "execution_count": null,
   "metadata": {},
   "outputs": [],
   "source": []
  }
 ],
 "metadata": {
  "kernelspec": {
   "display_name": "Python 3",
   "language": "python",
   "name": "python3"
  },
  "language_info": {
   "codemirror_mode": {
    "name": "ipython",
    "version": 3
   },
   "file_extension": ".py",
   "mimetype": "text/x-python",
   "name": "python",
   "nbconvert_exporter": "python",
   "pygments_lexer": "ipython3",
   "version": "3.8.5"
  }
 },
 "nbformat": 4,
 "nbformat_minor": 4
}

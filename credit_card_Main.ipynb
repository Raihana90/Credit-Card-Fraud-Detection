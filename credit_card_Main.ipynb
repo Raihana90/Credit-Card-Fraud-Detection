{
 "cells": [
  {
   "cell_type": "markdown",
   "metadata": {},
   "source": [
    "# About the dataset"
   ]
  },
  {
   "cell_type": "code",
   "execution_count": 2,
   "metadata": {},
   "outputs": [],
   "source": [
    "import pandas as pd\n",
    "import numpy as np\n",
    "import seaborn as sns\n",
    "import matplotlib.pyplot as plt\n",
    "sns.set_style(\"whitegrid\")"
   ]
  },
  {
   "cell_type": "code",
   "execution_count": 3,
   "metadata": {},
   "outputs": [
    {
     "name": "stdout",
     "output_type": "stream",
     "text": [
      "There are 284807 observations in the data set.\n",
      "The columns are Index(['Time', 'V1', 'V2', 'V3', 'V4', 'V5', 'V6', 'V7', 'V8', 'V9', 'V10',\n",
      "       'V11', 'V12', 'V13', 'V14', 'V15', 'V16', 'V17', 'V18', 'V19', 'V20',\n",
      "       'V21', 'V22', 'V23', 'V24', 'V25', 'V26', 'V27', 'V28', 'Amount',\n",
      "       'Class'],\n",
      "      dtype='object')\n"
     ]
    }
   ],
   "source": [
    "#read the database\n",
    "df=pd.read_csv(\"creditcard.csv\")\n",
    "#information about the database\n",
    "print(\"There are\", len(df), \"observations in the data set.\")\n",
    "print(\"The columns are\", df.columns)\n"
   ]
  },
  {
   "cell_type": "code",
   "execution_count": 4,
   "metadata": {},
   "outputs": [
    {
     "data": {
      "text/html": [
       "<div>\n",
       "<style scoped>\n",
       "    .dataframe tbody tr th:only-of-type {\n",
       "        vertical-align: middle;\n",
       "    }\n",
       "\n",
       "    .dataframe tbody tr th {\n",
       "        vertical-align: top;\n",
       "    }\n",
       "\n",
       "    .dataframe thead th {\n",
       "        text-align: right;\n",
       "    }\n",
       "</style>\n",
       "<table border=\"1\" class=\"dataframe\">\n",
       "  <thead>\n",
       "    <tr style=\"text-align: right;\">\n",
       "      <th></th>\n",
       "      <th>Time</th>\n",
       "      <th>V1</th>\n",
       "      <th>V2</th>\n",
       "      <th>V3</th>\n",
       "      <th>V4</th>\n",
       "      <th>V5</th>\n",
       "      <th>V6</th>\n",
       "      <th>V7</th>\n",
       "      <th>V8</th>\n",
       "      <th>V9</th>\n",
       "      <th>...</th>\n",
       "      <th>V21</th>\n",
       "      <th>V22</th>\n",
       "      <th>V23</th>\n",
       "      <th>V24</th>\n",
       "      <th>V25</th>\n",
       "      <th>V26</th>\n",
       "      <th>V27</th>\n",
       "      <th>V28</th>\n",
       "      <th>Amount</th>\n",
       "      <th>Class</th>\n",
       "    </tr>\n",
       "  </thead>\n",
       "  <tbody>\n",
       "    <tr>\n",
       "      <th>0</th>\n",
       "      <td>0.0</td>\n",
       "      <td>-1.359807</td>\n",
       "      <td>-0.072781</td>\n",
       "      <td>2.536347</td>\n",
       "      <td>1.378155</td>\n",
       "      <td>-0.338321</td>\n",
       "      <td>0.462388</td>\n",
       "      <td>0.239599</td>\n",
       "      <td>0.098698</td>\n",
       "      <td>0.363787</td>\n",
       "      <td>...</td>\n",
       "      <td>-0.018307</td>\n",
       "      <td>0.277838</td>\n",
       "      <td>-0.110474</td>\n",
       "      <td>0.066928</td>\n",
       "      <td>0.128539</td>\n",
       "      <td>-0.189115</td>\n",
       "      <td>0.133558</td>\n",
       "      <td>-0.021053</td>\n",
       "      <td>149.62</td>\n",
       "      <td>0</td>\n",
       "    </tr>\n",
       "    <tr>\n",
       "      <th>1</th>\n",
       "      <td>0.0</td>\n",
       "      <td>1.191857</td>\n",
       "      <td>0.266151</td>\n",
       "      <td>0.166480</td>\n",
       "      <td>0.448154</td>\n",
       "      <td>0.060018</td>\n",
       "      <td>-0.082361</td>\n",
       "      <td>-0.078803</td>\n",
       "      <td>0.085102</td>\n",
       "      <td>-0.255425</td>\n",
       "      <td>...</td>\n",
       "      <td>-0.225775</td>\n",
       "      <td>-0.638672</td>\n",
       "      <td>0.101288</td>\n",
       "      <td>-0.339846</td>\n",
       "      <td>0.167170</td>\n",
       "      <td>0.125895</td>\n",
       "      <td>-0.008983</td>\n",
       "      <td>0.014724</td>\n",
       "      <td>2.69</td>\n",
       "      <td>0</td>\n",
       "    </tr>\n",
       "    <tr>\n",
       "      <th>2</th>\n",
       "      <td>1.0</td>\n",
       "      <td>-1.358354</td>\n",
       "      <td>-1.340163</td>\n",
       "      <td>1.773209</td>\n",
       "      <td>0.379780</td>\n",
       "      <td>-0.503198</td>\n",
       "      <td>1.800499</td>\n",
       "      <td>0.791461</td>\n",
       "      <td>0.247676</td>\n",
       "      <td>-1.514654</td>\n",
       "      <td>...</td>\n",
       "      <td>0.247998</td>\n",
       "      <td>0.771679</td>\n",
       "      <td>0.909412</td>\n",
       "      <td>-0.689281</td>\n",
       "      <td>-0.327642</td>\n",
       "      <td>-0.139097</td>\n",
       "      <td>-0.055353</td>\n",
       "      <td>-0.059752</td>\n",
       "      <td>378.66</td>\n",
       "      <td>0</td>\n",
       "    </tr>\n",
       "    <tr>\n",
       "      <th>3</th>\n",
       "      <td>1.0</td>\n",
       "      <td>-0.966272</td>\n",
       "      <td>-0.185226</td>\n",
       "      <td>1.792993</td>\n",
       "      <td>-0.863291</td>\n",
       "      <td>-0.010309</td>\n",
       "      <td>1.247203</td>\n",
       "      <td>0.237609</td>\n",
       "      <td>0.377436</td>\n",
       "      <td>-1.387024</td>\n",
       "      <td>...</td>\n",
       "      <td>-0.108300</td>\n",
       "      <td>0.005274</td>\n",
       "      <td>-0.190321</td>\n",
       "      <td>-1.175575</td>\n",
       "      <td>0.647376</td>\n",
       "      <td>-0.221929</td>\n",
       "      <td>0.062723</td>\n",
       "      <td>0.061458</td>\n",
       "      <td>123.50</td>\n",
       "      <td>0</td>\n",
       "    </tr>\n",
       "    <tr>\n",
       "      <th>4</th>\n",
       "      <td>2.0</td>\n",
       "      <td>-1.158233</td>\n",
       "      <td>0.877737</td>\n",
       "      <td>1.548718</td>\n",
       "      <td>0.403034</td>\n",
       "      <td>-0.407193</td>\n",
       "      <td>0.095921</td>\n",
       "      <td>0.592941</td>\n",
       "      <td>-0.270533</td>\n",
       "      <td>0.817739</td>\n",
       "      <td>...</td>\n",
       "      <td>-0.009431</td>\n",
       "      <td>0.798278</td>\n",
       "      <td>-0.137458</td>\n",
       "      <td>0.141267</td>\n",
       "      <td>-0.206010</td>\n",
       "      <td>0.502292</td>\n",
       "      <td>0.219422</td>\n",
       "      <td>0.215153</td>\n",
       "      <td>69.99</td>\n",
       "      <td>0</td>\n",
       "    </tr>\n",
       "  </tbody>\n",
       "</table>\n",
       "<p>5 rows × 31 columns</p>\n",
       "</div>"
      ],
      "text/plain": [
       "   Time        V1        V2        V3        V4        V5        V6        V7  \\\n",
       "0   0.0 -1.359807 -0.072781  2.536347  1.378155 -0.338321  0.462388  0.239599   \n",
       "1   0.0  1.191857  0.266151  0.166480  0.448154  0.060018 -0.082361 -0.078803   \n",
       "2   1.0 -1.358354 -1.340163  1.773209  0.379780 -0.503198  1.800499  0.791461   \n",
       "3   1.0 -0.966272 -0.185226  1.792993 -0.863291 -0.010309  1.247203  0.237609   \n",
       "4   2.0 -1.158233  0.877737  1.548718  0.403034 -0.407193  0.095921  0.592941   \n",
       "\n",
       "         V8        V9  ...       V21       V22       V23       V24       V25  \\\n",
       "0  0.098698  0.363787  ... -0.018307  0.277838 -0.110474  0.066928  0.128539   \n",
       "1  0.085102 -0.255425  ... -0.225775 -0.638672  0.101288 -0.339846  0.167170   \n",
       "2  0.247676 -1.514654  ...  0.247998  0.771679  0.909412 -0.689281 -0.327642   \n",
       "3  0.377436 -1.387024  ... -0.108300  0.005274 -0.190321 -1.175575  0.647376   \n",
       "4 -0.270533  0.817739  ... -0.009431  0.798278 -0.137458  0.141267 -0.206010   \n",
       "\n",
       "        V26       V27       V28  Amount  Class  \n",
       "0 -0.189115  0.133558 -0.021053  149.62      0  \n",
       "1  0.125895 -0.008983  0.014724    2.69      0  \n",
       "2 -0.139097 -0.055353 -0.059752  378.66      0  \n",
       "3 -0.221929  0.062723  0.061458  123.50      0  \n",
       "4  0.502292  0.219422  0.215153   69.99      0  \n",
       "\n",
       "[5 rows x 31 columns]"
      ]
     },
     "execution_count": 4,
     "metadata": {},
     "output_type": "execute_result"
    }
   ],
   "source": [
    "df.head()"
   ]
  },
  {
   "cell_type": "code",
   "execution_count": 4,
   "metadata": {},
   "outputs": [
    {
     "data": {
      "text/plain": [
       "Time      float64\n",
       "V1        float64\n",
       "V2        float64\n",
       "V3        float64\n",
       "V4        float64\n",
       "V5        float64\n",
       "V6        float64\n",
       "V7        float64\n",
       "V8        float64\n",
       "V9        float64\n",
       "V10       float64\n",
       "V11       float64\n",
       "V12       float64\n",
       "V13       float64\n",
       "V14       float64\n",
       "V15       float64\n",
       "V16       float64\n",
       "V17       float64\n",
       "V18       float64\n",
       "V19       float64\n",
       "V20       float64\n",
       "V21       float64\n",
       "V22       float64\n",
       "V23       float64\n",
       "V24       float64\n",
       "V25       float64\n",
       "V26       float64\n",
       "V27       float64\n",
       "V28       float64\n",
       "Amount    float64\n",
       "Class       int64\n",
       "dtype: object"
      ]
     },
     "execution_count": 4,
     "metadata": {},
     "output_type": "execute_result"
    }
   ],
   "source": [
    "#the type of each column\n",
    "df.dtypes"
   ]
  },
  {
   "cell_type": "code",
   "execution_count": 5,
   "metadata": {},
   "outputs": [
    {
     "data": {
      "text/plain": [
       "(284807, 31)"
      ]
     },
     "execution_count": 5,
     "metadata": {},
     "output_type": "execute_result"
    }
   ],
   "source": [
    "#the shape of the database\n",
    "df.shape"
   ]
  },
  {
   "cell_type": "code",
   "execution_count": 6,
   "metadata": {},
   "outputs": [
    {
     "data": {
      "text/html": [
       "<div>\n",
       "<style scoped>\n",
       "    .dataframe tbody tr th:only-of-type {\n",
       "        vertical-align: middle;\n",
       "    }\n",
       "\n",
       "    .dataframe tbody tr th {\n",
       "        vertical-align: top;\n",
       "    }\n",
       "\n",
       "    .dataframe thead th {\n",
       "        text-align: right;\n",
       "    }\n",
       "</style>\n",
       "<table border=\"1\" class=\"dataframe\">\n",
       "  <thead>\n",
       "    <tr style=\"text-align: right;\">\n",
       "      <th></th>\n",
       "      <th>Time</th>\n",
       "      <th>V1</th>\n",
       "      <th>V2</th>\n",
       "      <th>V3</th>\n",
       "      <th>V4</th>\n",
       "      <th>V5</th>\n",
       "      <th>V6</th>\n",
       "      <th>V7</th>\n",
       "      <th>V8</th>\n",
       "      <th>V9</th>\n",
       "      <th>...</th>\n",
       "      <th>V21</th>\n",
       "      <th>V22</th>\n",
       "      <th>V23</th>\n",
       "      <th>V24</th>\n",
       "      <th>V25</th>\n",
       "      <th>V26</th>\n",
       "      <th>V27</th>\n",
       "      <th>V28</th>\n",
       "      <th>Amount</th>\n",
       "      <th>Class</th>\n",
       "    </tr>\n",
       "  </thead>\n",
       "  <tbody>\n",
       "    <tr>\n",
       "      <th>count</th>\n",
       "      <td>284807.000000</td>\n",
       "      <td>2.848070e+05</td>\n",
       "      <td>2.848070e+05</td>\n",
       "      <td>2.848070e+05</td>\n",
       "      <td>2.848070e+05</td>\n",
       "      <td>2.848070e+05</td>\n",
       "      <td>2.848070e+05</td>\n",
       "      <td>2.848070e+05</td>\n",
       "      <td>2.848070e+05</td>\n",
       "      <td>2.848070e+05</td>\n",
       "      <td>...</td>\n",
       "      <td>2.848070e+05</td>\n",
       "      <td>2.848070e+05</td>\n",
       "      <td>2.848070e+05</td>\n",
       "      <td>2.848070e+05</td>\n",
       "      <td>2.848070e+05</td>\n",
       "      <td>2.848070e+05</td>\n",
       "      <td>2.848070e+05</td>\n",
       "      <td>2.848070e+05</td>\n",
       "      <td>284807.000000</td>\n",
       "      <td>284807.000000</td>\n",
       "    </tr>\n",
       "    <tr>\n",
       "      <th>mean</th>\n",
       "      <td>94813.859575</td>\n",
       "      <td>3.919560e-15</td>\n",
       "      <td>5.688174e-16</td>\n",
       "      <td>-8.769071e-15</td>\n",
       "      <td>2.782312e-15</td>\n",
       "      <td>-1.552563e-15</td>\n",
       "      <td>2.010663e-15</td>\n",
       "      <td>-1.694249e-15</td>\n",
       "      <td>-1.927028e-16</td>\n",
       "      <td>-3.137024e-15</td>\n",
       "      <td>...</td>\n",
       "      <td>1.537294e-16</td>\n",
       "      <td>7.959909e-16</td>\n",
       "      <td>5.367590e-16</td>\n",
       "      <td>4.458112e-15</td>\n",
       "      <td>1.453003e-15</td>\n",
       "      <td>1.699104e-15</td>\n",
       "      <td>-3.660161e-16</td>\n",
       "      <td>-1.206049e-16</td>\n",
       "      <td>88.349619</td>\n",
       "      <td>0.001727</td>\n",
       "    </tr>\n",
       "    <tr>\n",
       "      <th>std</th>\n",
       "      <td>47488.145955</td>\n",
       "      <td>1.958696e+00</td>\n",
       "      <td>1.651309e+00</td>\n",
       "      <td>1.516255e+00</td>\n",
       "      <td>1.415869e+00</td>\n",
       "      <td>1.380247e+00</td>\n",
       "      <td>1.332271e+00</td>\n",
       "      <td>1.237094e+00</td>\n",
       "      <td>1.194353e+00</td>\n",
       "      <td>1.098632e+00</td>\n",
       "      <td>...</td>\n",
       "      <td>7.345240e-01</td>\n",
       "      <td>7.257016e-01</td>\n",
       "      <td>6.244603e-01</td>\n",
       "      <td>6.056471e-01</td>\n",
       "      <td>5.212781e-01</td>\n",
       "      <td>4.822270e-01</td>\n",
       "      <td>4.036325e-01</td>\n",
       "      <td>3.300833e-01</td>\n",
       "      <td>250.120109</td>\n",
       "      <td>0.041527</td>\n",
       "    </tr>\n",
       "    <tr>\n",
       "      <th>min</th>\n",
       "      <td>0.000000</td>\n",
       "      <td>-5.640751e+01</td>\n",
       "      <td>-7.271573e+01</td>\n",
       "      <td>-4.832559e+01</td>\n",
       "      <td>-5.683171e+00</td>\n",
       "      <td>-1.137433e+02</td>\n",
       "      <td>-2.616051e+01</td>\n",
       "      <td>-4.355724e+01</td>\n",
       "      <td>-7.321672e+01</td>\n",
       "      <td>-1.343407e+01</td>\n",
       "      <td>...</td>\n",
       "      <td>-3.483038e+01</td>\n",
       "      <td>-1.093314e+01</td>\n",
       "      <td>-4.480774e+01</td>\n",
       "      <td>-2.836627e+00</td>\n",
       "      <td>-1.029540e+01</td>\n",
       "      <td>-2.604551e+00</td>\n",
       "      <td>-2.256568e+01</td>\n",
       "      <td>-1.543008e+01</td>\n",
       "      <td>0.000000</td>\n",
       "      <td>0.000000</td>\n",
       "    </tr>\n",
       "    <tr>\n",
       "      <th>25%</th>\n",
       "      <td>54201.500000</td>\n",
       "      <td>-9.203734e-01</td>\n",
       "      <td>-5.985499e-01</td>\n",
       "      <td>-8.903648e-01</td>\n",
       "      <td>-8.486401e-01</td>\n",
       "      <td>-6.915971e-01</td>\n",
       "      <td>-7.682956e-01</td>\n",
       "      <td>-5.540759e-01</td>\n",
       "      <td>-2.086297e-01</td>\n",
       "      <td>-6.430976e-01</td>\n",
       "      <td>...</td>\n",
       "      <td>-2.283949e-01</td>\n",
       "      <td>-5.423504e-01</td>\n",
       "      <td>-1.618463e-01</td>\n",
       "      <td>-3.545861e-01</td>\n",
       "      <td>-3.171451e-01</td>\n",
       "      <td>-3.269839e-01</td>\n",
       "      <td>-7.083953e-02</td>\n",
       "      <td>-5.295979e-02</td>\n",
       "      <td>5.600000</td>\n",
       "      <td>0.000000</td>\n",
       "    </tr>\n",
       "    <tr>\n",
       "      <th>50%</th>\n",
       "      <td>84692.000000</td>\n",
       "      <td>1.810880e-02</td>\n",
       "      <td>6.548556e-02</td>\n",
       "      <td>1.798463e-01</td>\n",
       "      <td>-1.984653e-02</td>\n",
       "      <td>-5.433583e-02</td>\n",
       "      <td>-2.741871e-01</td>\n",
       "      <td>4.010308e-02</td>\n",
       "      <td>2.235804e-02</td>\n",
       "      <td>-5.142873e-02</td>\n",
       "      <td>...</td>\n",
       "      <td>-2.945017e-02</td>\n",
       "      <td>6.781943e-03</td>\n",
       "      <td>-1.119293e-02</td>\n",
       "      <td>4.097606e-02</td>\n",
       "      <td>1.659350e-02</td>\n",
       "      <td>-5.213911e-02</td>\n",
       "      <td>1.342146e-03</td>\n",
       "      <td>1.124383e-02</td>\n",
       "      <td>22.000000</td>\n",
       "      <td>0.000000</td>\n",
       "    </tr>\n",
       "    <tr>\n",
       "      <th>75%</th>\n",
       "      <td>139320.500000</td>\n",
       "      <td>1.315642e+00</td>\n",
       "      <td>8.037239e-01</td>\n",
       "      <td>1.027196e+00</td>\n",
       "      <td>7.433413e-01</td>\n",
       "      <td>6.119264e-01</td>\n",
       "      <td>3.985649e-01</td>\n",
       "      <td>5.704361e-01</td>\n",
       "      <td>3.273459e-01</td>\n",
       "      <td>5.971390e-01</td>\n",
       "      <td>...</td>\n",
       "      <td>1.863772e-01</td>\n",
       "      <td>5.285536e-01</td>\n",
       "      <td>1.476421e-01</td>\n",
       "      <td>4.395266e-01</td>\n",
       "      <td>3.507156e-01</td>\n",
       "      <td>2.409522e-01</td>\n",
       "      <td>9.104512e-02</td>\n",
       "      <td>7.827995e-02</td>\n",
       "      <td>77.165000</td>\n",
       "      <td>0.000000</td>\n",
       "    </tr>\n",
       "    <tr>\n",
       "      <th>max</th>\n",
       "      <td>172792.000000</td>\n",
       "      <td>2.454930e+00</td>\n",
       "      <td>2.205773e+01</td>\n",
       "      <td>9.382558e+00</td>\n",
       "      <td>1.687534e+01</td>\n",
       "      <td>3.480167e+01</td>\n",
       "      <td>7.330163e+01</td>\n",
       "      <td>1.205895e+02</td>\n",
       "      <td>2.000721e+01</td>\n",
       "      <td>1.559499e+01</td>\n",
       "      <td>...</td>\n",
       "      <td>2.720284e+01</td>\n",
       "      <td>1.050309e+01</td>\n",
       "      <td>2.252841e+01</td>\n",
       "      <td>4.584549e+00</td>\n",
       "      <td>7.519589e+00</td>\n",
       "      <td>3.517346e+00</td>\n",
       "      <td>3.161220e+01</td>\n",
       "      <td>3.384781e+01</td>\n",
       "      <td>25691.160000</td>\n",
       "      <td>1.000000</td>\n",
       "    </tr>\n",
       "  </tbody>\n",
       "</table>\n",
       "<p>8 rows × 31 columns</p>\n",
       "</div>"
      ],
      "text/plain": [
       "                Time            V1            V2            V3            V4  \\\n",
       "count  284807.000000  2.848070e+05  2.848070e+05  2.848070e+05  2.848070e+05   \n",
       "mean    94813.859575  3.919560e-15  5.688174e-16 -8.769071e-15  2.782312e-15   \n",
       "std     47488.145955  1.958696e+00  1.651309e+00  1.516255e+00  1.415869e+00   \n",
       "min         0.000000 -5.640751e+01 -7.271573e+01 -4.832559e+01 -5.683171e+00   \n",
       "25%     54201.500000 -9.203734e-01 -5.985499e-01 -8.903648e-01 -8.486401e-01   \n",
       "50%     84692.000000  1.810880e-02  6.548556e-02  1.798463e-01 -1.984653e-02   \n",
       "75%    139320.500000  1.315642e+00  8.037239e-01  1.027196e+00  7.433413e-01   \n",
       "max    172792.000000  2.454930e+00  2.205773e+01  9.382558e+00  1.687534e+01   \n",
       "\n",
       "                 V5            V6            V7            V8            V9  \\\n",
       "count  2.848070e+05  2.848070e+05  2.848070e+05  2.848070e+05  2.848070e+05   \n",
       "mean  -1.552563e-15  2.010663e-15 -1.694249e-15 -1.927028e-16 -3.137024e-15   \n",
       "std    1.380247e+00  1.332271e+00  1.237094e+00  1.194353e+00  1.098632e+00   \n",
       "min   -1.137433e+02 -2.616051e+01 -4.355724e+01 -7.321672e+01 -1.343407e+01   \n",
       "25%   -6.915971e-01 -7.682956e-01 -5.540759e-01 -2.086297e-01 -6.430976e-01   \n",
       "50%   -5.433583e-02 -2.741871e-01  4.010308e-02  2.235804e-02 -5.142873e-02   \n",
       "75%    6.119264e-01  3.985649e-01  5.704361e-01  3.273459e-01  5.971390e-01   \n",
       "max    3.480167e+01  7.330163e+01  1.205895e+02  2.000721e+01  1.559499e+01   \n",
       "\n",
       "       ...           V21           V22           V23           V24  \\\n",
       "count  ...  2.848070e+05  2.848070e+05  2.848070e+05  2.848070e+05   \n",
       "mean   ...  1.537294e-16  7.959909e-16  5.367590e-16  4.458112e-15   \n",
       "std    ...  7.345240e-01  7.257016e-01  6.244603e-01  6.056471e-01   \n",
       "min    ... -3.483038e+01 -1.093314e+01 -4.480774e+01 -2.836627e+00   \n",
       "25%    ... -2.283949e-01 -5.423504e-01 -1.618463e-01 -3.545861e-01   \n",
       "50%    ... -2.945017e-02  6.781943e-03 -1.119293e-02  4.097606e-02   \n",
       "75%    ...  1.863772e-01  5.285536e-01  1.476421e-01  4.395266e-01   \n",
       "max    ...  2.720284e+01  1.050309e+01  2.252841e+01  4.584549e+00   \n",
       "\n",
       "                V25           V26           V27           V28         Amount  \\\n",
       "count  2.848070e+05  2.848070e+05  2.848070e+05  2.848070e+05  284807.000000   \n",
       "mean   1.453003e-15  1.699104e-15 -3.660161e-16 -1.206049e-16      88.349619   \n",
       "std    5.212781e-01  4.822270e-01  4.036325e-01  3.300833e-01     250.120109   \n",
       "min   -1.029540e+01 -2.604551e+00 -2.256568e+01 -1.543008e+01       0.000000   \n",
       "25%   -3.171451e-01 -3.269839e-01 -7.083953e-02 -5.295979e-02       5.600000   \n",
       "50%    1.659350e-02 -5.213911e-02  1.342146e-03  1.124383e-02      22.000000   \n",
       "75%    3.507156e-01  2.409522e-01  9.104512e-02  7.827995e-02      77.165000   \n",
       "max    7.519589e+00  3.517346e+00  3.161220e+01  3.384781e+01   25691.160000   \n",
       "\n",
       "               Class  \n",
       "count  284807.000000  \n",
       "mean        0.001727  \n",
       "std         0.041527  \n",
       "min         0.000000  \n",
       "25%         0.000000  \n",
       "50%         0.000000  \n",
       "75%         0.000000  \n",
       "max         1.000000  \n",
       "\n",
       "[8 rows x 31 columns]"
      ]
     },
     "execution_count": 6,
     "metadata": {},
     "output_type": "execute_result"
    }
   ],
   "source": [
    "#Information of the database\n",
    "df.describe()"
   ]
  },
  {
   "cell_type": "code",
   "execution_count": 7,
   "metadata": {},
   "outputs": [
    {
     "data": {
      "text/plain": [
       "False"
      ]
     },
     "execution_count": 7,
     "metadata": {},
     "output_type": "execute_result"
    }
   ],
   "source": [
    "#Check if there a null value in the database\n",
    "df.isnull().values.any()"
   ]
  },
  {
   "cell_type": "markdown",
   "metadata": {},
   "source": [
    "# Data visualization "
   ]
  },
  {
   "cell_type": "code",
   "execution_count": 8,
   "metadata": {},
   "outputs": [
    {
     "data": {
      "text/plain": [
       "0    284315\n",
       "1       492\n",
       "Name: Class, dtype: int64"
      ]
     },
     "execution_count": 8,
     "metadata": {},
     "output_type": "execute_result"
    }
   ],
   "source": [
    "#check how many classes that we have and what is the value of each class.\n",
    "df[\"Class\"].value_counts()"
   ]
  },
  {
   "cell_type": "code",
   "execution_count": 9,
   "metadata": {},
   "outputs": [
    {
     "data": {
      "text/plain": [
       "Text(0, 0.5, 'Frequency')"
      ]
     },
     "execution_count": 9,
     "metadata": {},
     "output_type": "execute_result"
    },
    {
     "data": {
      "image/png": "[encoded data removed]",
      "text/plain": [
       "<Figure size 648x576 with 1 Axes>"
      ]
     },
     "metadata": {},
     "output_type": "display_data"
    }
   ],
   "source": [
    "#plot the classes\n",
    "plt.figure(figsize = (9,8))\n",
    "df[\"Class\"].value_counts().plot(kind='bar')\n",
    "plt.title(\"Transaction Class Distribution\")\n",
    "\n",
    "plt.xticks(range(2),  [\"Normal\", \"Fraud\"])\n",
    "\n",
    "plt.xlabel(\"Class\")\n",
    "\n",
    "plt.ylabel(\"Frequency\")"
   ]
  },
  {
   "cell_type": "code",
   "execution_count": 10,
   "metadata": {},
   "outputs": [
    {
     "data": {
      "text/plain": [
       "<seaborn.axisgrid.FacetGrid at 0x109c30700>"
      ]
     },
     "execution_count": 10,
     "metadata": {},
     "output_type": "execute_result"
    },
    {
     "data": {
      "image/png": "[encoded data removed]",
      "text/plain": [
       "<Figure size 401.625x360 with 1 Axes>"
      ]
     },
     "metadata": {},
     "output_type": "display_data"
    }
   ],
   "source": [
    "#plot \n",
    "sns.relplot(x='Amount', y='Time', hue='Class', data=df)\n"
   ]
  },
  {
   "cell_type": "code",
   "execution_count": 11,
   "metadata": {},
   "outputs": [
    {
     "data": {
      "image/png": "[encoded data removed]",
      "text/plain": [
       "<Figure size 576x576 with 1 Axes>"
      ]
     },
     "metadata": {},
     "output_type": "display_data"
    }
   ],
   "source": [
    "#plot amount according to class\n",
    "#There are two classes 0 and 1\n",
    "plt.figure(figsize = (8,8))\n",
    "\n",
    "\n",
    "plt.scatter(df.Amount, df.Class, marker='+',color='red')\n",
    "\n",
    "\n",
    "plt.xlabel(\"Amount\", fontsize =16)\n",
    "\n",
    "\n",
    "plt.ylabel(\"Class\", fontsize = 16)\n",
    "\n",
    "\n",
    "plt.show()"
   ]
  },
  {
   "cell_type": "markdown",
   "metadata": {},
   "source": [
    "# Models"
   ]
  },
  {
   "cell_type": "markdown",
   "metadata": {},
   "source": [
    "#### Now, we use the training set to build an accurate model. Then use the test set to report the accuracy of the model. We use the following algorithms:\n",
    "\n",
    "-Logistic Regression.\n",
    "\n",
    "-Support Vector Machine.\n",
    "\n",
    "-Random Forest.\n",
    "\n",
    "-Artificial Neural network.\n",
    "\n"
   ]
  },
  {
   "cell_type": "markdown",
   "metadata": {},
   "source": [
    "# Logistic Regression"
   ]
  },
  {
   "cell_type": "code",
   "execution_count": 5,
   "metadata": {},
   "outputs": [],
   "source": [
    "## First import the package\n",
    "from sklearn.model_selection import train_test_split"
   ]
  },
  {
   "cell_type": "code",
   "execution_count": 6,
   "metadata": {},
   "outputs": [],
   "source": [
    "###Separate features\n",
    "X_LR=df.iloc[:,:-1]\n",
    "y_LR=df.iloc[:,-1]\n"
   ]
  },
  {
   "cell_type": "code",
   "execution_count": 7,
   "metadata": {},
   "outputs": [],
   "source": [
    "## Now split the data\n",
    "## Have 20% for testing\n",
    "## Set 40 as the random state\n",
    "## and stratify the split\n",
    "X_train_LR, X_test_LR, y_train_LR, y_test_LR=train_test_split(X_LR,y_LR,\n",
    "                                                  test_size=.2,\n",
    "                                                  random_state=40,\n",
    "                                                  shuffle=True,\n",
    "                                                  stratify=y_LR)"
   ]
  },
  {
   "cell_type": "code",
   "execution_count": 8,
   "metadata": {},
   "outputs": [],
   "source": [
    "#Use a pipeline with StandardScaler and LogisticRegression\n",
    "from sklearn.linear_model import LogisticRegression\n",
    "from sklearn.preprocessing import StandardScaler\n",
    "from sklearn.pipeline import Pipeline\n",
    "pipe_LR = Pipeline([('preprocess',StandardScaler()),\n",
    "                ('Lreg',LogisticRegression())])\n",
    "\n",
    "\n"
   ]
  },
  {
   "cell_type": "code",
   "execution_count": 9,
   "metadata": {},
   "outputs": [
    {
     "data": {
      "text/plain": [
       "Pipeline(steps=[('preprocess', StandardScaler()),\n",
       "                ('Lreg', LogisticRegression())])"
      ]
     },
     "execution_count": 9,
     "metadata": {},
     "output_type": "execute_result"
    }
   ],
   "source": [
    "## Fit the model here\n",
    "pipe_LR.fit(X_train_LR,y_train_LR)"
   ]
  },
  {
   "cell_type": "code",
   "execution_count": 10,
   "metadata": {},
   "outputs": [
    {
     "name": "stdout",
     "output_type": "stream",
     "text": [
      "[0 0 0 ... 0 0 0]\n",
      "0.7448680351906158\n",
      "0.8819444444444444\n",
      "0.6446700507614214\n",
      "0.99923632293884\n"
     ]
    }
   ],
   "source": [
    "## get the predictions X_train\n",
    "y_pred_train_LR=pipe_LR.predict(X_train_LR)\n",
    "print(y_pred_train_LR)\n",
    "# now we can get the evaluation score for training data\n",
    "from sklearn.metrics import accuracy_score\n",
    "from sklearn.metrics import precision_score\n",
    "from sklearn.metrics import recall_score\n",
    "from sklearn.metrics import f1_score\n",
    "\n",
    "precision_score_LR_train=precision_score(y_train_LR,y_pred_train_LR)\n",
    "recall_score_LR_train=recall_score(y_train_LR,y_pred_train_LR)\n",
    "f1_score_LR_train=f1_score(y_train_LR,y_pred_train_LR)\n",
    "accuracy_score_LR_train=accuracy_score(y_train_LR,y_pred_train_LR)\n",
    "\n",
    "\n",
    "print(f1_score_LR_train)\n",
    "print(precision_score_LR_train)\n",
    "print(recall_score_LR_train)\n",
    "print(accuracy_score_LR_train)\n",
    "\n",
    "\n",
    "\n"
   ]
  },
  {
   "cell_type": "code",
   "execution_count": 11,
   "metadata": {},
   "outputs": [
    {
     "name": "stdout",
     "output_type": "stream",
     "text": [
      "[[9.99720769e-01 2.79230799e-04]\n",
      " [9.99489230e-01 5.10770122e-04]\n",
      " [9.99956019e-01 4.39805563e-05]\n",
      " ...\n",
      " [9.99759254e-01 2.40745586e-04]\n",
      " [9.99910876e-01 8.91239720e-05]\n",
      " [9.98644453e-01 1.35554728e-03]]\n"
     ]
    }
   ],
   "source": [
    "#predict the probabilities\n",
    "y_pred_prob_LR=pipe_LR.predict_proba(X_train_LR)\n",
    "print(y_pred_prob_LR)\n",
    "\n"
   ]
  },
  {
   "cell_type": "code",
   "execution_count": 12,
   "metadata": {},
   "outputs": [
    {
     "data": {
      "text/plain": [
       "(array([0.        , 0.        , 0.        , ..., 0.99919543, 0.99920422,\n",
       "        1.        ]),\n",
       " array([0.        , 0.00253807, 0.00761421, ..., 1.        , 1.        ,\n",
       "        1.        ]),\n",
       " array([2.00000000e+00, 1.00000000e+00, 1.00000000e+00, ...,\n",
       "        1.68082593e-10, 1.61854618e-10, 5.40513592e-13]))"
      ]
     },
     "execution_count": 12,
     "metadata": {},
     "output_type": "execute_result"
    }
   ],
   "source": [
    "#now we can get the ROC\n",
    "from sklearn.metrics import roc_curve\n",
    "\n",
    "roc_curve(y_train_LR,y_pred_prob_LR[:,1])"
   ]
  },
  {
   "cell_type": "code",
   "execution_count": 13,
   "metadata": {},
   "outputs": [],
   "source": [
    "#we get the fpr,tpr,cutoffs\n",
    "fpr_LR,tpr_LR,cutoffs_LR = roc_curve(y_train_LR,y_pred_prob_LR[:,1])"
   ]
  },
  {
   "cell_type": "code",
   "execution_count": 14,
   "metadata": {},
   "outputs": [
    {
     "name": "stdout",
     "output_type": "stream",
     "text": [
      "0.98006714091842\n"
     ]
    }
   ],
   "source": [
    "#now we can get the AUC\n",
    "from sklearn.metrics import roc_auc_score\n",
    "auc_lR=roc_auc_score(y_train_LR,y_pred_prob_LR[:,1])\n",
    "print(auc_lR)"
   ]
  },
  {
   "cell_type": "code",
   "execution_count": 15,
   "metadata": {},
   "outputs": [
    {
     "data": {
      "image/png": "[encoded data removed]",
      "text/plain": [
       "<Figure size 864x576 with 1 Axes>"
      ]
     },
     "metadata": {},
     "output_type": "display_data"
    }
   ],
   "source": [
    "#plot ROC with AUC\n",
    "plt.figure(figsize=(12,8))\n",
    "\n",
    "plt.plot(fpr_LR,tpr_LR,label='AUC LR= '+str(np.around(auc_lR,4)))\n",
    "\n",
    "\n",
    "\n",
    "plt.xlabel(\"False Positive Rate\",fontsize=16)\n",
    "plt.ylabel(\"True Positive Rate\",fontsize=16)\n",
    "\n",
    "plt.title(\"ROC Curve\", fontsize=18)\n",
    "plt.xticks(fontsize=12)\n",
    "plt.yticks(fontsize=12)\n",
    "plt.legend(loc='best')\n",
    "plt.show()"
   ]
  },
  {
   "cell_type": "code",
   "execution_count": 16,
   "metadata": {},
   "outputs": [
    {
     "name": "stdout",
     "output_type": "stream",
     "text": [
      "[0 0 0 ... 0 0 0]\n",
      "[[9.99907058e-01 9.29416966e-05]\n",
      " [9.99976085e-01 2.39152281e-05]\n",
      " [9.99899860e-01 1.00139794e-04]\n",
      " ...\n",
      " [9.99937682e-01 6.23177502e-05]\n",
      " [9.99840614e-01 1.59386277e-04]\n",
      " [9.99718330e-01 2.81669581e-04]]\n"
     ]
    }
   ],
   "source": [
    "## get the predictions X_test\n",
    "y_pred_test_LR=pipe_LR.predict(X_test_LR)\n",
    "print(y_pred_test_LR)\n",
    "\n",
    "## get the predictions of the probabilities of X_test\n",
    "y_pred_prob_test_LR=pipe_LR.predict_proba(X_test_LR)\n",
    "print(y_pred_prob_test_LR)\n"
   ]
  },
  {
   "cell_type": "code",
   "execution_count": 63,
   "metadata": {},
   "outputs": [
    {
     "data": {
      "text/plain": [
       "<sklearn.metrics._plot.precision_recall_curve.PrecisionRecallDisplay at 0x15c912790>"
      ]
     },
     "execution_count": 63,
     "metadata": {},
     "output_type": "execute_result"
    },
    {
     "data": {
      "image/png": "[encoded data removed]",
      "text/plain": [
       "<Figure size 864x576 with 1 Axes>"
      ]
     },
     "metadata": {},
     "output_type": "display_data"
    },
    {
     "data": {
      "image/png": "[encoded data removed]",
      "text/plain": [
       "<Figure size 432x288 with 1 Axes>"
      ]
     },
     "metadata": {},
     "output_type": "display_data"
    }
   ],
   "source": [
    "\n",
    "from sklearn.metrics import precision_recall_curve, average_precision_score, auc\n",
    "# calculate precision-recall curve\n",
    "precision_LR, recall_LR, thresholds_LR = precision_recall_curve(y_test_LR, y_pred_prob_test_LR[:,1])\n",
    "\n",
    "\n",
    "\n",
    "#avg_pre_LR = average_precision_score(y_test_LR, y_pred_prob_test_LR[:,1])\n",
    "\n",
    "PRauc_LR= auc(recall_LR, precision_LR)\n",
    "#plot precision-recall curve\n",
    "plt.figure(figsize=(12,8))\n",
    "plt.plot(precision_LR, recall_LR, label='AUC LR= '+str(np.around(PRauc_LR,4)))\n",
    "plt.xlabel('Precision', fontsize = 14)\n",
    "plt.ylabel('Recall', fontsize = 14)\n",
    "plt.title('Precision-Recall Curve', fontsize = 18)\n",
    "plt.legend(loc = 'best')\n",
    "#find default threshold\n",
    "#close_default = np.argmin(np.abs(thresholds_pr - 0.5))\n",
    "#ax1.plot(precision[close_default], recall[close_default], 'o', markersize = 8)\n",
    "        \n",
    "\n",
    " \n",
    "\n",
    "from sklearn.metrics import plot_precision_recall_curve\n",
    "\n",
    "plot_precision_recall_curve(pipe_LR, X_test_LR, y_test_LR, name = 'Logistic Regression')\n",
    "        \n",
    "        "
   ]
  },
  {
   "cell_type": "code",
   "execution_count": 24,
   "metadata": {},
   "outputs": [
    {
     "name": "stdout",
     "output_type": "stream",
     "text": [
      "[[56856     8]\n",
      " [   47    51]]\n"
     ]
    }
   ],
   "source": [
    "# now we can get the confusion matrix\n",
    "from sklearn.metrics import confusion_matrix\n",
    "print(confusion_matrix(y_test_LR,y_pred_test_LR))"
   ]
  },
  {
   "cell_type": "code",
   "execution_count": 25,
   "metadata": {},
   "outputs": [
    {
     "name": "stdout",
     "output_type": "stream",
     "text": [
      "0.6496815286624203\n",
      "0.864406779661017\n",
      "0.5204081632653061\n",
      "0.9990344440153085\n"
     ]
    }
   ],
   "source": [
    "# now we can get the precision score, recall score and f1 score\n",
    "from sklearn.metrics import precision_score\n",
    "from sklearn.metrics import recall_score\n",
    "from sklearn.metrics import f1_score\n",
    "precision_score_LR=precision_score(y_test_LR,y_pred_test_LR)\n",
    "recall_score_LR=recall_score(y_test_LR,y_pred_test_LR)\n",
    "f1_score_LR=f1_score(y_test_LR,y_pred_test_LR)\n",
    "accuracy_score_LR=accuracy_score(y_test_LR,y_pred_test_LR)\n",
    "print(f1_score_LR)\n",
    "print(precision_score_LR)\n",
    "print(recall_score_LR)\n",
    "print(accuracy_score_LR)"
   ]
  },
  {
   "cell_type": "code",
   "execution_count": 26,
   "metadata": {},
   "outputs": [
    {
     "name": "stdout",
     "output_type": "stream",
     "text": [
      "              precision    recall  f1-score   support\n",
      "\n",
      "           0       1.00      1.00      1.00     56864\n",
      "           1       0.86      0.52      0.65        98\n",
      "\n",
      "    accuracy                           1.00     56962\n",
      "   macro avg       0.93      0.76      0.82     56962\n",
      "weighted avg       1.00      1.00      1.00     56962\n",
      "\n"
     ]
    }
   ],
   "source": [
    "# now we can get the classification_report to know the precision, the recall, the f1-score, the support\n",
    "from sklearn.metrics import classification_report\n",
    "print(classification_report(y_test_LR,y_pred_test_LR))"
   ]
  },
  {
   "cell_type": "markdown",
   "metadata": {},
   "source": [
    "# Artificial Neural Network "
   ]
  },
  {
   "cell_type": "code",
   "execution_count": 64,
   "metadata": {},
   "outputs": [],
   "source": [
    "import tensorflow as tf\n",
    "from tensorflow import keras\n",
    "from tensorflow.keras import layers\n",
    "\n",
    "# Keras. \n",
    "\n",
    "from keras import models\n",
    "from keras import layers\n",
    "from keras import optimizers\n",
    "from keras import losses\n",
    "from keras import metrics\n",
    "\n",
    "from keras.metrics import binary_crossentropy\n",
    "\n",
    "\n",
    "\n",
    "\n",
    "## Define categorical funcion. This prepares entries for tensor analysis. \n",
    "\n",
    "def to_categorical(y):\n",
    "    return tf.keras.utils.to_categorical(y)\n"
   ]
  },
  {
   "cell_type": "code",
   "execution_count": 65,
   "metadata": {},
   "outputs": [],
   "source": [
    "# Pickout the valid transactions.\n",
    "\n",
    "valid_transactions = df.loc[df['Class'] == 0.0]\n",
    "fraudulent_transactions = df.drop(valid_transactions.index)"
   ]
  },
  {
   "cell_type": "code",
   "execution_count": 66,
   "metadata": {},
   "outputs": [
    {
     "data": {
      "text/html": [
       "<div>\n",
       "<style scoped>\n",
       "    .dataframe tbody tr th:only-of-type {\n",
       "        vertical-align: middle;\n",
       "    }\n",
       "\n",
       "    .dataframe tbody tr th {\n",
       "        vertical-align: top;\n",
       "    }\n",
       "\n",
       "    .dataframe thead th {\n",
       "        text-align: right;\n",
       "    }\n",
       "</style>\n",
       "<table border=\"1\" class=\"dataframe\">\n",
       "  <thead>\n",
       "    <tr style=\"text-align: right;\">\n",
       "      <th></th>\n",
       "      <th>Time</th>\n",
       "      <th>V1</th>\n",
       "      <th>V2</th>\n",
       "      <th>V3</th>\n",
       "      <th>V4</th>\n",
       "      <th>V5</th>\n",
       "      <th>V6</th>\n",
       "      <th>V7</th>\n",
       "      <th>V8</th>\n",
       "      <th>V9</th>\n",
       "      <th>...</th>\n",
       "      <th>V21</th>\n",
       "      <th>V22</th>\n",
       "      <th>V23</th>\n",
       "      <th>V24</th>\n",
       "      <th>V25</th>\n",
       "      <th>V26</th>\n",
       "      <th>V27</th>\n",
       "      <th>V28</th>\n",
       "      <th>Amount</th>\n",
       "      <th>Class</th>\n",
       "    </tr>\n",
       "  </thead>\n",
       "  <tbody>\n",
       "    <tr>\n",
       "      <th>42756</th>\n",
       "      <td>41233.0</td>\n",
       "      <td>-10.645800</td>\n",
       "      <td>5.918307</td>\n",
       "      <td>-11.671043</td>\n",
       "      <td>8.807369</td>\n",
       "      <td>-7.975501</td>\n",
       "      <td>-3.586806</td>\n",
       "      <td>-13.616797</td>\n",
       "      <td>6.428169</td>\n",
       "      <td>-7.368451</td>\n",
       "      <td>...</td>\n",
       "      <td>2.571970</td>\n",
       "      <td>0.206809</td>\n",
       "      <td>-1.667801</td>\n",
       "      <td>0.558419</td>\n",
       "      <td>-0.027898</td>\n",
       "      <td>0.354254</td>\n",
       "      <td>0.273329</td>\n",
       "      <td>-0.152908</td>\n",
       "      <td>0.00</td>\n",
       "      <td>1</td>\n",
       "    </tr>\n",
       "    <tr>\n",
       "      <th>111788</th>\n",
       "      <td>72368.0</td>\n",
       "      <td>1.534339</td>\n",
       "      <td>-1.091233</td>\n",
       "      <td>0.079991</td>\n",
       "      <td>-1.631761</td>\n",
       "      <td>-1.153020</td>\n",
       "      <td>-0.225528</td>\n",
       "      <td>-1.092281</td>\n",
       "      <td>0.004978</td>\n",
       "      <td>-1.906298</td>\n",
       "      <td>...</td>\n",
       "      <td>-0.229442</td>\n",
       "      <td>-0.347116</td>\n",
       "      <td>-0.074383</td>\n",
       "      <td>-0.570861</td>\n",
       "      <td>0.441249</td>\n",
       "      <td>-0.167600</td>\n",
       "      <td>0.018656</td>\n",
       "      <td>0.000385</td>\n",
       "      <td>15.00</td>\n",
       "      <td>0</td>\n",
       "    </tr>\n",
       "    <tr>\n",
       "      <th>111690</th>\n",
       "      <td>72327.0</td>\n",
       "      <td>-4.198735</td>\n",
       "      <td>0.194121</td>\n",
       "      <td>-3.917586</td>\n",
       "      <td>3.920748</td>\n",
       "      <td>-1.875486</td>\n",
       "      <td>-2.118933</td>\n",
       "      <td>-3.614445</td>\n",
       "      <td>1.687884</td>\n",
       "      <td>-2.189871</td>\n",
       "      <td>...</td>\n",
       "      <td>0.801312</td>\n",
       "      <td>-0.183001</td>\n",
       "      <td>-0.440387</td>\n",
       "      <td>0.292539</td>\n",
       "      <td>-0.144967</td>\n",
       "      <td>-0.251744</td>\n",
       "      <td>1.249414</td>\n",
       "      <td>-0.131525</td>\n",
       "      <td>238.90</td>\n",
       "      <td>1</td>\n",
       "    </tr>\n",
       "    <tr>\n",
       "      <th>150587</th>\n",
       "      <td>93712.0</td>\n",
       "      <td>-0.641045</td>\n",
       "      <td>0.467736</td>\n",
       "      <td>1.611384</td>\n",
       "      <td>-1.361223</td>\n",
       "      <td>0.167482</td>\n",
       "      <td>-0.632167</td>\n",
       "      <td>0.670321</td>\n",
       "      <td>-0.419580</td>\n",
       "      <td>2.324035</td>\n",
       "      <td>...</td>\n",
       "      <td>0.156011</td>\n",
       "      <td>1.005206</td>\n",
       "      <td>-0.177675</td>\n",
       "      <td>0.037004</td>\n",
       "      <td>-0.416771</td>\n",
       "      <td>-0.185760</td>\n",
       "      <td>-0.265719</td>\n",
       "      <td>-0.045880</td>\n",
       "      <td>24.95</td>\n",
       "      <td>0</td>\n",
       "    </tr>\n",
       "    <tr>\n",
       "      <th>168079</th>\n",
       "      <td>119057.0</td>\n",
       "      <td>-0.118709</td>\n",
       "      <td>0.742993</td>\n",
       "      <td>-0.265434</td>\n",
       "      <td>0.768578</td>\n",
       "      <td>1.270613</td>\n",
       "      <td>1.351334</td>\n",
       "      <td>0.822914</td>\n",
       "      <td>0.059131</td>\n",
       "      <td>-0.531099</td>\n",
       "      <td>...</td>\n",
       "      <td>0.335917</td>\n",
       "      <td>1.350903</td>\n",
       "      <td>-0.325281</td>\n",
       "      <td>-1.689117</td>\n",
       "      <td>-0.418387</td>\n",
       "      <td>0.386147</td>\n",
       "      <td>-0.016474</td>\n",
       "      <td>-0.043508</td>\n",
       "      <td>77.53</td>\n",
       "      <td>0</td>\n",
       "    </tr>\n",
       "  </tbody>\n",
       "</table>\n",
       "<p>5 rows × 31 columns</p>\n",
       "</div>"
      ],
      "text/plain": [
       "            Time         V1        V2         V3        V4        V5  \\\n",
       "42756    41233.0 -10.645800  5.918307 -11.671043  8.807369 -7.975501   \n",
       "111788   72368.0   1.534339 -1.091233   0.079991 -1.631761 -1.153020   \n",
       "111690   72327.0  -4.198735  0.194121  -3.917586  3.920748 -1.875486   \n",
       "150587   93712.0  -0.641045  0.467736   1.611384 -1.361223  0.167482   \n",
       "168079  119057.0  -0.118709  0.742993  -0.265434  0.768578  1.270613   \n",
       "\n",
       "              V6         V7        V8        V9  ...       V21       V22  \\\n",
       "42756  -3.586806 -13.616797  6.428169 -7.368451  ...  2.571970  0.206809   \n",
       "111788 -0.225528  -1.092281  0.004978 -1.906298  ... -0.229442 -0.347116   \n",
       "111690 -2.118933  -3.614445  1.687884 -2.189871  ...  0.801312 -0.183001   \n",
       "150587 -0.632167   0.670321 -0.419580  2.324035  ...  0.156011  1.005206   \n",
       "168079  1.351334   0.822914  0.059131 -0.531099  ...  0.335917  1.350903   \n",
       "\n",
       "             V23       V24       V25       V26       V27       V28  Amount  \\\n",
       "42756  -1.667801  0.558419 -0.027898  0.354254  0.273329 -0.152908    0.00   \n",
       "111788 -0.074383 -0.570861  0.441249 -0.167600  0.018656  0.000385   15.00   \n",
       "111690 -0.440387  0.292539 -0.144967 -0.251744  1.249414 -0.131525  238.90   \n",
       "150587 -0.177675  0.037004 -0.416771 -0.185760 -0.265719 -0.045880   24.95   \n",
       "168079 -0.325281 -1.689117 -0.418387  0.386147 -0.016474 -0.043508   77.53   \n",
       "\n",
       "        Class  \n",
       "42756       1  \n",
       "111788      0  \n",
       "111690      1  \n",
       "150587      0  \n",
       "168079      0  \n",
       "\n",
       "[5 rows x 31 columns]"
      ]
     },
     "execution_count": 66,
     "metadata": {},
     "output_type": "execute_result"
    }
   ],
   "source": [
    "# Create a more balanced data set. This training set will have a 50 / 50 split of valid and fraudulent transactions.\n",
    "# I'll randomly sample 492 valid transactions and then add on the remaining 492 invalid transactions for a total of \n",
    "# 984. \n",
    "\n",
    "valid_sample = valid_transactions.sample(492)\n",
    "\n",
    "# Shuffle the data \n",
    "\n",
    "sample_data_df = pd.concat([valid_sample, fraudulent_transactions]).sample(frac = 1, random_state = 42)\n",
    "\n",
    "sample_data_df.head()"
   ]
  },
  {
   "cell_type": "code",
   "execution_count": 67,
   "metadata": {},
   "outputs": [],
   "source": [
    "# Scale the data. Must run the previous block before this one to avoid error.\n",
    "\n",
    "from sklearn.preprocessing import StandardScaler, RobustScaler\n",
    "\n",
    "std_scaler = StandardScaler()\n",
    "rob_scaler = RobustScaler()\n",
    "\n",
    "sample_data_df['scaled_amount'] = rob_scaler.fit_transform(sample_data_df['Amount'].values.reshape(-1,1))\n",
    "sample_data_df['scaled_time'] = rob_scaler.fit_transform(sample_data_df['Time'].values.reshape(-1,1))\n",
    "\n",
    "sample_data_df.drop(['Time','Amount'], axis=1, inplace=True)"
   ]
  },
  {
   "cell_type": "code",
   "execution_count": 68,
   "metadata": {},
   "outputs": [
    {
     "data": {
      "text/html": [
       "<div>\n",
       "<style scoped>\n",
       "    .dataframe tbody tr th:only-of-type {\n",
       "        vertical-align: middle;\n",
       "    }\n",
       "\n",
       "    .dataframe tbody tr th {\n",
       "        vertical-align: top;\n",
       "    }\n",
       "\n",
       "    .dataframe thead th {\n",
       "        text-align: right;\n",
       "    }\n",
       "</style>\n",
       "<table border=\"1\" class=\"dataframe\">\n",
       "  <thead>\n",
       "    <tr style=\"text-align: right;\">\n",
       "      <th></th>\n",
       "      <th>scaled_amount</th>\n",
       "      <th>scaled_time</th>\n",
       "      <th>V1</th>\n",
       "      <th>V2</th>\n",
       "      <th>V3</th>\n",
       "      <th>V4</th>\n",
       "      <th>V5</th>\n",
       "      <th>V6</th>\n",
       "      <th>V7</th>\n",
       "      <th>V8</th>\n",
       "      <th>...</th>\n",
       "      <th>V20</th>\n",
       "      <th>V21</th>\n",
       "      <th>V22</th>\n",
       "      <th>V23</th>\n",
       "      <th>V24</th>\n",
       "      <th>V25</th>\n",
       "      <th>V26</th>\n",
       "      <th>V27</th>\n",
       "      <th>V28</th>\n",
       "      <th>Class</th>\n",
       "    </tr>\n",
       "  </thead>\n",
       "  <tbody>\n",
       "    <tr>\n",
       "      <th>42756</th>\n",
       "      <td>-0.171626</td>\n",
       "      <td>-0.435244</td>\n",
       "      <td>-10.645800</td>\n",
       "      <td>5.918307</td>\n",
       "      <td>-11.671043</td>\n",
       "      <td>8.807369</td>\n",
       "      <td>-7.975501</td>\n",
       "      <td>-3.586806</td>\n",
       "      <td>-13.616797</td>\n",
       "      <td>6.428169</td>\n",
       "      <td>...</td>\n",
       "      <td>-0.046170</td>\n",
       "      <td>2.571970</td>\n",
       "      <td>0.206809</td>\n",
       "      <td>-1.667801</td>\n",
       "      <td>0.558419</td>\n",
       "      <td>-0.027898</td>\n",
       "      <td>0.354254</td>\n",
       "      <td>0.273329</td>\n",
       "      <td>-0.152908</td>\n",
       "      <td>1</td>\n",
       "    </tr>\n",
       "    <tr>\n",
       "      <th>111788</th>\n",
       "      <td>-0.019295</td>\n",
       "      <td>-0.072696</td>\n",
       "      <td>1.534339</td>\n",
       "      <td>-1.091233</td>\n",
       "      <td>0.079991</td>\n",
       "      <td>-1.631761</td>\n",
       "      <td>-1.153020</td>\n",
       "      <td>-0.225528</td>\n",
       "      <td>-1.092281</td>\n",
       "      <td>0.004978</td>\n",
       "      <td>...</td>\n",
       "      <td>-0.345664</td>\n",
       "      <td>-0.229442</td>\n",
       "      <td>-0.347116</td>\n",
       "      <td>-0.074383</td>\n",
       "      <td>-0.570861</td>\n",
       "      <td>0.441249</td>\n",
       "      <td>-0.167600</td>\n",
       "      <td>0.018656</td>\n",
       "      <td>0.000385</td>\n",
       "      <td>0</td>\n",
       "    </tr>\n",
       "    <tr>\n",
       "      <th>111690</th>\n",
       "      <td>2.254494</td>\n",
       "      <td>-0.073173</td>\n",
       "      <td>-4.198735</td>\n",
       "      <td>0.194121</td>\n",
       "      <td>-3.917586</td>\n",
       "      <td>3.920748</td>\n",
       "      <td>-1.875486</td>\n",
       "      <td>-2.118933</td>\n",
       "      <td>-3.614445</td>\n",
       "      <td>1.687884</td>\n",
       "      <td>...</td>\n",
       "      <td>1.003350</td>\n",
       "      <td>0.801312</td>\n",
       "      <td>-0.183001</td>\n",
       "      <td>-0.440387</td>\n",
       "      <td>0.292539</td>\n",
       "      <td>-0.144967</td>\n",
       "      <td>-0.251744</td>\n",
       "      <td>1.249414</td>\n",
       "      <td>-0.131525</td>\n",
       "      <td>1</td>\n",
       "    </tr>\n",
       "    <tr>\n",
       "      <th>150587</th>\n",
       "      <td>0.081751</td>\n",
       "      <td>0.175842</td>\n",
       "      <td>-0.641045</td>\n",
       "      <td>0.467736</td>\n",
       "      <td>1.611384</td>\n",
       "      <td>-1.361223</td>\n",
       "      <td>0.167482</td>\n",
       "      <td>-0.632167</td>\n",
       "      <td>0.670321</td>\n",
       "      <td>-0.419580</td>\n",
       "      <td>...</td>\n",
       "      <td>-0.323937</td>\n",
       "      <td>0.156011</td>\n",
       "      <td>1.005206</td>\n",
       "      <td>-0.177675</td>\n",
       "      <td>0.037004</td>\n",
       "      <td>-0.416771</td>\n",
       "      <td>-0.185760</td>\n",
       "      <td>-0.265719</td>\n",
       "      <td>-0.045880</td>\n",
       "      <td>0</td>\n",
       "    </tr>\n",
       "    <tr>\n",
       "      <th>168079</th>\n",
       "      <td>0.615721</td>\n",
       "      <td>0.470969</td>\n",
       "      <td>-0.118709</td>\n",
       "      <td>0.742993</td>\n",
       "      <td>-0.265434</td>\n",
       "      <td>0.768578</td>\n",
       "      <td>1.270613</td>\n",
       "      <td>1.351334</td>\n",
       "      <td>0.822914</td>\n",
       "      <td>0.059131</td>\n",
       "      <td>...</td>\n",
       "      <td>0.217742</td>\n",
       "      <td>0.335917</td>\n",
       "      <td>1.350903</td>\n",
       "      <td>-0.325281</td>\n",
       "      <td>-1.689117</td>\n",
       "      <td>-0.418387</td>\n",
       "      <td>0.386147</td>\n",
       "      <td>-0.016474</td>\n",
       "      <td>-0.043508</td>\n",
       "      <td>0</td>\n",
       "    </tr>\n",
       "  </tbody>\n",
       "</table>\n",
       "<p>5 rows × 31 columns</p>\n",
       "</div>"
      ],
      "text/plain": [
       "        scaled_amount  scaled_time         V1        V2         V3        V4  \\\n",
       "42756       -0.171626    -0.435244 -10.645800  5.918307 -11.671043  8.807369   \n",
       "111788      -0.019295    -0.072696   1.534339 -1.091233   0.079991 -1.631761   \n",
       "111690       2.254494    -0.073173  -4.198735  0.194121  -3.917586  3.920748   \n",
       "150587       0.081751     0.175842  -0.641045  0.467736   1.611384 -1.361223   \n",
       "168079       0.615721     0.470969  -0.118709  0.742993  -0.265434  0.768578   \n",
       "\n",
       "              V5        V6         V7        V8  ...       V20       V21  \\\n",
       "42756  -7.975501 -3.586806 -13.616797  6.428169  ... -0.046170  2.571970   \n",
       "111788 -1.153020 -0.225528  -1.092281  0.004978  ... -0.345664 -0.229442   \n",
       "111690 -1.875486 -2.118933  -3.614445  1.687884  ...  1.003350  0.801312   \n",
       "150587  0.167482 -0.632167   0.670321 -0.419580  ... -0.323937  0.156011   \n",
       "168079  1.270613  1.351334   0.822914  0.059131  ...  0.217742  0.335917   \n",
       "\n",
       "             V22       V23       V24       V25       V26       V27       V28  \\\n",
       "42756   0.206809 -1.667801  0.558419 -0.027898  0.354254  0.273329 -0.152908   \n",
       "111788 -0.347116 -0.074383 -0.570861  0.441249 -0.167600  0.018656  0.000385   \n",
       "111690 -0.183001 -0.440387  0.292539 -0.144967 -0.251744  1.249414 -0.131525   \n",
       "150587  1.005206 -0.177675  0.037004 -0.416771 -0.185760 -0.265719 -0.045880   \n",
       "168079  1.350903 -0.325281 -1.689117 -0.418387  0.386147 -0.016474 -0.043508   \n",
       "\n",
       "        Class  \n",
       "42756       1  \n",
       "111788      0  \n",
       "111690      1  \n",
       "150587      0  \n",
       "168079      0  \n",
       "\n",
       "[5 rows x 31 columns]"
      ]
     },
     "execution_count": 68,
     "metadata": {},
     "output_type": "execute_result"
    }
   ],
   "source": [
    "#  Add them back in \n",
    "\n",
    "scaled_amount = sample_data_df['scaled_amount']\n",
    "scaled_time = sample_data_df['scaled_time']\n",
    "\n",
    "sample_data_df.drop(['scaled_amount', 'scaled_time'], axis=1, inplace=True)\n",
    "sample_data_df.insert(0, 'scaled_amount', scaled_amount)\n",
    "sample_data_df.insert(1, 'scaled_time', scaled_time)\n",
    "\n",
    "# Now the amount and time are scaled.\n",
    "\n",
    "sample_data_df.head()"
   ]
  },
  {
   "cell_type": "code",
   "execution_count": 69,
   "metadata": {},
   "outputs": [],
   "source": [
    "# Set aside training/test data. \n",
    "\n",
    "sample_data_train = sample_data_df.sample(frac = .80, random_state = 440)\n",
    "sample_data_test = sample_data_df.drop(sample_data_train.index)"
   ]
  },
  {
   "cell_type": "code",
   "execution_count": 70,
   "metadata": {},
   "outputs": [],
   "source": [
    "\n",
    "# The training data: here I'm defining X_train to be a numpy array \n",
    "# consisting of the entries in sample_data_train minus the 'Class' column.\n",
    "# y_train is of course the 'Class' column.\n",
    "\n",
    "X_train = np.array(sample_data_train.iloc[:, :-1])\n",
    "y_train = np.array(sample_data_train.iloc[:, -1])\n",
    "\n",
    "X_train = X_train.reshape(-1, 30)\n",
    "y_train = y_train.reshape(-1, 1)\n",
    "\n",
    "# And the test data:\n",
    "\n",
    "X_test = np.array(sample_data_test.iloc[:, :-1])\n",
    "y_test = np.array(sample_data_test.iloc[:, -1])\n",
    "\n",
    "X_test = X_test.reshape(-1, 30)\n",
    "y_test = y_test.reshape(-1, 1)\n"
   ]
  },
  {
   "cell_type": "code",
   "execution_count": 71,
   "metadata": {},
   "outputs": [
    {
     "name": "stdout",
     "output_type": "stream",
     "text": [
      "(629, 30) <class 'numpy.ndarray'>\n",
      "(629, 1) <class 'numpy.ndarray'>\n",
      "(158, 30) <class 'numpy.ndarray'>\n",
      "(158, 1) <class 'numpy.ndarray'>\n",
      "\n",
      "\n",
      "\n",
      "(629, 2) <class 'numpy.ndarray'>\n",
      "(158, 2) <class 'numpy.ndarray'>\n"
     ]
    }
   ],
   "source": [
    "# Further split the training data into train_train/validation. \n",
    "\n",
    "from sklearn.model_selection import train_test_split\n",
    "\n",
    "X_train_train,X_val,y_train_train,y_val = train_test_split(X_train, y_train,\n",
    "                                                          test_size=.2,\n",
    "                                                          shuffle=True,\n",
    "                                                          stratify=y_train,\n",
    "                                                          random_state=440)\n",
    "\n",
    "# Check out the shape of the data. \n",
    "\n",
    "print(np.shape(X_train_train), type(X_train_train))\n",
    "print(np.shape(y_train_train), type(y_train_train))\n",
    "print(np.shape(X_val), type(X_val))\n",
    "print(np.shape(y_val), type(y_val))\n",
    "print('\\n\\n')\n",
    "print(np.shape(to_categorical(y_train_train)), type(to_categorical(y_train_train)))\n",
    "print(np.shape(to_categorical(y_val)), type(to_categorical(y_val)))"
   ]
  },
  {
   "cell_type": "code",
   "execution_count": 72,
   "metadata": {},
   "outputs": [],
   "source": [
    "## Empty model\n",
    "model = models.Sequential()"
   ]
  },
  {
   "cell_type": "code",
   "execution_count": 73,
   "metadata": {},
   "outputs": [],
   "source": [
    "## Make the layers. ONLY RUN THIS ONCE. Make sure the input_shape matches the number of features.\n",
    "\n",
    "model.add(layers.Dense(30, activation='relu', input_shape=(30,)))\n",
    "\n",
    "model.add(layers.Dense(32, activation='relu'))\n",
    "\n",
    "model.add(layers.Dense(2, activation='softmax'))"
   ]
  },
  {
   "cell_type": "code",
   "execution_count": 74,
   "metadata": {},
   "outputs": [
    {
     "name": "stdout",
     "output_type": "stream",
     "text": [
      "Model: \"sequential_1\"\n",
      "_________________________________________________________________\n",
      "Layer (type)                 Output Shape              Param #   \n",
      "=================================================================\n",
      "dense_3 (Dense)              (None, 30)                930       \n",
      "_________________________________________________________________\n",
      "dense_4 (Dense)              (None, 32)                992       \n",
      "_________________________________________________________________\n",
      "dense_5 (Dense)              (None, 2)                 66        \n",
      "=================================================================\n",
      "Total params: 1,988\n",
      "Trainable params: 1,988\n",
      "Non-trainable params: 0\n",
      "_________________________________________________________________\n"
     ]
    }
   ],
   "source": [
    "# Gives a model summary\n",
    "\n",
    "model.summary()"
   ]
  },
  {
   "cell_type": "code",
   "execution_count": 75,
   "metadata": {},
   "outputs": [],
   "source": [
    "# Here we compile the model. We use binary cross-entropy. \n",
    "\n",
    "model.compile(optimizer='Adam',\n",
    "                  loss='sparse_categorical_crossentropy',\n",
    "                  metrics=['accuracy'])"
   ]
  },
  {
   "cell_type": "code",
   "execution_count": 76,
   "metadata": {},
   "outputs": [
    {
     "name": "stdout",
     "output_type": "stream",
     "text": [
      "Epoch 1/100\n",
      "26/26 [==============================] - 1s 15ms/step - loss: 0.6426 - accuracy: 0.5564 - val_loss: 0.4163 - val_accuracy: 0.7658\n",
      "Epoch 2/100\n",
      "26/26 [==============================] - 0s 3ms/step - loss: 0.3732 - accuracy: 0.8556 - val_loss: 0.2853 - val_accuracy: 0.9114\n",
      "Epoch 3/100\n",
      "26/26 [==============================] - 0s 3ms/step - loss: 0.2649 - accuracy: 0.9296 - val_loss: 0.2106 - val_accuracy: 0.9430\n",
      "Epoch 4/100\n",
      "26/26 [==============================] - 0s 3ms/step - loss: 0.1951 - accuracy: 0.9595 - val_loss: 0.1701 - val_accuracy: 0.9430\n",
      "Epoch 5/100\n",
      "26/26 [==============================] - 0s 2ms/step - loss: 0.1758 - accuracy: 0.9445 - val_loss: 0.1610 - val_accuracy: 0.9430\n",
      "Epoch 6/100\n",
      "26/26 [==============================] - 0s 3ms/step - loss: 0.1416 - accuracy: 0.9475 - val_loss: 0.1487 - val_accuracy: 0.9430\n",
      "Epoch 7/100\n",
      "26/26 [==============================] - 0s 3ms/step - loss: 0.1130 - accuracy: 0.9599 - val_loss: 0.1478 - val_accuracy: 0.9367\n",
      "Epoch 8/100\n",
      "26/26 [==============================] - 0s 2ms/step - loss: 0.1163 - accuracy: 0.9596 - val_loss: 0.1520 - val_accuracy: 0.9367\n",
      "Epoch 9/100\n",
      "26/26 [==============================] - 0s 3ms/step - loss: 0.1056 - accuracy: 0.9612 - val_loss: 0.1489 - val_accuracy: 0.9430\n",
      "Epoch 10/100\n",
      "26/26 [==============================] - 0s 3ms/step - loss: 0.0994 - accuracy: 0.9653 - val_loss: 0.1465 - val_accuracy: 0.9430\n",
      "Epoch 11/100\n",
      "26/26 [==============================] - 0s 3ms/step - loss: 0.1015 - accuracy: 0.9572 - val_loss: 0.1487 - val_accuracy: 0.9367\n",
      "Epoch 12/100\n",
      "26/26 [==============================] - 0s 3ms/step - loss: 0.0914 - accuracy: 0.9722 - val_loss: 0.1474 - val_accuracy: 0.9367\n",
      "Epoch 13/100\n",
      "26/26 [==============================] - 0s 3ms/step - loss: 0.0877 - accuracy: 0.9697 - val_loss: 0.1496 - val_accuracy: 0.9367\n",
      "Epoch 14/100\n",
      "26/26 [==============================] - 0s 3ms/step - loss: 0.0761 - accuracy: 0.9778 - val_loss: 0.1504 - val_accuracy: 0.9367\n",
      "Epoch 15/100\n",
      "26/26 [==============================] - 0s 2ms/step - loss: 0.0973 - accuracy: 0.9591 - val_loss: 0.1482 - val_accuracy: 0.9430\n",
      "Epoch 16/100\n",
      "26/26 [==============================] - 0s 3ms/step - loss: 0.0811 - accuracy: 0.9703 - val_loss: 0.1473 - val_accuracy: 0.9367\n",
      "Epoch 17/100\n",
      "26/26 [==============================] - 0s 3ms/step - loss: 0.0674 - accuracy: 0.9758 - val_loss: 0.1485 - val_accuracy: 0.9430\n",
      "Epoch 18/100\n",
      "26/26 [==============================] - 0s 3ms/step - loss: 0.0701 - accuracy: 0.9742 - val_loss: 0.1508 - val_accuracy: 0.9430\n",
      "Epoch 19/100\n",
      "26/26 [==============================] - 0s 3ms/step - loss: 0.0617 - accuracy: 0.9779 - val_loss: 0.1488 - val_accuracy: 0.9430\n",
      "Epoch 20/100\n",
      "26/26 [==============================] - 0s 3ms/step - loss: 0.0566 - accuracy: 0.9713 - val_loss: 0.1481 - val_accuracy: 0.9430\n",
      "Epoch 21/100\n",
      "26/26 [==============================] - 0s 3ms/step - loss: 0.0563 - accuracy: 0.9848 - val_loss: 0.1502 - val_accuracy: 0.9430\n",
      "Epoch 22/100\n",
      "26/26 [==============================] - 0s 3ms/step - loss: 0.0526 - accuracy: 0.9846 - val_loss: 0.1506 - val_accuracy: 0.9430\n",
      "Epoch 23/100\n",
      "26/26 [==============================] - 0s 3ms/step - loss: 0.0460 - accuracy: 0.9860 - val_loss: 0.1554 - val_accuracy: 0.9430\n",
      "Epoch 24/100\n",
      "26/26 [==============================] - 0s 3ms/step - loss: 0.0646 - accuracy: 0.9758 - val_loss: 0.1486 - val_accuracy: 0.9430\n",
      "Epoch 25/100\n",
      "26/26 [==============================] - 0s 3ms/step - loss: 0.0572 - accuracy: 0.9772 - val_loss: 0.1529 - val_accuracy: 0.9494\n",
      "Epoch 26/100\n",
      "26/26 [==============================] - 0s 2ms/step - loss: 0.0594 - accuracy: 0.9768 - val_loss: 0.1505 - val_accuracy: 0.9430\n",
      "Epoch 27/100\n",
      "26/26 [==============================] - 0s 3ms/step - loss: 0.0452 - accuracy: 0.9880 - val_loss: 0.1525 - val_accuracy: 0.9494\n",
      "Epoch 28/100\n",
      "26/26 [==============================] - 0s 3ms/step - loss: 0.0355 - accuracy: 0.9926 - val_loss: 0.1583 - val_accuracy: 0.9494\n",
      "Epoch 29/100\n",
      "26/26 [==============================] - 0s 3ms/step - loss: 0.0509 - accuracy: 0.9873 - val_loss: 0.1571 - val_accuracy: 0.9494\n",
      "Epoch 30/100\n",
      "26/26 [==============================] - 0s 3ms/step - loss: 0.0346 - accuracy: 0.9884 - val_loss: 0.1556 - val_accuracy: 0.9494\n",
      "Epoch 31/100\n",
      "26/26 [==============================] - 0s 3ms/step - loss: 0.0478 - accuracy: 0.9834 - val_loss: 0.1604 - val_accuracy: 0.9494\n",
      "Epoch 32/100\n",
      "26/26 [==============================] - 0s 3ms/step - loss: 0.0286 - accuracy: 0.9948 - val_loss: 0.1633 - val_accuracy: 0.9430\n",
      "Epoch 33/100\n",
      "26/26 [==============================] - 0s 3ms/step - loss: 0.0445 - accuracy: 0.9878 - val_loss: 0.1595 - val_accuracy: 0.9430\n",
      "Epoch 34/100\n",
      "26/26 [==============================] - 0s 4ms/step - loss: 0.0293 - accuracy: 0.9934 - val_loss: 0.1667 - val_accuracy: 0.9430\n",
      "Epoch 35/100\n",
      "26/26 [==============================] - 0s 4ms/step - loss: 0.0272 - accuracy: 0.9980 - val_loss: 0.1707 - val_accuracy: 0.9430\n",
      "Epoch 36/100\n",
      "26/26 [==============================] - 0s 3ms/step - loss: 0.0254 - accuracy: 0.9953 - val_loss: 0.1685 - val_accuracy: 0.9430\n",
      "Epoch 37/100\n",
      "26/26 [==============================] - 0s 3ms/step - loss: 0.0242 - accuracy: 0.9972 - val_loss: 0.1673 - val_accuracy: 0.9430\n",
      "Epoch 38/100\n",
      "26/26 [==============================] - 0s 4ms/step - loss: 0.0317 - accuracy: 0.9929 - val_loss: 0.1731 - val_accuracy: 0.9430\n",
      "Epoch 39/100\n",
      "26/26 [==============================] - 0s 2ms/step - loss: 0.0240 - accuracy: 0.9953 - val_loss: 0.1766 - val_accuracy: 0.9430\n",
      "Epoch 40/100\n",
      "26/26 [==============================] - 0s 2ms/step - loss: 0.0190 - accuracy: 0.9984 - val_loss: 0.1755 - val_accuracy: 0.9430\n",
      "Epoch 41/100\n",
      "26/26 [==============================] - 0s 2ms/step - loss: 0.0163 - accuracy: 0.9987 - val_loss: 0.1713 - val_accuracy: 0.9430\n",
      "Epoch 42/100\n",
      "26/26 [==============================] - 0s 2ms/step - loss: 0.0166 - accuracy: 0.9987 - val_loss: 0.1800 - val_accuracy: 0.9430\n",
      "Epoch 43/100\n",
      "26/26 [==============================] - 0s 3ms/step - loss: 0.0156 - accuracy: 0.9998 - val_loss: 0.1821 - val_accuracy: 0.9430\n",
      "Epoch 44/100\n",
      "26/26 [==============================] - 0s 2ms/step - loss: 0.0143 - accuracy: 0.9981 - val_loss: 0.1819 - val_accuracy: 0.9430\n",
      "Epoch 45/100\n",
      "26/26 [==============================] - 0s 2ms/step - loss: 0.0166 - accuracy: 0.9957 - val_loss: 0.1875 - val_accuracy: 0.9430\n",
      "Epoch 46/100\n",
      "26/26 [==============================] - 0s 3ms/step - loss: 0.0148 - accuracy: 0.9995 - val_loss: 0.1882 - val_accuracy: 0.9430\n",
      "Epoch 47/100\n",
      "26/26 [==============================] - 0s 3ms/step - loss: 0.0142 - accuracy: 0.9993 - val_loss: 0.1907 - val_accuracy: 0.9430\n",
      "Epoch 48/100\n",
      "26/26 [==============================] - 0s 3ms/step - loss: 0.0106 - accuracy: 0.9988 - val_loss: 0.1942 - val_accuracy: 0.9430\n",
      "Epoch 49/100\n",
      "26/26 [==============================] - 0s 2ms/step - loss: 0.0120 - accuracy: 0.9989 - val_loss: 0.1999 - val_accuracy: 0.9430\n",
      "Epoch 50/100\n",
      "26/26 [==============================] - 0s 2ms/step - loss: 0.0121 - accuracy: 1.0000 - val_loss: 0.2004 - val_accuracy: 0.9430\n",
      "Epoch 51/100\n",
      "26/26 [==============================] - 0s 3ms/step - loss: 0.0094 - accuracy: 1.0000 - val_loss: 0.2045 - val_accuracy: 0.9430\n",
      "Epoch 52/100\n",
      "26/26 [==============================] - 0s 2ms/step - loss: 0.0077 - accuracy: 1.0000 - val_loss: 0.2042 - val_accuracy: 0.9430\n",
      "Epoch 53/100\n",
      "26/26 [==============================] - 0s 2ms/step - loss: 0.0088 - accuracy: 1.0000 - val_loss: 0.2082 - val_accuracy: 0.9430\n",
      "Epoch 54/100\n",
      "26/26 [==============================] - 0s 3ms/step - loss: 0.0077 - accuracy: 1.0000 - val_loss: 0.2152 - val_accuracy: 0.9430\n",
      "Epoch 55/100\n",
      "26/26 [==============================] - 0s 4ms/step - loss: 0.0076 - accuracy: 1.0000 - val_loss: 0.2123 - val_accuracy: 0.9430\n",
      "Epoch 56/100\n",
      "26/26 [==============================] - 0s 4ms/step - loss: 0.0114 - accuracy: 1.0000 - val_loss: 0.2136 - val_accuracy: 0.9430\n",
      "Epoch 57/100\n",
      "26/26 [==============================] - 0s 4ms/step - loss: 0.0071 - accuracy: 1.0000 - val_loss: 0.2220 - val_accuracy: 0.9430\n",
      "Epoch 58/100\n",
      "26/26 [==============================] - 0s 4ms/step - loss: 0.0059 - accuracy: 1.0000 - val_loss: 0.2253 - val_accuracy: 0.9430\n"
     ]
    },
    {
     "name": "stdout",
     "output_type": "stream",
     "text": [
      "Epoch 59/100\n",
      "26/26 [==============================] - 0s 4ms/step - loss: 0.0057 - accuracy: 1.0000 - val_loss: 0.2276 - val_accuracy: 0.9430\n",
      "Epoch 60/100\n",
      "26/26 [==============================] - 0s 4ms/step - loss: 0.0062 - accuracy: 1.0000 - val_loss: 0.2326 - val_accuracy: 0.9430\n",
      "Epoch 61/100\n",
      "26/26 [==============================] - 0s 3ms/step - loss: 0.0049 - accuracy: 1.0000 - val_loss: 0.2316 - val_accuracy: 0.9430\n",
      "Epoch 62/100\n",
      "26/26 [==============================] - 0s 2ms/step - loss: 0.0057 - accuracy: 1.0000 - val_loss: 0.2384 - val_accuracy: 0.9430\n",
      "Epoch 63/100\n",
      "26/26 [==============================] - 0s 2ms/step - loss: 0.0054 - accuracy: 1.0000 - val_loss: 0.2422 - val_accuracy: 0.9430\n",
      "Epoch 64/100\n",
      "26/26 [==============================] - 0s 2ms/step - loss: 0.0033 - accuracy: 1.0000 - val_loss: 0.2446 - val_accuracy: 0.9430\n",
      "Epoch 65/100\n",
      "26/26 [==============================] - 0s 2ms/step - loss: 0.0036 - accuracy: 1.0000 - val_loss: 0.2464 - val_accuracy: 0.9430\n",
      "Epoch 66/100\n",
      "26/26 [==============================] - 0s 3ms/step - loss: 0.0043 - accuracy: 1.0000 - val_loss: 0.2510 - val_accuracy: 0.9430\n",
      "Epoch 67/100\n",
      "26/26 [==============================] - 0s 3ms/step - loss: 0.0041 - accuracy: 1.0000 - val_loss: 0.2511 - val_accuracy: 0.9430\n",
      "Epoch 68/100\n",
      "26/26 [==============================] - 0s 3ms/step - loss: 0.0042 - accuracy: 1.0000 - val_loss: 0.2555 - val_accuracy: 0.9430\n",
      "Epoch 69/100\n",
      "26/26 [==============================] - 0s 3ms/step - loss: 0.0034 - accuracy: 1.0000 - val_loss: 0.2589 - val_accuracy: 0.9430\n",
      "Epoch 70/100\n",
      "26/26 [==============================] - 0s 2ms/step - loss: 0.0030 - accuracy: 1.0000 - val_loss: 0.2608 - val_accuracy: 0.9430\n",
      "Epoch 71/100\n",
      "26/26 [==============================] - 0s 3ms/step - loss: 0.0036 - accuracy: 1.0000 - val_loss: 0.2625 - val_accuracy: 0.9430\n",
      "Epoch 72/100\n",
      "26/26 [==============================] - 0s 3ms/step - loss: 0.0035 - accuracy: 1.0000 - val_loss: 0.2680 - val_accuracy: 0.9430\n",
      "Epoch 73/100\n",
      "26/26 [==============================] - 0s 2ms/step - loss: 0.0035 - accuracy: 1.0000 - val_loss: 0.2648 - val_accuracy: 0.9430\n",
      "Epoch 74/100\n",
      "26/26 [==============================] - 0s 3ms/step - loss: 0.0026 - accuracy: 1.0000 - val_loss: 0.2696 - val_accuracy: 0.9430\n",
      "Epoch 75/100\n",
      "26/26 [==============================] - 0s 3ms/step - loss: 0.0032 - accuracy: 1.0000 - val_loss: 0.2711 - val_accuracy: 0.9430\n",
      "Epoch 76/100\n",
      "26/26 [==============================] - 0s 3ms/step - loss: 0.0025 - accuracy: 1.0000 - val_loss: 0.2778 - val_accuracy: 0.9430\n",
      "Epoch 77/100\n",
      "26/26 [==============================] - 0s 2ms/step - loss: 0.0031 - accuracy: 1.0000 - val_loss: 0.2795 - val_accuracy: 0.9430\n",
      "Epoch 78/100\n",
      "26/26 [==============================] - 0s 2ms/step - loss: 0.0022 - accuracy: 1.0000 - val_loss: 0.2841 - val_accuracy: 0.9367\n",
      "Epoch 79/100\n",
      "26/26 [==============================] - 0s 2ms/step - loss: 0.0022 - accuracy: 1.0000 - val_loss: 0.2876 - val_accuracy: 0.9430\n",
      "Epoch 80/100\n",
      "26/26 [==============================] - 0s 4ms/step - loss: 0.0027 - accuracy: 1.0000 - val_loss: 0.2959 - val_accuracy: 0.9430\n",
      "Epoch 81/100\n",
      "26/26 [==============================] - 0s 4ms/step - loss: 0.0019 - accuracy: 1.0000 - val_loss: 0.2918 - val_accuracy: 0.9430\n",
      "Epoch 82/100\n",
      "26/26 [==============================] - 0s 3ms/step - loss: 0.0022 - accuracy: 1.0000 - val_loss: 0.2909 - val_accuracy: 0.9367\n",
      "Epoch 83/100\n",
      "26/26 [==============================] - 0s 3ms/step - loss: 0.0018 - accuracy: 1.0000 - val_loss: 0.2977 - val_accuracy: 0.9367\n",
      "Epoch 84/100\n",
      "26/26 [==============================] - 0s 3ms/step - loss: 0.0027 - accuracy: 1.0000 - val_loss: 0.3054 - val_accuracy: 0.9367\n",
      "Epoch 85/100\n",
      "26/26 [==============================] - 0s 3ms/step - loss: 0.0023 - accuracy: 1.0000 - val_loss: 0.3027 - val_accuracy: 0.9367\n",
      "Epoch 86/100\n",
      "26/26 [==============================] - 0s 3ms/step - loss: 0.0021 - accuracy: 1.0000 - val_loss: 0.3072 - val_accuracy: 0.9367\n",
      "Epoch 87/100\n",
      "26/26 [==============================] - 0s 3ms/step - loss: 0.0017 - accuracy: 1.0000 - val_loss: 0.3090 - val_accuracy: 0.9367\n",
      "Epoch 88/100\n",
      "26/26 [==============================] - 0s 3ms/step - loss: 0.0018 - accuracy: 1.0000 - val_loss: 0.3090 - val_accuracy: 0.9367\n",
      "Epoch 89/100\n",
      "26/26 [==============================] - 0s 3ms/step - loss: 0.0014 - accuracy: 1.0000 - val_loss: 0.3140 - val_accuracy: 0.9367\n",
      "Epoch 90/100\n",
      "26/26 [==============================] - 0s 5ms/step - loss: 0.0017 - accuracy: 1.0000 - val_loss: 0.3151 - val_accuracy: 0.9367\n",
      "Epoch 91/100\n",
      "26/26 [==============================] - 0s 3ms/step - loss: 0.0016 - accuracy: 1.0000 - val_loss: 0.3166 - val_accuracy: 0.9367\n",
      "Epoch 92/100\n",
      "26/26 [==============================] - 0s 3ms/step - loss: 0.0014 - accuracy: 1.0000 - val_loss: 0.3176 - val_accuracy: 0.9367\n",
      "Epoch 93/100\n",
      "26/26 [==============================] - 0s 2ms/step - loss: 0.0013 - accuracy: 1.0000 - val_loss: 0.3226 - val_accuracy: 0.9367\n",
      "Epoch 94/100\n",
      "26/26 [==============================] - 0s 3ms/step - loss: 0.0014 - accuracy: 1.0000 - val_loss: 0.3203 - val_accuracy: 0.9367\n",
      "Epoch 95/100\n",
      "26/26 [==============================] - 0s 2ms/step - loss: 0.0015 - accuracy: 1.0000 - val_loss: 0.3395 - val_accuracy: 0.9367\n",
      "Epoch 96/100\n",
      "26/26 [==============================] - 0s 3ms/step - loss: 9.9049e-04 - accuracy: 1.0000 - val_loss: 0.3366 - val_accuracy: 0.9367\n",
      "Epoch 97/100\n",
      "26/26 [==============================] - 0s 4ms/step - loss: 0.0012 - accuracy: 1.0000 - val_loss: 0.3305 - val_accuracy: 0.9367\n",
      "Epoch 98/100\n",
      "26/26 [==============================] - 0s 5ms/step - loss: 0.0010 - accuracy: 1.0000 - val_loss: 0.3153 - val_accuracy: 0.9367\n",
      "Epoch 99/100\n",
      "26/26 [==============================] - 0s 4ms/step - loss: 0.0012 - accuracy: 1.0000 - val_loss: 0.3293 - val_accuracy: 0.9367\n",
      "Epoch 100/100\n",
      "26/26 [==============================] - 0s 3ms/step - loss: 0.0013 - accuracy: 1.0000 - val_loss: 0.3364 - val_accuracy: 0.9367\n"
     ]
    }
   ],
   "source": [
    "# Fitting the data. \n",
    "\n",
    "#history = model.fit(X_train_train,\n",
    "#                        to_categorical(y_train_train),\n",
    "#                        epochs = 100,\n",
    "#                        batch_size = 512,\n",
    "#                        validation_data=(X_val,to_categorical(y_val)))\n",
    "\n",
    "# It looks like sparse_categorical automatically applies to_categorical to y, so use this one\n",
    "# (this includes changed batch size and epochs):\n",
    "\n",
    "history = model.fit(X_train_train,\n",
    "                        y_train_train,\n",
    "                        epochs = 100,\n",
    "                        batch_size = 25,\n",
    "                        validation_data=(X_val,y_val))"
   ]
  },
  {
   "cell_type": "code",
   "execution_count": 77,
   "metadata": {},
   "outputs": [
    {
     "name": "stdout",
     "output_type": "stream",
     "text": [
      "dict_keys(['loss', 'accuracy', 'val_loss', 'val_accuracy'])\n"
     ]
    }
   ],
   "source": [
    "# Examine the results. \n",
    "\n",
    "history_dict = history.history\n",
    "\n",
    "print(history_dict.keys())"
   ]
  },
  {
   "cell_type": "code",
   "execution_count": 78,
   "metadata": {},
   "outputs": [
    {
     "data": {
      "image/png": "[encoded data removed]",
      "text/plain": [
       "<Figure size 720x432 with 1 Axes>"
      ]
     },
     "metadata": {},
     "output_type": "display_data"
    }
   ],
   "source": [
    "# That's... intersting. \n",
    "\n",
    "\n",
    "\n",
    "plt.figure(figsize = (10,6))\n",
    "\n",
    "plt.scatter(range(1,101), history_dict['accuracy'], label = \"Training Accuracy\")\n",
    "plt.scatter(range(1,101), history_dict['val_accuracy'], label = \"Validation Set Accuracy\")\n",
    "\n",
    "plt.xlabel(\"Epoch\", fontsize=18)\n",
    "plt.ylabel(\"Accuracy\", fontsize=18)\n",
    "\n",
    "plt.xticks(fontsize=16)\n",
    "plt.yticks(fontsize=16)\n",
    "\n",
    "plt.legend(fontsize=18)\n",
    "\n",
    "plt.show()"
   ]
  },
  {
   "cell_type": "code",
   "execution_count": 79,
   "metadata": {},
   "outputs": [
    {
     "data": {
      "image/png": "[encoded data removed]",
      "text/plain": [
       "<Figure size 720x432 with 1 Axes>"
      ]
     },
     "metadata": {},
     "output_type": "display_data"
    }
   ],
   "source": [
    "plt.figure(figsize = (10,6))\n",
    "\n",
    "plt.scatter(range(1,101), history_dict['loss'], label = \"Training Loss\")\n",
    "plt.scatter(range(1,101), history_dict['val_loss'], label = \"Validation Set Loss\")\n",
    "\n",
    "plt.xlabel(\"Epoch\", fontsize=18)\n",
    "plt.ylabel(\"Loss Function Value\", fontsize=18)\n",
    "\n",
    "plt.xticks(fontsize=16)\n",
    "plt.yticks(fontsize=16)\n",
    "\n",
    "plt.legend(fontsize=18)\n",
    "\n",
    "plt.show()"
   ]
  },
  {
   "cell_type": "code",
   "execution_count": 80,
   "metadata": {},
   "outputs": [
    {
     "data": {
      "text/plain": [
       "Class\n",
       "0    101\n",
       "1     96\n",
       "dtype: int64"
      ]
     },
     "execution_count": 80,
     "metadata": {},
     "output_type": "execute_result"
    }
   ],
   "source": [
    "# Value counts of test data. \n",
    "\n",
    "sample_data_test.value_counts('Class')"
   ]
  },
  {
   "cell_type": "code",
   "execution_count": 81,
   "metadata": {},
   "outputs": [
    {
     "data": {
      "text/plain": [
       "array([1, 1, 0, 0, 0, 1, 1, 0, 0, 0, 0, 1, 1, 0, 1, 1, 0, 0, 0, 1, 1, 0,\n",
       "       1, 1, 1, 1, 0, 0, 0, 1, 1, 0, 0, 1, 0, 0, 0, 1, 0, 1, 0, 0, 0, 0,\n",
       "       0, 1, 1, 0, 0, 1, 0, 1, 1, 1, 1, 0, 1, 0, 0, 0, 1, 0, 1, 0, 1, 1,\n",
       "       1, 0, 1, 0, 1, 0, 0, 0, 1, 1, 1, 0, 0, 1, 1, 0, 1, 1, 1, 1, 1, 0,\n",
       "       0, 0, 1, 0, 0, 1, 1, 1, 1, 1, 1, 0, 1, 0, 0, 0, 0, 1, 0, 1, 1, 1,\n",
       "       0, 0, 0, 0, 0, 0, 1, 0, 1, 1, 0, 0, 1, 1, 1, 0, 1, 1, 1, 0, 1, 0,\n",
       "       0, 0, 1, 1, 1, 0, 1, 1, 0, 1, 1, 0, 1, 0, 1, 0, 0, 1, 1, 0, 0, 1,\n",
       "       0, 1, 0, 0, 1, 0, 0, 1, 0, 1, 1, 1, 0, 1, 0, 1, 0, 0, 1, 1, 1, 1,\n",
       "       0, 1, 0, 1, 0, 1, 1, 0, 1, 1, 1, 0, 0, 0, 0, 1, 0, 1, 1, 0, 0])"
      ]
     },
     "execution_count": 81,
     "metadata": {},
     "output_type": "execute_result"
    }
   ],
   "source": [
    "# Prediction.\n",
    "\n",
    "\n",
    "\n",
    "y_pred_prob = model.predict(X_test)\n",
    "\n",
    "\n",
    "\n",
    "# Set the threshold probability for valid transactions as p = 0.5. \n",
    "\n",
    "y_pred = []\n",
    "\n",
    "for x in y_pred_prob:\n",
    "    if x[0] > 0.9:\n",
    "        y_pred.append(0)\n",
    "    else:\n",
    "        y_pred.append(1)\n",
    "        \n",
    "y_pred = np.array(y_pred)\n",
    "y_pred"
   ]
  },
  {
   "cell_type": "code",
   "execution_count": 82,
   "metadata": {},
   "outputs": [
    {
     "name": "stdout",
     "output_type": "stream",
     "text": [
      "[[9.9999964e-01 3.9497689e-07]\n",
      " [9.9988616e-01 1.1388291e-04]\n",
      " [9.9823064e-01 1.7693570e-03]\n",
      " ...\n",
      " [9.9999261e-01 7.3951542e-06]\n",
      " [1.0319141e-27 1.0000000e+00]\n",
      " [1.0000000e+00 4.7917251e-08]]\n"
     ]
    },
    {
     "name": "stderr",
     "output_type": "stream",
     "text": [
      "/opt/anaconda3/lib/python3.8/site-packages/keras/engine/sequential.py:425: UserWarning: `model.predict_proba()` is deprecated and will be removed after 2021-01-01. Please use `model.predict()` instead.\n",
      "  warnings.warn('`model.predict_proba()` is deprecated and '\n"
     ]
    }
   ],
   "source": [
    "#predict the probabilities\n",
    "y_pred_prob_ANN=model.predict_proba(X_train_train)\n",
    "print(y_pred_prob_ANN)\n",
    "\n",
    "#now we can get the ROC\n",
    "roc_curve(y_train_train,y_pred_prob_ANN[:,1])\n",
    "\n",
    "#we get the fpr,tpr,cutoffs\n",
    "fpr_ANN,tpr_ANN,cutoffs_ANN = roc_curve(y_train_train,y_pred_prob_ANN[:,1])\n",
    "\n"
   ]
  },
  {
   "cell_type": "code",
   "execution_count": 47,
   "metadata": {},
   "outputs": [
    {
     "name": "stdout",
     "output_type": "stream",
     "text": [
      "1.0\n"
     ]
    }
   ],
   "source": [
    "#now we can get the AUC\n",
    "auc_ANN=roc_auc_score(y_train_train,y_pred_prob_ANN[:,1])\n",
    "print(auc_ANN)"
   ]
  },
  {
   "cell_type": "code",
   "execution_count": 83,
   "metadata": {},
   "outputs": [
    {
     "data": {
      "image/png": "[encoded data removed]",
      "text/plain": [
       "<Figure size 864x576 with 1 Axes>"
      ]
     },
     "metadata": {},
     "output_type": "display_data"
    }
   ],
   "source": [
    "#plot ROC with AUC\n",
    "plt.figure(figsize=(12,8))\n",
    "\n",
    "plt.plot(fpr_ANN,tpr_ANN,label='AUC ANN= '+str(np.around(auc_ANN,4)))\n",
    "\n",
    "\n",
    "\n",
    "plt.xlabel(\"False Positive Rate\",fontsize=16)\n",
    "plt.ylabel(\"True Positive Rate\",fontsize=16)\n",
    "\n",
    "plt.title(\"ROC Curve\", fontsize=18)\n",
    "plt.xticks(fontsize=12)\n",
    "plt.yticks(fontsize=12)\n",
    "plt.legend(loc='best')\n",
    "plt.show()"
   ]
  },
  {
   "cell_type": "code",
   "execution_count": 86,
   "metadata": {},
   "outputs": [
    {
     "name": "stdout",
     "output_type": "stream",
     "text": [
      "[[1.81177820e-04 9.99818861e-01]\n",
      " [1.36470462e-11 1.00000000e+00]\n",
      " [9.99360263e-01 6.39687758e-04]\n",
      " [9.99805629e-01 1.94419947e-04]\n",
      " [9.99607742e-01 3.92307993e-04]\n",
      " [8.97155643e-01 1.02844410e-01]\n",
      " [0.00000000e+00 1.00000000e+00]\n",
      " [9.99915838e-01 8.41129004e-05]\n",
      " [9.90335345e-01 9.66463797e-03]\n",
      " [9.91315722e-01 8.68429430e-03]\n",
      " [9.99986768e-01 1.32085315e-05]\n",
      " [3.85105044e-01 6.14894986e-01]\n",
      " [2.28364315e-36 1.00000000e+00]\n",
      " [9.50473130e-01 4.95269001e-02]\n",
      " [2.02646042e-16 1.00000000e+00]\n",
      " [1.54888396e-22 1.00000000e+00]\n",
      " [9.99998331e-01 1.69064685e-06]\n",
      " [9.37856853e-01 6.21432029e-02]\n",
      " [9.99996781e-01 3.19969627e-06]\n",
      " [1.63282769e-25 1.00000000e+00]\n",
      " [8.54584098e-01 1.45415843e-01]\n",
      " [9.99993443e-01 6.61277090e-06]\n",
      " [1.47017480e-27 1.00000000e+00]\n",
      " [2.91330184e-06 9.99997139e-01]\n",
      " [2.14896113e-01 7.85103977e-01]\n",
      " [2.34781202e-25 1.00000000e+00]\n",
      " [9.99994755e-01 5.26950816e-06]\n",
      " [9.99991179e-01 8.83871598e-06]\n",
      " [9.99701202e-01 2.98774568e-04]\n",
      " [0.00000000e+00 1.00000000e+00]\n",
      " [0.00000000e+00 1.00000000e+00]\n",
      " [9.99971032e-01 2.89600321e-05]\n",
      " [9.99994993e-01 4.95564018e-06]\n",
      " [2.78334120e-28 1.00000000e+00]\n",
      " [1.00000000e+00 8.24238988e-09]\n",
      " [9.99874234e-01 1.25713224e-04]\n",
      " [9.99991536e-01 8.40614848e-06]\n",
      " [9.88402348e-07 9.99999046e-01]\n",
      " [9.99705613e-01 2.94322817e-04]\n",
      " [4.15381633e-28 1.00000000e+00]\n",
      " [9.11209941e-01 8.87899995e-02]\n",
      " [9.99999642e-01 4.15965076e-07]\n",
      " [9.99964714e-01 3.53174291e-05]\n",
      " [9.99978423e-01 2.15937962e-05]\n",
      " [9.95888531e-01 4.11149673e-03]\n",
      " [0.00000000e+00 1.00000000e+00]\n",
      " [8.88596788e-18 1.00000000e+00]\n",
      " [9.98152077e-01 1.84793875e-03]\n",
      " [9.99999404e-01 5.49536367e-07]\n",
      " [0.00000000e+00 1.00000000e+00]\n",
      " [9.96220052e-01 3.78001155e-03]\n",
      " [1.48223532e-14 1.00000000e+00]\n",
      " [7.36646116e-01 2.63353854e-01]\n",
      " [0.00000000e+00 1.00000000e+00]\n",
      " [1.87247638e-38 1.00000000e+00]\n",
      " [9.99763191e-01 2.36758249e-04]\n",
      " [2.96202568e-36 1.00000000e+00]\n",
      " [9.99992251e-01 7.70708266e-06]\n",
      " [9.99999762e-01 1.90324883e-07]\n",
      " [9.99996305e-01 3.74450519e-06]\n",
      " [3.04018215e-07 9.99999642e-01]\n",
      " [9.99755323e-01 2.44733994e-04]\n",
      " [1.36568507e-24 1.00000000e+00]\n",
      " [9.79659855e-01 2.03401148e-02]\n",
      " [0.00000000e+00 1.00000000e+00]\n",
      " [1.58801004e-02 9.84119833e-01]\n",
      " [1.01421886e-29 1.00000000e+00]\n",
      " [9.98232603e-01 1.76731485e-03]\n",
      " [0.00000000e+00 1.00000000e+00]\n",
      " [9.99958396e-01 4.16203511e-05]\n",
      " [2.12403484e-10 1.00000000e+00]\n",
      " [9.99981165e-01 1.88100821e-05]\n",
      " [9.99971509e-01 2.85373408e-05]\n",
      " [9.92615223e-01 7.38482689e-03]\n",
      " [3.84238400e-21 1.00000000e+00]\n",
      " [8.04436057e-17 1.00000000e+00]\n",
      " [4.11537975e-01 5.88461995e-01]\n",
      " [9.99998093e-01 1.92398170e-06]\n",
      " [9.99996901e-01 3.09702295e-06]\n",
      " [3.72540765e-03 9.96274590e-01]\n",
      " [0.00000000e+00 1.00000000e+00]\n",
      " [1.00000000e+00 3.14532045e-08]\n",
      " [8.04890871e-01 1.95109189e-01]\n",
      " [1.54524138e-02 9.84547555e-01]\n",
      " [0.00000000e+00 1.00000000e+00]\n",
      " [4.72207169e-27 1.00000000e+00]\n",
      " [5.21724835e-22 1.00000000e+00]\n",
      " [9.99993682e-01 6.36953519e-06]\n",
      " [9.99915242e-01 8.47791816e-05]\n",
      " [9.99998689e-01 1.34780919e-06]\n",
      " [1.62413333e-14 1.00000000e+00]\n",
      " [1.00000000e+00 1.14776562e-08]\n",
      " [9.99970913e-01 2.90286880e-05]\n",
      " [3.42817307e-14 1.00000000e+00]\n",
      " [2.55386420e-21 1.00000000e+00]\n",
      " [9.02320520e-28 1.00000000e+00]\n",
      " [1.80023676e-06 9.99998212e-01]\n",
      " [2.81171867e-27 1.00000000e+00]\n",
      " [3.36899042e-26 1.00000000e+00]\n",
      " [9.99988794e-01 1.12137432e-05]\n",
      " [3.49111106e-05 9.99965072e-01]\n",
      " [9.99994397e-01 5.56545319e-06]\n",
      " [9.99995708e-01 4.32997240e-06]\n",
      " [9.99654770e-01 3.45289445e-04]\n",
      " [9.99982834e-01 1.71550837e-05]\n",
      " [1.56809551e-33 1.00000000e+00]\n",
      " [9.99964237e-01 3.57135577e-05]\n",
      " [6.50769591e-01 3.49230409e-01]\n",
      " [6.82049740e-13 1.00000000e+00]\n",
      " [1.78133778e-25 1.00000000e+00]\n",
      " [9.99910593e-01 8.94178665e-05]\n",
      " [9.99994040e-01 5.94830544e-06]\n",
      " [9.99980569e-01 1.93791475e-05]\n",
      " [9.94467139e-01 5.53288450e-03]\n",
      " [9.99134243e-01 8.65761540e-04]\n",
      " [9.99966502e-01 3.34434480e-05]\n",
      " [4.10014987e-02 9.58998442e-01]\n",
      " [9.99786675e-01 2.13346997e-04]\n",
      " [2.05762330e-27 1.00000000e+00]\n",
      " [2.02032992e-18 1.00000000e+00]\n",
      " [1.00000000e+00 8.42783898e-11]\n",
      " [9.99186695e-01 8.13324819e-04]\n",
      " [8.90337704e-25 1.00000000e+00]\n",
      " [6.29260283e-22 1.00000000e+00]\n",
      " [2.43330675e-16 1.00000000e+00]\n",
      " [9.99866605e-01 1.33326146e-04]\n",
      " [1.52869848e-06 9.99998450e-01]\n",
      " [4.46955573e-20 1.00000000e+00]\n",
      " [8.75742653e-24 1.00000000e+00]\n",
      " [9.99997735e-01 2.22686936e-06]\n",
      " [1.34582132e-23 1.00000000e+00]\n",
      " [9.99999285e-01 7.70749978e-07]\n",
      " [9.99067366e-01 9.32708557e-04]\n",
      " [9.99994874e-01 5.13656414e-06]\n",
      " [4.17919358e-38 1.00000000e+00]\n",
      " [6.48329806e-13 1.00000000e+00]\n",
      " [0.00000000e+00 1.00000000e+00]\n",
      " [9.99999762e-01 2.03493244e-07]\n",
      " [0.00000000e+00 1.00000000e+00]\n",
      " [0.00000000e+00 1.00000000e+00]\n",
      " [9.99996543e-01 3.41432815e-06]\n",
      " [0.00000000e+00 1.00000000e+00]\n",
      " [2.49743493e-07 9.99999762e-01]\n",
      " [9.99981999e-01 1.80343923e-05]\n",
      " [8.32067490e-01 1.67932540e-01]\n",
      " [9.99999881e-01 8.04623923e-08]\n",
      " [1.42757783e-09 1.00000000e+00]\n",
      " [9.97092605e-01 2.90737767e-03]\n",
      " [9.99534369e-01 4.65662306e-04]\n",
      " [7.49307003e-27 1.00000000e+00]\n",
      " [0.00000000e+00 1.00000000e+00]\n",
      " [9.99991894e-01 8.12975577e-06]\n",
      " [9.81424928e-01 1.85750909e-02]\n",
      " [0.00000000e+00 1.00000000e+00]\n",
      " [9.99999285e-01 7.01120314e-07]\n",
      " [1.66650009e-25 1.00000000e+00]\n",
      " [9.99997139e-01 2.80935274e-06]\n",
      " [9.99964595e-01 3.53536198e-05]\n",
      " [2.66214320e-34 1.00000000e+00]\n",
      " [9.99911070e-01 8.89580188e-05]\n",
      " [9.99998927e-01 1.08366487e-06]\n",
      " [0.00000000e+00 1.00000000e+00]\n",
      " [9.99997377e-01 2.59815511e-06]\n",
      " [1.08947633e-15 1.00000000e+00]\n",
      " [2.67717076e-22 1.00000000e+00]\n",
      " [7.73914042e-24 1.00000000e+00]\n",
      " [9.99997854e-01 2.11618567e-06]\n",
      " [1.30840314e-28 1.00000000e+00]\n",
      " [9.99865532e-01 1.34504269e-04]\n",
      " [1.26855397e-21 1.00000000e+00]\n",
      " [9.66945946e-01 3.30540948e-02]\n",
      " [1.00000000e+00 2.82370771e-09]\n",
      " [0.00000000e+00 1.00000000e+00]\n",
      " [1.40511291e-09 1.00000000e+00]\n",
      " [0.00000000e+00 1.00000000e+00]\n",
      " [1.70239094e-08 1.00000000e+00]\n",
      " [9.99993324e-01 6.65705647e-06]\n",
      " [1.36661864e-08 1.00000000e+00]\n",
      " [9.99997139e-01 2.86348927e-06]\n",
      " [2.10034863e-23 1.00000000e+00]\n",
      " [9.99828696e-01 1.71258871e-04]\n",
      " [0.00000000e+00 1.00000000e+00]\n",
      " [6.62161230e-15 1.00000000e+00]\n",
      " [9.99988914e-01 1.11019945e-05]\n",
      " [2.81572852e-15 1.00000000e+00]\n",
      " [2.62777463e-29 1.00000000e+00]\n",
      " [7.81204177e-18 1.00000000e+00]\n",
      " [9.99995589e-01 4.43365207e-06]\n",
      " [9.99322295e-01 6.77709468e-04]\n",
      " [9.99999881e-01 1.74793769e-07]\n",
      " [9.99999285e-01 7.29316810e-07]\n",
      " [0.00000000e+00 1.00000000e+00]\n",
      " [9.98511612e-01 1.48838444e-03]\n",
      " [3.29977638e-06 9.99996662e-01]\n",
      " [0.00000000e+00 1.00000000e+00]\n",
      " [9.23682749e-01 7.63172135e-02]\n",
      " [9.94379342e-01 5.62060066e-03]]\n"
     ]
    },
    {
     "name": "stderr",
     "output_type": "stream",
     "text": [
      "/opt/anaconda3/lib/python3.8/site-packages/keras/engine/sequential.py:425: UserWarning: `model.predict_proba()` is deprecated and will be removed after 2021-01-01. Please use `model.predict()` instead.\n",
      "  warnings.warn('`model.predict_proba()` is deprecated and '\n"
     ]
    },
    {
     "data": {
      "text/plain": [
       "<matplotlib.legend.Legend at 0x108112a90>"
      ]
     },
     "execution_count": 86,
     "metadata": {},
     "output_type": "execute_result"
    },
    {
     "data": {
      "image/png": "[encoded data removed]",
      "text/plain": [
       "<Figure size 864x576 with 1 Axes>"
      ]
     },
     "metadata": {},
     "output_type": "display_data"
    }
   ],
   "source": [
    "## get the predictions of the probabilities of X_test\n",
    "y_pred_prob_test_ANN=model.predict_proba(X_test)\n",
    "print(y_pred_prob_test_ANN)\n",
    "\n",
    "# calculate precision-recall curve\n",
    "precision_ANN, recall_ANN, thresholds_ANN = precision_recall_curve(y_test, y_pred_prob_test_ANN[:,1])\n",
    "\n",
    "\n",
    "    \n",
    "\n",
    "\n",
    "PRauc_ANN= auc(recall_ANN, precision_ANN)\n",
    "#plot precision-recall curve\n",
    "plt.figure(figsize=(12,8))\n",
    "plt.plot(precision_ANN, recall_ANN, label='AUC ANN= '+str(np.around(PRauc_ANN,4)))\n",
    "plt.xlabel('Precision', fontsize = 14)\n",
    "plt.ylabel('Recall', fontsize = 14)\n",
    "plt.title('Precision-Recall Curve', fontsize = 18)\n",
    "plt.legend(loc = 'best')\n",
    "\n",
    "\n",
    "\n",
    "    "
   ]
  },
  {
   "cell_type": "code",
   "execution_count": 48,
   "metadata": {},
   "outputs": [
    {
     "name": "stdout",
     "output_type": "stream",
     "text": [
      "[[95  6]\n",
      " [ 5 91]]\n"
     ]
    }
   ],
   "source": [
    "from sklearn.metrics import confusion_matrix\n",
    "print(confusion_matrix(y_test,y_pred))"
   ]
  },
  {
   "cell_type": "code",
   "execution_count": 49,
   "metadata": {},
   "outputs": [
    {
     "name": "stdout",
     "output_type": "stream",
     "text": [
      "0.9441624365482234\n"
     ]
    }
   ],
   "source": [
    "from sklearn.metrics import accuracy_score\n",
    "accuracy_score_ANN = accuracy_score(y_test,y_pred)\n",
    "print(accuracy_score(y_test,y_pred))"
   ]
  },
  {
   "cell_type": "code",
   "execution_count": 50,
   "metadata": {},
   "outputs": [
    {
     "name": "stdout",
     "output_type": "stream",
     "text": [
      "              precision    recall  f1-score   support\n",
      "\n",
      "           0       0.95      0.94      0.95       101\n",
      "           1       0.94      0.95      0.94        96\n",
      "\n",
      "    accuracy                           0.94       197\n",
      "   macro avg       0.94      0.94      0.94       197\n",
      "weighted avg       0.94      0.94      0.94       197\n",
      "\n"
     ]
    }
   ],
   "source": [
    "from sklearn.metrics import classification_report\n",
    "print(classification_report(y_test,y_pred))\n",
    "\n",
    "precision_score_ANN = precision_score(y_test, y_pred)\n",
    "recall_score_ANN = recall_score(y_test, y_pred)\n",
    "f1_score_ANN = f1_score(y_test, y_pred)"
   ]
  },
  {
   "cell_type": "markdown",
   "metadata": {},
   "source": [
    "# Random Forest"
   ]
  },
  {
   "cell_type": "code",
   "execution_count": 87,
   "metadata": {},
   "outputs": [],
   "source": [
    "# We'll also check random forest (RF) just for comparison. \n",
    "\n",
    "from sklearn.ensemble import RandomForestClassifier\n",
    "\n",
    "#forest_clf = RandomForestClassifier(max_depth = 4, random_state=614)"
   ]
  },
  {
   "cell_type": "code",
   "execution_count": 88,
   "metadata": {},
   "outputs": [],
   "source": [
    "# Have to leave out reshape for this one. This is the sampe 50 / 50 train test split on sample data as defined\n",
    "# in one of the early ANN cells. \n",
    "\n",
    "y_train = np.array(sample_data_train.iloc[:, -1])\n",
    "\n",
    "pipe_RF = Pipeline([('preprocess',StandardScaler()),\n",
    "                ('RandomForest',RandomForestClassifier(max_depth = 4, random_state=614))])\n",
    "\n",
    "\n",
    "pipe_RF.fit(X_train,y_train)\n",
    "\n",
    "# The RF prediction.\n",
    "\n",
    "y_pred_RF = pipe_RF.predict(X_test)\n"
   ]
  },
  {
   "cell_type": "code",
   "execution_count": 89,
   "metadata": {},
   "outputs": [
    {
     "name": "stdout",
     "output_type": "stream",
     "text": [
      "[[5.80534428e-05 9.99941947e-01]\n",
      " [6.07091588e-03 9.93929084e-01]\n",
      " [2.50126414e-03 9.97498736e-01]\n",
      " ...\n",
      " [1.07142857e-02 9.89285714e-01]\n",
      " [9.29258023e-01 7.07419772e-02]\n",
      " [8.96231201e-03 9.91037688e-01]]\n"
     ]
    }
   ],
   "source": [
    "#predict the probabilities\n",
    "y_pred_prob_RF=pipe_RF.predict_proba(X_train)\n",
    "print(y_pred_prob_RF)\n",
    "\n",
    "#now we can get the ROC\n",
    "roc_curve(y_train,y_pred_prob_RF[:,1])\n",
    "\n",
    "#we get the fpr,tpr,cutoffs\n",
    "fpr_RF,tpr_RF,cutoffs_RF = roc_curve(y_train,y_pred_prob_RF[:,1])\n",
    "\n"
   ]
  },
  {
   "cell_type": "code",
   "execution_count": 90,
   "metadata": {},
   "outputs": [
    {
     "name": "stdout",
     "output_type": "stream",
     "text": [
      "0.9914361001317522\n"
     ]
    }
   ],
   "source": [
    "#now we can get the AUC\n",
    "auc_RF=roc_auc_score(y_train,y_pred_prob_RF[:,1])\n",
    "print(auc_RF)"
   ]
  },
  {
   "cell_type": "code",
   "execution_count": 91,
   "metadata": {},
   "outputs": [
    {
     "data": {
      "image/png": "[encoded data removed]",
      "text/plain": [
       "<Figure size 864x576 with 1 Axes>"
      ]
     },
     "metadata": {},
     "output_type": "display_data"
    }
   ],
   "source": [
    "#plot ROC with AUC\n",
    "plt.figure(figsize=(12,8))\n",
    "\n",
    "plt.plot(fpr_RF,tpr_RF,label='AUC RF= '+str(np.around(auc_RF,4)))\n",
    "\n",
    "\n",
    "\n",
    "plt.xlabel(\"False Positive Rate\",fontsize=16)\n",
    "plt.ylabel(\"True Positive Rate\",fontsize=16)\n",
    "\n",
    "plt.title(\"ROC Curve\", fontsize=18)\n",
    "plt.xticks(fontsize=12)\n",
    "plt.yticks(fontsize=12)\n",
    "plt.legend(loc='best')\n",
    "plt.show()"
   ]
  },
  {
   "cell_type": "code",
   "execution_count": 92,
   "metadata": {},
   "outputs": [
    {
     "name": "stdout",
     "output_type": "stream",
     "text": [
      "[[3.61738397e-01 6.38261603e-01]\n",
      " [1.81790899e-01 8.18209101e-01]\n",
      " [7.86553975e-01 2.13446025e-01]\n",
      " [9.40670018e-01 5.93299821e-02]\n",
      " [9.15950391e-01 8.40496086e-02]\n",
      " [9.37401774e-01 6.25982257e-02]\n",
      " [3.39743584e-04 9.99660256e-01]\n",
      " [9.34485970e-01 6.55140301e-02]\n",
      " [8.66086566e-01 1.33913434e-01]\n",
      " [9.24173695e-01 7.58263051e-02]\n",
      " [9.23456827e-01 7.65431726e-02]\n",
      " [8.78289221e-01 1.21710779e-01]\n",
      " [5.80534428e-05 9.99941947e-01]\n",
      " [8.70155709e-01 1.29844291e-01]\n",
      " [9.64743584e-04 9.99035256e-01]\n",
      " [1.72472011e-03 9.98275280e-01]\n",
      " [9.23755246e-01 7.62447541e-02]\n",
      " [8.96598480e-01 1.03401520e-01]\n",
      " [9.37422534e-01 6.25774655e-02]\n",
      " [3.39743584e-04 9.99660256e-01]\n",
      " [8.01595490e-01 1.98404510e-01]\n",
      " [9.08115639e-01 9.18843612e-02]\n",
      " [4.22632826e-02 9.57736717e-01]\n",
      " [3.38153490e-01 6.61846510e-01]\n",
      " [6.67121212e-01 3.32878788e-01]\n",
      " [1.09367585e-02 9.89063241e-01]\n",
      " [9.28899222e-01 7.11007779e-02]\n",
      " [9.25096446e-01 7.49035537e-02]\n",
      " [9.28902992e-01 7.10970083e-02]\n",
      " [1.50222218e-03 9.98497778e-01]\n",
      " [5.80534428e-05 9.99941947e-01]\n",
      " [9.16620991e-01 8.33790089e-02]\n",
      " [9.07153418e-01 9.28465822e-02]\n",
      " [3.29364389e-03 9.96706356e-01]\n",
      " [8.89563462e-01 1.10436538e-01]\n",
      " [9.24196097e-01 7.58039034e-02]\n",
      " [9.23285962e-01 7.67140378e-02]\n",
      " [4.45685474e-02 9.55431453e-01]\n",
      " [9.40079913e-01 5.99200873e-02]\n",
      " [5.80534428e-05 9.99941947e-01]\n",
      " [7.45659812e-01 2.54340188e-01]\n",
      " [8.53136220e-01 1.46863780e-01]\n",
      " [7.74593500e-01 2.25406500e-01]\n",
      " [9.23100672e-01 7.68993279e-02]\n",
      " [7.53057988e-01 2.46942012e-01]\n",
      " [5.80534428e-05 9.99941947e-01]\n",
      " [9.40745008e-02 9.05925499e-01]\n",
      " [8.46027623e-01 1.53972377e-01]\n",
      " [9.02531881e-01 9.74681186e-02]\n",
      " [5.80534428e-05 9.99941947e-01]\n",
      " [9.16157778e-01 8.38422221e-02]\n",
      " [7.12840620e-01 2.87159380e-01]\n",
      " [8.97266472e-01 1.02733528e-01]\n",
      " [5.80534428e-05 9.99941947e-01]\n",
      " [5.80534428e-05 9.99941947e-01]\n",
      " [7.93852431e-01 2.06147569e-01]\n",
      " [5.80534428e-05 9.99941947e-01]\n",
      " [9.43214363e-01 5.67856366e-02]\n",
      " [9.27487740e-01 7.25122602e-02]\n",
      " [6.30408171e-01 3.69591829e-01]\n",
      " [1.93800729e-01 8.06199271e-01]\n",
      " [9.33491176e-01 6.65088243e-02]\n",
      " [3.39743584e-04 9.99660256e-01]\n",
      " [8.75954076e-01 1.24045924e-01]\n",
      " [2.11899597e-04 9.99788100e-01]\n",
      " [7.15584583e-01 2.84415417e-01]\n",
      " [1.35452329e-02 9.86454767e-01]\n",
      " [8.81536244e-01 1.18463756e-01]\n",
      " [5.80534428e-05 9.99941947e-01]\n",
      " [9.37627552e-01 6.23724475e-02]\n",
      " [6.97850330e-02 9.30214967e-01]\n",
      " [9.30414821e-01 6.95851791e-02]\n",
      " [9.22171680e-01 7.78283204e-02]\n",
      " [8.43714129e-01 1.56285871e-01]\n",
      " [1.00000000e-02 9.90000000e-01]\n",
      " [2.41131309e-03 9.97588687e-01]\n",
      " [4.68775237e-01 5.31224763e-01]\n",
      " [9.32114293e-01 6.78857071e-02]\n",
      " [9.15402671e-01 8.45973288e-02]\n",
      " [4.27899797e-01 5.72100203e-01]\n",
      " [5.80534428e-05 9.99941947e-01]\n",
      " [9.34868800e-01 6.51311998e-02]\n",
      " [3.33103523e-01 6.66896477e-01]\n",
      " [7.31382674e-01 2.68617326e-01]\n",
      " [1.50222218e-03 9.98497778e-01]\n",
      " [5.16061831e-03 9.94839382e-01]\n",
      " [1.58974358e-03 9.98410256e-01]\n",
      " [9.10024518e-01 8.99754817e-02]\n",
      " [6.65627950e-01 3.34372050e-01]\n",
      " [9.32398761e-01 6.76012388e-02]\n",
      " [2.81690141e-04 9.99718310e-01]\n",
      " [9.33269396e-01 6.67306035e-02]\n",
      " [8.96943241e-01 1.03056759e-01]\n",
      " [2.09536962e-02 9.79046304e-01]\n",
      " [9.64743584e-04 9.99035256e-01]\n",
      " [3.39743584e-04 9.99660256e-01]\n",
      " [5.80534428e-05 9.99941947e-01]\n",
      " [9.95975855e-04 9.99004024e-01]\n",
      " [7.67198943e-03 9.92328011e-01]\n",
      " [9.27677176e-01 7.23228238e-02]\n",
      " [5.57371217e-01 4.42628783e-01]\n",
      " [9.25424127e-01 7.45758735e-02]\n",
      " [9.36612014e-01 6.33879863e-02]\n",
      " [8.01620439e-01 1.98379561e-01]\n",
      " [9.35006312e-01 6.49936876e-02]\n",
      " [6.88580793e-04 9.99311419e-01]\n",
      " [9.42790803e-01 5.72091968e-02]\n",
      " [6.76259772e-01 3.23740228e-01]\n",
      " [4.74720109e-04 9.99525280e-01]\n",
      " [3.39743584e-04 9.99660256e-01]\n",
      " [7.95744215e-01 2.04255785e-01]\n",
      " [8.11009453e-01 1.88990547e-01]\n",
      " [8.40473107e-01 1.59526893e-01]\n",
      " [8.65269851e-01 1.34730149e-01]\n",
      " [9.38528280e-01 6.14717204e-02]\n",
      " [9.38064450e-01 6.19355505e-02]\n",
      " [8.31287110e-01 1.68712890e-01]\n",
      " [9.09018861e-01 9.09811390e-02]\n",
      " [3.39743584e-04 9.99660256e-01]\n",
      " [5.93317823e-02 9.40668218e-01]\n",
      " [6.48911296e-01 3.51088704e-01]\n",
      " [7.86977316e-01 2.13022684e-01]\n",
      " [3.39743584e-04 9.99660256e-01]\n",
      " [2.76164252e-02 9.72383575e-01]\n",
      " [2.17199308e-02 9.78280069e-01]\n",
      " [9.30645916e-01 6.93540842e-02]\n",
      " [1.82914318e-01 8.17085682e-01]\n",
      " [3.39743584e-04 9.99660256e-01]\n",
      " [5.37800962e-03 9.94621990e-01]\n",
      " [9.37106354e-01 6.28936460e-02]\n",
      " [4.28591202e-03 9.95714088e-01]\n",
      " [7.12929678e-01 2.87070322e-01]\n",
      " [9.25286566e-01 7.47134337e-02]\n",
      " [9.25765161e-01 7.42348386e-02]\n",
      " [5.80534428e-05 9.99941947e-01]\n",
      " [6.76941734e-02 9.32305827e-01]\n",
      " [3.39743584e-04 9.99660256e-01]\n",
      " [7.16938631e-01 2.83061369e-01]\n",
      " [5.80534428e-05 9.99941947e-01]\n",
      " [2.78397708e-02 9.72160229e-01]\n",
      " [8.51794999e-01 1.48205001e-01]\n",
      " [5.80534428e-05 9.99941947e-01]\n",
      " [4.90717400e-01 5.09282600e-01]\n",
      " [9.33196118e-01 6.68038823e-02]\n",
      " [8.69462622e-01 1.30537378e-01]\n",
      " [7.91823746e-01 2.08176254e-01]\n",
      " [1.26988344e-01 8.73011656e-01]\n",
      " [9.36329731e-01 6.36702685e-02]\n",
      " [9.13600773e-01 8.63992266e-02]\n",
      " [0.00000000e+00 1.00000000e+00]\n",
      " [5.80534428e-05 9.99941947e-01]\n",
      " [8.98789204e-01 1.01210796e-01]\n",
      " [9.33689750e-01 6.63102501e-02]\n",
      " [2.11899597e-04 9.99788100e-01]\n",
      " [9.01010243e-01 9.89897570e-02]\n",
      " [6.88580793e-04 9.99311419e-01]\n",
      " [8.66462675e-01 1.33537325e-01]\n",
      " [7.98006852e-01 2.01993148e-01]\n",
      " [5.80534428e-05 9.99941947e-01]\n",
      " [8.53826497e-01 1.46173503e-01]\n",
      " [9.36661684e-01 6.33383159e-02]\n",
      " [5.80534428e-05 9.99941947e-01]\n",
      " [9.23628771e-01 7.63712289e-02]\n",
      " [1.88961081e-02 9.81103892e-01]\n",
      " [1.06413868e-02 9.89358613e-01]\n",
      " [5.80534428e-05 9.99941947e-01]\n",
      " [9.33672175e-01 6.63278246e-02]\n",
      " [5.80534428e-05 9.99941947e-01]\n",
      " [8.64148555e-01 1.35851445e-01]\n",
      " [6.66793080e-03 9.93332069e-01]\n",
      " [9.23651032e-01 7.63489679e-02]\n",
      " [9.25495709e-01 7.45042908e-02]\n",
      " [1.50222218e-03 9.98497778e-01]\n",
      " [1.31435465e-01 8.68564535e-01]\n",
      " [5.80534428e-05 9.99941947e-01]\n",
      " [1.12784945e-01 8.87215055e-01]\n",
      " [8.62739972e-01 1.37260028e-01]\n",
      " [1.18309084e-01 8.81690916e-01]\n",
      " [9.34115450e-01 6.58845502e-02]\n",
      " [5.80534428e-05 9.99941947e-01]\n",
      " [9.35762183e-01 6.42378170e-02]\n",
      " [5.80534428e-05 9.99941947e-01]\n",
      " [4.69206921e-02 9.53079308e-01]\n",
      " [9.33434449e-01 6.65655505e-02]\n",
      " [6.54480000e-02 9.34552000e-01]\n",
      " [3.39743584e-04 9.99660256e-01]\n",
      " [5.16833530e-02 9.48316647e-01]\n",
      " [9.22829435e-01 7.71705655e-02]\n",
      " [9.29882364e-01 7.01176359e-02]\n",
      " [9.35561221e-01 6.44387795e-02]\n",
      " [9.25217369e-01 7.47826310e-02]\n",
      " [1.34837602e-03 9.98651624e-01]\n",
      " [9.39602206e-01 6.03977943e-02]\n",
      " [5.39007877e-01 4.60992123e-01]\n",
      " [5.80534428e-05 9.99941947e-01]\n",
      " [8.05745220e-01 1.94254780e-01]\n",
      " [8.42124456e-01 1.57875544e-01]]\n"
     ]
    },
    {
     "data": {
      "text/plain": [
       "<matplotlib.legend.Legend at 0x159fbf100>"
      ]
     },
     "execution_count": 92,
     "metadata": {},
     "output_type": "execute_result"
    },
    {
     "data": {
      "image/png": "[encoded data removed]",
      "text/plain": [
       "<Figure size 864x576 with 1 Axes>"
      ]
     },
     "metadata": {},
     "output_type": "display_data"
    }
   ],
   "source": [
    "## get the predictions of the probabilities of X_test\n",
    "y_pred_prob_test_RF=pipe_RF.predict_proba(X_test)\n",
    "print(y_pred_prob_test_RF)\n",
    "\n",
    "# calculate precision-recall curve\n",
    "precision_RF, recall_RF, thresholds_RF = precision_recall_curve(y_test, y_pred_prob_test_RF[:,1])\n",
    "\n",
    "\n",
    "    \n",
    "\n",
    "\n",
    "PRauc_RF= auc(recall_RF, precision_RF)\n",
    "#plot precision-recall curve\n",
    "plt.figure(figsize=(12,8))\n",
    "plt.plot(precision_RF, recall_RF, label='AUC RF= '+str(np.around(PRauc_RF,4)))\n",
    "plt.xlabel('Precision', fontsize = 14)\n",
    "plt.ylabel('Recall', fontsize = 14)\n",
    "plt.title('Precision-Recall Curve', fontsize = 18)\n",
    "plt.legend(loc = 'best')\n",
    "\n",
    "    \n",
    "    "
   ]
  },
  {
   "cell_type": "code",
   "execution_count": 56,
   "metadata": {},
   "outputs": [
    {
     "name": "stdout",
     "output_type": "stream",
     "text": [
      "[[100   1]\n",
      " [ 10  86]]\n",
      "\n",
      "\n",
      "0.9441624365482234\n"
     ]
    }
   ],
   "source": [
    "print(confusion_matrix(y_test,y_pred_RF))\n",
    "print('\\n')\n",
    "\n",
    "accuracy_score_RF = accuracy_score(y_test, y_pred_RF)\n",
    "print(accuracy_score(y_test,y_pred_RF))"
   ]
  },
  {
   "cell_type": "code",
   "execution_count": 57,
   "metadata": {},
   "outputs": [
    {
     "name": "stdout",
     "output_type": "stream",
     "text": [
      "              precision    recall  f1-score   support\n",
      "\n",
      "           0       0.91      0.99      0.95       101\n",
      "           1       0.99      0.90      0.94        96\n",
      "\n",
      "    accuracy                           0.94       197\n",
      "   macro avg       0.95      0.94      0.94       197\n",
      "weighted avg       0.95      0.94      0.94       197\n",
      "\n"
     ]
    }
   ],
   "source": [
    "# And the classification report. \n",
    "\n",
    "print(classification_report(y_test,y_pred_RF))\n",
    "\n",
    "precision_score_RF = precision_score(y_test, y_pred_RF)\n",
    "recall_score_RF = recall_score(y_test, y_pred_RF)\n",
    "f1_score_RF = f1_score(y_test, y_pred_RF)"
   ]
  },
  {
   "cell_type": "markdown",
   "metadata": {},
   "source": [
    "# Support Vector Machine"
   ]
  },
  {
   "cell_type": "code",
   "execution_count": null,
   "metadata": {},
   "outputs": [],
   "source": []
  },
  {
   "cell_type": "code",
   "execution_count": null,
   "metadata": {},
   "outputs": [],
   "source": []
  },
  {
   "cell_type": "code",
   "execution_count": null,
   "metadata": {},
   "outputs": [],
   "source": []
  },
  {
   "cell_type": "markdown",
   "metadata": {},
   "source": [
    "# Report"
   ]
  },
  {
   "cell_type": "code",
   "execution_count": 58,
   "metadata": {},
   "outputs": [
    {
     "name": "stdout",
     "output_type": "stream",
     "text": [
      "    Precision score Recall score  f1 score Accuracy score\n",
      "LR         0.864407     0.520408  0.649682       0.999034\n",
      "ANN        0.938144     0.947917  0.943005       0.944162\n",
      "SVM              NA           NA        NA             NA\n",
      "RF         0.988506     0.895833  0.939891       0.944162\n"
     ]
    }
   ],
   "source": [
    "#Report\n",
    "\n",
    "df_report = pd.DataFrame({ 'Precision score': [precision_score_LR, precision_score_ANN, 'NA', precision_score_RF],\n",
    "                   'Recall score': [recall_score_LR, recall_score_ANN,'NA', recall_score_RF],\n",
    "                          'f1 score': [f1_score_LR, f1_score_ANN,'NA', f1_score_RF],\n",
    "                          'Accuracy score': [accuracy_score_LR, accuracy_score_ANN ,'NA', accuracy_score_RF],\n",
    "                         },\n",
    "                  index=['LR','ANN', 'SVM', 'RF'])\n",
    "print(df_report)\n",
    "\n"
   ]
  },
  {
   "cell_type": "code",
   "execution_count": 59,
   "metadata": {},
   "outputs": [
    {
     "data": {
      "image/png": "[encoded data removed]",
      "text/plain": [
       "<Figure size 864x576 with 1 Axes>"
      ]
     },
     "metadata": {},
     "output_type": "display_data"
    }
   ],
   "source": [
    "#plot ROC with AUC\n",
    "plt.figure(figsize=(12,8))\n",
    "\n",
    "plt.plot(fpr_ANN,tpr_ANN,label='AUC ANN= '+str(np.around(auc_ANN,4)))\n",
    "plt.plot(fpr_LR,tpr_LR,label='AUC LR= '+str(np.around(auc_lR,4)))\n",
    "plt.plot(fpr_RF,tpr_RF,label='AUC RF= '+str(np.around(auc_RF,4)))\n",
    "\n",
    "\n",
    "\n",
    "plt.xlabel(\"False Positive Rate\",fontsize=16)\n",
    "plt.ylabel(\"True Positive Rate\",fontsize=16)\n",
    "\n",
    "plt.title(\"ROC Curve\", fontsize=18)\n",
    "plt.xticks(fontsize=12)\n",
    "plt.yticks(fontsize=12)\n",
    "plt.legend(loc='best')\n",
    "plt.show()"
   ]
  },
  {
   "cell_type": "code",
   "execution_count": 62,
   "metadata": {},
   "outputs": [
    {
     "data": {
      "text/plain": [
       "<matplotlib.legend.Legend at 0x15c743850>"
      ]
     },
     "execution_count": 62,
     "metadata": {},
     "output_type": "execute_result"
    },
    {
     "data": {
      "image/png": "[encoded data removed]",
      "text/plain": [
       "<Figure size 864x576 with 1 Axes>"
      ]
     },
     "metadata": {},
     "output_type": "display_data"
    }
   ],
   "source": [
    "#plot precision-recall curve\n",
    "\n",
    "plt.figure(figsize=(12,8))\n",
    "\n",
    "plt.plot(precision_LR, recall_LR, label='AUC LR= '+str(np.around(PRauc_LR,4)))\n",
    "plt.plot(precision_ANN, recall_ANN, label='AUC ANN= '+str(np.around(PRauc_ANN,4)))\n",
    "plt.plot(precision_RF, recall_RF, label='AUC RF= '+str(np.around(PRauc_RF,4)))\n",
    "\n",
    "\n",
    "plt.xlabel('Precision', fontsize = 14)\n",
    "plt.ylabel('Recall', fontsize = 14)\n",
    "plt.title('Precision-Recall Curve', fontsize = 18)\n",
    "plt.legend(loc = 'best')"
   ]
  },
  {
   "cell_type": "code",
   "execution_count": null,
   "metadata": {},
   "outputs": [],
   "source": []
  }
 ],
 "metadata": {
  "kernelspec": {
   "display_name": "Python 3",
   "language": "python",
   "name": "python3"
  },
  "language_info": {
   "codemirror_mode": {
    "name": "ipython",
    "version": 3
   },
   "file_extension": ".py",
   "mimetype": "text/x-python",
   "name": "python",
   "nbconvert_exporter": "python",
   "pygments_lexer": "ipython3",
   "version": "3.8.5"
  }
 },
 "nbformat": 4,
 "nbformat_minor": 4
}
